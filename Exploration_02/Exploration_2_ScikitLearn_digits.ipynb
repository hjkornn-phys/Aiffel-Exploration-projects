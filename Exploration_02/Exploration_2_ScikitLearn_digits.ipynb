{
 "cells": [
  {
   "cell_type": "markdown",
   "id": "detected-quick",
   "metadata": {},
   "source": [
    "# digits dataset 분류하기"
   ]
  },
  {
   "cell_type": "markdown",
   "id": "rocky-league",
   "metadata": {},
   "source": [
    "## import modules"
   ]
  },
  {
   "cell_type": "code",
   "execution_count": 2,
   "id": "separated-editor",
   "metadata": {},
   "outputs": [],
   "source": [
    "from sklearn.datasets import load_digits\n",
    "from sklearn.model_selection import train_test_split\n",
    "from sklearn.metrics import classification_report"
   ]
  },
  {
   "cell_type": "markdown",
   "id": "convenient-freedom",
   "metadata": {},
   "source": [
    "## load dataset\n",
    "    * feature exploaration\n",
    "    * feature selection"
   ]
  },
  {
   "cell_type": "code",
   "execution_count": 3,
   "id": "quick-attack",
   "metadata": {},
   "outputs": [],
   "source": [
    "digits = load_digits()"
   ]
  },
  {
   "cell_type": "code",
   "execution_count": 4,
   "id": "third-proportion",
   "metadata": {},
   "outputs": [
    {
     "data": {
      "text/plain": [
       "['DESCR', 'data', 'feature_names', 'frame', 'images', 'target', 'target_names']"
      ]
     },
     "execution_count": 4,
     "metadata": {},
     "output_type": "execute_result"
    }
   ],
   "source": [
    "dir(digits)"
   ]
  },
  {
   "cell_type": "code",
   "execution_count": 5,
   "id": "passing-stephen",
   "metadata": {},
   "outputs": [
    {
     "data": {
      "text/plain": [
       "array([0, 1, 2, 3, 4, 5, 6, 7, 8, 9])"
      ]
     },
     "execution_count": 5,
     "metadata": {},
     "output_type": "execute_result"
    }
   ],
   "source": [
    "digits.target_names"
   ]
  },
  {
   "cell_type": "code",
   "execution_count": 6,
   "id": "crude-pricing",
   "metadata": {
    "scrolled": true
   },
   "outputs": [
    {
     "data": {
      "text/plain": [
       "['pixel_0_0',\n",
       " 'pixel_0_1',\n",
       " 'pixel_0_2',\n",
       " 'pixel_0_3',\n",
       " 'pixel_0_4',\n",
       " 'pixel_0_5',\n",
       " 'pixel_0_6',\n",
       " 'pixel_0_7',\n",
       " 'pixel_1_0',\n",
       " 'pixel_1_1',\n",
       " 'pixel_1_2',\n",
       " 'pixel_1_3',\n",
       " 'pixel_1_4',\n",
       " 'pixel_1_5',\n",
       " 'pixel_1_6',\n",
       " 'pixel_1_7',\n",
       " 'pixel_2_0',\n",
       " 'pixel_2_1',\n",
       " 'pixel_2_2',\n",
       " 'pixel_2_3',\n",
       " 'pixel_2_4',\n",
       " 'pixel_2_5',\n",
       " 'pixel_2_6',\n",
       " 'pixel_2_7',\n",
       " 'pixel_3_0',\n",
       " 'pixel_3_1',\n",
       " 'pixel_3_2',\n",
       " 'pixel_3_3',\n",
       " 'pixel_3_4',\n",
       " 'pixel_3_5',\n",
       " 'pixel_3_6',\n",
       " 'pixel_3_7',\n",
       " 'pixel_4_0',\n",
       " 'pixel_4_1',\n",
       " 'pixel_4_2',\n",
       " 'pixel_4_3',\n",
       " 'pixel_4_4',\n",
       " 'pixel_4_5',\n",
       " 'pixel_4_6',\n",
       " 'pixel_4_7',\n",
       " 'pixel_5_0',\n",
       " 'pixel_5_1',\n",
       " 'pixel_5_2',\n",
       " 'pixel_5_3',\n",
       " 'pixel_5_4',\n",
       " 'pixel_5_5',\n",
       " 'pixel_5_6',\n",
       " 'pixel_5_7',\n",
       " 'pixel_6_0',\n",
       " 'pixel_6_1',\n",
       " 'pixel_6_2',\n",
       " 'pixel_6_3',\n",
       " 'pixel_6_4',\n",
       " 'pixel_6_5',\n",
       " 'pixel_6_6',\n",
       " 'pixel_6_7',\n",
       " 'pixel_7_0',\n",
       " 'pixel_7_1',\n",
       " 'pixel_7_2',\n",
       " 'pixel_7_3',\n",
       " 'pixel_7_4',\n",
       " 'pixel_7_5',\n",
       " 'pixel_7_6',\n",
       " 'pixel_7_7']"
      ]
     },
     "execution_count": 6,
     "metadata": {},
     "output_type": "execute_result"
    }
   ],
   "source": [
    "digits.feature_names  # 8X8 그리드인 것을 알 수 있다"
   ]
  },
  {
   "cell_type": "code",
   "execution_count": 7,
   "id": "mexican-ontario",
   "metadata": {
    "scrolled": true
   },
   "outputs": [
    {
     "name": "stdout",
     "output_type": "stream",
     "text": [
      ".. _digits_dataset:\n",
      "\n",
      "Optical recognition of handwritten digits dataset\n",
      "--------------------------------------------------\n",
      "\n",
      "**Data Set Characteristics:**\n",
      "\n",
      "    :Number of Instances: 5620\n",
      "    :Number of Attributes: 64\n",
      "    :Attribute Information: 8x8 image of integer pixels in the range 0..16.\n",
      "    :Missing Attribute Values: None\n",
      "    :Creator: E. Alpaydin (alpaydin '@' boun.edu.tr)\n",
      "    :Date: July; 1998\n",
      "\n",
      "This is a copy of the test set of the UCI ML hand-written digits datasets\n",
      "https://archive.ics.uci.edu/ml/datasets/Optical+Recognition+of+Handwritten+Digits\n",
      "\n",
      "The data set contains images of hand-written digits: 10 classes where\n",
      "each class refers to a digit.\n",
      "\n",
      "Preprocessing programs made available by NIST were used to extract\n",
      "normalized bitmaps of handwritten digits from a preprinted form. From a\n",
      "total of 43 people, 30 contributed to the training set and different 13\n",
      "to the test set. 32x32 bitmaps are divided into nonoverlapping blocks of\n",
      "4x4 and the number of on pixels are counted in each block. This generates\n",
      "an input matrix of 8x8 where each element is an integer in the range\n",
      "0..16. This reduces dimensionality and gives invariance to small\n",
      "distortions.\n",
      "\n",
      "For info on NIST preprocessing routines, see M. D. Garris, J. L. Blue, G.\n",
      "T. Candela, D. L. Dimmick, J. Geist, P. J. Grother, S. A. Janet, and C.\n",
      "L. Wilson, NIST Form-Based Handprint Recognition System, NISTIR 5469,\n",
      "1994.\n",
      "\n",
      ".. topic:: References\n",
      "\n",
      "  - C. Kaynak (1995) Methods of Combining Multiple Classifiers and Their\n",
      "    Applications to Handwritten Digit Recognition, MSc Thesis, Institute of\n",
      "    Graduate Studies in Science and Engineering, Bogazici University.\n",
      "  - E. Alpaydin, C. Kaynak (1998) Cascading Classifiers, Kybernetika.\n",
      "  - Ken Tang and Ponnuthurai N. Suganthan and Xi Yao and A. Kai Qin.\n",
      "    Linear dimensionalityreduction using relevance weighted LDA. School of\n",
      "    Electrical and Electronic Engineering Nanyang Technological University.\n",
      "    2005.\n",
      "  - Claudio Gentile. A New Approximate Maximal Margin Classification\n",
      "    Algorithm. NIPS. 2000.\n"
     ]
    }
   ],
   "source": [
    "print(digits.DESCR)"
   ]
  },
  {
   "cell_type": "markdown",
   "id": "difficult-identity",
   "metadata": {},
   "source": [
    "* 5620개의 data가 있다고 적혀 있지만, 실제로는 1797개의 데이터가 있다. \n",
    "* 각 data마다 64개의 feature(pixel)이 있는 것을 확인했다.\n",
    "* 각 픽셀의 값은 0부터 16의 range에 있다. 이때 0과 16을 포함한다.\n",
    "* label은 0부터 9까지의 숫자이다.\n",
    "* 각 픽셀이 하나의 feature이므로, 모든 feature를 사용한다."
   ]
  },
  {
   "cell_type": "code",
   "execution_count": 50,
   "id": "severe-section",
   "metadata": {},
   "outputs": [
    {
     "data": {
      "text/plain": [
       "(1797, 64)"
      ]
     },
     "execution_count": 50,
     "metadata": {},
     "output_type": "execute_result"
    }
   ],
   "source": [
    "digits.data.shape"
   ]
  },
  {
   "cell_type": "markdown",
   "id": "renewable-garlic",
   "metadata": {},
   "source": [
    "마지막 10개의 데이터를 살펴보자"
   ]
  },
  {
   "cell_type": "code",
   "execution_count": 51,
   "id": "afraid-physics",
   "metadata": {},
   "outputs": [
    {
     "data": {
      "image/png": "[encoded data removed]",
      "text/plain": [
       "<Figure size 432x288 with 10 Axes>"
      ]
     },
     "metadata": {
      "needs_background": "light"
     },
     "output_type": "display_data"
    }
   ],
   "source": [
    "import matplotlib.pyplot as plt\n",
    "for i in range(10):\n",
    "    plt.subplot(2, 5, i+1)\n",
    "    plt.imshow(digits.data[-i-1].reshape(8, 8), cmap='gray')\n",
    "    plt.axis('off')\n",
    "plt.show()"
   ]
  },
  {
   "cell_type": "code",
   "execution_count": 52,
   "id": "removable-stuff",
   "metadata": {
    "scrolled": false
   },
   "outputs": [
    {
     "data": {
      "text/plain": [
       "array([ 0.,  0., 10., 14.,  8.,  1.,  0.,  0.,  0.,  2., 16., 14.,  6.,\n",
       "        1.,  0.,  0.,  0.,  0., 15., 15.,  8., 15.,  0.,  0.,  0.,  0.,\n",
       "        5., 16., 16., 10.,  0.,  0.,  0.,  0., 12., 15., 15., 12.,  0.,\n",
       "        0.,  0.,  4., 16.,  6.,  4., 16.,  6.,  0.,  0.,  8., 16., 10.,\n",
       "        8., 16.,  8.,  0.,  0.,  1.,  8., 12., 14., 12.,  1.,  0.])"
      ]
     },
     "execution_count": 52,
     "metadata": {},
     "output_type": "execute_result"
    }
   ],
   "source": [
    "digits.data[-1]"
   ]
  },
  {
   "cell_type": "markdown",
   "id": "periodic-reverse",
   "metadata": {},
   "source": [
    "## Splitting Data"
   ]
  },
  {
   "cell_type": "markdown",
   "id": "pleasant-hurricane",
   "metadata": {},
   "source": [
    "validation, test를 하기 위해 10%는 validation으로, 20%는 test로 활용한다."
   ]
  },
  {
   "cell_type": "code",
   "execution_count": 53,
   "id": "coated-exhibition",
   "metadata": {},
   "outputs": [],
   "source": [
    "X, y = load_digits(return_X_y=True)"
   ]
  },
  {
   "cell_type": "code",
   "execution_count": 54,
   "id": "regional-combine",
   "metadata": {},
   "outputs": [],
   "source": [
    "X_trainval, X_test, y_trainval, y_test = train_test_split(X,y,test_size=0.2, random_state=42, stratify=y)"
   ]
  },
  {
   "cell_type": "code",
   "execution_count": 55,
   "id": "literary-chart",
   "metadata": {},
   "outputs": [],
   "source": [
    "X_train, X_val, y_train, y_val = train_test_split(X_trainval, y_trainval, test_size=0.125, random_state=42, stratify=y_trainval)"
   ]
  },
  {
   "cell_type": "code",
   "execution_count": 56,
   "id": "stuffed-diana",
   "metadata": {},
   "outputs": [
    {
     "name": "stdout",
     "output_type": "stream",
     "text": [
      "(1257, 64)\n",
      "(180, 64)\n",
      "(360, 64)\n"
     ]
    }
   ],
   "source": [
    "print(X_train.shape, X_val.shape, X_test.shape, sep='\\n')"
   ]
  },
  {
   "cell_type": "markdown",
   "id": "hindu-stephen",
   "metadata": {},
   "source": [
    "## Training Model "
   ]
  },
  {
   "cell_type": "code",
   "execution_count": 57,
   "id": "sorted-sewing",
   "metadata": {},
   "outputs": [],
   "source": [
    "from sklearn.tree import DecisionTreeClassifier\n",
    "from sklearn.ensemble import RandomForestClassifier\n",
    "from sklearn import svm\n",
    "from sklearn.linear_model import SGDClassifier\n",
    "from sklearn.linear_model import LogisticRegression\n",
    "from sklearn.metrics import classification_report"
   ]
  },
  {
   "cell_type": "code",
   "execution_count": 58,
   "id": "processed-awareness",
   "metadata": {},
   "outputs": [
    {
     "name": "stdout",
     "output_type": "stream",
     "text": [
      "              precision    recall  f1-score   support\n",
      "\n",
      "           0       0.95      1.00      0.97        18\n",
      "           1       0.85      0.94      0.89        18\n",
      "           2       0.79      0.83      0.81        18\n",
      "           3       0.71      0.67      0.69        18\n",
      "           4       0.76      0.89      0.82        18\n",
      "           5       0.83      0.83      0.83        18\n",
      "           6       1.00      1.00      1.00        18\n",
      "           7       0.85      0.94      0.89        18\n",
      "           8       1.00      0.61      0.76        18\n",
      "           9       0.76      0.72      0.74        18\n",
      "\n",
      "    accuracy                           0.84       180\n",
      "   macro avg       0.85      0.84      0.84       180\n",
      "weighted avg       0.85      0.84      0.84       180\n",
      "\n"
     ]
    }
   ],
   "source": [
    "# DecisionTreeClassifier\n",
    "\n",
    "\n",
    "decision_tree = DecisionTreeClassifier(random_state=36)\n",
    "decision_tree.fit(X_train, y_train)\n",
    "y_pred = decision_tree.predict(X_val)\n",
    "\n",
    "print(classification_report(y_val, y_pred))"
   ]
  },
  {
   "cell_type": "code",
   "execution_count": 59,
   "id": "russian-south",
   "metadata": {},
   "outputs": [
    {
     "name": "stdout",
     "output_type": "stream",
     "text": [
      "              precision    recall  f1-score   support\n",
      "\n",
      "           0       1.00      1.00      1.00        18\n",
      "           1       1.00      1.00      1.00        18\n",
      "           2       1.00      1.00      1.00        18\n",
      "           3       1.00      1.00      1.00        18\n",
      "           4       1.00      0.94      0.97        18\n",
      "           5       1.00      1.00      1.00        18\n",
      "           6       1.00      1.00      1.00        18\n",
      "           7       0.95      1.00      0.97        18\n",
      "           8       1.00      1.00      1.00        18\n",
      "           9       1.00      1.00      1.00        18\n",
      "\n",
      "    accuracy                           0.99       180\n",
      "   macro avg       0.99      0.99      0.99       180\n",
      "weighted avg       0.99      0.99      0.99       180\n",
      "\n"
     ]
    }
   ],
   "source": [
    "# RandomForestClassifier\n",
    "\n",
    "\n",
    "random_forest = RandomForestClassifier(random_state=36)\n",
    "random_forest.fit(X_train, y_train)\n",
    "y_pred = random_forest.predict(X_val)\n",
    "\n",
    "print(classification_report(y_val, y_pred))"
   ]
  },
  {
   "cell_type": "code",
   "execution_count": 60,
   "id": "honest-brazilian",
   "metadata": {},
   "outputs": [
    {
     "name": "stdout",
     "output_type": "stream",
     "text": [
      "              precision    recall  f1-score   support\n",
      "\n",
      "           0       1.00      1.00      1.00        18\n",
      "           1       1.00      1.00      1.00        18\n",
      "           2       1.00      1.00      1.00        18\n",
      "           3       1.00      1.00      1.00        18\n",
      "           4       1.00      1.00      1.00        18\n",
      "           5       1.00      1.00      1.00        18\n",
      "           6       1.00      1.00      1.00        18\n",
      "           7       1.00      1.00      1.00        18\n",
      "           8       1.00      1.00      1.00        18\n",
      "           9       1.00      1.00      1.00        18\n",
      "\n",
      "    accuracy                           1.00       180\n",
      "   macro avg       1.00      1.00      1.00       180\n",
      "weighted avg       1.00      1.00      1.00       180\n",
      "\n"
     ]
    }
   ],
   "source": [
    "# SupportVectorClassifier\n",
    "\n",
    "\n",
    "svm_model = svm.SVC(random_state=36)\n",
    "svm_model.fit(X_train, y_train)\n",
    "y_pred = svm_model.predict(X_val)\n",
    "\n",
    "print(classification_report(y_val, y_pred))"
   ]
  },
  {
   "cell_type": "code",
   "execution_count": 71,
   "id": "allied-migration",
   "metadata": {},
   "outputs": [
    {
     "name": "stdout",
     "output_type": "stream",
     "text": [
      "              precision    recall  f1-score   support\n",
      "\n",
      "           0       1.00      1.00      1.00        18\n",
      "           1       1.00      1.00      1.00        18\n",
      "           2       1.00      1.00      1.00        18\n",
      "           3       1.00      1.00      1.00        18\n",
      "           4       1.00      1.00      1.00        18\n",
      "           5       1.00      1.00      1.00        18\n",
      "           6       1.00      1.00      1.00        18\n",
      "           7       1.00      1.00      1.00        18\n",
      "           8       1.00      1.00      1.00        18\n",
      "           9       1.00      1.00      1.00        18\n",
      "\n",
      "    accuracy                           1.00       180\n",
      "   macro avg       1.00      1.00      1.00       180\n",
      "weighted avg       1.00      1.00      1.00       180\n",
      "\n"
     ]
    }
   ],
   "source": [
    "# Stochastic Gradient Descent\n",
    "# 일반적인 머신러닝 모델에 SGD 기법을 사용합니다.\n",
    "\n",
    "\n",
    "sgd_model = SGDClassifier(loss='modified_huber', random_state=36)\n",
    "sgd_model.fit(X_train, y_train)\n",
    "y_pred = svm_model.predict(X_val)\n",
    "\n",
    "print(classification_report(y_val, y_pred))"
   ]
  },
  {
   "cell_type": "code",
   "execution_count": 72,
   "id": "greater-absorption",
   "metadata": {},
   "outputs": [
    {
     "name": "stdout",
     "output_type": "stream",
     "text": [
      "              precision    recall  f1-score   support\n",
      "\n",
      "           0       1.00      1.00      1.00        18\n",
      "           1       0.94      0.89      0.91        18\n",
      "           2       1.00      1.00      1.00        18\n",
      "           3       1.00      1.00      1.00        18\n",
      "           4       0.89      0.94      0.92        18\n",
      "           5       1.00      1.00      1.00        18\n",
      "           6       0.95      1.00      0.97        18\n",
      "           7       1.00      1.00      1.00        18\n",
      "           8       1.00      0.94      0.97        18\n",
      "           9       0.94      0.94      0.94        18\n",
      "\n",
      "    accuracy                           0.97       180\n",
      "   macro avg       0.97      0.97      0.97       180\n",
      "weighted avg       0.97      0.97      0.97       180\n",
      "\n"
     ]
    }
   ],
   "source": [
    "# Logistic Regression\n",
    "\n",
    "\n",
    "log_model = LogisticRegression(solver='liblinear',random_state=36)  # 작은 dataset에는 liblnear 메소드가 낫다고 한다\n",
    "log_model.fit(X_train, y_train)\n",
    "y_pred = log_model.predict(X_val)\n",
    "\n",
    "print(classification_report(y_val, y_pred))"
   ]
  },
  {
   "cell_type": "markdown",
   "id": "israeli-above",
   "metadata": {},
   "source": [
    "## Model Test"
   ]
  },
  {
   "cell_type": "markdown",
   "id": "local-armor",
   "metadata": {},
   "source": [
    "### validation set 기준으로는, sgd_model, svm_model, random_forest의 성능이 매우 좋았다. test_set에서는 잘 작동하는지 확인해봐야 한다."
   ]
  },
  {
   "cell_type": "code",
   "execution_count": 73,
   "id": "curious-bottom",
   "metadata": {},
   "outputs": [
    {
     "name": "stdout",
     "output_type": "stream",
     "text": [
      "              precision    recall  f1-score   support\n",
      "\n",
      "           0       1.00      1.00      1.00        36\n",
      "           1       0.91      0.81      0.85        36\n",
      "           2       1.00      1.00      1.00        35\n",
      "           3       0.97      1.00      0.99        37\n",
      "           4       1.00      1.00      1.00        36\n",
      "           5       0.90      1.00      0.95        37\n",
      "           6       0.97      0.97      0.97        36\n",
      "           7       0.97      1.00      0.99        36\n",
      "           8       0.90      0.80      0.85        35\n",
      "           9       0.89      0.94      0.92        36\n",
      "\n",
      "    accuracy                           0.95       360\n",
      "   macro avg       0.95      0.95      0.95       360\n",
      "weighted avg       0.95      0.95      0.95       360\n",
      "\n"
     ]
    }
   ],
   "source": [
    "# SGD 성능평가 (Test Set)\n",
    "y_pred = sgd_model.predict(X_test)\n",
    "print(classification_report(y_test, y_pred))"
   ]
  },
  {
   "cell_type": "code",
   "execution_count": 64,
   "id": "beginning-league",
   "metadata": {},
   "outputs": [
    {
     "name": "stdout",
     "output_type": "stream",
     "text": [
      "              precision    recall  f1-score   support\n",
      "\n",
      "           0       1.00      1.00      1.00        36\n",
      "           1       0.95      1.00      0.97        36\n",
      "           2       1.00      1.00      1.00        35\n",
      "           3       1.00      1.00      1.00        37\n",
      "           4       1.00      1.00      1.00        36\n",
      "           5       1.00      1.00      1.00        37\n",
      "           6       1.00      1.00      1.00        36\n",
      "           7       0.97      1.00      0.99        36\n",
      "           8       1.00      0.94      0.97        35\n",
      "           9       1.00      0.97      0.99        36\n",
      "\n",
      "    accuracy                           0.99       360\n",
      "   macro avg       0.99      0.99      0.99       360\n",
      "weighted avg       0.99      0.99      0.99       360\n",
      "\n"
     ]
    }
   ],
   "source": [
    "# SVM 성능평가(Test Set)\n",
    "y_pred = svm_model.predict(X_test)\n",
    "print(classification_report(y_test, y_pred))"
   ]
  },
  {
   "cell_type": "code",
   "execution_count": 65,
   "id": "indie-trail",
   "metadata": {},
   "outputs": [
    {
     "name": "stdout",
     "output_type": "stream",
     "text": [
      "              precision    recall  f1-score   support\n",
      "\n",
      "           0       0.97      0.97      0.97        36\n",
      "           1       0.92      1.00      0.96        36\n",
      "           2       1.00      0.97      0.99        35\n",
      "           3       0.97      0.97      0.97        37\n",
      "           4       0.95      1.00      0.97        36\n",
      "           5       1.00      1.00      1.00        37\n",
      "           6       1.00      0.97      0.99        36\n",
      "           7       0.92      1.00      0.96        36\n",
      "           8       0.97      0.86      0.91        35\n",
      "           9       0.97      0.92      0.94        36\n",
      "\n",
      "    accuracy                           0.97       360\n",
      "   macro avg       0.97      0.97      0.97       360\n",
      "weighted avg       0.97      0.97      0.97       360\n",
      "\n"
     ]
    }
   ],
   "source": [
    "# RF 성능평가\n",
    "y_pred = random_forest.predict(X_test)\n",
    "print(classification_report(y_test, y_pred))"
   ]
  },
  {
   "cell_type": "markdown",
   "id": "moving-steps",
   "metadata": {},
   "source": [
    "### validation에 대해 성능이 좋지 못했던 모델도 평가해 보자"
   ]
  },
  {
   "cell_type": "code",
   "execution_count": 66,
   "id": "surgical-viking",
   "metadata": {},
   "outputs": [
    {
     "name": "stdout",
     "output_type": "stream",
     "text": [
      "              precision    recall  f1-score   support\n",
      "\n",
      "           0       0.94      0.94      0.94        36\n",
      "           1       0.76      0.69      0.72        36\n",
      "           2       0.70      0.80      0.75        35\n",
      "           3       0.82      0.84      0.83        37\n",
      "           4       0.83      0.83      0.83        36\n",
      "           5       0.94      0.92      0.93        37\n",
      "           6       0.87      0.92      0.89        36\n",
      "           7       0.80      0.89      0.84        36\n",
      "           8       0.73      0.63      0.68        35\n",
      "           9       0.82      0.75      0.78        36\n",
      "\n",
      "    accuracy                           0.82       360\n",
      "   macro avg       0.82      0.82      0.82       360\n",
      "weighted avg       0.82      0.82      0.82       360\n",
      "\n"
     ]
    }
   ],
   "source": [
    "# DT 성능평가\n",
    "y_pred = decision_tree.predict(X_test)\n",
    "print(classification_report(y_test, y_pred))"
   ]
  },
  {
   "cell_type": "code",
   "execution_count": 67,
   "id": "personalized-shelter",
   "metadata": {},
   "outputs": [
    {
     "name": "stdout",
     "output_type": "stream",
     "text": [
      "              precision    recall  f1-score   support\n",
      "\n",
      "           0       1.00      1.00      1.00        36\n",
      "           1       0.89      0.89      0.89        36\n",
      "           2       1.00      0.97      0.99        35\n",
      "           3       0.97      1.00      0.99        37\n",
      "           4       0.97      1.00      0.99        36\n",
      "           5       1.00      1.00      1.00        37\n",
      "           6       1.00      0.97      0.99        36\n",
      "           7       0.97      0.97      0.97        36\n",
      "           8       0.86      0.91      0.89        35\n",
      "           9       1.00      0.94      0.97        36\n",
      "\n",
      "    accuracy                           0.97       360\n",
      "   macro avg       0.97      0.97      0.97       360\n",
      "weighted avg       0.97      0.97      0.97       360\n",
      "\n"
     ]
    }
   ],
   "source": [
    "# Logistic Regression성능평가\n",
    "y_pred = log_model.predict(X_test)\n",
    "print(classification_report(y_test, y_pred))"
   ]
  },
  {
   "cell_type": "markdown",
   "id": "normal-effort",
   "metadata": {},
   "source": [
    "# Model 탐색"
   ]
  },
  {
   "cell_type": "code",
   "execution_count": 82,
   "id": "working-comment",
   "metadata": {},
   "outputs": [
    {
     "name": "stdout",
     "output_type": "stream",
     "text": [
      "|--- pixel_4_4 <= 0.50\n",
      "|   |--- pixel_3_4 <= 2.50\n",
      "|   |   |--- pixel_2_5 <= 0.50\n",
      "|   |   |   |--- pixel_7_5 <= 0.50\n",
      "|   |   |   |   |--- class: 5\n",
      "|   |   |   |--- pixel_7_5 >  0.50\n",
      "|   |   |   |   |--- pixel_0_3 <= 3.50\n",
      "|   |   |   |   |   |--- class: 4\n",
      "|   |   |   |   |--- pixel_0_3 >  3.50\n",
      "|   |   |   |   |   |--- pixel_6_2 <= 14.00\n",
      "|   |   |   |   |   |   |--- class: 6\n",
      "|   |   |   |   |   |--- pixel_6_2 >  14.00\n",
      "|   |   |   |   |   |   |--- pixel_4_3 <= 6.00\n",
      "|   |   |   |   |   |   |   |--- class: 0\n",
      "|   |   |   |   |   |   |--- pixel_4_3 >  6.00\n",
      "|   |   |   |   |   |   |   |--- class: 2\n",
      "|   |   |--- pixel_2_5 >  0.50\n",
      "|   |   |   |--- class: 0\n",
      "|   |--- pixel_3_4 >  2.50\n",
      "|   |   |--- pixel_2_5 <= 6.50\n",
      "|   |   |   |--- pixel_0_4 <= 8.00\n",
      "|   |   |   |   |--- pixel_6_3 <= 9.50\n",
      "|   |   |   |   |   |--- class: 9\n",
      "|   |   |   |   |--- pixel_6_3 >  9.50\n",
      "|   |   |   |   |   |--- pixel_7_2 <= 6.00\n",
      "|   |   |   |   |   |   |--- class: 6\n",
      "|   |   |   |   |   |--- pixel_7_2 >  6.00\n",
      "|   |   |   |   |   |   |--- class: 2\n",
      "|   |   |   |--- pixel_0_4 >  8.00\n",
      "|   |   |   |   |--- class: 5\n",
      "|   |   |--- pixel_2_5 >  6.50\n",
      "|   |   |   |--- pixel_4_2 <= 5.00\n",
      "|   |   |   |   |--- class: 9\n",
      "|   |   |   |--- pixel_4_2 >  5.00\n",
      "|   |   |   |   |--- pixel_1_5 <= 13.50\n",
      "|   |   |   |   |   |--- pixel_2_3 <= 5.00\n",
      "|   |   |   |   |   |   |--- class: 5\n",
      "|   |   |   |   |   |--- pixel_2_3 >  5.00\n",
      "|   |   |   |   |   |   |--- class: 0\n",
      "|   |   |   |   |--- pixel_1_5 >  13.50\n",
      "|   |   |   |   |   |--- class: 8\n",
      "|--- pixel_4_4 >  0.50\n",
      "|   |--- pixel_2_5 <= 0.50\n",
      "|   |   |--- pixel_5_2 <= 8.50\n",
      "|   |   |   |--- pixel_0_5 <= 5.50\n",
      "|   |   |   |   |--- pixel_3_3 <= 12.50\n",
      "|   |   |   |   |   |--- pixel_4_2 <= 4.50\n",
      "|   |   |   |   |   |   |--- class: 2\n",
      "|   |   |   |   |   |--- pixel_4_2 >  4.50\n",
      "|   |   |   |   |   |   |--- pixel_6_2 <= 1.00\n",
      "|   |   |   |   |   |   |   |--- class: 4\n",
      "|   |   |   |   |   |   |--- pixel_6_2 >  1.00\n",
      "|   |   |   |   |   |   |   |--- pixel_3_2 <= 4.50\n",
      "|   |   |   |   |   |   |   |   |--- class: 7\n",
      "|   |   |   |   |   |   |   |--- pixel_3_2 >  4.50\n",
      "|   |   |   |   |   |   |   |   |--- pixel_6_6 <= 4.00\n",
      "|   |   |   |   |   |   |   |   |   |--- class: 3\n",
      "|   |   |   |   |   |   |   |   |--- pixel_6_6 >  4.00\n",
      "|   |   |   |   |   |   |   |   |   |--- pixel_6_2 <= 3.00\n",
      "|   |   |   |   |   |   |   |   |   |   |--- class: 5\n",
      "|   |   |   |   |   |   |   |   |   |--- pixel_6_2 >  3.00\n",
      "|   |   |   |   |   |   |   |   |   |   |--- pixel_2_2 <= 8.50\n",
      "|   |   |   |   |   |   |   |   |   |   |   |--- class: 6\n",
      "|   |   |   |   |   |   |   |   |   |   |--- pixel_2_2 >  8.50\n",
      "|   |   |   |   |   |   |   |   |   |   |   |--- class: 8\n",
      "|   |   |   |   |--- pixel_3_3 >  12.50\n",
      "|   |   |   |   |   |--- pixel_5_6 <= 1.50\n",
      "|   |   |   |   |   |   |--- pixel_4_4 <= 7.00\n",
      "|   |   |   |   |   |   |   |--- class: 2\n",
      "|   |   |   |   |   |   |--- pixel_4_4 >  7.00\n",
      "|   |   |   |   |   |   |   |--- class: 1\n",
      "|   |   |   |   |   |--- pixel_5_6 >  1.50\n",
      "|   |   |   |   |   |   |--- pixel_1_4 <= 13.50\n",
      "|   |   |   |   |   |   |   |--- pixel_1_2 <= 1.50\n",
      "|   |   |   |   |   |   |   |   |--- class: 4\n",
      "|   |   |   |   |   |   |   |--- pixel_1_2 >  1.50\n",
      "|   |   |   |   |   |   |   |   |--- pixel_5_3 <= 8.00\n",
      "|   |   |   |   |   |   |   |   |   |--- pixel_5_6 <= 6.50\n",
      "|   |   |   |   |   |   |   |   |   |   |--- class: 9\n",
      "|   |   |   |   |   |   |   |   |   |--- pixel_5_6 >  6.50\n",
      "|   |   |   |   |   |   |   |   |   |   |--- class: 5\n",
      "|   |   |   |   |   |   |   |   |--- pixel_5_3 >  8.00\n",
      "|   |   |   |   |   |   |   |   |   |--- class: 6\n",
      "|   |   |   |   |   |   |--- pixel_1_4 >  13.50\n",
      "|   |   |   |   |   |   |   |--- pixel_0_4 <= 8.50\n",
      "|   |   |   |   |   |   |   |   |--- pixel_4_2 <= 7.50\n",
      "|   |   |   |   |   |   |   |   |   |--- class: 8\n",
      "|   |   |   |   |   |   |   |   |--- pixel_4_2 >  7.50\n",
      "|   |   |   |   |   |   |   |   |   |--- class: 5\n",
      "|   |   |   |   |   |   |   |--- pixel_0_4 >  8.50\n",
      "|   |   |   |   |   |   |   |   |--- class: 3\n",
      "|   |   |   |--- pixel_0_5 >  5.50\n",
      "|   |   |   |   |--- pixel_0_7 <= 7.00\n",
      "|   |   |   |   |   |--- class: 5\n",
      "|   |   |   |   |--- pixel_0_7 >  7.00\n",
      "|   |   |   |   |   |--- class: 7\n",
      "|   |   |--- pixel_5_2 >  8.50\n",
      "|   |   |   |--- pixel_6_6 <= 1.50\n",
      "|   |   |   |   |--- pixel_1_2 <= 5.00\n",
      "|   |   |   |   |   |--- pixel_5_2 <= 11.50\n",
      "|   |   |   |   |   |   |--- class: 6\n",
      "|   |   |   |   |   |--- pixel_5_2 >  11.50\n",
      "|   |   |   |   |   |   |--- class: 4\n",
      "|   |   |   |   |--- pixel_1_2 >  5.00\n",
      "|   |   |   |   |   |--- pixel_5_6 <= 2.00\n",
      "|   |   |   |   |   |   |--- pixel_0_4 <= 13.00\n",
      "|   |   |   |   |   |   |   |--- pixel_6_4 <= 11.50\n",
      "|   |   |   |   |   |   |   |   |--- pixel_4_5 <= 8.00\n",
      "|   |   |   |   |   |   |   |   |   |--- class: 2\n",
      "|   |   |   |   |   |   |   |   |--- pixel_4_5 >  8.00\n",
      "|   |   |   |   |   |   |   |   |   |--- class: 4\n",
      "|   |   |   |   |   |   |   |--- pixel_6_4 >  11.50\n",
      "|   |   |   |   |   |   |   |   |--- class: 1\n",
      "|   |   |   |   |   |   |--- pixel_0_4 >  13.00\n",
      "|   |   |   |   |   |   |   |--- class: 6\n",
      "|   |   |   |   |   |--- pixel_5_6 >  2.00\n",
      "|   |   |   |   |   |   |--- class: 5\n",
      "|   |   |   |--- pixel_6_6 >  1.50\n",
      "|   |   |   |   |--- pixel_1_1 <= 3.00\n",
      "|   |   |   |   |   |--- class: 6\n",
      "|   |   |   |   |--- pixel_1_1 >  3.00\n",
      "|   |   |   |   |   |--- class: 2\n",
      "|   |--- pixel_2_5 >  0.50\n",
      "|   |   |--- pixel_7_4 <= 7.50\n",
      "|   |   |   |--- pixel_1_4 <= 3.50\n",
      "|   |   |   |   |--- pixel_0_5 <= 8.00\n",
      "|   |   |   |   |   |--- pixel_2_2 <= 9.00\n",
      "|   |   |   |   |   |   |--- class: 8\n",
      "|   |   |   |   |   |--- pixel_2_2 >  9.00\n",
      "|   |   |   |   |   |   |--- class: 4\n",
      "|   |   |   |   |--- pixel_0_5 >  8.00\n",
      "|   |   |   |   |   |--- pixel_7_2 <= 2.00\n",
      "|   |   |   |   |   |   |--- class: 9\n",
      "|   |   |   |   |   |--- pixel_7_2 >  2.00\n",
      "|   |   |   |   |   |   |--- class: 7\n",
      "|   |   |   |--- pixel_1_4 >  3.50\n",
      "|   |   |   |   |--- pixel_6_5 <= 3.50\n",
      "|   |   |   |   |   |--- pixel_3_2 <= 12.50\n",
      "|   |   |   |   |   |   |--- pixel_6_3 <= 2.00\n",
      "|   |   |   |   |   |   |   |--- pixel_0_4 <= 10.00\n",
      "|   |   |   |   |   |   |   |   |--- class: 8\n",
      "|   |   |   |   |   |   |   |--- pixel_0_4 >  10.00\n",
      "|   |   |   |   |   |   |   |   |--- class: 3\n",
      "|   |   |   |   |   |   |--- pixel_6_3 >  2.00\n",
      "|   |   |   |   |   |   |   |--- pixel_1_2 <= 2.50\n",
      "|   |   |   |   |   |   |   |   |--- class: 1\n",
      "|   |   |   |   |   |   |   |--- pixel_1_2 >  2.50\n",
      "|   |   |   |   |   |   |   |   |--- pixel_4_5 <= 0.50\n",
      "|   |   |   |   |   |   |   |   |   |--- pixel_5_3 <= 12.00\n",
      "|   |   |   |   |   |   |   |   |   |   |--- class: 3\n",
      "|   |   |   |   |   |   |   |   |   |--- pixel_5_3 >  12.00\n",
      "|   |   |   |   |   |   |   |   |   |   |--- class: 7\n",
      "|   |   |   |   |   |   |   |   |--- pixel_4_5 >  0.50\n",
      "|   |   |   |   |   |   |   |   |   |--- class: 7\n",
      "|   |   |   |   |   |--- pixel_3_2 >  12.50\n",
      "|   |   |   |   |   |   |--- pixel_2_1 <= 4.00\n",
      "|   |   |   |   |   |   |   |--- pixel_3_5 <= 7.50\n",
      "|   |   |   |   |   |   |   |   |--- pixel_4_3 <= 15.00\n",
      "|   |   |   |   |   |   |   |   |   |--- class: 4\n",
      "|   |   |   |   |   |   |   |   |--- pixel_4_3 >  15.00\n",
      "|   |   |   |   |   |   |   |   |   |--- class: 1\n",
      "|   |   |   |   |   |   |   |--- pixel_3_5 >  7.50\n",
      "|   |   |   |   |   |   |   |   |--- pixel_4_4 <= 2.50\n",
      "|   |   |   |   |   |   |   |   |   |--- class: 9\n",
      "|   |   |   |   |   |   |   |   |--- pixel_4_4 >  2.50\n",
      "|   |   |   |   |   |   |   |   |   |--- class: 7\n",
      "|   |   |   |   |   |   |--- pixel_2_1 >  4.00\n",
      "|   |   |   |   |   |   |   |--- pixel_7_2 <= 13.50\n",
      "|   |   |   |   |   |   |   |   |--- class: 9\n",
      "|   |   |   |   |   |   |   |--- pixel_7_2 >  13.50\n",
      "|   |   |   |   |   |   |   |   |--- class: 5\n",
      "|   |   |   |   |--- pixel_6_5 >  3.50\n",
      "|   |   |   |   |   |--- pixel_1_2 <= 1.50\n",
      "|   |   |   |   |   |   |--- class: 1\n",
      "|   |   |   |   |   |--- pixel_1_2 >  1.50\n",
      "|   |   |   |   |   |   |--- pixel_2_2 <= 1.00\n",
      "|   |   |   |   |   |   |   |--- pixel_6_2 <= 11.50\n",
      "|   |   |   |   |   |   |   |   |--- class: 3\n",
      "|   |   |   |   |   |   |   |--- pixel_6_2 >  11.50\n",
      "|   |   |   |   |   |   |   |   |--- class: 2\n",
      "|   |   |   |   |   |   |--- pixel_2_2 >  1.00\n",
      "|   |   |   |   |   |   |   |--- pixel_6_5 <= 6.50\n",
      "|   |   |   |   |   |   |   |   |--- class: 5\n",
      "|   |   |   |   |   |   |   |--- pixel_6_5 >  6.50\n",
      "|   |   |   |   |   |   |   |   |--- pixel_6_5 <= 9.50\n",
      "|   |   |   |   |   |   |   |   |   |--- class: 8\n",
      "|   |   |   |   |   |   |   |   |--- pixel_6_5 >  9.50\n",
      "|   |   |   |   |   |   |   |   |   |--- pixel_4_2 <= 1.50\n",
      "|   |   |   |   |   |   |   |   |   |   |--- class: 2\n",
      "|   |   |   |   |   |   |   |   |   |--- pixel_4_2 >  1.50\n",
      "|   |   |   |   |   |   |   |   |   |   |--- class: 9\n",
      "|   |   |--- pixel_7_4 >  7.50\n",
      "|   |   |   |--- pixel_4_1 <= 3.50\n",
      "|   |   |   |   |--- pixel_5_3 <= 1.50\n",
      "|   |   |   |   |   |--- pixel_3_5 <= 12.50\n",
      "|   |   |   |   |   |   |--- pixel_4_2 <= 3.50\n",
      "|   |   |   |   |   |   |   |--- pixel_2_3 <= 11.00\n",
      "|   |   |   |   |   |   |   |   |--- pixel_7_3 <= 5.00\n",
      "|   |   |   |   |   |   |   |   |   |--- class: 9\n",
      "|   |   |   |   |   |   |   |   |--- pixel_7_3 >  5.00\n",
      "|   |   |   |   |   |   |   |   |   |--- pixel_7_6 <= 14.50\n",
      "|   |   |   |   |   |   |   |   |   |   |--- class: 3\n",
      "|   |   |   |   |   |   |   |   |   |--- pixel_7_6 >  14.50\n",
      "|   |   |   |   |   |   |   |   |   |   |--- class: 2\n",
      "|   |   |   |   |   |   |   |--- pixel_2_3 >  11.00\n",
      "|   |   |   |   |   |   |   |   |--- pixel_7_5 <= 10.50\n",
      "|   |   |   |   |   |   |   |   |   |--- class: 5\n",
      "|   |   |   |   |   |   |   |   |--- pixel_7_5 >  10.50\n",
      "|   |   |   |   |   |   |   |   |   |--- pixel_3_4 <= 11.00\n",
      "|   |   |   |   |   |   |   |   |   |   |--- class: 2\n",
      "|   |   |   |   |   |   |   |   |   |--- pixel_3_4 >  11.00\n",
      "|   |   |   |   |   |   |   |   |   |   |--- pixel_0_3 <= 15.50\n",
      "|   |   |   |   |   |   |   |   |   |   |   |--- class: 1\n",
      "|   |   |   |   |   |   |   |   |   |   |--- pixel_0_3 >  15.50\n",
      "|   |   |   |   |   |   |   |   |   |   |   |--- class: 9\n",
      "|   |   |   |   |   |   |--- pixel_4_2 >  3.50\n",
      "|   |   |   |   |   |   |   |--- pixel_5_2 <= 3.50\n",
      "|   |   |   |   |   |   |   |   |--- pixel_3_1 <= 2.00\n",
      "|   |   |   |   |   |   |   |   |   |--- class: 1\n",
      "|   |   |   |   |   |   |   |   |--- pixel_3_1 >  2.00\n",
      "|   |   |   |   |   |   |   |   |   |--- class: 9\n",
      "|   |   |   |   |   |   |   |--- pixel_5_2 >  3.50\n",
      "|   |   |   |   |   |   |   |   |--- class: 8\n",
      "|   |   |   |   |   |--- pixel_3_5 >  12.50\n",
      "|   |   |   |   |   |   |--- pixel_5_4 <= 7.50\n",
      "|   |   |   |   |   |   |   |--- pixel_3_2 <= 1.00\n",
      "|   |   |   |   |   |   |   |   |--- pixel_2_2 <= 9.00\n",
      "|   |   |   |   |   |   |   |   |   |--- class: 3\n",
      "|   |   |   |   |   |   |   |   |--- pixel_2_2 >  9.00\n",
      "|   |   |   |   |   |   |   |   |   |--- class: 9\n",
      "|   |   |   |   |   |   |   |--- pixel_3_2 >  1.00\n",
      "|   |   |   |   |   |   |   |   |--- pixel_2_3 <= 15.50\n",
      "|   |   |   |   |   |   |   |   |   |--- class: 9\n",
      "|   |   |   |   |   |   |   |   |--- pixel_2_3 >  15.50\n",
      "|   |   |   |   |   |   |   |   |   |--- pixel_7_3 <= 13.50\n",
      "|   |   |   |   |   |   |   |   |   |   |--- pixel_2_6 <= 2.00\n",
      "|   |   |   |   |   |   |   |   |   |   |   |--- class: 1\n",
      "|   |   |   |   |   |   |   |   |   |   |--- pixel_2_6 >  2.00\n",
      "|   |   |   |   |   |   |   |   |   |   |   |--- class: 9\n",
      "|   |   |   |   |   |   |   |   |   |--- pixel_7_3 >  13.50\n",
      "|   |   |   |   |   |   |   |   |   |   |--- class: 5\n",
      "|   |   |   |   |   |   |--- pixel_5_4 >  7.50\n",
      "|   |   |   |   |   |   |   |--- pixel_1_4 <= 13.00\n",
      "|   |   |   |   |   |   |   |   |--- pixel_3_1 <= 1.00\n",
      "|   |   |   |   |   |   |   |   |   |--- class: 2\n",
      "|   |   |   |   |   |   |   |   |--- pixel_3_1 >  1.00\n",
      "|   |   |   |   |   |   |   |   |   |--- pixel_3_5 <= 15.50\n",
      "|   |   |   |   |   |   |   |   |   |   |--- pixel_2_6 <= 3.00\n",
      "|   |   |   |   |   |   |   |   |   |   |   |--- class: 5\n",
      "|   |   |   |   |   |   |   |   |   |   |--- pixel_2_6 >  3.00\n",
      "|   |   |   |   |   |   |   |   |   |   |   |--- class: 8\n",
      "|   |   |   |   |   |   |   |   |   |--- pixel_3_5 >  15.50\n",
      "|   |   |   |   |   |   |   |   |   |   |--- class: 9\n",
      "|   |   |   |   |   |   |   |--- pixel_1_4 >  13.00\n",
      "|   |   |   |   |   |   |   |   |--- class: 1\n",
      "|   |   |   |   |--- pixel_5_3 >  1.50\n",
      "|   |   |   |   |   |--- pixel_3_3 <= 7.50\n",
      "|   |   |   |   |   |   |--- pixel_3_2 <= 6.50\n",
      "|   |   |   |   |   |   |   |--- pixel_4_6 <= 2.00\n",
      "|   |   |   |   |   |   |   |   |--- pixel_5_6 <= 6.00\n",
      "|   |   |   |   |   |   |   |   |   |--- pixel_6_2 <= 0.50\n",
      "|   |   |   |   |   |   |   |   |   |   |--- pixel_4_4 <= 13.50\n",
      "|   |   |   |   |   |   |   |   |   |   |   |--- class: 2\n",
      "|   |   |   |   |   |   |   |   |   |   |--- pixel_4_4 >  13.50\n",
      "|   |   |   |   |   |   |   |   |   |   |   |--- truncated branch of depth 2\n",
      "|   |   |   |   |   |   |   |   |   |--- pixel_6_2 >  0.50\n",
      "|   |   |   |   |   |   |   |   |   |   |--- class: 2\n",
      "|   |   |   |   |   |   |   |   |--- pixel_5_6 >  6.00\n",
      "|   |   |   |   |   |   |   |   |   |--- class: 3\n",
      "|   |   |   |   |   |   |   |--- pixel_4_6 >  2.00\n",
      "|   |   |   |   |   |   |   |   |--- class: 7\n",
      "|   |   |   |   |   |   |--- pixel_3_2 >  6.50\n",
      "|   |   |   |   |   |   |   |--- pixel_4_5 <= 8.50\n",
      "|   |   |   |   |   |   |   |   |--- pixel_4_3 <= 7.50\n",
      "|   |   |   |   |   |   |   |   |   |--- class: 2\n",
      "|   |   |   |   |   |   |   |   |--- pixel_4_3 >  7.50\n",
      "|   |   |   |   |   |   |   |   |   |--- class: 8\n",
      "|   |   |   |   |   |   |   |--- pixel_4_5 >  8.50\n",
      "|   |   |   |   |   |   |   |   |--- pixel_6_6 <= 2.50\n",
      "|   |   |   |   |   |   |   |   |   |--- pixel_5_3 <= 4.50\n",
      "|   |   |   |   |   |   |   |   |   |   |--- class: 7\n",
      "|   |   |   |   |   |   |   |   |   |--- pixel_5_3 >  4.50\n",
      "|   |   |   |   |   |   |   |   |   |   |--- class: 4\n",
      "|   |   |   |   |   |   |   |   |--- pixel_6_6 >  2.50\n",
      "|   |   |   |   |   |   |   |   |   |--- class: 9\n",
      "|   |   |   |   |   |--- pixel_3_3 >  7.50\n",
      "|   |   |   |   |   |   |--- pixel_2_4 <= 14.50\n",
      "|   |   |   |   |   |   |   |--- pixel_2_2 <= 2.50\n",
      "|   |   |   |   |   |   |   |   |--- pixel_3_5 <= 9.50\n",
      "|   |   |   |   |   |   |   |   |   |--- class: 3\n",
      "|   |   |   |   |   |   |   |   |--- pixel_3_5 >  9.50\n",
      "|   |   |   |   |   |   |   |   |   |--- pixel_6_4 <= 13.00\n",
      "|   |   |   |   |   |   |   |   |   |   |--- class: 6\n",
      "|   |   |   |   |   |   |   |   |   |--- pixel_6_4 >  13.00\n",
      "|   |   |   |   |   |   |   |   |   |   |--- class: 7\n",
      "|   |   |   |   |   |   |   |--- pixel_2_2 >  2.50\n",
      "|   |   |   |   |   |   |   |   |--- pixel_4_6 <= 3.50\n",
      "|   |   |   |   |   |   |   |   |   |--- pixel_2_5 <= 4.00\n",
      "|   |   |   |   |   |   |   |   |   |   |--- class: 1\n",
      "|   |   |   |   |   |   |   |   |   |--- pixel_2_5 >  4.00\n",
      "|   |   |   |   |   |   |   |   |   |   |--- pixel_3_3 <= 8.50\n",
      "|   |   |   |   |   |   |   |   |   |   |   |--- truncated branch of depth 3\n",
      "|   |   |   |   |   |   |   |   |   |   |--- pixel_3_3 >  8.50\n",
      "|   |   |   |   |   |   |   |   |   |   |   |--- truncated branch of depth 4\n",
      "|   |   |   |   |   |   |   |   |--- pixel_4_6 >  3.50\n",
      "|   |   |   |   |   |   |   |   |   |--- pixel_4_6 <= 4.50\n",
      "|   |   |   |   |   |   |   |   |   |   |--- class: 0\n",
      "|   |   |   |   |   |   |   |   |   |--- pixel_4_6 >  4.50\n",
      "|   |   |   |   |   |   |   |   |   |   |--- pixel_1_1 <= 5.00\n",
      "|   |   |   |   |   |   |   |   |   |   |   |--- class: 7\n",
      "|   |   |   |   |   |   |   |   |   |   |--- pixel_1_1 >  5.00\n",
      "|   |   |   |   |   |   |   |   |   |   |   |--- class: 3\n",
      "|   |   |   |   |   |   |--- pixel_2_4 >  14.50\n",
      "|   |   |   |   |   |   |   |--- pixel_1_2 <= 13.50\n",
      "|   |   |   |   |   |   |   |   |--- pixel_6_4 <= 9.00\n",
      "|   |   |   |   |   |   |   |   |   |--- pixel_4_4 <= 12.00\n",
      "|   |   |   |   |   |   |   |   |   |   |--- pixel_1_2 <= 6.50\n",
      "|   |   |   |   |   |   |   |   |   |   |   |--- class: 1\n",
      "|   |   |   |   |   |   |   |   |   |   |--- pixel_1_2 >  6.50\n",
      "|   |   |   |   |   |   |   |   |   |   |   |--- truncated branch of depth 2\n",
      "|   |   |   |   |   |   |   |   |   |--- pixel_4_4 >  12.00\n",
      "|   |   |   |   |   |   |   |   |   |   |--- class: 8\n",
      "|   |   |   |   |   |   |   |   |--- pixel_6_4 >  9.00\n",
      "|   |   |   |   |   |   |   |   |   |--- pixel_2_3 <= 6.50\n",
      "|   |   |   |   |   |   |   |   |   |   |--- class: 3\n",
      "|   |   |   |   |   |   |   |   |   |--- pixel_2_3 >  6.50\n",
      "|   |   |   |   |   |   |   |   |   |   |--- pixel_6_1 <= 4.00\n",
      "|   |   |   |   |   |   |   |   |   |   |   |--- class: 1\n",
      "|   |   |   |   |   |   |   |   |   |   |--- pixel_6_1 >  4.00\n",
      "|   |   |   |   |   |   |   |   |   |   |   |--- class: 4\n",
      "|   |   |   |   |   |   |   |--- pixel_1_2 >  13.50\n",
      "|   |   |   |   |   |   |   |   |--- pixel_5_4 <= 8.00\n",
      "|   |   |   |   |   |   |   |   |   |--- class: 2\n",
      "|   |   |   |   |   |   |   |   |--- pixel_5_4 >  8.00\n",
      "|   |   |   |   |   |   |   |   |   |--- pixel_6_2 <= 6.50\n",
      "|   |   |   |   |   |   |   |   |   |   |--- class: 3\n",
      "|   |   |   |   |   |   |   |   |   |--- pixel_6_2 >  6.50\n",
      "|   |   |   |   |   |   |   |   |   |   |--- class: 8\n",
      "|   |   |   |--- pixel_4_1 >  3.50\n",
      "|   |   |   |   |--- pixel_3_3 <= 15.50\n",
      "|   |   |   |   |   |--- pixel_0_5 <= 11.50\n",
      "|   |   |   |   |   |   |--- pixel_4_4 <= 2.50\n",
      "|   |   |   |   |   |   |   |--- class: 0\n",
      "|   |   |   |   |   |   |--- pixel_4_4 >  2.50\n",
      "|   |   |   |   |   |   |   |--- class: 4\n",
      "|   |   |   |   |   |--- pixel_0_5 >  11.50\n",
      "|   |   |   |   |   |   |--- pixel_2_6 <= 3.00\n",
      "|   |   |   |   |   |   |   |--- pixel_1_5 <= 12.50\n",
      "|   |   |   |   |   |   |   |   |--- class: 5\n",
      "|   |   |   |   |   |   |   |--- pixel_1_5 >  12.50\n",
      "|   |   |   |   |   |   |   |   |--- pixel_1_6 <= 1.00\n",
      "|   |   |   |   |   |   |   |   |   |--- class: 1\n",
      "|   |   |   |   |   |   |   |   |--- pixel_1_6 >  1.00\n",
      "|   |   |   |   |   |   |   |   |   |--- class: 4\n",
      "|   |   |   |   |   |   |--- pixel_2_6 >  3.00\n",
      "|   |   |   |   |   |   |   |--- pixel_6_3 <= 10.00\n",
      "|   |   |   |   |   |   |   |   |--- class: 7\n",
      "|   |   |   |   |   |   |   |--- pixel_6_3 >  10.00\n",
      "|   |   |   |   |   |   |   |   |--- pixel_6_4 <= 10.00\n",
      "|   |   |   |   |   |   |   |   |   |--- class: 3\n",
      "|   |   |   |   |   |   |   |   |--- pixel_6_4 >  10.00\n",
      "|   |   |   |   |   |   |   |   |   |--- class: 2\n",
      "|   |   |   |   |--- pixel_3_3 >  15.50\n",
      "|   |   |   |   |   |--- pixel_4_6 <= 7.50\n",
      "|   |   |   |   |   |   |--- pixel_1_4 <= 11.00\n",
      "|   |   |   |   |   |   |   |--- class: 8\n",
      "|   |   |   |   |   |   |--- pixel_1_4 >  11.00\n",
      "|   |   |   |   |   |   |   |--- class: 1\n",
      "|   |   |   |   |   |--- pixel_4_6 >  7.50\n",
      "|   |   |   |   |   |   |--- pixel_0_5 <= 0.50\n",
      "|   |   |   |   |   |   |   |--- class: 6\n",
      "|   |   |   |   |   |   |--- pixel_0_5 >  0.50\n",
      "|   |   |   |   |   |   |   |--- class: 4\n",
      "\n"
     ]
    }
   ],
   "source": [
    "# 분기 표시\n",
    "from sklearn.tree import export_text\n",
    "r = export_text(decision_tree, feature_names=digits['feature_names'])\n",
    "print(r)"
   ]
  },
  {
   "cell_type": "markdown",
   "id": "stunning-telephone",
   "metadata": {},
   "source": [
    "* 랜덤 포레스트의 경우, 전체 feature에서 정보 이득이 가장 높은 분기를 택하는 것이 아닌, 임의로 정해진 feature의 부분집합 내에서 최적인 분기가 일어나게 된다. 이때, 부분집합의 최대 원소 개수는 정할 수 있지만. 각 트리가 어떤 feature를 선택하여 그것을 기반으로 분기할지는 정할 수 없다\n"
   ]
  },
  {
   "cell_type": "markdown",
   "id": "quick-filter",
   "metadata": {},
   "source": [
    "## 분석"
   ]
  },
  {
   "cell_type": "markdown",
   "id": "considered-value",
   "metadata": {},
   "source": [
    "* Precision: FP가 작을수록 큰 값이 나온다. 즉, 실제로 음성인데 양성으로 예측하는 경우가 적을수록 크다.\n",
    "* Recall: FN이 작을수록 큰 값이 나온다. 즉, 실제로 양성인데 음성으로 예측하는 경우가 적을수록 크다."
   ]
  },
  {
   "cell_type": "markdown",
   "id": "opening-conference",
   "metadata": {},
   "source": [
    "손글씨의 경우, Recall과 Precision 중 하나의 metric을 고르기 힘들다. 이경우 F-score를 사용하자."
   ]
  },
  {
   "cell_type": "markdown",
   "id": "raised-mortality",
   "metadata": {},
   "source": [
    "# 결론"
   ]
  },
  {
   "cell_type": "markdown",
   "id": "grand-dictionary",
   "metadata": {},
   "source": [
    "SVM 기법이 가장 일반화 성능이 좋다."
   ]
  }
 ],
 "metadata": {
  "kernelspec": {
   "display_name": "Python 3",
   "language": "python",
   "name": "python3"
  },
  "language_info": {
   "codemirror_mode": {
    "name": "ipython",
    "version": 3
   },
   "file_extension": ".py",
   "mimetype": "text/x-python",
   "name": "python",
   "nbconvert_exporter": "python",
   "pygments_lexer": "ipython3",
   "version": "3.7.9"
  }
 },
 "nbformat": 4,
 "nbformat_minor": 5
}
