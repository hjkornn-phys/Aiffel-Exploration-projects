{
 "cells": [
  {
   "cell_type": "markdown",
   "id": "senior-search",
   "metadata": {},
   "source": [
    "# Session Based Recommendation System"
   ]
  },
  {
   "cell_type": "markdown",
   "id": "rental-roots",
   "metadata": {},
   "source": [
    "User - Item based recommendation system은 사용자에게 비슷한 선호도를 가진 사용자가 좋아하는 Item을 추천합니다. 그러나 상품 구매의 경우, 사용자는 늘 같은 부류의 상품을 구매하는 것이 아니고, 더욱 효과적인 추천을 위해서는 사용자가 현재 어떤 상품을 원하는지 알아야 할 것 같습니다.\n",
    "\n",
    "따라서 한 세션(브라우저를 종료하기 전까지의 행동을 저장한 시퀀스 데이터)을 기반으로 추천시스템을 만들면 적절할 것입니다.\n",
    "\n"
   ]
  },
  {
   "cell_type": "markdown",
   "id": "hourly-secondary",
   "metadata": {},
   "source": [
    "Movielens 1M Dataset으로 Session Based Recommendatation System을 구현합니다."
   ]
  },
  {
   "cell_type": "markdown",
   "id": "dying-binary",
   "metadata": {},
   "source": [
    "데이터 살펴보기"
   ]
  },
  {
   "cell_type": "code",
   "execution_count": 5,
   "id": "legitimate-senior",
   "metadata": {},
   "outputs": [],
   "source": [
    "import datetime as dt\n",
    "from pathlib import Path\n",
    "import os\n",
    "\n",
    "import numpy as np\n",
    "import pandas as pd\n",
    "import warnings\n",
    "warnings.filterwarnings('ignore')"
   ]
  },
  {
   "cell_type": "code",
   "execution_count": 6,
   "id": "thousand-genius",
   "metadata": {},
   "outputs": [
    {
     "data": {
      "text/html": [
       "<div>\n",
       "<style scoped>\n",
       "    .dataframe tbody tr th:only-of-type {\n",
       "        vertical-align: middle;\n",
       "    }\n",
       "\n",
       "    .dataframe tbody tr th {\n",
       "        vertical-align: top;\n",
       "    }\n",
       "\n",
       "    .dataframe thead th {\n",
       "        text-align: right;\n",
       "    }\n",
       "</style>\n",
       "<table border=\"1\" class=\"dataframe\">\n",
       "  <thead>\n",
       "    <tr style=\"text-align: right;\">\n",
       "      <th></th>\n",
       "      <th>UserId</th>\n",
       "      <th>ItemId</th>\n",
       "      <th>Rating</th>\n",
       "      <th>Time</th>\n",
       "    </tr>\n",
       "  </thead>\n",
       "  <tbody>\n",
       "    <tr>\n",
       "      <th>31</th>\n",
       "      <td>1</td>\n",
       "      <td>3186</td>\n",
       "      <td>4</td>\n",
       "      <td>978300019</td>\n",
       "    </tr>\n",
       "    <tr>\n",
       "      <th>22</th>\n",
       "      <td>1</td>\n",
       "      <td>1270</td>\n",
       "      <td>5</td>\n",
       "      <td>978300055</td>\n",
       "    </tr>\n",
       "    <tr>\n",
       "      <th>27</th>\n",
       "      <td>1</td>\n",
       "      <td>1721</td>\n",
       "      <td>4</td>\n",
       "      <td>978300055</td>\n",
       "    </tr>\n",
       "    <tr>\n",
       "      <th>37</th>\n",
       "      <td>1</td>\n",
       "      <td>1022</td>\n",
       "      <td>5</td>\n",
       "      <td>978300055</td>\n",
       "    </tr>\n",
       "    <tr>\n",
       "      <th>24</th>\n",
       "      <td>1</td>\n",
       "      <td>2340</td>\n",
       "      <td>3</td>\n",
       "      <td>978300103</td>\n",
       "    </tr>\n",
       "    <tr>\n",
       "      <th>...</th>\n",
       "      <td>...</td>\n",
       "      <td>...</td>\n",
       "      <td>...</td>\n",
       "      <td>...</td>\n",
       "    </tr>\n",
       "    <tr>\n",
       "      <th>1000019</th>\n",
       "      <td>6040</td>\n",
       "      <td>2917</td>\n",
       "      <td>4</td>\n",
       "      <td>997454429</td>\n",
       "    </tr>\n",
       "    <tr>\n",
       "      <th>999988</th>\n",
       "      <td>6040</td>\n",
       "      <td>1921</td>\n",
       "      <td>4</td>\n",
       "      <td>997454464</td>\n",
       "    </tr>\n",
       "    <tr>\n",
       "      <th>1000172</th>\n",
       "      <td>6040</td>\n",
       "      <td>1784</td>\n",
       "      <td>3</td>\n",
       "      <td>997454464</td>\n",
       "    </tr>\n",
       "    <tr>\n",
       "      <th>1000167</th>\n",
       "      <td>6040</td>\n",
       "      <td>161</td>\n",
       "      <td>3</td>\n",
       "      <td>997454486</td>\n",
       "    </tr>\n",
       "    <tr>\n",
       "      <th>1000042</th>\n",
       "      <td>6040</td>\n",
       "      <td>1221</td>\n",
       "      <td>4</td>\n",
       "      <td>998315055</td>\n",
       "    </tr>\n",
       "  </tbody>\n",
       "</table>\n",
       "<p>1000209 rows × 4 columns</p>\n",
       "</div>"
      ],
      "text/plain": [
       "         UserId  ItemId  Rating       Time\n",
       "31            1    3186       4  978300019\n",
       "22            1    1270       5  978300055\n",
       "27            1    1721       4  978300055\n",
       "37            1    1022       5  978300055\n",
       "24            1    2340       3  978300103\n",
       "...         ...     ...     ...        ...\n",
       "1000019    6040    2917       4  997454429\n",
       "999988     6040    1921       4  997454464\n",
       "1000172    6040    1784       3  997454464\n",
       "1000167    6040     161       3  997454486\n",
       "1000042    6040    1221       4  998315055\n",
       "\n",
       "[1000209 rows x 4 columns]"
      ]
     },
     "execution_count": 6,
     "metadata": {},
     "output_type": "execute_result"
    }
   ],
   "source": [
    "data_path = Path(os.getenv('HOME')+'/aiffel/yoochoose/data/') \n",
    "train_path = data_path / 'ratings.dat'\n",
    "\n",
    "def load_data(data_path: Path, nrows=None):\n",
    "    data = pd.read_csv(data_path, sep='::', header=None, usecols=[0, 1, 2, 3], dtype={0: np.int32, 1: np.int32, 2: np.int32}, nrows=nrows)\n",
    "    data.columns = ['UserId', 'ItemId', 'Rating', 'Time']\n",
    "    return data\n",
    "\n",
    "data = load_data(train_path, None)\n",
    "data.sort_values(['UserId', 'Time'], inplace=True)  # data를 id와 시간 순서로 정렬해줍니다.\n",
    "data"
   ]
  },
  {
   "cell_type": "code",
   "execution_count": 7,
   "id": "favorite-panama",
   "metadata": {},
   "outputs": [
    {
     "data": {
      "text/plain": [
       "UserId\n",
       "1        53\n",
       "2       129\n",
       "3        51\n",
       "4        21\n",
       "5       198\n",
       "       ... \n",
       "6036    888\n",
       "6037    202\n",
       "6038     20\n",
       "6039    123\n",
       "6040    341\n",
       "Length: 6040, dtype: int64"
      ]
     },
     "execution_count": 7,
     "metadata": {},
     "output_type": "execute_result"
    }
   ],
   "source": [
    "session_length = data.groupby('UserId').size()\n",
    "session_length"
   ]
  },
  {
   "cell_type": "code",
   "execution_count": 8,
   "id": "promotional-weekly",
   "metadata": {},
   "outputs": [
    {
     "data": {
      "text/plain": [
       "(96.0, 165.5975165562914)"
      ]
     },
     "execution_count": 8,
     "metadata": {},
     "output_type": "execute_result"
    }
   ],
   "source": [
    "session_length.median(), session_length.mean()"
   ]
  },
  {
   "cell_type": "code",
   "execution_count": 9,
   "id": "creative-italian",
   "metadata": {},
   "outputs": [
    {
     "data": {
      "text/plain": [
       "(20, 2314)"
      ]
     },
     "execution_count": 9,
     "metadata": {},
     "output_type": "execute_result"
    }
   ],
   "source": [
    "session_length.min(), session_length.max()"
   ]
  },
  {
   "cell_type": "code",
   "execution_count": 10,
   "id": "breathing-ghana",
   "metadata": {},
   "outputs": [
    {
     "data": {
      "text/plain": [
       "1343.181000000005"
      ]
     },
     "execution_count": 10,
     "metadata": {},
     "output_type": "execute_result"
    }
   ],
   "source": [
    "session_length.quantile(0.999)"
   ]
  },
  {
   "cell_type": "code",
   "execution_count": 11,
   "id": "periodic-degree",
   "metadata": {},
   "outputs": [
    {
     "data": {
      "text/plain": [
       "20      0.014238\n",
       "21      0.029305\n",
       "22      0.042053\n",
       "23      0.055464\n",
       "24      0.068874\n",
       "          ...   \n",
       "1271    0.998179\n",
       "1277    0.998344\n",
       "1286    0.998510\n",
       "1302    0.998675\n",
       "1323    0.998841\n",
       "Length: 736, dtype: float64"
      ]
     },
     "execution_count": 11,
     "metadata": {},
     "output_type": "execute_result"
    }
   ],
   "source": [
    "length_count = session_length.groupby(session_length).size()\n",
    "length_percent_cumsum = length_count.cumsum() / length_count.sum()\n",
    "length_percent_cumsum_999 = length_percent_cumsum[length_percent_cumsum < 0.999]\n",
    "\n",
    "length_percent_cumsum_999"
   ]
  },
  {
   "cell_type": "code",
   "execution_count": 12,
   "id": "published-coordination",
   "metadata": {},
   "outputs": [
    {
     "name": "stdout",
     "output_type": "stream",
     "text": [
      "956703932\n",
      "1046454590\n"
     ]
    }
   ],
   "source": [
    "oldest, latest = data['Time'].min(), data['Time'].max()\n",
    "print(oldest) \n",
    "print(latest)"
   ]
  },
  {
   "cell_type": "markdown",
   "id": "composite-fundamental",
   "metadata": {},
   "source": [
    "이대로 Userid로 나눈 것이 Session으로 보기는 힘듭니다. 따라서 액션 간의 시차가 600초를 넘어선다면 세션을 나누어 보도록 합니다.\n",
    "\n",
    "[pandas column 의 위아래 값의 차이를 비교해보자](https://jusths.tistory.com/38)\n",
    "\n",
    "\n",
    "[unixtime to datetime](https://potensj.tistory.com/72)"
   ]
  },
  {
   "cell_type": "code",
   "execution_count": 13,
   "id": "fatty-chamber",
   "metadata": {},
   "outputs": [
    {
     "data": {
      "text/html": [
       "<div>\n",
       "<style scoped>\n",
       "    .dataframe tbody tr th:only-of-type {\n",
       "        vertical-align: middle;\n",
       "    }\n",
       "\n",
       "    .dataframe tbody tr th {\n",
       "        vertical-align: top;\n",
       "    }\n",
       "\n",
       "    .dataframe thead th {\n",
       "        text-align: right;\n",
       "    }\n",
       "</style>\n",
       "<table border=\"1\" class=\"dataframe\">\n",
       "  <thead>\n",
       "    <tr style=\"text-align: right;\">\n",
       "      <th></th>\n",
       "      <th>UserId</th>\n",
       "      <th>ItemId</th>\n",
       "      <th>Rating</th>\n",
       "      <th>Time</th>\n",
       "    </tr>\n",
       "  </thead>\n",
       "  <tbody>\n",
       "    <tr>\n",
       "      <th>31</th>\n",
       "      <td>1</td>\n",
       "      <td>3186</td>\n",
       "      <td>4</td>\n",
       "      <td>978300019</td>\n",
       "    </tr>\n",
       "    <tr>\n",
       "      <th>22</th>\n",
       "      <td>1</td>\n",
       "      <td>1270</td>\n",
       "      <td>5</td>\n",
       "      <td>978300055</td>\n",
       "    </tr>\n",
       "    <tr>\n",
       "      <th>27</th>\n",
       "      <td>1</td>\n",
       "      <td>1721</td>\n",
       "      <td>4</td>\n",
       "      <td>978300055</td>\n",
       "    </tr>\n",
       "    <tr>\n",
       "      <th>37</th>\n",
       "      <td>1</td>\n",
       "      <td>1022</td>\n",
       "      <td>5</td>\n",
       "      <td>978300055</td>\n",
       "    </tr>\n",
       "    <tr>\n",
       "      <th>24</th>\n",
       "      <td>1</td>\n",
       "      <td>2340</td>\n",
       "      <td>3</td>\n",
       "      <td>978300103</td>\n",
       "    </tr>\n",
       "    <tr>\n",
       "      <th>...</th>\n",
       "      <td>...</td>\n",
       "      <td>...</td>\n",
       "      <td>...</td>\n",
       "      <td>...</td>\n",
       "    </tr>\n",
       "    <tr>\n",
       "      <th>1000019</th>\n",
       "      <td>6040</td>\n",
       "      <td>2917</td>\n",
       "      <td>4</td>\n",
       "      <td>997454429</td>\n",
       "    </tr>\n",
       "    <tr>\n",
       "      <th>999988</th>\n",
       "      <td>6040</td>\n",
       "      <td>1921</td>\n",
       "      <td>4</td>\n",
       "      <td>997454464</td>\n",
       "    </tr>\n",
       "    <tr>\n",
       "      <th>1000172</th>\n",
       "      <td>6040</td>\n",
       "      <td>1784</td>\n",
       "      <td>3</td>\n",
       "      <td>997454464</td>\n",
       "    </tr>\n",
       "    <tr>\n",
       "      <th>1000167</th>\n",
       "      <td>6040</td>\n",
       "      <td>161</td>\n",
       "      <td>3</td>\n",
       "      <td>997454486</td>\n",
       "    </tr>\n",
       "    <tr>\n",
       "      <th>1000042</th>\n",
       "      <td>6040</td>\n",
       "      <td>1221</td>\n",
       "      <td>4</td>\n",
       "      <td>998315055</td>\n",
       "    </tr>\n",
       "  </tbody>\n",
       "</table>\n",
       "<p>1000209 rows × 4 columns</p>\n",
       "</div>"
      ],
      "text/plain": [
       "         UserId  ItemId  Rating       Time\n",
       "31            1    3186       4  978300019\n",
       "22            1    1270       5  978300055\n",
       "27            1    1721       4  978300055\n",
       "37            1    1022       5  978300055\n",
       "24            1    2340       3  978300103\n",
       "...         ...     ...     ...        ...\n",
       "1000019    6040    2917       4  997454429\n",
       "999988     6040    1921       4  997454464\n",
       "1000172    6040    1784       3  997454464\n",
       "1000167    6040     161       3  997454486\n",
       "1000042    6040    1221       4  998315055\n",
       "\n",
       "[1000209 rows x 4 columns]"
      ]
     },
     "execution_count": 13,
     "metadata": {},
     "output_type": "execute_result"
    }
   ],
   "source": [
    "data"
   ]
  },
  {
   "cell_type": "code",
   "execution_count": 14,
   "id": "overhead-motor",
   "metadata": {},
   "outputs": [],
   "source": [
    "datatemp = data.copy()"
   ]
  },
  {
   "cell_type": "code",
   "execution_count": 15,
   "id": "destroyed-rehabilitation",
   "metadata": {},
   "outputs": [],
   "source": [
    "datatemp['Time_diff'] = datatemp['Time'].diff().fillna(0)\n",
    "datatemp['Change_User'] = datatemp['UserId'].diff().fillna(0)"
   ]
  },
  {
   "cell_type": "code",
   "execution_count": 16,
   "id": "selective-physics",
   "metadata": {
    "scrolled": true
   },
   "outputs": [
    {
     "data": {
      "text/html": [
       "<div>\n",
       "<style scoped>\n",
       "    .dataframe tbody tr th:only-of-type {\n",
       "        vertical-align: middle;\n",
       "    }\n",
       "\n",
       "    .dataframe tbody tr th {\n",
       "        vertical-align: top;\n",
       "    }\n",
       "\n",
       "    .dataframe thead th {\n",
       "        text-align: right;\n",
       "    }\n",
       "</style>\n",
       "<table border=\"1\" class=\"dataframe\">\n",
       "  <thead>\n",
       "    <tr style=\"text-align: right;\">\n",
       "      <th></th>\n",
       "      <th>UserId</th>\n",
       "      <th>ItemId</th>\n",
       "      <th>Rating</th>\n",
       "      <th>Time</th>\n",
       "      <th>Time_diff</th>\n",
       "      <th>Change_User</th>\n",
       "    </tr>\n",
       "  </thead>\n",
       "  <tbody>\n",
       "    <tr>\n",
       "      <th>31</th>\n",
       "      <td>1</td>\n",
       "      <td>3186</td>\n",
       "      <td>4</td>\n",
       "      <td>978300019</td>\n",
       "      <td>0.0</td>\n",
       "      <td>0.0</td>\n",
       "    </tr>\n",
       "    <tr>\n",
       "      <th>22</th>\n",
       "      <td>1</td>\n",
       "      <td>1270</td>\n",
       "      <td>5</td>\n",
       "      <td>978300055</td>\n",
       "      <td>36.0</td>\n",
       "      <td>0.0</td>\n",
       "    </tr>\n",
       "    <tr>\n",
       "      <th>27</th>\n",
       "      <td>1</td>\n",
       "      <td>1721</td>\n",
       "      <td>4</td>\n",
       "      <td>978300055</td>\n",
       "      <td>0.0</td>\n",
       "      <td>0.0</td>\n",
       "    </tr>\n",
       "    <tr>\n",
       "      <th>37</th>\n",
       "      <td>1</td>\n",
       "      <td>1022</td>\n",
       "      <td>5</td>\n",
       "      <td>978300055</td>\n",
       "      <td>0.0</td>\n",
       "      <td>0.0</td>\n",
       "    </tr>\n",
       "    <tr>\n",
       "      <th>24</th>\n",
       "      <td>1</td>\n",
       "      <td>2340</td>\n",
       "      <td>3</td>\n",
       "      <td>978300103</td>\n",
       "      <td>48.0</td>\n",
       "      <td>0.0</td>\n",
       "    </tr>\n",
       "    <tr>\n",
       "      <th>...</th>\n",
       "      <td>...</td>\n",
       "      <td>...</td>\n",
       "      <td>...</td>\n",
       "      <td>...</td>\n",
       "      <td>...</td>\n",
       "      <td>...</td>\n",
       "    </tr>\n",
       "    <tr>\n",
       "      <th>1000019</th>\n",
       "      <td>6040</td>\n",
       "      <td>2917</td>\n",
       "      <td>4</td>\n",
       "      <td>997454429</td>\n",
       "      <td>31.0</td>\n",
       "      <td>0.0</td>\n",
       "    </tr>\n",
       "    <tr>\n",
       "      <th>999988</th>\n",
       "      <td>6040</td>\n",
       "      <td>1921</td>\n",
       "      <td>4</td>\n",
       "      <td>997454464</td>\n",
       "      <td>35.0</td>\n",
       "      <td>0.0</td>\n",
       "    </tr>\n",
       "    <tr>\n",
       "      <th>1000172</th>\n",
       "      <td>6040</td>\n",
       "      <td>1784</td>\n",
       "      <td>3</td>\n",
       "      <td>997454464</td>\n",
       "      <td>0.0</td>\n",
       "      <td>0.0</td>\n",
       "    </tr>\n",
       "    <tr>\n",
       "      <th>1000167</th>\n",
       "      <td>6040</td>\n",
       "      <td>161</td>\n",
       "      <td>3</td>\n",
       "      <td>997454486</td>\n",
       "      <td>22.0</td>\n",
       "      <td>0.0</td>\n",
       "    </tr>\n",
       "    <tr>\n",
       "      <th>1000042</th>\n",
       "      <td>6040</td>\n",
       "      <td>1221</td>\n",
       "      <td>4</td>\n",
       "      <td>998315055</td>\n",
       "      <td>860569.0</td>\n",
       "      <td>0.0</td>\n",
       "    </tr>\n",
       "  </tbody>\n",
       "</table>\n",
       "<p>1000209 rows × 6 columns</p>\n",
       "</div>"
      ],
      "text/plain": [
       "         UserId  ItemId  Rating       Time  Time_diff  Change_User\n",
       "31            1    3186       4  978300019        0.0          0.0\n",
       "22            1    1270       5  978300055       36.0          0.0\n",
       "27            1    1721       4  978300055        0.0          0.0\n",
       "37            1    1022       5  978300055        0.0          0.0\n",
       "24            1    2340       3  978300103       48.0          0.0\n",
       "...         ...     ...     ...        ...        ...          ...\n",
       "1000019    6040    2917       4  997454429       31.0          0.0\n",
       "999988     6040    1921       4  997454464       35.0          0.0\n",
       "1000172    6040    1784       3  997454464        0.0          0.0\n",
       "1000167    6040     161       3  997454486       22.0          0.0\n",
       "1000042    6040    1221       4  998315055   860569.0          0.0\n",
       "\n",
       "[1000209 rows x 6 columns]"
      ]
     },
     "execution_count": 16,
     "metadata": {},
     "output_type": "execute_result"
    }
   ],
   "source": [
    "datatemp"
   ]
  },
  {
   "cell_type": "markdown",
   "id": "polished-vehicle",
   "metadata": {},
   "source": [
    "User의 변화와 Time의 변화를 기준으로 Session을 나눕니다"
   ]
  },
  {
   "cell_type": "code",
   "execution_count": 17,
   "id": "ordinary-arthur",
   "metadata": {},
   "outputs": [],
   "source": [
    "session_id = 1\n",
    "def make_sessions(x):\n",
    "    global session_id\n",
    "    if x['Time_diff']>600 or x['Change_User']==1:\n",
    "        session_id += 1\n",
    "    return session_id"
   ]
  },
  {
   "cell_type": "code",
   "execution_count": 18,
   "id": "understood-delivery",
   "metadata": {},
   "outputs": [],
   "source": [
    "datatemp['SessionId'] = datatemp.apply(make_sessions, axis=1)"
   ]
  },
  {
   "cell_type": "code",
   "execution_count": 19,
   "id": "virgin-merchandise",
   "metadata": {},
   "outputs": [
    {
     "data": {
      "text/html": [
       "<div>\n",
       "<style scoped>\n",
       "    .dataframe tbody tr th:only-of-type {\n",
       "        vertical-align: middle;\n",
       "    }\n",
       "\n",
       "    .dataframe tbody tr th {\n",
       "        vertical-align: top;\n",
       "    }\n",
       "\n",
       "    .dataframe thead th {\n",
       "        text-align: right;\n",
       "    }\n",
       "</style>\n",
       "<table border=\"1\" class=\"dataframe\">\n",
       "  <thead>\n",
       "    <tr style=\"text-align: right;\">\n",
       "      <th></th>\n",
       "      <th>UserId</th>\n",
       "      <th>ItemId</th>\n",
       "      <th>Rating</th>\n",
       "      <th>Time</th>\n",
       "      <th>Time_diff</th>\n",
       "      <th>Change_User</th>\n",
       "      <th>SessionId</th>\n",
       "    </tr>\n",
       "  </thead>\n",
       "  <tbody>\n",
       "    <tr>\n",
       "      <th>31</th>\n",
       "      <td>1</td>\n",
       "      <td>3186</td>\n",
       "      <td>4</td>\n",
       "      <td>978300019</td>\n",
       "      <td>0.0</td>\n",
       "      <td>0.0</td>\n",
       "      <td>1</td>\n",
       "    </tr>\n",
       "    <tr>\n",
       "      <th>22</th>\n",
       "      <td>1</td>\n",
       "      <td>1270</td>\n",
       "      <td>5</td>\n",
       "      <td>978300055</td>\n",
       "      <td>36.0</td>\n",
       "      <td>0.0</td>\n",
       "      <td>1</td>\n",
       "    </tr>\n",
       "    <tr>\n",
       "      <th>27</th>\n",
       "      <td>1</td>\n",
       "      <td>1721</td>\n",
       "      <td>4</td>\n",
       "      <td>978300055</td>\n",
       "      <td>0.0</td>\n",
       "      <td>0.0</td>\n",
       "      <td>1</td>\n",
       "    </tr>\n",
       "    <tr>\n",
       "      <th>37</th>\n",
       "      <td>1</td>\n",
       "      <td>1022</td>\n",
       "      <td>5</td>\n",
       "      <td>978300055</td>\n",
       "      <td>0.0</td>\n",
       "      <td>0.0</td>\n",
       "      <td>1</td>\n",
       "    </tr>\n",
       "    <tr>\n",
       "      <th>24</th>\n",
       "      <td>1</td>\n",
       "      <td>2340</td>\n",
       "      <td>3</td>\n",
       "      <td>978300103</td>\n",
       "      <td>48.0</td>\n",
       "      <td>0.0</td>\n",
       "      <td>1</td>\n",
       "    </tr>\n",
       "    <tr>\n",
       "      <th>...</th>\n",
       "      <td>...</td>\n",
       "      <td>...</td>\n",
       "      <td>...</td>\n",
       "      <td>...</td>\n",
       "      <td>...</td>\n",
       "      <td>...</td>\n",
       "      <td>...</td>\n",
       "    </tr>\n",
       "    <tr>\n",
       "      <th>1000019</th>\n",
       "      <td>6040</td>\n",
       "      <td>2917</td>\n",
       "      <td>4</td>\n",
       "      <td>997454429</td>\n",
       "      <td>31.0</td>\n",
       "      <td>0.0</td>\n",
       "      <td>28378</td>\n",
       "    </tr>\n",
       "    <tr>\n",
       "      <th>999988</th>\n",
       "      <td>6040</td>\n",
       "      <td>1921</td>\n",
       "      <td>4</td>\n",
       "      <td>997454464</td>\n",
       "      <td>35.0</td>\n",
       "      <td>0.0</td>\n",
       "      <td>28378</td>\n",
       "    </tr>\n",
       "    <tr>\n",
       "      <th>1000172</th>\n",
       "      <td>6040</td>\n",
       "      <td>1784</td>\n",
       "      <td>3</td>\n",
       "      <td>997454464</td>\n",
       "      <td>0.0</td>\n",
       "      <td>0.0</td>\n",
       "      <td>28378</td>\n",
       "    </tr>\n",
       "    <tr>\n",
       "      <th>1000167</th>\n",
       "      <td>6040</td>\n",
       "      <td>161</td>\n",
       "      <td>3</td>\n",
       "      <td>997454486</td>\n",
       "      <td>22.0</td>\n",
       "      <td>0.0</td>\n",
       "      <td>28378</td>\n",
       "    </tr>\n",
       "    <tr>\n",
       "      <th>1000042</th>\n",
       "      <td>6040</td>\n",
       "      <td>1221</td>\n",
       "      <td>4</td>\n",
       "      <td>998315055</td>\n",
       "      <td>860569.0</td>\n",
       "      <td>0.0</td>\n",
       "      <td>28379</td>\n",
       "    </tr>\n",
       "  </tbody>\n",
       "</table>\n",
       "<p>1000209 rows × 7 columns</p>\n",
       "</div>"
      ],
      "text/plain": [
       "         UserId  ItemId  Rating       Time  Time_diff  Change_User  SessionId\n",
       "31            1    3186       4  978300019        0.0          0.0          1\n",
       "22            1    1270       5  978300055       36.0          0.0          1\n",
       "27            1    1721       4  978300055        0.0          0.0          1\n",
       "37            1    1022       5  978300055        0.0          0.0          1\n",
       "24            1    2340       3  978300103       48.0          0.0          1\n",
       "...         ...     ...     ...        ...        ...          ...        ...\n",
       "1000019    6040    2917       4  997454429       31.0          0.0      28378\n",
       "999988     6040    1921       4  997454464       35.0          0.0      28378\n",
       "1000172    6040    1784       3  997454464        0.0          0.0      28378\n",
       "1000167    6040     161       3  997454486       22.0          0.0      28378\n",
       "1000042    6040    1221       4  998315055   860569.0          0.0      28379\n",
       "\n",
       "[1000209 rows x 7 columns]"
      ]
     },
     "execution_count": 19,
     "metadata": {},
     "output_type": "execute_result"
    }
   ],
   "source": [
    "datatemp"
   ]
  },
  {
   "cell_type": "code",
   "execution_count": 20,
   "id": "bridal-correlation",
   "metadata": {},
   "outputs": [
    {
     "data": {
      "text/plain": [
       "SessionId\n",
       "1         12\n",
       "2         28\n",
       "3         13\n",
       "4        129\n",
       "5         51\n",
       "        ... \n",
       "28375      7\n",
       "28376     14\n",
       "28377      1\n",
       "28378     21\n",
       "28379      1\n",
       "Length: 28379, dtype: int64"
      ]
     },
     "execution_count": 20,
     "metadata": {},
     "output_type": "execute_result"
    }
   ],
   "source": [
    "session_length = datatemp.groupby('SessionId').size()\n",
    "session_length"
   ]
  },
  {
   "cell_type": "code",
   "execution_count": 21,
   "id": "neural-natural",
   "metadata": {},
   "outputs": [
    {
     "data": {
      "text/plain": [
       "(6.0, 35.244687973501534)"
      ]
     },
     "execution_count": 21,
     "metadata": {},
     "output_type": "execute_result"
    }
   ],
   "source": [
    "session_length.median(), session_length.mean()"
   ]
  },
  {
   "cell_type": "code",
   "execution_count": 22,
   "id": "blind-measure",
   "metadata": {},
   "outputs": [
    {
     "data": {
      "text/plain": [
       "(1, 1193)"
      ]
     },
     "execution_count": 22,
     "metadata": {},
     "output_type": "execute_result"
    }
   ],
   "source": [
    "session_length.min(), session_length.max()"
   ]
  },
  {
   "cell_type": "code",
   "execution_count": 23,
   "id": "complex-racing",
   "metadata": {},
   "outputs": [
    {
     "data": {
      "text/plain": [
       "683.1100000000151"
      ]
     },
     "execution_count": 23,
     "metadata": {},
     "output_type": "execute_result"
    }
   ],
   "source": [
    "session_length.quantile(0.999)"
   ]
  },
  {
   "cell_type": "code",
   "execution_count": 24,
   "id": "modular-junior",
   "metadata": {},
   "outputs": [
    {
     "data": {
      "text/plain": [
       "count    28379.000000\n",
       "mean        35.244688\n",
       "std         72.348335\n",
       "min          1.000000\n",
       "3%           1.000000\n",
       "28%          1.000000\n",
       "50%          6.000000\n",
       "99.5%      439.110000\n",
       "max       1193.000000\n",
       "dtype: float64"
      ]
     },
     "execution_count": 24,
     "metadata": {},
     "output_type": "execute_result"
    }
   ],
   "source": [
    "session_length.describe(percentiles=[0.03, 0.28, 0.995])"
   ]
  },
  {
   "cell_type": "code",
   "execution_count": 25,
   "id": "accredited-money",
   "metadata": {},
   "outputs": [
    {
     "data": {
      "text/plain": [
       "1      0.280101\n",
       "2      0.383030\n",
       "3      0.433701\n",
       "4      0.467775\n",
       "5      0.498467\n",
       "         ...   \n",
       "663    0.998802\n",
       "670    0.998872\n",
       "671    0.998908\n",
       "674    0.998943\n",
       "680    0.998978\n",
       "Length: 507, dtype: float64"
      ]
     },
     "execution_count": 25,
     "metadata": {},
     "output_type": "execute_result"
    }
   ],
   "source": [
    "length_count = session_length.groupby(session_length).size()\n",
    "length_percent_cumsum = length_count.cumsum() / length_count.sum()\n",
    "length_percent_cumsum_999 = length_percent_cumsum[length_percent_cumsum < 0.999]\n",
    "\n",
    "length_percent_cumsum_999"
   ]
  },
  {
   "cell_type": "markdown",
   "id": "coordinate-owner",
   "metadata": {},
   "source": [
    "10분 간의 공백이 있는 것을 기준으로 세션을 나눌 경우, 28%의 세션이 길이 1을 가지게 된다. 기준을 더 길게 해 봅니다."
   ]
  },
  {
   "cell_type": "code",
   "execution_count": 44,
   "id": "reflected-section",
   "metadata": {},
   "outputs": [],
   "source": [
    "datatemp = data.copy()"
   ]
  },
  {
   "cell_type": "code",
   "execution_count": 27,
   "id": "dependent-floating",
   "metadata": {},
   "outputs": [],
   "source": [
    "datatemp['Time_diff'] = datatemp['Time'].diff().fillna(0)\n",
    "datatemp['Change_User'] = datatemp['UserId'].diff().fillna(0)"
   ]
  },
  {
   "cell_type": "code",
   "execution_count": 28,
   "id": "disabled-monitor",
   "metadata": {
    "scrolled": true
   },
   "outputs": [
    {
     "data": {
      "text/html": [
       "<div>\n",
       "<style scoped>\n",
       "    .dataframe tbody tr th:only-of-type {\n",
       "        vertical-align: middle;\n",
       "    }\n",
       "\n",
       "    .dataframe tbody tr th {\n",
       "        vertical-align: top;\n",
       "    }\n",
       "\n",
       "    .dataframe thead th {\n",
       "        text-align: right;\n",
       "    }\n",
       "</style>\n",
       "<table border=\"1\" class=\"dataframe\">\n",
       "  <thead>\n",
       "    <tr style=\"text-align: right;\">\n",
       "      <th></th>\n",
       "      <th>UserId</th>\n",
       "      <th>ItemId</th>\n",
       "      <th>Rating</th>\n",
       "      <th>Time</th>\n",
       "      <th>Time_diff</th>\n",
       "      <th>Change_User</th>\n",
       "    </tr>\n",
       "  </thead>\n",
       "  <tbody>\n",
       "    <tr>\n",
       "      <th>31</th>\n",
       "      <td>1</td>\n",
       "      <td>3186</td>\n",
       "      <td>4</td>\n",
       "      <td>978300019</td>\n",
       "      <td>0.0</td>\n",
       "      <td>0.0</td>\n",
       "    </tr>\n",
       "    <tr>\n",
       "      <th>22</th>\n",
       "      <td>1</td>\n",
       "      <td>1270</td>\n",
       "      <td>5</td>\n",
       "      <td>978300055</td>\n",
       "      <td>36.0</td>\n",
       "      <td>0.0</td>\n",
       "    </tr>\n",
       "    <tr>\n",
       "      <th>27</th>\n",
       "      <td>1</td>\n",
       "      <td>1721</td>\n",
       "      <td>4</td>\n",
       "      <td>978300055</td>\n",
       "      <td>0.0</td>\n",
       "      <td>0.0</td>\n",
       "    </tr>\n",
       "    <tr>\n",
       "      <th>37</th>\n",
       "      <td>1</td>\n",
       "      <td>1022</td>\n",
       "      <td>5</td>\n",
       "      <td>978300055</td>\n",
       "      <td>0.0</td>\n",
       "      <td>0.0</td>\n",
       "    </tr>\n",
       "    <tr>\n",
       "      <th>24</th>\n",
       "      <td>1</td>\n",
       "      <td>2340</td>\n",
       "      <td>3</td>\n",
       "      <td>978300103</td>\n",
       "      <td>48.0</td>\n",
       "      <td>0.0</td>\n",
       "    </tr>\n",
       "    <tr>\n",
       "      <th>...</th>\n",
       "      <td>...</td>\n",
       "      <td>...</td>\n",
       "      <td>...</td>\n",
       "      <td>...</td>\n",
       "      <td>...</td>\n",
       "      <td>...</td>\n",
       "    </tr>\n",
       "    <tr>\n",
       "      <th>1000019</th>\n",
       "      <td>6040</td>\n",
       "      <td>2917</td>\n",
       "      <td>4</td>\n",
       "      <td>997454429</td>\n",
       "      <td>31.0</td>\n",
       "      <td>0.0</td>\n",
       "    </tr>\n",
       "    <tr>\n",
       "      <th>999988</th>\n",
       "      <td>6040</td>\n",
       "      <td>1921</td>\n",
       "      <td>4</td>\n",
       "      <td>997454464</td>\n",
       "      <td>35.0</td>\n",
       "      <td>0.0</td>\n",
       "    </tr>\n",
       "    <tr>\n",
       "      <th>1000172</th>\n",
       "      <td>6040</td>\n",
       "      <td>1784</td>\n",
       "      <td>3</td>\n",
       "      <td>997454464</td>\n",
       "      <td>0.0</td>\n",
       "      <td>0.0</td>\n",
       "    </tr>\n",
       "    <tr>\n",
       "      <th>1000167</th>\n",
       "      <td>6040</td>\n",
       "      <td>161</td>\n",
       "      <td>3</td>\n",
       "      <td>997454486</td>\n",
       "      <td>22.0</td>\n",
       "      <td>0.0</td>\n",
       "    </tr>\n",
       "    <tr>\n",
       "      <th>1000042</th>\n",
       "      <td>6040</td>\n",
       "      <td>1221</td>\n",
       "      <td>4</td>\n",
       "      <td>998315055</td>\n",
       "      <td>860569.0</td>\n",
       "      <td>0.0</td>\n",
       "    </tr>\n",
       "  </tbody>\n",
       "</table>\n",
       "<p>1000209 rows × 6 columns</p>\n",
       "</div>"
      ],
      "text/plain": [
       "         UserId  ItemId  Rating       Time  Time_diff  Change_User\n",
       "31            1    3186       4  978300019        0.0          0.0\n",
       "22            1    1270       5  978300055       36.0          0.0\n",
       "27            1    1721       4  978300055        0.0          0.0\n",
       "37            1    1022       5  978300055        0.0          0.0\n",
       "24            1    2340       3  978300103       48.0          0.0\n",
       "...         ...     ...     ...        ...        ...          ...\n",
       "1000019    6040    2917       4  997454429       31.0          0.0\n",
       "999988     6040    1921       4  997454464       35.0          0.0\n",
       "1000172    6040    1784       3  997454464        0.0          0.0\n",
       "1000167    6040     161       3  997454486       22.0          0.0\n",
       "1000042    6040    1221       4  998315055   860569.0          0.0\n",
       "\n",
       "[1000209 rows x 6 columns]"
      ]
     },
     "execution_count": 28,
     "metadata": {},
     "output_type": "execute_result"
    }
   ],
   "source": [
    "datatemp"
   ]
  },
  {
   "cell_type": "markdown",
   "id": "metric-taxation",
   "metadata": {},
   "source": [
    "User의 변화와 Time의 변화를 기준으로 Session을 나눕니다"
   ]
  },
  {
   "cell_type": "code",
   "execution_count": 29,
   "id": "signed-apparatus",
   "metadata": {},
   "outputs": [],
   "source": [
    "session_id = 1\n",
    "def make_sessions(x):\n",
    "    global session_id\n",
    "    if x['Time_diff']>3000 or x['Change_User']==1:\n",
    "        session_id += 1\n",
    "    return session_id"
   ]
  },
  {
   "cell_type": "code",
   "execution_count": 30,
   "id": "polish-submission",
   "metadata": {},
   "outputs": [],
   "source": [
    "datatemp['SessionId'] = datatemp.apply(make_sessions, axis=1)"
   ]
  },
  {
   "cell_type": "code",
   "execution_count": 31,
   "id": "outside-learning",
   "metadata": {},
   "outputs": [
    {
     "data": {
      "text/html": [
       "<div>\n",
       "<style scoped>\n",
       "    .dataframe tbody tr th:only-of-type {\n",
       "        vertical-align: middle;\n",
       "    }\n",
       "\n",
       "    .dataframe tbody tr th {\n",
       "        vertical-align: top;\n",
       "    }\n",
       "\n",
       "    .dataframe thead th {\n",
       "        text-align: right;\n",
       "    }\n",
       "</style>\n",
       "<table border=\"1\" class=\"dataframe\">\n",
       "  <thead>\n",
       "    <tr style=\"text-align: right;\">\n",
       "      <th></th>\n",
       "      <th>UserId</th>\n",
       "      <th>ItemId</th>\n",
       "      <th>Rating</th>\n",
       "      <th>Time</th>\n",
       "      <th>Time_diff</th>\n",
       "      <th>Change_User</th>\n",
       "      <th>SessionId</th>\n",
       "    </tr>\n",
       "  </thead>\n",
       "  <tbody>\n",
       "    <tr>\n",
       "      <th>31</th>\n",
       "      <td>1</td>\n",
       "      <td>3186</td>\n",
       "      <td>4</td>\n",
       "      <td>978300019</td>\n",
       "      <td>0.0</td>\n",
       "      <td>0.0</td>\n",
       "      <td>1</td>\n",
       "    </tr>\n",
       "    <tr>\n",
       "      <th>22</th>\n",
       "      <td>1</td>\n",
       "      <td>1270</td>\n",
       "      <td>5</td>\n",
       "      <td>978300055</td>\n",
       "      <td>36.0</td>\n",
       "      <td>0.0</td>\n",
       "      <td>1</td>\n",
       "    </tr>\n",
       "    <tr>\n",
       "      <th>27</th>\n",
       "      <td>1</td>\n",
       "      <td>1721</td>\n",
       "      <td>4</td>\n",
       "      <td>978300055</td>\n",
       "      <td>0.0</td>\n",
       "      <td>0.0</td>\n",
       "      <td>1</td>\n",
       "    </tr>\n",
       "    <tr>\n",
       "      <th>37</th>\n",
       "      <td>1</td>\n",
       "      <td>1022</td>\n",
       "      <td>5</td>\n",
       "      <td>978300055</td>\n",
       "      <td>0.0</td>\n",
       "      <td>0.0</td>\n",
       "      <td>1</td>\n",
       "    </tr>\n",
       "    <tr>\n",
       "      <th>24</th>\n",
       "      <td>1</td>\n",
       "      <td>2340</td>\n",
       "      <td>3</td>\n",
       "      <td>978300103</td>\n",
       "      <td>48.0</td>\n",
       "      <td>0.0</td>\n",
       "      <td>1</td>\n",
       "    </tr>\n",
       "    <tr>\n",
       "      <th>...</th>\n",
       "      <td>...</td>\n",
       "      <td>...</td>\n",
       "      <td>...</td>\n",
       "      <td>...</td>\n",
       "      <td>...</td>\n",
       "      <td>...</td>\n",
       "      <td>...</td>\n",
       "    </tr>\n",
       "    <tr>\n",
       "      <th>1000019</th>\n",
       "      <td>6040</td>\n",
       "      <td>2917</td>\n",
       "      <td>4</td>\n",
       "      <td>997454429</td>\n",
       "      <td>31.0</td>\n",
       "      <td>0.0</td>\n",
       "      <td>24558</td>\n",
       "    </tr>\n",
       "    <tr>\n",
       "      <th>999988</th>\n",
       "      <td>6040</td>\n",
       "      <td>1921</td>\n",
       "      <td>4</td>\n",
       "      <td>997454464</td>\n",
       "      <td>35.0</td>\n",
       "      <td>0.0</td>\n",
       "      <td>24558</td>\n",
       "    </tr>\n",
       "    <tr>\n",
       "      <th>1000172</th>\n",
       "      <td>6040</td>\n",
       "      <td>1784</td>\n",
       "      <td>3</td>\n",
       "      <td>997454464</td>\n",
       "      <td>0.0</td>\n",
       "      <td>0.0</td>\n",
       "      <td>24558</td>\n",
       "    </tr>\n",
       "    <tr>\n",
       "      <th>1000167</th>\n",
       "      <td>6040</td>\n",
       "      <td>161</td>\n",
       "      <td>3</td>\n",
       "      <td>997454486</td>\n",
       "      <td>22.0</td>\n",
       "      <td>0.0</td>\n",
       "      <td>24558</td>\n",
       "    </tr>\n",
       "    <tr>\n",
       "      <th>1000042</th>\n",
       "      <td>6040</td>\n",
       "      <td>1221</td>\n",
       "      <td>4</td>\n",
       "      <td>998315055</td>\n",
       "      <td>860569.0</td>\n",
       "      <td>0.0</td>\n",
       "      <td>24559</td>\n",
       "    </tr>\n",
       "  </tbody>\n",
       "</table>\n",
       "<p>1000209 rows × 7 columns</p>\n",
       "</div>"
      ],
      "text/plain": [
       "         UserId  ItemId  Rating       Time  Time_diff  Change_User  SessionId\n",
       "31            1    3186       4  978300019        0.0          0.0          1\n",
       "22            1    1270       5  978300055       36.0          0.0          1\n",
       "27            1    1721       4  978300055        0.0          0.0          1\n",
       "37            1    1022       5  978300055        0.0          0.0          1\n",
       "24            1    2340       3  978300103       48.0          0.0          1\n",
       "...         ...     ...     ...        ...        ...          ...        ...\n",
       "1000019    6040    2917       4  997454429       31.0          0.0      24558\n",
       "999988     6040    1921       4  997454464       35.0          0.0      24558\n",
       "1000172    6040    1784       3  997454464        0.0          0.0      24558\n",
       "1000167    6040     161       3  997454486       22.0          0.0      24558\n",
       "1000042    6040    1221       4  998315055   860569.0          0.0      24559\n",
       "\n",
       "[1000209 rows x 7 columns]"
      ]
     },
     "execution_count": 31,
     "metadata": {},
     "output_type": "execute_result"
    }
   ],
   "source": [
    "datatemp"
   ]
  },
  {
   "cell_type": "code",
   "execution_count": null,
   "id": "verified-cinema",
   "metadata": {},
   "outputs": [],
   "source": [
    "session_length = datatemp.groupby('SessionId').size()\n",
    "session_length"
   ]
  },
  {
   "cell_type": "code",
   "execution_count": 33,
   "id": "interested-designer",
   "metadata": {},
   "outputs": [
    {
     "data": {
      "text/plain": [
       "(6.0, 40.726780406368334)"
      ]
     },
     "execution_count": 33,
     "metadata": {},
     "output_type": "execute_result"
    }
   ],
   "source": [
    "session_length.median(), session_length.mean()"
   ]
  },
  {
   "cell_type": "code",
   "execution_count": 34,
   "id": "preceding-necessity",
   "metadata": {},
   "outputs": [
    {
     "data": {
      "text/plain": [
       "(1, 1290)"
      ]
     },
     "execution_count": 34,
     "metadata": {},
     "output_type": "execute_result"
    }
   ],
   "source": [
    "session_length.min(), session_length.max()"
   ]
  },
  {
   "cell_type": "code",
   "execution_count": 35,
   "id": "active-beijing",
   "metadata": {},
   "outputs": [
    {
     "data": {
      "text/plain": [
       "768.0"
      ]
     },
     "execution_count": 35,
     "metadata": {},
     "output_type": "execute_result"
    }
   ],
   "source": [
    "session_length.quantile(0.999)"
   ]
  },
  {
   "cell_type": "code",
   "execution_count": 36,
   "id": "certified-telescope",
   "metadata": {},
   "outputs": [
    {
     "data": {
      "text/plain": [
       "count    24559.000000\n",
       "mean        40.726780\n",
       "std         81.880958\n",
       "min          1.000000\n",
       "3%           1.000000\n",
       "28%          2.000000\n",
       "50%          6.000000\n",
       "99.5%      506.000000\n",
       "max       1290.000000\n",
       "dtype: float64"
      ]
     },
     "execution_count": 36,
     "metadata": {},
     "output_type": "execute_result"
    }
   ],
   "source": [
    "session_length.describe(percentiles=[0.03, 0.28, 0.995])"
   ]
  },
  {
   "cell_type": "code",
   "execution_count": 37,
   "id": "reported-vegetation",
   "metadata": {},
   "outputs": [
    {
     "data": {
      "text/plain": [
       "1      0.272731\n",
       "2      0.373061\n",
       "3      0.423185\n",
       "4      0.455027\n",
       "5      0.482064\n",
       "         ...   \n",
       "733    0.998778\n",
       "735    0.998819\n",
       "744    0.998860\n",
       "761    0.998901\n",
       "765    0.998941\n",
       "Length: 538, dtype: float64"
      ]
     },
     "execution_count": 37,
     "metadata": {},
     "output_type": "execute_result"
    }
   ],
   "source": [
    "length_count = session_length.groupby(session_length).size()\n",
    "length_percent_cumsum = length_count.cumsum() / length_count.sum()\n",
    "length_percent_cumsum_999 = length_percent_cumsum[length_percent_cumsum < 0.999]\n",
    "\n",
    "length_percent_cumsum_999"
   ]
  },
  {
   "cell_type": "markdown",
   "id": "hired-calendar",
   "metadata": {},
   "source": [
    "세션의 기준 길이를 10분으로 하든, 50분으로 하든, 길이가 1인 세션의 비율은 크게 변하지 않았습니다. 유효한 분포를 보기위해 같은 유저 내에서 Time_diff의 분포를 시각화해 보겠습니다."
   ]
  },
  {
   "cell_type": "code",
   "execution_count": 38,
   "id": "selective-method",
   "metadata": {},
   "outputs": [],
   "source": [
    "effective_difference = datatemp[datatemp['Change_User']!=1]['Time_diff']"
   ]
  },
  {
   "cell_type": "code",
   "execution_count": 41,
   "id": "listed-wheat",
   "metadata": {},
   "outputs": [
    {
     "data": {
      "text/plain": [
       "<AxesSubplot:ylabel='Frequency'>"
      ]
     },
     "execution_count": 41,
     "metadata": {},
     "output_type": "execute_result"
    },
    {
     "data": {
      "image/png": "[encoded data removed]",
      "text/plain": [
       "<Figure size 432x288 with 1 Axes>"
      ]
     },
     "metadata": {
      "needs_background": "light"
     },
     "output_type": "display_data"
    }
   ],
   "source": [
    "effective_difference.plot.hist(bins=100)"
   ]
  },
  {
   "cell_type": "code",
   "execution_count": 43,
   "id": "integrated-dragon",
   "metadata": {},
   "outputs": [
    {
     "data": {
      "text/plain": [
       "<AxesSubplot:ylabel='Frequency'>"
      ]
     },
     "execution_count": 43,
     "metadata": {},
     "output_type": "execute_result"
    },
    {
     "data": {
      "image/png": "[encoded data removed]",
      "text/plain": [
       "<Figure size 432x288 with 1 Axes>"
      ]
     },
     "metadata": {
      "needs_background": "light"
     },
     "output_type": "display_data"
    }
   ],
   "source": [
    "effective_difference[effective_difference<2000].plot.hist(bins=100)"
   ]
  },
  {
   "cell_type": "markdown",
   "id": "significant-character",
   "metadata": {},
   "source": [
    "200초를 기준으로 한다면 의미있는 세션을 잘 골라낼 수 있을 것 같습니다. 이후 길이가 3 미만인 세션은 삭제하도록 하겠습니다."
   ]
  },
  {
   "cell_type": "code",
   "execution_count": 143,
   "id": "satisfactory-holmes",
   "metadata": {},
   "outputs": [],
   "source": [
    "datatemp = data.copy()\n",
    "\n",
    "datatemp['Time_diff'] = datatemp['Time'].diff().fillna(0)\n",
    "datatemp['Change_User'] = datatemp['UserId'].diff().fillna(0)\n",
    "\n",
    "session_id = 1\n",
    "def make_sessions(x, max_diff):\n",
    "    global session_id\n",
    "    if x['Time_diff']>max_diff or x['Change_User']==1:\n",
    "        session_id += 1\n",
    "    return session_id\n",
    "\n",
    "datatemp['SessionId'] = datatemp.apply(make_sessions, max_diff=200, axis=1)\n",
    "session_length = datatemp.groupby('SessionId').size()"
   ]
  },
  {
   "cell_type": "code",
   "execution_count": 144,
   "id": "willing-essex",
   "metadata": {},
   "outputs": [
    {
     "data": {
      "text/plain": [
       "SessionId\n",
       "1          7\n",
       "2          5\n",
       "3         28\n",
       "4         13\n",
       "5        129\n",
       "        ... \n",
       "42314      6\n",
       "42315     14\n",
       "42316      1\n",
       "42317     21\n",
       "42318      1\n",
       "Length: 42318, dtype: int64"
      ]
     },
     "execution_count": 144,
     "metadata": {},
     "output_type": "execute_result"
    }
   ],
   "source": [
    "session_length"
   ]
  },
  {
   "cell_type": "code",
   "execution_count": 145,
   "id": "attached-optics",
   "metadata": {
    "scrolled": true
   },
   "outputs": [
    {
     "name": "stdout",
     "output_type": "stream",
     "text": [
      "SessionId\n",
      "1         True\n",
      "2         True\n",
      "3         True\n",
      "4         True\n",
      "5         True\n",
      "         ...  \n",
      "42314     True\n",
      "42315     True\n",
      "42316    False\n",
      "42317     True\n",
      "42318    False\n",
      "Length: 42318, dtype: bool\n",
      "0.6019188052365424\n"
     ]
    }
   ],
   "source": [
    "effective_sessionid = session_length.apply(lambda g: g>=3)\n",
    "print(effective_sessionid)\n",
    "print(effective_sessionid.mean())"
   ]
  },
  {
   "cell_type": "code",
   "execution_count": 146,
   "id": "decimal-shannon",
   "metadata": {},
   "outputs": [],
   "source": [
    "# 모든 value가 True 인 Series\n",
    "sessionids = effective_sessionid[effective_sessionid==True]"
   ]
  },
  {
   "cell_type": "code",
   "execution_count": 147,
   "id": "attended-mouth",
   "metadata": {},
   "outputs": [
    {
     "data": {
      "text/plain": [
       "25472"
      ]
     },
     "execution_count": 147,
     "metadata": {},
     "output_type": "execute_result"
    }
   ],
   "source": [
    "session_list = sessionids.index.to_list()\n",
    "len(session_list)"
   ]
  },
  {
   "cell_type": "code",
   "execution_count": 148,
   "id": "chemical-angola",
   "metadata": {},
   "outputs": [
    {
     "data": {
      "text/html": [
       "<div>\n",
       "<style scoped>\n",
       "    .dataframe tbody tr th:only-of-type {\n",
       "        vertical-align: middle;\n",
       "    }\n",
       "\n",
       "    .dataframe tbody tr th {\n",
       "        vertical-align: top;\n",
       "    }\n",
       "\n",
       "    .dataframe thead th {\n",
       "        text-align: right;\n",
       "    }\n",
       "</style>\n",
       "<table border=\"1\" class=\"dataframe\">\n",
       "  <thead>\n",
       "    <tr style=\"text-align: right;\">\n",
       "      <th></th>\n",
       "      <th>UserId</th>\n",
       "      <th>ItemId</th>\n",
       "      <th>Rating</th>\n",
       "      <th>Time</th>\n",
       "      <th>Time_diff</th>\n",
       "      <th>Change_User</th>\n",
       "      <th>SessionId</th>\n",
       "    </tr>\n",
       "  </thead>\n",
       "  <tbody>\n",
       "    <tr>\n",
       "      <th>31</th>\n",
       "      <td>1</td>\n",
       "      <td>3186</td>\n",
       "      <td>4</td>\n",
       "      <td>978300019</td>\n",
       "      <td>0.0</td>\n",
       "      <td>0.0</td>\n",
       "      <td>1</td>\n",
       "    </tr>\n",
       "    <tr>\n",
       "      <th>22</th>\n",
       "      <td>1</td>\n",
       "      <td>1270</td>\n",
       "      <td>5</td>\n",
       "      <td>978300055</td>\n",
       "      <td>36.0</td>\n",
       "      <td>0.0</td>\n",
       "      <td>1</td>\n",
       "    </tr>\n",
       "    <tr>\n",
       "      <th>27</th>\n",
       "      <td>1</td>\n",
       "      <td>1721</td>\n",
       "      <td>4</td>\n",
       "      <td>978300055</td>\n",
       "      <td>0.0</td>\n",
       "      <td>0.0</td>\n",
       "      <td>1</td>\n",
       "    </tr>\n",
       "    <tr>\n",
       "      <th>37</th>\n",
       "      <td>1</td>\n",
       "      <td>1022</td>\n",
       "      <td>5</td>\n",
       "      <td>978300055</td>\n",
       "      <td>0.0</td>\n",
       "      <td>0.0</td>\n",
       "      <td>1</td>\n",
       "    </tr>\n",
       "    <tr>\n",
       "      <th>24</th>\n",
       "      <td>1</td>\n",
       "      <td>2340</td>\n",
       "      <td>3</td>\n",
       "      <td>978300103</td>\n",
       "      <td>48.0</td>\n",
       "      <td>0.0</td>\n",
       "      <td>1</td>\n",
       "    </tr>\n",
       "    <tr>\n",
       "      <th>...</th>\n",
       "      <td>...</td>\n",
       "      <td>...</td>\n",
       "      <td>...</td>\n",
       "      <td>...</td>\n",
       "      <td>...</td>\n",
       "      <td>...</td>\n",
       "      <td>...</td>\n",
       "    </tr>\n",
       "    <tr>\n",
       "      <th>999923</th>\n",
       "      <td>6040</td>\n",
       "      <td>232</td>\n",
       "      <td>5</td>\n",
       "      <td>997454398</td>\n",
       "      <td>31.0</td>\n",
       "      <td>0.0</td>\n",
       "      <td>42317</td>\n",
       "    </tr>\n",
       "    <tr>\n",
       "      <th>1000019</th>\n",
       "      <td>6040</td>\n",
       "      <td>2917</td>\n",
       "      <td>4</td>\n",
       "      <td>997454429</td>\n",
       "      <td>31.0</td>\n",
       "      <td>0.0</td>\n",
       "      <td>42317</td>\n",
       "    </tr>\n",
       "    <tr>\n",
       "      <th>999988</th>\n",
       "      <td>6040</td>\n",
       "      <td>1921</td>\n",
       "      <td>4</td>\n",
       "      <td>997454464</td>\n",
       "      <td>35.0</td>\n",
       "      <td>0.0</td>\n",
       "      <td>42317</td>\n",
       "    </tr>\n",
       "    <tr>\n",
       "      <th>1000172</th>\n",
       "      <td>6040</td>\n",
       "      <td>1784</td>\n",
       "      <td>3</td>\n",
       "      <td>997454464</td>\n",
       "      <td>0.0</td>\n",
       "      <td>0.0</td>\n",
       "      <td>42317</td>\n",
       "    </tr>\n",
       "    <tr>\n",
       "      <th>1000167</th>\n",
       "      <td>6040</td>\n",
       "      <td>161</td>\n",
       "      <td>3</td>\n",
       "      <td>997454486</td>\n",
       "      <td>22.0</td>\n",
       "      <td>0.0</td>\n",
       "      <td>42317</td>\n",
       "    </tr>\n",
       "  </tbody>\n",
       "</table>\n",
       "<p>978746 rows × 7 columns</p>\n",
       "</div>"
      ],
      "text/plain": [
       "         UserId  ItemId  Rating       Time  Time_diff  Change_User  SessionId\n",
       "31            1    3186       4  978300019        0.0          0.0          1\n",
       "22            1    1270       5  978300055       36.0          0.0          1\n",
       "27            1    1721       4  978300055        0.0          0.0          1\n",
       "37            1    1022       5  978300055        0.0          0.0          1\n",
       "24            1    2340       3  978300103       48.0          0.0          1\n",
       "...         ...     ...     ...        ...        ...          ...        ...\n",
       "999923     6040     232       5  997454398       31.0          0.0      42317\n",
       "1000019    6040    2917       4  997454429       31.0          0.0      42317\n",
       "999988     6040    1921       4  997454464       35.0          0.0      42317\n",
       "1000172    6040    1784       3  997454464        0.0          0.0      42317\n",
       "1000167    6040     161       3  997454486       22.0          0.0      42317\n",
       "\n",
       "[978746 rows x 7 columns]"
      ]
     },
     "execution_count": 148,
     "metadata": {},
     "output_type": "execute_result"
    }
   ],
   "source": [
    "clean_data = datatemp[datatemp['SessionId'].isin(session_list)]\n",
    "clean_data"
   ]
  },
  {
   "cell_type": "markdown",
   "id": "received-clark",
   "metadata": {},
   "source": [
    "전체 세션의 40%가 길이 1 혹은 2였습니다. 전체 데이터포인트에서 차지하는 비율은 5% 미만입니다.\n",
    "전처리가 끝났으므로, Time_diff와 Change_User를 삭제하고 reindex합니다."
   ]
  },
  {
   "cell_type": "code",
   "execution_count": 149,
   "id": "guilty-spanish",
   "metadata": {},
   "outputs": [],
   "source": [
    "clean_data = clean_data[['UserId', 'ItemId', 'Rating', 'Time', 'SessionId']]"
   ]
  },
  {
   "cell_type": "code",
   "execution_count": 150,
   "id": "instrumental-deputy",
   "metadata": {
    "scrolled": false
   },
   "outputs": [
    {
     "data": {
      "text/html": [
       "<div>\n",
       "<style scoped>\n",
       "    .dataframe tbody tr th:only-of-type {\n",
       "        vertical-align: middle;\n",
       "    }\n",
       "\n",
       "    .dataframe tbody tr th {\n",
       "        vertical-align: top;\n",
       "    }\n",
       "\n",
       "    .dataframe thead th {\n",
       "        text-align: right;\n",
       "    }\n",
       "</style>\n",
       "<table border=\"1\" class=\"dataframe\">\n",
       "  <thead>\n",
       "    <tr style=\"text-align: right;\">\n",
       "      <th></th>\n",
       "      <th>UserId</th>\n",
       "      <th>ItemId</th>\n",
       "      <th>Rating</th>\n",
       "      <th>Time</th>\n",
       "      <th>SessionId</th>\n",
       "    </tr>\n",
       "  </thead>\n",
       "  <tbody>\n",
       "    <tr>\n",
       "      <th>0</th>\n",
       "      <td>1</td>\n",
       "      <td>3186</td>\n",
       "      <td>4</td>\n",
       "      <td>978300019</td>\n",
       "      <td>1</td>\n",
       "    </tr>\n",
       "    <tr>\n",
       "      <th>1</th>\n",
       "      <td>1</td>\n",
       "      <td>1270</td>\n",
       "      <td>5</td>\n",
       "      <td>978300055</td>\n",
       "      <td>1</td>\n",
       "    </tr>\n",
       "    <tr>\n",
       "      <th>2</th>\n",
       "      <td>1</td>\n",
       "      <td>1721</td>\n",
       "      <td>4</td>\n",
       "      <td>978300055</td>\n",
       "      <td>1</td>\n",
       "    </tr>\n",
       "    <tr>\n",
       "      <th>3</th>\n",
       "      <td>1</td>\n",
       "      <td>1022</td>\n",
       "      <td>5</td>\n",
       "      <td>978300055</td>\n",
       "      <td>1</td>\n",
       "    </tr>\n",
       "    <tr>\n",
       "      <th>4</th>\n",
       "      <td>1</td>\n",
       "      <td>2340</td>\n",
       "      <td>3</td>\n",
       "      <td>978300103</td>\n",
       "      <td>1</td>\n",
       "    </tr>\n",
       "    <tr>\n",
       "      <th>...</th>\n",
       "      <td>...</td>\n",
       "      <td>...</td>\n",
       "      <td>...</td>\n",
       "      <td>...</td>\n",
       "      <td>...</td>\n",
       "    </tr>\n",
       "    <tr>\n",
       "      <th>978741</th>\n",
       "      <td>6040</td>\n",
       "      <td>232</td>\n",
       "      <td>5</td>\n",
       "      <td>997454398</td>\n",
       "      <td>42317</td>\n",
       "    </tr>\n",
       "    <tr>\n",
       "      <th>978742</th>\n",
       "      <td>6040</td>\n",
       "      <td>2917</td>\n",
       "      <td>4</td>\n",
       "      <td>997454429</td>\n",
       "      <td>42317</td>\n",
       "    </tr>\n",
       "    <tr>\n",
       "      <th>978743</th>\n",
       "      <td>6040</td>\n",
       "      <td>1921</td>\n",
       "      <td>4</td>\n",
       "      <td>997454464</td>\n",
       "      <td>42317</td>\n",
       "    </tr>\n",
       "    <tr>\n",
       "      <th>978744</th>\n",
       "      <td>6040</td>\n",
       "      <td>1784</td>\n",
       "      <td>3</td>\n",
       "      <td>997454464</td>\n",
       "      <td>42317</td>\n",
       "    </tr>\n",
       "    <tr>\n",
       "      <th>978745</th>\n",
       "      <td>6040</td>\n",
       "      <td>161</td>\n",
       "      <td>3</td>\n",
       "      <td>997454486</td>\n",
       "      <td>42317</td>\n",
       "    </tr>\n",
       "  </tbody>\n",
       "</table>\n",
       "<p>978746 rows × 5 columns</p>\n",
       "</div>"
      ],
      "text/plain": [
       "        UserId  ItemId  Rating       Time  SessionId\n",
       "0            1    3186       4  978300019          1\n",
       "1            1    1270       5  978300055          1\n",
       "2            1    1721       4  978300055          1\n",
       "3            1    1022       5  978300055          1\n",
       "4            1    2340       3  978300103          1\n",
       "...        ...     ...     ...        ...        ...\n",
       "978741    6040     232       5  997454398      42317\n",
       "978742    6040    2917       4  997454429      42317\n",
       "978743    6040    1921       4  997454464      42317\n",
       "978744    6040    1784       3  997454464      42317\n",
       "978745    6040     161       3  997454486      42317\n",
       "\n",
       "[978746 rows x 5 columns]"
      ]
     },
     "execution_count": 150,
     "metadata": {},
     "output_type": "execute_result"
    }
   ],
   "source": [
    "clean_data.reset_index(drop=True, inplace=True)\n",
    "clean_data"
   ]
  },
  {
   "cell_type": "markdown",
   "id": "guided-norman",
   "metadata": {},
   "source": [
    "이제 시간을 datetime 형식으로 변환합니다."
   ]
  },
  {
   "cell_type": "code",
   "execution_count": 156,
   "id": "sorted-bankruptcy",
   "metadata": {},
   "outputs": [],
   "source": [
    "def convert_datetime(unixtime):\n",
    "    \"\"\"Convert unixtime to datetime\"\"\"\n",
    "    date = dt.datetime.fromtimestamp(unixtime).strftime('%Y-%m-%d %H:%M:%S')\n",
    "    date = dt.datetime.strptime(date, '%Y-%m-%d %H:%M:%S')\n",
    "    return date # format : timestamp"
   ]
  },
  {
   "cell_type": "code",
   "execution_count": 157,
   "id": "fourth-diary",
   "metadata": {},
   "outputs": [],
   "source": [
    "clean_data['Time'] = clean_data.Time.apply(convert_datetime)"
   ]
  },
  {
   "cell_type": "code",
   "execution_count": 158,
   "id": "forbidden-forest",
   "metadata": {},
   "outputs": [
    {
     "name": "stdout",
     "output_type": "stream",
     "text": [
      "2000-04-25 23:05:32\n",
      "2003-02-28 17:49:50\n"
     ]
    }
   ],
   "source": [
    "oldest, latest = clean_data['Time'].min(), clean_data['Time'].max()\n",
    "print(oldest) \n",
    "print(latest)"
   ]
  },
  {
   "cell_type": "code",
   "execution_count": 159,
   "id": "studied-comparative",
   "metadata": {},
   "outputs": [
    {
     "data": {
      "text/plain": [
       "SessionId\n",
       "1          7\n",
       "2          5\n",
       "3         28\n",
       "4         13\n",
       "5        129\n",
       "        ... \n",
       "42311     19\n",
       "42312     15\n",
       "42314      6\n",
       "42315     14\n",
       "42317     21\n",
       "Length: 25472, dtype: int64"
      ]
     },
     "execution_count": 159,
     "metadata": {},
     "output_type": "execute_result"
    }
   ],
   "source": [
    "session_length = clean_data.groupby('SessionId').size()\n",
    "session_length"
   ]
  },
  {
   "cell_type": "code",
   "execution_count": 160,
   "id": "textile-porcelain",
   "metadata": {},
   "outputs": [
    {
     "data": {
      "text/plain": [
       "(14.0, 38.42438756281407)"
      ]
     },
     "execution_count": 160,
     "metadata": {},
     "output_type": "execute_result"
    }
   ],
   "source": [
    "session_length.median(), session_length.mean()"
   ]
  },
  {
   "cell_type": "code",
   "execution_count": 161,
   "id": "crazy-badge",
   "metadata": {},
   "outputs": [
    {
     "data": {
      "text/plain": [
       "(3, 1193)"
      ]
     },
     "execution_count": 161,
     "metadata": {},
     "output_type": "execute_result"
    }
   ],
   "source": [
    "session_length.min(), session_length.max()"
   ]
  },
  {
   "cell_type": "code",
   "execution_count": 162,
   "id": "substantial-committee",
   "metadata": {},
   "outputs": [
    {
     "data": {
      "text/plain": [
       "613.0580000000045"
      ]
     },
     "execution_count": 162,
     "metadata": {},
     "output_type": "execute_result"
    }
   ],
   "source": [
    "session_length.quantile(0.999)"
   ]
  },
  {
   "cell_type": "code",
   "execution_count": 163,
   "id": "assisted-highway",
   "metadata": {},
   "outputs": [
    {
     "data": {
      "text/plain": [
       "3      0.101837\n",
       "4      0.170462\n",
       "5      0.244425\n",
       "6      0.300330\n",
       "7      0.344417\n",
       "         ...   \n",
       "581    0.998783\n",
       "587    0.998822\n",
       "606    0.998861\n",
       "610    0.998901\n",
       "612    0.998979\n",
       "Length: 440, dtype: float64"
      ]
     },
     "execution_count": 163,
     "metadata": {},
     "output_type": "execute_result"
    }
   ],
   "source": [
    "length_count = session_length.groupby(session_length).size()\n",
    "length_percent_cumsum = length_count.cumsum() / length_count.sum()\n",
    "length_percent_cumsum_999 = length_percent_cumsum[length_percent_cumsum < 0.999]\n",
    "\n",
    "length_percent_cumsum_999"
   ]
  },
  {
   "cell_type": "markdown",
   "id": "sacred-current",
   "metadata": {},
   "source": [
    " 위 분포를 시각화하면 다음과 같습니다."
   ]
  },
  {
   "cell_type": "code",
   "execution_count": 164,
   "id": "proved-termination",
   "metadata": {},
   "outputs": [
    {
     "data": {
      "image/png": "[encoded data removed]",
      "text/plain": [
       "<Figure size 1440x720 with 1 Axes>"
      ]
     },
     "metadata": {
      "needs_background": "light"
     },
     "output_type": "display_data"
    }
   ],
   "source": [
    "import matplotlib.pyplot as plt\n",
    "\n",
    "plt.figure(figsize=(20, 10))\n",
    "plt.bar(x=length_percent_cumsum_999.index,\n",
    "        height=length_percent_cumsum_999, color='red')\n",
    "plt.hlines(y=0.8, xmin=0, xmax=613)\n",
    "plt.hlines(y=0.9, xmin=0, xmax=613)\n",
    "plt.hlines(y=0.95, xmin=0, xmax=613)\n",
    "\n",
    "plt.xticks(length_percent_cumsum_999.index)\n",
    "plt.hlines(y=0.8, xmin=0, xmax=613)\n",
    "plt.yticks(np.arange(0, 1.01, 0.05))\n",
    "plt.title('Cumsum Percentage Until 0.999', size=20)\n",
    "plt.hlines(y=0.8, xmin=0, xmax=613)\n",
    "\n",
    "plt.show()"
   ]
  },
  {
   "cell_type": "markdown",
   "id": "industrial-copyright",
   "metadata": {},
   "source": [
    "누적합 0.95까지의 데이터를 사용합니다."
   ]
  },
  {
   "cell_type": "code",
   "execution_count": 165,
   "id": "public-compression",
   "metadata": {},
   "outputs": [
    {
     "data": {
      "text/plain": [
       "3      0.101837\n",
       "4      0.170462\n",
       "5      0.244425\n",
       "6      0.300330\n",
       "7      0.344417\n",
       "         ...   \n",
       "148    0.947001\n",
       "149    0.947904\n",
       "150    0.948453\n",
       "151    0.949081\n",
       "152    0.949827\n",
       "Length: 150, dtype: float64"
      ]
     },
     "execution_count": 165,
     "metadata": {},
     "output_type": "execute_result"
    }
   ],
   "source": [
    "cumsum_95 = length_percent_cumsum_999[length_percent_cumsum_999<0.95]\n",
    "cumsum_95"
   ]
  },
  {
   "cell_type": "markdown",
   "id": "separated-assault",
   "metadata": {},
   "source": [
    "3부터 152까지의 데이터를 남깁니다."
   ]
  },
  {
   "cell_type": "code",
   "execution_count": 166,
   "id": "needed-organic",
   "metadata": {},
   "outputs": [
    {
     "name": "stdout",
     "output_type": "stream",
     "text": [
      "SessionId\n",
      "1        True\n",
      "2        True\n",
      "3        True\n",
      "4        True\n",
      "5        True\n",
      "         ... \n",
      "42311    True\n",
      "42312    True\n",
      "42314    True\n",
      "42315    True\n",
      "42317    True\n",
      "Length: 25472, dtype: bool\n",
      "0.9498272613065326\n"
     ]
    }
   ],
   "source": [
    "effective_sessionid = session_length.apply(lambda g: 3<=g<=152)\n",
    "print(effective_sessionid)\n",
    "print(effective_sessionid.mean())"
   ]
  },
  {
   "cell_type": "code",
   "execution_count": 167,
   "id": "documented-geology",
   "metadata": {},
   "outputs": [
    {
     "data": {
      "text/plain": [
       "24194"
      ]
     },
     "execution_count": 167,
     "metadata": {},
     "output_type": "execute_result"
    }
   ],
   "source": [
    "sessionids = effective_sessionid[effective_sessionid==True]\n",
    "session_list = sessionids.index.to_list()\n",
    "len(session_list)"
   ]
  },
  {
   "cell_type": "code",
   "execution_count": 168,
   "id": "boxed-collaboration",
   "metadata": {},
   "outputs": [
    {
     "data": {
      "text/html": [
       "<div>\n",
       "<style scoped>\n",
       "    .dataframe tbody tr th:only-of-type {\n",
       "        vertical-align: middle;\n",
       "    }\n",
       "\n",
       "    .dataframe tbody tr th {\n",
       "        vertical-align: top;\n",
       "    }\n",
       "\n",
       "    .dataframe thead th {\n",
       "        text-align: right;\n",
       "    }\n",
       "</style>\n",
       "<table border=\"1\" class=\"dataframe\">\n",
       "  <thead>\n",
       "    <tr style=\"text-align: right;\">\n",
       "      <th></th>\n",
       "      <th>UserId</th>\n",
       "      <th>ItemId</th>\n",
       "      <th>Rating</th>\n",
       "      <th>Time</th>\n",
       "      <th>SessionId</th>\n",
       "    </tr>\n",
       "  </thead>\n",
       "  <tbody>\n",
       "    <tr>\n",
       "      <th>0</th>\n",
       "      <td>1</td>\n",
       "      <td>3186</td>\n",
       "      <td>4</td>\n",
       "      <td>2000-12-31 22:00:19</td>\n",
       "      <td>1</td>\n",
       "    </tr>\n",
       "    <tr>\n",
       "      <th>1</th>\n",
       "      <td>1</td>\n",
       "      <td>1270</td>\n",
       "      <td>5</td>\n",
       "      <td>2000-12-31 22:00:55</td>\n",
       "      <td>1</td>\n",
       "    </tr>\n",
       "    <tr>\n",
       "      <th>2</th>\n",
       "      <td>1</td>\n",
       "      <td>1721</td>\n",
       "      <td>4</td>\n",
       "      <td>2000-12-31 22:00:55</td>\n",
       "      <td>1</td>\n",
       "    </tr>\n",
       "    <tr>\n",
       "      <th>3</th>\n",
       "      <td>1</td>\n",
       "      <td>1022</td>\n",
       "      <td>5</td>\n",
       "      <td>2000-12-31 22:00:55</td>\n",
       "      <td>1</td>\n",
       "    </tr>\n",
       "    <tr>\n",
       "      <th>4</th>\n",
       "      <td>1</td>\n",
       "      <td>2340</td>\n",
       "      <td>3</td>\n",
       "      <td>2000-12-31 22:01:43</td>\n",
       "      <td>1</td>\n",
       "    </tr>\n",
       "    <tr>\n",
       "      <th>...</th>\n",
       "      <td>...</td>\n",
       "      <td>...</td>\n",
       "      <td>...</td>\n",
       "      <td>...</td>\n",
       "      <td>...</td>\n",
       "    </tr>\n",
       "    <tr>\n",
       "      <th>651036</th>\n",
       "      <td>6040</td>\n",
       "      <td>232</td>\n",
       "      <td>5</td>\n",
       "      <td>2001-08-10 14:39:58</td>\n",
       "      <td>42317</td>\n",
       "    </tr>\n",
       "    <tr>\n",
       "      <th>651037</th>\n",
       "      <td>6040</td>\n",
       "      <td>2917</td>\n",
       "      <td>4</td>\n",
       "      <td>2001-08-10 14:40:29</td>\n",
       "      <td>42317</td>\n",
       "    </tr>\n",
       "    <tr>\n",
       "      <th>651038</th>\n",
       "      <td>6040</td>\n",
       "      <td>1921</td>\n",
       "      <td>4</td>\n",
       "      <td>2001-08-10 14:41:04</td>\n",
       "      <td>42317</td>\n",
       "    </tr>\n",
       "    <tr>\n",
       "      <th>651039</th>\n",
       "      <td>6040</td>\n",
       "      <td>1784</td>\n",
       "      <td>3</td>\n",
       "      <td>2001-08-10 14:41:04</td>\n",
       "      <td>42317</td>\n",
       "    </tr>\n",
       "    <tr>\n",
       "      <th>651040</th>\n",
       "      <td>6040</td>\n",
       "      <td>161</td>\n",
       "      <td>3</td>\n",
       "      <td>2001-08-10 14:41:26</td>\n",
       "      <td>42317</td>\n",
       "    </tr>\n",
       "  </tbody>\n",
       "</table>\n",
       "<p>651041 rows × 5 columns</p>\n",
       "</div>"
      ],
      "text/plain": [
       "        UserId  ItemId  Rating                Time  SessionId\n",
       "0            1    3186       4 2000-12-31 22:00:19          1\n",
       "1            1    1270       5 2000-12-31 22:00:55          1\n",
       "2            1    1721       4 2000-12-31 22:00:55          1\n",
       "3            1    1022       5 2000-12-31 22:00:55          1\n",
       "4            1    2340       3 2000-12-31 22:01:43          1\n",
       "...        ...     ...     ...                 ...        ...\n",
       "651036    6040     232       5 2001-08-10 14:39:58      42317\n",
       "651037    6040    2917       4 2001-08-10 14:40:29      42317\n",
       "651038    6040    1921       4 2001-08-10 14:41:04      42317\n",
       "651039    6040    1784       3 2001-08-10 14:41:04      42317\n",
       "651040    6040     161       3 2001-08-10 14:41:26      42317\n",
       "\n",
       "[651041 rows x 5 columns]"
      ]
     },
     "execution_count": 168,
     "metadata": {},
     "output_type": "execute_result"
    }
   ],
   "source": [
    "clean_data = clean_data[clean_data['SessionId'].isin(session_list)]\n",
    "clean_data.reset_index(drop=True, inplace=True)\n",
    "clean_data"
   ]
  },
  {
   "cell_type": "markdown",
   "id": "phantom-archives",
   "metadata": {},
   "source": [
    "이로서 200초를 기준으로 하는 세션에서, 3이상 152 이하의 액션 수를 보이는 세션만 선택되었습니다."
   ]
  },
  {
   "cell_type": "code",
   "execution_count": 169,
   "id": "handed-digest",
   "metadata": {},
   "outputs": [
    {
     "name": "stdout",
     "output_type": "stream",
     "text": [
      "2000-04-25 23:05:32\n",
      "2003-02-28 17:49:50\n"
     ]
    }
   ],
   "source": [
    "oldest, latest = clean_data['Time'].min(), clean_data['Time'].max()\n",
    "print(oldest) \n",
    "print(latest)"
   ]
  },
  {
   "cell_type": "code",
   "execution_count": 170,
   "id": "younger-arabic",
   "metadata": {},
   "outputs": [
    {
     "data": {
      "text/plain": [
       "pandas._libs.tslibs.timestamps.Timestamp"
      ]
     },
     "execution_count": 170,
     "metadata": {},
     "output_type": "execute_result"
    }
   ],
   "source": [
    "type(latest)"
   ]
  },
  {
   "cell_type": "markdown",
   "id": "corrected-numbers",
   "metadata": {},
   "source": [
    "영화 리뷰이고, train_set을 15개월, validation_set을 3개월,  test_set을 2개월로 설정합니다. 1개월은 30일."
   ]
  },
  {
   "cell_type": "code",
   "execution_count": 221,
   "id": "lucky-humor",
   "metadata": {},
   "outputs": [],
   "source": [
    "start_timestamp = latest - dt.timedelta(30*20)     # 최종 날짜로부터 17개월 이전 날짜를 구한다.  \n",
    "datasets = clean_data[clean_data['Time'] > start_timestamp]   # 방금 구한 날짜 이후의 데이터만 모은다. \n",
    "#data"
   ]
  },
  {
   "cell_type": "code",
   "execution_count": 222,
   "id": "center-bouquet",
   "metadata": {},
   "outputs": [
    {
     "data": {
      "text/html": [
       "<div>\n",
       "<style scoped>\n",
       "    .dataframe tbody tr th:only-of-type {\n",
       "        vertical-align: middle;\n",
       "    }\n",
       "\n",
       "    .dataframe tbody tr th {\n",
       "        vertical-align: top;\n",
       "    }\n",
       "\n",
       "    .dataframe thead th {\n",
       "        text-align: right;\n",
       "    }\n",
       "</style>\n",
       "<table border=\"1\" class=\"dataframe\">\n",
       "  <thead>\n",
       "    <tr style=\"text-align: right;\">\n",
       "      <th></th>\n",
       "      <th>UserId</th>\n",
       "      <th>ItemId</th>\n",
       "      <th>Rating</th>\n",
       "      <th>Time</th>\n",
       "      <th>SessionId</th>\n",
       "    </tr>\n",
       "  </thead>\n",
       "  <tbody>\n",
       "    <tr>\n",
       "      <th>1732</th>\n",
       "      <td>20</td>\n",
       "      <td>1694</td>\n",
       "      <td>3</td>\n",
       "      <td>2001-12-29 23:37:51</td>\n",
       "      <td>82</td>\n",
       "    </tr>\n",
       "    <tr>\n",
       "      <th>1733</th>\n",
       "      <td>20</td>\n",
       "      <td>1468</td>\n",
       "      <td>3</td>\n",
       "      <td>2001-12-29 23:37:51</td>\n",
       "      <td>82</td>\n",
       "    </tr>\n",
       "    <tr>\n",
       "      <th>1734</th>\n",
       "      <td>20</td>\n",
       "      <td>3717</td>\n",
       "      <td>2</td>\n",
       "      <td>2001-12-29 23:37:51</td>\n",
       "      <td>82</td>\n",
       "    </tr>\n",
       "    <tr>\n",
       "      <th>1735</th>\n",
       "      <td>20</td>\n",
       "      <td>2858</td>\n",
       "      <td>4</td>\n",
       "      <td>2001-12-29 23:37:51</td>\n",
       "      <td>82</td>\n",
       "    </tr>\n",
       "    <tr>\n",
       "      <th>1736</th>\n",
       "      <td>20</td>\n",
       "      <td>2641</td>\n",
       "      <td>4</td>\n",
       "      <td>2001-12-29 23:38:35</td>\n",
       "      <td>82</td>\n",
       "    </tr>\n",
       "    <tr>\n",
       "      <th>...</th>\n",
       "      <td>...</td>\n",
       "      <td>...</td>\n",
       "      <td>...</td>\n",
       "      <td>...</td>\n",
       "      <td>...</td>\n",
       "    </tr>\n",
       "    <tr>\n",
       "      <th>651036</th>\n",
       "      <td>6040</td>\n",
       "      <td>232</td>\n",
       "      <td>5</td>\n",
       "      <td>2001-08-10 14:39:58</td>\n",
       "      <td>42317</td>\n",
       "    </tr>\n",
       "    <tr>\n",
       "      <th>651037</th>\n",
       "      <td>6040</td>\n",
       "      <td>2917</td>\n",
       "      <td>4</td>\n",
       "      <td>2001-08-10 14:40:29</td>\n",
       "      <td>42317</td>\n",
       "    </tr>\n",
       "    <tr>\n",
       "      <th>651038</th>\n",
       "      <td>6040</td>\n",
       "      <td>1921</td>\n",
       "      <td>4</td>\n",
       "      <td>2001-08-10 14:41:04</td>\n",
       "      <td>42317</td>\n",
       "    </tr>\n",
       "    <tr>\n",
       "      <th>651039</th>\n",
       "      <td>6040</td>\n",
       "      <td>1784</td>\n",
       "      <td>3</td>\n",
       "      <td>2001-08-10 14:41:04</td>\n",
       "      <td>42317</td>\n",
       "    </tr>\n",
       "    <tr>\n",
       "      <th>651040</th>\n",
       "      <td>6040</td>\n",
       "      <td>161</td>\n",
       "      <td>3</td>\n",
       "      <td>2001-08-10 14:41:26</td>\n",
       "      <td>42317</td>\n",
       "    </tr>\n",
       "  </tbody>\n",
       "</table>\n",
       "<p>35095 rows × 5 columns</p>\n",
       "</div>"
      ],
      "text/plain": [
       "        UserId  ItemId  Rating                Time  SessionId\n",
       "1732        20    1694       3 2001-12-29 23:37:51         82\n",
       "1733        20    1468       3 2001-12-29 23:37:51         82\n",
       "1734        20    3717       2 2001-12-29 23:37:51         82\n",
       "1735        20    2858       4 2001-12-29 23:37:51         82\n",
       "1736        20    2641       4 2001-12-29 23:38:35         82\n",
       "...        ...     ...     ...                 ...        ...\n",
       "651036    6040     232       5 2001-08-10 14:39:58      42317\n",
       "651037    6040    2917       4 2001-08-10 14:40:29      42317\n",
       "651038    6040    1921       4 2001-08-10 14:41:04      42317\n",
       "651039    6040    1784       3 2001-08-10 14:41:04      42317\n",
       "651040    6040     161       3 2001-08-10 14:41:26      42317\n",
       "\n",
       "[35095 rows x 5 columns]"
      ]
     },
     "execution_count": 222,
     "metadata": {},
     "output_type": "execute_result"
    }
   ],
   "source": [
    "datasets"
   ]
  },
  {
   "cell_type": "markdown",
   "id": "innocent-difficulty",
   "metadata": {},
   "source": [
    "평점이 3 이상인 것만 남깁니다."
   ]
  },
  {
   "cell_type": "code",
   "execution_count": 223,
   "id": "informational-planner",
   "metadata": {},
   "outputs": [],
   "source": [
    "datasets = datasets[datasets['Rating']>=3]"
   ]
  },
  {
   "cell_type": "code",
   "execution_count": 224,
   "id": "protective-allergy",
   "metadata": {},
   "outputs": [
    {
     "data": {
      "text/html": [
       "<div>\n",
       "<style scoped>\n",
       "    .dataframe tbody tr th:only-of-type {\n",
       "        vertical-align: middle;\n",
       "    }\n",
       "\n",
       "    .dataframe tbody tr th {\n",
       "        vertical-align: top;\n",
       "    }\n",
       "\n",
       "    .dataframe thead th {\n",
       "        text-align: right;\n",
       "    }\n",
       "</style>\n",
       "<table border=\"1\" class=\"dataframe\">\n",
       "  <thead>\n",
       "    <tr style=\"text-align: right;\">\n",
       "      <th></th>\n",
       "      <th>UserId</th>\n",
       "      <th>ItemId</th>\n",
       "      <th>Rating</th>\n",
       "      <th>Time</th>\n",
       "      <th>SessionId</th>\n",
       "    </tr>\n",
       "  </thead>\n",
       "  <tbody>\n",
       "    <tr>\n",
       "      <th>1732</th>\n",
       "      <td>20</td>\n",
       "      <td>1694</td>\n",
       "      <td>3</td>\n",
       "      <td>2001-12-29 23:37:51</td>\n",
       "      <td>82</td>\n",
       "    </tr>\n",
       "    <tr>\n",
       "      <th>1733</th>\n",
       "      <td>20</td>\n",
       "      <td>1468</td>\n",
       "      <td>3</td>\n",
       "      <td>2001-12-29 23:37:51</td>\n",
       "      <td>82</td>\n",
       "    </tr>\n",
       "    <tr>\n",
       "      <th>1735</th>\n",
       "      <td>20</td>\n",
       "      <td>2858</td>\n",
       "      <td>4</td>\n",
       "      <td>2001-12-29 23:37:51</td>\n",
       "      <td>82</td>\n",
       "    </tr>\n",
       "    <tr>\n",
       "      <th>1736</th>\n",
       "      <td>20</td>\n",
       "      <td>2641</td>\n",
       "      <td>4</td>\n",
       "      <td>2001-12-29 23:38:35</td>\n",
       "      <td>82</td>\n",
       "    </tr>\n",
       "    <tr>\n",
       "      <th>1737</th>\n",
       "      <td>20</td>\n",
       "      <td>1375</td>\n",
       "      <td>3</td>\n",
       "      <td>2001-12-29 23:38:35</td>\n",
       "      <td>82</td>\n",
       "    </tr>\n",
       "    <tr>\n",
       "      <th>...</th>\n",
       "      <td>...</td>\n",
       "      <td>...</td>\n",
       "      <td>...</td>\n",
       "      <td>...</td>\n",
       "      <td>...</td>\n",
       "    </tr>\n",
       "    <tr>\n",
       "      <th>651036</th>\n",
       "      <td>6040</td>\n",
       "      <td>232</td>\n",
       "      <td>5</td>\n",
       "      <td>2001-08-10 14:39:58</td>\n",
       "      <td>42317</td>\n",
       "    </tr>\n",
       "    <tr>\n",
       "      <th>651037</th>\n",
       "      <td>6040</td>\n",
       "      <td>2917</td>\n",
       "      <td>4</td>\n",
       "      <td>2001-08-10 14:40:29</td>\n",
       "      <td>42317</td>\n",
       "    </tr>\n",
       "    <tr>\n",
       "      <th>651038</th>\n",
       "      <td>6040</td>\n",
       "      <td>1921</td>\n",
       "      <td>4</td>\n",
       "      <td>2001-08-10 14:41:04</td>\n",
       "      <td>42317</td>\n",
       "    </tr>\n",
       "    <tr>\n",
       "      <th>651039</th>\n",
       "      <td>6040</td>\n",
       "      <td>1784</td>\n",
       "      <td>3</td>\n",
       "      <td>2001-08-10 14:41:04</td>\n",
       "      <td>42317</td>\n",
       "    </tr>\n",
       "    <tr>\n",
       "      <th>651040</th>\n",
       "      <td>6040</td>\n",
       "      <td>161</td>\n",
       "      <td>3</td>\n",
       "      <td>2001-08-10 14:41:26</td>\n",
       "      <td>42317</td>\n",
       "    </tr>\n",
       "  </tbody>\n",
       "</table>\n",
       "<p>28872 rows × 5 columns</p>\n",
       "</div>"
      ],
      "text/plain": [
       "        UserId  ItemId  Rating                Time  SessionId\n",
       "1732        20    1694       3 2001-12-29 23:37:51         82\n",
       "1733        20    1468       3 2001-12-29 23:37:51         82\n",
       "1735        20    2858       4 2001-12-29 23:37:51         82\n",
       "1736        20    2641       4 2001-12-29 23:38:35         82\n",
       "1737        20    1375       3 2001-12-29 23:38:35         82\n",
       "...        ...     ...     ...                 ...        ...\n",
       "651036    6040     232       5 2001-08-10 14:39:58      42317\n",
       "651037    6040    2917       4 2001-08-10 14:40:29      42317\n",
       "651038    6040    1921       4 2001-08-10 14:41:04      42317\n",
       "651039    6040    1784       3 2001-08-10 14:41:04      42317\n",
       "651040    6040     161       3 2001-08-10 14:41:26      42317\n",
       "\n",
       "[28872 rows x 5 columns]"
      ]
     },
     "execution_count": 224,
     "metadata": {},
     "output_type": "execute_result"
    }
   ],
   "source": [
    "datasets"
   ]
  },
  {
   "cell_type": "markdown",
   "id": "happy-niger",
   "metadata": {},
   "source": [
    "data cleansing"
   ]
  },
  {
   "cell_type": "code",
   "execution_count": 225,
   "id": "fundamental-vitamin",
   "metadata": {},
   "outputs": [],
   "source": [
    "# short_session을 제거한 다음 unpopular item을 제거하면 다시 길이가 1인 session이 생길 수 있습니다.\n",
    "# 이를 위해 반복문을 통해 지속적으로 제거 합니다.\n",
    "def cleanse_recursive(data: pd.DataFrame, shortest, least_click) -> pd.DataFrame:\n",
    "    while True:\n",
    "        before_len = len(data)\n",
    "        data = cleanse_short_session(data, shortest)\n",
    "        data = cleanse_unpopular_item(data, least_click)\n",
    "        after_len = len(data)\n",
    "        if before_len == after_len:\n",
    "            break\n",
    "    return data\n",
    "\n",
    "\n",
    "def cleanse_short_session(data: pd.DataFrame, shortest):\n",
    "    session_len = data.groupby('SessionId').size()\n",
    "    session_use = session_len[session_len >= shortest].index\n",
    "    data = data[data['SessionId'].isin(session_use)]\n",
    "    return data\n",
    "\n",
    "\n",
    "def cleanse_unpopular_item(data: pd.DataFrame, least_click):\n",
    "    item_popular = data.groupby('ItemId').size()\n",
    "    item_use = item_popular[item_popular >= least_click].index\n",
    "    data = data[data['ItemId'].isin(item_use)]\n",
    "    return data"
   ]
  },
  {
   "cell_type": "code",
   "execution_count": 226,
   "id": "south-prophet",
   "metadata": {},
   "outputs": [
    {
     "data": {
      "text/html": [
       "<div>\n",
       "<style scoped>\n",
       "    .dataframe tbody tr th:only-of-type {\n",
       "        vertical-align: middle;\n",
       "    }\n",
       "\n",
       "    .dataframe tbody tr th {\n",
       "        vertical-align: top;\n",
       "    }\n",
       "\n",
       "    .dataframe thead th {\n",
       "        text-align: right;\n",
       "    }\n",
       "</style>\n",
       "<table border=\"1\" class=\"dataframe\">\n",
       "  <thead>\n",
       "    <tr style=\"text-align: right;\">\n",
       "      <th></th>\n",
       "      <th>UserId</th>\n",
       "      <th>ItemId</th>\n",
       "      <th>Rating</th>\n",
       "      <th>Time</th>\n",
       "      <th>SessionId</th>\n",
       "    </tr>\n",
       "  </thead>\n",
       "  <tbody>\n",
       "    <tr>\n",
       "      <th>1735</th>\n",
       "      <td>20</td>\n",
       "      <td>2858</td>\n",
       "      <td>4</td>\n",
       "      <td>2001-12-29 23:37:51</td>\n",
       "      <td>82</td>\n",
       "    </tr>\n",
       "    <tr>\n",
       "      <th>1737</th>\n",
       "      <td>20</td>\n",
       "      <td>1375</td>\n",
       "      <td>3</td>\n",
       "      <td>2001-12-29 23:38:35</td>\n",
       "      <td>82</td>\n",
       "    </tr>\n",
       "    <tr>\n",
       "      <th>1738</th>\n",
       "      <td>20</td>\n",
       "      <td>3753</td>\n",
       "      <td>5</td>\n",
       "      <td>2001-12-29 23:38:36</td>\n",
       "      <td>82</td>\n",
       "    </tr>\n",
       "    <tr>\n",
       "      <th>1739</th>\n",
       "      <td>20</td>\n",
       "      <td>3527</td>\n",
       "      <td>4</td>\n",
       "      <td>2001-12-29 23:39:41</td>\n",
       "      <td>82</td>\n",
       "    </tr>\n",
       "    <tr>\n",
       "      <th>1740</th>\n",
       "      <td>20</td>\n",
       "      <td>1527</td>\n",
       "      <td>5</td>\n",
       "      <td>2001-12-29 23:39:41</td>\n",
       "      <td>82</td>\n",
       "    </tr>\n",
       "    <tr>\n",
       "      <th>...</th>\n",
       "      <td>...</td>\n",
       "      <td>...</td>\n",
       "      <td>...</td>\n",
       "      <td>...</td>\n",
       "      <td>...</td>\n",
       "    </tr>\n",
       "    <tr>\n",
       "      <th>651034</th>\n",
       "      <td>6040</td>\n",
       "      <td>457</td>\n",
       "      <td>4</td>\n",
       "      <td>2001-08-10 14:39:09</td>\n",
       "      <td>42317</td>\n",
       "    </tr>\n",
       "    <tr>\n",
       "      <th>651035</th>\n",
       "      <td>6040</td>\n",
       "      <td>3671</td>\n",
       "      <td>4</td>\n",
       "      <td>2001-08-10 14:39:27</td>\n",
       "      <td>42317</td>\n",
       "    </tr>\n",
       "    <tr>\n",
       "      <th>651038</th>\n",
       "      <td>6040</td>\n",
       "      <td>1921</td>\n",
       "      <td>4</td>\n",
       "      <td>2001-08-10 14:41:04</td>\n",
       "      <td>42317</td>\n",
       "    </tr>\n",
       "    <tr>\n",
       "      <th>651039</th>\n",
       "      <td>6040</td>\n",
       "      <td>1784</td>\n",
       "      <td>3</td>\n",
       "      <td>2001-08-10 14:41:04</td>\n",
       "      <td>42317</td>\n",
       "    </tr>\n",
       "    <tr>\n",
       "      <th>651040</th>\n",
       "      <td>6040</td>\n",
       "      <td>161</td>\n",
       "      <td>3</td>\n",
       "      <td>2001-08-10 14:41:26</td>\n",
       "      <td>42317</td>\n",
       "    </tr>\n",
       "  </tbody>\n",
       "</table>\n",
       "<p>11558 rows × 5 columns</p>\n",
       "</div>"
      ],
      "text/plain": [
       "        UserId  ItemId  Rating                Time  SessionId\n",
       "1735        20    2858       4 2001-12-29 23:37:51         82\n",
       "1737        20    1375       3 2001-12-29 23:38:35         82\n",
       "1738        20    3753       5 2001-12-29 23:38:36         82\n",
       "1739        20    3527       4 2001-12-29 23:39:41         82\n",
       "1740        20    1527       5 2001-12-29 23:39:41         82\n",
       "...        ...     ...     ...                 ...        ...\n",
       "651034    6040     457       4 2001-08-10 14:39:09      42317\n",
       "651035    6040    3671       4 2001-08-10 14:39:27      42317\n",
       "651038    6040    1921       4 2001-08-10 14:41:04      42317\n",
       "651039    6040    1784       3 2001-08-10 14:41:04      42317\n",
       "651040    6040     161       3 2001-08-10 14:41:26      42317\n",
       "\n",
       "[11558 rows x 5 columns]"
      ]
     },
     "execution_count": 226,
     "metadata": {},
     "output_type": "execute_result"
    }
   ],
   "source": [
    "# least_click의 경우 rating의 최소 개수를 의미합니다.\n",
    "cleansed_datasets = cleanse_recursive(datasets, shortest=3, least_click=20)\n",
    "cleansed_datasets"
   ]
  },
  {
   "cell_type": "markdown",
   "id": "synthetic-texas",
   "metadata": {},
   "source": [
    "마지막으로,  index를 reset하고, SessionId역시 0부터 다시 시작하도록 합니다."
   ]
  },
  {
   "cell_type": "code",
   "execution_count": 228,
   "id": "instructional-workstation",
   "metadata": {},
   "outputs": [
    {
     "data": {
      "text/html": [
       "<div>\n",
       "<style scoped>\n",
       "    .dataframe tbody tr th:only-of-type {\n",
       "        vertical-align: middle;\n",
       "    }\n",
       "\n",
       "    .dataframe tbody tr th {\n",
       "        vertical-align: top;\n",
       "    }\n",
       "\n",
       "    .dataframe thead th {\n",
       "        text-align: right;\n",
       "    }\n",
       "</style>\n",
       "<table border=\"1\" class=\"dataframe\">\n",
       "  <thead>\n",
       "    <tr style=\"text-align: right;\">\n",
       "      <th></th>\n",
       "      <th>ItemId</th>\n",
       "      <th>Time</th>\n",
       "      <th>SessionId</th>\n",
       "    </tr>\n",
       "  </thead>\n",
       "  <tbody>\n",
       "    <tr>\n",
       "      <th>0</th>\n",
       "      <td>2858</td>\n",
       "      <td>2001-12-29 23:37:51</td>\n",
       "      <td>0</td>\n",
       "    </tr>\n",
       "    <tr>\n",
       "      <th>1</th>\n",
       "      <td>1375</td>\n",
       "      <td>2001-12-29 23:38:35</td>\n",
       "      <td>0</td>\n",
       "    </tr>\n",
       "    <tr>\n",
       "      <th>2</th>\n",
       "      <td>3753</td>\n",
       "      <td>2001-12-29 23:38:36</td>\n",
       "      <td>0</td>\n",
       "    </tr>\n",
       "    <tr>\n",
       "      <th>3</th>\n",
       "      <td>3527</td>\n",
       "      <td>2001-12-29 23:39:41</td>\n",
       "      <td>0</td>\n",
       "    </tr>\n",
       "    <tr>\n",
       "      <th>4</th>\n",
       "      <td>1527</td>\n",
       "      <td>2001-12-29 23:39:41</td>\n",
       "      <td>0</td>\n",
       "    </tr>\n",
       "    <tr>\n",
       "      <th>...</th>\n",
       "      <td>...</td>\n",
       "      <td>...</td>\n",
       "      <td>...</td>\n",
       "    </tr>\n",
       "    <tr>\n",
       "      <th>11553</th>\n",
       "      <td>457</td>\n",
       "      <td>2001-08-10 14:39:09</td>\n",
       "      <td>1251</td>\n",
       "    </tr>\n",
       "    <tr>\n",
       "      <th>11554</th>\n",
       "      <td>3671</td>\n",
       "      <td>2001-08-10 14:39:27</td>\n",
       "      <td>1251</td>\n",
       "    </tr>\n",
       "    <tr>\n",
       "      <th>11555</th>\n",
       "      <td>1921</td>\n",
       "      <td>2001-08-10 14:41:04</td>\n",
       "      <td>1251</td>\n",
       "    </tr>\n",
       "    <tr>\n",
       "      <th>11556</th>\n",
       "      <td>1784</td>\n",
       "      <td>2001-08-10 14:41:04</td>\n",
       "      <td>1251</td>\n",
       "    </tr>\n",
       "    <tr>\n",
       "      <th>11557</th>\n",
       "      <td>161</td>\n",
       "      <td>2001-08-10 14:41:26</td>\n",
       "      <td>1251</td>\n",
       "    </tr>\n",
       "  </tbody>\n",
       "</table>\n",
       "<p>11558 rows × 3 columns</p>\n",
       "</div>"
      ],
      "text/plain": [
       "       ItemId                Time  SessionId\n",
       "0        2858 2001-12-29 23:37:51          0\n",
       "1        1375 2001-12-29 23:38:35          0\n",
       "2        3753 2001-12-29 23:38:36          0\n",
       "3        3527 2001-12-29 23:39:41          0\n",
       "4        1527 2001-12-29 23:39:41          0\n",
       "...       ...                 ...        ...\n",
       "11553     457 2001-08-10 14:39:09       1251\n",
       "11554    3671 2001-08-10 14:39:27       1251\n",
       "11555    1921 2001-08-10 14:41:04       1251\n",
       "11556    1784 2001-08-10 14:41:04       1251\n",
       "11557     161 2001-08-10 14:41:26       1251\n",
       "\n",
       "[11558 rows x 3 columns]"
      ]
     },
     "execution_count": 228,
     "metadata": {},
     "output_type": "execute_result"
    }
   ],
   "source": [
    "cleansed_datasets.reset_index(drop=True, inplace=True)\n",
    "cleansed_datasets['Session_change'] = cleansed_datasets['SessionId'].diff().fillna(0)\n",
    "\n",
    "new_session_id = 0\n",
    "def reset_sessions(x):\n",
    "    global new_session_id\n",
    "    if x['Session_change']:\n",
    "        new_session_id += 1\n",
    "    return new_session_id\n",
    "         \n",
    "cleansed_datasets['SessionId'] = cleansed_datasets.apply(reset_sessions, axis=1)\n",
    "cleansed_datasets = cleansed_datasets[['ItemId', 'Time', 'SessionId']]\n",
    "cleansed_datasets"
   ]
  },
  {
   "cell_type": "code",
   "execution_count": 229,
   "id": "dried-israel",
   "metadata": {},
   "outputs": [],
   "source": [
    "def split_by_date(data: pd.DataFrame, n_days: int):\n",
    "    final_time = data['Time'].max()\n",
    "    session_last_time = data.groupby('SessionId')['Time'].max()\n",
    "    session_in_train = session_last_time[session_last_time < final_time - dt.timedelta(n_days)].index\n",
    "    session_in_test = session_last_time[session_last_time >= final_time - dt.timedelta(n_days)].index\n",
    "\n",
    "    before_date = data[data['SessionId'].isin(session_in_train)]\n",
    "    after_date = data[data['SessionId'].isin(session_in_test)]\n",
    "    after_date = after_date[after_date['ItemId'].isin(before_date['ItemId'])]\n",
    "    return before_date, after_date"
   ]
  },
  {
   "cell_type": "code",
   "execution_count": 230,
   "id": "derived-pointer",
   "metadata": {},
   "outputs": [],
   "source": [
    "tr, test = split_by_date(cleansed_datasets, n_days=60)\n",
    "tr, val = split_by_date(tr, n_days=90)"
   ]
  },
  {
   "cell_type": "code",
   "execution_count": 231,
   "id": "developing-outside",
   "metadata": {},
   "outputs": [],
   "source": [
    "# data에 대한 정보를 살펴봅니다.\n",
    "def stats_info(data: pd.DataFrame, status: str):\n",
    "    print(f'* {status} Set Stats Info\\n'\n",
    "          f'\\t Events: {len(data)}\\n'\n",
    "          f'\\t Sessions: {data[\"SessionId\"].nunique()}\\n'\n",
    "          f'\\t Items: {data[\"ItemId\"].nunique()}\\n'\n",
    "          f'\\t First Time : {data[\"Time\"].min()}\\n'\n",
    "          f'\\t Last Time : {data[\"Time\"].max()}\\n')"
   ]
  },
  {
   "cell_type": "code",
   "execution_count": 232,
   "id": "accepting-guyana",
   "metadata": {},
   "outputs": [
    {
     "name": "stdout",
     "output_type": "stream",
     "text": [
      "* train Set Stats Info\n",
      "\t Events: 9742\n",
      "\t Sessions: 1056\n",
      "\t Items: 362\n",
      "\t First Time : 2001-07-08 19:44:06\n",
      "\t Last Time : 2002-09-29 23:16:00\n",
      "\n",
      "* valid Set Stats Info\n",
      "\t Events: 929\n",
      "\t Sessions: 107\n",
      "\t Items: 329\n",
      "\t First Time : 2002-10-05 02:21:48\n",
      "\t Last Time : 2002-12-29 04:39:37\n",
      "\n",
      "* test Set Stats Info\n",
      "\t Events: 887\n",
      "\t Sessions: 89\n",
      "\t Items: 328\n",
      "\t First Time : 2002-12-29 20:57:38\n",
      "\t Last Time : 2003-02-27 18:17:38\n",
      "\n"
     ]
    }
   ],
   "source": [
    "stats_info(tr, 'train')\n",
    "stats_info(val, 'valid')\n",
    "stats_info(test, 'test')"
   ]
  },
  {
   "cell_type": "markdown",
   "id": "voluntary-toronto",
   "metadata": {},
   "source": [
    "분할을 마쳤습니다."
   ]
  },
  {
   "cell_type": "code",
   "execution_count": 283,
   "id": "electric-iceland",
   "metadata": {},
   "outputs": [],
   "source": [
    "# train set에 없는 아이템이 val, test기간에 생길 수 있으므로 train data를 기준으로 인덱싱합니다.\n",
    "id2idx = {item_id : index for index, item_id in enumerate(tr['ItemId'].unique())}\n",
    "\n",
    "def indexing(df, id2idx):\n",
    "    df['item_idx'] = df['ItemId'].map(lambda x: id2idx.get(x, -1))  # id2idx에 없는 아이템은 모르는 값(-1) 처리 해줍니다.\n",
    "    return df\n",
    "\n",
    "tr = indexing(tr, id2idx)\n",
    "val = indexing(val, id2idx)\n",
    "test = indexing(test, id2idx)"
   ]
  },
  {
   "cell_type": "code",
   "execution_count": 284,
   "id": "respected-behalf",
   "metadata": {},
   "outputs": [],
   "source": [
    "save_path = data_path / 'processed'\n",
    "save_path.mkdir(parents=True, exist_ok=True)\n",
    "\n",
    "tr.to_pickle(save_path / 'train.pkl')\n",
    "val.to_pickle(save_path / 'valid.pkl')\n",
    "test.to_pickle(save_path / 'test.pkl')"
   ]
  },
  {
   "cell_type": "code",
   "execution_count": 285,
   "id": "sunset-binding",
   "metadata": {},
   "outputs": [],
   "source": [
    "class SessionDataset:\n",
    "    \"\"\"Credit to yhs-968/pyGRU4REC.\"\"\"\n",
    "\n",
    "    def __init__(self, data):\n",
    "        self.df = data\n",
    "        self.click_offsets = self.get_click_offsets()\n",
    "        self.session_idx = np.arange(self.df['SessionId'].nunique())  # indexing to SessionId\n",
    "\n",
    "    def get_click_offsets(self):\n",
    "        \"\"\"\n",
    "        Return the indexes of the first click of each session IDs,\n",
    "        \"\"\"\n",
    "        offsets = np.zeros(self.df['SessionId'].nunique() + 1, dtype=np.int32)\n",
    "        offsets[1:] = self.df.groupby('SessionId').size().cumsum()\n",
    "        return offsets"
   ]
  },
  {
   "cell_type": "code",
   "execution_count": 286,
   "id": "ranking-illinois",
   "metadata": {},
   "outputs": [
    {
     "data": {
      "text/html": [
       "<div>\n",
       "<style scoped>\n",
       "    .dataframe tbody tr th:only-of-type {\n",
       "        vertical-align: middle;\n",
       "    }\n",
       "\n",
       "    .dataframe tbody tr th {\n",
       "        vertical-align: top;\n",
       "    }\n",
       "\n",
       "    .dataframe thead th {\n",
       "        text-align: right;\n",
       "    }\n",
       "</style>\n",
       "<table border=\"1\" class=\"dataframe\">\n",
       "  <thead>\n",
       "    <tr style=\"text-align: right;\">\n",
       "      <th></th>\n",
       "      <th>ItemId</th>\n",
       "      <th>Time</th>\n",
       "      <th>SessionId</th>\n",
       "      <th>item_idx</th>\n",
       "    </tr>\n",
       "  </thead>\n",
       "  <tbody>\n",
       "    <tr>\n",
       "      <th>0</th>\n",
       "      <td>2858</td>\n",
       "      <td>2001-12-29 23:37:51</td>\n",
       "      <td>0</td>\n",
       "      <td>0</td>\n",
       "    </tr>\n",
       "    <tr>\n",
       "      <th>1</th>\n",
       "      <td>1375</td>\n",
       "      <td>2001-12-29 23:38:35</td>\n",
       "      <td>0</td>\n",
       "      <td>1</td>\n",
       "    </tr>\n",
       "    <tr>\n",
       "      <th>2</th>\n",
       "      <td>3753</td>\n",
       "      <td>2001-12-29 23:38:36</td>\n",
       "      <td>0</td>\n",
       "      <td>2</td>\n",
       "    </tr>\n",
       "    <tr>\n",
       "      <th>3</th>\n",
       "      <td>3527</td>\n",
       "      <td>2001-12-29 23:39:41</td>\n",
       "      <td>0</td>\n",
       "      <td>3</td>\n",
       "    </tr>\n",
       "    <tr>\n",
       "      <th>4</th>\n",
       "      <td>1527</td>\n",
       "      <td>2001-12-29 23:39:41</td>\n",
       "      <td>0</td>\n",
       "      <td>4</td>\n",
       "    </tr>\n",
       "    <tr>\n",
       "      <th>5</th>\n",
       "      <td>1240</td>\n",
       "      <td>2001-12-29 23:39:41</td>\n",
       "      <td>0</td>\n",
       "      <td>5</td>\n",
       "    </tr>\n",
       "    <tr>\n",
       "      <th>6</th>\n",
       "      <td>1371</td>\n",
       "      <td>2001-12-29 23:40:27</td>\n",
       "      <td>0</td>\n",
       "      <td>6</td>\n",
       "    </tr>\n",
       "    <tr>\n",
       "      <th>7</th>\n",
       "      <td>1387</td>\n",
       "      <td>2002-03-12 03:46:59</td>\n",
       "      <td>1</td>\n",
       "      <td>7</td>\n",
       "    </tr>\n",
       "    <tr>\n",
       "      <th>8</th>\n",
       "      <td>1201</td>\n",
       "      <td>2002-03-12 03:46:59</td>\n",
       "      <td>1</td>\n",
       "      <td>8</td>\n",
       "    </tr>\n",
       "    <tr>\n",
       "      <th>9</th>\n",
       "      <td>1291</td>\n",
       "      <td>2002-03-12 03:47:16</td>\n",
       "      <td>1</td>\n",
       "      <td>9</td>\n",
       "    </tr>\n",
       "  </tbody>\n",
       "</table>\n",
       "</div>"
      ],
      "text/plain": [
       "   ItemId                Time  SessionId  item_idx\n",
       "0    2858 2001-12-29 23:37:51          0         0\n",
       "1    1375 2001-12-29 23:38:35          0         1\n",
       "2    3753 2001-12-29 23:38:36          0         2\n",
       "3    3527 2001-12-29 23:39:41          0         3\n",
       "4    1527 2001-12-29 23:39:41          0         4\n",
       "5    1240 2001-12-29 23:39:41          0         5\n",
       "6    1371 2001-12-29 23:40:27          0         6\n",
       "7    1387 2002-03-12 03:46:59          1         7\n",
       "8    1201 2002-03-12 03:46:59          1         8\n",
       "9    1291 2002-03-12 03:47:16          1         9"
      ]
     },
     "execution_count": 286,
     "metadata": {},
     "output_type": "execute_result"
    }
   ],
   "source": [
    "tr_dataset = SessionDataset(tr)\n",
    "tr_dataset.df.head(10)"
   ]
  },
  {
   "cell_type": "code",
   "execution_count": 287,
   "id": "competitive-instrument",
   "metadata": {},
   "outputs": [
    {
     "data": {
      "text/plain": [
       "array([   0,    7,   12, ..., 9718, 9730, 9742], dtype=int32)"
      ]
     },
     "execution_count": 287,
     "metadata": {},
     "output_type": "execute_result"
    }
   ],
   "source": [
    "tr_dataset.click_offsets"
   ]
  },
  {
   "cell_type": "code",
   "execution_count": 288,
   "id": "tough-mobile",
   "metadata": {},
   "outputs": [
    {
     "data": {
      "text/plain": [
       "array([   0,    1,    2, ..., 1053, 1054, 1055])"
      ]
     },
     "execution_count": 288,
     "metadata": {},
     "output_type": "execute_result"
    }
   ],
   "source": [
    "tr_dataset.session_idx"
   ]
  },
  {
   "cell_type": "code",
   "execution_count": 289,
   "id": "theoretical-monster",
   "metadata": {},
   "outputs": [],
   "source": [
    "class SessionDataLoader:\n",
    "    \"\"\"Credit to yhs-968/pyGRU4REC.\"\"\"\n",
    "\n",
    "    def __init__(self, dataset: SessionDataset, batch_size=50):\n",
    "        self.dataset = dataset\n",
    "        self.batch_size = batch_size\n",
    "\n",
    "    def __iter__(self):\n",
    "        \"\"\" Returns the iterator for producing session-parallel training mini-batches.\n",
    "        Yields:\n",
    "            input (B,):  Item indices that will be encoded as one-hot vectors later.\n",
    "            target (B,): a Variable that stores the target item indices\n",
    "            masks: Numpy array indicating the positions of the sessions to be terminated\n",
    "        \"\"\"\n",
    "\n",
    "        start, end, mask, last_session, finished = self.initialize()  # initialize 메소드에서 확인해주세요.\n",
    "        \"\"\"\n",
    "        start : Index Where Session Start\n",
    "        end : Index Where Session End\n",
    "        mask : indicator for the sessions to be terminated\n",
    "        \"\"\"\n",
    "\n",
    "        while not finished:\n",
    "            min_len = (end - start).min() - 1  # Shortest Length Among Sessions\n",
    "            for i in range(min_len):\n",
    "                # Build inputs & targets\n",
    "                inp = self.dataset.df['item_idx'].values[start + i]\n",
    "                target = self.dataset.df['item_idx'].values[start + i + 1]\n",
    "                yield inp, target, mask\n",
    "\n",
    "            start, end, mask, last_session, finished = self.update_status(start, end, min_len, last_session, finished)\n",
    "\n",
    "    def initialize(self):\n",
    "        first_iters = np.arange(self.batch_size)    # 첫 배치에 사용할 세션 Index를 가져옵니다.\n",
    "        last_session = self.batch_size - 1    # 마지막으로 다루고 있는 세션 Index를 저장해둡니다.\n",
    "        start = self.dataset.click_offsets[self.dataset.session_idx[first_iters]]       # data 상에서 session이 시작된 위치를 가져옵니다.\n",
    "        end = self.dataset.click_offsets[self.dataset.session_idx[first_iters] + 1]  # session이 끝난 위치 바로 다음 위치를 가져옵니다.\n",
    "        mask = np.array([])   # session의 모든 아이템을 다 돌은 경우 mask에 추가해줄 것입니다.\n",
    "        finished = False         # data를 전부 돌았는지 기록하기 위한 변수입니다.\n",
    "        return start, end, mask, last_session, finished\n",
    "\n",
    "    def update_status(self, start: np.ndarray, end: np.ndarray, min_len: int, last_session: int, finished: bool):  \n",
    "        # 다음 배치 데이터를 생성하기 위해 상태를 update합니다.\n",
    "        \n",
    "        start += min_len   # __iter__에서 min_len 만큼 for문을 돌았으므로 start를 min_len 만큼 더해줍니다.\n",
    "        mask = np.arange(self.batch_size)[(end - start) == 1]  \n",
    "        # end는 다음 세션이 시작되는 위치인데 start와 한 칸 차이난다는 것은 session이 끝났다는 뜻입니다. mask에 기록해줍니다.\n",
    "\n",
    "        for i, idx in enumerate(mask, start=1):  # mask에 추가된 세션 개수만큼 새로운 세션을 돌것입니다.\n",
    "            new_session = last_session + i  \n",
    "            if new_session > self.dataset.session_idx[-1]:  # 만약 새로운 세션이 마지막 세션 index보다 크다면 모든 학습데이터를 돈 것입니다.\n",
    "                finished = True\n",
    "                break\n",
    "            # update the next starting/ending point\n",
    "            start[idx] = self.dataset.click_offsets[self.dataset.session_idx[new_session]]     # 종료된 세션 대신 새로운 세션의 시작점을 기록합니다.\n",
    "            end[idx] = self.dataset.click_offsets[self.dataset.session_idx[new_session] + 1]\n",
    "\n",
    "        last_session += len(mask)  # 마지막 세션의 위치를 기록해둡니다.\n",
    "        return start, end, mask, last_session, finished"
   ]
  },
  {
   "cell_type": "markdown",
   "id": "descending-commitment",
   "metadata": {},
   "source": [
    "# Modeling\n",
    "evaluation metric을 정의하고, model을 설계합니다."
   ]
  },
  {
   "cell_type": "code",
   "execution_count": 290,
   "id": "peaceful-billion",
   "metadata": {},
   "outputs": [],
   "source": [
    "def mrr_k(pred, truth: int, k: int):\n",
    "    indexing = np.where(pred[:k] == truth)[0]\n",
    "    if len(indexing) > 0:\n",
    "        return 1 / (indexing[0] + 1)\n",
    "    else:\n",
    "        return 0\n",
    "\n",
    "\n",
    "def recall_k(pred, truth: int, k: int) -> int:\n",
    "    answer = truth in pred[:k]\n",
    "    return int(answer)"
   ]
  },
  {
   "cell_type": "code",
   "execution_count": 291,
   "id": "independent-argument",
   "metadata": {},
   "outputs": [],
   "source": [
    "import numpy as np\n",
    "import tensorflow as tf\n",
    "from tensorflow.keras.layers import Input, Dense, Dropout, GRU\n",
    "from tensorflow.keras.losses import categorical_crossentropy\n",
    "from tensorflow.keras.models import Model\n",
    "from tensorflow.keras.optimizers import Adam\n",
    "from tensorflow.keras.utils import to_categorical\n",
    "from tqdm import tqdm\n",
    "\n",
    "\n",
    "def create_model(args):\n",
    "    inputs = Input(batch_shape=(args.batch_size, 1, args.num_items))\n",
    "    gru, _ = GRU(args.hsz, stateful=True, return_state=True, name='GRU')(inputs)\n",
    "    dropout = Dropout(args.drop_rate)(gru)\n",
    "    predictions = Dense(args.num_items, activation='softmax')(dropout)\n",
    "    model = Model(inputs=inputs, outputs=[predictions])\n",
    "    model.compile(loss=categorical_crossentropy, optimizer=Adam(args.lr), metrics=['accuracy'])\n",
    "    model.summary()\n",
    "    return model"
   ]
  },
  {
   "cell_type": "code",
   "execution_count": 296,
   "id": "settled-interest",
   "metadata": {},
   "outputs": [],
   "source": [
    "class Args:\n",
    "    def __init__(self, tr, val, test, batch_size, hsz, drop_rate, lr, epochs, k):\n",
    "        self.tr = tr\n",
    "        self.val = val\n",
    "        self.test = test\n",
    "        self.num_items = tr['ItemId'].nunique()\n",
    "        self.num_sessions = tr['SessionId'].nunique()\n",
    "        self.batch_size = batch_size\n",
    "        self.hsz = hsz\n",
    "        self.drop_rate = drop_rate\n",
    "        self.lr = lr\n",
    "        self.epochs = epochs\n",
    "        self.k = k\n",
    "\n",
    "args = Args(tr, val, test, batch_size=32, hsz=50, drop_rate=0.1,\\\n",
    "            lr=0.001, epochs=100, k=20)"
   ]
  },
  {
   "cell_type": "code",
   "execution_count": 297,
   "id": "improved-crawford",
   "metadata": {},
   "outputs": [
    {
     "name": "stdout",
     "output_type": "stream",
     "text": [
      "Model: \"model_9\"\n",
      "_________________________________________________________________\n",
      "Layer (type)                 Output Shape              Param #   \n",
      "=================================================================\n",
      "input_10 (InputLayer)        [(32, 1, 362)]            0         \n",
      "_________________________________________________________________\n",
      "GRU (GRU)                    [(32, 50), (32, 50)]      62100     \n",
      "_________________________________________________________________\n",
      "dropout_9 (Dropout)          (32, 50)                  0         \n",
      "_________________________________________________________________\n",
      "dense_9 (Dense)              (32, 362)                 18462     \n",
      "=================================================================\n",
      "Total params: 80,562\n",
      "Trainable params: 80,562\n",
      "Non-trainable params: 0\n",
      "_________________________________________________________________\n"
     ]
    }
   ],
   "source": [
    "model = create_model(args)"
   ]
  },
  {
   "cell_type": "code",
   "execution_count": 335,
   "id": "processed-completion",
   "metadata": {},
   "outputs": [],
   "source": [
    "# train 셋으로 학습하면서 valid 셋으로 검증합니다.\n",
    "def train_model(model, args):\n",
    "    train_dataset = SessionDataset(args.tr)\n",
    "    train_loader = SessionDataLoader(train_dataset, batch_size=args.batch_size)\n",
    "\n",
    "    for epoch in range(1, args.epochs + 1):\n",
    "        total_step = len(args.tr) - args.tr['SessionId'].nunique()\n",
    "        tr_loader = tqdm(train_loader, total=total_step // args.batch_size, desc='Train', mininterval=1)\n",
    "        for feat, target, mask in tr_loader:\n",
    "            reset_hidden_states(model, mask)  # 종료된 session은 hidden_state를 초기화합니다. 아래 메서드에서 확인해주세요.\n",
    "\n",
    "            input_ohe = to_categorical(feat, num_classes=args.num_items)\n",
    "            input_ohe = np.expand_dims(input_ohe, axis=1)\n",
    "            target_ohe = to_categorical(target, num_classes=args.num_items)\n",
    "\n",
    "            result = model.train_on_batch(input_ohe, target_ohe)\n",
    "            tr_loader.set_postfix(train_loss=result[0], accuracy = result[1])\n",
    "\n",
    "        val_recall, val_mrr = get_metrics(args.val, model, args, args.k)  # valid set에 대해 검증합니다.\n",
    "        yield {\"val_recall\": val_recall}\n",
    "        print(f\"\\t - Recall@{args.k} epoch {epoch}: {val_recall:3f}\")\n",
    "        print(f\"\\t - MRR@{args.k}    epoch {epoch}: {val_mrr:3f}\\n\")\n",
    "\n",
    "\n",
    "def reset_hidden_states(model, mask):\n",
    "    gru_layer = model.get_layer(name='GRU')  # model에서 gru layer를 가져옵니다.\n",
    "    hidden_states = gru_layer.states[0].numpy()  # gru_layer의 parameter를 가져옵니다.\n",
    "    for elt in mask:  # mask된 인덱스 즉, 종료된 세션의 인덱스를 돌면서\n",
    "        hidden_states[elt, :] = 0  # parameter를 초기화 합니다.\n",
    "    gru_layer.reset_states(states=hidden_states)\n",
    "\n",
    "\n",
    "def get_metrics(data, model, args, k: int):  # valid셋과 test셋을 평가하는 코드입니다. \n",
    "                                             # train과 거의 같지만 mrr, recall을 구하는 라인이 있습니다.\n",
    "    dataset = SessionDataset(data)\n",
    "    loader = SessionDataLoader(dataset, batch_size=args.batch_size)\n",
    "    recall_list, mrr_list = [], []\n",
    "\n",
    "    total_step = len(data) - data['SessionId'].nunique()\n",
    "    for inputs, label, mask in tqdm(loader, total=total_step // args.batch_size, desc='Evaluation', mininterval=1):\n",
    "        reset_hidden_states(model, mask)\n",
    "        input_ohe = to_categorical(inputs, num_classes=args.num_items)\n",
    "        input_ohe = np.expand_dims(input_ohe, axis=1)\n",
    "\n",
    "        pred = model.predict(input_ohe, batch_size=args.batch_size)\n",
    "        pred_arg = tf.argsort(pred, direction='DESCENDING')  # softmax 값이 큰 순서대로 sorting 합니다.\n",
    "\n",
    "        length = len(inputs)\n",
    "        recall_list.extend([recall_k(pred_arg[i], label[i], k) for i in range(length)])\n",
    "        mrr_list.extend([mrr_k(pred_arg[i], label[i], k) for i in range(length)])\n",
    "\n",
    "    recall, mrr = np.mean(recall_list), np.mean(mrr_list)\n",
    "    return recall, mrr"
   ]
  },
  {
   "cell_type": "code",
   "execution_count": 299,
   "id": "arctic-musical",
   "metadata": {},
   "outputs": [
    {
     "name": "stderr",
     "output_type": "stream",
     "text": [
      "Train:  96%|█████████▋| 261/271 [00:03<00:00, 86.82it/s, accuracy=0, train_loss=5.9]      \n",
      "Evaluation:  68%|██████▊   | 17/25 [00:03<00:01,  4.52it/s]\n",
      "Train:   0%|          | 0/271 [00:00<?, ?it/s, accuracy=0.0312, train_loss=5.86]"
     ]
    },
    {
     "name": "stdout",
     "output_type": "stream",
     "text": [
      "\t - Recall@20 epoch 1: 0.097426\n",
      "\t - MRR@20    epoch 1: 0.015208\n",
      "\n"
     ]
    },
    {
     "name": "stderr",
     "output_type": "stream",
     "text": [
      "Train:  96%|█████████▋| 261/271 [00:01<00:00, 149.02it/s, accuracy=0.0312, train_loss=5.89]\n",
      "Evaluation:  68%|██████▊   | 17/25 [00:03<00:01,  4.83it/s]\n",
      "Train:   0%|          | 0/271 [00:00<?, ?it/s, accuracy=0, train_loss=5.87]     "
     ]
    },
    {
     "name": "stdout",
     "output_type": "stream",
     "text": [
      "\t - Recall@20 epoch 2: 0.104779\n",
      "\t - MRR@20    epoch 2: 0.021540\n",
      "\n"
     ]
    },
    {
     "name": "stderr",
     "output_type": "stream",
     "text": [
      "Train:  96%|█████████▋| 261/271 [00:01<00:00, 147.65it/s, accuracy=0.0312, train_loss=5.76]\n",
      "Evaluation:  68%|██████▊   | 17/25 [00:03<00:01,  4.92it/s]\n",
      "Train:   0%|          | 0/271 [00:00<?, ?it/s, accuracy=0, train_loss=5.65]     "
     ]
    },
    {
     "name": "stdout",
     "output_type": "stream",
     "text": [
      "\t - Recall@20 epoch 3: 0.130515\n",
      "\t - MRR@20    epoch 3: 0.035653\n",
      "\n"
     ]
    },
    {
     "name": "stderr",
     "output_type": "stream",
     "text": [
      "Train:  96%|█████████▋| 261/271 [00:01<00:00, 149.21it/s, accuracy=0.0312, train_loss=5.7] \n",
      "Evaluation:  68%|██████▊   | 17/25 [00:03<00:01,  5.00it/s]\n",
      "Train:   0%|          | 0/271 [00:00<?, ?it/s, accuracy=0, train_loss=5.48]     "
     ]
    },
    {
     "name": "stdout",
     "output_type": "stream",
     "text": [
      "\t - Recall@20 epoch 4: 0.143382\n",
      "\t - MRR@20    epoch 4: 0.046570\n",
      "\n"
     ]
    },
    {
     "name": "stderr",
     "output_type": "stream",
     "text": [
      "Train:  96%|█████████▋| 261/271 [00:01<00:00, 148.02it/s, accuracy=0.0312, train_loss=5.42]\n",
      "Evaluation:  68%|██████▊   | 17/25 [00:03<00:01,  4.98it/s]\n",
      "Train:   0%|          | 0/271 [00:00<?, ?it/s, accuracy=0, train_loss=5.41]     "
     ]
    },
    {
     "name": "stdout",
     "output_type": "stream",
     "text": [
      "\t - Recall@20 epoch 5: 0.154412\n",
      "\t - MRR@20    epoch 5: 0.049442\n",
      "\n"
     ]
    },
    {
     "name": "stderr",
     "output_type": "stream",
     "text": [
      "Train:  96%|█████████▋| 261/271 [00:01<00:00, 148.34it/s, accuracy=0.0625, train_loss=5.15]\n",
      "Evaluation:  68%|██████▊   | 17/25 [00:03<00:01,  4.95it/s]\n",
      "Train:   0%|          | 0/271 [00:00<?, ?it/s, accuracy=0, train_loss=5.22]     "
     ]
    },
    {
     "name": "stdout",
     "output_type": "stream",
     "text": [
      "\t - Recall@20 epoch 6: 0.158088\n",
      "\t - MRR@20    epoch 6: 0.054800\n",
      "\n"
     ]
    },
    {
     "name": "stderr",
     "output_type": "stream",
     "text": [
      "Train:  96%|█████████▋| 261/271 [00:01<00:00, 149.12it/s, accuracy=0.0625, train_loss=5.03]\n",
      "Evaluation:  68%|██████▊   | 17/25 [00:03<00:01,  5.07it/s]\n",
      "Train:   0%|          | 0/271 [00:00<?, ?it/s, accuracy=0.0625, train_loss=5.09]"
     ]
    },
    {
     "name": "stdout",
     "output_type": "stream",
     "text": [
      "\t - Recall@20 epoch 7: 0.180147\n",
      "\t - MRR@20    epoch 7: 0.053833\n",
      "\n"
     ]
    },
    {
     "name": "stderr",
     "output_type": "stream",
     "text": [
      "Train:  96%|█████████▋| 261/271 [00:01<00:00, 149.63it/s, accuracy=0.156, train_loss=4.88] \n",
      "Evaluation:  68%|██████▊   | 17/25 [00:03<00:01,  5.10it/s]\n",
      "Train:   0%|          | 0/271 [00:00<?, ?it/s, accuracy=0, train_loss=5]        "
     ]
    },
    {
     "name": "stdout",
     "output_type": "stream",
     "text": [
      "\t - Recall@20 epoch 8: 0.193015\n",
      "\t - MRR@20    epoch 8: 0.054332\n",
      "\n"
     ]
    },
    {
     "name": "stderr",
     "output_type": "stream",
     "text": [
      "Train:  96%|█████████▋| 261/271 [00:01<00:00, 148.23it/s, accuracy=0.125, train_loss=4.74] \n",
      "Evaluation:  68%|██████▊   | 17/25 [00:03<00:01,  5.09it/s]\n",
      "Train:   0%|          | 0/271 [00:00<?, ?it/s, accuracy=0.0625, train_loss=5.13]"
     ]
    },
    {
     "name": "stdout",
     "output_type": "stream",
     "text": [
      "\t - Recall@20 epoch 9: 0.204044\n",
      "\t - MRR@20    epoch 9: 0.057127\n",
      "\n"
     ]
    },
    {
     "name": "stderr",
     "output_type": "stream",
     "text": [
      "Train:  96%|█████████▋| 261/271 [00:01<00:00, 148.61it/s, accuracy=0.156, train_loss=4.65] \n",
      "Evaluation:  68%|██████▊   | 17/25 [00:03<00:01,  5.12it/s]\n",
      "Train:   0%|          | 0/271 [00:00<?, ?it/s, accuracy=0.0312, train_loss=4.73]"
     ]
    },
    {
     "name": "stdout",
     "output_type": "stream",
     "text": [
      "\t - Recall@20 epoch 10: 0.200368\n",
      "\t - MRR@20    epoch 10: 0.060229\n",
      "\n"
     ]
    },
    {
     "name": "stderr",
     "output_type": "stream",
     "text": [
      "Train:  96%|█████████▋| 261/271 [00:01<00:00, 149.07it/s, accuracy=0.0938, train_loss=4.57]\n",
      "Evaluation:  68%|██████▊   | 17/25 [00:03<00:01,  5.14it/s]\n",
      "Train:   0%|          | 0/271 [00:00<?, ?it/s, accuracy=0.0312, train_loss=4.65]"
     ]
    },
    {
     "name": "stdout",
     "output_type": "stream",
     "text": [
      "\t - Recall@20 epoch 11: 0.205882\n",
      "\t - MRR@20    epoch 11: 0.063426\n",
      "\n"
     ]
    },
    {
     "name": "stderr",
     "output_type": "stream",
     "text": [
      "Train:  96%|█████████▋| 261/271 [00:01<00:00, 148.28it/s, accuracy=0.125, train_loss=4.42] \n",
      "Evaluation:  68%|██████▊   | 17/25 [00:03<00:01,  5.08it/s]\n",
      "Train:   0%|          | 0/271 [00:00<?, ?it/s, accuracy=0.0312, train_loss=4.57]"
     ]
    },
    {
     "name": "stdout",
     "output_type": "stream",
     "text": [
      "\t - Recall@20 epoch 12: 0.211397\n",
      "\t - MRR@20    epoch 12: 0.065062\n",
      "\n"
     ]
    },
    {
     "name": "stderr",
     "output_type": "stream",
     "text": [
      "Train:  96%|█████████▋| 261/271 [00:01<00:00, 148.20it/s, accuracy=0.125, train_loss=4.31] \n",
      "Evaluation:  68%|██████▊   | 17/25 [00:03<00:01,  5.04it/s]\n",
      "Train:   0%|          | 0/271 [00:00<?, ?it/s, accuracy=0.0938, train_loss=4.52]"
     ]
    },
    {
     "name": "stdout",
     "output_type": "stream",
     "text": [
      "\t - Recall@20 epoch 13: 0.202206\n",
      "\t - MRR@20    epoch 13: 0.066488\n",
      "\n"
     ]
    },
    {
     "name": "stderr",
     "output_type": "stream",
     "text": [
      "Train:  96%|█████████▋| 261/271 [00:01<00:00, 148.98it/s, accuracy=0.156, train_loss=4.17] \n",
      "Evaluation:  68%|██████▊   | 17/25 [00:03<00:01,  5.13it/s]\n",
      "Train:   0%|          | 0/271 [00:00<?, ?it/s, accuracy=0.0625, train_loss=4.38]"
     ]
    },
    {
     "name": "stdout",
     "output_type": "stream",
     "text": [
      "\t - Recall@20 epoch 14: 0.207721\n",
      "\t - MRR@20    epoch 14: 0.068303\n",
      "\n"
     ]
    },
    {
     "name": "stderr",
     "output_type": "stream",
     "text": [
      "Train:  96%|█████████▋| 261/271 [00:01<00:00, 130.87it/s, accuracy=0.156, train_loss=4.18] \n",
      "Evaluation:  68%|██████▊   | 17/25 [00:03<00:01,  5.13it/s]\n",
      "Train:   0%|          | 0/271 [00:00<?, ?it/s, accuracy=0.0625, train_loss=4.32]"
     ]
    },
    {
     "name": "stdout",
     "output_type": "stream",
     "text": [
      "\t - Recall@20 epoch 15: 0.204044\n",
      "\t - MRR@20    epoch 15: 0.069317\n",
      "\n"
     ]
    },
    {
     "name": "stderr",
     "output_type": "stream",
     "text": [
      "Train:  96%|█████████▋| 261/271 [00:01<00:00, 146.21it/s, accuracy=0.125, train_loss=4.02] \n",
      "Evaluation:  68%|██████▊   | 17/25 [00:03<00:01,  5.13it/s]\n",
      "Train:   0%|          | 0/271 [00:00<?, ?it/s, accuracy=0.125, train_loss=4.26] "
     ]
    },
    {
     "name": "stdout",
     "output_type": "stream",
     "text": [
      "\t - Recall@20 epoch 16: 0.204044\n",
      "\t - MRR@20    epoch 16: 0.070868\n",
      "\n"
     ]
    },
    {
     "name": "stderr",
     "output_type": "stream",
     "text": [
      "Train:  96%|█████████▋| 261/271 [00:01<00:00, 147.36it/s, accuracy=0.125, train_loss=3.99] \n",
      "Evaluation:  68%|██████▊   | 17/25 [00:03<00:01,  5.09it/s]\n",
      "Train:   0%|          | 0/271 [00:00<?, ?it/s, accuracy=0.156, train_loss=4.26] "
     ]
    },
    {
     "name": "stdout",
     "output_type": "stream",
     "text": [
      "\t - Recall@20 epoch 17: 0.194853\n",
      "\t - MRR@20    epoch 17: 0.069788\n",
      "\n"
     ]
    },
    {
     "name": "stderr",
     "output_type": "stream",
     "text": [
      "Train:  96%|█████████▋| 261/271 [00:01<00:00, 142.31it/s, accuracy=0.156, train_loss=3.85] \n",
      "Evaluation:  68%|██████▊   | 17/25 [00:03<00:01,  5.05it/s]\n",
      "Train:   0%|          | 0/271 [00:00<?, ?it/s, accuracy=0.0938, train_loss=4.22]"
     ]
    },
    {
     "name": "stdout",
     "output_type": "stream",
     "text": [
      "\t - Recall@20 epoch 18: 0.202206\n",
      "\t - MRR@20    epoch 18: 0.068478\n",
      "\n"
     ]
    },
    {
     "name": "stderr",
     "output_type": "stream",
     "text": [
      "Train:  96%|█████████▋| 261/271 [00:01<00:00, 146.29it/s, accuracy=0.125, train_loss=3.86] \n",
      "Evaluation:  68%|██████▊   | 17/25 [00:03<00:01,  5.04it/s]\n",
      "Train:   0%|          | 0/271 [00:00<?, ?it/s, accuracy=0.0938, train_loss=4.4] "
     ]
    },
    {
     "name": "stdout",
     "output_type": "stream",
     "text": [
      "\t - Recall@20 epoch 19: 0.200368\n",
      "\t - MRR@20    epoch 19: 0.069302\n",
      "\n"
     ]
    },
    {
     "name": "stderr",
     "output_type": "stream",
     "text": [
      "Train:  96%|█████████▋| 261/271 [00:01<00:00, 144.14it/s, accuracy=0.0938, train_loss=3.82]\n",
      "Evaluation:  68%|██████▊   | 17/25 [00:03<00:01,  5.08it/s]\n",
      "Train:   0%|          | 0/271 [00:00<?, ?it/s, accuracy=0.125, train_loss=4.05] "
     ]
    },
    {
     "name": "stdout",
     "output_type": "stream",
     "text": [
      "\t - Recall@20 epoch 20: 0.196691\n",
      "\t - MRR@20    epoch 20: 0.069153\n",
      "\n"
     ]
    },
    {
     "name": "stderr",
     "output_type": "stream",
     "text": [
      "Train:  96%|█████████▋| 261/271 [00:01<00:00, 147.07it/s, accuracy=0.156, train_loss=3.67] \n",
      "Evaluation:  68%|██████▊   | 17/25 [00:03<00:01,  5.07it/s]\n",
      "Train:   0%|          | 0/271 [00:00<?, ?it/s, accuracy=0.125, train_loss=3.84] "
     ]
    },
    {
     "name": "stdout",
     "output_type": "stream",
     "text": [
      "\t - Recall@20 epoch 21: 0.193015\n",
      "\t - MRR@20    epoch 21: 0.069278\n",
      "\n"
     ]
    },
    {
     "name": "stderr",
     "output_type": "stream",
     "text": [
      "Train:  96%|█████████▋| 261/271 [00:01<00:00, 144.28it/s, accuracy=0.125, train_loss=3.65] \n",
      "Evaluation:  68%|██████▊   | 17/25 [00:03<00:01,  5.08it/s]\n",
      "Train:   0%|          | 0/271 [00:00<?, ?it/s, accuracy=0.188, train_loss=3.75] "
     ]
    },
    {
     "name": "stdout",
     "output_type": "stream",
     "text": [
      "\t - Recall@20 epoch 22: 0.187500\n",
      "\t - MRR@20    epoch 22: 0.069395\n",
      "\n"
     ]
    },
    {
     "name": "stderr",
     "output_type": "stream",
     "text": [
      "Train:  96%|█████████▋| 261/271 [00:01<00:00, 147.65it/s, accuracy=0.219, train_loss=3.55] \n",
      "Evaluation:  68%|██████▊   | 17/25 [00:03<00:01,  5.09it/s]\n",
      "Train:   0%|          | 0/271 [00:00<?, ?it/s, accuracy=0.125, train_loss=4.04] "
     ]
    },
    {
     "name": "stdout",
     "output_type": "stream",
     "text": [
      "\t - Recall@20 epoch 23: 0.193015\n",
      "\t - MRR@20    epoch 23: 0.069182\n",
      "\n"
     ]
    },
    {
     "name": "stderr",
     "output_type": "stream",
     "text": [
      "Train:  96%|█████████▋| 261/271 [00:01<00:00, 149.33it/s, accuracy=0.156, train_loss=3.53] \n",
      "Evaluation:  68%|██████▊   | 17/25 [00:03<00:01,  5.04it/s]\n",
      "Train:   0%|          | 0/271 [00:00<?, ?it/s, accuracy=0.188, train_loss=4.03] "
     ]
    },
    {
     "name": "stdout",
     "output_type": "stream",
     "text": [
      "\t - Recall@20 epoch 24: 0.183824\n",
      "\t - MRR@20    epoch 24: 0.068831\n",
      "\n"
     ]
    },
    {
     "name": "stderr",
     "output_type": "stream",
     "text": [
      "Train:  96%|█████████▋| 261/271 [00:01<00:00, 149.33it/s, accuracy=0.125, train_loss=3.61] \n",
      "Evaluation:  68%|██████▊   | 17/25 [00:03<00:01,  5.06it/s]\n",
      "Train:   0%|          | 0/271 [00:00<?, ?it/s, accuracy=0.188, train_loss=3.77] "
     ]
    },
    {
     "name": "stdout",
     "output_type": "stream",
     "text": [
      "\t - Recall@20 epoch 25: 0.178309\n",
      "\t - MRR@20    epoch 25: 0.068539\n",
      "\n"
     ]
    },
    {
     "name": "stderr",
     "output_type": "stream",
     "text": [
      "Train:  96%|█████████▋| 261/271 [00:01<00:00, 148.87it/s, accuracy=0.156, train_loss=3.47] \n",
      "Evaluation:  68%|██████▊   | 17/25 [00:03<00:01,  5.08it/s]\n",
      "Train:   0%|          | 0/271 [00:00<?, ?it/s, accuracy=0.0938, train_loss=3.96]"
     ]
    },
    {
     "name": "stdout",
     "output_type": "stream",
     "text": [
      "\t - Recall@20 epoch 26: 0.187500\n",
      "\t - MRR@20    epoch 26: 0.067870\n",
      "\n"
     ]
    },
    {
     "name": "stderr",
     "output_type": "stream",
     "text": [
      "Train:  96%|█████████▋| 261/271 [00:01<00:00, 149.95it/s, accuracy=0.219, train_loss=3.35] \n",
      "Evaluation:  68%|██████▊   | 17/25 [00:03<00:01,  5.13it/s]\n",
      "Train:   0%|          | 0/271 [00:00<?, ?it/s, accuracy=0.188, train_loss=3.71] "
     ]
    },
    {
     "name": "stdout",
     "output_type": "stream",
     "text": [
      "\t - Recall@20 epoch 27: 0.183824\n",
      "\t - MRR@20    epoch 27: 0.065650\n",
      "\n"
     ]
    },
    {
     "name": "stderr",
     "output_type": "stream",
     "text": [
      "Train:  96%|█████████▋| 261/271 [00:01<00:00, 147.94it/s, accuracy=0.125, train_loss=3.5]  \n",
      "Evaluation:  68%|██████▊   | 17/25 [00:03<00:01,  5.10it/s]\n",
      "Train:   0%|          | 0/271 [00:00<?, ?it/s, accuracy=0.188, train_loss=3.76] "
     ]
    },
    {
     "name": "stdout",
     "output_type": "stream",
     "text": [
      "\t - Recall@20 epoch 28: 0.185662\n",
      "\t - MRR@20    epoch 28: 0.065690\n",
      "\n"
     ]
    },
    {
     "name": "stderr",
     "output_type": "stream",
     "text": [
      "Train:  96%|█████████▋| 261/271 [00:01<00:00, 150.55it/s, accuracy=0.188, train_loss=3.22] \n",
      "Evaluation:  68%|██████▊   | 17/25 [00:03<00:01,  5.07it/s]\n",
      "Train:   0%|          | 0/271 [00:00<?, ?it/s, accuracy=0.156, train_loss=3.69] "
     ]
    },
    {
     "name": "stdout",
     "output_type": "stream",
     "text": [
      "\t - Recall@20 epoch 29: 0.193015\n",
      "\t - MRR@20    epoch 29: 0.066350\n",
      "\n"
     ]
    },
    {
     "name": "stderr",
     "output_type": "stream",
     "text": [
      "Train:  96%|█████████▋| 261/271 [00:01<00:00, 148.90it/s, accuracy=0.188, train_loss=3.19] \n",
      "Evaluation:  68%|██████▊   | 17/25 [00:03<00:01,  5.12it/s]\n",
      "Train:   0%|          | 0/271 [00:00<?, ?it/s, accuracy=0.188, train_loss=3.5]  "
     ]
    },
    {
     "name": "stdout",
     "output_type": "stream",
     "text": [
      "\t - Recall@20 epoch 30: 0.185662\n",
      "\t - MRR@20    epoch 30: 0.066362\n",
      "\n"
     ]
    },
    {
     "name": "stderr",
     "output_type": "stream",
     "text": [
      "Train:  96%|█████████▋| 261/271 [00:01<00:00, 150.09it/s, accuracy=0.281, train_loss=3.16] \n",
      "Evaluation:  68%|██████▊   | 17/25 [00:03<00:01,  5.06it/s]\n",
      "Train:   0%|          | 0/271 [00:00<?, ?it/s, accuracy=0.219, train_loss=3.57] "
     ]
    },
    {
     "name": "stdout",
     "output_type": "stream",
     "text": [
      "\t - Recall@20 epoch 31: 0.185662\n",
      "\t - MRR@20    epoch 31: 0.066379\n",
      "\n"
     ]
    },
    {
     "name": "stderr",
     "output_type": "stream",
     "text": [
      "Train:  96%|█████████▋| 261/271 [00:01<00:00, 148.58it/s, accuracy=0.188, train_loss=3.17] \n",
      "Evaluation:  68%|██████▊   | 17/25 [00:03<00:01,  5.07it/s]\n",
      "Train:   0%|          | 0/271 [00:00<?, ?it/s, accuracy=0.0938, train_loss=3.78]"
     ]
    },
    {
     "name": "stdout",
     "output_type": "stream",
     "text": [
      "\t - Recall@20 epoch 32: 0.185662\n",
      "\t - MRR@20    epoch 32: 0.065438\n",
      "\n"
     ]
    },
    {
     "name": "stderr",
     "output_type": "stream",
     "text": [
      "Train:  96%|█████████▋| 261/271 [00:01<00:00, 149.27it/s, accuracy=0.125, train_loss=3.16] \n",
      "Evaluation:  68%|██████▊   | 17/25 [00:03<00:01,  5.09it/s]\n",
      "Train:   0%|          | 0/271 [00:00<?, ?it/s, accuracy=0.219, train_loss=3.6]  "
     ]
    },
    {
     "name": "stdout",
     "output_type": "stream",
     "text": [
      "\t - Recall@20 epoch 33: 0.185662\n",
      "\t - MRR@20    epoch 33: 0.064844\n",
      "\n"
     ]
    },
    {
     "name": "stderr",
     "output_type": "stream",
     "text": [
      "Train:  96%|█████████▋| 261/271 [00:01<00:00, 147.79it/s, accuracy=0.281, train_loss=3.09] \n",
      "Evaluation:  68%|██████▊   | 17/25 [00:03<00:01,  5.04it/s]\n",
      "Train:   0%|          | 0/271 [00:00<?, ?it/s, accuracy=0.0938, train_loss=3.72]"
     ]
    },
    {
     "name": "stdout",
     "output_type": "stream",
     "text": [
      "\t - Recall@20 epoch 34: 0.178309\n",
      "\t - MRR@20    epoch 34: 0.064794\n",
      "\n"
     ]
    },
    {
     "name": "stderr",
     "output_type": "stream",
     "text": [
      "Train:  96%|█████████▋| 261/271 [00:01<00:00, 149.91it/s, accuracy=0.25, train_loss=3.1]   \n",
      "Evaluation:  68%|██████▊   | 17/25 [00:03<00:01,  5.03it/s]\n",
      "Train:   0%|          | 0/271 [00:00<?, ?it/s, accuracy=0.219, train_loss=3.36] "
     ]
    },
    {
     "name": "stdout",
     "output_type": "stream",
     "text": [
      "\t - Recall@20 epoch 35: 0.172794\n",
      "\t - MRR@20    epoch 35: 0.064483\n",
      "\n"
     ]
    },
    {
     "name": "stderr",
     "output_type": "stream",
     "text": [
      "Train:  96%|█████████▋| 261/271 [00:01<00:00, 148.31it/s, accuracy=0.281, train_loss=3.05] \n",
      "Evaluation:  68%|██████▊   | 17/25 [00:03<00:01,  5.03it/s]\n",
      "Train:   0%|          | 0/271 [00:00<?, ?it/s, accuracy=0.219, train_loss=3.48] "
     ]
    },
    {
     "name": "stdout",
     "output_type": "stream",
     "text": [
      "\t - Recall@20 epoch 36: 0.170956\n",
      "\t - MRR@20    epoch 36: 0.064379\n",
      "\n"
     ]
    },
    {
     "name": "stderr",
     "output_type": "stream",
     "text": [
      "Train:  96%|█████████▋| 261/271 [00:01<00:00, 147.80it/s, accuracy=0.25, train_loss=2.92]  \n",
      "Evaluation:  68%|██████▊   | 17/25 [00:03<00:01,  5.01it/s]\n",
      "Train:   0%|          | 0/271 [00:00<?, ?it/s, accuracy=0.0938, train_loss=3.66]"
     ]
    },
    {
     "name": "stdout",
     "output_type": "stream",
     "text": [
      "\t - Recall@20 epoch 37: 0.169118\n",
      "\t - MRR@20    epoch 37: 0.064376\n",
      "\n"
     ]
    },
    {
     "name": "stderr",
     "output_type": "stream",
     "text": [
      "Train:  96%|█████████▋| 261/271 [00:01<00:00, 144.39it/s, accuracy=0.219, train_loss=2.94] \n",
      "Evaluation:  68%|██████▊   | 17/25 [00:03<00:01,  5.05it/s]\n",
      "Train:   0%|          | 0/271 [00:00<?, ?it/s, accuracy=0.219, train_loss=3.35] "
     ]
    },
    {
     "name": "stdout",
     "output_type": "stream",
     "text": [
      "\t - Recall@20 epoch 38: 0.172794\n",
      "\t - MRR@20    epoch 38: 0.063215\n",
      "\n"
     ]
    },
    {
     "name": "stderr",
     "output_type": "stream",
     "text": [
      "Train:  96%|█████████▋| 261/271 [00:01<00:00, 146.69it/s, accuracy=0.25, train_loss=2.81]  \n",
      "Evaluation:  68%|██████▊   | 17/25 [00:03<00:01,  4.99it/s]\n",
      "Train:   0%|          | 0/271 [00:00<?, ?it/s, accuracy=0.156, train_loss=3.41] "
     ]
    },
    {
     "name": "stdout",
     "output_type": "stream",
     "text": [
      "\t - Recall@20 epoch 39: 0.167279\n",
      "\t - MRR@20    epoch 39: 0.061906\n",
      "\n"
     ]
    },
    {
     "name": "stderr",
     "output_type": "stream",
     "text": [
      "Train:  96%|█████████▋| 261/271 [00:01<00:00, 147.76it/s, accuracy=0.25, train_loss=2.84]  \n",
      "Evaluation:  68%|██████▊   | 17/25 [00:03<00:01,  5.06it/s]\n",
      "Train:   0%|          | 0/271 [00:00<?, ?it/s, accuracy=0.188, train_loss=3.31] "
     ]
    },
    {
     "name": "stdout",
     "output_type": "stream",
     "text": [
      "\t - Recall@20 epoch 40: 0.172794\n",
      "\t - MRR@20    epoch 40: 0.063887\n",
      "\n"
     ]
    },
    {
     "name": "stderr",
     "output_type": "stream",
     "text": [
      "Train:  96%|█████████▋| 261/271 [00:01<00:00, 148.51it/s, accuracy=0.25, train_loss=2.76] \n",
      "Evaluation:  68%|██████▊   | 17/25 [00:03<00:01,  5.10it/s]\n",
      "Train:   0%|          | 0/271 [00:00<?, ?it/s, accuracy=0.125, train_loss=3.51]"
     ]
    },
    {
     "name": "stdout",
     "output_type": "stream",
     "text": [
      "\t - Recall@20 epoch 41: 0.170956\n",
      "\t - MRR@20    epoch 41: 0.062477\n",
      "\n"
     ]
    },
    {
     "name": "stderr",
     "output_type": "stream",
     "text": [
      "Train:  96%|█████████▋| 261/271 [00:01<00:00, 147.99it/s, accuracy=0.344, train_loss=2.82] \n",
      "Evaluation:  68%|██████▊   | 17/25 [00:03<00:01,  5.06it/s]\n",
      "Train:   0%|          | 0/271 [00:00<?, ?it/s, accuracy=0.344, train_loss=3.1] "
     ]
    },
    {
     "name": "stdout",
     "output_type": "stream",
     "text": [
      "\t - Recall@20 epoch 42: 0.170956\n",
      "\t - MRR@20    epoch 42: 0.063191\n",
      "\n"
     ]
    },
    {
     "name": "stderr",
     "output_type": "stream",
     "text": [
      "Train:  96%|█████████▋| 261/271 [00:01<00:00, 148.64it/s, accuracy=0.312, train_loss=2.62] \n",
      "Evaluation:  68%|██████▊   | 17/25 [00:03<00:01,  5.06it/s]\n",
      "Train:   0%|          | 0/271 [00:00<?, ?it/s, accuracy=0.375, train_loss=2.89]"
     ]
    },
    {
     "name": "stdout",
     "output_type": "stream",
     "text": [
      "\t - Recall@20 epoch 43: 0.167279\n",
      "\t - MRR@20    epoch 43: 0.061728\n",
      "\n"
     ]
    },
    {
     "name": "stderr",
     "output_type": "stream",
     "text": [
      "Train:  96%|█████████▋| 261/271 [00:01<00:00, 145.04it/s, accuracy=0.281, train_loss=2.61] \n",
      "Evaluation:  68%|██████▊   | 17/25 [00:03<00:01,  5.12it/s]\n",
      "Train:   0%|          | 0/271 [00:00<?, ?it/s, accuracy=0.188, train_loss=3.22] "
     ]
    },
    {
     "name": "stdout",
     "output_type": "stream",
     "text": [
      "\t - Recall@20 epoch 44: 0.169118\n",
      "\t - MRR@20    epoch 44: 0.061603\n",
      "\n"
     ]
    },
    {
     "name": "stderr",
     "output_type": "stream",
     "text": [
      "Train:  96%|█████████▋| 261/271 [00:01<00:00, 149.69it/s, accuracy=0.312, train_loss=2.67] \n",
      "Evaluation:  68%|██████▊   | 17/25 [00:03<00:01,  5.07it/s]\n",
      "Train:   0%|          | 0/271 [00:00<?, ?it/s, accuracy=0.25, train_loss=3.19] "
     ]
    },
    {
     "name": "stdout",
     "output_type": "stream",
     "text": [
      "\t - Recall@20 epoch 45: 0.169118\n",
      "\t - MRR@20    epoch 45: 0.061378\n",
      "\n"
     ]
    },
    {
     "name": "stderr",
     "output_type": "stream",
     "text": [
      "Train:  96%|█████████▋| 261/271 [00:01<00:00, 146.81it/s, accuracy=0.312, train_loss=2.56]\n",
      "Evaluation:  68%|██████▊   | 17/25 [00:03<00:01,  5.04it/s]\n",
      "Train:   0%|          | 0/271 [00:00<?, ?it/s, accuracy=0.312, train_loss=3.11]"
     ]
    },
    {
     "name": "stdout",
     "output_type": "stream",
     "text": [
      "\t - Recall@20 epoch 46: 0.165441\n",
      "\t - MRR@20    epoch 46: 0.061224\n",
      "\n"
     ]
    },
    {
     "name": "stderr",
     "output_type": "stream",
     "text": [
      "Train:  96%|█████████▋| 261/271 [00:01<00:00, 134.05it/s, accuracy=0.375, train_loss=2.6]  \n",
      "Evaluation:  68%|██████▊   | 17/25 [00:03<00:01,  5.00it/s]\n",
      "Train:   0%|          | 0/271 [00:00<?, ?it/s, accuracy=0.219, train_loss=3.09]"
     ]
    },
    {
     "name": "stdout",
     "output_type": "stream",
     "text": [
      "\t - Recall@20 epoch 47: 0.172794\n",
      "\t - MRR@20    epoch 47: 0.059659\n",
      "\n"
     ]
    },
    {
     "name": "stderr",
     "output_type": "stream",
     "text": [
      "Train:  96%|█████████▋| 261/271 [00:01<00:00, 149.41it/s, accuracy=0.281, train_loss=2.59] \n",
      "Evaluation:  68%|██████▊   | 17/25 [00:03<00:01,  5.06it/s]\n",
      "Train:   0%|          | 0/271 [00:00<?, ?it/s, accuracy=0.188, train_loss=3.06]"
     ]
    },
    {
     "name": "stdout",
     "output_type": "stream",
     "text": [
      "\t - Recall@20 epoch 48: 0.172794\n",
      "\t - MRR@20    epoch 48: 0.059835\n",
      "\n"
     ]
    },
    {
     "name": "stderr",
     "output_type": "stream",
     "text": [
      "Train:  96%|█████████▋| 261/271 [00:01<00:00, 148.98it/s, accuracy=0.281, train_loss=2.5]  \n",
      "Evaluation:  68%|██████▊   | 17/25 [00:03<00:01,  5.04it/s]\n",
      "Train:   0%|          | 0/271 [00:00<?, ?it/s, accuracy=0.25, train_loss=2.91] "
     ]
    },
    {
     "name": "stdout",
     "output_type": "stream",
     "text": [
      "\t - Recall@20 epoch 49: 0.170956\n",
      "\t - MRR@20    epoch 49: 0.060374\n",
      "\n"
     ]
    },
    {
     "name": "stderr",
     "output_type": "stream",
     "text": [
      "Train:  96%|█████████▋| 261/271 [00:01<00:00, 148.53it/s, accuracy=0.344, train_loss=2.36]\n",
      "Evaluation:  68%|██████▊   | 17/25 [00:03<00:01,  5.05it/s]\n",
      "Train:   0%|          | 0/271 [00:00<?, ?it/s, accuracy=0.0938, train_loss=3.39]"
     ]
    },
    {
     "name": "stdout",
     "output_type": "stream",
     "text": [
      "\t - Recall@20 epoch 50: 0.180147\n",
      "\t - MRR@20    epoch 50: 0.060233\n",
      "\n"
     ]
    },
    {
     "name": "stderr",
     "output_type": "stream",
     "text": [
      "Train:  96%|█████████▋| 261/271 [00:01<00:00, 146.30it/s, accuracy=0.406, train_loss=2.42]\n",
      "Evaluation:  68%|██████▊   | 17/25 [00:03<00:01,  5.07it/s]\n",
      "Train:   0%|          | 0/271 [00:00<?, ?it/s, accuracy=0.156, train_loss=3.09]"
     ]
    },
    {
     "name": "stdout",
     "output_type": "stream",
     "text": [
      "\t - Recall@20 epoch 51: 0.176471\n",
      "\t - MRR@20    epoch 51: 0.059493\n",
      "\n"
     ]
    },
    {
     "name": "stderr",
     "output_type": "stream",
     "text": [
      "Train:  96%|█████████▋| 261/271 [00:01<00:00, 147.82it/s, accuracy=0.406, train_loss=2.42] \n",
      "Evaluation:  68%|██████▊   | 17/25 [00:03<00:01,  5.02it/s]\n",
      "Train:   0%|          | 0/271 [00:00<?, ?it/s, accuracy=0.219, train_loss=3.13]"
     ]
    },
    {
     "name": "stdout",
     "output_type": "stream",
     "text": [
      "\t - Recall@20 epoch 52: 0.180147\n",
      "\t - MRR@20    epoch 52: 0.060619\n",
      "\n"
     ]
    },
    {
     "name": "stderr",
     "output_type": "stream",
     "text": [
      "Train:  96%|█████████▋| 261/271 [00:01<00:00, 148.94it/s, accuracy=0.438, train_loss=2.35]\n",
      "Evaluation:  68%|██████▊   | 17/25 [00:03<00:01,  5.08it/s]\n",
      "Train:   0%|          | 0/271 [00:00<?, ?it/s, accuracy=0.312, train_loss=2.8] "
     ]
    },
    {
     "name": "stdout",
     "output_type": "stream",
     "text": [
      "\t - Recall@20 epoch 53: 0.178309\n",
      "\t - MRR@20    epoch 53: 0.058027\n",
      "\n"
     ]
    },
    {
     "name": "stderr",
     "output_type": "stream",
     "text": [
      "Train:  96%|█████████▋| 261/271 [00:01<00:00, 150.11it/s, accuracy=0.281, train_loss=2.35] \n",
      "Evaluation:  68%|██████▊   | 17/25 [00:03<00:01,  5.03it/s]\n",
      "Train:   0%|          | 0/271 [00:00<?, ?it/s, accuracy=0.406, train_loss=2.49]"
     ]
    },
    {
     "name": "stdout",
     "output_type": "stream",
     "text": [
      "\t - Recall@20 epoch 54: 0.180147\n",
      "\t - MRR@20    epoch 54: 0.056917\n",
      "\n"
     ]
    },
    {
     "name": "stderr",
     "output_type": "stream",
     "text": [
      "Train:  96%|█████████▋| 261/271 [00:01<00:00, 150.48it/s, accuracy=0.469, train_loss=2.22]\n",
      "Evaluation:  68%|██████▊   | 17/25 [00:03<00:01,  5.00it/s]\n",
      "Train:   0%|          | 0/271 [00:00<?, ?it/s, accuracy=0.156, train_loss=3.12]"
     ]
    },
    {
     "name": "stdout",
     "output_type": "stream",
     "text": [
      "\t - Recall@20 epoch 55: 0.178309\n",
      "\t - MRR@20    epoch 55: 0.057789\n",
      "\n"
     ]
    },
    {
     "name": "stderr",
     "output_type": "stream",
     "text": [
      "Train:  96%|█████████▋| 261/271 [00:01<00:00, 148.60it/s, accuracy=0.438, train_loss=2.27]\n",
      "Evaluation:  68%|██████▊   | 17/25 [00:03<00:01,  4.95it/s]\n",
      "Train:   0%|          | 0/271 [00:00<?, ?it/s, accuracy=0.125, train_loss=3.16]"
     ]
    },
    {
     "name": "stdout",
     "output_type": "stream",
     "text": [
      "\t - Recall@20 epoch 56: 0.178309\n",
      "\t - MRR@20    epoch 56: 0.056074\n",
      "\n"
     ]
    },
    {
     "name": "stderr",
     "output_type": "stream",
     "text": [
      "Train:  96%|█████████▋| 261/271 [00:01<00:00, 149.41it/s, accuracy=0.312, train_loss=2.32]\n",
      "Evaluation:  68%|██████▊   | 17/25 [00:03<00:01,  4.98it/s]\n",
      "Train:   0%|          | 0/271 [00:00<?, ?it/s, accuracy=0.281, train_loss=2.99]"
     ]
    },
    {
     "name": "stdout",
     "output_type": "stream",
     "text": [
      "\t - Recall@20 epoch 57: 0.174632\n",
      "\t - MRR@20    epoch 57: 0.058026\n",
      "\n"
     ]
    },
    {
     "name": "stderr",
     "output_type": "stream",
     "text": [
      "Train:  96%|█████████▋| 261/271 [00:01<00:00, 147.91it/s, accuracy=0.469, train_loss=2]   \n",
      "Evaluation:  68%|██████▊   | 17/25 [00:03<00:01,  5.03it/s]\n",
      "Train:   0%|          | 0/271 [00:00<?, ?it/s, accuracy=0.281, train_loss=3.21]"
     ]
    },
    {
     "name": "stdout",
     "output_type": "stream",
     "text": [
      "\t - Recall@20 epoch 58: 0.174632\n",
      "\t - MRR@20    epoch 58: 0.056350\n",
      "\n"
     ]
    },
    {
     "name": "stderr",
     "output_type": "stream",
     "text": [
      "Train:  96%|█████████▋| 261/271 [00:01<00:00, 147.65it/s, accuracy=0.438, train_loss=2.38]\n",
      "Evaluation:  68%|██████▊   | 17/25 [00:03<00:01,  5.06it/s]\n",
      "Train:   0%|          | 0/271 [00:00<?, ?it/s, accuracy=0.219, train_loss=3.13]"
     ]
    },
    {
     "name": "stdout",
     "output_type": "stream",
     "text": [
      "\t - Recall@20 epoch 59: 0.180147\n",
      "\t - MRR@20    epoch 59: 0.055617\n",
      "\n"
     ]
    },
    {
     "name": "stderr",
     "output_type": "stream",
     "text": [
      "Train:  96%|█████████▋| 261/271 [00:01<00:00, 148.88it/s, accuracy=0.469, train_loss=2.28]\n",
      "Evaluation:  68%|██████▊   | 17/25 [00:03<00:01,  5.00it/s]\n",
      "Train:   0%|          | 0/271 [00:00<?, ?it/s, accuracy=0.312, train_loss=2.44]"
     ]
    },
    {
     "name": "stdout",
     "output_type": "stream",
     "text": [
      "\t - Recall@20 epoch 60: 0.172794\n",
      "\t - MRR@20    epoch 60: 0.056285\n",
      "\n"
     ]
    },
    {
     "name": "stderr",
     "output_type": "stream",
     "text": [
      "Train:  96%|█████████▋| 261/271 [00:01<00:00, 150.08it/s, accuracy=0.438, train_loss=2.2] \n",
      "Evaluation:  68%|██████▊   | 17/25 [00:03<00:01,  5.08it/s]\n",
      "Train:   0%|          | 0/271 [00:00<?, ?it/s, accuracy=0.25, train_loss=2.78] "
     ]
    },
    {
     "name": "stdout",
     "output_type": "stream",
     "text": [
      "\t - Recall@20 epoch 61: 0.172794\n",
      "\t - MRR@20    epoch 61: 0.056181\n",
      "\n"
     ]
    },
    {
     "name": "stderr",
     "output_type": "stream",
     "text": [
      "Train:  96%|█████████▋| 261/271 [00:01<00:00, 149.45it/s, accuracy=0.375, train_loss=2.26]\n",
      "Evaluation:  68%|██████▊   | 17/25 [00:03<00:01,  5.04it/s]\n",
      "Train:   0%|          | 0/271 [00:00<?, ?it/s, accuracy=0.25, train_loss=2.6]  "
     ]
    },
    {
     "name": "stdout",
     "output_type": "stream",
     "text": [
      "\t - Recall@20 epoch 62: 0.172794\n",
      "\t - MRR@20    epoch 62: 0.055369\n",
      "\n"
     ]
    },
    {
     "name": "stderr",
     "output_type": "stream",
     "text": [
      "Train:  96%|█████████▋| 261/271 [00:01<00:00, 147.91it/s, accuracy=0.562, train_loss=1.98]\n",
      "Evaluation:  68%|██████▊   | 17/25 [00:03<00:01,  5.03it/s]\n",
      "Train:   0%|          | 0/271 [00:00<?, ?it/s, accuracy=0.281, train_loss=2.84]"
     ]
    },
    {
     "name": "stdout",
     "output_type": "stream",
     "text": [
      "\t - Recall@20 epoch 63: 0.174632\n",
      "\t - MRR@20    epoch 63: 0.053378\n",
      "\n"
     ]
    },
    {
     "name": "stderr",
     "output_type": "stream",
     "text": [
      "Train:  96%|█████████▋| 261/271 [00:01<00:00, 147.66it/s, accuracy=0.406, train_loss=2.24]\n",
      "Evaluation:  68%|██████▊   | 17/25 [00:03<00:01,  5.03it/s]\n",
      "Train:   0%|          | 0/271 [00:00<?, ?it/s, accuracy=0.344, train_loss=2.47]"
     ]
    },
    {
     "name": "stdout",
     "output_type": "stream",
     "text": [
      "\t - Recall@20 epoch 64: 0.174632\n",
      "\t - MRR@20    epoch 64: 0.054370\n",
      "\n"
     ]
    },
    {
     "name": "stderr",
     "output_type": "stream",
     "text": [
      "Train:  96%|█████████▋| 261/271 [00:01<00:00, 149.19it/s, accuracy=0.375, train_loss=2.1] \n",
      "Evaluation:  68%|██████▊   | 17/25 [00:03<00:01,  5.00it/s]\n",
      "Train:   0%|          | 0/271 [00:00<?, ?it/s, accuracy=0.281, train_loss=2.72]"
     ]
    },
    {
     "name": "stdout",
     "output_type": "stream",
     "text": [
      "\t - Recall@20 epoch 65: 0.172794\n",
      "\t - MRR@20    epoch 65: 0.055201\n",
      "\n"
     ]
    },
    {
     "name": "stderr",
     "output_type": "stream",
     "text": [
      "Train:  96%|█████████▋| 261/271 [00:01<00:00, 148.68it/s, accuracy=0.344, train_loss=2.01]\n",
      "Evaluation:  68%|██████▊   | 17/25 [00:03<00:01,  5.02it/s]\n",
      "Train:   0%|          | 0/271 [00:00<?, ?it/s, accuracy=0.25, train_loss=2.95] "
     ]
    },
    {
     "name": "stdout",
     "output_type": "stream",
     "text": [
      "\t - Recall@20 epoch 66: 0.169118\n",
      "\t - MRR@20    epoch 66: 0.054176\n",
      "\n"
     ]
    },
    {
     "name": "stderr",
     "output_type": "stream",
     "text": [
      "Train:  96%|█████████▋| 261/271 [00:01<00:00, 146.48it/s, accuracy=0.594, train_loss=1.9] \n",
      "Evaluation:  68%|██████▊   | 17/25 [00:03<00:01,  5.02it/s]\n",
      "Train:   0%|          | 0/271 [00:00<?, ?it/s, accuracy=0.312, train_loss=2.63]"
     ]
    },
    {
     "name": "stdout",
     "output_type": "stream",
     "text": [
      "\t - Recall@20 epoch 67: 0.172794\n",
      "\t - MRR@20    epoch 67: 0.053866\n",
      "\n"
     ]
    },
    {
     "name": "stderr",
     "output_type": "stream",
     "text": [
      "Train:  96%|█████████▋| 261/271 [00:01<00:00, 149.86it/s, accuracy=0.375, train_loss=2.11]\n",
      "Evaluation:  68%|██████▊   | 17/25 [00:03<00:01,  5.01it/s]\n",
      "Train:   0%|          | 0/271 [00:00<?, ?it/s, accuracy=0.344, train_loss=2.65]"
     ]
    },
    {
     "name": "stdout",
     "output_type": "stream",
     "text": [
      "\t - Recall@20 epoch 68: 0.174632\n",
      "\t - MRR@20    epoch 68: 0.053989\n",
      "\n"
     ]
    },
    {
     "name": "stderr",
     "output_type": "stream",
     "text": [
      "Train:  96%|█████████▋| 261/271 [00:01<00:00, 149.25it/s, accuracy=0.5, train_loss=2.07]  \n",
      "Evaluation:  68%|██████▊   | 17/25 [00:03<00:01,  5.06it/s]\n",
      "Train:   0%|          | 0/271 [00:00<?, ?it/s, accuracy=0.406, train_loss=2.37]"
     ]
    },
    {
     "name": "stdout",
     "output_type": "stream",
     "text": [
      "\t - Recall@20 epoch 69: 0.176471\n",
      "\t - MRR@20    epoch 69: 0.053518\n",
      "\n"
     ]
    },
    {
     "name": "stderr",
     "output_type": "stream",
     "text": [
      "Train:  96%|█████████▋| 261/271 [00:01<00:00, 149.30it/s, accuracy=0.5, train_loss=1.89]  \n",
      "Evaluation:  68%|██████▊   | 17/25 [00:03<00:01,  5.04it/s]\n",
      "Train:   0%|          | 0/271 [00:00<?, ?it/s, accuracy=0.188, train_loss=2.78]"
     ]
    },
    {
     "name": "stdout",
     "output_type": "stream",
     "text": [
      "\t - Recall@20 epoch 70: 0.174632\n",
      "\t - MRR@20    epoch 70: 0.051127\n",
      "\n"
     ]
    },
    {
     "name": "stderr",
     "output_type": "stream",
     "text": [
      "Train:  96%|█████████▋| 261/271 [00:01<00:00, 147.60it/s, accuracy=0.5, train_loss=2.04]  \n",
      "Evaluation:  68%|██████▊   | 17/25 [00:03<00:01,  5.00it/s]\n",
      "Train:   0%|          | 0/271 [00:00<?, ?it/s, accuracy=0.281, train_loss=2.65]"
     ]
    },
    {
     "name": "stdout",
     "output_type": "stream",
     "text": [
      "\t - Recall@20 epoch 71: 0.178309\n",
      "\t - MRR@20    epoch 71: 0.051079\n",
      "\n"
     ]
    },
    {
     "name": "stderr",
     "output_type": "stream",
     "text": [
      "Train:  96%|█████████▋| 261/271 [00:01<00:00, 148.81it/s, accuracy=0.406, train_loss=1.98] \n",
      "Evaluation:  68%|██████▊   | 17/25 [00:03<00:01,  5.08it/s]\n",
      "Train:   0%|          | 0/271 [00:00<?, ?it/s, accuracy=0.375, train_loss=2.53]"
     ]
    },
    {
     "name": "stdout",
     "output_type": "stream",
     "text": [
      "\t - Recall@20 epoch 72: 0.178309\n",
      "\t - MRR@20    epoch 72: 0.053327\n",
      "\n"
     ]
    },
    {
     "name": "stderr",
     "output_type": "stream",
     "text": [
      "Train:  96%|█████████▋| 261/271 [00:01<00:00, 148.93it/s, accuracy=0.312, train_loss=2.19]\n",
      "Evaluation:  68%|██████▊   | 17/25 [00:03<00:01,  5.02it/s]\n",
      "Train:   0%|          | 0/271 [00:00<?, ?it/s, accuracy=0.344, train_loss=2.7] "
     ]
    },
    {
     "name": "stdout",
     "output_type": "stream",
     "text": [
      "\t - Recall@20 epoch 73: 0.170956\n",
      "\t - MRR@20    epoch 73: 0.051741\n",
      "\n"
     ]
    },
    {
     "name": "stderr",
     "output_type": "stream",
     "text": [
      "Train:  96%|█████████▋| 261/271 [00:01<00:00, 150.32it/s, accuracy=0.469, train_loss=2.02]\n",
      "Evaluation:  68%|██████▊   | 17/25 [00:03<00:01,  5.00it/s]\n",
      "Train:   0%|          | 0/271 [00:00<?, ?it/s, accuracy=0.156, train_loss=2.78]"
     ]
    },
    {
     "name": "stdout",
     "output_type": "stream",
     "text": [
      "\t - Recall@20 epoch 74: 0.169118\n",
      "\t - MRR@20    epoch 74: 0.053871\n",
      "\n"
     ]
    },
    {
     "name": "stderr",
     "output_type": "stream",
     "text": [
      "Train:  96%|█████████▋| 261/271 [00:01<00:00, 148.11it/s, accuracy=0.438, train_loss=1.97]\n",
      "Evaluation:  68%|██████▊   | 17/25 [00:03<00:01,  5.00it/s]\n",
      "Train:   0%|          | 0/271 [00:00<?, ?it/s, accuracy=0.406, train_loss=2.34]"
     ]
    },
    {
     "name": "stdout",
     "output_type": "stream",
     "text": [
      "\t - Recall@20 epoch 75: 0.172794\n",
      "\t - MRR@20    epoch 75: 0.052512\n",
      "\n"
     ]
    },
    {
     "name": "stderr",
     "output_type": "stream",
     "text": [
      "Train:  96%|█████████▋| 261/271 [00:01<00:00, 150.48it/s, accuracy=0.656, train_loss=1.62]\n",
      "Evaluation:  68%|██████▊   | 17/25 [00:03<00:01,  4.97it/s]\n",
      "Train:   0%|          | 0/271 [00:00<?, ?it/s, accuracy=0.312, train_loss=2.54]"
     ]
    },
    {
     "name": "stdout",
     "output_type": "stream",
     "text": [
      "\t - Recall@20 epoch 76: 0.169118\n",
      "\t - MRR@20    epoch 76: 0.051878\n",
      "\n"
     ]
    },
    {
     "name": "stderr",
     "output_type": "stream",
     "text": [
      "Train:  96%|█████████▋| 261/271 [00:01<00:00, 148.77it/s, accuracy=0.531, train_loss=1.64]\n",
      "Evaluation:  68%|██████▊   | 17/25 [00:03<00:01,  5.00it/s]\n",
      "Train:   0%|          | 0/271 [00:00<?, ?it/s, accuracy=0.281, train_loss=2.7] "
     ]
    },
    {
     "name": "stdout",
     "output_type": "stream",
     "text": [
      "\t - Recall@20 epoch 77: 0.170956\n",
      "\t - MRR@20    epoch 77: 0.054139\n",
      "\n"
     ]
    },
    {
     "name": "stderr",
     "output_type": "stream",
     "text": [
      "Train:  96%|█████████▋| 261/271 [00:01<00:00, 148.86it/s, accuracy=0.531, train_loss=1.71]\n",
      "Evaluation:  68%|██████▊   | 17/25 [00:03<00:01,  5.05it/s]\n",
      "Train:   0%|          | 0/271 [00:00<?, ?it/s, accuracy=0.312, train_loss=2.61]"
     ]
    },
    {
     "name": "stdout",
     "output_type": "stream",
     "text": [
      "\t - Recall@20 epoch 78: 0.174632\n",
      "\t - MRR@20    epoch 78: 0.051571\n",
      "\n"
     ]
    },
    {
     "name": "stderr",
     "output_type": "stream",
     "text": [
      "Train:  96%|█████████▋| 261/271 [00:01<00:00, 135.35it/s, accuracy=0.406, train_loss=1.95]\n",
      "Evaluation:  68%|██████▊   | 17/25 [00:03<00:01,  5.00it/s]\n",
      "Train:   0%|          | 0/271 [00:00<?, ?it/s, accuracy=0.406, train_loss=2.71]"
     ]
    },
    {
     "name": "stdout",
     "output_type": "stream",
     "text": [
      "\t - Recall@20 epoch 79: 0.170956\n",
      "\t - MRR@20    epoch 79: 0.050605\n",
      "\n"
     ]
    },
    {
     "name": "stderr",
     "output_type": "stream",
     "text": [
      "Train:  96%|█████████▋| 261/271 [00:01<00:00, 150.11it/s, accuracy=0.594, train_loss=1.81]\n",
      "Evaluation:  68%|██████▊   | 17/25 [00:03<00:01,  5.00it/s]\n",
      "Train:   0%|          | 0/271 [00:00<?, ?it/s, accuracy=0.312, train_loss=2.53]"
     ]
    },
    {
     "name": "stdout",
     "output_type": "stream",
     "text": [
      "\t - Recall@20 epoch 80: 0.169118\n",
      "\t - MRR@20    epoch 80: 0.049674\n",
      "\n"
     ]
    },
    {
     "name": "stderr",
     "output_type": "stream",
     "text": [
      "Train:  96%|█████████▋| 261/271 [00:01<00:00, 150.23it/s, accuracy=0.5, train_loss=1.78]  \n",
      "Evaluation:  68%|██████▊   | 17/25 [00:03<00:01,  5.02it/s]\n",
      "Train:   0%|          | 0/271 [00:00<?, ?it/s, accuracy=0.344, train_loss=2.42]"
     ]
    },
    {
     "name": "stdout",
     "output_type": "stream",
     "text": [
      "\t - Recall@20 epoch 81: 0.169118\n",
      "\t - MRR@20    epoch 81: 0.048707\n",
      "\n"
     ]
    },
    {
     "name": "stderr",
     "output_type": "stream",
     "text": [
      "Train:  96%|█████████▋| 261/271 [00:01<00:00, 148.64it/s, accuracy=0.469, train_loss=1.85]\n",
      "Evaluation:  68%|██████▊   | 17/25 [00:03<00:01,  4.99it/s]\n",
      "Train:   0%|          | 0/271 [00:00<?, ?it/s, accuracy=0.312, train_loss=2.24]"
     ]
    },
    {
     "name": "stdout",
     "output_type": "stream",
     "text": [
      "\t - Recall@20 epoch 82: 0.170956\n",
      "\t - MRR@20    epoch 82: 0.049865\n",
      "\n"
     ]
    },
    {
     "name": "stderr",
     "output_type": "stream",
     "text": [
      "Train:  96%|█████████▋| 261/271 [00:01<00:00, 150.71it/s, accuracy=0.594, train_loss=1.81]\n",
      "Evaluation:  68%|██████▊   | 17/25 [00:03<00:01,  4.97it/s]\n",
      "Train:   0%|          | 0/271 [00:00<?, ?it/s, accuracy=0.406, train_loss=2.1] "
     ]
    },
    {
     "name": "stdout",
     "output_type": "stream",
     "text": [
      "\t - Recall@20 epoch 83: 0.174632\n",
      "\t - MRR@20    epoch 83: 0.049268\n",
      "\n"
     ]
    },
    {
     "name": "stderr",
     "output_type": "stream",
     "text": [
      "Train:  96%|█████████▋| 261/271 [00:01<00:00, 149.03it/s, accuracy=0.531, train_loss=1.79]\n",
      "Evaluation:  68%|██████▊   | 17/25 [00:03<00:01,  5.02it/s]\n",
      "Train:   0%|          | 0/271 [00:00<?, ?it/s, accuracy=0.344, train_loss=2.19]"
     ]
    },
    {
     "name": "stdout",
     "output_type": "stream",
     "text": [
      "\t - Recall@20 epoch 84: 0.161765\n",
      "\t - MRR@20    epoch 84: 0.049287\n",
      "\n"
     ]
    },
    {
     "name": "stderr",
     "output_type": "stream",
     "text": [
      "Train:  96%|█████████▋| 261/271 [00:01<00:00, 150.03it/s, accuracy=0.438, train_loss=1.79]\n",
      "Evaluation:  68%|██████▊   | 17/25 [00:03<00:01,  5.03it/s]\n",
      "Train:   0%|          | 0/271 [00:00<?, ?it/s, accuracy=0.5, train_loss=2.4]   "
     ]
    },
    {
     "name": "stdout",
     "output_type": "stream",
     "text": [
      "\t - Recall@20 epoch 85: 0.167279\n",
      "\t - MRR@20    epoch 85: 0.049627\n",
      "\n"
     ]
    },
    {
     "name": "stderr",
     "output_type": "stream",
     "text": [
      "Train:  96%|█████████▋| 261/271 [00:01<00:00, 150.63it/s, accuracy=0.531, train_loss=1.65]\n",
      "Evaluation:  68%|██████▊   | 17/25 [00:03<00:01,  5.06it/s]\n",
      "Train:   0%|          | 0/271 [00:00<?, ?it/s, accuracy=0.281, train_loss=2.63]"
     ]
    },
    {
     "name": "stdout",
     "output_type": "stream",
     "text": [
      "\t - Recall@20 epoch 86: 0.170956\n",
      "\t - MRR@20    epoch 86: 0.050378\n",
      "\n"
     ]
    },
    {
     "name": "stderr",
     "output_type": "stream",
     "text": [
      "Train:  96%|█████████▋| 261/271 [00:01<00:00, 150.87it/s, accuracy=0.562, train_loss=1.79]\n",
      "Evaluation:  68%|██████▊   | 17/25 [00:03<00:01,  5.07it/s]\n",
      "Train:   0%|          | 0/271 [00:00<?, ?it/s, accuracy=0.344, train_loss=2.58]"
     ]
    },
    {
     "name": "stdout",
     "output_type": "stream",
     "text": [
      "\t - Recall@20 epoch 87: 0.169118\n",
      "\t - MRR@20    epoch 87: 0.050693\n",
      "\n"
     ]
    },
    {
     "name": "stderr",
     "output_type": "stream",
     "text": [
      "Train:  96%|█████████▋| 261/271 [00:01<00:00, 150.52it/s, accuracy=0.688, train_loss=1.59]\n",
      "Evaluation:  68%|██████▊   | 17/25 [00:03<00:01,  5.06it/s]\n",
      "Train:   0%|          | 0/271 [00:00<?, ?it/s, accuracy=0.344, train_loss=2.49]"
     ]
    },
    {
     "name": "stdout",
     "output_type": "stream",
     "text": [
      "\t - Recall@20 epoch 88: 0.161765\n",
      "\t - MRR@20    epoch 88: 0.051210\n",
      "\n"
     ]
    },
    {
     "name": "stderr",
     "output_type": "stream",
     "text": [
      "Train:  96%|█████████▋| 261/271 [00:01<00:00, 151.56it/s, accuracy=0.5, train_loss=1.62]  \n",
      "Evaluation:  68%|██████▊   | 17/25 [00:03<00:01,  4.99it/s]\n",
      "Train:   0%|          | 0/271 [00:00<?, ?it/s, accuracy=0.438, train_loss=2.24]"
     ]
    },
    {
     "name": "stdout",
     "output_type": "stream",
     "text": [
      "\t - Recall@20 epoch 89: 0.163603\n",
      "\t - MRR@20    epoch 89: 0.051151\n",
      "\n"
     ]
    },
    {
     "name": "stderr",
     "output_type": "stream",
     "text": [
      "Train:  96%|█████████▋| 261/271 [00:01<00:00, 151.55it/s, accuracy=0.594, train_loss=1.6] \n",
      "Evaluation:  68%|██████▊   | 17/25 [00:03<00:01,  5.09it/s]\n",
      "Train:   0%|          | 0/271 [00:00<?, ?it/s, accuracy=0.406, train_loss=2.04]"
     ]
    },
    {
     "name": "stdout",
     "output_type": "stream",
     "text": [
      "\t - Recall@20 epoch 90: 0.163603\n",
      "\t - MRR@20    epoch 90: 0.049774\n",
      "\n"
     ]
    },
    {
     "name": "stderr",
     "output_type": "stream",
     "text": [
      "Train:  96%|█████████▋| 261/271 [00:01<00:00, 150.05it/s, accuracy=0.562, train_loss=1.54]\n",
      "Evaluation:  68%|██████▊   | 17/25 [00:03<00:01,  5.05it/s]\n",
      "Train:   0%|          | 0/271 [00:00<?, ?it/s, accuracy=0.375, train_loss=2.43]"
     ]
    },
    {
     "name": "stdout",
     "output_type": "stream",
     "text": [
      "\t - Recall@20 epoch 91: 0.163603\n",
      "\t - MRR@20    epoch 91: 0.050903\n",
      "\n"
     ]
    },
    {
     "name": "stderr",
     "output_type": "stream",
     "text": [
      "Train:  96%|█████████▋| 261/271 [00:01<00:00, 150.62it/s, accuracy=0.594, train_loss=1.53]\n",
      "Evaluation:  68%|██████▊   | 17/25 [00:03<00:01,  5.05it/s]\n",
      "Train:   0%|          | 0/271 [00:00<?, ?it/s, accuracy=0.344, train_loss=2.34]"
     ]
    },
    {
     "name": "stdout",
     "output_type": "stream",
     "text": [
      "\t - Recall@20 epoch 92: 0.161765\n",
      "\t - MRR@20    epoch 92: 0.051943\n",
      "\n"
     ]
    },
    {
     "name": "stderr",
     "output_type": "stream",
     "text": [
      "Train:  96%|█████████▋| 261/271 [00:01<00:00, 150.30it/s, accuracy=0.656, train_loss=1.49]\n",
      "Evaluation:  68%|██████▊   | 17/25 [00:03<00:01,  5.00it/s]\n",
      "Train:   0%|          | 0/271 [00:00<?, ?it/s, accuracy=0.438, train_loss=2.26]"
     ]
    },
    {
     "name": "stdout",
     "output_type": "stream",
     "text": [
      "\t - Recall@20 epoch 93: 0.161765\n",
      "\t - MRR@20    epoch 93: 0.051303\n",
      "\n"
     ]
    },
    {
     "name": "stderr",
     "output_type": "stream",
     "text": [
      "Train:  96%|█████████▋| 261/271 [00:01<00:00, 149.84it/s, accuracy=0.719, train_loss=1.45]\n",
      "Evaluation:  68%|██████▊   | 17/25 [00:03<00:01,  4.99it/s]\n",
      "Train:   0%|          | 0/271 [00:00<?, ?it/s, accuracy=0.375, train_loss=2.01]"
     ]
    },
    {
     "name": "stdout",
     "output_type": "stream",
     "text": [
      "\t - Recall@20 epoch 94: 0.163603\n",
      "\t - MRR@20    epoch 94: 0.053668\n",
      "\n"
     ]
    },
    {
     "name": "stderr",
     "output_type": "stream",
     "text": [
      "Train:  96%|█████████▋| 261/271 [00:01<00:00, 150.07it/s, accuracy=0.656, train_loss=1.56]\n",
      "Evaluation:  68%|██████▊   | 17/25 [00:03<00:01,  5.00it/s]\n",
      "Train:   0%|          | 0/271 [00:00<?, ?it/s, accuracy=0.344, train_loss=2.13]"
     ]
    },
    {
     "name": "stdout",
     "output_type": "stream",
     "text": [
      "\t - Recall@20 epoch 95: 0.163603\n",
      "\t - MRR@20    epoch 95: 0.052210\n",
      "\n"
     ]
    },
    {
     "name": "stderr",
     "output_type": "stream",
     "text": [
      "Train:  96%|█████████▋| 261/271 [00:01<00:00, 146.71it/s, accuracy=0.531, train_loss=1.52]\n",
      "Evaluation:  68%|██████▊   | 17/25 [00:03<00:01,  5.04it/s]\n",
      "Train:   0%|          | 0/271 [00:00<?, ?it/s, accuracy=0.438, train_loss=2.53]"
     ]
    },
    {
     "name": "stdout",
     "output_type": "stream",
     "text": [
      "\t - Recall@20 epoch 96: 0.156250\n",
      "\t - MRR@20    epoch 96: 0.051414\n",
      "\n"
     ]
    },
    {
     "name": "stderr",
     "output_type": "stream",
     "text": [
      "Train:  96%|█████████▋| 261/271 [00:01<00:00, 151.23it/s, accuracy=0.594, train_loss=1.48]\n",
      "Evaluation:  68%|██████▊   | 17/25 [00:03<00:01,  5.02it/s]\n",
      "Train:   0%|          | 0/271 [00:00<?, ?it/s, accuracy=0.312, train_loss=2.54]"
     ]
    },
    {
     "name": "stdout",
     "output_type": "stream",
     "text": [
      "\t - Recall@20 epoch 97: 0.163603\n",
      "\t - MRR@20    epoch 97: 0.052858\n",
      "\n"
     ]
    },
    {
     "name": "stderr",
     "output_type": "stream",
     "text": [
      "Train:  96%|█████████▋| 261/271 [00:01<00:00, 149.99it/s, accuracy=0.594, train_loss=1.65]\n",
      "Evaluation:  68%|██████▊   | 17/25 [00:03<00:01,  5.05it/s]\n",
      "Train:   0%|          | 0/271 [00:00<?, ?it/s, accuracy=0.5, train_loss=1.97]  "
     ]
    },
    {
     "name": "stdout",
     "output_type": "stream",
     "text": [
      "\t - Recall@20 epoch 98: 0.154412\n",
      "\t - MRR@20    epoch 98: 0.051298\n",
      "\n"
     ]
    },
    {
     "name": "stderr",
     "output_type": "stream",
     "text": [
      "Train:  96%|█████████▋| 261/271 [00:01<00:00, 151.48it/s, accuracy=0.469, train_loss=1.71]\n",
      "Evaluation:  68%|██████▊   | 17/25 [00:03<00:01,  5.03it/s]\n",
      "Train:   0%|          | 0/271 [00:00<?, ?it/s, accuracy=0.406, train_loss=2.09]"
     ]
    },
    {
     "name": "stdout",
     "output_type": "stream",
     "text": [
      "\t - Recall@20 epoch 99: 0.154412\n",
      "\t - MRR@20    epoch 99: 0.051468\n",
      "\n"
     ]
    },
    {
     "name": "stderr",
     "output_type": "stream",
     "text": [
      "Train:  96%|█████████▋| 261/271 [00:01<00:00, 150.71it/s, accuracy=0.5, train_loss=1.79]  \n",
      "Evaluation:  68%|██████▊   | 17/25 [00:03<00:01,  5.04it/s]"
     ]
    },
    {
     "name": "stdout",
     "output_type": "stream",
     "text": [
      "\t - Recall@20 epoch 100: 0.158088\n",
      "\t - MRR@20    epoch 100: 0.052648\n",
      "\n"
     ]
    },
    {
     "name": "stderr",
     "output_type": "stream",
     "text": [
      "\n"
     ]
    }
   ],
   "source": [
    "# 학습 시간이 다소 오래 소요됩니다. (예상시간 1시간)\n",
    "train_model(model, args)"
   ]
  },
  {
   "cell_type": "code",
   "execution_count": 300,
   "id": "impossible-detection",
   "metadata": {},
   "outputs": [
    {
     "name": "stderr",
     "output_type": "stream",
     "text": [
      "Evaluation:  54%|█████▍    | 13/24 [00:02<00:02,  5.16it/s]"
     ]
    },
    {
     "name": "stdout",
     "output_type": "stream",
     "text": [
      "\t - Recall@20: 0.213942\n",
      "\t - MRR@20: 0.056785\n",
      "\n"
     ]
    },
    {
     "name": "stderr",
     "output_type": "stream",
     "text": [
      "\n"
     ]
    }
   ],
   "source": [
    "def test_model(model, args, test):\n",
    "    test_recall, test_mrr = get_metrics(test, model, args, 20)\n",
    "    print(f\"\\t - Recall@{args.k}: {test_recall:3f}\")\n",
    "    print(f\"\\t - MRR@{args.k}: {test_mrr:3f}\\n\")\n",
    "\n",
    "test_model(model, args, test)"
   ]
  },
  {
   "cell_type": "markdown",
   "id": "pending-stick",
   "metadata": {},
   "source": [
    "첫번째 시도의 경우 0.21의 Recall@20을 얻었습니다. 이제 epoch숫자를 줄여서 다시 해보겠습니다."
   ]
  },
  {
   "cell_type": "code",
   "execution_count": 302,
   "id": "digital-header",
   "metadata": {},
   "outputs": [
    {
     "name": "stderr",
     "output_type": "stream",
     "text": [
      "Train:   0%|          | 0/271 [00:00<?, ?it/s]"
     ]
    },
    {
     "name": "stdout",
     "output_type": "stream",
     "text": [
      "Model: \"model_10\"\n",
      "_________________________________________________________________\n",
      "Layer (type)                 Output Shape              Param #   \n",
      "=================================================================\n",
      "input_11 (InputLayer)        [(32, 1, 362)]            0         \n",
      "_________________________________________________________________\n",
      "GRU (GRU)                    [(32, 50), (32, 50)]      62100     \n",
      "_________________________________________________________________\n",
      "dropout_10 (Dropout)         (32, 50)                  0         \n",
      "_________________________________________________________________\n",
      "dense_10 (Dense)             (32, 362)                 18462     \n",
      "=================================================================\n",
      "Total params: 80,562\n",
      "Trainable params: 80,562\n",
      "Non-trainable params: 0\n",
      "_________________________________________________________________\n"
     ]
    },
    {
     "name": "stderr",
     "output_type": "stream",
     "text": [
      "Train:  96%|█████████▋| 261/271 [00:02<00:00, 89.13it/s, accuracy=0, train_loss=5.9]      \n",
      "Evaluation:  68%|██████▊   | 17/25 [00:03<00:01,  4.55it/s]\n",
      "Train:   0%|          | 0/271 [00:00<?, ?it/s, accuracy=0, train_loss=5.87]     "
     ]
    },
    {
     "name": "stdout",
     "output_type": "stream",
     "text": [
      "\t - Recall@20 epoch 1: 0.095588\n",
      "\t - MRR@20    epoch 1: 0.015361\n",
      "\n"
     ]
    },
    {
     "name": "stderr",
     "output_type": "stream",
     "text": [
      "Train:  96%|█████████▋| 261/271 [00:01<00:00, 149.68it/s, accuracy=0, train_loss=5.87]     \n",
      "Evaluation:  68%|██████▊   | 17/25 [00:03<00:01,  4.87it/s]\n",
      "Train:   0%|          | 0/271 [00:00<?, ?it/s, accuracy=0, train_loss=5.72]     "
     ]
    },
    {
     "name": "stdout",
     "output_type": "stream",
     "text": [
      "\t - Recall@20 epoch 2: 0.101103\n",
      "\t - MRR@20    epoch 2: 0.019520\n",
      "\n"
     ]
    },
    {
     "name": "stderr",
     "output_type": "stream",
     "text": [
      "Train:  96%|█████████▋| 261/271 [00:01<00:00, 151.28it/s, accuracy=0, train_loss=5.8]      \n",
      "Evaluation:  68%|██████▊   | 17/25 [00:03<00:01,  4.98it/s]\n",
      "Train:   0%|          | 0/271 [00:00<?, ?it/s, accuracy=0.0625, train_loss=5.65]"
     ]
    },
    {
     "name": "stdout",
     "output_type": "stream",
     "text": [
      "\t - Recall@20 epoch 3: 0.123162\n",
      "\t - MRR@20    epoch 3: 0.033189\n",
      "\n"
     ]
    },
    {
     "name": "stderr",
     "output_type": "stream",
     "text": [
      "Train:  96%|█████████▋| 261/271 [00:01<00:00, 150.41it/s, accuracy=0.0312, train_loss=5.61]\n",
      "Evaluation:  68%|██████▊   | 17/25 [00:03<00:01,  5.00it/s]\n",
      "Train:   0%|          | 0/271 [00:00<?, ?it/s, accuracy=0, train_loss=5.72]     "
     ]
    },
    {
     "name": "stdout",
     "output_type": "stream",
     "text": [
      "\t - Recall@20 epoch 4: 0.139706\n",
      "\t - MRR@20    epoch 4: 0.044038\n",
      "\n"
     ]
    },
    {
     "name": "stderr",
     "output_type": "stream",
     "text": [
      "Train:  96%|█████████▋| 261/271 [00:01<00:00, 150.41it/s, accuracy=0.0625, train_loss=5.45]\n",
      "Evaluation:  68%|██████▊   | 17/25 [00:03<00:01,  5.05it/s]\n",
      "Train:   0%|          | 0/271 [00:00<?, ?it/s, accuracy=0.0625, train_loss=5.37]"
     ]
    },
    {
     "name": "stdout",
     "output_type": "stream",
     "text": [
      "\t - Recall@20 epoch 5: 0.156250\n",
      "\t - MRR@20    epoch 5: 0.053281\n",
      "\n"
     ]
    },
    {
     "name": "stderr",
     "output_type": "stream",
     "text": [
      "Train:  96%|█████████▋| 261/271 [00:01<00:00, 150.96it/s, accuracy=0.0938, train_loss=5.27]\n",
      "Evaluation:  68%|██████▊   | 17/25 [00:03<00:01,  5.01it/s]\n",
      "Train:   0%|          | 0/271 [00:00<?, ?it/s, accuracy=0.0625, train_loss=5.21]"
     ]
    },
    {
     "name": "stdout",
     "output_type": "stream",
     "text": [
      "\t - Recall@20 epoch 6: 0.174632\n",
      "\t - MRR@20    epoch 6: 0.058223\n",
      "\n"
     ]
    },
    {
     "name": "stderr",
     "output_type": "stream",
     "text": [
      "Train:  96%|█████████▋| 261/271 [00:01<00:00, 151.12it/s, accuracy=0.0938, train_loss=5.15]\n",
      "Evaluation:  68%|██████▊   | 17/25 [00:03<00:01,  5.10it/s]\n",
      "Train:   0%|          | 0/271 [00:00<?, ?it/s, accuracy=0.0625, train_loss=5.16]"
     ]
    },
    {
     "name": "stdout",
     "output_type": "stream",
     "text": [
      "\t - Recall@20 epoch 7: 0.180147\n",
      "\t - MRR@20    epoch 7: 0.061480\n",
      "\n"
     ]
    },
    {
     "name": "stderr",
     "output_type": "stream",
     "text": [
      "Train:  96%|█████████▋| 261/271 [00:01<00:00, 151.82it/s, accuracy=0.0938, train_loss=5]   \n",
      "Evaluation:  68%|██████▊   | 17/25 [00:03<00:01,  5.09it/s]\n",
      "Train:   0%|          | 0/271 [00:00<?, ?it/s, accuracy=0.0312, train_loss=5.26]"
     ]
    },
    {
     "name": "stdout",
     "output_type": "stream",
     "text": [
      "\t - Recall@20 epoch 8: 0.191176\n",
      "\t - MRR@20    epoch 8: 0.062361\n",
      "\n"
     ]
    },
    {
     "name": "stderr",
     "output_type": "stream",
     "text": [
      "Train:  96%|█████████▋| 261/271 [00:01<00:00, 152.43it/s, accuracy=0.125, train_loss=4.88] \n",
      "Evaluation:  68%|██████▊   | 17/25 [00:03<00:01,  5.14it/s]\n",
      "Train:   0%|          | 0/271 [00:00<?, ?it/s, accuracy=0.0312, train_loss=4.99]"
     ]
    },
    {
     "name": "stdout",
     "output_type": "stream",
     "text": [
      "\t - Recall@20 epoch 9: 0.204044\n",
      "\t - MRR@20    epoch 9: 0.065201\n",
      "\n"
     ]
    },
    {
     "name": "stderr",
     "output_type": "stream",
     "text": [
      "Train:  96%|█████████▋| 261/271 [00:01<00:00, 149.69it/s, accuracy=0.125, train_loss=4.79] \n",
      "Evaluation:  68%|██████▊   | 17/25 [00:03<00:01,  5.12it/s]\n",
      "Train:   0%|          | 0/271 [00:00<?, ?it/s, accuracy=0.0312, train_loss=5.08]"
     ]
    },
    {
     "name": "stdout",
     "output_type": "stream",
     "text": [
      "\t - Recall@20 epoch 10: 0.213235\n",
      "\t - MRR@20    epoch 10: 0.067857\n",
      "\n"
     ]
    },
    {
     "name": "stderr",
     "output_type": "stream",
     "text": [
      "Train:  96%|█████████▋| 261/271 [00:01<00:00, 152.53it/s, accuracy=0.188, train_loss=4.61] \n",
      "Evaluation:  68%|██████▊   | 17/25 [00:03<00:01,  5.09it/s]\n",
      "Train:   0%|          | 0/271 [00:00<?, ?it/s, accuracy=0.125, train_loss=4.57] "
     ]
    },
    {
     "name": "stdout",
     "output_type": "stream",
     "text": [
      "\t - Recall@20 epoch 11: 0.216912\n",
      "\t - MRR@20    epoch 11: 0.068627\n",
      "\n"
     ]
    },
    {
     "name": "stderr",
     "output_type": "stream",
     "text": [
      "Train:  96%|█████████▋| 261/271 [00:01<00:00, 149.95it/s, accuracy=0.0938, train_loss=4.6] \n",
      "Evaluation:  68%|██████▊   | 17/25 [00:03<00:01,  5.11it/s]"
     ]
    },
    {
     "name": "stdout",
     "output_type": "stream",
     "text": [
      "\t - Recall@20 epoch 12: 0.211397\n",
      "\t - MRR@20    epoch 12: 0.069721\n",
      "\n"
     ]
    },
    {
     "name": "stderr",
     "output_type": "stream",
     "text": [
      "\n"
     ]
    }
   ],
   "source": [
    "args = Args(tr, val, test, batch_size=32, hsz=50, drop_rate=0.1,\\\n",
    "            lr=0.001, epochs=12, k=20)\n",
    "model = create_model(args)\n",
    "train_model(model, args)"
   ]
  },
  {
   "cell_type": "code",
   "execution_count": 303,
   "id": "august-substitute",
   "metadata": {},
   "outputs": [
    {
     "name": "stderr",
     "output_type": "stream",
     "text": [
      "Evaluation:  54%|█████▍    | 13/24 [00:02<00:02,  5.18it/s]"
     ]
    },
    {
     "name": "stdout",
     "output_type": "stream",
     "text": [
      "\t - Recall@20: 0.240385\n",
      "\t - MRR@20: 0.079802\n",
      "\n"
     ]
    },
    {
     "name": "stderr",
     "output_type": "stream",
     "text": [
      "\n"
     ]
    }
   ],
   "source": [
    "test_model(model, args, test)"
   ]
  },
  {
   "cell_type": "markdown",
   "id": "outdoor-judge",
   "metadata": {},
   "source": [
    "epoch을 적절히 조절하니 더 좋은 결과가 나왔습니다.\n",
    "이것을 베이스라인으로 하여 하이퍼파라미터 피팅을 시도합니다."
   ]
  },
  {
   "cell_type": "code",
   "execution_count": 304,
   "id": "reverse-shade",
   "metadata": {
    "collapsed": true
   },
   "outputs": [
    {
     "name": "stdout",
     "output_type": "stream",
     "text": [
      "Requirement already satisfied: ray[tune] in /opt/conda/lib/python3.7/site-packages (1.1.0)\n",
      "Requirement already satisfied: jsonschema in /opt/conda/lib/python3.7/site-packages (from ray[tune]) (3.2.0)\n",
      "Requirement already satisfied: requests in /opt/conda/lib/python3.7/site-packages (from ray[tune]) (2.25.1)\n",
      "Requirement already satisfied: numpy>=1.16 in /opt/conda/lib/python3.7/site-packages (from ray[tune]) (1.19.5)\n",
      "Requirement already satisfied: aiohttp in /opt/conda/lib/python3.7/site-packages (from ray[tune]) (3.7.3)\n",
      "Requirement already satisfied: click>=7.0 in /opt/conda/lib/python3.7/site-packages (from ray[tune]) (7.1.2)\n",
      "Requirement already satisfied: aiohttp-cors in /opt/conda/lib/python3.7/site-packages (from ray[tune]) (0.7.0)\n",
      "Requirement already satisfied: colorama in /opt/conda/lib/python3.7/site-packages (from ray[tune]) (0.4.4)\n",
      "Requirement already satisfied: protobuf>=3.8.0 in /opt/conda/lib/python3.7/site-packages (from ray[tune]) (3.14.0)\n",
      "Requirement already satisfied: py-spy>=0.2.0 in /opt/conda/lib/python3.7/site-packages (from ray[tune]) (0.3.4)\n",
      "Requirement already satisfied: opencensus in /opt/conda/lib/python3.7/site-packages (from ray[tune]) (0.7.12)\n",
      "Requirement already satisfied: pyyaml in /opt/conda/lib/python3.7/site-packages (from ray[tune]) (5.3.1)\n",
      "Requirement already satisfied: colorful in /opt/conda/lib/python3.7/site-packages (from ray[tune]) (0.5.4)\n",
      "Requirement already satisfied: grpcio>=1.28.1 in /opt/conda/lib/python3.7/site-packages (from ray[tune]) (1.32.0)\n",
      "Requirement already satisfied: filelock in /opt/conda/lib/python3.7/site-packages (from ray[tune]) (3.0.12)\n",
      "Requirement already satisfied: aioredis in /opt/conda/lib/python3.7/site-packages (from ray[tune]) (1.3.1)\n",
      "Requirement already satisfied: redis>=3.5.0 in /opt/conda/lib/python3.7/site-packages (from ray[tune]) (3.5.3)\n",
      "Requirement already satisfied: gpustat in /opt/conda/lib/python3.7/site-packages (from ray[tune]) (0.6.0)\n",
      "Requirement already satisfied: prometheus-client>=0.7.1 in /opt/conda/lib/python3.7/site-packages (from ray[tune]) (0.9.0)\n",
      "Requirement already satisfied: msgpack<2.0.0,>=1.0.0 in /opt/conda/lib/python3.7/site-packages (from ray[tune]) (1.0.2)\n",
      "Requirement already satisfied: pandas in /opt/conda/lib/python3.7/site-packages (from ray[tune]) (1.2.0)\n",
      "Requirement already satisfied: six>=1.5.2 in /opt/conda/lib/python3.7/site-packages (from grpcio>=1.28.1->ray[tune]) (1.15.0)\n",
      "Requirement already satisfied: typing-extensions>=3.6.5 in /opt/conda/lib/python3.7/site-packages (from aiohttp->ray[tune]) (3.7.4.3)\n",
      "Requirement already satisfied: chardet<4.0,>=2.0 in /opt/conda/lib/python3.7/site-packages (from aiohttp->ray[tune]) (3.0.4)\n",
      "Requirement already satisfied: attrs>=17.3.0 in /opt/conda/lib/python3.7/site-packages (from aiohttp->ray[tune]) (20.3.0)\n",
      "Requirement already satisfied: multidict<7.0,>=4.5 in /opt/conda/lib/python3.7/site-packages (from aiohttp->ray[tune]) (5.1.0)\n",
      "Requirement already satisfied: yarl<2.0,>=1.0 in /opt/conda/lib/python3.7/site-packages (from aiohttp->ray[tune]) (1.6.3)\n",
      "Requirement already satisfied: async-timeout<4.0,>=3.0 in /opt/conda/lib/python3.7/site-packages (from aiohttp->ray[tune]) (3.0.1)\n",
      "Requirement already satisfied: idna>=2.0 in /opt/conda/lib/python3.7/site-packages (from yarl<2.0,>=1.0->aiohttp->ray[tune]) (2.10)\n",
      "Requirement already satisfied: hiredis in /opt/conda/lib/python3.7/site-packages (from aioredis->ray[tune]) (1.1.0)\n",
      "Requirement already satisfied: nvidia-ml-py3>=7.352.0 in /opt/conda/lib/python3.7/site-packages (from gpustat->ray[tune]) (7.352.0)\n",
      "Requirement already satisfied: blessings>=1.6 in /opt/conda/lib/python3.7/site-packages (from gpustat->ray[tune]) (1.7)\n",
      "Requirement already satisfied: psutil in /opt/conda/lib/python3.7/site-packages (from gpustat->ray[tune]) (5.8.0)\n",
      "Requirement already satisfied: importlib-metadata in /opt/conda/lib/python3.7/site-packages (from jsonschema->ray[tune]) (3.4.0)\n",
      "Requirement already satisfied: pyrsistent>=0.14.0 in /opt/conda/lib/python3.7/site-packages (from jsonschema->ray[tune]) (0.17.3)\n",
      "Requirement already satisfied: setuptools in /opt/conda/lib/python3.7/site-packages (from jsonschema->ray[tune]) (49.6.0.post20210108)\n",
      "Requirement already satisfied: zipp>=0.5 in /opt/conda/lib/python3.7/site-packages (from importlib-metadata->jsonschema->ray[tune]) (3.4.0)\n",
      "Requirement already satisfied: opencensus-context==0.1.2 in /opt/conda/lib/python3.7/site-packages (from opencensus->ray[tune]) (0.1.2)\n",
      "Requirement already satisfied: google-api-core<2.0.0,>=1.0.0 in /opt/conda/lib/python3.7/site-packages (from opencensus->ray[tune]) (1.25.0)\n",
      "Requirement already satisfied: pytz in /opt/conda/lib/python3.7/site-packages (from google-api-core<2.0.0,>=1.0.0->opencensus->ray[tune]) (2020.5)\n",
      "Requirement already satisfied: google-auth<2.0dev,>=1.21.1 in /opt/conda/lib/python3.7/site-packages (from google-api-core<2.0.0,>=1.0.0->opencensus->ray[tune]) (1.24.0)\n",
      "Requirement already satisfied: googleapis-common-protos<2.0dev,>=1.6.0 in /opt/conda/lib/python3.7/site-packages (from google-api-core<2.0.0,>=1.0.0->opencensus->ray[tune]) (1.52.0)\n",
      "Requirement already satisfied: pyasn1-modules>=0.2.1 in /opt/conda/lib/python3.7/site-packages (from google-auth<2.0dev,>=1.21.1->google-api-core<2.0.0,>=1.0.0->opencensus->ray[tune]) (0.2.8)\n",
      "Requirement already satisfied: rsa<5,>=3.1.4 in /opt/conda/lib/python3.7/site-packages (from google-auth<2.0dev,>=1.21.1->google-api-core<2.0.0,>=1.0.0->opencensus->ray[tune]) (4.7)\n",
      "Requirement already satisfied: cachetools<5.0,>=2.0.0 in /opt/conda/lib/python3.7/site-packages (from google-auth<2.0dev,>=1.21.1->google-api-core<2.0.0,>=1.0.0->opencensus->ray[tune]) (4.2.0)\n",
      "Requirement already satisfied: pyasn1<0.5.0,>=0.4.6 in /opt/conda/lib/python3.7/site-packages (from pyasn1-modules>=0.2.1->google-auth<2.0dev,>=1.21.1->google-api-core<2.0.0,>=1.0.0->opencensus->ray[tune]) (0.4.8)\n",
      "Requirement already satisfied: certifi>=2017.4.17 in /opt/conda/lib/python3.7/site-packages (from requests->ray[tune]) (2020.12.5)\n",
      "Requirement already satisfied: urllib3<1.27,>=1.21.1 in /opt/conda/lib/python3.7/site-packages (from requests->ray[tune]) (1.26.2)\n",
      "Requirement already satisfied: python-dateutil>=2.7.3 in /opt/conda/lib/python3.7/site-packages (from pandas->ray[tune]) (2.8.1)\n",
      "Collecting tabulate\n",
      "  Downloading tabulate-0.8.9-py3-none-any.whl (25 kB)\n",
      "Collecting tensorboardX\n",
      "  Downloading tensorboardX-2.4-py2.py3-none-any.whl (124 kB)\n",
      "\u001b[K     |████████████████████████████████| 124 kB 9.5 MB/s eta 0:00:01\n",
      "\u001b[?25hInstalling collected packages: tensorboardX, tabulate\n",
      "Successfully installed tabulate-0.8.9 tensorboardX-2.4\n",
      "\u001b[33mWARNING: You are using pip version 20.3.3; however, version 21.2.4 is available.\n",
      "You should consider upgrading via the '/opt/conda/bin/python -m pip install --upgrade pip' command.\u001b[0m\n",
      "Note: you may need to restart the kernel to use updated packages.\n"
     ]
    }
   ],
   "source": [
    "pip install ray[tune]"
   ]
  },
  {
   "cell_type": "code",
   "execution_count": 314,
   "id": "smart-improvement",
   "metadata": {},
   "outputs": [],
   "source": [
    "from ray import tune\n",
    "from ray.tune import JupyterNotebookReporter\n",
    "import ray"
   ]
  },
  {
   "cell_type": "code",
   "execution_count": 393,
   "id": "plain-techno",
   "metadata": {},
   "outputs": [],
   "source": [
    "class TuneReporterCallback(tf.keras.callbacks.Callback):\n",
    "    \"\"\"Tune Callback for Keras.\n",
    "    \n",
    "    The callback is invoked every epoch.\n",
    "    \"\"\"\n",
    "\n",
    "    def __init__(self, logs={}):\n",
    "        self.iteration = 0\n",
    "        super(TuneReporterCallback, self).__init__()\n",
    "\n",
    "    def on_epoch_end(self, batch, logs={}):\n",
    "        self.iteration += 1\n",
    "        tune.report(keras_info=logs, val_recall=logs.get(\"val_recall\"))"
   ]
  },
  {
   "cell_type": "code",
   "execution_count": 413,
   "id": "bearing-sister",
   "metadata": {},
   "outputs": [],
   "source": [
    "def train_model(model, args):\n",
    "        train_dataset = SessionDataset(args.tr)\n",
    "        train_loader = SessionDataLoader(train_dataset, batch_size=args.batch_size)\n",
    "        old_val_recall = 0\n",
    "\n",
    "        for epoch in range(1, args.epochs + 1):\n",
    "            total_step = len(args.tr) - args.tr['SessionId'].nunique()\n",
    "            tr_loader = tqdm(train_loader, total=total_step // args.batch_size, desc='Train', mininterval=1)\n",
    "            for feat, target, mask in tr_loader:\n",
    "                reset_hidden_states(model, mask)  # 종료된 session은 hidden_state를 초기화합니다. 아래 메서드에서 확인해주세요.\n",
    "\n",
    "                input_ohe = to_categorical(feat, num_classes=args.num_items)\n",
    "                input_ohe = np.expand_dims(input_ohe, axis=1)\n",
    "                target_ohe = to_categorical(target, num_classes=args.num_items)\n",
    "\n",
    "                result = model.train_on_batch(input_ohe, target_ohe)\n",
    "                tr_loader.set_postfix(train_loss=result[0], accuracy = result[1])\n",
    "\n",
    "            val_recall, val_mrr = get_metrics(args.val, model, args, args.k)  # valid set에 대해 검증합니다.\n",
    "            print(f\"\\t - Recall@{args.k} epoch {epoch}: {val_recall:3f}\")\n",
    "            print(f\"\\t - MRR@{args.k}    epoch {epoch}: {val_mrr:3f}\\n\")\n",
    "            if old_val_recall > val_recall:\n",
    "                break\n",
    "            old_val_recall = val_recall\n",
    "            tune.report(val_recall=val_recall)\n",
    "            "
   ]
  },
  {
   "cell_type": "code",
   "execution_count": 414,
   "id": "greenhouse-colonial",
   "metadata": {},
   "outputs": [],
   "source": [
    "def tune_model(config):\n",
    "    batch_size, drop_rate, lr = config['batch_size'], config['drop_rate'], config['lr']\n",
    "    \n",
    "    args = Args(tr, val, test, lr=lr, batch_size=batch_size, drop_rate=drop_rate,\\\n",
    "             epochs=20, k=20, hsz=50)\n",
    "    model = create_model(args)\n",
    "    train_model(model,args)"
   ]
  },
  {
   "cell_type": "code",
   "execution_count": 415,
   "id": "sublime-dependence",
   "metadata": {},
   "outputs": [],
   "source": [
    "hyperparameter_space = {\n",
    "    \"lr\": tune.loguniform(1e-4, 1e-2),  \n",
    "    \"batch_size\": tune.choice([16, 32, 64]),\n",
    "    \"drop_rate\": tune.uniform(0.05, 0.15),\n",
    "    \"num_gpus\": 1\n",
    "}"
   ]
  },
  {
   "cell_type": "code",
   "execution_count": 416,
   "id": "normal-nightlife",
   "metadata": {},
   "outputs": [],
   "source": [
    "from ray.tune.schedulers import ASHAScheduler\n",
    "\n",
    "num_samples = 120"
   ]
  },
  {
   "cell_type": "code",
   "execution_count": 417,
   "id": "forbidden-desktop",
   "metadata": {},
   "outputs": [
    {
     "data": {
      "text/html": [
       "== Status ==<br>Memory usage on this node: 3.5/54.9 GiB<br>Using AsyncHyperBand: num_stopped=54\n",
       "Bracket: Iter 81.000: None | Iter 27.000: None | Iter 9.000: None | Iter 3.000: 0.16893696581196582<br>Resources requested: 0/4 CPUs, 0/1 GPUs, 0.0/25.29 GiB heap, 0.0/8.74 GiB objects (0/1.0 accelerator_type:K80)<br>Current best trial: d1ba6_00044 with val_recall=0.23237179487179488 and parameters={'lr': 0.0012754522124088456, 'batch_size': 16, 'drop_rate': 0.12611316710848264, 'num_gpus': 1}<br>Result logdir: /aiffel/aiffel/000Projects/EX12/ray_results/tune_model_2021-08-31_08-59-58<br>Number of trials: 120/120 (120 TERMINATED)<br><table>\n",
       "<thead>\n",
       "<tr><th>Trial name            </th><th>status    </th><th>loc  </th><th style=\"text-align: right;\">  batch_size</th><th style=\"text-align: right;\">  drop_rate</th><th style=\"text-align: right;\">         lr</th><th style=\"text-align: right;\">  iter</th><th style=\"text-align: right;\">  total time (s)</th><th style=\"text-align: right;\">  val_recall</th></tr>\n",
       "</thead>\n",
       "<tbody>\n",
       "<tr><td>tune_model_d1ba6_00000</td><td>TERMINATED</td><td>     </td><td style=\"text-align: right;\">          64</td><td style=\"text-align: right;\">  0.0589745</td><td style=\"text-align: right;\">0.000971144</td><td style=\"text-align: right;\">     1</td><td style=\"text-align: right;\">         5.34816</td><td style=\"text-align: right;\">   0.0911458</td></tr>\n",
       "<tr><td>tune_model_d1ba6_00001</td><td>TERMINATED</td><td>     </td><td style=\"text-align: right;\">          64</td><td style=\"text-align: right;\">  0.116097 </td><td style=\"text-align: right;\">0.00375473 </td><td style=\"text-align: right;\">     5</td><td style=\"text-align: right;\">        18.377  </td><td style=\"text-align: right;\">   0.1875   </td></tr>\n",
       "<tr><td>tune_model_d1ba6_00002</td><td>TERMINATED</td><td>     </td><td style=\"text-align: right;\">          64</td><td style=\"text-align: right;\">  0.142528 </td><td style=\"text-align: right;\">0.00107687 </td><td style=\"text-align: right;\">     1</td><td style=\"text-align: right;\">         5.32112</td><td style=\"text-align: right;\">   0.0911458</td></tr>\n",
       "<tr><td>tune_model_d1ba6_00003</td><td>TERMINATED</td><td>     </td><td style=\"text-align: right;\">          64</td><td style=\"text-align: right;\">  0.137419 </td><td style=\"text-align: right;\">0.00338985 </td><td style=\"text-align: right;\">     3</td><td style=\"text-align: right;\">        11.8075 </td><td style=\"text-align: right;\">   0.153646 </td></tr>\n",
       "<tr><td>tune_model_d1ba6_00004</td><td>TERMINATED</td><td>     </td><td style=\"text-align: right;\">          64</td><td style=\"text-align: right;\">  0.141975 </td><td style=\"text-align: right;\">0.000326932</td><td style=\"text-align: right;\">     3</td><td style=\"text-align: right;\">        12.0233 </td><td style=\"text-align: right;\">   0.0989583</td></tr>\n",
       "<tr><td>tune_model_d1ba6_00005</td><td>TERMINATED</td><td>     </td><td style=\"text-align: right;\">          64</td><td style=\"text-align: right;\">  0.0615802</td><td style=\"text-align: right;\">0.00435473 </td><td style=\"text-align: right;\">     4</td><td style=\"text-align: right;\">        15.1256 </td><td style=\"text-align: right;\">   0.184896 </td></tr>\n",
       "<tr><td>tune_model_d1ba6_00006</td><td>TERMINATED</td><td>     </td><td style=\"text-align: right;\">          32</td><td style=\"text-align: right;\">  0.0754772</td><td style=\"text-align: right;\">0.000376425</td><td style=\"text-align: right;\">     2</td><td style=\"text-align: right;\">        13.0658 </td><td style=\"text-align: right;\">   0.117647 </td></tr>\n",
       "<tr><td>tune_model_d1ba6_00007</td><td>TERMINATED</td><td>     </td><td style=\"text-align: right;\">          32</td><td style=\"text-align: right;\">  0.0748212</td><td style=\"text-align: right;\">0.000543971</td><td style=\"text-align: right;\">     1</td><td style=\"text-align: right;\">         7.40337</td><td style=\"text-align: right;\">   0.108456 </td></tr>\n",
       "<tr><td>tune_model_d1ba6_00008</td><td>TERMINATED</td><td>     </td><td style=\"text-align: right;\">          16</td><td style=\"text-align: right;\">  0.104406 </td><td style=\"text-align: right;\">0.00113166 </td><td style=\"text-align: right;\">     3</td><td style=\"text-align: right;\">        26.9863 </td><td style=\"text-align: right;\">   0.155449 </td></tr>\n",
       "<tr><td>tune_model_d1ba6_00009</td><td>TERMINATED</td><td>     </td><td style=\"text-align: right;\">          64</td><td style=\"text-align: right;\">  0.0558955</td><td style=\"text-align: right;\">0.000315286</td><td style=\"text-align: right;\">     3</td><td style=\"text-align: right;\">        12.2698 </td><td style=\"text-align: right;\">   0.0859375</td></tr>\n",
       "<tr><td>tune_model_d1ba6_00010</td><td>TERMINATED</td><td>     </td><td style=\"text-align: right;\">          64</td><td style=\"text-align: right;\">  0.0907385</td><td style=\"text-align: right;\">0.000243921</td><td style=\"text-align: right;\">     3</td><td style=\"text-align: right;\">        12.018  </td><td style=\"text-align: right;\">   0.114583 </td></tr>\n",
       "<tr><td>tune_model_d1ba6_00011</td><td>TERMINATED</td><td>     </td><td style=\"text-align: right;\">          16</td><td style=\"text-align: right;\">  0.0905706</td><td style=\"text-align: right;\">0.000923098</td><td style=\"text-align: right;\">     3</td><td style=\"text-align: right;\">        26.8302 </td><td style=\"text-align: right;\">   0.133013 </td></tr>\n",
       "<tr><td>tune_model_d1ba6_00012</td><td>TERMINATED</td><td>     </td><td style=\"text-align: right;\">          16</td><td style=\"text-align: right;\">  0.072298 </td><td style=\"text-align: right;\">0.000682057</td><td style=\"text-align: right;\">     3</td><td style=\"text-align: right;\">        26.6138 </td><td style=\"text-align: right;\">   0.125    </td></tr>\n",
       "<tr><td>tune_model_d1ba6_00013</td><td>TERMINATED</td><td>     </td><td style=\"text-align: right;\">          32</td><td style=\"text-align: right;\">  0.0679569</td><td style=\"text-align: right;\">0.00552038 </td><td style=\"text-align: right;\">     3</td><td style=\"text-align: right;\">        17.8255 </td><td style=\"text-align: right;\">   0.200368 </td></tr>\n",
       "<tr><td>tune_model_d1ba6_00014</td><td>TERMINATED</td><td>     </td><td style=\"text-align: right;\">          16</td><td style=\"text-align: right;\">  0.0908309</td><td style=\"text-align: right;\">0.00425815 </td><td style=\"text-align: right;\">     3</td><td style=\"text-align: right;\">        26.3833 </td><td style=\"text-align: right;\">   0.211538 </td></tr>\n",
       "<tr><td>tune_model_d1ba6_00015</td><td>TERMINATED</td><td>     </td><td style=\"text-align: right;\">          64</td><td style=\"text-align: right;\">  0.0732575</td><td style=\"text-align: right;\">0.00897761 </td><td style=\"text-align: right;\">     2</td><td style=\"text-align: right;\">         8.57508</td><td style=\"text-align: right;\">   0.171875 </td></tr>\n",
       "<tr><td>tune_model_d1ba6_00016</td><td>TERMINATED</td><td>     </td><td style=\"text-align: right;\">          64</td><td style=\"text-align: right;\">  0.128978 </td><td style=\"text-align: right;\">0.0016664  </td><td style=\"text-align: right;\">     1</td><td style=\"text-align: right;\">         5.30933</td><td style=\"text-align: right;\">   0.106771 </td></tr>\n",
       "<tr><td>tune_model_d1ba6_00017</td><td>TERMINATED</td><td>     </td><td style=\"text-align: right;\">          16</td><td style=\"text-align: right;\">  0.137015 </td><td style=\"text-align: right;\">0.000927413</td><td style=\"text-align: right;\">     3</td><td style=\"text-align: right;\">        26.6875 </td><td style=\"text-align: right;\">   0.136218 </td></tr>\n",
       "<tr><td>tune_model_d1ba6_00018</td><td>TERMINATED</td><td>     </td><td style=\"text-align: right;\">          64</td><td style=\"text-align: right;\">  0.137939 </td><td style=\"text-align: right;\">0.00842556 </td><td style=\"text-align: right;\">     3</td><td style=\"text-align: right;\">        11.7622 </td><td style=\"text-align: right;\">   0.179688 </td></tr>\n",
       "<tr><td>tune_model_d1ba6_00019</td><td>TERMINATED</td><td>     </td><td style=\"text-align: right;\">          16</td><td style=\"text-align: right;\">  0.146228 </td><td style=\"text-align: right;\">0.0012608  </td><td style=\"text-align: right;\">     3</td><td style=\"text-align: right;\">        26.8025 </td><td style=\"text-align: right;\">   0.157051 </td></tr>\n",
       "<tr><td>tune_model_d1ba6_00020</td><td>TERMINATED</td><td>     </td><td style=\"text-align: right;\">          16</td><td style=\"text-align: right;\">  0.0661301</td><td style=\"text-align: right;\">0.00822183 </td><td style=\"text-align: right;\">     2</td><td style=\"text-align: right;\">        18.4973 </td><td style=\"text-align: right;\">   0.18109  </td></tr>\n",
       "<tr><td>tune_model_d1ba6_00021</td><td>TERMINATED</td><td>     </td><td style=\"text-align: right;\">          16</td><td style=\"text-align: right;\">  0.0681994</td><td style=\"text-align: right;\">0.0050846  </td><td style=\"text-align: right;\">     3</td><td style=\"text-align: right;\">        26.5599 </td><td style=\"text-align: right;\">   0.200321 </td></tr>\n",
       "<tr><td>tune_model_d1ba6_00022</td><td>TERMINATED</td><td>     </td><td style=\"text-align: right;\">          64</td><td style=\"text-align: right;\">  0.0929752</td><td style=\"text-align: right;\">0.000140369</td><td style=\"text-align: right;\">     3</td><td style=\"text-align: right;\">        12.1335 </td><td style=\"text-align: right;\">   0.0572917</td></tr>\n",
       "<tr><td>tune_model_d1ba6_00023</td><td>TERMINATED</td><td>     </td><td style=\"text-align: right;\">          16</td><td style=\"text-align: right;\">  0.088446 </td><td style=\"text-align: right;\">0.00337051 </td><td style=\"text-align: right;\">     3</td><td style=\"text-align: right;\">        26.3941 </td><td style=\"text-align: right;\">   0.211538 </td></tr>\n",
       "<tr><td>tune_model_d1ba6_00024</td><td>TERMINATED</td><td>     </td><td style=\"text-align: right;\">          32</td><td style=\"text-align: right;\">  0.110155 </td><td style=\"text-align: right;\">0.00140116 </td><td style=\"text-align: right;\">     3</td><td style=\"text-align: right;\">        18.7565 </td><td style=\"text-align: right;\">   0.143382 </td></tr>\n",
       "<tr><td>tune_model_d1ba6_00025</td><td>TERMINATED</td><td>     </td><td style=\"text-align: right;\">          64</td><td style=\"text-align: right;\">  0.0778379</td><td style=\"text-align: right;\">0.00423173 </td><td style=\"text-align: right;\">     3</td><td style=\"text-align: right;\">        11.9355 </td><td style=\"text-align: right;\">   0.166667 </td></tr>\n",
       "<tr><td>tune_model_d1ba6_00026</td><td>TERMINATED</td><td>     </td><td style=\"text-align: right;\">          64</td><td style=\"text-align: right;\">  0.0619746</td><td style=\"text-align: right;\">0.000115701</td><td style=\"text-align: right;\">     1</td><td style=\"text-align: right;\">         5.53841</td><td style=\"text-align: right;\">   0.0755208</td></tr>\n",
       "<tr><td>tune_model_d1ba6_00027</td><td>TERMINATED</td><td>     </td><td style=\"text-align: right;\">          16</td><td style=\"text-align: right;\">  0.0843427</td><td style=\"text-align: right;\">0.00244103 </td><td style=\"text-align: right;\">     4</td><td style=\"text-align: right;\">        34.9772 </td><td style=\"text-align: right;\">   0.198718 </td></tr>\n",
       "<tr><td>tune_model_d1ba6_00028</td><td>TERMINATED</td><td>     </td><td style=\"text-align: right;\">          64</td><td style=\"text-align: right;\">  0.146877 </td><td style=\"text-align: right;\">0.000131043</td><td style=\"text-align: right;\">     2</td><td style=\"text-align: right;\">         8.835  </td><td style=\"text-align: right;\">   0.0729167</td></tr>\n",
       "<tr><td>tune_model_d1ba6_00029</td><td>TERMINATED</td><td>     </td><td style=\"text-align: right;\">          32</td><td style=\"text-align: right;\">  0.147183 </td><td style=\"text-align: right;\">0.00815235 </td><td style=\"text-align: right;\">     2</td><td style=\"text-align: right;\">        12.8799 </td><td style=\"text-align: right;\">   0.220588 </td></tr>\n",
       "<tr><td>tune_model_d1ba6_00030</td><td>TERMINATED</td><td>     </td><td style=\"text-align: right;\">          64</td><td style=\"text-align: right;\">  0.140972 </td><td style=\"text-align: right;\">0.00179675 </td><td style=\"text-align: right;\">     3</td><td style=\"text-align: right;\">        12.0281 </td><td style=\"text-align: right;\">   0.109375 </td></tr>\n",
       "<tr><td>tune_model_d1ba6_00031</td><td>TERMINATED</td><td>     </td><td style=\"text-align: right;\">          16</td><td style=\"text-align: right;\">  0.105465 </td><td style=\"text-align: right;\">0.00339107 </td><td style=\"text-align: right;\">     3</td><td style=\"text-align: right;\">        26.2832 </td><td style=\"text-align: right;\">   0.216346 </td></tr>\n",
       "<tr><td>tune_model_d1ba6_00032</td><td>TERMINATED</td><td>     </td><td style=\"text-align: right;\">          16</td><td style=\"text-align: right;\">  0.142797 </td><td style=\"text-align: right;\">0.000121046</td><td style=\"text-align: right;\">     3</td><td style=\"text-align: right;\">        27.3909 </td><td style=\"text-align: right;\">   0.0801282</td></tr>\n",
       "<tr><td>tune_model_d1ba6_00033</td><td>TERMINATED</td><td>     </td><td style=\"text-align: right;\">          32</td><td style=\"text-align: right;\">  0.0543022</td><td style=\"text-align: right;\">0.00024244 </td><td style=\"text-align: right;\">     3</td><td style=\"text-align: right;\">        18.6836 </td><td style=\"text-align: right;\">   0.108456 </td></tr>\n",
       "<tr><td>tune_model_d1ba6_00034</td><td>TERMINATED</td><td>     </td><td style=\"text-align: right;\">          16</td><td style=\"text-align: right;\">  0.050489 </td><td style=\"text-align: right;\">0.000869987</td><td style=\"text-align: right;\">     3</td><td style=\"text-align: right;\">        27.2483 </td><td style=\"text-align: right;\">   0.125    </td></tr>\n",
       "<tr><td>tune_model_d1ba6_00035</td><td>TERMINATED</td><td>     </td><td style=\"text-align: right;\">          32</td><td style=\"text-align: right;\">  0.131231 </td><td style=\"text-align: right;\">0.000134967</td><td style=\"text-align: right;\">     3</td><td style=\"text-align: right;\">        18.7273 </td><td style=\"text-align: right;\">   0.101103 </td></tr>\n",
       "<tr><td>tune_model_d1ba6_00036</td><td>TERMINATED</td><td>     </td><td style=\"text-align: right;\">          32</td><td style=\"text-align: right;\">  0.123572 </td><td style=\"text-align: right;\">0.000362363</td><td style=\"text-align: right;\">     2</td><td style=\"text-align: right;\">        13.0243 </td><td style=\"text-align: right;\">   0.106618 </td></tr>\n",
       "<tr><td>tune_model_d1ba6_00037</td><td>TERMINATED</td><td>     </td><td style=\"text-align: right;\">          64</td><td style=\"text-align: right;\">  0.134247 </td><td style=\"text-align: right;\">0.00170042 </td><td style=\"text-align: right;\">     2</td><td style=\"text-align: right;\">         8.67659</td><td style=\"text-align: right;\">   0.140625 </td></tr>\n",
       "<tr><td>tune_model_d1ba6_00038</td><td>TERMINATED</td><td>     </td><td style=\"text-align: right;\">          64</td><td style=\"text-align: right;\">  0.105848 </td><td style=\"text-align: right;\">0.000220145</td><td style=\"text-align: right;\">     3</td><td style=\"text-align: right;\">        12.1157 </td><td style=\"text-align: right;\">   0.111979 </td></tr>\n",
       "<tr><td>tune_model_d1ba6_00039</td><td>TERMINATED</td><td>     </td><td style=\"text-align: right;\">          64</td><td style=\"text-align: right;\">  0.0648523</td><td style=\"text-align: right;\">0.00110519 </td><td style=\"text-align: right;\">     3</td><td style=\"text-align: right;\">        12.1084 </td><td style=\"text-align: right;\">   0.125    </td></tr>\n",
       "<tr><td>tune_model_d1ba6_00040</td><td>TERMINATED</td><td>     </td><td style=\"text-align: right;\">          64</td><td style=\"text-align: right;\">  0.10522  </td><td style=\"text-align: right;\">0.00306708 </td><td style=\"text-align: right;\">     1</td><td style=\"text-align: right;\">         5.27232</td><td style=\"text-align: right;\">   0.117188 </td></tr>\n",
       "<tr><td>tune_model_d1ba6_00041</td><td>TERMINATED</td><td>     </td><td style=\"text-align: right;\">          64</td><td style=\"text-align: right;\">  0.0934923</td><td style=\"text-align: right;\">0.000959634</td><td style=\"text-align: right;\">     3</td><td style=\"text-align: right;\">        12.1839 </td><td style=\"text-align: right;\">   0.111979 </td></tr>\n",
       "<tr><td>tune_model_d1ba6_00042</td><td>TERMINATED</td><td>     </td><td style=\"text-align: right;\">          16</td><td style=\"text-align: right;\">  0.088125 </td><td style=\"text-align: right;\">0.000268329</td><td style=\"text-align: right;\">     2</td><td style=\"text-align: right;\">        18.7374 </td><td style=\"text-align: right;\">   0.0865385</td></tr>\n",
       "<tr><td>tune_model_d1ba6_00043</td><td>TERMINATED</td><td>     </td><td style=\"text-align: right;\">          64</td><td style=\"text-align: right;\">  0.107303 </td><td style=\"text-align: right;\">0.00132225 </td><td style=\"text-align: right;\">     3</td><td style=\"text-align: right;\">        12.0784 </td><td style=\"text-align: right;\">   0.117188 </td></tr>\n",
       "<tr><td>tune_model_d1ba6_00044</td><td>TERMINATED</td><td>     </td><td style=\"text-align: right;\">          16</td><td style=\"text-align: right;\">  0.126113 </td><td style=\"text-align: right;\">0.00127545 </td><td style=\"text-align: right;\">     8</td><td style=\"text-align: right;\">        67.7633 </td><td style=\"text-align: right;\">   0.232372 </td></tr>\n",
       "<tr><td>tune_model_d1ba6_00045</td><td>TERMINATED</td><td>     </td><td style=\"text-align: right;\">          32</td><td style=\"text-align: right;\">  0.141574 </td><td style=\"text-align: right;\">0.00190312 </td><td style=\"text-align: right;\">     5</td><td style=\"text-align: right;\">        29.6336 </td><td style=\"text-align: right;\">   0.198529 </td></tr>\n",
       "<tr><td>tune_model_d1ba6_00046</td><td>TERMINATED</td><td>     </td><td style=\"text-align: right;\">          16</td><td style=\"text-align: right;\">  0.127978 </td><td style=\"text-align: right;\">0.000138649</td><td style=\"text-align: right;\">     2</td><td style=\"text-align: right;\">        18.7578 </td><td style=\"text-align: right;\">   0.107372 </td></tr>\n",
       "<tr><td>tune_model_d1ba6_00047</td><td>TERMINATED</td><td>     </td><td style=\"text-align: right;\">          64</td><td style=\"text-align: right;\">  0.0834739</td><td style=\"text-align: right;\">0.00284269 </td><td style=\"text-align: right;\">     3</td><td style=\"text-align: right;\">        12.052  </td><td style=\"text-align: right;\">   0.161458 </td></tr>\n",
       "<tr><td>tune_model_d1ba6_00048</td><td>TERMINATED</td><td>     </td><td style=\"text-align: right;\">          32</td><td style=\"text-align: right;\">  0.111459 </td><td style=\"text-align: right;\">0.00931762 </td><td style=\"text-align: right;\">     3</td><td style=\"text-align: right;\">        17.914  </td><td style=\"text-align: right;\">   0.1875   </td></tr>\n",
       "<tr><td>tune_model_d1ba6_00049</td><td>TERMINATED</td><td>     </td><td style=\"text-align: right;\">          16</td><td style=\"text-align: right;\">  0.10513  </td><td style=\"text-align: right;\">0.000780873</td><td style=\"text-align: right;\">     3</td><td style=\"text-align: right;\">        26.8776 </td><td style=\"text-align: right;\">   0.120192 </td></tr>\n",
       "<tr><td>tune_model_d1ba6_00050</td><td>TERMINATED</td><td>     </td><td style=\"text-align: right;\">          32</td><td style=\"text-align: right;\">  0.132856 </td><td style=\"text-align: right;\">0.000592182</td><td style=\"text-align: right;\">     3</td><td style=\"text-align: right;\">        18.6171 </td><td style=\"text-align: right;\">   0.108456 </td></tr>\n",
       "<tr><td>tune_model_d1ba6_00051</td><td>TERMINATED</td><td>     </td><td style=\"text-align: right;\">          32</td><td style=\"text-align: right;\">  0.126736 </td><td style=\"text-align: right;\">0.00657052 </td><td style=\"text-align: right;\">     2</td><td style=\"text-align: right;\">        12.8322 </td><td style=\"text-align: right;\">   0.200368 </td></tr>\n",
       "<tr><td>tune_model_d1ba6_00052</td><td>TERMINATED</td><td>     </td><td style=\"text-align: right;\">          32</td><td style=\"text-align: right;\">  0.102679 </td><td style=\"text-align: right;\">0.00335158 </td><td style=\"text-align: right;\">     3</td><td style=\"text-align: right;\">        18.459  </td><td style=\"text-align: right;\">   0.191176 </td></tr>\n",
       "<tr><td>tune_model_d1ba6_00053</td><td>TERMINATED</td><td>     </td><td style=\"text-align: right;\">          64</td><td style=\"text-align: right;\">  0.131122 </td><td style=\"text-align: right;\">0.000811065</td><td style=\"text-align: right;\">     3</td><td style=\"text-align: right;\">        12.1207 </td><td style=\"text-align: right;\">   0.09375  </td></tr>\n",
       "<tr><td>tune_model_d1ba6_00054</td><td>TERMINATED</td><td>     </td><td style=\"text-align: right;\">          64</td><td style=\"text-align: right;\">  0.136181 </td><td style=\"text-align: right;\">0.00317852 </td><td style=\"text-align: right;\">     1</td><td style=\"text-align: right;\">         5.30343</td><td style=\"text-align: right;\">   0.104167 </td></tr>\n",
       "<tr><td>tune_model_d1ba6_00055</td><td>TERMINATED</td><td>     </td><td style=\"text-align: right;\">          16</td><td style=\"text-align: right;\">  0.121075 </td><td style=\"text-align: right;\">0.0030983  </td><td style=\"text-align: right;\">     2</td><td style=\"text-align: right;\">        18.2855 </td><td style=\"text-align: right;\">   0.192308 </td></tr>\n",
       "<tr><td>tune_model_d1ba6_00056</td><td>TERMINATED</td><td>     </td><td style=\"text-align: right;\">          64</td><td style=\"text-align: right;\">  0.129963 </td><td style=\"text-align: right;\">0.000237862</td><td style=\"text-align: right;\">     2</td><td style=\"text-align: right;\">         8.72172</td><td style=\"text-align: right;\">   0.0729167</td></tr>\n",
       "<tr><td>tune_model_d1ba6_00057</td><td>TERMINATED</td><td>     </td><td style=\"text-align: right;\">          32</td><td style=\"text-align: right;\">  0.0516875</td><td style=\"text-align: right;\">0.00190536 </td><td style=\"text-align: right;\">     8</td><td style=\"text-align: right;\">        44.6485 </td><td style=\"text-align: right;\">   0.209559 </td></tr>\n",
       "<tr><td>tune_model_d1ba6_00058</td><td>TERMINATED</td><td>     </td><td style=\"text-align: right;\">          64</td><td style=\"text-align: right;\">  0.144479 </td><td style=\"text-align: right;\">0.00090608 </td><td style=\"text-align: right;\">     3</td><td style=\"text-align: right;\">        12.1164 </td><td style=\"text-align: right;\">   0.106771 </td></tr>\n",
       "<tr><td>tune_model_d1ba6_00059</td><td>TERMINATED</td><td>     </td><td style=\"text-align: right;\">          16</td><td style=\"text-align: right;\">  0.0647418</td><td style=\"text-align: right;\">0.00741818 </td><td style=\"text-align: right;\">     2</td><td style=\"text-align: right;\">        18.0919 </td><td style=\"text-align: right;\">   0.198718 </td></tr>\n",
       "<tr><td>tune_model_d1ba6_00060</td><td>TERMINATED</td><td>     </td><td style=\"text-align: right;\">          64</td><td style=\"text-align: right;\">  0.107873 </td><td style=\"text-align: right;\">0.000690352</td><td style=\"text-align: right;\">     2</td><td style=\"text-align: right;\">         8.75677</td><td style=\"text-align: right;\">   0.111979 </td></tr>\n",
       "<tr><td>tune_model_d1ba6_00061</td><td>TERMINATED</td><td>     </td><td style=\"text-align: right;\">          16</td><td style=\"text-align: right;\">  0.145227 </td><td style=\"text-align: right;\">0.00359055 </td><td style=\"text-align: right;\">     3</td><td style=\"text-align: right;\">        26.7664 </td><td style=\"text-align: right;\">   0.205128 </td></tr>\n",
       "<tr><td>tune_model_d1ba6_00062</td><td>TERMINATED</td><td>     </td><td style=\"text-align: right;\">          64</td><td style=\"text-align: right;\">  0.0585523</td><td style=\"text-align: right;\">0.000977069</td><td style=\"text-align: right;\">     1</td><td style=\"text-align: right;\">         5.29131</td><td style=\"text-align: right;\">   0.104167 </td></tr>\n",
       "<tr><td>tune_model_d1ba6_00063</td><td>TERMINATED</td><td>     </td><td style=\"text-align: right;\">          64</td><td style=\"text-align: right;\">  0.104633 </td><td style=\"text-align: right;\">0.000403376</td><td style=\"text-align: right;\">     3</td><td style=\"text-align: right;\">        12.1261 </td><td style=\"text-align: right;\">   0.111979 </td></tr>\n",
       "<tr><td>tune_model_d1ba6_00064</td><td>TERMINATED</td><td>     </td><td style=\"text-align: right;\">          16</td><td style=\"text-align: right;\">  0.129155 </td><td style=\"text-align: right;\">0.00141128 </td><td style=\"text-align: right;\">     3</td><td style=\"text-align: right;\">        26.7223 </td><td style=\"text-align: right;\">   0.142628 </td></tr>\n",
       "<tr><td>tune_model_d1ba6_00065</td><td>TERMINATED</td><td>     </td><td style=\"text-align: right;\">          16</td><td style=\"text-align: right;\">  0.0543285</td><td style=\"text-align: right;\">0.000116136</td><td style=\"text-align: right;\">     3</td><td style=\"text-align: right;\">        26.8809 </td><td style=\"text-align: right;\">   0.0945513</td></tr>\n",
       "<tr><td>tune_model_d1ba6_00066</td><td>TERMINATED</td><td>     </td><td style=\"text-align: right;\">          64</td><td style=\"text-align: right;\">  0.109015 </td><td style=\"text-align: right;\">0.00403    </td><td style=\"text-align: right;\">     6</td><td style=\"text-align: right;\">        21.469  </td><td style=\"text-align: right;\">   0.184896 </td></tr>\n",
       "<tr><td>tune_model_d1ba6_00067</td><td>TERMINATED</td><td>     </td><td style=\"text-align: right;\">          32</td><td style=\"text-align: right;\">  0.11107  </td><td style=\"text-align: right;\">0.000386438</td><td style=\"text-align: right;\">     2</td><td style=\"text-align: right;\">        13.2066 </td><td style=\"text-align: right;\">   0.0992647</td></tr>\n",
       "<tr><td>tune_model_d1ba6_00068</td><td>TERMINATED</td><td>     </td><td style=\"text-align: right;\">          64</td><td style=\"text-align: right;\">  0.132387 </td><td style=\"text-align: right;\">0.000131584</td><td style=\"text-align: right;\">     1</td><td style=\"text-align: right;\">         5.38295</td><td style=\"text-align: right;\">   0.0755208</td></tr>\n",
       "<tr><td>tune_model_d1ba6_00069</td><td>TERMINATED</td><td>     </td><td style=\"text-align: right;\">          64</td><td style=\"text-align: right;\">  0.135685 </td><td style=\"text-align: right;\">0.00021812 </td><td style=\"text-align: right;\">     3</td><td style=\"text-align: right;\">        12.0696 </td><td style=\"text-align: right;\">   0.09375  </td></tr>\n",
       "<tr><td>tune_model_d1ba6_00070</td><td>TERMINATED</td><td>     </td><td style=\"text-align: right;\">          16</td><td style=\"text-align: right;\">  0.0501287</td><td style=\"text-align: right;\">0.00641613 </td><td style=\"text-align: right;\">     2</td><td style=\"text-align: right;\">        18.4898 </td><td style=\"text-align: right;\">   0.189103 </td></tr>\n",
       "<tr><td>tune_model_d1ba6_00071</td><td>TERMINATED</td><td>     </td><td style=\"text-align: right;\">          64</td><td style=\"text-align: right;\">  0.111231 </td><td style=\"text-align: right;\">0.00807221 </td><td style=\"text-align: right;\">     4</td><td style=\"text-align: right;\">        14.9848 </td><td style=\"text-align: right;\">   0.200521 </td></tr>\n",
       "<tr><td>tune_model_d1ba6_00072</td><td>TERMINATED</td><td>     </td><td style=\"text-align: right;\">          16</td><td style=\"text-align: right;\">  0.107483 </td><td style=\"text-align: right;\">0.000646447</td><td style=\"text-align: right;\">     1</td><td style=\"text-align: right;\">        10.2374 </td><td style=\"text-align: right;\">   0.0945513</td></tr>\n",
       "<tr><td>tune_model_d1ba6_00073</td><td>TERMINATED</td><td>     </td><td style=\"text-align: right;\">          16</td><td style=\"text-align: right;\">  0.0853466</td><td style=\"text-align: right;\">0.000927274</td><td style=\"text-align: right;\">     3</td><td style=\"text-align: right;\">        26.7072 </td><td style=\"text-align: right;\">   0.128205 </td></tr>\n",
       "<tr><td>tune_model_d1ba6_00074</td><td>TERMINATED</td><td>     </td><td style=\"text-align: right;\">          64</td><td style=\"text-align: right;\">  0.11489  </td><td style=\"text-align: right;\">0.00701799 </td><td style=\"text-align: right;\">     3</td><td style=\"text-align: right;\">        11.8665 </td><td style=\"text-align: right;\">   0.182292 </td></tr>\n",
       "<tr><td>tune_model_d1ba6_00075</td><td>TERMINATED</td><td>     </td><td style=\"text-align: right;\">          64</td><td style=\"text-align: right;\">  0.0944383</td><td style=\"text-align: right;\">0.00215829 </td><td style=\"text-align: right;\">     3</td><td style=\"text-align: right;\">        11.7535 </td><td style=\"text-align: right;\">   0.153646 </td></tr>\n",
       "<tr><td>tune_model_d1ba6_00076</td><td>TERMINATED</td><td>     </td><td style=\"text-align: right;\">          32</td><td style=\"text-align: right;\">  0.122355 </td><td style=\"text-align: right;\">0.00172432 </td><td style=\"text-align: right;\">     6</td><td style=\"text-align: right;\">        34.8081 </td><td style=\"text-align: right;\">   0.202206 </td></tr>\n",
       "<tr><td>tune_model_d1ba6_00077</td><td>TERMINATED</td><td>     </td><td style=\"text-align: right;\">          32</td><td style=\"text-align: right;\">  0.0782543</td><td style=\"text-align: right;\">0.00170111 </td><td style=\"text-align: right;\">     3</td><td style=\"text-align: right;\">        18.1242 </td><td style=\"text-align: right;\">   0.159926 </td></tr>\n",
       "<tr><td>tune_model_d1ba6_00078</td><td>TERMINATED</td><td>     </td><td style=\"text-align: right;\">          32</td><td style=\"text-align: right;\">  0.132393 </td><td style=\"text-align: right;\">0.00450738 </td><td style=\"text-align: right;\">     4</td><td style=\"text-align: right;\">        23.7688 </td><td style=\"text-align: right;\">   0.200368 </td></tr>\n",
       "<tr><td>tune_model_d1ba6_00079</td><td>TERMINATED</td><td>     </td><td style=\"text-align: right;\">          32</td><td style=\"text-align: right;\">  0.12978  </td><td style=\"text-align: right;\">0.00011303 </td><td style=\"text-align: right;\">     3</td><td style=\"text-align: right;\">        18.8117 </td><td style=\"text-align: right;\">   0.0919118</td></tr>\n",
       "<tr><td>tune_model_d1ba6_00080</td><td>TERMINATED</td><td>     </td><td style=\"text-align: right;\">          64</td><td style=\"text-align: right;\">  0.129473 </td><td style=\"text-align: right;\">0.00339814 </td><td style=\"text-align: right;\">     3</td><td style=\"text-align: right;\">        11.8087 </td><td style=\"text-align: right;\">   0.166667 </td></tr>\n",
       "<tr><td>tune_model_d1ba6_00081</td><td>TERMINATED</td><td>     </td><td style=\"text-align: right;\">          32</td><td style=\"text-align: right;\">  0.0897273</td><td style=\"text-align: right;\">0.000102849</td><td style=\"text-align: right;\">     3</td><td style=\"text-align: right;\">        18.8433 </td><td style=\"text-align: right;\">   0.0808824</td></tr>\n",
       "<tr><td>tune_model_d1ba6_00082</td><td>TERMINATED</td><td>     </td><td style=\"text-align: right;\">          32</td><td style=\"text-align: right;\">  0.0846047</td><td style=\"text-align: right;\">0.00120157 </td><td style=\"text-align: right;\">     3</td><td style=\"text-align: right;\">        18.3749 </td><td style=\"text-align: right;\">   0.143382 </td></tr>\n",
       "<tr><td>tune_model_d1ba6_00083</td><td>TERMINATED</td><td>     </td><td style=\"text-align: right;\">          64</td><td style=\"text-align: right;\">  0.138887 </td><td style=\"text-align: right;\">0.000711846</td><td style=\"text-align: right;\">     2</td><td style=\"text-align: right;\">         8.74809</td><td style=\"text-align: right;\">   0.117188 </td></tr>\n",
       "<tr><td>tune_model_d1ba6_00084</td><td>TERMINATED</td><td>     </td><td style=\"text-align: right;\">          32</td><td style=\"text-align: right;\">  0.0621641</td><td style=\"text-align: right;\">0.000147777</td><td style=\"text-align: right;\">     3</td><td style=\"text-align: right;\">        18.7977 </td><td style=\"text-align: right;\">   0.0827206</td></tr>\n",
       "<tr><td>tune_model_d1ba6_00085</td><td>TERMINATED</td><td>     </td><td style=\"text-align: right;\">          32</td><td style=\"text-align: right;\">  0.134997 </td><td style=\"text-align: right;\">0.000420369</td><td style=\"text-align: right;\">     2</td><td style=\"text-align: right;\">        13.3786 </td><td style=\"text-align: right;\">   0.0919118</td></tr>\n",
       "<tr><td>tune_model_d1ba6_00086</td><td>TERMINATED</td><td>     </td><td style=\"text-align: right;\">          64</td><td style=\"text-align: right;\">  0.100033 </td><td style=\"text-align: right;\">0.00261255 </td><td style=\"text-align: right;\">     3</td><td style=\"text-align: right;\">        11.9341 </td><td style=\"text-align: right;\">   0.161458 </td></tr>\n",
       "<tr><td>tune_model_d1ba6_00087</td><td>TERMINATED</td><td>     </td><td style=\"text-align: right;\">          32</td><td style=\"text-align: right;\">  0.0772219</td><td style=\"text-align: right;\">0.00134767 </td><td style=\"text-align: right;\">     3</td><td style=\"text-align: right;\">        18.693  </td><td style=\"text-align: right;\">   0.148897 </td></tr>\n",
       "<tr><td>tune_model_d1ba6_00088</td><td>TERMINATED</td><td>     </td><td style=\"text-align: right;\">          32</td><td style=\"text-align: right;\">  0.0941051</td><td style=\"text-align: right;\">0.00248284 </td><td style=\"text-align: right;\">     8</td><td style=\"text-align: right;\">        44.7666 </td><td style=\"text-align: right;\">   0.204044 </td></tr>\n",
       "<tr><td>tune_model_d1ba6_00089</td><td>TERMINATED</td><td>     </td><td style=\"text-align: right;\">          16</td><td style=\"text-align: right;\">  0.123906 </td><td style=\"text-align: right;\">0.000904889</td><td style=\"text-align: right;\">     3</td><td style=\"text-align: right;\">        26.9869 </td><td style=\"text-align: right;\">   0.149038 </td></tr>\n",
       "<tr><td>tune_model_d1ba6_00090</td><td>TERMINATED</td><td>     </td><td style=\"text-align: right;\">          16</td><td style=\"text-align: right;\">  0.131654 </td><td style=\"text-align: right;\">0.00217808 </td><td style=\"text-align: right;\">     4</td><td style=\"text-align: right;\">        35.3696 </td><td style=\"text-align: right;\">   0.19391  </td></tr>\n",
       "<tr><td>tune_model_d1ba6_00091</td><td>TERMINATED</td><td>     </td><td style=\"text-align: right;\">          16</td><td style=\"text-align: right;\">  0.110476 </td><td style=\"text-align: right;\">0.0027975  </td><td style=\"text-align: right;\">     5</td><td style=\"text-align: right;\">        43.2012 </td><td style=\"text-align: right;\">   0.208333 </td></tr>\n",
       "<tr><td>tune_model_d1ba6_00092</td><td>TERMINATED</td><td>     </td><td style=\"text-align: right;\">          16</td><td style=\"text-align: right;\">  0.050287 </td><td style=\"text-align: right;\">0.00209945 </td><td style=\"text-align: right;\">     4</td><td style=\"text-align: right;\">        34.6132 </td><td style=\"text-align: right;\">   0.189103 </td></tr>\n",
       "<tr><td>tune_model_d1ba6_00093</td><td>TERMINATED</td><td>     </td><td style=\"text-align: right;\">          16</td><td style=\"text-align: right;\">  0.0740568</td><td style=\"text-align: right;\">0.000278488</td><td style=\"text-align: right;\">     2</td><td style=\"text-align: right;\">        18.6874 </td><td style=\"text-align: right;\">   0.0961538</td></tr>\n",
       "<tr><td>tune_model_d1ba6_00094</td><td>TERMINATED</td><td>     </td><td style=\"text-align: right;\">          64</td><td style=\"text-align: right;\">  0.106867 </td><td style=\"text-align: right;\">0.000607236</td><td style=\"text-align: right;\">     2</td><td style=\"text-align: right;\">         8.83201</td><td style=\"text-align: right;\">   0.117188 </td></tr>\n",
       "<tr><td>tune_model_d1ba6_00095</td><td>TERMINATED</td><td>     </td><td style=\"text-align: right;\">          64</td><td style=\"text-align: right;\">  0.129984 </td><td style=\"text-align: right;\">0.000782101</td><td style=\"text-align: right;\">     3</td><td style=\"text-align: right;\">        12.0461 </td><td style=\"text-align: right;\">   0.09375  </td></tr>\n",
       "<tr><td>tune_model_d1ba6_00096</td><td>TERMINATED</td><td>     </td><td style=\"text-align: right;\">          32</td><td style=\"text-align: right;\">  0.0894575</td><td style=\"text-align: right;\">0.000370067</td><td style=\"text-align: right;\">     2</td><td style=\"text-align: right;\">        13.2035 </td><td style=\"text-align: right;\">   0.104779 </td></tr>\n",
       "<tr><td>tune_model_d1ba6_00097</td><td>TERMINATED</td><td>     </td><td style=\"text-align: right;\">          32</td><td style=\"text-align: right;\">  0.0934855</td><td style=\"text-align: right;\">0.00356277 </td><td style=\"text-align: right;\">     3</td><td style=\"text-align: right;\">        18.1293 </td><td style=\"text-align: right;\">   0.198529 </td></tr>\n",
       "<tr><td>tune_model_d1ba6_00098</td><td>TERMINATED</td><td>     </td><td style=\"text-align: right;\">          32</td><td style=\"text-align: right;\">  0.10725  </td><td style=\"text-align: right;\">0.00073156 </td><td style=\"text-align: right;\">     3</td><td style=\"text-align: right;\">        18.5582 </td><td style=\"text-align: right;\">   0.113971 </td></tr>\n",
       "<tr><td>tune_model_d1ba6_00099</td><td>TERMINATED</td><td>     </td><td style=\"text-align: right;\">          32</td><td style=\"text-align: right;\">  0.148389 </td><td style=\"text-align: right;\">0.000414925</td><td style=\"text-align: right;\">     3</td><td style=\"text-align: right;\">        18.6329 </td><td style=\"text-align: right;\">   0.108456 </td></tr>\n",
       "<tr><td>tune_model_d1ba6_00100</td><td>TERMINATED</td><td>     </td><td style=\"text-align: right;\">          64</td><td style=\"text-align: right;\">  0.10497  </td><td style=\"text-align: right;\">0.00176959 </td><td style=\"text-align: right;\">     3</td><td style=\"text-align: right;\">        12.1973 </td><td style=\"text-align: right;\">   0.125    </td></tr>\n",
       "<tr><td>tune_model_d1ba6_00101</td><td>TERMINATED</td><td>     </td><td style=\"text-align: right;\">          16</td><td style=\"text-align: right;\">  0.0807989</td><td style=\"text-align: right;\">0.00117462 </td><td style=\"text-align: right;\">     3</td><td style=\"text-align: right;\">        27.1486 </td><td style=\"text-align: right;\">   0.139423 </td></tr>\n",
       "<tr><td>tune_model_d1ba6_00102</td><td>TERMINATED</td><td>     </td><td style=\"text-align: right;\">          64</td><td style=\"text-align: right;\">  0.0748304</td><td style=\"text-align: right;\">0.00389279 </td><td style=\"text-align: right;\">     3</td><td style=\"text-align: right;\">        11.9766 </td><td style=\"text-align: right;\">   0.148438 </td></tr>\n",
       "<tr><td>tune_model_d1ba6_00103</td><td>TERMINATED</td><td>     </td><td style=\"text-align: right;\">          32</td><td style=\"text-align: right;\">  0.112819 </td><td style=\"text-align: right;\">0.000151367</td><td style=\"text-align: right;\">     3</td><td style=\"text-align: right;\">        18.7521 </td><td style=\"text-align: right;\">   0.0882353</td></tr>\n",
       "<tr><td>tune_model_d1ba6_00104</td><td>TERMINATED</td><td>     </td><td style=\"text-align: right;\">          16</td><td style=\"text-align: right;\">  0.1454   </td><td style=\"text-align: right;\">0.00823043 </td><td style=\"text-align: right;\">     2</td><td style=\"text-align: right;\">        18.301  </td><td style=\"text-align: right;\">   0.190705 </td></tr>\n",
       "<tr><td>tune_model_d1ba6_00105</td><td>TERMINATED</td><td>     </td><td style=\"text-align: right;\">          16</td><td style=\"text-align: right;\">  0.0572428</td><td style=\"text-align: right;\">0.00379867 </td><td style=\"text-align: right;\">     3</td><td style=\"text-align: right;\">        26.3641 </td><td style=\"text-align: right;\">   0.198718 </td></tr>\n",
       "<tr><td>tune_model_d1ba6_00106</td><td>TERMINATED</td><td>     </td><td style=\"text-align: right;\">          64</td><td style=\"text-align: right;\">  0.148743 </td><td style=\"text-align: right;\">0.00224449 </td><td style=\"text-align: right;\">     1</td><td style=\"text-align: right;\">         5.33006</td><td style=\"text-align: right;\">   0.111979 </td></tr>\n",
       "<tr><td>tune_model_d1ba6_00107</td><td>TERMINATED</td><td>     </td><td style=\"text-align: right;\">          32</td><td style=\"text-align: right;\">  0.129524 </td><td style=\"text-align: right;\">0.00039495 </td><td style=\"text-align: right;\">     2</td><td style=\"text-align: right;\">        12.9842 </td><td style=\"text-align: right;\">   0.104779 </td></tr>\n",
       "<tr><td>tune_model_d1ba6_00108</td><td>TERMINATED</td><td>     </td><td style=\"text-align: right;\">          64</td><td style=\"text-align: right;\">  0.062853 </td><td style=\"text-align: right;\">0.0081372  </td><td style=\"text-align: right;\">     4</td><td style=\"text-align: right;\">        15.2333 </td><td style=\"text-align: right;\">   0.192708 </td></tr>\n",
       "<tr><td>tune_model_d1ba6_00109</td><td>TERMINATED</td><td>     </td><td style=\"text-align: right;\">          16</td><td style=\"text-align: right;\">  0.0849642</td><td style=\"text-align: right;\">0.000834937</td><td style=\"text-align: right;\">     3</td><td style=\"text-align: right;\">        27.4131 </td><td style=\"text-align: right;\">   0.126603 </td></tr>\n",
       "<tr><td>tune_model_d1ba6_00110</td><td>TERMINATED</td><td>     </td><td style=\"text-align: right;\">          64</td><td style=\"text-align: right;\">  0.11334  </td><td style=\"text-align: right;\">0.00626428 </td><td style=\"text-align: right;\">     3</td><td style=\"text-align: right;\">        11.8968 </td><td style=\"text-align: right;\">   0.197917 </td></tr>\n",
       "<tr><td>tune_model_d1ba6_00111</td><td>TERMINATED</td><td>     </td><td style=\"text-align: right;\">          32</td><td style=\"text-align: right;\">  0.0788299</td><td style=\"text-align: right;\">0.000112185</td><td style=\"text-align: right;\">     3</td><td style=\"text-align: right;\">        18.8743 </td><td style=\"text-align: right;\">   0.0716912</td></tr>\n",
       "<tr><td>tune_model_d1ba6_00112</td><td>TERMINATED</td><td>     </td><td style=\"text-align: right;\">          32</td><td style=\"text-align: right;\">  0.142051 </td><td style=\"text-align: right;\">0.000233892</td><td style=\"text-align: right;\">     3</td><td style=\"text-align: right;\">        18.5379 </td><td style=\"text-align: right;\">   0.0992647</td></tr>\n",
       "<tr><td>tune_model_d1ba6_00113</td><td>TERMINATED</td><td>     </td><td style=\"text-align: right;\">          32</td><td style=\"text-align: right;\">  0.139409 </td><td style=\"text-align: right;\">0.0053947  </td><td style=\"text-align: right;\">     2</td><td style=\"text-align: right;\">        12.9029 </td><td style=\"text-align: right;\">   0.207721 </td></tr>\n",
       "<tr><td>tune_model_d1ba6_00114</td><td>TERMINATED</td><td>     </td><td style=\"text-align: right;\">          32</td><td style=\"text-align: right;\">  0.0725547</td><td style=\"text-align: right;\">0.000200485</td><td style=\"text-align: right;\">     2</td><td style=\"text-align: right;\">        13.1585 </td><td style=\"text-align: right;\">   0.0919118</td></tr>\n",
       "<tr><td>tune_model_d1ba6_00115</td><td>TERMINATED</td><td>     </td><td style=\"text-align: right;\">          64</td><td style=\"text-align: right;\">  0.110327 </td><td style=\"text-align: right;\">0.000151747</td><td style=\"text-align: right;\">     3</td><td style=\"text-align: right;\">        12.0876 </td><td style=\"text-align: right;\">   0.0963542</td></tr>\n",
       "<tr><td>tune_model_d1ba6_00116</td><td>TERMINATED</td><td>     </td><td style=\"text-align: right;\">          64</td><td style=\"text-align: right;\">  0.064987 </td><td style=\"text-align: right;\">0.00079482 </td><td style=\"text-align: right;\">     1</td><td style=\"text-align: right;\">         5.35139</td><td style=\"text-align: right;\">   0.114583 </td></tr>\n",
       "<tr><td>tune_model_d1ba6_00117</td><td>TERMINATED</td><td>     </td><td style=\"text-align: right;\">          64</td><td style=\"text-align: right;\">  0.063963 </td><td style=\"text-align: right;\">0.000220621</td><td style=\"text-align: right;\">     3</td><td style=\"text-align: right;\">        12.0613 </td><td style=\"text-align: right;\">   0.0989583</td></tr>\n",
       "<tr><td>tune_model_d1ba6_00118</td><td>TERMINATED</td><td>     </td><td style=\"text-align: right;\">          16</td><td style=\"text-align: right;\">  0.13876  </td><td style=\"text-align: right;\">0.000107515</td><td style=\"text-align: right;\">     3</td><td style=\"text-align: right;\">        27.1311 </td><td style=\"text-align: right;\">   0.0865385</td></tr>\n",
       "<tr><td>tune_model_d1ba6_00119</td><td>TERMINATED</td><td>     </td><td style=\"text-align: right;\">          16</td><td style=\"text-align: right;\">  0.133075 </td><td style=\"text-align: right;\">0.00201907 </td><td style=\"text-align: right;\">     5</td><td style=\"text-align: right;\">        42.5862 </td><td style=\"text-align: right;\">   0.227564 </td></tr>\n",
       "</tbody>\n",
       "</table><br><br>"
      ],
      "text/plain": [
       "<IPython.core.display.HTML object>"
      ]
     },
     "metadata": {},
     "output_type": "display_data"
    },
    {
     "name": "stderr",
     "output_type": "stream",
     "text": [
      "2021-08-31 09:46:24,838\tINFO tune.py:448 -- Total run time: 2785.89 seconds (2785.83 seconds for the tuning loop).\n"
     ]
    }
   ],
   "source": [
    "RAY_USE_MULTIPROCESSING_CPU_COUNT=1\n",
    "reporter = JupyterNotebookReporter(overwrite=True)\n",
    "reporter.add_metric_column(\"val_recall\")\n",
    "\n",
    "\n",
    "ray.shutdown()  # Restart Ray defensively in case the ray connection is lost. \n",
    "ray.init(log_to_driver=False)\n",
    "# We clean out the logs before running for a clean visualization later.\n",
    "! rm -rf ~/aiffel/000Projects/EX12/ray_results\n",
    "\n",
    "asha_scheduler = ASHAScheduler(\n",
    "    max_t=100,\n",
    "    grace_period=3,\n",
    "    reduction_factor=3,\n",
    "    brackets=1)\n",
    "\n",
    "\n",
    "analysis = ray.tune.run(\n",
    "    tune_model,\n",
    "    metric=\"val_recall\",\n",
    "    mode='max',\n",
    "    verbose=3, \n",
    "    config=hyperparameter_space,\n",
    "    num_samples=num_samples,\n",
    "    resources_per_trial={\"cpu\": 4, \"gpu\": 1},\n",
    "    progress_reporter=reporter,\n",
    "    local_dir=\"~/aiffel/000Projects/EX12/ray_results\",\n",
    "    scheduler=asha_scheduler\n",
    "    )\n",
    "\n",
    "assert len(analysis.trials) == num_samples, \"Did you set the correct number of samples?\""
   ]
  },
  {
   "cell_type": "code",
   "execution_count": 418,
   "id": "ideal-occupation",
   "metadata": {},
   "outputs": [
    {
     "data": {
      "text/plain": [
       "{'lr': 0.0012754522124088456,\n",
       " 'batch_size': 16,\n",
       " 'drop_rate': 0.12611316710848264,\n",
       " 'num_gpus': 1}"
      ]
     },
     "execution_count": 418,
     "metadata": {},
     "output_type": "execute_result"
    }
   ],
   "source": [
    "analysis.best_config"
   ]
  },
  {
   "cell_type": "markdown",
   "id": "liquid-winter",
   "metadata": {},
   "source": [
    "120가지 조합을 한 결과 얻은 최적의 하이퍼파라미터입니다.학습시켜보겠습니다."
   ]
  },
  {
   "cell_type": "code",
   "execution_count": 421,
   "id": "functioning-manor",
   "metadata": {},
   "outputs": [],
   "source": [
    "def train_model(model, args):\n",
    "    train_dataset = SessionDataset(args.tr)\n",
    "    train_loader = SessionDataLoader(train_dataset, batch_size=args.batch_size)\n",
    "\n",
    "    for epoch in range(1, args.epochs + 1):\n",
    "        total_step = len(args.tr) - args.tr['SessionId'].nunique()\n",
    "        tr_loader = tqdm(train_loader, total=total_step // args.batch_size, desc='Train', mininterval=1)\n",
    "        for feat, target, mask in tr_loader:\n",
    "            reset_hidden_states(model, mask)  # 종료된 session은 hidden_state를 초기화합니다. 아래 메서드에서 확인해주세요.\n",
    "\n",
    "            input_ohe = to_categorical(feat, num_classes=args.num_items)\n",
    "            input_ohe = np.expand_dims(input_ohe, axis=1)\n",
    "            target_ohe = to_categorical(target, num_classes=args.num_items)\n",
    "\n",
    "            result = model.train_on_batch(input_ohe, target_ohe)\n",
    "            tr_loader.set_postfix(train_loss=result[0], accuracy = result[1])\n",
    "\n",
    "        val_recall, val_mrr = get_metrics(args.val, model, args, args.k)  # valid set에 대해 검증합니다.\n",
    "        print(f\"\\t - Recall@{args.k} epoch {epoch}: {val_recall:3f}\")\n",
    "        print(f\"\\t - MRR@{args.k}    epoch {epoch}: {val_mrr:3f}\\n\")"
   ]
  },
  {
   "cell_type": "code",
   "execution_count": 424,
   "id": "exclusive-spotlight",
   "metadata": {},
   "outputs": [],
   "source": [
    "best_args = Args(tr, val, test, batch_size=16, hsz=50, drop_rate=0.12611316710848264,\\\n",
    "            lr=0.0012754522124088456, epochs=8, k=20)"
   ]
  },
  {
   "cell_type": "code",
   "execution_count": 425,
   "id": "gorgeous-flight",
   "metadata": {},
   "outputs": [
    {
     "name": "stderr",
     "output_type": "stream",
     "text": [
      "Train:   0%|          | 0/542 [00:00<?, ?it/s]"
     ]
    },
    {
     "name": "stdout",
     "output_type": "stream",
     "text": [
      "Model: \"model_12\"\n",
      "_________________________________________________________________\n",
      "Layer (type)                 Output Shape              Param #   \n",
      "=================================================================\n",
      "input_13 (InputLayer)        [(16, 1, 362)]            0         \n",
      "_________________________________________________________________\n",
      "GRU (GRU)                    [(16, 50), (16, 50)]      62100     \n",
      "_________________________________________________________________\n",
      "dropout_12 (Dropout)         (16, 50)                  0         \n",
      "_________________________________________________________________\n",
      "dense_12 (Dense)             (16, 362)                 18462     \n",
      "=================================================================\n",
      "Total params: 80,562\n",
      "Trainable params: 80,562\n",
      "Non-trainable params: 0\n",
      "_________________________________________________________________\n"
     ]
    },
    {
     "name": "stderr",
     "output_type": "stream",
     "text": [
      "Train:  98%|█████████▊| 532/542 [00:04<00:00, 112.01it/s, accuracy=0.0625, train_loss=5.8] \n",
      "Evaluation:  76%|███████▋  | 39/51 [00:05<00:01,  7.79it/s]\n",
      "Train:   0%|          | 0/542 [00:00<?, ?it/s, accuracy=0, train_loss=5.72]     "
     ]
    },
    {
     "name": "stdout",
     "output_type": "stream",
     "text": [
      "\t - Recall@20 epoch 1: 0.091346\n",
      "\t - MRR@20    epoch 1: 0.016013\n",
      "\n"
     ]
    },
    {
     "name": "stderr",
     "output_type": "stream",
     "text": [
      "Train:  98%|█████████▊| 532/542 [00:03<00:00, 149.03it/s, accuracy=0.0625, train_loss=5.74]\n",
      "Evaluation:  76%|███████▋  | 39/51 [00:04<00:01,  8.36it/s]\n",
      "Train:   0%|          | 0/542 [00:00<?, ?it/s, accuracy=0.0625, train_loss=5.77]"
     ]
    },
    {
     "name": "stdout",
     "output_type": "stream",
     "text": [
      "\t - Recall@20 epoch 2: 0.115385\n",
      "\t - MRR@20    epoch 2: 0.032200\n",
      "\n"
     ]
    },
    {
     "name": "stderr",
     "output_type": "stream",
     "text": [
      "Train:  98%|█████████▊| 532/542 [00:03<00:00, 151.60it/s, accuracy=0.0625, train_loss=5.52]\n",
      "Evaluation:  76%|███████▋  | 39/51 [00:04<00:01,  8.44it/s]\n",
      "Train:   0%|          | 0/542 [00:00<?, ?it/s, accuracy=0.0625, train_loss=5.18]"
     ]
    },
    {
     "name": "stdout",
     "output_type": "stream",
     "text": [
      "\t - Recall@20 epoch 3: 0.166667\n",
      "\t - MRR@20    epoch 3: 0.041933\n",
      "\n"
     ]
    },
    {
     "name": "stderr",
     "output_type": "stream",
     "text": [
      "Train:  98%|█████████▊| 532/542 [00:03<00:00, 150.32it/s, accuracy=0.0625, train_loss=5.23]\n",
      "Evaluation:  76%|███████▋  | 39/51 [00:04<00:01,  8.13it/s]\n",
      "Train:   0%|          | 0/542 [00:00<?, ?it/s, accuracy=0.188, train_loss=4.9]  "
     ]
    },
    {
     "name": "stdout",
     "output_type": "stream",
     "text": [
      "\t - Recall@20 epoch 4: 0.198718\n",
      "\t - MRR@20    epoch 4: 0.052643\n",
      "\n"
     ]
    },
    {
     "name": "stderr",
     "output_type": "stream",
     "text": [
      "Train:  98%|█████████▊| 532/542 [00:03<00:00, 147.80it/s, accuracy=0, train_loss=4.99]     \n",
      "Evaluation:  76%|███████▋  | 39/51 [00:04<00:01,  8.57it/s]\n",
      "Train:   0%|          | 0/542 [00:00<?, ?it/s, accuracy=0.125, train_loss=5.15] "
     ]
    },
    {
     "name": "stdout",
     "output_type": "stream",
     "text": [
      "\t - Recall@20 epoch 5: 0.205128\n",
      "\t - MRR@20    epoch 5: 0.056408\n",
      "\n"
     ]
    },
    {
     "name": "stderr",
     "output_type": "stream",
     "text": [
      "Train:  98%|█████████▊| 532/542 [00:03<00:00, 146.66it/s, accuracy=0, train_loss=4.87]     \n",
      "Evaluation:  76%|███████▋  | 39/51 [00:04<00:01,  8.53it/s]\n",
      "Train:   0%|          | 0/542 [00:00<?, ?it/s, accuracy=0.188, train_loss=4.33] "
     ]
    },
    {
     "name": "stdout",
     "output_type": "stream",
     "text": [
      "\t - Recall@20 epoch 6: 0.211538\n",
      "\t - MRR@20    epoch 6: 0.061279\n",
      "\n"
     ]
    },
    {
     "name": "stderr",
     "output_type": "stream",
     "text": [
      "Train:  98%|█████████▊| 532/542 [00:03<00:00, 148.12it/s, accuracy=0.0625, train_loss=4.71]\n",
      "Evaluation:  76%|███████▋  | 39/51 [00:04<00:01,  8.55it/s]\n",
      "Train:   0%|          | 0/542 [00:00<?, ?it/s, accuracy=0.0625, train_loss=4.71]"
     ]
    },
    {
     "name": "stdout",
     "output_type": "stream",
     "text": [
      "\t - Recall@20 epoch 7: 0.211538\n",
      "\t - MRR@20    epoch 7: 0.062015\n",
      "\n"
     ]
    },
    {
     "name": "stderr",
     "output_type": "stream",
     "text": [
      "Train:  98%|█████████▊| 532/542 [00:03<00:00, 148.87it/s, accuracy=0.0625, train_loss=4.73]\n",
      "Evaluation:  76%|███████▋  | 39/51 [00:04<00:01,  8.66it/s]"
     ]
    },
    {
     "name": "stdout",
     "output_type": "stream",
     "text": [
      "\t - Recall@20 epoch 8: 0.214744\n",
      "\t - MRR@20    epoch 8: 0.061703\n",
      "\n"
     ]
    },
    {
     "name": "stderr",
     "output_type": "stream",
     "text": [
      "\n"
     ]
    }
   ],
   "source": [
    "best_model = create_model(best_args)\n",
    "train_model(best_model,best_args)"
   ]
  },
  {
   "cell_type": "code",
   "execution_count": 426,
   "id": "valued-inflation",
   "metadata": {},
   "outputs": [
    {
     "name": "stderr",
     "output_type": "stream",
     "text": [
      "Evaluation:  78%|███████▊  | 38/49 [00:04<00:01,  8.93it/s]"
     ]
    },
    {
     "name": "stdout",
     "output_type": "stream",
     "text": [
      "\t - Recall@20: 0.268092\n",
      "\t - MRR@20: 0.089813\n",
      "\n"
     ]
    },
    {
     "name": "stderr",
     "output_type": "stream",
     "text": [
      "\n"
     ]
    }
   ],
   "source": [
    "test_model(best_model, best_args, test)"
   ]
  },
  {
   "cell_type": "markdown",
   "id": "hawaiian-curtis",
   "metadata": {},
   "source": [
    "## 최종 Recall@20: 0.268, 최종 MRR@20: 0.0898"
   ]
  },
  {
   "cell_type": "markdown",
   "id": "double-allergy",
   "metadata": {},
   "source": [
    "## 회고\n",
    "1️⃣ 잘한 점:\n",
    "\n",
    "세션 정의를 현실과 맞게 해서  잘 나누었다고 생각한다. 어떻게 좋은 평가지표를 받았는지 조원과 공유했다.\n",
    "\n",
    "2️⃣ 어려웠던 점:\n",
    "\n",
    "ray로 원하는 동작을 하게 만드는 것이 매우 어려웠다\n",
    "세션을 나눌 때, 엔지니어의 직관이 들어가는 것처럼 도메인 지식이 어느 영역에서든 매우 중요할 것 같은데,\n",
    "영화 리뷰나 온라인 쇼핑에 대해 아는 것이 없어 어려웠다.\n",
    "\n",
    "\n",
    "3️⃣ 느낀 점:\n",
    "\n",
    "이 평가 지표가 높으면 해당 세션의 정의에선 분명히 예측을 잘 한 것이다. 그러나, 실제 모델의 효과는  세션 정의를 어떻게 하냐에 따라 달라질 것이라고 생각한다."
   ]
  }
 ],
 "metadata": {
  "kernelspec": {
   "display_name": "Python 3",
   "language": "python",
   "name": "python3"
  },
  "language_info": {
   "codemirror_mode": {
    "name": "ipython",
    "version": 3
   },
   "file_extension": ".py",
   "mimetype": "text/x-python",
   "name": "python",
   "nbconvert_exporter": "python",
   "pygments_lexer": "ipython3",
   "version": "3.7.9"
  }
 },
 "nbformat": 4,
 "nbformat_minor": 5
}
