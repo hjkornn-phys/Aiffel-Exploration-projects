{
 "cells": [
  {
   "cell_type": "markdown",
   "id": "apparent-physics",
   "metadata": {},
   "source": [
    "# Exploration 10. News Summarization"
   ]
  },
  {
   "cell_type": "markdown",
   "id": "sensitive-color",
   "metadata": {},
   "source": [
    "### 텍스트 요약\n",
    "상대적으로 긴 문장으로 짧은 문장으로 변환하는 기법을 텍스트 요약이라고 합니다. Ex 10에서는 뉴스 요약을 해보겠습니다. \n",
    "\n",
    "텍스트 요약에는 두 가지 방법, Extractive Summarization, Abstractive Summarization이 있습니다. Extractive의 경우 가장 의미있는 문장을 원문 안에서 추출해 내는 방식이고, Abstractive는 원문을 요약하는 새로운 문장을 만들어내는 방식입니다.\n",
    "\n",
    "이 프로젝트에서는 원문과 그에 해당하는 요약문을 주고(지도학습) seq2seq와 Attention을 사용하여 원문 -> 요약문으로의 Abstractive Summarization을 실시하겠습니다. 이는 일반적인 번역과 매우 유사한 과정을 거치는 것입니다."
   ]
  },
  {
   "cell_type": "markdown",
   "id": "focal-burlington",
   "metadata": {},
   "source": [
    "## load data"
   ]
  },
  {
   "cell_type": "markdown",
   "id": "stylish-catch",
   "metadata": {},
   "source": [
    "전처리 및 모델 학습에 필요한 라이브러리를 import하고, Amazon 리뷰 데이터셋을 활용합니다."
   ]
  },
  {
   "cell_type": "code",
   "execution_count": 1,
   "id": "absolute-papua",
   "metadata": {},
   "outputs": [
    {
     "name": "stderr",
     "output_type": "stream",
     "text": [
      "[nltk_data] Downloading package stopwords to /aiffel/nltk_data...\n",
      "[nltk_data]   Package stopwords is already up-to-date!\n"
     ]
    },
    {
     "name": "stdout",
     "output_type": "stream",
     "text": [
      "Done\n"
     ]
    }
   ],
   "source": [
    "import nltk\n",
    "nltk.download('stopwords')\n",
    "\n",
    "import numpy as np\n",
    "import pandas as pd\n",
    "import os\n",
    "import re\n",
    "import matplotlib.pyplot as plt\n",
    "from nltk.corpus import stopwords\n",
    "from bs4 import BeautifulSoup \n",
    "from tensorflow.keras.preprocessing.text import Tokenizer \n",
    "from tensorflow.keras.preprocessing.sequence import pad_sequences\n",
    "import urllib.request\n",
    "\n",
    "print('Done')"
   ]
  },
  {
   "cell_type": "code",
   "execution_count": 2,
   "id": "accessory-joint",
   "metadata": {},
   "outputs": [],
   "source": [
    "import urllib.request\n",
    "urllib.request.urlretrieve(\"https://raw.githubusercontent.com/sunnysai12345/News_Summary/master/news_summary_more.csv\", filename=\"news_summary_more.csv\")\n",
    "data = pd.read_csv('news_summary_more.csv', encoding='iso-8859-1')"
   ]
  },
  {
   "cell_type": "code",
   "execution_count": 3,
   "id": "extreme-starter",
   "metadata": {},
   "outputs": [
    {
     "data": {
      "text/html": [
       "<div>\n",
       "<style scoped>\n",
       "    .dataframe tbody tr th:only-of-type {\n",
       "        vertical-align: middle;\n",
       "    }\n",
       "\n",
       "    .dataframe tbody tr th {\n",
       "        vertical-align: top;\n",
       "    }\n",
       "\n",
       "    .dataframe thead th {\n",
       "        text-align: right;\n",
       "    }\n",
       "</style>\n",
       "<table border=\"1\" class=\"dataframe\">\n",
       "  <thead>\n",
       "    <tr style=\"text-align: right;\">\n",
       "      <th></th>\n",
       "      <th>headlines</th>\n",
       "      <th>text</th>\n",
       "    </tr>\n",
       "  </thead>\n",
       "  <tbody>\n",
       "    <tr>\n",
       "      <th>0</th>\n",
       "      <td>upGrad learner switches to career in ML &amp; Al w...</td>\n",
       "      <td>Saurav Kant, an alumnus of upGrad and IIIT-B's...</td>\n",
       "    </tr>\n",
       "    <tr>\n",
       "      <th>1</th>\n",
       "      <td>Delhi techie wins free food from Swiggy for on...</td>\n",
       "      <td>Kunal Shah's credit card bill payment platform...</td>\n",
       "    </tr>\n",
       "    <tr>\n",
       "      <th>2</th>\n",
       "      <td>New Zealand end Rohit Sharma-led India's 12-ma...</td>\n",
       "      <td>New Zealand defeated India by 8 wickets in the...</td>\n",
       "    </tr>\n",
       "    <tr>\n",
       "      <th>3</th>\n",
       "      <td>Aegon life iTerm insurance plan helps customer...</td>\n",
       "      <td>With Aegon Life iTerm Insurance plan, customer...</td>\n",
       "    </tr>\n",
       "    <tr>\n",
       "      <th>4</th>\n",
       "      <td>Have known Hirani for yrs, what if MeToo claim...</td>\n",
       "      <td>Speaking about the sexual harassment allegatio...</td>\n",
       "    </tr>\n",
       "  </tbody>\n",
       "</table>\n",
       "</div>"
      ],
      "text/plain": [
       "                                           headlines  \\\n",
       "0  upGrad learner switches to career in ML & Al w...   \n",
       "1  Delhi techie wins free food from Swiggy for on...   \n",
       "2  New Zealand end Rohit Sharma-led India's 12-ma...   \n",
       "3  Aegon life iTerm insurance plan helps customer...   \n",
       "4  Have known Hirani for yrs, what if MeToo claim...   \n",
       "\n",
       "                                                text  \n",
       "0  Saurav Kant, an alumnus of upGrad and IIIT-B's...  \n",
       "1  Kunal Shah's credit card bill payment platform...  \n",
       "2  New Zealand defeated India by 8 wickets in the...  \n",
       "3  With Aegon Life iTerm Insurance plan, customer...  \n",
       "4  Speaking about the sexual harassment allegatio...  "
      ]
     },
     "execution_count": 3,
     "metadata": {},
     "output_type": "execute_result"
    }
   ],
   "source": [
    "data.head()"
   ]
  },
  {
   "cell_type": "markdown",
   "id": "moving-warrior",
   "metadata": {},
   "source": [
    "모델이 text를 입력받아 context vector를 만들어내고, 출력단이 context vector를 통해 headlines와 가까운 문장을 만들어내는 것이 목표입니다. "
   ]
  },
  {
   "cell_type": "code",
   "execution_count": 4,
   "id": "gorgeous-harmony",
   "metadata": {},
   "outputs": [
    {
     "data": {
      "text/html": [
       "<div>\n",
       "<style scoped>\n",
       "    .dataframe tbody tr th:only-of-type {\n",
       "        vertical-align: middle;\n",
       "    }\n",
       "\n",
       "    .dataframe tbody tr th {\n",
       "        vertical-align: top;\n",
       "    }\n",
       "\n",
       "    .dataframe thead th {\n",
       "        text-align: right;\n",
       "    }\n",
       "</style>\n",
       "<table border=\"1\" class=\"dataframe\">\n",
       "  <thead>\n",
       "    <tr style=\"text-align: right;\">\n",
       "      <th></th>\n",
       "      <th>text</th>\n",
       "      <th>headlines</th>\n",
       "    </tr>\n",
       "  </thead>\n",
       "  <tbody>\n",
       "    <tr>\n",
       "      <th>3867</th>\n",
       "      <td>A Thai man who felt neglected by his in-laws s...</td>\n",
       "      <td>Thai man shoots 6 family members, kills himsel...</td>\n",
       "    </tr>\n",
       "    <tr>\n",
       "      <th>49919</th>\n",
       "      <td>The Centre has proposed the adoption of the 'S...</td>\n",
       "      <td>Govt proposes 'Singapore Model' to counter rad...</td>\n",
       "    </tr>\n",
       "    <tr>\n",
       "      <th>95960</th>\n",
       "      <td>MPs played football in Parliament on Wednesday...</td>\n",
       "      <td>MPs play football in Parliament to promote U-1...</td>\n",
       "    </tr>\n",
       "    <tr>\n",
       "      <th>75807</th>\n",
       "      <td>Around 30 children being treated for encephali...</td>\n",
       "      <td>30 children die in 48 hours in UP hospital</td>\n",
       "    </tr>\n",
       "    <tr>\n",
       "      <th>32643</th>\n",
       "      <td>The European Union on Thursday launched 'Disco...</td>\n",
       "      <td>European Union invites 15,000 teens to travel ...</td>\n",
       "    </tr>\n",
       "    <tr>\n",
       "      <th>27746</th>\n",
       "      <td>After a video of his son thrashing a man circu...</td>\n",
       "      <td>Don't make mountain out of molehill: MLA on so...</td>\n",
       "    </tr>\n",
       "    <tr>\n",
       "      <th>14035</th>\n",
       "      <td>China's largest oil and gas producer PetroChin...</td>\n",
       "      <td>PetroChina plans to open first India office in...</td>\n",
       "    </tr>\n",
       "    <tr>\n",
       "      <th>34118</th>\n",
       "      <td>The Delhi HC has said Airtel's advertisements,...</td>\n",
       "      <td>Airtel disclaimer in IPL ad campaign 'not in b...</td>\n",
       "    </tr>\n",
       "    <tr>\n",
       "      <th>75297</th>\n",
       "      <td>After a large majority of its population voted...</td>\n",
       "      <td>Sikkim was not part of India for 28 years afte...</td>\n",
       "    </tr>\n",
       "    <tr>\n",
       "      <th>86099</th>\n",
       "      <td>A Toronto couple has accused Uber's delivery s...</td>\n",
       "      <td>Uber accused of sending couple mouldy, half-ea...</td>\n",
       "    </tr>\n",
       "  </tbody>\n",
       "</table>\n",
       "</div>"
      ],
      "text/plain": [
       "                                                    text  \\\n",
       "3867   A Thai man who felt neglected by his in-laws s...   \n",
       "49919  The Centre has proposed the adoption of the 'S...   \n",
       "95960  MPs played football in Parliament on Wednesday...   \n",
       "75807  Around 30 children being treated for encephali...   \n",
       "32643  The European Union on Thursday launched 'Disco...   \n",
       "27746  After a video of his son thrashing a man circu...   \n",
       "14035  China's largest oil and gas producer PetroChin...   \n",
       "34118  The Delhi HC has said Airtel's advertisements,...   \n",
       "75297  After a large majority of its population voted...   \n",
       "86099  A Toronto couple has accused Uber's delivery s...   \n",
       "\n",
       "                                               headlines  \n",
       "3867   Thai man shoots 6 family members, kills himsel...  \n",
       "49919  Govt proposes 'Singapore Model' to counter rad...  \n",
       "95960  MPs play football in Parliament to promote U-1...  \n",
       "75807         30 children die in 48 hours in UP hospital  \n",
       "32643  European Union invites 15,000 teens to travel ...  \n",
       "27746  Don't make mountain out of molehill: MLA on so...  \n",
       "14035  PetroChina plans to open first India office in...  \n",
       "34118  Airtel disclaimer in IPL ad campaign 'not in b...  \n",
       "75297  Sikkim was not part of India for 28 years afte...  \n",
       "86099  Uber accused of sending couple mouldy, half-ea...  "
      ]
     },
     "execution_count": 4,
     "metadata": {},
     "output_type": "execute_result"
    }
   ],
   "source": [
    "data = data[['text', 'headlines']]\n",
    "data.sample(10)"
   ]
  },
  {
   "cell_type": "code",
   "execution_count": 5,
   "id": "drawn-grenada",
   "metadata": {},
   "outputs": [],
   "source": [
    "data.rename(columns = {'text': 'Text', 'headlines': 'Summary'}, inplace = True)"
   ]
  },
  {
   "cell_type": "markdown",
   "id": "focal-brake",
   "metadata": {},
   "source": [
    "## preprocess data (1)"
   ]
  },
  {
   "cell_type": "code",
   "execution_count": 6,
   "id": "under-dining",
   "metadata": {},
   "outputs": [
    {
     "name": "stdout",
     "output_type": "stream",
     "text": [
      "전체 샘플수 : 98360\n"
     ]
    }
   ],
   "source": [
    "# Text의 중복을 제거합니다.\n",
    "data.drop_duplicates(subset = ['Text'], inplace=True)\n",
    "print('전체 샘플수 :', (len(data)))"
   ]
  },
  {
   "cell_type": "code",
   "execution_count": 7,
   "id": "virtual-apache",
   "metadata": {},
   "outputs": [
    {
     "name": "stdout",
     "output_type": "stream",
     "text": [
      "Text       0\n",
      "Summary    0\n",
      "dtype: int64\n"
     ]
    }
   ],
   "source": [
    "# 결측치를 확인합니다.\n",
    "print(data.isnull().sum())"
   ]
  },
  {
   "cell_type": "code",
   "execution_count": 8,
   "id": "magnetic-plumbing",
   "metadata": {},
   "outputs": [
    {
     "name": "stdout",
     "output_type": "stream",
     "text": [
      "전체 샘플수 : 98360\n"
     ]
    }
   ],
   "source": [
    "# 결측치를 제거합니다.\n",
    "data.dropna(axis=0, inplace=True)\n",
    "print('전체 샘플수 :', (len(data)))"
   ]
  },
  {
   "cell_type": "markdown",
   "id": "sorted-baseline",
   "metadata": {},
   "source": [
    "## preprocess data (2)"
   ]
  },
  {
   "cell_type": "markdown",
   "id": "personalized-savings",
   "metadata": {},
   "source": [
    "자연어 데이터의 문제를 완화하는 전처리를 시도합니다. \"you're\"과  \"you are \"은 같은 말이고, \"너는\"과 \"넌\" 역시 같은 말입니다. 또한, '.........'과 '...............' 을 서로 다른 단어으로 생각할 것인지, '.'라는 단어가 여러 개 나열 된 것은 동일하지만 그 개수에서 차이를 보인다고 생각할 것인지에 대해 명확한 규정이 존재하지 않으므로,\n",
    "어떤 판단기준으로 단어를 선정할 것인지는 엔지니어에 달려 있습니다. \n",
    "모델이 학습할 때 혼란을 덜어줄 것 같은 전처리를 직관적이지만, 가장 효율적인지 알 수 없는(hueristic) 방법으로 진행하겠습니다."
   ]
  },
  {
   "cell_type": "markdown",
   "id": "revolutionary-leadership",
   "metadata": {},
   "source": [
    "[Hueristic - Wikipedia](https://en.wikipedia.org/wiki/Heuristic)"
   ]
  },
  {
   "cell_type": "code",
   "execution_count": 9,
   "id": "discrete-leonard",
   "metadata": {},
   "outputs": [
    {
     "name": "stdout",
     "output_type": "stream",
     "text": [
      "정규화 사전의 수:  120\n"
     ]
    }
   ],
   "source": [
    "# 정규화 사전 - 축약어를 분해할 때 사용합니다\n",
    "contractions = {\"ain't\": \"is not\", \"aren't\": \"are not\",\"can't\": \"cannot\", \"'cause\": \"because\", \"could've\": \"could have\", \"couldn't\": \"could not\",\n",
    "                           \"didn't\": \"did not\",  \"doesn't\": \"does not\", \"don't\": \"do not\", \"hadn't\": \"had not\", \"hasn't\": \"has not\", \"haven't\": \"have not\",\n",
    "                           \"he'd\": \"he would\",\"he'll\": \"he will\", \"he's\": \"he is\", \"how'd\": \"how did\", \"how'd'y\": \"how do you\", \"how'll\": \"how will\", \"how's\": \"how is\",\n",
    "                           \"I'd\": \"I would\", \"I'd've\": \"I would have\", \"I'll\": \"I will\", \"I'll've\": \"I will have\",\"I'm\": \"I am\", \"I've\": \"I have\", \"i'd\": \"i would\",\n",
    "                           \"i'd've\": \"i would have\", \"i'll\": \"i will\",  \"i'll've\": \"i will have\",\"i'm\": \"i am\", \"i've\": \"i have\", \"isn't\": \"is not\", \"it'd\": \"it would\",\n",
    "                           \"it'd've\": \"it would have\", \"it'll\": \"it will\", \"it'll've\": \"it will have\",\"it's\": \"it is\", \"let's\": \"let us\", \"ma'am\": \"madam\",\n",
    "                           \"mayn't\": \"may not\", \"might've\": \"might have\",\"mightn't\": \"might not\",\"mightn't've\": \"might not have\", \"must've\": \"must have\",\n",
    "                           \"mustn't\": \"must not\", \"mustn't've\": \"must not have\", \"needn't\": \"need not\", \"needn't've\": \"need not have\",\"o'clock\": \"of the clock\",\n",
    "                           \"oughtn't\": \"ought not\", \"oughtn't've\": \"ought not have\", \"shan't\": \"shall not\", \"sha'n't\": \"shall not\", \"shan't've\": \"shall not have\",\n",
    "                           \"she'd\": \"she would\", \"she'd've\": \"she would have\", \"she'll\": \"she will\", \"she'll've\": \"she will have\", \"she's\": \"she is\",\n",
    "                           \"should've\": \"should have\", \"shouldn't\": \"should not\", \"shouldn't've\": \"should not have\", \"so've\": \"so have\",\"so's\": \"so as\",\n",
    "                           \"this's\": \"this is\",\"that'd\": \"that would\", \"that'd've\": \"that would have\", \"that's\": \"that is\", \"there'd\": \"there would\",\n",
    "                           \"there'd've\": \"there would have\", \"there's\": \"there is\", \"here's\": \"here is\",\"they'd\": \"they would\", \"they'd've\": \"they would have\",\n",
    "                           \"they'll\": \"they will\", \"they'll've\": \"they will have\", \"they're\": \"they are\", \"they've\": \"they have\", \"to've\": \"to have\",\n",
    "                           \"wasn't\": \"was not\", \"we'd\": \"we would\", \"we'd've\": \"we would have\", \"we'll\": \"we will\", \"we'll've\": \"we will have\", \"we're\": \"we are\",\n",
    "                           \"we've\": \"we have\", \"weren't\": \"were not\", \"what'll\": \"what will\", \"what'll've\": \"what will have\", \"what're\": \"what are\",\n",
    "                           \"what's\": \"what is\", \"what've\": \"what have\", \"when's\": \"when is\", \"when've\": \"when have\", \"where'd\": \"where did\", \"where's\": \"where is\",\n",
    "                           \"where've\": \"where have\", \"who'll\": \"who will\", \"who'll've\": \"who will have\", \"who's\": \"who is\", \"who've\": \"who have\",\n",
    "                           \"why's\": \"why is\", \"why've\": \"why have\", \"will've\": \"will have\", \"won't\": \"will not\", \"won't've\": \"will not have\",\n",
    "                           \"would've\": \"would have\", \"wouldn't\": \"would not\", \"wouldn't've\": \"would not have\", \"y'all\": \"you all\",\n",
    "                           \"y'all'd\": \"you all would\",\"y'all'd've\": \"you all would have\",\"y'all're\": \"you all are\",\"y'all've\": \"you all have\",\n",
    "                           \"you'd\": \"you would\", \"you'd've\": \"you would have\", \"you'll\": \"you will\", \"you'll've\": \"you will have\",\n",
    "                           \"you're\": \"you are\", \"you've\": \"you have\"}\n",
    "\n",
    "print(\"정규화 사전의 수: \", len(contractions))"
   ]
  },
  {
   "cell_type": "code",
   "execution_count": 10,
   "id": "hidden-maximum",
   "metadata": {},
   "outputs": [
    {
     "name": "stdout",
     "output_type": "stream",
     "text": [
      "불용어 개수 : 179\n",
      "['i', 'me', 'my', 'myself', 'we', 'our', 'ours', 'ourselves', 'you', \"you're\", \"you've\", \"you'll\", \"you'd\", 'your', 'yours', 'yourself', 'yourselves', 'he', 'him', 'his', 'himself', 'she', \"she's\", 'her', 'hers', 'herself', 'it', \"it's\", 'its', 'itself', 'they', 'them', 'their', 'theirs', 'themselves', 'what', 'which', 'who', 'whom', 'this', 'that', \"that'll\", 'these', 'those', 'am', 'is', 'are', 'was', 'were', 'be', 'been', 'being', 'have', 'has', 'had', 'having', 'do', 'does', 'did', 'doing', 'a', 'an', 'the', 'and', 'but', 'if', 'or', 'because', 'as', 'until', 'while', 'of', 'at', 'by', 'for', 'with', 'about', 'against', 'between', 'into', 'through', 'during', 'before', 'after', 'above', 'below', 'to', 'from', 'up', 'down', 'in', 'out', 'on', 'off', 'over', 'under', 'again', 'further', 'then', 'once', 'here', 'there', 'when', 'where', 'why', 'how', 'all', 'any', 'both', 'each', 'few', 'more', 'most', 'other', 'some', 'such', 'no', 'nor', 'not', 'only', 'own', 'same', 'so', 'than', 'too', 'very', 's', 't', 'can', 'will', 'just', 'don', \"don't\", 'should', \"should've\", 'now', 'd', 'll', 'm', 'o', 're', 've', 'y', 'ain', 'aren', \"aren't\", 'couldn', \"couldn't\", 'didn', \"didn't\", 'doesn', \"doesn't\", 'hadn', \"hadn't\", 'hasn', \"hasn't\", 'haven', \"haven't\", 'isn', \"isn't\", 'ma', 'mightn', \"mightn't\", 'mustn', \"mustn't\", 'needn', \"needn't\", 'shan', \"shan't\", 'shouldn', \"shouldn't\", 'wasn', \"wasn't\", 'weren', \"weren't\", 'won', \"won't\", 'wouldn', \"wouldn't\"]\n"
     ]
    }
   ],
   "source": [
    "# 불용어 사전 - 문맥과 무관하게 자주 나와 context vector에 담겨있는 정보를 희석할 \n",
    "#               염려가 있는 단어는 사용하지 않도록 합니다.\n",
    " \n",
    "print('불용어 개수 :', len(stopwords.words('english') ))\n",
    "print(stopwords.words('english'))"
   ]
  },
  {
   "cell_type": "markdown",
   "id": "cross-shuttle",
   "metadata": {},
   "source": [
    "불용어 사전에서 의문이 드는 점은, 부정어(no, not, nor, but)등도 포함되어 있다는 점인데, 이들은 사용하도록 하겠습니다. 또한, 뉴스에서 의미를 파악하는데 중요할 것 같은 단어도 사용하도록 하겠습니다"
   ]
  },
  {
   "cell_type": "code",
   "execution_count": 11,
   "id": "naughty-arbor",
   "metadata": {},
   "outputs": [],
   "source": [
    "selection = ['but', 'no', 'not', 'nor', 'only', 'while', 'before', 'after', 'under', \\\n",
    "            'again', 'further']\n",
    "\n",
    "my_stopwords = list(\n",
    "                    filter(lambda word: word not in selection,\n",
    "                        stopwords.words('english')\n",
    "                        )\n",
    "                    )"
   ]
  },
  {
   "cell_type": "code",
   "execution_count": 12,
   "id": "chief-playing",
   "metadata": {},
   "outputs": [
    {
     "name": "stdout",
     "output_type": "stream",
     "text": [
      "사용자화 불용어 개수:  168\n",
      "['i', 'me', 'my', 'myself', 'we', 'our', 'ours', 'ourselves', 'you', \"you're\", \"you've\", \"you'll\", \"you'd\", 'your', 'yours', 'yourself', 'yourselves', 'he', 'him', 'his', 'himself', 'she', \"she's\", 'her', 'hers', 'herself', 'it', \"it's\", 'its', 'itself', 'they', 'them', 'their', 'theirs', 'themselves', 'what', 'which', 'who', 'whom', 'this', 'that', \"that'll\", 'these', 'those', 'am', 'is', 'are', 'was', 'were', 'be', 'been', 'being', 'have', 'has', 'had', 'having', 'do', 'does', 'did', 'doing', 'a', 'an', 'the', 'and', 'if', 'or', 'because', 'as', 'until', 'of', 'at', 'by', 'for', 'with', 'about', 'against', 'between', 'into', 'through', 'during', 'above', 'below', 'to', 'from', 'up', 'down', 'in', 'out', 'on', 'off', 'over', 'then', 'once', 'here', 'there', 'when', 'where', 'why', 'how', 'all', 'any', 'both', 'each', 'few', 'more', 'most', 'other', 'some', 'such', 'own', 'same', 'so', 'than', 'too', 'very', 's', 't', 'can', 'will', 'just', 'don', \"don't\", 'should', \"should've\", 'now', 'd', 'll', 'm', 'o', 're', 've', 'y', 'ain', 'aren', \"aren't\", 'couldn', \"couldn't\", 'didn', \"didn't\", 'doesn', \"doesn't\", 'hadn', \"hadn't\", 'hasn', \"hasn't\", 'haven', \"haven't\", 'isn', \"isn't\", 'ma', 'mightn', \"mightn't\", 'mustn', \"mustn't\", 'needn', \"needn't\", 'shan', \"shan't\", 'shouldn', \"shouldn't\", 'wasn', \"wasn't\", 'weren', \"weren't\", 'won', \"won't\", 'wouldn', \"wouldn't\"]\n"
     ]
    }
   ],
   "source": [
    "print('사용자화 불용어 개수: ', len(my_stopwords))\n",
    "print(my_stopwords)"
   ]
  },
  {
   "cell_type": "markdown",
   "id": "helpful-leather",
   "metadata": {},
   "source": [
    "정규표현식과 불용어 사전을 이용해 전처리를 진행합니다"
   ]
  },
  {
   "cell_type": "code",
   "execution_count": 206,
   "id": "understanding-arthritis",
   "metadata": {},
   "outputs": [],
   "source": [
    "def preprocess_sentence(sentence, remove_stopwords=True):\n",
    "    sentence = sentence.lower() # 텍스트 소문자화\n",
    "    sentence = BeautifulSoup(sentence, \"lxml\").text # <br />, <a href = ...> 등의 html 태그 제거\n",
    "    sentence = re.sub(r'\\([^)]*\\)', '', sentence) # 괄호로 닫힌 문자열 (...) 제거 Ex) my husband (and myself!) for => my husband for\n",
    "    sentence = re.sub('\"','', sentence) # 쌍따옴표 \" 제거\n",
    "    sentence = ' '.join([contractions[t] if t in contractions else t for t in sentence.split(\" \")]) # 약어 정규화\n",
    "    sentence = re.sub(r\"'s\\b\",\"\", sentence) # 소유격 제거. Ex) roland's -> roland\n",
    "    sentence = re.sub(r\"[^a-zA-Z!?.]+\", \" \", sentence) # 영어 외 문자(숫자, 규격 외 특수문자 등) 공백으로 변환\n",
    "    \n",
    "    sentence = re.sub('[m]{3,}', 'm', sentence)  # Ex) ummmmmmm yeah -> um mm yeah\n",
    "    sentence = re.sub('[o]{3,}', 'o', sentence)\n",
    "    \n",
    "    ####\n",
    "    sentence = re.sub(r'[!]{1,}', r' !! ', sentence)\n",
    "    sentence = re.sub(r'[?]{1,}', r' ?? ', sentence)\n",
    "    sentence = re.sub(r'[.]{1,}', r\" .. \", sentence)\n",
    "    \n",
    "    \n",
    "\n",
    "    sentence = re.sub(r'[\" \"]+', r' ', sentence)\n",
    "    \n",
    "\n",
    "    ####\n",
    "    \n",
    "    # 불용어 제거 (Text)\n",
    "    if remove_stopwords:\n",
    "        tokens = ' '.join(word for word in sentence.split() if not word in my_stopwords if len(word) > 1)\n",
    "    # 불용어 미제거 (Summary)\n",
    "    else:\n",
    "        tokens = ' '.join(word for word in sentence.split() if len(word) > 1)\n",
    "    return tokens"
   ]
  },
  {
   "cell_type": "code",
   "execution_count": 14,
   "id": "searching-wayne",
   "metadata": {},
   "outputs": [
    {
     "data": {
      "text/plain": [
       "'hello .. !! .. name ?? not good ??'"
      ]
     },
     "execution_count": 14,
     "metadata": {},
     "output_type": "execute_result"
    }
   ],
   "source": [
    "preprocess_sentence(\"Helloooooo, ....!........what's your name??????????????  not so good?\")"
   ]
  },
  {
   "cell_type": "code",
   "execution_count": 15,
   "id": "rocky-temperature",
   "metadata": {},
   "outputs": [
    {
     "name": "stdout",
     "output_type": "stream",
     "text": [
      "everything bought great infact ordered twice third ordered wasfor mother father ..\n",
      "great way to start the day !!\n"
     ]
    }
   ],
   "source": [
    "temp_text = 'Everything I bought was great, infact I ordered twice and the third ordered was<br />for my mother and father.'\n",
    "temp_summary = 'Great way to start (or finish) the day!!!'\n",
    "\n",
    "print(preprocess_sentence(temp_text))\n",
    "print(preprocess_sentence(temp_summary, False))  # 불용어를 제거하지 않습니다."
   ]
  },
  {
   "cell_type": "markdown",
   "id": "military-perception",
   "metadata": {},
   "source": [
    "multiprocessing을 이용하여 전체 문장을 전처리합니다"
   ]
  },
  {
   "cell_type": "code",
   "execution_count": 16,
   "id": "civilian-family",
   "metadata": {},
   "outputs": [
    {
     "name": "stdout",
     "output_type": "stream",
     "text": [
      "10.102557182312012  seconds\n",
      "['saurav kant alumnus upgrad iiit pg program machine learning artificial intelligence sr systems engineer infosys almost years work experience .. program upgrad degree career support helped transition data scientist tech mahindra salary hike .. upgrad online power learning powered lakh careers ..'\n",
      " 'kunal shah credit card bill payment platform cred gave users chance win free food swiggy one year .. pranav kaushik delhi techie bagged reward after spending cred coins .. users get one cred coin per rupee bill paid used avail rewards brands like ixigo bookmyshow ubereats cult .. fit ..'\n",
      " 'new zealand defeated india wickets fourth odi hamilton thursday win first match five match odi series .. india lost international match under rohit sharma captaincy after consecutive victories dating back march .. match witnessed india getting seventh lowest total odi cricket history ..'\n",
      " ...\n",
      " 'according reports new version science fiction film matrix development .. michael jordan reportedly play lead role film .. screenwriter zak penn talks write script film reports added .. actor keanu reeves starred original film followed two sequels ..'\n",
      " 'new music video shows rapper snoop dogg aiming toy gun clown character parodying us president donald trump .. video also shows tv airing news conference headline ronald klump wants deport doggs airing live clown house .. video remixed version song lavender ..'\n",
      " 'madhesi morcha alliance seven political parties withdrawn support pm pushpa kamal dahal led nepal government after failed meet seven day ultimatum fulfil demands including endorsement revised constitution amendment bill .. morcha seats parliament but despite withdrawal support no immediate threat government ..']\n",
      "6.182835340499878  seconds\n",
      "['upgrad learner switches to career in ml al with salary hike'\n",
      " 'delhi techie wins free food from swiggy for one year on cred'\n",
      " 'new zealand end rohit sharma led india match winning streak' ...\n",
      " 'the matrix film to get reboot reports'\n",
      " 'snoop dogg aims gun at clown dressed as trump in new video'\n",
      " 'madhesi morcha withdraws support to nepalese government']\n"
     ]
    }
   ],
   "source": [
    "import multiprocessing as mp   # 멀티 프로세싱으로 전처리 속도를 획기적으로 줄여봅시다\n",
    "from multiprocessing import Pool\n",
    "import numpy as np\n",
    "import time\n",
    "from functools import partial  # map을 할 때 함수에 여러 인자를 넣어줄 수 있도록 합니다\n",
    "\n",
    "start = time.time()\n",
    "\n",
    "# num_cores 만큼 쪼개진 데이터를 전처리하여 반환합니다\n",
    "def appendTexts(sentences, remove_stopwords):\n",
    "    texts = []\n",
    "    for s in sentences:\n",
    "        texts += preprocess_sentence(s, remove_stopwords),\n",
    "    return texts\n",
    "\n",
    "def preprocess_data(data, remove_stopwords=True):\n",
    "    start_time = time.time()\n",
    "    num_cores = mp.cpu_count()  # 컴퓨터의 코어 수를 구합니다\n",
    "\n",
    "    text_data_split = np.array_split(data, num_cores)  # 코어 수만큼 데이터를 배분하여 병렬적으로 처리할 수 있게 합니다\n",
    "    pool = Pool(num_cores)\n",
    "\n",
    "    processed_data = np.concatenate(pool.map(partial(appendTexts, remove_stopwords=remove_stopwords), text_data_split))  # 각자 작업한 데이터를 하나로 합쳐줍니다\n",
    "    pool.close()\n",
    "    pool.join()\n",
    "    print(time.time() - start_time, \" seconds\")\n",
    "    return processed_data\n",
    "\n",
    "clean_text = preprocess_data(data['Text'])  # 클라우드 기준으로 3~4분 정도 소요 됩니다\n",
    "print(clean_text)\n",
    "\n",
    "clean_summary = preprocess_data(data['Summary'], remove_stopwords=False) # 클라우드 기준 1분정도 소요됩니다.\n",
    "print(clean_summary)"
   ]
  },
  {
   "cell_type": "code",
   "execution_count": 17,
   "id": "rocky-abraham",
   "metadata": {},
   "outputs": [],
   "source": [
    "#DataFrame으로 저장합니다\n",
    "data['Text'] = clean_text\n",
    "data['Summary'] = clean_summary\n",
    "\n",
    "# 빈 값을 Null 값으로 변환\n",
    "data.replace('', np.nan, inplace=True)"
   ]
  },
  {
   "cell_type": "code",
   "execution_count": 18,
   "id": "exclusive-klein",
   "metadata": {},
   "outputs": [
    {
     "data": {
      "text/plain": [
       "Text       0\n",
       "Summary    0\n",
       "dtype: int64"
      ]
     },
     "execution_count": 18,
     "metadata": {},
     "output_type": "execute_result"
    }
   ],
   "source": [
    "# 결측치 확인 74개의 빈 summary 확인되었습니다\n",
    "data.isnull().sum()"
   ]
  },
  {
   "cell_type": "code",
   "execution_count": 88,
   "id": "global-delay",
   "metadata": {},
   "outputs": [
    {
     "name": "stdout",
     "output_type": "stream",
     "text": [
      "전체 샘플수 : 93154\n"
     ]
    },
    {
     "name": "stderr",
     "output_type": "stream",
     "text": [
      "/opt/conda/lib/python3.7/site-packages/ipykernel_launcher.py:2: SettingWithCopyWarning: \n",
      "A value is trying to be set on a copy of a slice from a DataFrame\n",
      "\n",
      "See the caveats in the documentation: https://pandas.pydata.org/pandas-docs/stable/user_guide/indexing.html#returning-a-view-versus-a-copy\n",
      "  \n"
     ]
    }
   ],
   "source": [
    "# 결측치 제거\n",
    "data.dropna(axis=0, inplace=True)\n",
    "print('전체 샘플수 :', (len(data)))"
   ]
  },
  {
   "cell_type": "markdown",
   "id": "incorporated-graduation",
   "metadata": {},
   "source": [
    "자연어 관련 전처리가 완료되었습니다"
   ]
  },
  {
   "cell_type": "markdown",
   "id": "controlling-england",
   "metadata": {},
   "source": [
    "## preprocess data (3)"
   ]
  },
  {
   "cell_type": "markdown",
   "id": "indoor-hello",
   "metadata": {},
   "source": [
    "인공지능 모델에게 이 데이터를 먹이려면, 자연어 형태가 아닌 정수로 이루어진 numpy ndarray 형태로 바꾸어 주어야 합니다. ndarray는 모든 행의 차원(길이)가 같아야 하므로, 긴 문장이든 짧은 문장이든 특정한 길이로 바꿔주어야 합니다. 이때,  긴 문장의 경우 제외를 할 수도 있고, 앞이나 뒤를 잘라 특정 길이로 바꿔 줄 수도 있습니다. 짧은 문장의 경우에도, 제외를 하거나 앞 뒤에 의미없는 표시(padding)을 넣어줍니다\n",
    "\n",
    "단어로 분해 후에는 각 단어를 출현 빈도순으로 정리하여 {단어: 출현 빈도 순위} 인 딕셔너리와 {출현 빈도 순위: 단어}인 딕셔너리를 만듭니다. 이때 출현한 모든 단어를 저장하는 대신, '사전'의 길이를 조정합니다. 이를 통해서 분해된 문장을 정수로 인코딩할 수 있습니다."
   ]
  },
  {
   "cell_type": "code",
   "execution_count": 20,
   "id": "interior-mineral",
   "metadata": {},
   "outputs": [
    {
     "name": "stdout",
     "output_type": "stream",
     "text": [
      "텍스트의 최소 길이 : 1\n",
      "텍스트의 최대 길이 : 67\n",
      "텍스트의 평균 길이 : 39.22306832045547\n",
      "요약의 최소 길이 : 1\n",
      "요약의 최대 길이 : 16\n",
      "요약의 평균 길이 : 9.340270435136235\n"
     ]
    },
    {
     "data": {
      "image/png": "[encoded data removed]",
      "text/plain": [
       "<Figure size 432x288 with 2 Axes>"
      ]
     },
     "metadata": {
      "needs_background": "light"
     },
     "output_type": "display_data"
    },
    {
     "data": {
      "image/png": "[encoded data removed]",
      "text/plain": [
       "<Figure size 432x288 with 1 Axes>"
      ]
     },
     "metadata": {
      "needs_background": "light"
     },
     "output_type": "display_data"
    },
    {
     "data": {
      "image/png": "[encoded data removed]",
      "text/plain": [
       "<Figure size 432x288 with 1 Axes>"
      ]
     },
     "metadata": {
      "needs_background": "light"
     },
     "output_type": "display_data"
    }
   ],
   "source": [
    "# 길이 분포 출력\n",
    "import matplotlib.pyplot as plt\n",
    "\n",
    "text_len = [len(s.split()) for s in data['Text']]\n",
    "summary_len = [len(s.split()) for s in data['Summary']]\n",
    "\n",
    "print('텍스트의 최소 길이 : {}'.format(np.min(text_len)))\n",
    "print('텍스트의 최대 길이 : {}'.format(np.max(text_len)))\n",
    "print('텍스트의 평균 길이 : {}'.format(np.mean(text_len)))\n",
    "print('요약의 최소 길이 : {}'.format(np.min(summary_len)))\n",
    "print('요약의 최대 길이 : {}'.format(np.max(summary_len)))\n",
    "print('요약의 평균 길이 : {}'.format(np.mean(summary_len)))\n",
    "\n",
    "plt.subplot(1,2,1)\n",
    "plt.boxplot(summary_len)\n",
    "plt.title('Summary')\n",
    "plt.subplot(1,2,2)\n",
    "plt.boxplot(text_len)\n",
    "plt.title('Text')\n",
    "plt.tight_layout()\n",
    "plt.show()\n",
    "\n",
    "plt.title('Summary')\n",
    "plt.hist(summary_len, bins = 40)\n",
    "plt.xlabel('length of samples')\n",
    "plt.ylabel('number of samples')\n",
    "plt.show()\n",
    "\n",
    "plt.title('Text')\n",
    "plt.hist(text_len, bins = 100)\n",
    "plt.xlabel('length of samples')\n",
    "plt.ylabel('number of samples')\n",
    "plt.show()"
   ]
  },
  {
   "cell_type": "markdown",
   "id": "chinese-jungle",
   "metadata": {},
   "source": [
    "데이터의 분포가 넓게 퍼져있음을 알 수 있습니다. 이 프로젝트의 목표는 긍정/부정 분석이 아니고, 뉴스를 요약하는 것이며, 짧은 Text의 경우, padding을 pre로 주게 된다면, 해당 단어가 연이은 padding 뒤에 나와 그에 연관된 context vector가 희석 없이 decoder로 넘어가게 되어 오히려 너무 강한 영향력을 행사할 것 같습니다. 따라서 짧은 텍스트에서 얻을 수 있는 정보는 모두 긴 Text에서 충분히 얻을 수 있다고 가정하고 너무 짧거나 긴 Text를 갖는 데이터포인트를 제거하겠습니다"
   ]
  },
  {
   "cell_type": "code",
   "execution_count": 21,
   "id": "documented-passing",
   "metadata": {},
   "outputs": [],
   "source": [
    "# 최소, 최대 사이에 있는 샘플을 골라 냅니다.\n",
    "def bandpass_len(min_len, max_len, nested_list):\n",
    "    cnt = 0\n",
    "    for s in nested_list:\n",
    "        if(len(s.split()) <= max_len) and (len(s.split()) >= min_len):\n",
    "            cnt = cnt + 1\n",
    "    print(f'전체 샘플 중 길이가 {min_len} 이상,{max_len} 이하인 샘플의 비율:{cnt / len(nested_list)}')"
   ]
  },
  {
   "cell_type": "code",
   "execution_count": 22,
   "id": "ordinary-buyer",
   "metadata": {
    "scrolled": true
   },
   "outputs": [
    {
     "name": "stdout",
     "output_type": "stream",
     "text": [
      "전체 샘플 중 길이가 1 이상,29 이하인 샘플의 비율:0.004747864985766572\n"
     ]
    }
   ],
   "source": [
    "bandpass_len(1, 29, data['Text'])"
   ]
  },
  {
   "cell_type": "code",
   "execution_count": 23,
   "id": "patient-reasoning",
   "metadata": {},
   "outputs": [
    {
     "name": "stdout",
     "output_type": "stream",
     "text": [
      "전체 샘플 중 길이가 30 이상,46 이하인 샘플의 비율:0.9668971126474176\n"
     ]
    }
   ],
   "source": [
    "bandpass_len(30, 46, data['Text'])"
   ]
  },
  {
   "cell_type": "code",
   "execution_count": 24,
   "id": "continuing-highland",
   "metadata": {},
   "outputs": [
    {
     "name": "stdout",
     "output_type": "stream",
     "text": [
      "전체 샘플 중 길이가 47 이상,3000 이하인 샘플의 비율:0.02835502236681578\n"
     ]
    }
   ],
   "source": [
    "bandpass_len(47, 3000, data['Text'])"
   ]
  },
  {
   "cell_type": "markdown",
   "id": "knowing-handy",
   "metadata": {},
   "source": [
    "\\[30, 46\\]의 구간만 사용하겠습니다"
   ]
  },
  {
   "cell_type": "code",
   "execution_count": 25,
   "id": "ecological-hormone",
   "metadata": {},
   "outputs": [],
   "source": [
    "text_max_len = 46; text_min_len = 30"
   ]
  },
  {
   "cell_type": "code",
   "execution_count": 26,
   "id": "functioning-armstrong",
   "metadata": {},
   "outputs": [],
   "source": [
    "data = data[data['Text'].apply(lambda x: len(x.split()) <= text_max_len \\\n",
    "            and len(x.split()) >= text_min_len)]\n"
   ]
  },
  {
   "cell_type": "code",
   "execution_count": 27,
   "id": "celtic-router",
   "metadata": {},
   "outputs": [
    {
     "data": {
      "text/html": [
       "<div>\n",
       "<style scoped>\n",
       "    .dataframe tbody tr th:only-of-type {\n",
       "        vertical-align: middle;\n",
       "    }\n",
       "\n",
       "    .dataframe tbody tr th {\n",
       "        vertical-align: top;\n",
       "    }\n",
       "\n",
       "    .dataframe thead th {\n",
       "        text-align: right;\n",
       "    }\n",
       "</style>\n",
       "<table border=\"1\" class=\"dataframe\">\n",
       "  <thead>\n",
       "    <tr style=\"text-align: right;\">\n",
       "      <th></th>\n",
       "      <th>Text</th>\n",
       "      <th>Summary</th>\n",
       "    </tr>\n",
       "  </thead>\n",
       "  <tbody>\n",
       "    <tr>\n",
       "      <th>0</th>\n",
       "      <td>saurav kant alumnus upgrad iiit pg program mac...</td>\n",
       "      <td>upgrad learner switches to career in ml al wit...</td>\n",
       "    </tr>\n",
       "    <tr>\n",
       "      <th>2</th>\n",
       "      <td>new zealand defeated india wickets fourth odi ...</td>\n",
       "      <td>new zealand end rohit sharma led india match w...</td>\n",
       "    </tr>\n",
       "    <tr>\n",
       "      <th>3</th>\n",
       "      <td>aegon life iterm insurance plan customers enjo...</td>\n",
       "      <td>aegon life iterm insurance plan helps customer...</td>\n",
       "    </tr>\n",
       "    <tr>\n",
       "      <th>4</th>\n",
       "      <td>speaking sexual harassment allegations rajkuma...</td>\n",
       "      <td>have known hirani for yrs what if metoo claims...</td>\n",
       "    </tr>\n",
       "    <tr>\n",
       "      <th>5</th>\n",
       "      <td>pakistani singer rahat fateh ali khan denied r...</td>\n",
       "      <td>rahat fateh ali khan denies getting notice for...</td>\n",
       "    </tr>\n",
       "    <tr>\n",
       "      <th>...</th>\n",
       "      <td>...</td>\n",
       "      <td>...</td>\n",
       "    </tr>\n",
       "    <tr>\n",
       "      <th>98396</th>\n",
       "      <td>crpf jawan tuesday axed death sharp edged weap...</td>\n",
       "      <td>crpf jawan axed to death by maoists in chhatti...</td>\n",
       "    </tr>\n",
       "    <tr>\n",
       "      <th>98397</th>\n",
       "      <td>uff yeh first song sonakshi sinha starrer upco...</td>\n",
       "      <td>first song from sonakshi sinha noor titled uff...</td>\n",
       "    </tr>\n",
       "    <tr>\n",
       "      <th>98398</th>\n",
       "      <td>according reports new version science fiction ...</td>\n",
       "      <td>the matrix film to get reboot reports</td>\n",
       "    </tr>\n",
       "    <tr>\n",
       "      <th>98399</th>\n",
       "      <td>new music video shows rapper snoop dogg aiming...</td>\n",
       "      <td>snoop dogg aims gun at clown dressed as trump ...</td>\n",
       "    </tr>\n",
       "    <tr>\n",
       "      <th>98400</th>\n",
       "      <td>madhesi morcha alliance seven political partie...</td>\n",
       "      <td>madhesi morcha withdraws support to nepalese g...</td>\n",
       "    </tr>\n",
       "  </tbody>\n",
       "</table>\n",
       "<p>95104 rows × 2 columns</p>\n",
       "</div>"
      ],
      "text/plain": [
       "                                                    Text  \\\n",
       "0      saurav kant alumnus upgrad iiit pg program mac...   \n",
       "2      new zealand defeated india wickets fourth odi ...   \n",
       "3      aegon life iterm insurance plan customers enjo...   \n",
       "4      speaking sexual harassment allegations rajkuma...   \n",
       "5      pakistani singer rahat fateh ali khan denied r...   \n",
       "...                                                  ...   \n",
       "98396  crpf jawan tuesday axed death sharp edged weap...   \n",
       "98397  uff yeh first song sonakshi sinha starrer upco...   \n",
       "98398  according reports new version science fiction ...   \n",
       "98399  new music video shows rapper snoop dogg aiming...   \n",
       "98400  madhesi morcha alliance seven political partie...   \n",
       "\n",
       "                                                 Summary  \n",
       "0      upgrad learner switches to career in ml al wit...  \n",
       "2      new zealand end rohit sharma led india match w...  \n",
       "3      aegon life iterm insurance plan helps customer...  \n",
       "4      have known hirani for yrs what if metoo claims...  \n",
       "5      rahat fateh ali khan denies getting notice for...  \n",
       "...                                                  ...  \n",
       "98396  crpf jawan axed to death by maoists in chhatti...  \n",
       "98397  first song from sonakshi sinha noor titled uff...  \n",
       "98398              the matrix film to get reboot reports  \n",
       "98399  snoop dogg aims gun at clown dressed as trump ...  \n",
       "98400  madhesi morcha withdraws support to nepalese g...  \n",
       "\n",
       "[95104 rows x 2 columns]"
      ]
     },
     "execution_count": 27,
     "metadata": {},
     "output_type": "execute_result"
    }
   ],
   "source": [
    "data"
   ]
  },
  {
   "cell_type": "markdown",
   "id": "original-effects",
   "metadata": {},
   "source": [
    "Summary의 분포도 살펴보겠습니다"
   ]
  },
  {
   "cell_type": "code",
   "execution_count": 28,
   "id": "established-engine",
   "metadata": {},
   "outputs": [
    {
     "name": "stdout",
     "output_type": "stream",
     "text": [
      "전체 샘플 중 길이가 7 이상,13 이하인 샘플의 비율:0.979496130551817\n"
     ]
    }
   ],
   "source": [
    "bandpass_len(7, 13, data['Summary'])"
   ]
  },
  {
   "cell_type": "code",
   "execution_count": 29,
   "id": "further-rates",
   "metadata": {},
   "outputs": [
    {
     "data": {
      "text/plain": [
       "22               killed injured in saudi arabia floods\n",
       "37              pakistan holds keys to war afghanistan\n",
       "77               swine flu outbreak kills in rajasthan\n",
       "182         confiscated benami assets worth crore dept\n",
       "196               nana patekar mother passes away aged\n",
       "                             ...                      \n",
       "98093         taliban made crore selling pistachios in\n",
       "98098              year old homeless man gets makeover\n",
       "98250    union cabinet approves national health policy\n",
       "98324     trailer of baahubali the conclusion released\n",
       "98327               ranchi becomes india th test venue\n",
       "Name: Summary, Length: 1739, dtype: object"
      ]
     },
     "execution_count": 29,
     "metadata": {},
     "output_type": "execute_result"
    }
   ],
   "source": [
    "data['Summary'][data['Summary'].apply(lambda x: len(x.split())<=6)]"
   ]
  },
  {
   "cell_type": "markdown",
   "id": "occupied-speed",
   "metadata": {},
   "source": [
    "한 단어로 이루어진 summary는 삭제하고, 10 이하의 샘플만 사용하겠습니다"
   ]
  },
  {
   "cell_type": "code",
   "execution_count": 30,
   "id": "reflected-lighting",
   "metadata": {},
   "outputs": [],
   "source": [
    "summary_max_len = 13; summary_min_len = 7"
   ]
  },
  {
   "cell_type": "code",
   "execution_count": 31,
   "id": "governmental-package",
   "metadata": {},
   "outputs": [],
   "source": [
    "data = data[data['Summary'].apply(lambda x: len(x.split()) <= summary_max_len \\\n",
    "            and len(x.split()) >= summary_min_len)]"
   ]
  },
  {
   "cell_type": "code",
   "execution_count": 32,
   "id": "documented-practice",
   "metadata": {},
   "outputs": [
    {
     "data": {
      "text/html": [
       "<div>\n",
       "<style scoped>\n",
       "    .dataframe tbody tr th:only-of-type {\n",
       "        vertical-align: middle;\n",
       "    }\n",
       "\n",
       "    .dataframe tbody tr th {\n",
       "        vertical-align: top;\n",
       "    }\n",
       "\n",
       "    .dataframe thead th {\n",
       "        text-align: right;\n",
       "    }\n",
       "</style>\n",
       "<table border=\"1\" class=\"dataframe\">\n",
       "  <thead>\n",
       "    <tr style=\"text-align: right;\">\n",
       "      <th></th>\n",
       "      <th>Text</th>\n",
       "      <th>Summary</th>\n",
       "    </tr>\n",
       "  </thead>\n",
       "  <tbody>\n",
       "    <tr>\n",
       "      <th>0</th>\n",
       "      <td>saurav kant alumnus upgrad iiit pg program mac...</td>\n",
       "      <td>upgrad learner switches to career in ml al wit...</td>\n",
       "    </tr>\n",
       "    <tr>\n",
       "      <th>2</th>\n",
       "      <td>new zealand defeated india wickets fourth odi ...</td>\n",
       "      <td>new zealand end rohit sharma led india match w...</td>\n",
       "    </tr>\n",
       "    <tr>\n",
       "      <th>3</th>\n",
       "      <td>aegon life iterm insurance plan customers enjo...</td>\n",
       "      <td>aegon life iterm insurance plan helps customer...</td>\n",
       "    </tr>\n",
       "    <tr>\n",
       "      <th>4</th>\n",
       "      <td>speaking sexual harassment allegations rajkuma...</td>\n",
       "      <td>have known hirani for yrs what if metoo claims...</td>\n",
       "    </tr>\n",
       "    <tr>\n",
       "      <th>5</th>\n",
       "      <td>pakistani singer rahat fateh ali khan denied r...</td>\n",
       "      <td>rahat fateh ali khan denies getting notice for...</td>\n",
       "    </tr>\n",
       "    <tr>\n",
       "      <th>...</th>\n",
       "      <td>...</td>\n",
       "      <td>...</td>\n",
       "    </tr>\n",
       "    <tr>\n",
       "      <th>98396</th>\n",
       "      <td>crpf jawan tuesday axed death sharp edged weap...</td>\n",
       "      <td>crpf jawan axed to death by maoists in chhatti...</td>\n",
       "    </tr>\n",
       "    <tr>\n",
       "      <th>98397</th>\n",
       "      <td>uff yeh first song sonakshi sinha starrer upco...</td>\n",
       "      <td>first song from sonakshi sinha noor titled uff...</td>\n",
       "    </tr>\n",
       "    <tr>\n",
       "      <th>98398</th>\n",
       "      <td>according reports new version science fiction ...</td>\n",
       "      <td>the matrix film to get reboot reports</td>\n",
       "    </tr>\n",
       "    <tr>\n",
       "      <th>98399</th>\n",
       "      <td>new music video shows rapper snoop dogg aiming...</td>\n",
       "      <td>snoop dogg aims gun at clown dressed as trump ...</td>\n",
       "    </tr>\n",
       "    <tr>\n",
       "      <th>98400</th>\n",
       "      <td>madhesi morcha alliance seven political partie...</td>\n",
       "      <td>madhesi morcha withdraws support to nepalese g...</td>\n",
       "    </tr>\n",
       "  </tbody>\n",
       "</table>\n",
       "<p>93154 rows × 2 columns</p>\n",
       "</div>"
      ],
      "text/plain": [
       "                                                    Text  \\\n",
       "0      saurav kant alumnus upgrad iiit pg program mac...   \n",
       "2      new zealand defeated india wickets fourth odi ...   \n",
       "3      aegon life iterm insurance plan customers enjo...   \n",
       "4      speaking sexual harassment allegations rajkuma...   \n",
       "5      pakistani singer rahat fateh ali khan denied r...   \n",
       "...                                                  ...   \n",
       "98396  crpf jawan tuesday axed death sharp edged weap...   \n",
       "98397  uff yeh first song sonakshi sinha starrer upco...   \n",
       "98398  according reports new version science fiction ...   \n",
       "98399  new music video shows rapper snoop dogg aiming...   \n",
       "98400  madhesi morcha alliance seven political partie...   \n",
       "\n",
       "                                                 Summary  \n",
       "0      upgrad learner switches to career in ml al wit...  \n",
       "2      new zealand end rohit sharma led india match w...  \n",
       "3      aegon life iterm insurance plan helps customer...  \n",
       "4      have known hirani for yrs what if metoo claims...  \n",
       "5      rahat fateh ali khan denies getting notice for...  \n",
       "...                                                  ...  \n",
       "98396  crpf jawan axed to death by maoists in chhatti...  \n",
       "98397  first song from sonakshi sinha noor titled uff...  \n",
       "98398              the matrix film to get reboot reports  \n",
       "98399  snoop dogg aims gun at clown dressed as trump ...  \n",
       "98400  madhesi morcha withdraws support to nepalese g...  \n",
       "\n",
       "[93154 rows x 2 columns]"
      ]
     },
     "execution_count": 32,
     "metadata": {},
     "output_type": "execute_result"
    }
   ],
   "source": [
    "data"
   ]
  },
  {
   "cell_type": "code",
   "execution_count": 33,
   "id": "located-password",
   "metadata": {},
   "outputs": [
    {
     "name": "stderr",
     "output_type": "stream",
     "text": [
      "/opt/conda/lib/python3.7/site-packages/ipykernel_launcher.py:2: SettingWithCopyWarning: \n",
      "A value is trying to be set on a copy of a slice from a DataFrame.\n",
      "Try using .loc[row_indexer,col_indexer] = value instead\n",
      "\n",
      "See the caveats in the documentation: https://pandas.pydata.org/pandas-docs/stable/user_guide/indexing.html#returning-a-view-versus-a-copy\n",
      "  \n",
      "/opt/conda/lib/python3.7/site-packages/ipykernel_launcher.py:3: SettingWithCopyWarning: \n",
      "A value is trying to be set on a copy of a slice from a DataFrame.\n",
      "Try using .loc[row_indexer,col_indexer] = value instead\n",
      "\n",
      "See the caveats in the documentation: https://pandas.pydata.org/pandas-docs/stable/user_guide/indexing.html#returning-a-view-versus-a-copy\n",
      "  This is separate from the ipykernel package so we can avoid doing imports until\n"
     ]
    },
    {
     "data": {
      "text/html": [
       "<div>\n",
       "<style scoped>\n",
       "    .dataframe tbody tr th:only-of-type {\n",
       "        vertical-align: middle;\n",
       "    }\n",
       "\n",
       "    .dataframe tbody tr th {\n",
       "        vertical-align: top;\n",
       "    }\n",
       "\n",
       "    .dataframe thead th {\n",
       "        text-align: right;\n",
       "    }\n",
       "</style>\n",
       "<table border=\"1\" class=\"dataframe\">\n",
       "  <thead>\n",
       "    <tr style=\"text-align: right;\">\n",
       "      <th></th>\n",
       "      <th>Text</th>\n",
       "      <th>Summary</th>\n",
       "      <th>decoder_input</th>\n",
       "      <th>decoder_target</th>\n",
       "    </tr>\n",
       "  </thead>\n",
       "  <tbody>\n",
       "    <tr>\n",
       "      <th>0</th>\n",
       "      <td>saurav kant alumnus upgrad iiit pg program mac...</td>\n",
       "      <td>upgrad learner switches to career in ml al wit...</td>\n",
       "      <td>sostoken upgrad learner switches to career in ...</td>\n",
       "      <td>upgrad learner switches to career in ml al wit...</td>\n",
       "    </tr>\n",
       "    <tr>\n",
       "      <th>2</th>\n",
       "      <td>new zealand defeated india wickets fourth odi ...</td>\n",
       "      <td>new zealand end rohit sharma led india match w...</td>\n",
       "      <td>sostoken new zealand end rohit sharma led indi...</td>\n",
       "      <td>new zealand end rohit sharma led india match w...</td>\n",
       "    </tr>\n",
       "    <tr>\n",
       "      <th>3</th>\n",
       "      <td>aegon life iterm insurance plan customers enjo...</td>\n",
       "      <td>aegon life iterm insurance plan helps customer...</td>\n",
       "      <td>sostoken aegon life iterm insurance plan helps...</td>\n",
       "      <td>aegon life iterm insurance plan helps customer...</td>\n",
       "    </tr>\n",
       "    <tr>\n",
       "      <th>4</th>\n",
       "      <td>speaking sexual harassment allegations rajkuma...</td>\n",
       "      <td>have known hirani for yrs what if metoo claims...</td>\n",
       "      <td>sostoken have known hirani for yrs what if met...</td>\n",
       "      <td>have known hirani for yrs what if metoo claims...</td>\n",
       "    </tr>\n",
       "    <tr>\n",
       "      <th>5</th>\n",
       "      <td>pakistani singer rahat fateh ali khan denied r...</td>\n",
       "      <td>rahat fateh ali khan denies getting notice for...</td>\n",
       "      <td>sostoken rahat fateh ali khan denies getting n...</td>\n",
       "      <td>rahat fateh ali khan denies getting notice for...</td>\n",
       "    </tr>\n",
       "  </tbody>\n",
       "</table>\n",
       "</div>"
      ],
      "text/plain": [
       "                                                Text  \\\n",
       "0  saurav kant alumnus upgrad iiit pg program mac...   \n",
       "2  new zealand defeated india wickets fourth odi ...   \n",
       "3  aegon life iterm insurance plan customers enjo...   \n",
       "4  speaking sexual harassment allegations rajkuma...   \n",
       "5  pakistani singer rahat fateh ali khan denied r...   \n",
       "\n",
       "                                             Summary  \\\n",
       "0  upgrad learner switches to career in ml al wit...   \n",
       "2  new zealand end rohit sharma led india match w...   \n",
       "3  aegon life iterm insurance plan helps customer...   \n",
       "4  have known hirani for yrs what if metoo claims...   \n",
       "5  rahat fateh ali khan denies getting notice for...   \n",
       "\n",
       "                                       decoder_input  \\\n",
       "0  sostoken upgrad learner switches to career in ...   \n",
       "2  sostoken new zealand end rohit sharma led indi...   \n",
       "3  sostoken aegon life iterm insurance plan helps...   \n",
       "4  sostoken have known hirani for yrs what if met...   \n",
       "5  sostoken rahat fateh ali khan denies getting n...   \n",
       "\n",
       "                                      decoder_target  \n",
       "0  upgrad learner switches to career in ml al wit...  \n",
       "2  new zealand end rohit sharma led india match w...  \n",
       "3  aegon life iterm insurance plan helps customer...  \n",
       "4  have known hirani for yrs what if metoo claims...  \n",
       "5  rahat fateh ali khan denies getting notice for...  "
      ]
     },
     "execution_count": 33,
     "metadata": {},
     "output_type": "execute_result"
    }
   ],
   "source": [
    "# 토큰화\n",
    "data['decoder_input'] = data['Summary'].apply(lambda x : 'sostoken '+ x)\n",
    "data['decoder_target'] = data['Summary'].apply(lambda x : x + ' eostoken')\n",
    "data.head()"
   ]
  },
  {
   "cell_type": "code",
   "execution_count": 34,
   "id": "impaired-weight",
   "metadata": {},
   "outputs": [],
   "source": [
    "# np.array로 저장\n",
    "encoder_input = np.array(data['Text']) # 인코더의 입력\n",
    "decoder_input = np.array(data['decoder_input']) # 디코더의 입력\n",
    "decoder_target = np.array(data['decoder_target']) # 디코더의 레이블"
   ]
  },
  {
   "cell_type": "code",
   "execution_count": 35,
   "id": "enhanced-effect",
   "metadata": {},
   "outputs": [
    {
     "name": "stdout",
     "output_type": "stream",
     "text": [
      "[88990   117 27494 ... 15996  8011 12116]\n",
      "테스트 데이터의 수 : 18630\n"
     ]
    }
   ],
   "source": [
    "# train test split\n",
    "indices = np.arange(encoder_input.shape[0])\n",
    "np.random.shuffle(indices)\n",
    "print(indices)\n",
    "\n",
    "encoder_input = encoder_input[indices]\n",
    "decoder_input = decoder_input[indices]\n",
    "decoder_target = decoder_target[indices]\n",
    "\n",
    "n_of_val = int(len(encoder_input)*0.2)\n",
    "print('테스트 데이터의 수 :', n_of_val)"
   ]
  },
  {
   "cell_type": "code",
   "execution_count": 36,
   "id": "violent-bottle",
   "metadata": {},
   "outputs": [
    {
     "name": "stdout",
     "output_type": "stream",
     "text": [
      "훈련 데이터의 개수 : 74524\n",
      "훈련 레이블의 개수 : 74524\n",
      "테스트 데이터의 개수 : 18630\n",
      "테스트 레이블의 개수 : 18630\n"
     ]
    }
   ],
   "source": [
    "encoder_input_train = encoder_input[:-n_of_val]\n",
    "decoder_input_train = decoder_input[:-n_of_val]\n",
    "decoder_target_train = decoder_target[:-n_of_val]\n",
    "\n",
    "encoder_input_test = encoder_input[-n_of_val:]\n",
    "decoder_input_test = decoder_input[-n_of_val:]\n",
    "decoder_target_test = decoder_target[-n_of_val:]\n",
    "\n",
    "print('훈련 데이터의 개수 :', len(encoder_input_train))\n",
    "print('훈련 레이블의 개수 :', len(decoder_input_train))\n",
    "print('테스트 데이터의 개수 :', len(encoder_input_test))\n",
    "print('테스트 레이블의 개수 :', len(decoder_input_test))"
   ]
  },
  {
   "cell_type": "markdown",
   "id": "nasty-forward",
   "metadata": {},
   "source": [
    "### Encoding"
   ]
  },
  {
   "cell_type": "code",
   "execution_count": 37,
   "id": "drawn-banana",
   "metadata": {},
   "outputs": [],
   "source": [
    "src_tokenizer = Tokenizer() # 토크나이저 정의\n",
    "src_tokenizer.fit_on_texts(encoder_input_train) # 입력된 데이터로부터 단어 집합 생성"
   ]
  },
  {
   "cell_type": "code",
   "execution_count": 38,
   "id": "stopped-stress",
   "metadata": {},
   "outputs": [
    {
     "name": "stdout",
     "output_type": "stream",
     "text": [
      "단어 집합(vocabulary)의 크기 : 67077\n",
      "등장 빈도가 12번 이하인 희귀 단어의 수: 51598\n",
      "단어 집합에서 희귀 단어를 제외시킬 경우의 단어 집합의 크기 15479\n",
      "단어 집합에서 희귀 단어의 비율: 76.9235356381472\n",
      "전체 등장 빈도에서 희귀 단어 등장 빈도 비율: 5.488910962574639\n"
     ]
    }
   ],
   "source": [
    "threshold = 13\n",
    "total_cnt = len(src_tokenizer.word_index) # 단어의 수\n",
    "rare_cnt = 0 # 등장 빈도수가 threshold보다 작은 단어의 개수를 카운트\n",
    "total_freq = 0 # 훈련 데이터의 전체 단어 빈도수 총 합\n",
    "rare_freq = 0 # 등장 빈도수가 threshold보다 작은 단어의 등장 빈도수의 총 합\n",
    "\n",
    "# 단어와 빈도수의 쌍(pair)을 key와 value로 받는다.\n",
    "for key, value in src_tokenizer.word_counts.items():\n",
    "    total_freq = total_freq + value\n",
    "\n",
    "    # 단어의 등장 빈도수가 threshold보다 작으면\n",
    "    if(value < threshold):\n",
    "        rare_cnt = rare_cnt + 1\n",
    "        rare_freq = rare_freq + value\n",
    "\n",
    "print('단어 집합(vocabulary)의 크기 :', total_cnt)\n",
    "print('등장 빈도가 %s번 이하인 희귀 단어의 수: %s'%(threshold - 1, rare_cnt))\n",
    "print('단어 집합에서 희귀 단어를 제외시킬 경우의 단어 집합의 크기 %s'%(total_cnt - rare_cnt))\n",
    "print(\"단어 집합에서 희귀 단어의 비율:\", (rare_cnt / total_cnt)*100)\n",
    "print(\"전체 등장 빈도에서 희귀 단어 등장 빈도 비율:\", (rare_freq / total_freq)*100)"
   ]
  },
  {
   "cell_type": "code",
   "execution_count": 39,
   "id": "above-healthcare",
   "metadata": {},
   "outputs": [],
   "source": [
    "src_vocab = 15478\n",
    "src_tokenizer = Tokenizer(num_words=src_vocab) # 단어 집합의 크기를 15476+2으로 제한\n",
    "src_tokenizer.fit_on_texts(encoder_input_train) # 단어 집합 재생성."
   ]
  },
  {
   "cell_type": "code",
   "execution_count": 40,
   "id": "becoming-height",
   "metadata": {},
   "outputs": [
    {
     "name": "stdout",
     "output_type": "stream",
     "text": [
      "[[418, 14, 1970, 6098, 5652, 1105, 835, 276, 7842, 1275, 1847, 23, 208, 79, 788, 252, 409, 5, 16, 752, 6635, 9321, 208, 312, 532, 646, 293, 23, 208, 607, 28, 76, 9321], [3314, 6806, 1072, 4314, 1281, 854, 383, 199, 1519, 5903, 2615, 688, 8107, 12, 86, 1524, 318, 199, 1258, 5, 16, 9911, 926, 381, 58, 774, 331, 1331, 11117, 1388], [283, 51, 18, 3027, 2810, 1, 3, 2721, 173, 11441, 13, 1, 7078, 39, 71, 2, 2810, 384, 156, 3, 7078, 24, 13, 283, 934, 13, 3, 1895, 8513, 42, 2840]]\n"
     ]
    }
   ],
   "source": [
    "# 텍스트 시퀀스를 정수 시퀀스로 변환\n",
    "encoder_input_train = src_tokenizer.texts_to_sequences(encoder_input_train) \n",
    "encoder_input_test = src_tokenizer.texts_to_sequences(encoder_input_test)\n",
    "\n",
    "# 잘 진행되었는지 샘플 출력\n",
    "print(encoder_input_train[:3])"
   ]
  },
  {
   "cell_type": "markdown",
   "id": "stable-message",
   "metadata": {},
   "source": [
    "summary에 대해서는 decoder_input으로 토큰화합니다."
   ]
  },
  {
   "cell_type": "code",
   "execution_count": 41,
   "id": "functioning-sperm",
   "metadata": {},
   "outputs": [],
   "source": [
    "tar_tokenizer = Tokenizer()\n",
    "tar_tokenizer.fit_on_texts(decoder_input_train)"
   ]
  },
  {
   "cell_type": "code",
   "execution_count": 43,
   "id": "outstanding-lawsuit",
   "metadata": {},
   "outputs": [
    {
     "name": "stdout",
     "output_type": "stream",
     "text": [
      "단어 집합(vocabulary)의 크기 : 29218\n",
      "등장 빈도가 10번 이하인 희귀 단어의 수: 22209\n",
      "단어 집합에서 희귀 단어를 제외시킬 경우의 단어 집합의 크기 7009\n",
      "단어 집합에서 희귀 단어의 비율: 76.01136285851187\n",
      "전체 등장 빈도에서 희귀 단어 등장 빈도 비율: 7.849736868377141\n"
     ]
    }
   ],
   "source": [
    "threshold = 11\n",
    "total_cnt = len(tar_tokenizer.word_index) # 단어의 수\n",
    "rare_cnt = 0 # 등장 빈도수가 threshold보다 작은 단어의 개수를 카운트\n",
    "total_freq = 0 # 훈련 데이터의 전체 단어 빈도수 총 합\n",
    "rare_freq = 0 # 등장 빈도수가 threshold보다 작은 단어의 등장 빈도수의 총 합\n",
    "\n",
    "# 단어와 빈도수의 쌍(pair)을 key와 value로 받는다.\n",
    "for key, value in tar_tokenizer.word_counts.items():\n",
    "    total_freq = total_freq + value\n",
    "\n",
    "    # 단어의 등장 빈도수가 threshold보다 작으면\n",
    "    if(value < threshold):\n",
    "        rare_cnt = rare_cnt + 1\n",
    "        rare_freq = rare_freq + value\n",
    "\n",
    "print('단어 집합(vocabulary)의 크기 :', total_cnt)\n",
    "print('등장 빈도가 %s번 이하인 희귀 단어의 수: %s'%(threshold - 1, rare_cnt))\n",
    "print('단어 집합에서 희귀 단어를 제외시킬 경우의 단어 집합의 크기 %s'%(total_cnt - rare_cnt))\n",
    "print(\"단어 집합에서 희귀 단어의 비율:\", (rare_cnt / total_cnt)*100)\n",
    "print(\"전체 등장 빈도에서 희귀 단어 등장 빈도 비율:\", (rare_freq / total_freq)*100)"
   ]
  },
  {
   "cell_type": "code",
   "execution_count": 44,
   "id": "middle-joseph",
   "metadata": {},
   "outputs": [
    {
     "name": "stdout",
     "output_type": "stream",
     "text": [
      "input\n",
      "input  [[1, 4356, 1252, 528, 2750, 2670, 4, 43, 217, 1422], [1, 704, 4236, 2555, 966, 3, 6276, 189], [1, 153, 10, 2937, 3, 337, 34, 7, 141, 4100, 238], [1, 109, 159, 110, 352, 16, 45, 1135, 4357], [1, 71, 52, 11, 320, 4, 1402, 376, 29, 110]]\n",
      "target\n",
      "decoder  [[4356, 1252, 528, 2750, 2670, 4, 43, 217, 1422, 2], [704, 4236, 2555, 966, 3, 6276, 189, 2], [153, 10, 2937, 3, 337, 34, 7, 141, 4100, 238, 2], [109, 159, 110, 352, 16, 45, 1135, 4357, 2], [71, 52, 11, 320, 4, 1402, 376, 29, 110, 2]]\n"
     ]
    }
   ],
   "source": [
    "tar_vocab = 7011\n",
    "tar_tokenizer = Tokenizer(num_words=tar_vocab) \n",
    "tar_tokenizer.fit_on_texts(decoder_input_train)\n",
    "tar_tokenizer.fit_on_texts(decoder_target_train)\n",
    "\n",
    "# 텍스트 시퀀스를 정수 시퀀스로 변환\n",
    "decoder_input_train = tar_tokenizer.texts_to_sequences(decoder_input_train) \n",
    "decoder_target_train = tar_tokenizer.texts_to_sequences(decoder_target_train)\n",
    "decoder_input_test = tar_tokenizer.texts_to_sequences(decoder_input_test)\n",
    "decoder_target_test = tar_tokenizer.texts_to_sequences(decoder_target_test)\n",
    "\n",
    "# 잘 변환되었는지 확인\n",
    "print('input')\n",
    "print('input ',decoder_input_train[:5])\n",
    "print('target')\n",
    "print('decoder ',decoder_target_train[:5])"
   ]
  },
  {
   "cell_type": "markdown",
   "id": "behind-vegetable",
   "metadata": {},
   "source": [
    "sostoken과 eostoken이 각각 1, 2로 인코딩된 것과 변환이 제대로 되었음을 확인했습니다"
   ]
  },
  {
   "cell_type": "code",
   "execution_count": 45,
   "id": "effective-synthetic",
   "metadata": {},
   "outputs": [
    {
     "name": "stdout",
     "output_type": "stream",
     "text": [
      "삭제할 훈련 데이터의 개수 : 0\n",
      "삭제할 테스트 데이터의 개수 : 0\n",
      "훈련 데이터의 개수 : 74524\n",
      "훈련 레이블의 개수 : 74524\n",
      "테스트 데이터의 개수 : 18630\n",
      "테스트 레이블의 개수 : 18630\n"
     ]
    },
    {
     "name": "stderr",
     "output_type": "stream",
     "text": [
      "/opt/conda/lib/python3.7/site-packages/numpy/core/_asarray.py:83: VisibleDeprecationWarning: Creating an ndarray from ragged nested sequences (which is a list-or-tuple of lists-or-tuples-or ndarrays with different lengths or shapes) is deprecated. If you meant to do this, you must specify 'dtype=object' when creating the ndarray\n",
      "  return array(a, dtype, copy=False, order=order)\n"
     ]
    }
   ],
   "source": [
    "# 결측치 제거 - eostoken만 남은 경우를 제거한다. 아마 없을 것이다\n",
    "drop_train = [index for index, sentence in enumerate(decoder_input_train) if len(sentence) == 1]\n",
    "drop_test = [index for index, sentence in enumerate(decoder_input_test) if len(sentence) == 1]\n",
    "\n",
    "print('삭제할 훈련 데이터의 개수 :', len(drop_train))\n",
    "print('삭제할 테스트 데이터의 개수 :', len(drop_test))\n",
    "\n",
    "encoder_input_train = np.delete(encoder_input_train, drop_train, axis=0)\n",
    "decoder_input_train = np.delete(decoder_input_train, drop_train, axis=0)\n",
    "decoder_target_train = np.delete(decoder_target_train, drop_train, axis=0)\n",
    "\n",
    "encoder_input_test = np.delete(encoder_input_test, drop_test, axis=0)\n",
    "decoder_input_test = np.delete(decoder_input_test, drop_test, axis=0)\n",
    "decoder_target_test = np.delete(decoder_target_test, drop_test, axis=0)\n",
    "\n",
    "print('훈련 데이터의 개수 :', len(encoder_input_train))\n",
    "print('훈련 레이블의 개수 :', len(decoder_input_train))\n",
    "print('테스트 데이터의 개수 :', len(encoder_input_test))\n",
    "print('테스트 레이블의 개수 :', len(decoder_input_test))"
   ]
  },
  {
   "cell_type": "markdown",
   "id": "typical-underwear",
   "metadata": {},
   "source": [
    "### Padding"
   ]
  },
  {
   "cell_type": "markdown",
   "id": "peaceful-major",
   "metadata": {},
   "source": [
    "encoder의 경우, padding을 뒤에 넣으면 context vector가 희석되므로 앞에 padding을 넣습니다"
   ]
  },
  {
   "cell_type": "code",
   "execution_count": 46,
   "id": "moral-guatemala",
   "metadata": {},
   "outputs": [],
   "source": [
    "encoder_input_train = pad_sequences(encoder_input_train, maxlen=text_max_len, padding='pre')\n",
    "encoder_input_test = pad_sequences(encoder_input_test, maxlen=text_max_len, padding='pre')\n",
    "decoder_input_train = pad_sequences(decoder_input_train, maxlen=summary_max_len, padding='post')\n",
    "decoder_target_train = pad_sequences(decoder_target_train, maxlen=summary_max_len, padding='post')\n",
    "decoder_input_test = pad_sequences(decoder_input_test, maxlen=summary_max_len, padding='post')\n",
    "decoder_target_test = pad_sequences(decoder_target_test, maxlen=summary_max_len, padding='post')"
   ]
  },
  {
   "cell_type": "markdown",
   "id": "sorted-dinner",
   "metadata": {},
   "source": [
    "# Modeling & Training"
   ]
  },
  {
   "cell_type": "code",
   "execution_count": 47,
   "id": "governmental-ordinance",
   "metadata": {
    "scrolled": true
   },
   "outputs": [
    {
     "name": "stdout",
     "output_type": "stream",
     "text": [
      "WARNING:tensorflow:Layer lstm will not use cuDNN kernel since it doesn't meet the cuDNN kernel criteria. It will use generic GPU kernel as fallback when running on GPU\n",
      "WARNING:tensorflow:Layer lstm_1 will not use cuDNN kernel since it doesn't meet the cuDNN kernel criteria. It will use generic GPU kernel as fallback when running on GPU\n",
      "WARNING:tensorflow:Layer lstm_2 will not use cuDNN kernel since it doesn't meet the cuDNN kernel criteria. It will use generic GPU kernel as fallback when running on GPU\n"
     ]
    }
   ],
   "source": [
    "from tensorflow.keras.layers import Input, LSTM, Embedding, Dense, Concatenate\n",
    "from tensorflow.keras.models import Model\n",
    "from tensorflow.keras.callbacks import EarlyStopping, ModelCheckpoint\n",
    "\n",
    "\n",
    "# 인코더 설계 시작\n",
    "embedding_dim = 128\n",
    "hidden_size = 256\n",
    "\n",
    "# 인코더\n",
    "encoder_inputs = Input(shape=(text_max_len,))\n",
    "\n",
    "# 인코더의 임베딩 층\n",
    "enc_emb = Embedding(src_vocab, embedding_dim)(encoder_inputs)\n",
    "\n",
    "# 인코더의 LSTM 1\n",
    "encoder_lstm1 = LSTM(hidden_size, return_sequences=True, return_state=True ,dropout = 0.4, recurrent_dropout = 0.4)\n",
    "encoder_output1, state_h1, state_c1 = encoder_lstm1(enc_emb)\n",
    "\n",
    "# 인코더의 LSTM 2\n",
    "encoder_lstm2 = LSTM(hidden_size, return_sequences=True, return_state=True, dropout=0.4, recurrent_dropout=0.4)\n",
    "encoder_output2, state_h2, state_c2 = encoder_lstm2(encoder_output1)\n",
    "\n",
    "# 인코더의 LSTM 3\n",
    "encoder_lstm3 = LSTM(hidden_size, return_state=True, return_sequences=True, dropout=0.4, recurrent_dropout=0.4)\n",
    "encoder_outputs, state_h, state_c= encoder_lstm3(encoder_output2)"
   ]
  },
  {
   "cell_type": "code",
   "execution_count": 48,
   "id": "personalized-manor",
   "metadata": {},
   "outputs": [
    {
     "name": "stdout",
     "output_type": "stream",
     "text": [
      "WARNING:tensorflow:Layer lstm_3 will not use cuDNN kernel since it doesn't meet the cuDNN kernel criteria. It will use generic GPU kernel as fallback when running on GPU\n"
     ]
    }
   ],
   "source": [
    "# 디코더 설계\n",
    "decoder_inputs = Input(shape=(None,))\n",
    "\n",
    "# 디코더의 임베딩 층\n",
    "dec_emb_layer = Embedding(tar_vocab, embedding_dim)\n",
    "dec_emb = dec_emb_layer(decoder_inputs)\n",
    "\n",
    "# 디코더의 LSTM\n",
    "decoder_lstm = LSTM(hidden_size, return_sequences=True, return_state=True, dropout=0.4, recurrent_dropout=0.2)\n",
    "decoder_outputs, _, _ = decoder_lstm(dec_emb, initial_state=[state_h, state_c])"
   ]
  },
  {
   "cell_type": "code",
   "execution_count": 49,
   "id": "cooperative-sapphire",
   "metadata": {},
   "outputs": [
    {
     "name": "stdout",
     "output_type": "stream",
     "text": [
      "Model: \"model\"\n",
      "__________________________________________________________________________________________________\n",
      "Layer (type)                    Output Shape         Param #     Connected to                     \n",
      "==================================================================================================\n",
      "input_1 (InputLayer)            [(None, 46)]         0                                            \n",
      "__________________________________________________________________________________________________\n",
      "embedding (Embedding)           (None, 46, 128)      1981184     input_1[0][0]                    \n",
      "__________________________________________________________________________________________________\n",
      "lstm (LSTM)                     [(None, 46, 256), (N 394240      embedding[0][0]                  \n",
      "__________________________________________________________________________________________________\n",
      "input_2 (InputLayer)            [(None, None)]       0                                            \n",
      "__________________________________________________________________________________________________\n",
      "lstm_1 (LSTM)                   [(None, 46, 256), (N 525312      lstm[0][0]                       \n",
      "__________________________________________________________________________________________________\n",
      "embedding_1 (Embedding)         (None, None, 128)    897408      input_2[0][0]                    \n",
      "__________________________________________________________________________________________________\n",
      "lstm_2 (LSTM)                   [(None, 46, 256), (N 525312      lstm_1[0][0]                     \n",
      "__________________________________________________________________________________________________\n",
      "lstm_3 (LSTM)                   [(None, None, 256),  394240      embedding_1[0][0]                \n",
      "                                                                 lstm_2[0][1]                     \n",
      "                                                                 lstm_2[0][2]                     \n",
      "__________________________________________________________________________________________________\n",
      "dense (Dense)                   (None, None, 7011)   1801827     lstm_3[0][0]                     \n",
      "==================================================================================================\n",
      "Total params: 6,519,523\n",
      "Trainable params: 6,519,523\n",
      "Non-trainable params: 0\n",
      "__________________________________________________________________________________________________\n"
     ]
    }
   ],
   "source": [
    "# 디코더의 출력층\n",
    "decoder_softmax_layer = Dense(tar_vocab, activation='softmax')\n",
    "decoder_softmax_outputs = decoder_softmax_layer(decoder_outputs) \n",
    "\n",
    "# 모델 정의\n",
    "model2 = Model([encoder_inputs, decoder_inputs], decoder_softmax_outputs)\n",
    "model2.summary()"
   ]
  },
  {
   "cell_type": "code",
   "execution_count": 50,
   "id": "interesting-spouse",
   "metadata": {},
   "outputs": [],
   "source": [
    "urllib.request.urlretrieve(\"https://raw.githubusercontent.com/thushv89/attention_keras/master/src/layers/attention.py\", filename=\"attention.py\")\n",
    "from attention import AttentionLayer"
   ]
  },
  {
   "cell_type": "code",
   "execution_count": 51,
   "id": "communist-shakespeare",
   "metadata": {},
   "outputs": [
    {
     "name": "stdout",
     "output_type": "stream",
     "text": [
      "Model: \"model_1\"\n",
      "__________________________________________________________________________________________________\n",
      "Layer (type)                    Output Shape         Param #     Connected to                     \n",
      "==================================================================================================\n",
      "input_1 (InputLayer)            [(None, 46)]         0                                            \n",
      "__________________________________________________________________________________________________\n",
      "embedding (Embedding)           (None, 46, 128)      1981184     input_1[0][0]                    \n",
      "__________________________________________________________________________________________________\n",
      "lstm (LSTM)                     [(None, 46, 256), (N 394240      embedding[0][0]                  \n",
      "__________________________________________________________________________________________________\n",
      "input_2 (InputLayer)            [(None, None)]       0                                            \n",
      "__________________________________________________________________________________________________\n",
      "lstm_1 (LSTM)                   [(None, 46, 256), (N 525312      lstm[0][0]                       \n",
      "__________________________________________________________________________________________________\n",
      "embedding_1 (Embedding)         (None, None, 128)    897408      input_2[0][0]                    \n",
      "__________________________________________________________________________________________________\n",
      "lstm_2 (LSTM)                   [(None, 46, 256), (N 525312      lstm_1[0][0]                     \n",
      "__________________________________________________________________________________________________\n",
      "lstm_3 (LSTM)                   [(None, None, 256),  394240      embedding_1[0][0]                \n",
      "                                                                 lstm_2[0][1]                     \n",
      "                                                                 lstm_2[0][2]                     \n",
      "__________________________________________________________________________________________________\n",
      "attention_layer (AttentionLayer ((None, None, 256),  131328      lstm_2[0][0]                     \n",
      "                                                                 lstm_3[0][0]                     \n",
      "__________________________________________________________________________________________________\n",
      "concat_layer (Concatenate)      (None, None, 512)    0           lstm_3[0][0]                     \n",
      "                                                                 attention_layer[0][0]            \n",
      "__________________________________________________________________________________________________\n",
      "dense_1 (Dense)                 (None, None, 7011)   3596643     concat_layer[0][0]               \n",
      "==================================================================================================\n",
      "Total params: 8,445,667\n",
      "Trainable params: 8,445,667\n",
      "Non-trainable params: 0\n",
      "__________________________________________________________________________________________________\n"
     ]
    }
   ],
   "source": [
    "# 어텐션 층(어텐션 함수)\n",
    "attn_layer = AttentionLayer(name='attention_layer')\n",
    "# 인코더와 디코더의 모든 time step의 hidden state를 어텐션 층에 전달하고 결과를 리턴\n",
    "attn_out, attn_states = attn_layer([encoder_outputs, decoder_outputs])\n",
    "\n",
    "# 어텐션의 결과와 디코더의 hidden state들을 연결\n",
    "decoder_concat_input = Concatenate(axis=-1, name='concat_layer')([decoder_outputs, attn_out])\n",
    "\n",
    "# 디코더의 출력층\n",
    "decoder_softmax_layer = Dense(tar_vocab, activation='softmax')\n",
    "decoder_softmax_outputs = decoder_softmax_layer(decoder_concat_input)\n",
    "\n",
    "# 모델 정의\n",
    "model2 = Model([encoder_inputs, decoder_inputs], decoder_softmax_outputs)\n",
    "model2.summary()"
   ]
  },
  {
   "cell_type": "code",
   "execution_count": 54,
   "id": "american-texas",
   "metadata": {},
   "outputs": [
    {
     "name": "stdout",
     "output_type": "stream",
     "text": [
      "Epoch 1/50\n",
      "292/292 [==============================] - 214s 695ms/step - loss: 5.3847 - val_loss: 4.7588\n",
      "Epoch 2/50\n",
      "292/292 [==============================] - 207s 709ms/step - loss: 4.7231 - val_loss: 4.4621\n",
      "Epoch 3/50\n",
      "292/292 [==============================] - 207s 709ms/step - loss: 4.3720 - val_loss: 4.1541\n",
      "Epoch 4/50\n",
      "292/292 [==============================] - 205s 704ms/step - loss: 4.0655 - val_loss: 3.9450\n",
      "Epoch 5/50\n",
      "292/292 [==============================] - 207s 710ms/step - loss: 3.8285 - val_loss: 3.7956\n",
      "Epoch 6/50\n",
      "292/292 [==============================] - 208s 714ms/step - loss: 3.6541 - val_loss: 3.6780\n",
      "Epoch 7/50\n",
      "292/292 [==============================] - 207s 709ms/step - loss: 3.5019 - val_loss: 3.5909\n",
      "Epoch 8/50\n",
      "292/292 [==============================] - 207s 710ms/step - loss: 3.3813 - val_loss: 3.5035\n",
      "Epoch 9/50\n",
      "292/292 [==============================] - 208s 712ms/step - loss: 3.2679 - val_loss: 3.4447\n",
      "Epoch 10/50\n",
      "292/292 [==============================] - 207s 710ms/step - loss: 3.1732 - val_loss: 3.4051\n",
      "Epoch 11/50\n",
      "292/292 [==============================] - 207s 711ms/step - loss: 3.0806 - val_loss: 3.3730\n",
      "Epoch 12/50\n",
      "292/292 [==============================] - 206s 707ms/step - loss: 3.0068 - val_loss: 3.3217\n",
      "Epoch 13/50\n",
      "292/292 [==============================] - 208s 711ms/step - loss: 2.9357 - val_loss: 3.2807\n",
      "Epoch 14/50\n",
      "292/292 [==============================] - 206s 707ms/step - loss: 2.8660 - val_loss: 3.2572\n",
      "Epoch 15/50\n",
      "292/292 [==============================] - 208s 713ms/step - loss: 2.8110 - val_loss: 3.2357\n",
      "Epoch 16/50\n",
      "292/292 [==============================] - 208s 712ms/step - loss: 2.7532 - val_loss: 3.2329\n",
      "Epoch 17/50\n",
      "292/292 [==============================] - 208s 711ms/step - loss: 2.7086 - val_loss: 3.2157\n",
      "Epoch 18/50\n",
      "292/292 [==============================] - 207s 708ms/step - loss: 2.6562 - val_loss: 3.2007\n",
      "Epoch 19/50\n",
      "292/292 [==============================] - 208s 714ms/step - loss: 2.6210 - val_loss: 3.1776\n",
      "Epoch 20/50\n",
      "292/292 [==============================] - 209s 715ms/step - loss: 2.5720 - val_loss: 3.1745\n",
      "Epoch 21/50\n",
      "292/292 [==============================] - 208s 713ms/step - loss: 2.5346 - val_loss: 3.1696\n",
      "Epoch 22/50\n",
      "292/292 [==============================] - 209s 716ms/step - loss: 2.4949 - val_loss: 3.1686\n",
      "Epoch 23/50\n",
      "292/292 [==============================] - 208s 712ms/step - loss: 2.4626 - val_loss: 3.1523\n",
      "Epoch 24/50\n",
      "292/292 [==============================] - 211s 722ms/step - loss: 2.4298 - val_loss: 3.1509\n",
      "Epoch 25/50\n",
      "292/292 [==============================] - 209s 717ms/step - loss: 2.4036 - val_loss: 3.1579\n",
      "Epoch 26/50\n",
      "292/292 [==============================] - 207s 710ms/step - loss: 2.3718 - val_loss: 3.1612\n",
      "Epoch 00026: early stopping\n"
     ]
    }
   ],
   "source": [
    "model2.compile(optimizer='rmsprop', loss='sparse_categorical_crossentropy')\n",
    "es = EarlyStopping(monitor='val_loss', patience=2, verbose=1)\n",
    "history = model2.fit(x=[encoder_input_train, decoder_input_train], y=decoder_target_train, \\\n",
    "          validation_data=([encoder_input_test, decoder_input_test], decoder_target_test), \\\n",
    "          batch_size=256, callbacks=[es], epochs=50)"
   ]
  },
  {
   "cell_type": "code",
   "execution_count": 55,
   "id": "purple-marathon",
   "metadata": {},
   "outputs": [],
   "source": [
    "model2.save_weights('news_summarizer_weights_1')"
   ]
  },
  {
   "cell_type": "code",
   "execution_count": 56,
   "id": "minute-newsletter",
   "metadata": {},
   "outputs": [],
   "source": [
    "# model2.load_weights('summarizer_weights')"
   ]
  },
  {
   "cell_type": "code",
   "execution_count": 57,
   "id": "hollow-bidder",
   "metadata": {},
   "outputs": [],
   "source": [
    "src_index_to_word = src_tokenizer.index_word # 원문 단어 집합에서 정수 -> 단어를 얻음\n",
    "tar_word_to_index = tar_tokenizer.word_index # 요약 단어 집합에서 단어 -> 정수를 얻음\n",
    "tar_index_to_word = tar_tokenizer.index_word # 요약 단어 집합에서 정수 -> 단어를 얻음"
   ]
  },
  {
   "cell_type": "code",
   "execution_count": 58,
   "id": "industrial-change",
   "metadata": {},
   "outputs": [],
   "source": [
    "# 인코더 설계\n",
    "encoder_model = Model(inputs=encoder_inputs, outputs=[encoder_outputs, state_h, state_c])\n",
    "\n",
    "# 이전 시점의 상태들을 저장하는 텐서\n",
    "decoder_state_input_h = Input(shape=(hidden_size,))\n",
    "decoder_state_input_c = Input(shape=(hidden_size,))\n",
    "\n",
    "dec_emb2 = dec_emb_layer(decoder_inputs)\n",
    "\n",
    "# 문장의 다음 단어를 예측하기 위해서 초기 상태(initial_state)를 이전 시점의 상태로 사용. 이는 뒤의 함수 decode_sequence()에 구현\n",
    "# 훈련 과정에서와 달리 LSTM의 리턴하는 은닉 상태와 셀 상태인 state_h와 state_c를 버리지 않음.\n",
    "decoder_outputs2, state_h2, state_c2 = decoder_lstm(dec_emb2, initial_state=[decoder_state_input_h, decoder_state_input_c])"
   ]
  },
  {
   "cell_type": "code",
   "execution_count": 59,
   "id": "ongoing-rubber",
   "metadata": {},
   "outputs": [],
   "source": [
    "# 어텐션 함수\n",
    "decoder_hidden_state_input = Input(shape=(text_max_len, hidden_size))\n",
    "attn_out_inf, attn_states_inf = attn_layer([decoder_hidden_state_input, decoder_outputs2])\n",
    "decoder_inf_concat = Concatenate(axis=-1, name='concat')([decoder_outputs2, attn_out_inf])\n",
    "\n",
    "# 디코더의 출력층\n",
    "decoder_outputs2 = decoder_softmax_layer(decoder_inf_concat) \n",
    "\n",
    "# 최종 디코더 모델\n",
    "decoder_model = Model(\n",
    "    [decoder_inputs] + [decoder_hidden_state_input,decoder_state_input_h, decoder_state_input_c],\n",
    "    [decoder_outputs2] + [state_h2, state_c2])"
   ]
  },
  {
   "cell_type": "code",
   "execution_count": 418,
   "id": "asian-australia",
   "metadata": {},
   "outputs": [],
   "source": [
    "def decode_sequence(input_seq):\n",
    "    # 입력으로부터 인코더의 상태를 얻음\n",
    "    e_out, e_h, e_c = encoder_model.predict(input_seq)\n",
    "\n",
    "     # <SOS>에 해당하는 토큰 생성\n",
    "    target_seq = np.zeros((1,1))\n",
    "    target_seq[0, 0] = tar_word_to_index['sostoken']\n",
    "\n",
    "    stop_condition = False\n",
    "    decoded_sentence = ''\n",
    "    while not stop_condition: # stop_condition이 True가 될 때까지 루프 반복\n",
    "\n",
    "        output_tokens, h, c = decoder_model.predict([target_seq] + [e_out, e_h, e_c])\n",
    "        sampled_token_index = np.argmax(output_tokens[0, -1, :])\n",
    "        sampled_token = tar_index_to_word[sampled_token_index]\n",
    "\n",
    "        if (sampled_token!='eostoken'):\n",
    "            decoded_sentence += ' '+sampled_token\n",
    "\n",
    "        #  <eos>에 도달하거나 최대 길이를 넘으면 중단.\n",
    "        if (sampled_token == 'eostoken'  or len(decoded_sentence.split()) >= (summary_max_len-1)):\n",
    "            stop_condition = True\n",
    "\n",
    "        # 길이가 1인 타겟 시퀀스를 업데이트\n",
    "        target_seq = np.zeros((1,1))\n",
    "        target_seq[0, 0] = sampled_token_index\n",
    "\n",
    "        # 상태를 업데이트 합니다.\n",
    "        e_h, e_c = h, c\n",
    "\n",
    "    return decoded_sentence"
   ]
  },
  {
   "cell_type": "code",
   "execution_count": 61,
   "id": "suffering-flashing",
   "metadata": {},
   "outputs": [],
   "source": [
    "# 원문의 정수 시퀀스를 텍스트 시퀀스로 변환\n",
    "def seq2text(input_seq):\n",
    "    temp=''\n",
    "    for i in input_seq:\n",
    "        if (i!=0):\n",
    "            temp = temp + src_index_to_word[i]+' '\n",
    "    return temp\n",
    "\n",
    "# 요약문의 정수 시퀀스를 텍스트 시퀀스로 변환\n",
    "def seq2summary(input_seq):\n",
    "    temp=''\n",
    "    for i in input_seq:\n",
    "        if ((i!=0 and i!=tar_word_to_index['sostoken']) and i!=tar_word_to_index['eostoken']):\n",
    "            temp = temp + tar_index_to_word[i] + ' '\n",
    "    return temp"
   ]
  },
  {
   "cell_type": "code",
   "execution_count": 82,
   "id": "armed-quality",
   "metadata": {
    "scrolled": false
   },
   "outputs": [
    {
     "name": "stdout",
     "output_type": "stream",
     "text": [
      "id: 12160\n",
      "원문 : tamil nadu farmers monday ran naked near pm narendra modi office demanding crore drought relief fund centre reportedly comes after promised appointment modi but not allowed meet later farmers sitting protest since almost month holding skulls hands live mice mouths \n",
      "실제 요약 : tn farmers protest naked near pmo seeking drought relief \n",
      "예측 요약 :  tamil nadu cm announces pm modi worth cr on pm\n",
      "\n",
      "\n",
      "id: 12161\n",
      "원문 : donald trump saturday completed first days us president after taking oath office january days trump issued dozens executive orders including immigration ban citizens six muslim majority countries trump also warned north korea major conflict nuclear missile programmes weeks time \n",
      "실제 요약 : in pics trump completes first days as us president \n",
      "예측 요약 :  trump st to visit us open to us prez\n",
      "\n",
      "\n",
      "id: 12162\n",
      "원문 : lawsuit claimed american audio equipment company bose spying users wireless headphones app tracks music listen bose violates users privacy rights selling audio information without permission added audio choices offer incredible amount insight customer personality behaviour religion lawsuit said \n",
      "실제 요약 : bose wireless spying on customers claims lawsuit \n",
      "예측 요약 :  sues app for hacking users in\n",
      "\n",
      "\n",
      "id: 12163\n",
      "원문 : following lalu prasad yadav sentenced years jail fodder scam case son tejashwi yadav said approach high court after studying sentence apply bail meanwhile son tej pratap yadav said confident get bail full faith judiciary \n",
      "실제 요약 : we will apply for bail in hc tejashwi on lalu sentence \n",
      "예측 요약 :  lalu son son granted bail in years in jail\n",
      "\n",
      "\n",
      "id: 12164\n",
      "원문 : bangladesh defeated sri lanka runs series friday achieving biggest margin victory runs odi cricket loss sri lanka fourth consecutive th last odis bangladesh rounder shakib al hasan named man match taking three wickets scoring runs \n",
      "실제 요약 : desh post their biggest win as sl lose fourth straight odi \n",
      "예측 요약 :  sl beat sl to win their th odi series in series\n",
      "\n",
      "\n",
      "id: 12165\n",
      "원문 : following threats us international criminal court said continue investigate war crimes court independent judicial institution added us warned icc consequences proceeds opening investigation alleged war crimes committed us military intelligence staff afghanistan war \n",
      "실제 요약 : icc says will continue after us threats \n",
      "예측 요약 :  us court upholds cbi to un in ayodhya case\n",
      "\n",
      "\n",
      "id: 12166\n",
      "원문 : berkshire hathaway vice chairman charlie while speaking company annual meeting said firm chairman billionaire warren buffett version mahatma gandhi further said according berkshire one big advantage lot people trying brilliant trying stay \n",
      "실제 요약 : buffett version of mahatma gandhi business partner \n",
      "예측 요약 :  buffett stock is not buffett\n",
      "\n",
      "\n",
      "id: 12167\n",
      "원문 : dot called dot word known combination words tiny little refers small stroke dot writing printing derived latin word aims distinguish letters vertical \n",
      "실제 요약 : what are the over and called \n",
      "예측 요약 :  twitter reacts to logo\n",
      "\n",
      "\n",
      "id: 12168\n",
      "원문 : sacked aap minister kapil mishra sunday accused aam aadmi party involved big donation scam alleging party concealed actual amount donations used shell companies black money kejriwal associates part scam said also approach cbi documents \n",
      "실제 요약 : aap used fake firms to black money sacked aap min \n",
      "예측 요약 :  aap mishra mishra booked for aap mishra\n",
      "\n",
      "\n",
      "id: 12169\n",
      "원문 : after former mp jaya compared alauddin khilji character film padmaavat samajwadi party leader azam khan called wali concentrate politics pay attention remarks khan asked earlier said khilji character reminded khan harassed election contested \n",
      "실제 요약 : azam khan calls jaya over khilji remark \n",
      "예측 요약 :  hai song for deepika on padmavati\n",
      "\n",
      "\n",
      "id: 12170\n",
      "원문 : video assistant sub inspector punjab thrashing elderly woman dragging hair state district surfaced online woman brick labourer protesting owner reportedly not paying wages according government rates policeman also threw ground trying stop \n",
      "실제 요약 : cop beats elderly woman her by her hair in punjab \n",
      "예측 요약 :  cop thrashes woman for misbehaving with her in assam\n",
      "\n",
      "\n",
      "id: 12171\n",
      "원문 : civilian jammu filed police complaint after picture circulated electronic print media one six lashkar taiba terrorists killed security forces saturday demanding probe incident said somebody downloaded picture facebook account circulated one dead terrorists \n",
      "실제 요약 : man finds his pic among dead militants files complaint \n",
      "예측 요약 :  journo suspended over photo of gorkhaland encounter\n",
      "\n",
      "\n",
      "id: 12172\n",
      "원문 : man kaur year old woman chandigarh completed metre sprint world masters games auckland monday taking one minute seconds finish race kaur only competitor category thereby awarded gold medal effort kaur started running aged also compete shot put javelin \n",
      "실제 요약 : yr old indian finishes race at international event \n",
      "예측 요약 :  year old woman breaks world record in sets\n",
      "\n",
      "\n",
      "id: 12173\n",
      "원문 : stephen hawking penned joint letter protest article challenged big bang theory article gave alternate big bounce theory stating universe bounced back collapsing state current expanding state contract again physicists saying big bang main describing universe birth \n",
      "실제 요약 : hawking others write against theory challenging big bang \n",
      "예측 요약 :  einstein theory theory theory theory big on big bang theory\n",
      "\n",
      "\n",
      "id: 12174\n",
      "원문 : under adopt lion campaign new zealand rugby fans offered free stay visiting irish british rugby fans expected fly new zealand june rugby tour visitors expected while new offered free accommodation many also offered pick visitors airports \n",
      "실제 요약 : nz rugby fans offer to host british visitors for free \n",
      "예측 요약 :  zealand fans protest red card for free red card in nz\n",
      "\n",
      "\n",
      "id: 12175\n",
      "원문 : landfill site gujarat vadodara converted tree museum after municipal corporation planted saplings nearly varieties area square metres site reportedly worth crore began after locals complained bad smell emanating landfill \n",
      "실제 요약 : site in vadodara converted into tree museum \n",
      "예측 요약 :  gujarat village finds kg of trees\n",
      "\n",
      "\n",
      "id: 12176\n",
      "원문 : official twitter handle mumbai police shared meme amitabh bachchan aamir khan starrer thugs hindostan meme features dialogue used aamir film trailer no place thugs mumbai read caption post reacting post twitter user commented mumbai police \n",
      "실제 요약 : no place for thugs in mumbai mumbai police on thugs of hindostan \n",
      "예측 요약 :  police shares thugs of thugs of hindostan in thugs of hindostan\n",
      "\n",
      "\n",
      "id: 12177\n",
      "원문 : many seven people killed accident uttar pradesh ghaziabad friday after child accidentally suv parked vehicle carrying wedding party around people rolled gorge near highway groom father among killed \n",
      "실제 요약 : killed in ghaziabad after child car \n",
      "예측 요약 :  dead as bus falls off gorge in bihar\n",
      "\n",
      "\n",
      "id: 12178\n",
      "원문 : former judge raghav allegedly opened fire haryana electricity board workers while fixing power transmission line outside home civil lines gurugram thursday raghav reportedly frequent power cuts area fired shots air four towards workers police official said \n",
      "실제 요약 : ex judge shoots at power line workers over outage \n",
      "예측 요약 :  ex judge liquor shops in gurugram fire\n",
      "\n",
      "\n",
      "id: 12179\n",
      "원문 : carlos award winning south african filmmaker died age after head safari lodge south africa working feature film lodge mishap occurred flown helicopter hospital johannesburg later succumbed injuries \n",
      "실제 요약 : south african filmmaker dies on being head by \n",
      "예측 요약 :  dies after death title\n",
      "\n",
      "\n",
      "id: 12180\n",
      "원문 : year old maharashtra man whose genitals chopped three people including year old woman stalking died deceased reportedly gone woman house told husband before incident woman warned dire consequences not stop stalking \n",
      "실제 요약 : stalker dies after woman chopped off his genitals in maharashtra \n",
      "예측 요약 :  man stabs neighbour after being raped by husband in maha\n",
      "\n",
      "\n",
      "id: 12181\n",
      "원문 : actress sonali bendre sister law arya said sonali diagnosed cancer currently undergoing treatment new york staying strong july sonali revealed diagnosed cancer sonali earlier shared year old son ranveer took news cancer diagnosis \n",
      "실제 요약 : sonali is strong sonali kin on cancer treatment \n",
      "예측 요약 :  sonali reveals she was cancer in cancer treatment\n",
      "\n",
      "\n",
      "id: 12182\n",
      "원문 : shekhar kapur set direct little dragon authorised biopic legendary artist actor bruce lee late actor chinese screen name li means little dragon film contemporary take bruce lee important audiences today relate lives journey bruce lee said kapur \n",
      "실제 요약 : to direct lee biopic little \n",
      "예측 요약 :  rajkummar rao to play in biopic\n",
      "\n",
      "\n",
      "id: 12183\n",
      "원문 : windies rounder chris gayle returned odi cricket after gap days after taking field first england windies odi tuesday gayle last odi match new zealand icc world cup quarter final year old national team due contract dispute board cricketers \n",
      "실제 요약 : chris gayle returns to odi cricket after days \n",
      "예측 요약 :  chris gayle hits his first odi ton in south africa\n",
      "\n",
      "\n",
      "id: 12184\n",
      "원문 : uttar pradesh oldest prisoner year old yadav released thursday after serving years jail year old murder case freed recommendation previous samajwadi party government governor ram naik using constitutional powers yadav release proposed sp government january \n",
      "실제 요약 : year old uttar pradesh oldest prisoner freed from jail \n",
      "예측 요약 :  year old dies in days after death of rapists\n",
      "\n",
      "\n",
      "id: 12185\n",
      "원문 : royal caribbean international refunded several passengers board voyager seas cruise ship singapore australia after complaints around indians working filed passengers said indian men harassed female passengers recording brought dancers also blocked number ship amenities passengers claimed \n",
      "실제 요약 : staff on cruise passengers \n",
      "예측 요약 :  airline to give back to crew for flight\n",
      "\n",
      "\n",
      "id: 12186\n",
      "원문 : us president donald trump said mass shooting killed least people texas church sunday caused due attacker mental health problem gun ownership not factor added notably people killed us year incidents gun violence \n",
      "실제 요약 : mental issue not gun caused texas shooting trump \n",
      "예측 요약 :  trump says he is not dead in shooting us prez\n",
      "\n",
      "\n",
      "id: 12187\n",
      "원문 : hearing privacy policy whatsapp centre told supreme court friday users data connected personality integral right life guaranteed under constitution further added government soon implement regulatory regime data protection \n",
      "실제 요약 : data protection to right to life centre tells sc \n",
      "예측 요약 :  sc allows whatsapp to privacy privacy verdict\n",
      "\n",
      "\n",
      "id: 12188\n",
      "원문 : sri lankan president maithripala sirisena sunday announced nationwide state emergency lifted emergency imposed control communal violence after muslims clashed country central district two people killed hundreds muslim owned properties mosques damaged according reports \n",
      "실제 요약 : sri lanka lifts nationwide emergency after days \n",
      "예측 요약 :  sri lanka prez blocks sri lanka amid floods\n",
      "\n",
      "\n",
      "id: 12189\n",
      "원문 : senior bjp leader subramanian swamy announced construction ram temple ayodhya begin soon devotees able celebrate diwali temple next year everything ready materials construction pre fabricated matter attaching like swami narayan mandir swamy added \n",
      "실제 요약 : next diwali will be celebrated in ram temple swamy \n",
      "예측 요약 :  ram mandir construction will be built in ayodhya issue swamy\n",
      "\n",
      "\n"
     ]
    }
   ],
   "source": [
    "for i in range(12160, 12190):\n",
    "    print('id:', i)\n",
    "    print(\"원문 :\", seq2text(encoder_input_test[i]))\n",
    "    print(\"실제 요약 :\", seq2summary(decoder_input_test[i]))\n",
    "    print(\"예측 요약 :\", decode_sequence(encoder_input_test[i].reshape(1, text_max_len)))\n",
    "    print(\"\\n\")"
   ]
  },
  {
   "cell_type": "code",
   "execution_count": 72,
   "id": "aquatic-berkeley",
   "metadata": {},
   "outputs": [],
   "source": [
    "def show_expectation(idx):\n",
    "    print(\"원문 :\", seq2text(encoder_input_test[idx]))\n",
    "    print(\"실제 요약 :\", seq2summary(decoder_input_test[idx]))\n",
    "    print(\"예측 요약 :\", decode_sequence(encoder_input_test[idx].reshape(1, text_max_len)))\n",
    "    print(\"\\n\")"
   ]
  },
  {
   "cell_type": "code",
   "execution_count": 74,
   "id": "absolute-millennium",
   "metadata": {},
   "outputs": [
    {
     "name": "stdout",
     "output_type": "stream",
     "text": [
      "원문 : nasa astronaut ricky arnold shared selfie taken spacewalk outside international space station orbits earth km altitude arnold fellow drew worked six hours swap malfunctioning cooling box nicknamed source leak five years ago another relatively box called \n",
      "실제 요약 : astronaut shares selfie taken above earth \n",
      "예측 요약 :  astronaut shares view from space station\n",
      "\n",
      "\n"
     ]
    }
   ],
   "source": [
    "show_expectation(12040)"
   ]
  },
  {
   "cell_type": "markdown",
   "id": "hollow-suggestion",
   "metadata": {},
   "source": [
    "아직 의미를 잘 파악하지 못 하는 것 같습니다. 또한 요약된 문장을 살펴보면 주어와 목적어를 같게 한 경우가 많은데, 해결이 필요합니다. 또한, Tokenize과정에서 마침표가 생략되어, 그것도 넣어주도록 하겠습니다."
   ]
  },
  {
   "cell_type": "markdown",
   "id": "based-appendix",
   "metadata": {},
   "source": [
    "# Trial 2\n",
    "summary의 길이를 강하게 한정하여 의미없는 동어반복이 일어난 것 같습니다. 또한 tokenize의 filter를 수정하여 같은 모델로 학습해보겠습니다."
   ]
  },
  {
   "cell_type": "markdown",
   "id": "damaged-egypt",
   "metadata": {},
   "source": [
    "## load data"
   ]
  },
  {
   "cell_type": "code",
   "execution_count": 167,
   "id": "raised-jonathan",
   "metadata": {},
   "outputs": [],
   "source": [
    "import urllib.request\n",
    "data2 = pd.read_csv('news_summary_more.csv', encoding='iso-8859-1')"
   ]
  },
  {
   "cell_type": "code",
   "execution_count": 168,
   "id": "funky-module",
   "metadata": {},
   "outputs": [],
   "source": [
    "data2 = data2[['text', 'headlines']]\n",
    "data2.rename(columns = {'text': 'Text', 'headlines': 'Summary'}, inplace = True)"
   ]
  },
  {
   "cell_type": "markdown",
   "id": "dense-savage",
   "metadata": {},
   "source": [
    "## preprocess data"
   ]
  },
  {
   "cell_type": "code",
   "execution_count": 169,
   "id": "annoying-cable",
   "metadata": {},
   "outputs": [
    {
     "name": "stdout",
     "output_type": "stream",
     "text": [
      "10.161367654800415  seconds\n",
      "['saurav kant alumnus upgrad iiit pg program machine learning artificial intelligence sr systems engineer infosys almost years work experience .. program upgrad degree career support helped transition data scientist tech mahindra salary hike .. upgrad online power learning powered lakh careers ..'\n",
      " 'kunal shah credit card bill payment platform cred gave users chance win free food swiggy one year .. pranav kaushik delhi techie bagged reward after spending cred coins .. users get one cred coin per rupee bill paid used avail rewards brands like ixigo bookmyshow ubereats cult .. fit ..'\n",
      " 'new zealand defeated india wickets fourth odi hamilton thursday win first match five match odi series .. india lost international match under rohit sharma captaincy after consecutive victories dating back march .. match witnessed india getting seventh lowest total odi cricket history ..'\n",
      " ...\n",
      " 'according reports new version science fiction film matrix development .. michael jordan reportedly play lead role film .. screenwriter zak penn talks write script film reports added .. actor keanu reeves starred original film followed two sequels ..'\n",
      " 'new music video shows rapper snoop dogg aiming toy gun clown character parodying us president donald trump .. video also shows tv airing news conference headline ronald klump wants deport doggs airing live clown house .. video remixed version song lavender ..'\n",
      " 'madhesi morcha alliance seven political parties withdrawn support pm pushpa kamal dahal led nepal government after failed meet seven day ultimatum fulfil demands including endorsement revised constitution amendment bill .. morcha seats parliament but despite withdrawal support no immediate threat government ..']\n",
      "6.280515193939209  seconds\n",
      "['upgrad learner switches to career in ml al with salary hike'\n",
      " 'delhi techie wins free food from swiggy for one year on cred'\n",
      " 'new zealand end rohit sharma led india match winning streak' ...\n",
      " 'the matrix film to get reboot reports'\n",
      " 'snoop dogg aims gun at clown dressed as trump in new video'\n",
      " 'madhesi morcha withdraws support to nepalese government']\n"
     ]
    }
   ],
   "source": [
    "clean_text = preprocess_data(data2['Text'])  # 클라우드 기준으로 3~4분 정도 소요 됩니다\n",
    "print(clean_text)\n",
    "\n",
    "clean_summary = preprocess_data(data2['Summary'], remove_stopwords=False) # 클라우드 기준 1분정도 소요됩니다.\n",
    "print(clean_summary)"
   ]
  },
  {
   "cell_type": "code",
   "execution_count": 170,
   "id": "early-variable",
   "metadata": {},
   "outputs": [
    {
     "name": "stdout",
     "output_type": "stream",
     "text": [
      "전체 샘플수 : 98401\n"
     ]
    }
   ],
   "source": [
    "#DataFrame으로 저장합니다\n",
    "data2['Text'] = clean_text\n",
    "data2['Summary'] = clean_summary\n",
    "\n",
    "# 빈 값을 Null 값으로 변환\n",
    "data2.replace('', np.nan, inplace=True)\n",
    "\n",
    "# 결측치 확인 74개의 빈 summary 확인되었습니다\n",
    "data2.isnull().sum()\n",
    "\n",
    "# 결측치 제거\n",
    "data2.dropna(axis=0, inplace=True)\n",
    "print('전체 샘플수 :', (len(data2)))"
   ]
  },
  {
   "cell_type": "code",
   "execution_count": 171,
   "id": "imposed-resistance",
   "metadata": {
    "scrolled": true
   },
   "outputs": [
    {
     "name": "stdout",
     "output_type": "stream",
     "text": [
      "전체 샘플 중 길이가 1 이상,34 이하인 샘플의 비율:0.10599485777583562\n"
     ]
    }
   ],
   "source": [
    "bandpass_len(1, 34, data2['Text'])"
   ]
  },
  {
   "cell_type": "code",
   "execution_count": 172,
   "id": "vocational-cambridge",
   "metadata": {},
   "outputs": [
    {
     "name": "stdout",
     "output_type": "stream",
     "text": [
      "전체 샘플 중 길이가 35 이상,42 이하인 샘플의 비율:0.7018627859472972\n"
     ]
    }
   ],
   "source": [
    "bandpass_len(35, 42, data2['Text'])"
   ]
  },
  {
   "cell_type": "code",
   "execution_count": 173,
   "id": "handmade-proxy",
   "metadata": {},
   "outputs": [
    {
     "name": "stdout",
     "output_type": "stream",
     "text": [
      "전체 샘플 중 길이가 43 이상,3000 이하인 샘플의 비율:0.1921423562768671\n"
     ]
    }
   ],
   "source": [
    "bandpass_len(43, 3000, data2['Text'])"
   ]
  },
  {
   "cell_type": "markdown",
   "id": "organizational-archive",
   "metadata": {},
   "source": [
    "\\[35, 42\\]의 구간만 사용하겠습니다"
   ]
  },
  {
   "cell_type": "code",
   "execution_count": 174,
   "id": "twenty-zealand",
   "metadata": {},
   "outputs": [],
   "source": [
    "text_max_len = 42; text_min_len = 35"
   ]
  },
  {
   "cell_type": "code",
   "execution_count": 175,
   "id": "pressing-staff",
   "metadata": {},
   "outputs": [],
   "source": [
    "data2 = data2[data2['Text'].apply(lambda x: len(x.split()) <= text_max_len \\\n",
    "            and len(x.split()) >= text_min_len)]\n"
   ]
  },
  {
   "cell_type": "code",
   "execution_count": 176,
   "id": "resistant-leisure",
   "metadata": {
    "scrolled": false
   },
   "outputs": [
    {
     "name": "stdout",
     "output_type": "stream",
     "text": [
      "전체 샘플 중 길이가 7 이상,13 이하인 샘플의 비율:0.9795986331518591\n"
     ]
    }
   ],
   "source": [
    "bandpass_len(7, 13, data2['Summary'])"
   ]
  },
  {
   "cell_type": "code",
   "execution_count": 177,
   "id": "pregnant-vertex",
   "metadata": {},
   "outputs": [],
   "source": [
    "summary_max_len = 13; summary_min_len = 7;"
   ]
  },
  {
   "cell_type": "code",
   "execution_count": 178,
   "id": "median-programming",
   "metadata": {},
   "outputs": [],
   "source": [
    "data2 = data2[data2['Summary'].apply(lambda x: len(x.split()) <= summary_max_len \\\n",
    "            and len(x.split()) >= summary_min_len)]"
   ]
  },
  {
   "cell_type": "markdown",
   "id": "marine-influence",
   "metadata": {},
   "source": [
    "앞과 동일한 처리를 합니다."
   ]
  },
  {
   "cell_type": "code",
   "execution_count": 179,
   "id": "freelance-jesus",
   "metadata": {},
   "outputs": [
    {
     "name": "stdout",
     "output_type": "stream",
     "text": [
      "[46545 48430 32283 ... 64323 64084 34778]\n",
      "테스트 데이터의 수 : 13531\n",
      "훈련 데이터의 개수 : 54124\n",
      "훈련 레이블의 개수 : 54124\n",
      "테스트 데이터의 개수 : 13531\n",
      "테스트 레이블의 개수 : 13531\n"
     ]
    }
   ],
   "source": [
    "# 토큰화\n",
    "data2['decoder_input'] = data2['Summary'].apply(lambda x : 'sostoken '+ x)\n",
    "data2['decoder_target'] = data2['Summary'].apply(lambda x : x + ' eostoken')\n",
    "data2.head()\n",
    "\n",
    "# np.array로 저장\n",
    "encoder_input = np.array(data2['Text']) # 인코더의 입력\n",
    "decoder_input = np.array(data2['decoder_input']) # 디코더의 입력\n",
    "decoder_target = np.array(data2['decoder_target']) # 디코더의 레이블\n",
    "\n",
    "# train test split\n",
    "indices = np.arange(encoder_input.shape[0])\n",
    "np.random.shuffle(indices)\n",
    "print(indices)\n",
    "\n",
    "encoder_input = encoder_input[indices]\n",
    "decoder_input = decoder_input[indices]\n",
    "decoder_target = decoder_target[indices]\n",
    "\n",
    "n_of_val = int(len(encoder_input)*0.2)\n",
    "print('테스트 데이터의 수 :', n_of_val)\n",
    "\n",
    "encoder_input_train = encoder_input[:-n_of_val]\n",
    "decoder_input_train = decoder_input[:-n_of_val]\n",
    "decoder_target_train = decoder_target[:-n_of_val]\n",
    "\n",
    "encoder_input_test = encoder_input[-n_of_val:]\n",
    "decoder_input_test = decoder_input[-n_of_val:]\n",
    "decoder_target_test = decoder_target[-n_of_val:]\n",
    "\n",
    "print('훈련 데이터의 개수 :', len(encoder_input_train))\n",
    "print('훈련 레이블의 개수 :', len(decoder_input_train))\n",
    "print('테스트 데이터의 개수 :', len(encoder_input_test))\n",
    "print('테스트 레이블의 개수 :', len(decoder_input_test))"
   ]
  },
  {
   "cell_type": "markdown",
   "id": "million-worst",
   "metadata": {},
   "source": [
    "### Encoding"
   ]
  },
  {
   "cell_type": "code",
   "execution_count": 180,
   "id": "floating-stamp",
   "metadata": {},
   "outputs": [],
   "source": [
    "src_tokenizer = Tokenizer(filters='\"#$%&()*+,-/:;<=>@[\\\\]^_`{|}~\\t\\n') # 토크나이저 정의, 마침표와 느낌표, 물음표는 제거하지 않습니다.\n",
    "src_tokenizer.fit_on_texts(encoder_input_train) # 입력된 데이터로부터 단어 집합 생성"
   ]
  },
  {
   "cell_type": "code",
   "execution_count": 181,
   "id": "entitled-circulation",
   "metadata": {},
   "outputs": [
    {
     "name": "stdout",
     "output_type": "stream",
     "text": [
      "단어 집합(vocabulary)의 크기 : 57864\n",
      "등장 빈도가 7번 이하인 희귀 단어의 수: 40833\n",
      "단어 집합에서 희귀 단어를 제외시킬 경우의 단어 집합의 크기 17031\n",
      "단어 집합에서 희귀 단어의 비율: 70.56719203649938\n",
      "전체 등장 빈도에서 희귀 단어 등장 빈도 비율: 4.279249729848357\n"
     ]
    }
   ],
   "source": [
    "threshold = 8  # 희귀 단어 비율을 70%로 맞춰봅니다\n",
    "total_cnt = len(src_tokenizer.word_index) # 단어의 수\n",
    "rare_cnt = 0 # 등장 빈도수가 threshold보다 작은 단어의 개수를 카운트\n",
    "total_freq = 0 # 훈련 데이터의 전체 단어 빈도수 총 합\n",
    "rare_freq = 0 # 등장 빈도수가 threshold보다 작은 단어의 등장 빈도수의 총 합\n",
    "\n",
    "# 단어와 빈도수의 쌍(pair)을 key와 value로 받는다.\n",
    "for key, value in src_tokenizer.word_counts.items():\n",
    "    total_freq = total_freq + value\n",
    "\n",
    "    # 단어의 등장 빈도수가 threshold보다 작으면\n",
    "    if(value < threshold):\n",
    "        rare_cnt = rare_cnt + 1\n",
    "        rare_freq = rare_freq + value\n",
    "\n",
    "print('단어 집합(vocabulary)의 크기 :', total_cnt)\n",
    "print('등장 빈도가 %s번 이하인 희귀 단어의 수: %s'%(threshold - 1, rare_cnt))\n",
    "print('단어 집합에서 희귀 단어를 제외시킬 경우의 단어 집합의 크기 %s'%(total_cnt - rare_cnt))\n",
    "print(\"단어 집합에서 희귀 단어의 비율:\", (rare_cnt / total_cnt)*100)\n",
    "print(\"전체 등장 빈도에서 희귀 단어 등장 빈도 비율:\", (rare_freq / total_freq)*100)"
   ]
  },
  {
   "cell_type": "code",
   "execution_count": 182,
   "id": "greenhouse-quarter",
   "metadata": {},
   "outputs": [],
   "source": [
    "src_vocab = 17046\n",
    "src_tokenizer = Tokenizer(num_words=src_vocab, filters='\"#$%&()*+,-/:;<=>@[\\\\]^_`{|}~\\t\\n') # 단어 집합의 크기를 17046으로 제한\n",
    "src_tokenizer.fit_on_texts(encoder_input_train) # 단어 집합 재생성."
   ]
  },
  {
   "cell_type": "code",
   "execution_count": 183,
   "id": "adjacent-voltage",
   "metadata": {},
   "outputs": [
    {
     "name": "stdout",
     "output_type": "stream",
     "text": [
      "[[17, 1750, 930, 255, 226, 392, 329, 2136, 5974, 11023, 3111, 695, 324, 76, 141, 952, 139, 11023, 268, 410, 259, 1854, 652, 1236, 410, 592, 1101, 1236, 2092, 476, 5311, 255, 3806], [4, 14, 37, 264, 9688, 5062, 1066, 30, 80, 63, 48, 2893, 6691, 8767, 750, 42, 28, 242, 340, 3767, 750, 5797, 3261, 2035, 838, 28, 1471, 266, 1153, 24, 24, 9, 84, 1], [3000, 2126, 99, 6141, 17029, 274, 226, 8171, 214, 129, 32, 69, 2126, 383, 111, 103, 1772, 241, 84, 3, 69, 32, 2126, 7176, 3390, 69, 5975, 2126, 87, 103, 1772]]\n"
     ]
    }
   ],
   "source": [
    "# 텍스트 시퀀스를 정수 시퀀스로 변환\n",
    "encoder_input_train = src_tokenizer.texts_to_sequences(encoder_input_train) \n",
    "encoder_input_test = src_tokenizer.texts_to_sequences(encoder_input_test)\n",
    "\n",
    "# 잘 진행되었는지 샘플 출력\n",
    "print(encoder_input_train[:3])"
   ]
  },
  {
   "cell_type": "markdown",
   "id": "disciplinary-alloy",
   "metadata": {},
   "source": [
    "summary에 대해서는 decoder_input으로 토큰화합니다."
   ]
  },
  {
   "cell_type": "code",
   "execution_count": 184,
   "id": "caroline-savannah",
   "metadata": {},
   "outputs": [],
   "source": [
    "tar_tokenizer = Tokenizer(filters='\"#$%&()*+,-/:;<=>@[\\\\]^_`{|}~\\t\\n')\n",
    "tar_tokenizer.fit_on_texts(decoder_input_train)"
   ]
  },
  {
   "cell_type": "code",
   "execution_count": 185,
   "id": "referenced-aggregate",
   "metadata": {},
   "outputs": [
    {
     "name": "stdout",
     "output_type": "stream",
     "text": [
      "단어 집합(vocabulary)의 크기 : 25760\n",
      "등장 빈도가 13번 이하인 희귀 단어의 수: 20920\n",
      "단어 집합에서 희귀 단어를 제외시킬 경우의 단어 집합의 크기 4840\n",
      "단어 집합에서 희귀 단어의 비율: 81.2111801242236\n",
      "전체 등장 빈도에서 희귀 단어 등장 빈도 비율: 11.541676596864784\n"
     ]
    }
   ],
   "source": [
    "threshold = 14\n",
    "total_cnt = len(tar_tokenizer.word_index) # 단어의 수\n",
    "rare_cnt = 0 # 등장 빈도수가 threshold보다 작은 단어의 개수를 카운트\n",
    "total_freq = 0 # 훈련 데이터의 전체 단어 빈도수 총 합\n",
    "rare_freq = 0 # 등장 빈도수가 threshold보다 작은 단어의 등장 빈도수의 총 합\n",
    "\n",
    "# 단어와 빈도수의 쌍(pair)을 key와 value로 받는다.\n",
    "for key, value in tar_tokenizer.word_counts.items():\n",
    "    total_freq = total_freq + value\n",
    "\n",
    "    # 단어의 등장 빈도수가 threshold보다 작으면\n",
    "    if(value < threshold):\n",
    "        rare_cnt = rare_cnt + 1\n",
    "        rare_freq = rare_freq + value\n",
    "\n",
    "print('단어 집합(vocabulary)의 크기 :', total_cnt)\n",
    "print('등장 빈도가 %s번 이하인 희귀 단어의 수: %s'%(threshold - 1, rare_cnt))\n",
    "print('단어 집합에서 희귀 단어를 제외시킬 경우의 단어 집합의 크기 %s'%(total_cnt - rare_cnt))\n",
    "print(\"단어 집합에서 희귀 단어의 비율:\", (rare_cnt / total_cnt)*100)\n",
    "print(\"전체 등장 빈도에서 희귀 단어 등장 빈도 비율:\", (rare_freq / total_freq)*100)"
   ]
  },
  {
   "cell_type": "code",
   "execution_count": 186,
   "id": "built-george",
   "metadata": {},
   "outputs": [
    {
     "name": "stdout",
     "output_type": "stream",
     "text": [
      "input\n",
      "input  [[1, 512, 492, 163, 7, 18, 261, 17, 1956], [1, 26, 5091, 2405, 329, 2917, 16, 1114, 3, 5407, 1502], [1, 3607, 1070, 160, 42, 310, 2344, 52, 11, 2345], [1, 3018, 6, 71, 2610, 3019, 19, 37, 443, 2145, 1872], [1, 43, 19, 3, 45, 1957, 21, 13, 178, 1250]]\n",
      "target\n",
      "decoder  [[512, 492, 163, 7, 18, 261, 17, 1956, 2], [26, 5091, 2405, 329, 2917, 16, 1114, 3, 5407, 1502, 2], [3607, 1070, 160, 42, 310, 2344, 52, 11, 2345, 2], [3018, 6, 71, 2610, 3019, 19, 37, 443, 2145, 1872, 2], [43, 19, 3, 45, 1957, 21, 13, 178, 1250, 2]]\n"
     ]
    }
   ],
   "source": [
    "tar_vocab = 7693\n",
    "tar_tokenizer = Tokenizer(num_words=tar_vocab, filters='\"#$%&()*+,-/:;<=>@[\\\\]^_`{|}~\\t\\n') \n",
    "tar_tokenizer.fit_on_texts(decoder_input_train)\n",
    "tar_tokenizer.fit_on_texts(decoder_target_train)\n",
    "\n",
    "# 텍스트 시퀀스를 정수 시퀀스로 변환\n",
    "decoder_input_train = tar_tokenizer.texts_to_sequences(decoder_input_train) \n",
    "decoder_target_train = tar_tokenizer.texts_to_sequences(decoder_target_train)\n",
    "decoder_input_test = tar_tokenizer.texts_to_sequences(decoder_input_test)\n",
    "decoder_target_test = tar_tokenizer.texts_to_sequences(decoder_target_test)\n",
    "\n",
    "# 잘 변환되었는지 확인\n",
    "print('input')\n",
    "print('input ',decoder_input_train[:5])\n",
    "print('target')\n",
    "print('decoder ',decoder_target_train[:5])"
   ]
  },
  {
   "cell_type": "markdown",
   "id": "accessory-association",
   "metadata": {},
   "source": [
    "sostoken과 eostoken이 각각 1, 2로 인코딩된 것과 변환이 제대로 되었음을 확인했습니다"
   ]
  },
  {
   "cell_type": "code",
   "execution_count": 187,
   "id": "textile-produce",
   "metadata": {},
   "outputs": [
    {
     "name": "stdout",
     "output_type": "stream",
     "text": [
      "삭제할 훈련 데이터의 개수 : 0\n",
      "삭제할 테스트 데이터의 개수 : 0\n",
      "훈련 데이터의 개수 : 54124\n",
      "훈련 레이블의 개수 : 54124\n",
      "테스트 데이터의 개수 : 13531\n",
      "테스트 레이블의 개수 : 13531\n"
     ]
    },
    {
     "name": "stderr",
     "output_type": "stream",
     "text": [
      "/opt/conda/lib/python3.7/site-packages/numpy/core/_asarray.py:83: VisibleDeprecationWarning: Creating an ndarray from ragged nested sequences (which is a list-or-tuple of lists-or-tuples-or ndarrays with different lengths or shapes) is deprecated. If you meant to do this, you must specify 'dtype=object' when creating the ndarray\n",
      "  return array(a, dtype, copy=False, order=order)\n"
     ]
    }
   ],
   "source": [
    "# 결측치 제거 - eostoken만 남은 경우를 제거한다. 아마 없을 것이다\n",
    "drop_train = [index for index, sentence in enumerate(decoder_input_train) if len(sentence) == 1]\n",
    "drop_test = [index for index, sentence in enumerate(decoder_input_test) if len(sentence) == 1]\n",
    "\n",
    "print('삭제할 훈련 데이터의 개수 :', len(drop_train))\n",
    "print('삭제할 테스트 데이터의 개수 :', len(drop_test))\n",
    "\n",
    "encoder_input_train = np.delete(encoder_input_train, drop_train, axis=0)\n",
    "decoder_input_train = np.delete(decoder_input_train, drop_train, axis=0)\n",
    "decoder_target_train = np.delete(decoder_target_train, drop_train, axis=0)\n",
    "\n",
    "encoder_input_test = np.delete(encoder_input_test, drop_test, axis=0)\n",
    "decoder_input_test = np.delete(decoder_input_test, drop_test, axis=0)\n",
    "decoder_target_test = np.delete(decoder_target_test, drop_test, axis=0)\n",
    "\n",
    "print('훈련 데이터의 개수 :', len(encoder_input_train))\n",
    "print('훈련 레이블의 개수 :', len(decoder_input_train))\n",
    "print('테스트 데이터의 개수 :', len(encoder_input_test))\n",
    "print('테스트 레이블의 개수 :', len(decoder_input_test))"
   ]
  },
  {
   "cell_type": "markdown",
   "id": "judicial-source",
   "metadata": {},
   "source": [
    "### Padding"
   ]
  },
  {
   "cell_type": "markdown",
   "id": "dimensional-bridal",
   "metadata": {},
   "source": [
    "encoder의 경우, padding을 뒤에 넣으면 context vector가 희석되므로 앞에 padding을 넣습니다"
   ]
  },
  {
   "cell_type": "code",
   "execution_count": 188,
   "id": "valuable-avatar",
   "metadata": {},
   "outputs": [],
   "source": [
    "encoder_input_train = pad_sequences(encoder_input_train, maxlen=text_max_len, padding='pre')\n",
    "encoder_input_test = pad_sequences(encoder_input_test, maxlen=text_max_len, padding='pre')\n",
    "decoder_input_train = pad_sequences(decoder_input_train, maxlen=summary_max_len, padding='post')\n",
    "decoder_target_train = pad_sequences(decoder_target_train, maxlen=summary_max_len, padding='post')\n",
    "decoder_input_test = pad_sequences(decoder_input_test, maxlen=summary_max_len, padding='post')\n",
    "decoder_target_test = pad_sequences(decoder_target_test, maxlen=summary_max_len, padding='post')"
   ]
  },
  {
   "cell_type": "code",
   "execution_count": 189,
   "id": "nasty-estate",
   "metadata": {
    "scrolled": true
   },
   "outputs": [
    {
     "name": "stdout",
     "output_type": "stream",
     "text": [
      "WARNING:tensorflow:Layer lstm_4 will not use cuDNN kernel since it doesn't meet the cuDNN kernel criteria. It will use generic GPU kernel as fallback when running on GPU\n",
      "WARNING:tensorflow:Layer lstm_5 will not use cuDNN kernel since it doesn't meet the cuDNN kernel criteria. It will use generic GPU kernel as fallback when running on GPU\n",
      "WARNING:tensorflow:Layer lstm_6 will not use cuDNN kernel since it doesn't meet the cuDNN kernel criteria. It will use generic GPU kernel as fallback when running on GPU\n"
     ]
    }
   ],
   "source": [
    "from tensorflow.keras.layers import Input, LSTM, Embedding, Dense, Concatenate\n",
    "from tensorflow.keras.models import Model\n",
    "from tensorflow.keras.callbacks import EarlyStopping, ModelCheckpoint\n",
    "\n",
    "\n",
    "# 인코더 설계 시작\n",
    "embedding_dim = 128\n",
    "hidden_size = 256\n",
    "\n",
    "# 인코더\n",
    "encoder_inputs = Input(shape=(text_max_len,))\n",
    "\n",
    "# 인코더의 임베딩 층\n",
    "enc_emb = Embedding(src_vocab, embedding_dim)(encoder_inputs)\n",
    "\n",
    "# 인코더의 LSTM 1\n",
    "encoder_lstm1 = LSTM(hidden_size, return_sequences=True, return_state=True ,dropout = 0.4, recurrent_dropout = 0.4)\n",
    "encoder_output1, state_h1, state_c1 = encoder_lstm1(enc_emb)\n",
    "\n",
    "# 인코더의 LSTM 2\n",
    "encoder_lstm2 = LSTM(hidden_size, return_sequences=True, return_state=True, dropout=0.4, recurrent_dropout=0.4)\n",
    "encoder_output2, state_h2, state_c2 = encoder_lstm2(encoder_output1)\n",
    "\n",
    "# 인코더의 LSTM 3\n",
    "encoder_lstm3 = LSTM(hidden_size, return_state=True, return_sequences=True, dropout=0.4, recurrent_dropout=0.4)\n",
    "encoder_outputs, state_h, state_c= encoder_lstm3(encoder_output2)"
   ]
  },
  {
   "cell_type": "code",
   "execution_count": 190,
   "id": "fifth-promotion",
   "metadata": {},
   "outputs": [
    {
     "name": "stdout",
     "output_type": "stream",
     "text": [
      "WARNING:tensorflow:Layer lstm_7 will not use cuDNN kernel since it doesn't meet the cuDNN kernel criteria. It will use generic GPU kernel as fallback when running on GPU\n"
     ]
    }
   ],
   "source": [
    "# 디코더 설계\n",
    "decoder_inputs = Input(shape=(None,))\n",
    "\n",
    "# 디코더의 임베딩 층\n",
    "dec_emb_layer = Embedding(tar_vocab, embedding_dim)\n",
    "dec_emb = dec_emb_layer(decoder_inputs)\n",
    "\n",
    "# 디코더의 LSTM\n",
    "decoder_lstm = LSTM(hidden_size, return_sequences=True, return_state=True, dropout=0.4, recurrent_dropout=0.2)\n",
    "decoder_outputs, _, _ = decoder_lstm(dec_emb, initial_state=[state_h, state_c])"
   ]
  },
  {
   "cell_type": "code",
   "execution_count": 191,
   "id": "after-habitat",
   "metadata": {},
   "outputs": [
    {
     "name": "stdout",
     "output_type": "stream",
     "text": [
      "Model: \"model_4\"\n",
      "__________________________________________________________________________________________________\n",
      "Layer (type)                    Output Shape         Param #     Connected to                     \n",
      "==================================================================================================\n",
      "input_6 (InputLayer)            [(None, 42)]         0                                            \n",
      "__________________________________________________________________________________________________\n",
      "embedding_2 (Embedding)         (None, 42, 128)      2181888     input_6[0][0]                    \n",
      "__________________________________________________________________________________________________\n",
      "lstm_4 (LSTM)                   [(None, 42, 256), (N 394240      embedding_2[0][0]                \n",
      "__________________________________________________________________________________________________\n",
      "input_7 (InputLayer)            [(None, None)]       0                                            \n",
      "__________________________________________________________________________________________________\n",
      "lstm_5 (LSTM)                   [(None, 42, 256), (N 525312      lstm_4[0][0]                     \n",
      "__________________________________________________________________________________________________\n",
      "embedding_3 (Embedding)         (None, None, 128)    984704      input_7[0][0]                    \n",
      "__________________________________________________________________________________________________\n",
      "lstm_6 (LSTM)                   [(None, 42, 256), (N 525312      lstm_5[0][0]                     \n",
      "__________________________________________________________________________________________________\n",
      "lstm_7 (LSTM)                   [(None, None, 256),  394240      embedding_3[0][0]                \n",
      "                                                                 lstm_6[0][1]                     \n",
      "                                                                 lstm_6[0][2]                     \n",
      "__________________________________________________________________________________________________\n",
      "dense_2 (Dense)                 (None, None, 7693)   1977101     lstm_7[0][0]                     \n",
      "==================================================================================================\n",
      "Total params: 6,982,797\n",
      "Trainable params: 6,982,797\n",
      "Non-trainable params: 0\n",
      "__________________________________________________________________________________________________\n"
     ]
    }
   ],
   "source": [
    "# 디코더의 출력층\n",
    "decoder_softmax_layer = Dense(tar_vocab, activation='softmax')\n",
    "decoder_softmax_outputs = decoder_softmax_layer(decoder_outputs) \n",
    "\n",
    "# 모델 정의\n",
    "model2 = Model([encoder_inputs, decoder_inputs], decoder_softmax_outputs)\n",
    "model2.summary()"
   ]
  },
  {
   "cell_type": "code",
   "execution_count": 192,
   "id": "supposed-curtis",
   "metadata": {},
   "outputs": [],
   "source": [
    "urllib.request.urlretrieve(\"https://raw.githubusercontent.com/thushv89/attention_keras/master/src/layers/attention.py\", filename=\"attention.py\")\n",
    "from attention import AttentionLayer"
   ]
  },
  {
   "cell_type": "code",
   "execution_count": 193,
   "id": "documentary-concentration",
   "metadata": {},
   "outputs": [
    {
     "name": "stdout",
     "output_type": "stream",
     "text": [
      "Model: \"model_5\"\n",
      "__________________________________________________________________________________________________\n",
      "Layer (type)                    Output Shape         Param #     Connected to                     \n",
      "==================================================================================================\n",
      "input_6 (InputLayer)            [(None, 42)]         0                                            \n",
      "__________________________________________________________________________________________________\n",
      "embedding_2 (Embedding)         (None, 42, 128)      2181888     input_6[0][0]                    \n",
      "__________________________________________________________________________________________________\n",
      "lstm_4 (LSTM)                   [(None, 42, 256), (N 394240      embedding_2[0][0]                \n",
      "__________________________________________________________________________________________________\n",
      "input_7 (InputLayer)            [(None, None)]       0                                            \n",
      "__________________________________________________________________________________________________\n",
      "lstm_5 (LSTM)                   [(None, 42, 256), (N 525312      lstm_4[0][0]                     \n",
      "__________________________________________________________________________________________________\n",
      "embedding_3 (Embedding)         (None, None, 128)    984704      input_7[0][0]                    \n",
      "__________________________________________________________________________________________________\n",
      "lstm_6 (LSTM)                   [(None, 42, 256), (N 525312      lstm_5[0][0]                     \n",
      "__________________________________________________________________________________________________\n",
      "lstm_7 (LSTM)                   [(None, None, 256),  394240      embedding_3[0][0]                \n",
      "                                                                 lstm_6[0][1]                     \n",
      "                                                                 lstm_6[0][2]                     \n",
      "__________________________________________________________________________________________________\n",
      "attention_layer (AttentionLayer ((None, None, 256),  131328      lstm_6[0][0]                     \n",
      "                                                                 lstm_7[0][0]                     \n",
      "__________________________________________________________________________________________________\n",
      "concat_layer (Concatenate)      (None, None, 512)    0           lstm_7[0][0]                     \n",
      "                                                                 attention_layer[0][0]            \n",
      "__________________________________________________________________________________________________\n",
      "dense_3 (Dense)                 (None, None, 7693)   3946509     concat_layer[0][0]               \n",
      "==================================================================================================\n",
      "Total params: 9,083,533\n",
      "Trainable params: 9,083,533\n",
      "Non-trainable params: 0\n",
      "__________________________________________________________________________________________________\n"
     ]
    }
   ],
   "source": [
    "# 어텐션 층(어텐션 함수)\n",
    "attn_layer = AttentionLayer(name='attention_layer')\n",
    "# 인코더와 디코더의 모든 time step의 hidden state를 어텐션 층에 전달하고 결과를 리턴\n",
    "attn_out, attn_states = attn_layer([encoder_outputs, decoder_outputs])\n",
    "\n",
    "# 어텐션의 결과와 디코더의 hidden state들을 연결\n",
    "decoder_concat_input = Concatenate(axis=-1, name='concat_layer')([decoder_outputs, attn_out])\n",
    "\n",
    "# 디코더의 출력층\n",
    "decoder_softmax_layer = Dense(tar_vocab, activation='softmax')\n",
    "decoder_softmax_outputs = decoder_softmax_layer(decoder_concat_input)\n",
    "\n",
    "# 모델 정의\n",
    "model2 = Model([encoder_inputs, decoder_inputs], decoder_softmax_outputs)\n",
    "model2.summary()"
   ]
  },
  {
   "cell_type": "code",
   "execution_count": 194,
   "id": "facial-seven",
   "metadata": {},
   "outputs": [
    {
     "name": "stdout",
     "output_type": "stream",
     "text": [
      "Epoch 1/50\n",
      "212/212 [==============================] - 149s 652ms/step - loss: 5.5928 - val_loss: 4.8509\n",
      "Epoch 2/50\n",
      "212/212 [==============================] - 141s 666ms/step - loss: 4.8701 - val_loss: 4.6188\n",
      "Epoch 3/50\n",
      "212/212 [==============================] - 142s 669ms/step - loss: 4.6116 - val_loss: 4.3716\n",
      "Epoch 4/50\n",
      "212/212 [==============================] - 142s 670ms/step - loss: 4.3403 - val_loss: 4.1899\n",
      "Epoch 5/50\n",
      "212/212 [==============================] - 141s 666ms/step - loss: 4.1196 - val_loss: 4.0333\n",
      "Epoch 6/50\n",
      "212/212 [==============================] - 141s 667ms/step - loss: 3.9404 - val_loss: 3.9421\n",
      "Epoch 7/50\n",
      "212/212 [==============================] - 143s 673ms/step - loss: 3.7970 - val_loss: 3.8356\n",
      "Epoch 8/50\n",
      "212/212 [==============================] - 142s 670ms/step - loss: 3.6571 - val_loss: 3.7621\n",
      "Epoch 9/50\n",
      "212/212 [==============================] - 143s 673ms/step - loss: 3.5269 - val_loss: 3.6914\n",
      "Epoch 10/50\n",
      "212/212 [==============================] - 142s 668ms/step - loss: 3.4243 - val_loss: 3.6351\n",
      "Epoch 11/50\n",
      "212/212 [==============================] - 143s 672ms/step - loss: 3.3237 - val_loss: 3.5966\n",
      "Epoch 12/50\n",
      "212/212 [==============================] - 143s 675ms/step - loss: 3.2389 - val_loss: 3.5656\n",
      "Epoch 13/50\n",
      "212/212 [==============================] - 143s 674ms/step - loss: 3.1541 - val_loss: 3.5334\n",
      "Epoch 14/50\n",
      "212/212 [==============================] - 143s 674ms/step - loss: 3.0843 - val_loss: 3.5062\n",
      "Epoch 15/50\n",
      "212/212 [==============================] - 143s 674ms/step - loss: 3.0117 - val_loss: 3.4918\n",
      "Epoch 16/50\n",
      "212/212 [==============================] - 143s 675ms/step - loss: 2.9433 - val_loss: 3.4713\n",
      "Epoch 17/50\n",
      "212/212 [==============================] - 144s 677ms/step - loss: 2.8912 - val_loss: 3.4543\n",
      "Epoch 18/50\n",
      "212/212 [==============================] - 144s 679ms/step - loss: 2.8255 - val_loss: 3.4458\n",
      "Epoch 19/50\n",
      "212/212 [==============================] - 142s 671ms/step - loss: 2.7768 - val_loss: 3.4320\n",
      "Epoch 20/50\n",
      "212/212 [==============================] - 141s 667ms/step - loss: 2.7272 - val_loss: 3.4256\n",
      "Epoch 21/50\n",
      "212/212 [==============================] - 142s 668ms/step - loss: 2.6868 - val_loss: 3.4173\n",
      "Epoch 22/50\n",
      "212/212 [==============================] - 144s 680ms/step - loss: 2.6349 - val_loss: 3.4149\n",
      "Epoch 23/50\n",
      "212/212 [==============================] - 142s 672ms/step - loss: 2.5925 - val_loss: 3.4189\n",
      "Epoch 24/50\n",
      "212/212 [==============================] - 143s 676ms/step - loss: 2.5519 - val_loss: 3.4093\n",
      "Epoch 25/50\n",
      "212/212 [==============================] - 142s 672ms/step - loss: 2.5032 - val_loss: 3.4067\n",
      "Epoch 26/50\n",
      "212/212 [==============================] - 141s 664ms/step - loss: 2.4727 - val_loss: 3.4076\n",
      "Epoch 27/50\n",
      "212/212 [==============================] - 142s 669ms/step - loss: 2.4381 - val_loss: 3.4167\n",
      "Epoch 00027: early stopping\n"
     ]
    }
   ],
   "source": [
    "model2.compile(optimizer='rmsprop', loss='sparse_categorical_crossentropy')\n",
    "es = EarlyStopping(monitor='val_loss', patience=2, verbose=1)\n",
    "history = model2.fit(x=[encoder_input_train, decoder_input_train], y=decoder_target_train, \\\n",
    "          validation_data=([encoder_input_test, decoder_input_test], decoder_target_test), \\\n",
    "          batch_size=256, callbacks=[es], epochs=50)"
   ]
  },
  {
   "cell_type": "code",
   "execution_count": 195,
   "id": "ambient-surprise",
   "metadata": {},
   "outputs": [],
   "source": [
    "src_index_to_word = src_tokenizer.index_word # 원문 단어 집합에서 정수 -> 단어를 얻음\n",
    "tar_word_to_index = tar_tokenizer.word_index # 요약 단어 집합에서 단어 -> 정수를 얻음\n",
    "tar_index_to_word = tar_tokenizer.index_word # 요약 단어 집합에서 정수 -> 단어를 얻음"
   ]
  },
  {
   "cell_type": "code",
   "execution_count": 196,
   "id": "directed-cross",
   "metadata": {},
   "outputs": [],
   "source": [
    "# 인코더 설계\n",
    "encoder_model = Model(inputs=encoder_inputs, outputs=[encoder_outputs, state_h, state_c])\n",
    "\n",
    "# 이전 시점의 상태들을 저장하는 텐서\n",
    "decoder_state_input_h = Input(shape=(hidden_size,))\n",
    "decoder_state_input_c = Input(shape=(hidden_size,))\n",
    "\n",
    "dec_emb2 = dec_emb_layer(decoder_inputs)\n",
    "\n",
    "# 문장의 다음 단어를 예측하기 위해서 초기 상태(initial_state)를 이전 시점의 상태로 사용. 이는 뒤의 함수 decode_sequence()에 구현\n",
    "# 훈련 과정에서와 달리 LSTM의 리턴하는 은닉 상태와 셀 상태인 state_h와 state_c를 버리지 않음.\n",
    "decoder_outputs2, state_h2, state_c2 = decoder_lstm(dec_emb2, initial_state=[decoder_state_input_h, decoder_state_input_c])"
   ]
  },
  {
   "cell_type": "code",
   "execution_count": 197,
   "id": "returning-alert",
   "metadata": {},
   "outputs": [],
   "source": [
    "# 어텐션 함수\n",
    "decoder_hidden_state_input = Input(shape=(text_max_len, hidden_size))\n",
    "attn_out_inf, attn_states_inf = attn_layer([decoder_hidden_state_input, decoder_outputs2])\n",
    "decoder_inf_concat = Concatenate(axis=-1, name='concat')([decoder_outputs2, attn_out_inf])\n",
    "\n",
    "# 디코더의 출력층\n",
    "decoder_outputs2 = decoder_softmax_layer(decoder_inf_concat) \n",
    "\n",
    "# 최종 디코더 모델\n",
    "decoder_model = Model(\n",
    "    [decoder_inputs] + [decoder_hidden_state_input,decoder_state_input_h, decoder_state_input_c],\n",
    "    [decoder_outputs2] + [state_h2, state_c2])"
   ]
  },
  {
   "cell_type": "code",
   "execution_count": 198,
   "id": "contrary-outline",
   "metadata": {},
   "outputs": [
    {
     "name": "stdout",
     "output_type": "stream",
     "text": [
      "id: 12160\n",
      "원문 : apology email sent riders new york ride hailing startup uber said expanding quickly failed prioritise people helped get us admitting fallen short uber explained radical change following investigation startup questionable work environment \n",
      "실제 요약 : we failed to prioritise riders by so uber \n",
      "예측 요약 :  uber says he is not scared of uber employee\n",
      "\n",
      "\n",
      "id: 12161\n",
      "원문 : irrfan khan saba qamar starrer hindi medium earned crore three days release china april film earned opening day aamir khan dangal salman khan bajrangi bhaijaan released china directed chaudhary hindi medium released india may \n",
      "실제 요약 : hindi medium earns crore in days of its china release \n",
      "예측 요약 :  irrfan khan starrer tubelight hits the theatres\n",
      "\n",
      "\n",
      "id: 12162\n",
      "원문 : passenger charged interfering cabin crew after new york bound jetblue flight forced make emergency landing due drunken behaviour fbi accused robin touching man head manner attacking flight attendant further put plastic but managed break \n",
      "실제 요약 : woman flyer charged for touching man head \n",
      "예측 요약 :  united airlines diverted after passenger passenger dragged off\n",
      "\n",
      "\n",
      "id: 12163\n",
      "원문 : mit researchers built sensor equipped bacteria stomach bleeding sensor successfully tested pigs converts bacterial response wireless signal read smartphone researchers estimate battery could power inch long device months continuous use \n",
      "실제 요약 : mit designs sensor to detect in stomach \n",
      "예측 요약 :  mit develops printed device that can make objects\n",
      "\n",
      "\n",
      "id: 12164\n",
      "원문 : singer sona mohapatra criticised sonu nigam backing anu malik amid sexual harassment allegations questioning proof sona tweeted much sympathy millionaire losing work much empathy privileged family tortured wrote another tweet multiple women men malik abusive behaviour \n",
      "실제 요약 : sympathy for millionaire sona to nigam on backing anu over metoo \n",
      "예측 요약 :  sona slams brad over sexual harassment allegations\n",
      "\n",
      "\n",
      "id: 12165\n",
      "원문 : akshay kumar shared video sister alka bhatia said biggest gift received lesson apna dhyan added realised lesson importance daughter went abroad higher studies video ends message not protect sister empower \n",
      "실제 요약 : was the best gift akshay sister \n",
      "예측 요약 :  my wife is not even for me akshay on sridevi death\n",
      "\n",
      "\n",
      "id: 12166\n",
      "원문 : attempt increase numbers sea turtles maharashtra forest department announced reward persons share information sea turtle eggs officials said sea turtles come breeding maharashtra since last eight ten years no sea turtle eggs found area \n",
      "실제 요약 : forest dept announces reward for info on sea turtle eggs \n",
      "예측 요약 :  ghaziabad civic body plans to mine\n",
      "\n",
      "\n",
      "id: 12167\n",
      "원문 : veteran fighter known sheikh killing least islamic state terrorists killed iraq battle retake town militant group abu al also fought late iraqi dictator saddam hussein war iran took part conflicts dating back arab israeli war \n",
      "실제 요약 : anti isis of killed in iraq \n",
      "예측 요약 :  isis militants killed in syria\n",
      "\n",
      "\n",
      "id: 12168\n",
      "원문 : promotional offers telecom firms like reliance jio give free voice data not responsible industry falling financial health according telecom regulator trai trai believes telecom commission contention free promotional offers allowed responsible fall lower licence fee payments government incorrect \n",
      "실제 요약 : jio free offer has not caused fall in industry health trai \n",
      "예측 요약 :  jio jio to reduce new customers from jio\n",
      "\n",
      "\n",
      "id: 12169\n",
      "원문 : amazon thursday announced plan lower whole foods prices offer amazon prime members discount grocery chain products news slashed billion market value five grocery store chains total market five chains include walmart fell billion thursday \n",
      "실제 요약 : rivals lose bn as amazon plans to cut whole prices \n",
      "예측 요약 :  amazon amazon amazon opens its own tax data\n",
      "\n",
      "\n",
      "id: 12170\n",
      "원문 : bollywood actor ranbir kapoor received fc barcelona jersey signed lionel messi th birthday bollywood actor self confessed fan club called messi best player earth posed jersey barcelona number jersey also actor initials rk written back \n",
      "실제 요약 : ranbir receives barca jersey signed by messi on th day \n",
      "예측 요약 :  ranbir kapoor taimur taimur jab taimur wedding taimur jab taimur\n",
      "\n",
      "\n",
      "id: 12171\n",
      "원문 : rajya sabha wednesday passed finance bill along five amendments proposed opposition bill require approval lok sabha choose reject amendments following would still considered passed parliament bill makes aadhaar mandatory filing income tax returns \n",
      "실제 요약 : finance bill passed in rajya sabha with five \n",
      "예측 요약 :  bill to bill bill passed bill passed bill passed in parliament\n",
      "\n",
      "\n",
      "id: 12172\n",
      "원문 : bharatiya janata party defeated ruling congress assembly elections form government himachal pradesh secured required majority seats member assembly whereas congress seats far bjp earlier declared former state cm prem kumar chief ministerial candidate \n",
      "실제 요약 : bjp defeats congress to form government in himachal pradesh \n",
      "예측 요약 :  congress jd wins seats in himachal assembly polls\n",
      "\n",
      "\n",
      "id: 12173\n",
      "원문 : currency public reached record high trillion double low trillion post demonetisation rbi data showed total currency circulation also doubled trillion post demonetisation low notably currency public stood trillion before demonetisation \n",
      "실제 요약 : cash with public doubles since note ban to record tn \n",
      "예측 요약 :  rupee falls to trillion in world economy\n",
      "\n",
      "\n",
      "id: 12174\n",
      "원문 : least eight people reportedly killed sunday attack security headquarters yemeni government city attack involved car bombing explosive belt suicide bomber while officials suspect attack carried al qaeda militants islamic state claimed responsibility attack \n",
      "실제 요약 : killed in attack on govt security headquarters \n",
      "예측 요약 :  killed in suicide attack in egypt\n",
      "\n",
      "\n",
      "id: 12175\n",
      "원문 : actress anushka sharma took instagram share picture husband cricketer virat kohli honeymoon heaven literally wrote alongside picture within two hours photo received million likes instagram anushka married indian cricket team captain italy intimate wedding ceremony \n",
      "실제 요약 : anushka shares pic with husband virat from their honeymoon \n",
      "예측 요약 :  anushka shares pic with virat anushka sharma with her\n",
      "\n",
      "\n",
      "id: 12176\n",
      "원문 : delhi based startup raised crore series round funding valuation around crore investment came cash deal existing investor info edge india parent online job portal shareholding increasing info edge picked around stake november \n",
      "실제 요약 : delhi startup raises cr at cr valuation \n",
      "예측 요약 :  raises crore from softbank in paytm\n",
      "\n",
      "\n",
      "id: 12177\n",
      "원문 : former mumbai mayor padma shri awardee nana died age sunday mumbai awarded padma shri recognition work social sector two message board marine drive reflection personality maharashtra cm devendra fadnavis said \n",
      "실제 요약 : former mumbai mayor and padma shri nana dies at \n",
      "예측 요약 :  padma shri passes away aged\n",
      "\n",
      "\n",
      "id: 12178\n",
      "원문 : russian president vladimir putin suggested us president donald trump crisis ukraine could solved referendum according bloomberg russia annexed crimea pro russian separatists declared independence ukraine region following not internationally recognised us said not recognise russia annexation crimea \n",
      "실제 요약 : putin discussed referendum on ukraine with trump report \n",
      "예측 요약 :  putin putin putin putin on putin\n",
      "\n",
      "\n",
      "id: 12179\n",
      "원문 : japan biggest automaker toyota saturday said sold shares elon musk led tesla cancelled tie jointly develop electric vehicles toyota said shares sold end part regular review investments company bought approximately stake tesla million \n",
      "실제 요약 : toyota sells all shares in tesla scraps tie up to make cars \n",
      "예측 요약 :  tesla car car to sell musk elon musk car car\n",
      "\n",
      "\n",
      "id: 12180\n",
      "원문 : tesla model electric car reportedly caught fire california after towed garage due flat car made sound produced smoke before surrounded flames owner said fire department managed control fire later likely due heat build batteries \n",
      "실제 요약 : tesla car catches fire in us few hours later \n",
      "예측 요약 :  tesla car catches fire catches fire in car crash\n",
      "\n",
      "\n",
      "id: 12181\n",
      "원문 : after kerala cm pinarayi vijayan assured support man protesting days custodial death brother one four accused cops demanded cbi inquiry case police official added four accused willing give lakh deceased family found guilty \n",
      "실제 요약 : kerala cop accused in death demands cbi probe \n",
      "예측 요약 :  kerala cm visits kerala cm over child death\n",
      "\n",
      "\n",
      "id: 12182\n",
      "원문 : australia plans strengthen anti money laundering laws regulate digital currencies bitcoins crackdown terror funding reports said threat serious financial crime constantly evolving new technologies emerge australian justice minister michael said however minister not specify legislation would introduced \n",
      "실제 요약 : australia plans to regulate bitcoin to counter terror funds \n",
      "예측 요약 :  australia offers to pay crore to media deal\n",
      "\n",
      "\n",
      "id: 12183\n",
      "원문 : latest icc rankings bowlers first nine positions held spinners six first seven positions occupied leg spinners further indian fast bowler jasprit bumrah only pacer top occupying th position third placed yuzvendra chahal only indian top \n",
      "실제 요약 : all top bowlers spinners bumrah only pacer in top \n",
      "예측 요약 :  rahane once bowled for first time in years\n",
      "\n",
      "\n",
      "id: 12184\n",
      "원문 : report estimates crore adults around world risk serious disease due lack physical exercise stated high income countries uk us among least active report further said women tend men almost every region throughout world \n",
      "실제 요약 : lack of exercise puts crore at risk of disease who \n",
      "예측 요약 :  lakh note ban on note ban in note ban\n",
      "\n",
      "\n",
      "id: 12185\n",
      "원문 : official pictures prince harry meghan markle royal wedding released images show one group picture sides family another group picture children black white picture prince harry meghan royal couple addressed duke duchess sussex \n",
      "실제 요약 : official pics of prince harry and meghan royal wedding out \n",
      "예측 요약 :  meghan markle to marry prince harry meghan wedding\n",
      "\n",
      "\n",
      "id: 12186\n",
      "원문 : us based co working space startup wework tuesday said raised billion funding japan softbank latest funding form warrant under softbank pay wework billion january remaining april deal would raise wework valuation least billion according startup \n",
      "실제 요약 : co working space startup wework raises bn from softbank \n",
      "예측 요약 :  tiger becomes first startup raises billion\n",
      "\n",
      "\n",
      "id: 12187\n",
      "원문 : woman block bihar muzaffarpur district filed police complaint father law brother law lack toilet home police called two accused police station woman reportedly made father law sign bond would get toilet constructed soon \n",
      "실제 요약 : woman files fir against father in law over no toilet at home \n",
      "예측 요약 :  woman booked for molestation by husband in bihar\n",
      "\n",
      "\n",
      "id: 12188\n",
      "원문 : tickets india football match kenya today mumbai sold two days after indian skipper sunil chhetri posted video urging people show matches stadiums stadium capacity around also hosted india last match only spectators following chhetri posted video \n",
      "실제 요약 : indian football team match sold out after chhetri plea \n",
      "예측 요약 :  indian football team team out of ground to draw in ipl\n",
      "\n",
      "\n",
      "id: 12189\n",
      "원문 : telecom minister manoj sinha said government ensure no spectrum shortage india not lag behind rest world launching services operational six months telecom secretary aruna said government september laid roadmap rollout networks india \n",
      "실제 요약 : india ready to launch at with global govt \n",
      "예측 요약 :  govt to be allowed to make jobs in india says chief\n",
      "\n",
      "\n"
     ]
    }
   ],
   "source": [
    "for i in range(12160, 12190):\n",
    "    print('id:', i)\n",
    "    print(\"원문 :\", seq2text(encoder_input_test[i]))\n",
    "    print(\"실제 요약 :\", seq2summary(decoder_input_test[i]))\n",
    "    print(\"예측 요약 :\", decode_sequence(encoder_input_test[i].reshape(1, text_max_len)))\n",
    "    print(\"\\n\")"
   ]
  },
  {
   "cell_type": "markdown",
   "id": "retired-collaboration",
   "metadata": {},
   "source": [
    "아직 마침표 처리가 안 된 것을 알 수 있습니다. 이는 tokenizer의 filters에 놓친 부분이 있어서입니다. "
   ]
  },
  {
   "cell_type": "markdown",
   "id": "understood-wayne",
   "metadata": {},
   "source": [
    "잘 된 요약:\n",
    "\n",
    "id: 12174\n",
    "\n",
    "원문 : least eight people reportedly killed sunday attack security headquarters yemeni government city attack involved car bombing explosive belt suicide bomber while officials suspect attack carried al qaeda militants islamic state claimed responsibility attack \n",
    "\n",
    "실제 요약 : killed in attack on govt security headquarters \n",
    "\n",
    "예측 요약 :  killed in suicide attack in egypt\n",
    "\n",
    "id: 12175\n",
    "\n",
    "원문 : actress anushka sharma took instagram share picture husband cricketer virat kohli honeymoon heaven literally wrote alongside picture within two hours photo received million likes instagram anushka married indian cricket team captain italy intimate wedding ceremony \n",
    "\n",
    "실제 요약 : anushka shares pic with husband virat from their honeymoon \n",
    "\n",
    "예측 요약 :  anushka shares pic with virat anushka sharma with her\n",
    "\n",
    "id: 12177\n",
    "\n",
    "원문 : former mumbai mayor padma shri awardee nana died age sunday mumbai awarded padma shri recognition work social sector two message board marine drive reflection personality maharashtra cm devendra fadnavis said \n",
    "\n",
    "실제 요약 : former mumbai mayor and padma shri nana dies at \n",
    "\n",
    "예측 요약 :  padma shri passes away aged\n",
    "\n",
    "\n",
    "-------------------------------------------------------\n",
    "\n",
    "      \n",
    "      \n",
    "동어 반복:\n",
    "\n",
    "\n",
    "id: 12180\n",
    "\n",
    "원문 : tesla model electric car reportedly caught fire california after towed garage due flat car made sound produced smoke before surrounded flames owner said fire department managed control fire later likely due heat build batteries \n",
    "\n",
    "실제 요약 : tesla car catches fire in us few hours later \n",
    "\n",
    "예측 요약 :  tesla car catches fire catches fire in car crash\n",
    "\n",
    "id: 12184\n",
    "\n",
    "원문 : report estimates crore adults around world risk serious disease due lack physical exercise stated high income countries uk us among least active report further said women tend men almost every region throughout world \n",
    "\n",
    "실제 요약 : lack of exercise puts crore at risk of disease who \n",
    "\n",
    "예측 요약 :  lakh note ban on note ban in note ban\n",
    "\n",
    "id: 12171\n",
    "\n",
    "원문 : rajya sabha wednesday passed finance bill along five amendments proposed opposition bill require approval lok sabha choose reject amendments following would still considered passed parliament bill makes aadhaar mandatory filing income tax returns \n",
    "\n",
    "실제 요약 : finance bill passed in rajya sabha with five \n",
    "\n",
    "예측 요약 :  bill to bill bill passed bill passed bill passed in parliament"
   ]
  },
  {
   "cell_type": "markdown",
   "id": "subject-approval",
   "metadata": {},
   "source": [
    "# Trial 3\n",
    "\n",
    "온점이 온전히 인식되도록 수정하고 vocab size도 수정하겠습니다."
   ]
  },
  {
   "cell_type": "markdown",
   "id": "curious-corpus",
   "metadata": {},
   "source": [
    "## load data"
   ]
  },
  {
   "cell_type": "code",
   "execution_count": 253,
   "id": "broad-speaking",
   "metadata": {},
   "outputs": [],
   "source": [
    "data3 = pd.read_csv('news_summary_more.csv', encoding='iso-8859-1')"
   ]
  },
  {
   "cell_type": "code",
   "execution_count": 254,
   "id": "challenging-martial",
   "metadata": {},
   "outputs": [],
   "source": [
    "data3 = data3[['text', 'headlines']]\n",
    "data3.rename(columns = {'text': 'Text', 'headlines': 'Summary'}, inplace = True)"
   ]
  },
  {
   "cell_type": "markdown",
   "id": "accessory-glucose",
   "metadata": {},
   "source": [
    "## preprocess data"
   ]
  },
  {
   "cell_type": "code",
   "execution_count": 255,
   "id": "stunning-kitty",
   "metadata": {},
   "outputs": [
    {
     "name": "stdout",
     "output_type": "stream",
     "text": [
      "10.682997465133667  seconds\n",
      "['saurav kant alumnus upgrad iiit pg program machine learning artificial intelligence sr systems engineer infosys almost years work experience .. program upgrad degree career support helped transition data scientist tech mahindra salary hike .. upgrad online power learning powered lakh careers ..'\n",
      " 'kunal shah credit card bill payment platform cred gave users chance win free food swiggy one year .. pranav kaushik delhi techie bagged reward after spending cred coins .. users get one cred coin per rupee bill paid used avail rewards brands like ixigo bookmyshow ubereats cult .. fit ..'\n",
      " 'new zealand defeated india wickets fourth odi hamilton thursday win first match five match odi series .. india lost international match under rohit sharma captaincy after consecutive victories dating back march .. match witnessed india getting seventh lowest total odi cricket history ..'\n",
      " ...\n",
      " 'according reports new version science fiction film matrix development .. michael jordan reportedly play lead role film .. screenwriter zak penn talks write script film reports added .. actor keanu reeves starred original film followed two sequels ..'\n",
      " 'new music video shows rapper snoop dogg aiming toy gun clown character parodying us president donald trump .. video also shows tv airing news conference headline ronald klump wants deport doggs airing live clown house .. video remixed version song lavender ..'\n",
      " 'madhesi morcha alliance seven political parties withdrawn support pm pushpa kamal dahal led nepal government after failed meet seven day ultimatum fulfil demands including endorsement revised constitution amendment bill .. morcha seats parliament but despite withdrawal support no immediate threat government ..']\n",
      "6.7240149974823  seconds\n",
      "['upgrad learner switches to career in ml al with salary hike'\n",
      " 'delhi techie wins free food from swiggy for one year on cred'\n",
      " 'new zealand end rohit sharma led india match winning streak' ...\n",
      " 'the matrix film to get reboot reports'\n",
      " 'snoop dogg aims gun at clown dressed as trump in new video'\n",
      " 'madhesi morcha withdraws support to nepalese government']\n"
     ]
    }
   ],
   "source": [
    "clean_text = preprocess_data(data3['Text'])  # 클라우드 기준으로 3~4분 정도 소요 됩니다\n",
    "print(clean_text)\n",
    "\n",
    "clean_summary = preprocess_data(data3['Summary'], remove_stopwords=False) # 클라우드 기준 1분정도 소요됩니다.\n",
    "print(clean_summary)"
   ]
  },
  {
   "cell_type": "code",
   "execution_count": 256,
   "id": "electoral-signal",
   "metadata": {},
   "outputs": [
    {
     "name": "stdout",
     "output_type": "stream",
     "text": [
      "전체 샘플수 : 98401\n"
     ]
    }
   ],
   "source": [
    "#DataFrame으로 저장합니다\n",
    "data3['Text'] = clean_text\n",
    "data3['Summary'] = clean_summary\n",
    "\n",
    "# 빈 값을 Null 값으로 변환\n",
    "data3.replace('', np.nan, inplace=True)\n",
    "\n",
    "# 결측치 확인 74개의 빈 summary 확인되었습니다\n",
    "data3.isnull().sum()\n",
    "\n",
    "# 결측치 제거\n",
    "data3.dropna(axis=0, inplace=True)\n",
    "print('전체 샘플수 :', (len(data3)))"
   ]
  },
  {
   "cell_type": "markdown",
   "id": "nonprofit-sphere",
   "metadata": {},
   "source": [
    "\\[37, 40\\]의 구간만 사용하겠습니다"
   ]
  },
  {
   "cell_type": "code",
   "execution_count": 257,
   "id": "multiple-building",
   "metadata": {},
   "outputs": [],
   "source": [
    "text_max_len = 40; text_min_len = 37"
   ]
  },
  {
   "cell_type": "code",
   "execution_count": 258,
   "id": "decreased-operations",
   "metadata": {},
   "outputs": [],
   "source": [
    "data3 = data3[data3['Text'].apply(lambda x: len(x.split()) <= text_max_len \\\n",
    "            and len(x.split()) >= text_min_len)]\n"
   ]
  },
  {
   "cell_type": "code",
   "execution_count": 259,
   "id": "arbitrary-catch",
   "metadata": {},
   "outputs": [],
   "source": [
    "summary_max_len = 14; summary_min_len = 4;"
   ]
  },
  {
   "cell_type": "code",
   "execution_count": 260,
   "id": "prospective-riverside",
   "metadata": {},
   "outputs": [],
   "source": [
    "data3 = data3[data3['Summary'].apply(lambda x: len(x.split()) <= summary_max_len \\\n",
    "            and len(x.split()) >= summary_min_len)]"
   ]
  },
  {
   "cell_type": "code",
   "execution_count": 261,
   "id": "supposed-brooks",
   "metadata": {},
   "outputs": [
    {
     "name": "stdout",
     "output_type": "stream",
     "text": [
      "[11690 17440 21548 ... 32998 12988 24963]\n",
      "테스트 데이터의 수 : 7829\n",
      "훈련 데이터의 개수 : 31318\n",
      "훈련 레이블의 개수 : 31318\n",
      "테스트 데이터의 개수 : 7829\n",
      "테스트 레이블의 개수 : 7829\n"
     ]
    }
   ],
   "source": [
    "# 토큰화\n",
    "data3['decoder_input'] = data3['Summary'].apply(lambda x : 'sostoken '+ x)\n",
    "data3['decoder_target'] = data3['Summary'].apply(lambda x : x + ' eostoken')\n",
    "data3.head()\n",
    "\n",
    "# np.array로 저장\n",
    "encoder_input = np.array(data3['Text']) # 인코더의 입력\n",
    "decoder_input = np.array(data3['decoder_input']) # 디코더의 입력\n",
    "decoder_target = np.array(data3['decoder_target']) # 디코더의 레이블\n",
    "\n",
    "# train test split\n",
    "indices = np.arange(encoder_input.shape[0])\n",
    "np.random.shuffle(indices)\n",
    "print(indices)\n",
    "\n",
    "encoder_input = encoder_input[indices]\n",
    "decoder_input = decoder_input[indices]\n",
    "decoder_target = decoder_target[indices]\n",
    "\n",
    "n_of_val = int(len(encoder_input)*0.2)\n",
    "print('테스트 데이터의 수 :', n_of_val)\n",
    "\n",
    "encoder_input_train = encoder_input[:-n_of_val]\n",
    "decoder_input_train = decoder_input[:-n_of_val]\n",
    "decoder_target_train = decoder_target[:-n_of_val]\n",
    "\n",
    "encoder_input_test = encoder_input[-n_of_val:]\n",
    "decoder_input_test = decoder_input[-n_of_val:]\n",
    "decoder_target_test = decoder_target[-n_of_val:]\n",
    "\n",
    "print('훈련 데이터의 개수 :', len(encoder_input_train))\n",
    "print('훈련 레이블의 개수 :', len(decoder_input_train))\n",
    "print('테스트 데이터의 개수 :', len(encoder_input_test))\n",
    "print('테스트 레이블의 개수 :', len(decoder_input_test))"
   ]
  },
  {
   "cell_type": "markdown",
   "id": "known-empire",
   "metadata": {},
   "source": [
    "### Encoding"
   ]
  },
  {
   "cell_type": "code",
   "execution_count": 262,
   "id": "raised-development",
   "metadata": {},
   "outputs": [],
   "source": [
    "src_tokenizer = Tokenizer(filters='\"#$%&()*+,-/:;<=>@[\\\\]^_`{|}~\\t\\n') # 토크나이저 정의, 마침표와 느낌표, 물음표는 제거하지 않습니다.\n",
    "src_tokenizer.fit_on_texts(encoder_input_train) # 입력된 데이터로부터 단어 집합 생성"
   ]
  },
  {
   "cell_type": "code",
   "execution_count": 272,
   "id": "gentle-mining",
   "metadata": {},
   "outputs": [
    {
     "name": "stdout",
     "output_type": "stream",
     "text": [
      "단어 집합(vocabulary)의 크기 : 45832\n",
      "등장 빈도가 10번 이하인 희귀 단어의 수: 35395\n",
      "단어 집합에서 희귀 단어를 제외시킬 경우의 단어 집합의 크기 10437\n",
      "단어 집합에서 희귀 단어의 비율: 77.22770116948857\n",
      "전체 등장 빈도에서 희귀 단어 등장 빈도 비율: 7.753856142251195\n"
     ]
    }
   ],
   "source": [
    "threshold = 11  # 희귀 단어 비율을 66%로 맞춰봅니다\n",
    "total_cnt = len(src_tokenizer.word_index) # 단어의 수\n",
    "rare_cnt = 0 # 등장 빈도수가 threshold보다 작은 단어의 개수를 카운트\n",
    "total_freq = 0 # 훈련 데이터의 전체 단어 빈도수 총 합\n",
    "rare_freq = 0 # 등장 빈도수가 threshold보다 작은 단어의 등장 빈도수의 총 합\n",
    "\n",
    "# 단어와 빈도수의 쌍(pair)을 key와 value로 받는다.\n",
    "for key, value in src_tokenizer.word_counts.items():\n",
    "    total_freq = total_freq + value\n",
    "\n",
    "    # 단어의 등장 빈도수가 threshold보다 작으면\n",
    "    if(value < threshold):\n",
    "        rare_cnt = rare_cnt + 1\n",
    "        rare_freq = rare_freq + value\n",
    "\n",
    "print('단어 집합(vocabulary)의 크기 :', total_cnt)\n",
    "print('등장 빈도가 %s번 이하인 희귀 단어의 수: %s'%(threshold - 1, rare_cnt))\n",
    "print('단어 집합에서 희귀 단어를 제외시킬 경우의 단어 집합의 크기 %s'%(total_cnt - rare_cnt))\n",
    "print(\"단어 집합에서 희귀 단어의 비율:\", (rare_cnt / total_cnt)*100)\n",
    "print(\"전체 등장 빈도에서 희귀 단어 등장 빈도 비율:\", (rare_freq / total_freq)*100)"
   ]
  },
  {
   "cell_type": "code",
   "execution_count": 273,
   "id": "smart-notice",
   "metadata": {},
   "outputs": [],
   "source": [
    "src_vocab = 10437\n",
    "src_tokenizer = Tokenizer(num_words=src_vocab, filters='\"#$%&()*+,-/:;<=>@[\\\\]^_`{|}~\\t\\n') # 단어 집합의 크기를 17046으로 제한\n",
    "src_tokenizer.fit_on_texts(encoder_input_train) # 단어 집합 재생성."
   ]
  },
  {
   "cell_type": "code",
   "execution_count": 275,
   "id": "worth-paragraph",
   "metadata": {},
   "outputs": [
    {
     "name": "stdout",
     "output_type": "stream",
     "text": [
      "[[256, 86, 4167, 3302, 60, 4487, 2079, 89, 42, 1443, 175, 23, 212, 3149, 154, 3, 2748, 1515, 779, 7938, 3027, 1, 89, 683, 3302, 1475, 1986, 23, 125, 1903, 5285, 220, 3, 3027, 1709, 1], [5, 15, 475, 417, 45, 3116, 174, 493, 803, 920, 6713, 2749, 56, 1, 1928, 1226, 942, 8246, 5, 15, 42, 2704, 79, 7663, 12, 1, 34, 123, 437, 527, 1568, 447, 42, 4400, 696, 5417, 1], [299, 152, 2907, 1750, 1987, 78, 1777, 3, 1341, 666, 938, 7939, 1, 718, 1410, 1750, 262, 1, 78, 1, 78, 1552, 1008, 4168, 3071, 532, 1, 78, 1, 72, 3, 1, 666, 40, 1135, 1057, 1777, 1]]\n"
     ]
    }
   ],
   "source": [
    "# 텍스트 시퀀스를 정수 시퀀스로 변환\n",
    "encoder_input_train = src_tokenizer.texts_to_sequences(encoder_input_train) \n",
    "encoder_input_test = src_tokenizer.texts_to_sequences(encoder_input_test)\n",
    "\n",
    "# 잘 진행되었는지 샘플 출력\n",
    "print(encoder_input_train[:3])"
   ]
  },
  {
   "cell_type": "markdown",
   "id": "directed-japan",
   "metadata": {},
   "source": [
    "summary에 대해서는 decoder_input으로 토큰화합니다."
   ]
  },
  {
   "cell_type": "code",
   "execution_count": 276,
   "id": "opposite-subject",
   "metadata": {},
   "outputs": [],
   "source": [
    "tar_tokenizer = Tokenizer(filters='\"#$%&()*+,-/:;<=>@[\\\\]^_`{|}~\\t\\n')\n",
    "tar_tokenizer.fit_on_texts(decoder_input_train)"
   ]
  },
  {
   "cell_type": "code",
   "execution_count": 283,
   "id": "ultimate-disability",
   "metadata": {},
   "outputs": [
    {
     "name": "stdout",
     "output_type": "stream",
     "text": [
      "단어 집합(vocabulary)의 크기 : 20877\n",
      "등장 빈도가 2번 이하인 희귀 단어의 수: 11019\n",
      "단어 집합에서 희귀 단어를 제외시킬 경우의 단어 집합의 크기 9858\n",
      "단어 집합에서 희귀 단어의 비율: 52.78057192125305\n",
      "전체 등장 빈도에서 희귀 단어 등장 빈도 비율: 4.323489435314469\n"
     ]
    }
   ],
   "source": [
    "threshold = 3\n",
    "total_cnt = len(tar_tokenizer.word_index) # 단어의 수\n",
    "rare_cnt = 0 # 등장 빈도수가 threshold보다 작은 단어의 개수를 카운트\n",
    "total_freq = 0 # 훈련 데이터의 전체 단어 빈도수 총 합\n",
    "rare_freq = 0 # 등장 빈도수가 threshold보다 작은 단어의 등장 빈도수의 총 합\n",
    "\n",
    "# 단어와 빈도수의 쌍(pair)을 key와 value로 받는다.\n",
    "for key, value in tar_tokenizer.word_counts.items():\n",
    "    total_freq = total_freq + value\n",
    "\n",
    "    # 단어의 등장 빈도수가 threshold보다 작으면\n",
    "    if(value < threshold):\n",
    "        rare_cnt = rare_cnt + 1\n",
    "        rare_freq = rare_freq + value\n",
    "\n",
    "print('단어 집합(vocabulary)의 크기 :', total_cnt)\n",
    "print('등장 빈도가 %s번 이하인 희귀 단어의 수: %s'%(threshold - 1, rare_cnt))\n",
    "print('단어 집합에서 희귀 단어를 제외시킬 경우의 단어 집합의 크기 %s'%(total_cnt - rare_cnt))\n",
    "print(\"단어 집합에서 희귀 단어의 비율:\", (rare_cnt / total_cnt)*100)\n",
    "print(\"전체 등장 빈도에서 희귀 단어 등장 빈도 비율:\", (rare_freq / total_freq)*100)"
   ]
  },
  {
   "cell_type": "code",
   "execution_count": 284,
   "id": "republican-victoria",
   "metadata": {},
   "outputs": [
    {
     "name": "stdout",
     "output_type": "stream",
     "text": [
      "input\n",
      "input  [[1, 113, 32, 3673, 667, 132, 4, 25, 205, 92, 54], [1, 19, 7021, 607, 3050, 816, 877, 716, 3, 1461, 83], [1, 143, 78, 3674, 1121, 4571, 34, 4], [1, 1462, 779, 1807, 404, 3, 50, 7022, 14, 6167], [1, 77, 268, 2187, 1393, 1265, 3, 717, 12, 470, 217]]\n",
      "target\n",
      "decoder  [[113, 32, 3673, 667, 132, 4, 25, 205, 92, 54, 2], [19, 7021, 607, 3050, 816, 877, 716, 3, 1461, 83, 2], [143, 78, 3674, 1121, 4571, 34, 4, 2], [1462, 779, 1807, 404, 3, 50, 7022, 14, 6167, 2], [77, 268, 2187, 1393, 1265, 3, 717, 12, 470, 217, 2]]\n"
     ]
    }
   ],
   "source": [
    "tar_vocab = 11019\n",
    "tar_tokenizer = Tokenizer(num_words=tar_vocab, filters='\"#$%&()*+,-/:;<=>@[\\\\]^_`{|}~\\t\\n') \n",
    "tar_tokenizer.fit_on_texts(decoder_input_train)\n",
    "tar_tokenizer.fit_on_texts(decoder_target_train)\n",
    "\n",
    "# 텍스트 시퀀스를 정수 시퀀스로 변환\n",
    "decoder_input_train = tar_tokenizer.texts_to_sequences(decoder_input_train) \n",
    "decoder_target_train = tar_tokenizer.texts_to_sequences(decoder_target_train)\n",
    "decoder_input_test = tar_tokenizer.texts_to_sequences(decoder_input_test)\n",
    "decoder_target_test = tar_tokenizer.texts_to_sequences(decoder_target_test)\n",
    "\n",
    "# 잘 변환되었는지 확인\n",
    "print('input')\n",
    "print('input ',decoder_input_train[:5])\n",
    "print('target')\n",
    "print('decoder ',decoder_target_train[:5])"
   ]
  },
  {
   "cell_type": "markdown",
   "id": "interior-louisiana",
   "metadata": {},
   "source": [
    "sostoken과 eostoken이 각각 1, 2로 인코딩된 것과 변환이 제대로 되었음을 확인했습니다"
   ]
  },
  {
   "cell_type": "code",
   "execution_count": 285,
   "id": "indirect-apache",
   "metadata": {},
   "outputs": [
    {
     "name": "stdout",
     "output_type": "stream",
     "text": [
      "삭제할 훈련 데이터의 개수 : 0\n",
      "삭제할 테스트 데이터의 개수 : 0\n",
      "훈련 데이터의 개수 : 31318\n",
      "훈련 레이블의 개수 : 31318\n",
      "테스트 데이터의 개수 : 7829\n",
      "테스트 레이블의 개수 : 7829\n"
     ]
    },
    {
     "name": "stderr",
     "output_type": "stream",
     "text": [
      "/opt/conda/lib/python3.7/site-packages/numpy/core/_asarray.py:83: VisibleDeprecationWarning: Creating an ndarray from ragged nested sequences (which is a list-or-tuple of lists-or-tuples-or ndarrays with different lengths or shapes) is deprecated. If you meant to do this, you must specify 'dtype=object' when creating the ndarray\n",
      "  return array(a, dtype, copy=False, order=order)\n"
     ]
    }
   ],
   "source": [
    "# 결측치 제거 - eostoken만 남은 경우를 제거한다. 아마 없을 것이다\n",
    "drop_train = [index for index, sentence in enumerate(decoder_input_train) if len(sentence) == 1]\n",
    "drop_test = [index for index, sentence in enumerate(decoder_input_test) if len(sentence) == 1]\n",
    "\n",
    "print('삭제할 훈련 데이터의 개수 :', len(drop_train))\n",
    "print('삭제할 테스트 데이터의 개수 :', len(drop_test))\n",
    "\n",
    "encoder_input_train = np.delete(encoder_input_train, drop_train, axis=0)\n",
    "decoder_input_train = np.delete(decoder_input_train, drop_train, axis=0)\n",
    "decoder_target_train = np.delete(decoder_target_train, drop_train, axis=0)\n",
    "\n",
    "encoder_input_test = np.delete(encoder_input_test, drop_test, axis=0)\n",
    "decoder_input_test = np.delete(decoder_input_test, drop_test, axis=0)\n",
    "decoder_target_test = np.delete(decoder_target_test, drop_test, axis=0)\n",
    "\n",
    "print('훈련 데이터의 개수 :', len(encoder_input_train))\n",
    "print('훈련 레이블의 개수 :', len(decoder_input_train))\n",
    "print('테스트 데이터의 개수 :', len(encoder_input_test))\n",
    "print('테스트 레이블의 개수 :', len(decoder_input_test))"
   ]
  },
  {
   "cell_type": "markdown",
   "id": "considered-swaziland",
   "metadata": {},
   "source": [
    "### Padding"
   ]
  },
  {
   "cell_type": "markdown",
   "id": "periodic-communist",
   "metadata": {},
   "source": [
    "encoder의 경우, padding을 뒤에 넣으면 context vector가 희석되므로 앞에 padding을 넣습니다"
   ]
  },
  {
   "cell_type": "code",
   "execution_count": 286,
   "id": "congressional-temperature",
   "metadata": {},
   "outputs": [],
   "source": [
    "encoder_input_train = pad_sequences(encoder_input_train, maxlen=text_max_len, padding='pre')\n",
    "encoder_input_test = pad_sequences(encoder_input_test, maxlen=text_max_len, padding='pre')\n",
    "decoder_input_train = pad_sequences(decoder_input_train, maxlen=summary_max_len, padding='post')\n",
    "decoder_target_train = pad_sequences(decoder_target_train, maxlen=summary_max_len, padding='post')\n",
    "decoder_input_test = pad_sequences(decoder_input_test, maxlen=summary_max_len, padding='post')\n",
    "decoder_target_test = pad_sequences(decoder_target_test, maxlen=summary_max_len, padding='post')"
   ]
  },
  {
   "cell_type": "code",
   "execution_count": 287,
   "id": "greek-montreal",
   "metadata": {
    "scrolled": true
   },
   "outputs": [
    {
     "name": "stdout",
     "output_type": "stream",
     "text": [
      "WARNING:tensorflow:Layer lstm_12 will not use cuDNN kernel since it doesn't meet the cuDNN kernel criteria. It will use generic GPU kernel as fallback when running on GPU\n",
      "WARNING:tensorflow:Layer lstm_13 will not use cuDNN kernel since it doesn't meet the cuDNN kernel criteria. It will use generic GPU kernel as fallback when running on GPU\n",
      "WARNING:tensorflow:Layer lstm_14 will not use cuDNN kernel since it doesn't meet the cuDNN kernel criteria. It will use generic GPU kernel as fallback when running on GPU\n"
     ]
    }
   ],
   "source": [
    "from tensorflow.keras.layers import Input, LSTM, Embedding, Dense, Concatenate\n",
    "from tensorflow.keras.models import Model\n",
    "from tensorflow.keras.callbacks import EarlyStopping, ModelCheckpoint\n",
    "\n",
    "\n",
    "# 인코더 설계 시작\n",
    "embedding_dim = 128\n",
    "hidden_size = 256\n",
    "\n",
    "# 인코더\n",
    "encoder_inputs = Input(shape=(text_max_len,))\n",
    "\n",
    "# 인코더의 임베딩 층\n",
    "enc_emb = Embedding(src_vocab, embedding_dim)(encoder_inputs)\n",
    "\n",
    "# 인코더의 LSTM 1\n",
    "encoder_lstm1 = LSTM(hidden_size, return_sequences=True, return_state=True ,dropout = 0.4, recurrent_dropout = 0.4)\n",
    "encoder_output1, state_h1, state_c1 = encoder_lstm1(enc_emb)\n",
    "\n",
    "# 인코더의 LSTM 2\n",
    "encoder_lstm2 = LSTM(hidden_size, return_sequences=True, return_state=True, dropout=0.4, recurrent_dropout=0.4)\n",
    "encoder_output2, state_h2, state_c2 = encoder_lstm2(encoder_output1)\n",
    "\n",
    "# 인코더의 LSTM 3\n",
    "encoder_lstm3 = LSTM(hidden_size, return_state=True, return_sequences=True, dropout=0.4, recurrent_dropout=0.4)\n",
    "encoder_outputs, state_h, state_c= encoder_lstm3(encoder_output2)"
   ]
  },
  {
   "cell_type": "code",
   "execution_count": 288,
   "id": "canadian-estonia",
   "metadata": {},
   "outputs": [
    {
     "name": "stdout",
     "output_type": "stream",
     "text": [
      "WARNING:tensorflow:Layer lstm_15 will not use cuDNN kernel since it doesn't meet the cuDNN kernel criteria. It will use generic GPU kernel as fallback when running on GPU\n"
     ]
    }
   ],
   "source": [
    "# 디코더 설계\n",
    "decoder_inputs = Input(shape=(None,))\n",
    "\n",
    "# 디코더의 임베딩 층\n",
    "dec_emb_layer = Embedding(tar_vocab, embedding_dim)\n",
    "dec_emb = dec_emb_layer(decoder_inputs)\n",
    "\n",
    "# 디코더의 LSTM\n",
    "decoder_lstm = LSTM(hidden_size, return_sequences=True, return_state=True, dropout=0.4, recurrent_dropout=0.2)\n",
    "decoder_outputs, _, _ = decoder_lstm(dec_emb, initial_state=[state_h, state_c])"
   ]
  },
  {
   "cell_type": "code",
   "execution_count": 289,
   "id": "raised-foster",
   "metadata": {},
   "outputs": [
    {
     "name": "stdout",
     "output_type": "stream",
     "text": [
      "Model: \"model_12\"\n",
      "__________________________________________________________________________________________________\n",
      "Layer (type)                    Output Shape         Param #     Connected to                     \n",
      "==================================================================================================\n",
      "input_16 (InputLayer)           [(None, 40)]         0                                            \n",
      "__________________________________________________________________________________________________\n",
      "embedding_6 (Embedding)         (None, 40, 128)      1335936     input_16[0][0]                   \n",
      "__________________________________________________________________________________________________\n",
      "lstm_12 (LSTM)                  [(None, 40, 256), (N 394240      embedding_6[0][0]                \n",
      "__________________________________________________________________________________________________\n",
      "input_17 (InputLayer)           [(None, None)]       0                                            \n",
      "__________________________________________________________________________________________________\n",
      "lstm_13 (LSTM)                  [(None, 40, 256), (N 525312      lstm_12[0][0]                    \n",
      "__________________________________________________________________________________________________\n",
      "embedding_7 (Embedding)         (None, None, 128)    1410432     input_17[0][0]                   \n",
      "__________________________________________________________________________________________________\n",
      "lstm_14 (LSTM)                  [(None, 40, 256), (N 525312      lstm_13[0][0]                    \n",
      "__________________________________________________________________________________________________\n",
      "lstm_15 (LSTM)                  [(None, None, 256),  394240      embedding_7[0][0]                \n",
      "                                                                 lstm_14[0][1]                    \n",
      "                                                                 lstm_14[0][2]                    \n",
      "__________________________________________________________________________________________________\n",
      "dense_6 (Dense)                 (None, None, 11019)  2831883     lstm_15[0][0]                    \n",
      "==================================================================================================\n",
      "Total params: 7,417,355\n",
      "Trainable params: 7,417,355\n",
      "Non-trainable params: 0\n",
      "__________________________________________________________________________________________________\n"
     ]
    }
   ],
   "source": [
    "# 디코더의 출력층\n",
    "decoder_softmax_layer = Dense(tar_vocab, activation='softmax')\n",
    "decoder_softmax_outputs = decoder_softmax_layer(decoder_outputs) \n",
    "\n",
    "# 모델 정의\n",
    "model2 = Model([encoder_inputs, decoder_inputs], decoder_softmax_outputs)\n",
    "model2.summary()"
   ]
  },
  {
   "cell_type": "code",
   "execution_count": 290,
   "id": "assigned-equilibrium",
   "metadata": {},
   "outputs": [],
   "source": [
    "urllib.request.urlretrieve(\"https://raw.githubusercontent.com/thushv89/attention_keras/master/src/layers/attention.py\", filename=\"attention.py\")\n",
    "from attention import AttentionLayer"
   ]
  },
  {
   "cell_type": "code",
   "execution_count": 291,
   "id": "choice-broad",
   "metadata": {},
   "outputs": [
    {
     "name": "stdout",
     "output_type": "stream",
     "text": [
      "Model: \"model_13\"\n",
      "__________________________________________________________________________________________________\n",
      "Layer (type)                    Output Shape         Param #     Connected to                     \n",
      "==================================================================================================\n",
      "input_16 (InputLayer)           [(None, 40)]         0                                            \n",
      "__________________________________________________________________________________________________\n",
      "embedding_6 (Embedding)         (None, 40, 128)      1335936     input_16[0][0]                   \n",
      "__________________________________________________________________________________________________\n",
      "lstm_12 (LSTM)                  [(None, 40, 256), (N 394240      embedding_6[0][0]                \n",
      "__________________________________________________________________________________________________\n",
      "input_17 (InputLayer)           [(None, None)]       0                                            \n",
      "__________________________________________________________________________________________________\n",
      "lstm_13 (LSTM)                  [(None, 40, 256), (N 525312      lstm_12[0][0]                    \n",
      "__________________________________________________________________________________________________\n",
      "embedding_7 (Embedding)         (None, None, 128)    1410432     input_17[0][0]                   \n",
      "__________________________________________________________________________________________________\n",
      "lstm_14 (LSTM)                  [(None, 40, 256), (N 525312      lstm_13[0][0]                    \n",
      "__________________________________________________________________________________________________\n",
      "lstm_15 (LSTM)                  [(None, None, 256),  394240      embedding_7[0][0]                \n",
      "                                                                 lstm_14[0][1]                    \n",
      "                                                                 lstm_14[0][2]                    \n",
      "__________________________________________________________________________________________________\n",
      "attention_layer (AttentionLayer ((None, None, 256),  131328      lstm_14[0][0]                    \n",
      "                                                                 lstm_15[0][0]                    \n",
      "__________________________________________________________________________________________________\n",
      "concat_layer (Concatenate)      (None, None, 512)    0           lstm_15[0][0]                    \n",
      "                                                                 attention_layer[0][0]            \n",
      "__________________________________________________________________________________________________\n",
      "dense_7 (Dense)                 (None, None, 11019)  5652747     concat_layer[0][0]               \n",
      "==================================================================================================\n",
      "Total params: 10,369,547\n",
      "Trainable params: 10,369,547\n",
      "Non-trainable params: 0\n",
      "__________________________________________________________________________________________________\n"
     ]
    }
   ],
   "source": [
    "# 어텐션 층(어텐션 함수)\n",
    "attn_layer = AttentionLayer(name='attention_layer')\n",
    "# 인코더와 디코더의 모든 time step의 hidden state를 어텐션 층에 전달하고 결과를 리턴\n",
    "attn_out, attn_states = attn_layer([encoder_outputs, decoder_outputs])\n",
    "\n",
    "# 어텐션의 결과와 디코더의 hidden state들을 연결\n",
    "decoder_concat_input = Concatenate(axis=-1, name='concat_layer')([decoder_outputs, attn_out])\n",
    "\n",
    "# 디코더의 출력층\n",
    "decoder_softmax_layer = Dense(tar_vocab, activation='softmax')\n",
    "decoder_softmax_outputs = decoder_softmax_layer(decoder_concat_input)\n",
    "\n",
    "# 모델 정의\n",
    "model2 = Model([encoder_inputs, decoder_inputs], decoder_softmax_outputs)\n",
    "model2.summary()"
   ]
  },
  {
   "cell_type": "code",
   "execution_count": 292,
   "id": "modular-chosen",
   "metadata": {},
   "outputs": [
    {
     "name": "stdout",
     "output_type": "stream",
     "text": [
      "Epoch 1/50\n",
      "123/123 [==============================] - 94s 680ms/step - loss: 5.8097 - val_loss: 4.8810\n",
      "Epoch 2/50\n",
      "123/123 [==============================] - 83s 673ms/step - loss: 4.8910 - val_loss: 4.6263\n",
      "Epoch 3/50\n",
      "123/123 [==============================] - 83s 677ms/step - loss: 4.6869 - val_loss: 4.5085\n",
      "Epoch 4/50\n",
      "123/123 [==============================] - 83s 677ms/step - loss: 4.5275 - val_loss: 4.3659\n",
      "Epoch 5/50\n",
      "123/123 [==============================] - 84s 679ms/step - loss: 4.3522 - val_loss: 4.2553\n",
      "Epoch 6/50\n",
      "123/123 [==============================] - 83s 678ms/step - loss: 4.1866 - val_loss: 4.1379\n",
      "Epoch 7/50\n",
      "123/123 [==============================] - 83s 678ms/step - loss: 4.0600 - val_loss: 4.0526\n",
      "Epoch 8/50\n",
      "123/123 [==============================] - 83s 677ms/step - loss: 3.9120 - val_loss: 3.9927\n",
      "Epoch 9/50\n",
      "123/123 [==============================] - 83s 679ms/step - loss: 3.7991 - val_loss: 3.9367\n",
      "Epoch 10/50\n",
      "123/123 [==============================] - 84s 680ms/step - loss: 3.6823 - val_loss: 3.8862\n",
      "Epoch 11/50\n",
      "123/123 [==============================] - 84s 680ms/step - loss: 3.5788 - val_loss: 3.8626\n",
      "Epoch 12/50\n",
      "123/123 [==============================] - 84s 680ms/step - loss: 3.4779 - val_loss: 3.8278\n",
      "Epoch 13/50\n",
      "123/123 [==============================] - 84s 680ms/step - loss: 3.3961 - val_loss: 3.7788\n",
      "Epoch 14/50\n",
      "123/123 [==============================] - 83s 677ms/step - loss: 3.3021 - val_loss: 3.7656\n",
      "Epoch 15/50\n",
      "123/123 [==============================] - 84s 679ms/step - loss: 3.2206 - val_loss: 3.7457\n",
      "Epoch 16/50\n",
      "123/123 [==============================] - 84s 681ms/step - loss: 3.1445 - val_loss: 3.7281\n",
      "Epoch 17/50\n",
      "123/123 [==============================] - 84s 682ms/step - loss: 3.0694 - val_loss: 3.7237\n",
      "Epoch 18/50\n",
      "123/123 [==============================] - 84s 681ms/step - loss: 3.0004 - val_loss: 3.7172\n",
      "Epoch 19/50\n",
      "123/123 [==============================] - 84s 683ms/step - loss: 2.9296 - val_loss: 3.7064\n",
      "Epoch 20/50\n",
      "123/123 [==============================] - 84s 679ms/step - loss: 2.8728 - val_loss: 3.6956\n",
      "Epoch 21/50\n",
      "123/123 [==============================] - 83s 679ms/step - loss: 2.8159 - val_loss: 3.6971\n",
      "Epoch 22/50\n",
      "123/123 [==============================] - 84s 680ms/step - loss: 2.7525 - val_loss: 3.6954\n",
      "Epoch 23/50\n",
      "123/123 [==============================] - 83s 678ms/step - loss: 2.6921 - val_loss: 3.6852\n",
      "Epoch 24/50\n",
      "123/123 [==============================] - 83s 679ms/step - loss: 2.6395 - val_loss: 3.6857\n",
      "Epoch 25/50\n",
      "123/123 [==============================] - 84s 680ms/step - loss: 2.5855 - val_loss: 3.6893\n",
      "Epoch 00025: early stopping\n"
     ]
    }
   ],
   "source": [
    "model2.compile(optimizer='rmsprop', loss='sparse_categorical_crossentropy')\n",
    "es = EarlyStopping(monitor='val_loss', patience=2, verbose=1)\n",
    "history = model2.fit(x=[encoder_input_train, decoder_input_train], y=decoder_target_train, \\\n",
    "          validation_data=([encoder_input_test, decoder_input_test], decoder_target_test), \\\n",
    "          batch_size=256, callbacks=[es], epochs=50)"
   ]
  },
  {
   "cell_type": "code",
   "execution_count": 299,
   "id": "digital-snake",
   "metadata": {},
   "outputs": [
    {
     "data": {
      "image/png": "[encoded data removed]",
      "text/plain": [
       "<Figure size 432x288 with 1 Axes>"
      ]
     },
     "metadata": {
      "needs_background": "light"
     },
     "output_type": "display_data"
    }
   ],
   "source": [
    "plt.plot(history.history['loss'], label='train')\n",
    "plt.plot(history.history['val_loss'], label='test')\n",
    "plt.legend()\n",
    "plt.show()"
   ]
  },
  {
   "cell_type": "code",
   "execution_count": 293,
   "id": "bright-burton",
   "metadata": {},
   "outputs": [],
   "source": [
    "src_index_to_word = src_tokenizer.index_word # 원문 단어 집합에서 정수 -> 단어를 얻음\n",
    "tar_word_to_index = tar_tokenizer.word_index # 요약 단어 집합에서 단어 -> 정수를 얻음\n",
    "tar_index_to_word = tar_tokenizer.index_word # 요약 단어 집합에서 정수 -> 단어를 얻음"
   ]
  },
  {
   "cell_type": "code",
   "execution_count": 294,
   "id": "swiss-geography",
   "metadata": {},
   "outputs": [],
   "source": [
    "# 인코더 설계\n",
    "encoder_model = Model(inputs=encoder_inputs, outputs=[encoder_outputs, state_h, state_c])\n",
    "\n",
    "# 이전 시점의 상태들을 저장하는 텐서\n",
    "decoder_state_input_h = Input(shape=(hidden_size,))\n",
    "decoder_state_input_c = Input(shape=(hidden_size,))\n",
    "\n",
    "dec_emb2 = dec_emb_layer(decoder_inputs)\n",
    "\n",
    "# 문장의 다음 단어를 예측하기 위해서 초기 상태(initial_state)를 이전 시점의 상태로 사용. 이는 뒤의 함수 decode_sequence()에 구현\n",
    "# 훈련 과정에서와 달리 LSTM의 리턴하는 은닉 상태와 셀 상태인 state_h와 state_c를 버리지 않음.\n",
    "decoder_outputs2, state_h2, state_c2 = decoder_lstm(dec_emb2, initial_state=[decoder_state_input_h, decoder_state_input_c])"
   ]
  },
  {
   "cell_type": "code",
   "execution_count": 295,
   "id": "floating-swiss",
   "metadata": {},
   "outputs": [],
   "source": [
    "# 어텐션 함수\n",
    "decoder_hidden_state_input = Input(shape=(text_max_len, hidden_size))\n",
    "attn_out_inf, attn_states_inf = attn_layer([decoder_hidden_state_input, decoder_outputs2])\n",
    "decoder_inf_concat = Concatenate(axis=-1, name='concat')([decoder_outputs2, attn_out_inf])\n",
    "\n",
    "# 디코더의 출력층\n",
    "decoder_outputs2 = decoder_softmax_layer(decoder_inf_concat) \n",
    "\n",
    "# 최종 디코더 모델\n",
    "decoder_model = Model(\n",
    "    [decoder_inputs] + [decoder_hidden_state_input,decoder_state_input_h, decoder_state_input_c],\n",
    "    [decoder_outputs2] + [state_h2, state_c2])"
   ]
  },
  {
   "cell_type": "code",
   "execution_count": 298,
   "id": "interior-segment",
   "metadata": {},
   "outputs": [
    {
     "name": "stdout",
     "output_type": "stream",
     "text": [
      "id: 6500\n",
      "원문 : human resource development ministry reportedly planning replace western convocation indian ethnic wear .. ministry meeting officials idea viewing colonial past .. notice issued .. attire match conditions .. reflect culture hrd official said .. \n",
      "실제 요약 : govt plans to replace convocation with ethnic \n",
      "예측 요약 :  government to launch new budget\n",
      "\n",
      "\n",
      "id: 6501\n",
      "원문 : kerala government temporarily banned forest areas after nine people killed forest fire while hills tamil nadu .. state forest department also directed take necessary prevent forest fires .. further tour operators directed not undertake activities .. \n",
      "실제 요약 : kerala temporarily bans after tn fire kills \n",
      "예측 요약 :  illegal rainfall found in tn floods\n",
      "\n",
      "\n",
      "id: 6502\n",
      "원문 : according reports mark paid .. million while michelle williams got film money world .. reports added team fee while michelle not told deal .. director scott claimed actors nothing .. \n",
      "실제 요약 : mark was paid crore michelle for report \n",
      "예측 요약 :  it is the of the life of the life of india\n",
      "\n",
      "\n",
      "id: 6503\n",
      "원문 : amazon founder world richest person jeff bezos shared childhood picture twitter said .. lucky exposed tech young age .. hope new amazon future engineer program kids today added amazon program underprivileged children young adults .. \n",
      "실제 요약 : lucky to be exposed to tech so young bezos on childhood pic \n",
      "예측 요약 :  bezos founder shares pic of his iphone on his day\n",
      "\n",
      "\n",
      "id: 6504\n",
      "원문 : actress former bigg boss contestant accused fraud event management company .. reportedly supposed perform wedding reception but not make function costing company loss nearly lakh .. event manager also accused blackmailing .. \n",
      "실제 요약 : bigg boss contestant karishma tanna accused of fraud \n",
      "예측 요약 :  shilpa shilpa to be paid crore on tv show reports\n",
      "\n",
      "\n",
      "id: 6505\n",
      "원문 : television personality kim kardashian while opening robbery incident paris said mentally prepared raped killed robbers .. grabbed legs .. no clothes under said while describing incident .. took experience not let added kim .. \n",
      "실제 요약 : mentally prepared myself to be raped kim on paris robbery \n",
      "예측 요약 :  was dead suicide after being was raped in suicide\n",
      "\n",
      "\n",
      "id: 6506\n",
      "원문 : nasa operation discovered iceberg three times size manhattan antarctica .. named believed measure square km according estimates us national ice centre .. however satellite imagery showed main iceberg may not last long already beginning break nasa said .. \n",
      "실제 요약 : nasa finds antarctic iceberg times the size of \n",
      "예측 요약 :  scientists identify ice ice found in study\n",
      "\n",
      "\n",
      "id: 6507\n",
      "원문 : actor salman khan launching hussain lead actress opposite brother law aayush sharma upcoming production loveratri .. film also mark acting debut aayush .. earlier salman tweeted gayi resulting reports said get married soon .. \n",
      "실제 요약 : salman to launch opposite his brother in law aayush \n",
      "예측 요약 :  salman to play salman in salman khan film report\n",
      "\n",
      "\n",
      "id: 6508\n",
      "원문 : centre wednesday criticised former uttar pradesh chief minister akhilesh yadav saying martyrs several indian states but none prime minister narendra modi home state gujarat .. union minister state pandey termed akhilesh yadav statement also demanded apology .. \n",
      "실제 요약 : govt criticises akhilesh yadav for his statement on martyrs \n",
      "예측 요약 :  no one of the pm modi is the pm modi on dec govt\n",
      "\n",
      "\n",
      "id: 6509\n",
      "원문 : former pakistan high commissioner abdul thanked india bid country after serving envoy delhi four years .. appointed high commissioner india tweeted goodbye india thanks everything .. succeeded sohail mahmood expected take responsibilities around mid august .. \n",
      "실제 요약 : goodbye india and thanks for everything former pak envoy \n",
      "예측 요약 :  indian army chief appointed as india india\n",
      "\n",
      "\n",
      "id: 6510\n",
      "원문 : after congress criticised video surgical strikes union law minister ravi shankar prasad thursday said congress party not mainstream one .. congress party repeatedly giving not mainstream political party .. breaking morale country minister added .. \n",
      "실제 요약 : congress and not mainstream party bjp \n",
      "예측 요약 :  congress is not defeat congress on congress leader\n",
      "\n",
      "\n",
      "id: 6511\n",
      "원문 : encrypted messaging app said popular among us president donald trump staff sued falsely claiming people cannot take screenshots messages app .. lawsuit notes app block screenshots ios but security feature fails user message windows app .. \n",
      "실제 요약 : chat app sued on false claims of protection from \n",
      "예측 요약 :  twitter trump account to sue trump account\n",
      "\n",
      "\n",
      "id: 6512\n",
      "원문 : national payments corporation india backed app updated features like bills collecting payments .. app allows users send receive money users mobile number payment address available android app store .. launched app version upi .. \n",
      "실제 요약 : bhim app allows users to split bills and collect payments \n",
      "예측 요약 :  google launches app to launch users\n",
      "\n",
      "\n",
      "id: 6513\n",
      "원문 : manto director das saturday tweeted disappointed manto not seen theatres pakistan .. keen belongs countries equally .. film based life pakistani author born british india hasan manto .. film stars nawazuddin siddiqui rishi kapoor divya dutta .. \n",
      "실제 요약 : disappointed that manto will not be shown in pakistan nandita \n",
      "예측 요약 :  baahubali is the most popular indian film on india film\n",
      "\n",
      "\n",
      "id: 6514\n",
      "원문 : shillong host second festival november .. known india international festival hosted meghalaya government feature bicycle rallies archery beauty pageant .. also live music dance performances stalls region .. \n",
      "실제 요약 : shillong to host cherry festival \n",
      "예측 요약 :  flag discovered in india\n",
      "\n",
      "\n",
      "id: 6515\n",
      "원문 : twenty four year old peter mumbai known india first one man band play musical time .. play total including piano .. peter shared first one man band video may .. \n",
      "실제 요약 : india st one man band plays at one time \n",
      "예측 요약 :  yr old dances to be named in the world day\n",
      "\n",
      "\n",
      "id: 6516\n",
      "원문 : commenting relationship americans russians model actress anderson said americans blame russia anything goes wrong .. adding russians emotional engaged wanting right thing anderson said people think russians .. .. further said america .. \n",
      "실제 요약 : americans are to blame russia pamela anderson \n",
      "예측 요약 :  twitter slams news for calling people to create\n",
      "\n",
      "\n",
      "id: 6517\n",
      "원문 : gurudwara wife punjab arrested allegedly using torn pages holy book sons .. matter reported student union found torn pages near boys school .. union leaders said found torn pages visited residence .. \n",
      "실제 요약 : couple held for using pages of holy book to wrap kids lunch \n",
      "예측 요약 :  man arrested for molesting woman to help\n",
      "\n",
      "\n",
      "id: 6518\n",
      "원문 : elon musk led tesla asked suppliers return portion payments order turn profitable according wall street journal .. claimed startup requesting back portion suppliers payments since .. tesla claimed requests standard part procurement negotiations improve competitive advantage report added .. \n",
      "실제 요약 : tesla asked for refunds to turn profitable report \n",
      "예측 요약 :  musk tesla backs tesla for tesla workers\n",
      "\n",
      "\n",
      "id: 6519\n",
      "원문 : israeli border police arrested man deliberately got arrested six phones prisoners .. man described israeli police arab trying scale security fence surrounding jerusalem placed custody .. however body search done minutes before putting inmates revealed carrying phones .. \n",
      "실제 요약 : man gets arrested to give phones hid in body to inmates \n",
      "예측 요약 :  man arrested for molesting man who arrested for molesting man\n",
      "\n",
      "\n"
     ]
    }
   ],
   "source": [
    "for i in range(6500, 6520):\n",
    "    print('id:', i)\n",
    "    print(\"원문 :\", seq2text(encoder_input_test[i]))\n",
    "    print(\"실제 요약 :\", seq2summary(decoder_input_test[i]))\n",
    "    print(\"예측 요약 :\", decode_sequence(encoder_input_test[i].reshape(1, text_max_len)))\n",
    "    print(\"\\n\")"
   ]
  },
  {
   "cell_type": "markdown",
   "id": "neutral-tooth",
   "metadata": {},
   "source": [
    "직전의 단계에 비해 오히려 요악의 품질이 떨어진 것을 알 수 있습니다. 문장부호는 너무 자주 나와 (등장빈도 1위) 학습에 혼란을 주는 것 같습니다."
   ]
  },
  {
   "cell_type": "markdown",
   "id": "bearing-illustration",
   "metadata": {},
   "source": [
    "요약의 품질도 우수하고, 문법적으로도 올바른 문장을 얻었습니다. 단점으로는 원문의 가장 짧은 문장보다 요약문이 짧아질 수는 없단 것입니다. 가장 중요한 문장을 골라내는 것이므로, 생성 모델에 비해 표현력은 매우 떨어지는 단점이 있습니다."
   ]
  },
  {
   "cell_type": "markdown",
   "id": "driven-mineral",
   "metadata": {},
   "source": [
    "# Trial 4\n",
    "Trial2와 비슷한 방식으로 재시도합니다. 문장부호는 오히려 모델 학습에 방해가 되는 것을 확인하여 물음표만 남기고 삭제합니다. summary의 동어 반복 문제를 해결하기 위해 시도합니다."
   ]
  },
  {
   "cell_type": "markdown",
   "id": "preliminary-grade",
   "metadata": {},
   "source": [
    "같은 토큰이 계속 반복되는 문제는 Text Degeneration이라는 이슈로 불리며, 다음 토큰을 생성할 때 가장 높은 확률을 지닌 토큰을 추출하려는 목표를 가지고 infer하다보니 구간이 반복되는 현상이 발생합니다.\n",
    "\n",
    "[NLG 논문 리뷰-The Curious Case of Neural Case Degeneration](https://sleekdev.tistory.com/19)"
   ]
  },
  {
   "cell_type": "markdown",
   "id": "descending-irish",
   "metadata": {},
   "source": [
    "## load data"
   ]
  },
  {
   "cell_type": "code",
   "execution_count": 345,
   "id": "adjacent-platinum",
   "metadata": {},
   "outputs": [],
   "source": [
    "data4 = pd.read_csv('news_summary_more.csv', encoding='iso-8859-1')"
   ]
  },
  {
   "cell_type": "code",
   "execution_count": 346,
   "id": "intellectual-tonight",
   "metadata": {},
   "outputs": [],
   "source": [
    "data4 = data4[['text', 'headlines']]\n",
    "data4.rename(columns = {'text': 'Text', 'headlines': 'Summary'}, inplace = True)"
   ]
  },
  {
   "cell_type": "markdown",
   "id": "stretch-sentence",
   "metadata": {},
   "source": [
    "## preprocess data"
   ]
  },
  {
   "cell_type": "code",
   "execution_count": 348,
   "id": "statewide-joint",
   "metadata": {},
   "outputs": [],
   "source": [
    "def preprocess_sentence(sentence, remove_stopwords=True):\n",
    "    sentence = sentence.lower() # 텍스트 소문자화\n",
    "    sentence = BeautifulSoup(sentence, \"lxml\").text # <br />, <a href = ...> 등의 html 태그 제거\n",
    "    sentence = re.sub(r'\\([^)]*\\)', '', sentence) # 괄호로 닫힌 문자열 (...) 제거 Ex) my husband (and myself!) for => my husband for\n",
    "    sentence = re.sub('\"','', sentence) # 쌍따옴표 \" 제거\n",
    "    sentence = ' '.join([contractions[t] if t in contractions else t for t in sentence.split(\" \")]) # 약어 정규화\n",
    "    sentence = re.sub(r\"'s\\b\",\"\", sentence) # 소유격 제거. Ex) roland's -> roland\n",
    "    sentence = re.sub(r\"[^a-zA-Z?]+\", \" \", sentence) # 영어 외 문자(숫자, 특수문자 등) 공백으로 변환\n",
    "    \n",
    "    sentence = re.sub('[m]{3,}', 'm', sentence)  # Ex) ummmmmmm yeah -> um mm yeah\n",
    "    sentence = re.sub('[o]{3,}', 'o', sentence)\n",
    "    \n",
    "    ####\n",
    "    sentence = re.sub(r'[?]{1,}', r' ?? ', sentence)\n",
    "    sentence = re.sub(r'[\" \"]+', r' ', sentence)\n",
    "    ####\n",
    "    \n",
    "    # 불용어 제거 (Text)\n",
    "    if remove_stopwords:\n",
    "        tokens = ' '.join(word for word in sentence.split() if not word in my_stopwords if len(word) > 1)\n",
    "    # 불용어 미제거 (Summary)\n",
    "    else:\n",
    "        tokens = ' '.join(word for word in sentence.split() if len(word) > 1)\n",
    "    return tokens"
   ]
  },
  {
   "cell_type": "code",
   "execution_count": 349,
   "id": "oriental-samuel",
   "metadata": {},
   "outputs": [
    {
     "name": "stdout",
     "output_type": "stream",
     "text": [
      "10.35115122795105  seconds\n",
      "['saurav kant alumnus upgrad iiit pg program machine learning artificial intelligence sr systems engineer infosys almost years work experience program upgrad degree career support helped transition data scientist tech mahindra salary hike upgrad online power learning powered lakh careers'\n",
      " 'kunal shah credit card bill payment platform cred gave users chance win free food swiggy one year pranav kaushik delhi techie bagged reward after spending cred coins users get one cred coin per rupee bill paid used avail rewards brands like ixigo bookmyshow ubereats cult fit'\n",
      " 'new zealand defeated india wickets fourth odi hamilton thursday win first match five match odi series india lost international match under rohit sharma captaincy after consecutive victories dating back march match witnessed india getting seventh lowest total odi cricket history'\n",
      " ...\n",
      " 'according reports new version science fiction film matrix development michael jordan reportedly play lead role film screenwriter zak penn talks write script film reports added actor keanu reeves starred original film followed two sequels'\n",
      " 'new music video shows rapper snoop dogg aiming toy gun clown character parodying us president donald trump video also shows tv airing news conference headline ronald klump wants deport doggs airing live clown house video remixed version song lavender'\n",
      " 'madhesi morcha alliance seven political parties withdrawn support pm pushpa kamal dahal led nepal government after failed meet seven day ultimatum fulfil demands including endorsement revised constitution amendment bill morcha seats parliament but despite withdrawal support no immediate threat government']\n",
      "6.858501195907593  seconds\n",
      "['upgrad learner switches to career in ml al with salary hike'\n",
      " 'delhi techie wins free food from swiggy for one year on cred'\n",
      " 'new zealand end rohit sharma led india match winning streak' ...\n",
      " 'the matrix film to get reboot reports'\n",
      " 'snoop dogg aims gun at clown dressed as trump in new video'\n",
      " 'madhesi morcha withdraws support to nepalese government']\n"
     ]
    }
   ],
   "source": [
    "clean_text = preprocess_data(data4['Text'])  # 클라우드 기준으로 3~4분 정도 소요 됩니다\n",
    "print(clean_text)\n",
    "\n",
    "clean_summary = preprocess_data(data4['Summary'], remove_stopwords=False) # 클라우드 기준 1분정도 소요됩니다.\n",
    "print(clean_summary)"
   ]
  },
  {
   "cell_type": "code",
   "execution_count": 350,
   "id": "graphic-vulnerability",
   "metadata": {},
   "outputs": [
    {
     "name": "stdout",
     "output_type": "stream",
     "text": [
      "전체 샘플수 : 98401\n"
     ]
    }
   ],
   "source": [
    "#DataFrame으로 저장합니다\n",
    "data4['Text'] = clean_text\n",
    "data4['Summary'] = clean_summary\n",
    "\n",
    "# 빈 값을 Null 값으로 변환\n",
    "data4.replace('', np.nan, inplace=True)\n",
    "\n",
    "# 결측치 확인 0개의 빈 summary 확인되었습니다\n",
    "data4.isnull().sum()\n",
    "\n",
    "# 결측치 제거\n",
    "data4.dropna(axis=0, inplace=True)\n",
    "print('전체 샘플수 :', (len(data4)))"
   ]
  },
  {
   "cell_type": "code",
   "execution_count": 359,
   "id": "absent-formation",
   "metadata": {
    "scrolled": true
   },
   "outputs": [
    {
     "name": "stdout",
     "output_type": "stream",
     "text": [
      "전체 샘플 중 길이가 1 이상,24 이하인 샘플의 비율:0.0006707248910072052\n"
     ]
    }
   ],
   "source": [
    "bandpass_len(1, 24, data4['Text'])"
   ]
  },
  {
   "cell_type": "code",
   "execution_count": 360,
   "id": "devoted-arkansas",
   "metadata": {},
   "outputs": [
    {
     "name": "stdout",
     "output_type": "stream",
     "text": [
      "전체 샘플 중 길이가 24 이상,43 이하인 샘플의 비율:0.9769108037519943\n"
     ]
    }
   ],
   "source": [
    "bandpass_len(24, 43, data4['Text'])"
   ]
  },
  {
   "cell_type": "code",
   "execution_count": 358,
   "id": "declared-suspect",
   "metadata": {},
   "outputs": [
    {
     "name": "stdout",
     "output_type": "stream",
     "text": [
      "전체 샘플 중 길이가 44 이상,3000 이하인 샘플의 비율:0.02281480879259357\n"
     ]
    }
   ],
   "source": [
    "bandpass_len(44, 3000, data4['Text'])"
   ]
  },
  {
   "cell_type": "markdown",
   "id": "express-music",
   "metadata": {},
   "source": [
    "\\[24, 42\\]의 구간만 사용하겠습니다"
   ]
  },
  {
   "cell_type": "code",
   "execution_count": 361,
   "id": "opposed-louisville",
   "metadata": {},
   "outputs": [],
   "source": [
    "text_max_len = 42; text_min_len = 24"
   ]
  },
  {
   "cell_type": "code",
   "execution_count": 362,
   "id": "bizarre-generic",
   "metadata": {},
   "outputs": [],
   "source": [
    "data4 = data4[data4['Text'].apply(lambda x: len(x.split()) <= text_max_len \\\n",
    "            and len(x.split()) >= text_min_len)]\n"
   ]
  },
  {
   "cell_type": "code",
   "execution_count": 371,
   "id": "double-portsmouth",
   "metadata": {
    "scrolled": false
   },
   "outputs": [
    {
     "name": "stdout",
     "output_type": "stream",
     "text": [
      "전체 샘플 중 길이가 1 이상,4 이하인 샘플의 비율:0.0001592136966236082\n"
     ]
    }
   ],
   "source": [
    "bandpass_len(1, 4, data4['Summary'])"
   ]
  },
  {
   "cell_type": "code",
   "execution_count": 372,
   "id": "interracial-psychology",
   "metadata": {},
   "outputs": [],
   "source": [
    "summary_max_len = 13; summary_min_len = 5;"
   ]
  },
  {
   "cell_type": "code",
   "execution_count": 373,
   "id": "unable-consensus",
   "metadata": {},
   "outputs": [],
   "source": [
    "data4 = data4[data4['Summary'].apply(lambda x: len(x.split()) <= summary_max_len \\\n",
    "            and len(x.split()) >= summary_min_len)]"
   ]
  },
  {
   "cell_type": "markdown",
   "id": "medical-protest",
   "metadata": {},
   "source": [
    "앞과 동일한 처리를 합니다."
   ]
  },
  {
   "cell_type": "code",
   "execution_count": 374,
   "id": "crucial-tutorial",
   "metadata": {},
   "outputs": [
    {
     "name": "stdout",
     "output_type": "stream",
     "text": [
      "[20966 27199 68761 ... 37332 32324 13143]\n",
      "테스트 데이터의 수 : 18801\n",
      "훈련 데이터의 개수 : 75204\n",
      "훈련 레이블의 개수 : 75204\n",
      "테스트 데이터의 개수 : 18801\n",
      "테스트 레이블의 개수 : 18801\n"
     ]
    }
   ],
   "source": [
    "# 토큰화\n",
    "data4['decoder_input'] = data4['Summary'].apply(lambda x : 'sostoken '+ x)\n",
    "data4['decoder_target'] = data4['Summary'].apply(lambda x : x + ' eostoken')\n",
    "data4.head()\n",
    "\n",
    "# np.array로 저장\n",
    "encoder_input = np.array(data4['Text']) # 인코더의 입력\n",
    "decoder_input = np.array(data4['decoder_input']) # 디코더의 입력\n",
    "decoder_target = np.array(data4['decoder_target']) # 디코더의 레이블\n",
    "\n",
    "# train test split\n",
    "indices = np.arange(encoder_input.shape[0])\n",
    "np.random.shuffle(indices)\n",
    "print(indices)\n",
    "\n",
    "encoder_input = encoder_input[indices]\n",
    "decoder_input = decoder_input[indices]\n",
    "decoder_target = decoder_target[indices]\n",
    "\n",
    "n_of_val = int(len(encoder_input)*0.2)\n",
    "print('테스트 데이터의 수 :', n_of_val)\n",
    "\n",
    "encoder_input_train = encoder_input[:-n_of_val]\n",
    "decoder_input_train = decoder_input[:-n_of_val]\n",
    "decoder_target_train = decoder_target[:-n_of_val]\n",
    "\n",
    "encoder_input_test = encoder_input[-n_of_val:]\n",
    "decoder_input_test = decoder_input[-n_of_val:]\n",
    "decoder_target_test = decoder_target[-n_of_val:]\n",
    "\n",
    "print('훈련 데이터의 개수 :', len(encoder_input_train))\n",
    "print('훈련 레이블의 개수 :', len(decoder_input_train))\n",
    "print('테스트 데이터의 개수 :', len(encoder_input_test))\n",
    "print('테스트 레이블의 개수 :', len(decoder_input_test))"
   ]
  },
  {
   "cell_type": "markdown",
   "id": "advised-discrimination",
   "metadata": {},
   "source": [
    "### Encoding"
   ]
  },
  {
   "cell_type": "code",
   "execution_count": 375,
   "id": "brilliant-negative",
   "metadata": {},
   "outputs": [],
   "source": [
    "src_tokenizer = Tokenizer(filters='\".!#$%&()*+,-/:;<=>@[\\\\]^_`{|}~\\t\\n') # 토크나이저 정의, 물음표는 제거하지 않습니다.\n",
    "src_tokenizer.fit_on_texts(encoder_input_train) # 입력된 데이터로부터 단어 집합 생성"
   ]
  },
  {
   "cell_type": "code",
   "execution_count": 378,
   "id": "distinguished-forestry",
   "metadata": {},
   "outputs": [
    {
     "name": "stdout",
     "output_type": "stream",
     "text": [
      "단어 집합(vocabulary)의 크기 : 67424\n",
      "등장 빈도가 12번 이하인 희귀 단어의 수: 51910\n",
      "단어 집합에서 희귀 단어를 제외시킬 경우의 단어 집합의 크기 15514\n",
      "단어 집합에서 희귀 단어의 비율: 76.99038917892739\n",
      "전체 등장 빈도에서 희귀 단어 등장 빈도 비율: 5.493425785108359\n"
     ]
    }
   ],
   "source": [
    "threshold = 13  # 희귀 단어 비율을 77%로 맞춰봅니다\n",
    "total_cnt = len(src_tokenizer.word_index) # 단어의 수\n",
    "rare_cnt = 0 # 등장 빈도수가 threshold보다 작은 단어의 개수를 카운트\n",
    "total_freq = 0 # 훈련 데이터의 전체 단어 빈도수 총 합\n",
    "rare_freq = 0 # 등장 빈도수가 threshold보다 작은 단어의 등장 빈도수의 총 합\n",
    "\n",
    "# 단어와 빈도수의 쌍(pair)을 key와 value로 받는다.\n",
    "for key, value in src_tokenizer.word_counts.items():\n",
    "    total_freq = total_freq + value\n",
    "\n",
    "    # 단어의 등장 빈도수가 threshold보다 작으면\n",
    "    if(value < threshold):\n",
    "        rare_cnt = rare_cnt + 1\n",
    "        rare_freq = rare_freq + value\n",
    "\n",
    "print('단어 집합(vocabulary)의 크기 :', total_cnt)\n",
    "print('등장 빈도가 %s번 이하인 희귀 단어의 수: %s'%(threshold - 1, rare_cnt))\n",
    "print('단어 집합에서 희귀 단어를 제외시킬 경우의 단어 집합의 크기 %s'%(total_cnt - rare_cnt))\n",
    "print(\"단어 집합에서 희귀 단어의 비율:\", (rare_cnt / total_cnt)*100)\n",
    "print(\"전체 등장 빈도에서 희귀 단어 등장 빈도 비율:\", (rare_freq / total_freq)*100)"
   ]
  },
  {
   "cell_type": "code",
   "execution_count": 379,
   "id": "southeast-majority",
   "metadata": {},
   "outputs": [],
   "source": [
    "src_vocab = 15514\n",
    "src_tokenizer = Tokenizer(num_words=src_vocab, filters='\".!#$%&()*+,-/:;<=>@[\\\\]^_`{|}~\\t\\n') # 단어 집합의 크기를 15514으로 제한\n",
    "src_tokenizer.fit_on_texts(encoder_input_train) # 단어 집합 재생성."
   ]
  },
  {
   "cell_type": "code",
   "execution_count": 380,
   "id": "radio-mistake",
   "metadata": {},
   "outputs": [
    {
     "name": "stdout",
     "output_type": "stream",
     "text": [
      "[[1052, 367, 5699, 1100, 78, 29, 489, 3654, 1911, 3121, 1348, 76, 3671, 614, 1242, 60, 9, 6730, 349, 12, 10132, 684, 3520, 129, 20, 3654, 4741, 35, 3654, 1052, 367, 5699, 1100, 78], [1396, 5947, 394, 2067, 570, 191, 21, 21, 69, 2, 34, 2337, 3569, 4, 123, 3, 707, 501, 383, 10133, 1493, 288, 26, 806, 1150, 21, 1130, 777, 20, 30, 5138, 641, 3569, 113, 2248, 4341, 4, 318, 1493, 2998, 4742, 1993], [372, 727, 1007, 495, 2640, 6340, 1348, 630, 2725, 816, 352, 7, 1994, 682, 1, 95, 6, 7, 25, 288, 2861, 888, 457, 495, 372, 390, 228, 39, 3672, 7, 5010, 622, 1604, 888, 515, 736, 6482, 6204, 331]]\n"
     ]
    }
   ],
   "source": [
    "# 텍스트 시퀀스를 정수 시퀀스로 변환\n",
    "encoder_input_train = src_tokenizer.texts_to_sequences(encoder_input_train) \n",
    "encoder_input_test = src_tokenizer.texts_to_sequences(encoder_input_test)\n",
    "\n",
    "# 잘 진행되었는지 샘플 출력\n",
    "print(encoder_input_train[:3])"
   ]
  },
  {
   "cell_type": "markdown",
   "id": "cathedral-uncertainty",
   "metadata": {},
   "source": [
    "summary에 대해서는 decoder_input으로 토큰화합니다."
   ]
  },
  {
   "cell_type": "code",
   "execution_count": 382,
   "id": "alternate-wages",
   "metadata": {},
   "outputs": [],
   "source": [
    "tar_tokenizer = Tokenizer(filters='\".!#$%&()*+,-/:;<=>@[\\\\]^_`{|}~\\t\\n')\n",
    "tar_tokenizer.fit_on_texts(decoder_input_train)"
   ]
  },
  {
   "cell_type": "code",
   "execution_count": 387,
   "id": "negative-magnet",
   "metadata": {},
   "outputs": [
    {
     "name": "stdout",
     "output_type": "stream",
     "text": [
      "단어 집합(vocabulary)의 크기 : 29303\n",
      "등장 빈도가 11번 이하인 희귀 단어의 수: 22677\n",
      "단어 집합에서 희귀 단어를 제외시킬 경우의 단어 집합의 크기 6626\n",
      "단어 집합에서 희귀 단어의 비율: 77.38798075282395\n",
      "전체 등장 빈도에서 희귀 단어 등장 빈도 비율: 8.419365793881074\n"
     ]
    }
   ],
   "source": [
    "threshold = 12\n",
    "total_cnt = len(tar_tokenizer.word_index) # 단어의 수\n",
    "rare_cnt = 0 # 등장 빈도수가 threshold보다 작은 단어의 개수를 카운트\n",
    "total_freq = 0 # 훈련 데이터의 전체 단어 빈도수 총 합\n",
    "rare_freq = 0 # 등장 빈도수가 threshold보다 작은 단어의 등장 빈도수의 총 합\n",
    "\n",
    "# 단어와 빈도수의 쌍(pair)을 key와 value로 받는다.\n",
    "for key, value in tar_tokenizer.word_counts.items():\n",
    "    total_freq = total_freq + value\n",
    "\n",
    "    # 단어의 등장 빈도수가 threshold보다 작으면\n",
    "    if(value < threshold):\n",
    "        rare_cnt = rare_cnt + 1\n",
    "        rare_freq = rare_freq + value\n",
    "\n",
    "print('단어 집합(vocabulary)의 크기 :', total_cnt)\n",
    "print('등장 빈도가 %s번 이하인 희귀 단어의 수: %s'%(threshold - 1, rare_cnt))\n",
    "print('단어 집합에서 희귀 단어를 제외시킬 경우의 단어 집합의 크기 %s'%(total_cnt - rare_cnt))\n",
    "print(\"단어 집합에서 희귀 단어의 비율:\", (rare_cnt / total_cnt)*100)\n",
    "print(\"전체 등장 빈도에서 희귀 단어 등장 빈도 비율:\", (rare_freq / total_freq)*100)"
   ]
  },
  {
   "cell_type": "code",
   "execution_count": 388,
   "id": "wicked-equation",
   "metadata": {},
   "outputs": [
    {
     "name": "stdout",
     "output_type": "stream",
     "text": [
      "input\n",
      "input  [[1, 3295, 1050, 5985, 1260, 32, 4, 2214, 4140], [1, 1301, 1302, 383, 51, 7, 394, 6, 1959, 1340, 1491], [1, 13, 235, 1196, 6, 364, 680, 1019, 4, 5248], [1, 39, 26, 81, 5, 845, 5046, 6, 1864], [1, 45, 2180, 1865, 68, 10, 2532, 1110, 54, 1051, 149]]\n",
      "target\n",
      "decoder  [[3295, 1050, 5985, 1260, 32, 4, 2214, 4140, 2], [1301, 1302, 383, 51, 7, 394, 6, 1959, 1340, 1491, 2], [13, 235, 1196, 6, 364, 680, 1019, 4, 5248, 2], [39, 26, 81, 5, 845, 5046, 6, 1864, 2], [45, 2180, 1865, 68, 10, 2532, 1110, 54, 1051, 149, 2]]\n"
     ]
    }
   ],
   "source": [
    "tar_vocab = 6626\n",
    "tar_tokenizer = Tokenizer(num_words=tar_vocab, filters='\".!#$%&()*+,-/:;<=>@[\\\\]^_`{|}~\\t\\n') \n",
    "tar_tokenizer.fit_on_texts(decoder_input_train)\n",
    "tar_tokenizer.fit_on_texts(decoder_target_train)\n",
    "\n",
    "# 텍스트 시퀀스를 정수 시퀀스로 변환\n",
    "decoder_input_train = tar_tokenizer.texts_to_sequences(decoder_input_train) \n",
    "decoder_target_train = tar_tokenizer.texts_to_sequences(decoder_target_train)\n",
    "decoder_input_test = tar_tokenizer.texts_to_sequences(decoder_input_test)\n",
    "decoder_target_test = tar_tokenizer.texts_to_sequences(decoder_target_test)\n",
    "\n",
    "# 잘 변환되었는지 확인\n",
    "print('input')\n",
    "print('input ',decoder_input_train[:5])\n",
    "print('target')\n",
    "print('decoder ',decoder_target_train[:5])"
   ]
  },
  {
   "cell_type": "markdown",
   "id": "outstanding-mission",
   "metadata": {},
   "source": [
    "sostoken과 eostoken이 각각 1, 2로 인코딩된 것과 변환이 제대로 되었음을 확인했습니다"
   ]
  },
  {
   "cell_type": "code",
   "execution_count": 389,
   "id": "pursuant-republic",
   "metadata": {},
   "outputs": [
    {
     "name": "stdout",
     "output_type": "stream",
     "text": [
      "삭제할 훈련 데이터의 개수 : 0\n",
      "삭제할 테스트 데이터의 개수 : 0\n",
      "훈련 데이터의 개수 : 75204\n",
      "훈련 레이블의 개수 : 75204\n",
      "테스트 데이터의 개수 : 18801\n",
      "테스트 레이블의 개수 : 18801\n"
     ]
    }
   ],
   "source": [
    "# 결측치 제거 - eostoken만 남은 경우를 제거한다. 아마 없을 것이다\n",
    "drop_train = [index for index, sentence in enumerate(decoder_input_train) if len(sentence) == 1]\n",
    "drop_test = [index for index, sentence in enumerate(decoder_input_test) if len(sentence) == 1]\n",
    "\n",
    "print('삭제할 훈련 데이터의 개수 :', len(drop_train))\n",
    "print('삭제할 테스트 데이터의 개수 :', len(drop_test))\n",
    "\n",
    "encoder_input_train = np.delete(encoder_input_train, drop_train, axis=0)\n",
    "decoder_input_train = np.delete(decoder_input_train, drop_train, axis=0)\n",
    "decoder_target_train = np.delete(decoder_target_train, drop_train, axis=0)\n",
    "\n",
    "encoder_input_test = np.delete(encoder_input_test, drop_test, axis=0)\n",
    "decoder_input_test = np.delete(decoder_input_test, drop_test, axis=0)\n",
    "decoder_target_test = np.delete(decoder_target_test, drop_test, axis=0)\n",
    "\n",
    "print('훈련 데이터의 개수 :', len(encoder_input_train))\n",
    "print('훈련 레이블의 개수 :', len(decoder_input_train))\n",
    "print('테스트 데이터의 개수 :', len(encoder_input_test))\n",
    "print('테스트 레이블의 개수 :', len(decoder_input_test))"
   ]
  },
  {
   "cell_type": "markdown",
   "id": "electrical-ebony",
   "metadata": {},
   "source": [
    "### Padding"
   ]
  },
  {
   "cell_type": "markdown",
   "id": "vertical-glance",
   "metadata": {},
   "source": [
    "encoder의 경우, padding을 뒤에 넣으면 context vector가 희석되므로 앞에 padding을 넣습니다"
   ]
  },
  {
   "cell_type": "code",
   "execution_count": 390,
   "id": "turned-speaker",
   "metadata": {},
   "outputs": [],
   "source": [
    "encoder_input_train = pad_sequences(encoder_input_train, maxlen=text_max_len, padding='pre')\n",
    "encoder_input_test = pad_sequences(encoder_input_test, maxlen=text_max_len, padding='pre')\n",
    "decoder_input_train = pad_sequences(decoder_input_train, maxlen=summary_max_len, padding='post')\n",
    "decoder_target_train = pad_sequences(decoder_target_train, maxlen=summary_max_len, padding='post')\n",
    "decoder_input_test = pad_sequences(decoder_input_test, maxlen=summary_max_len, padding='post')\n",
    "decoder_target_test = pad_sequences(decoder_target_test, maxlen=summary_max_len, padding='post')"
   ]
  },
  {
   "cell_type": "code",
   "execution_count": 391,
   "id": "expired-bracket",
   "metadata": {
    "scrolled": true
   },
   "outputs": [
    {
     "name": "stdout",
     "output_type": "stream",
     "text": [
      "WARNING:tensorflow:Layer lstm_16 will not use cuDNN kernel since it doesn't meet the cuDNN kernel criteria. It will use generic GPU kernel as fallback when running on GPU\n",
      "WARNING:tensorflow:Layer lstm_17 will not use cuDNN kernel since it doesn't meet the cuDNN kernel criteria. It will use generic GPU kernel as fallback when running on GPU\n",
      "WARNING:tensorflow:Layer lstm_18 will not use cuDNN kernel since it doesn't meet the cuDNN kernel criteria. It will use generic GPU kernel as fallback when running on GPU\n"
     ]
    }
   ],
   "source": [
    "from tensorflow.keras.layers import Input, LSTM, Embedding, Dense, Concatenate\n",
    "from tensorflow.keras.models import Model\n",
    "from tensorflow.keras.callbacks import EarlyStopping, ModelCheckpoint\n",
    "\n",
    "\n",
    "# 인코더 설계 시작\n",
    "embedding_dim = 128 + 32\n",
    "hidden_size = 256 + 64\n",
    "\n",
    "# 인코더\n",
    "encoder_inputs = Input(shape=(text_max_len,))\n",
    "\n",
    "# 인코더의 임베딩 층\n",
    "enc_emb = Embedding(src_vocab, embedding_dim)(encoder_inputs)\n",
    "\n",
    "# 인코더의 LSTM 1\n",
    "encoder_lstm1 = LSTM(hidden_size, return_sequences=True, return_state=True ,dropout = 0.4, recurrent_dropout = 0.4)\n",
    "encoder_output1, state_h1, state_c1 = encoder_lstm1(enc_emb)\n",
    "\n",
    "# 인코더의 LSTM 2\n",
    "encoder_lstm2 = LSTM(hidden_size, return_sequences=True, return_state=True, dropout=0.4, recurrent_dropout=0.4)\n",
    "encoder_output2, state_h2, state_c2 = encoder_lstm2(encoder_output1)\n",
    "\n",
    "# 인코더의 LSTM 3\n",
    "encoder_lstm3 = LSTM(hidden_size, return_state=True, return_sequences=True, dropout=0.4, recurrent_dropout=0.4)\n",
    "encoder_outputs, state_h, state_c= encoder_lstm3(encoder_output2)"
   ]
  },
  {
   "cell_type": "code",
   "execution_count": 392,
   "id": "quarterly-sending",
   "metadata": {},
   "outputs": [
    {
     "name": "stdout",
     "output_type": "stream",
     "text": [
      "WARNING:tensorflow:Layer lstm_19 will not use cuDNN kernel since it doesn't meet the cuDNN kernel criteria. It will use generic GPU kernel as fallback when running on GPU\n"
     ]
    }
   ],
   "source": [
    "# 디코더 설계\n",
    "decoder_inputs = Input(shape=(None,))\n",
    "\n",
    "# 디코더의 임베딩 층\n",
    "dec_emb_layer = Embedding(tar_vocab, embedding_dim)\n",
    "dec_emb = dec_emb_layer(decoder_inputs)\n",
    "\n",
    "# 디코더의 LSTM\n",
    "decoder_lstm = LSTM(hidden_size, return_sequences=True, return_state=True, dropout=0.4, recurrent_dropout=0.2)\n",
    "decoder_outputs, _, _ = decoder_lstm(dec_emb, initial_state=[state_h, state_c])"
   ]
  },
  {
   "cell_type": "code",
   "execution_count": 393,
   "id": "mineral-grammar",
   "metadata": {},
   "outputs": [
    {
     "name": "stdout",
     "output_type": "stream",
     "text": [
      "Model: \"model_16\"\n",
      "__________________________________________________________________________________________________\n",
      "Layer (type)                    Output Shape         Param #     Connected to                     \n",
      "==================================================================================================\n",
      "input_21 (InputLayer)           [(None, 42)]         0                                            \n",
      "__________________________________________________________________________________________________\n",
      "embedding_8 (Embedding)         (None, 42, 160)      2482240     input_21[0][0]                   \n",
      "__________________________________________________________________________________________________\n",
      "lstm_16 (LSTM)                  [(None, 42, 320), (N 615680      embedding_8[0][0]                \n",
      "__________________________________________________________________________________________________\n",
      "input_22 (InputLayer)           [(None, None)]       0                                            \n",
      "__________________________________________________________________________________________________\n",
      "lstm_17 (LSTM)                  [(None, 42, 320), (N 820480      lstm_16[0][0]                    \n",
      "__________________________________________________________________________________________________\n",
      "embedding_9 (Embedding)         (None, None, 160)    1060160     input_22[0][0]                   \n",
      "__________________________________________________________________________________________________\n",
      "lstm_18 (LSTM)                  [(None, 42, 320), (N 820480      lstm_17[0][0]                    \n",
      "__________________________________________________________________________________________________\n",
      "lstm_19 (LSTM)                  [(None, None, 320),  615680      embedding_9[0][0]                \n",
      "                                                                 lstm_18[0][1]                    \n",
      "                                                                 lstm_18[0][2]                    \n",
      "__________________________________________________________________________________________________\n",
      "dense_8 (Dense)                 (None, None, 6626)   2126946     lstm_19[0][0]                    \n",
      "==================================================================================================\n",
      "Total params: 8,541,666\n",
      "Trainable params: 8,541,666\n",
      "Non-trainable params: 0\n",
      "__________________________________________________________________________________________________\n"
     ]
    }
   ],
   "source": [
    "# 디코더의 출력층\n",
    "decoder_softmax_layer = Dense(tar_vocab, activation='softmax')\n",
    "decoder_softmax_outputs = decoder_softmax_layer(decoder_outputs) \n",
    "\n",
    "# 모델 정의\n",
    "model2 = Model([encoder_inputs, decoder_inputs], decoder_softmax_outputs)\n",
    "model2.summary()"
   ]
  },
  {
   "cell_type": "code",
   "execution_count": 394,
   "id": "promising-tradition",
   "metadata": {},
   "outputs": [],
   "source": [
    "urllib.request.urlretrieve(\"https://raw.githubusercontent.com/thushv89/attention_keras/master/src/layers/attention.py\", filename=\"attention.py\")\n",
    "from attention import AttentionLayer"
   ]
  },
  {
   "cell_type": "code",
   "execution_count": 395,
   "id": "referenced-digest",
   "metadata": {},
   "outputs": [
    {
     "name": "stdout",
     "output_type": "stream",
     "text": [
      "Model: \"model_17\"\n",
      "__________________________________________________________________________________________________\n",
      "Layer (type)                    Output Shape         Param #     Connected to                     \n",
      "==================================================================================================\n",
      "input_21 (InputLayer)           [(None, 42)]         0                                            \n",
      "__________________________________________________________________________________________________\n",
      "embedding_8 (Embedding)         (None, 42, 160)      2482240     input_21[0][0]                   \n",
      "__________________________________________________________________________________________________\n",
      "lstm_16 (LSTM)                  [(None, 42, 320), (N 615680      embedding_8[0][0]                \n",
      "__________________________________________________________________________________________________\n",
      "input_22 (InputLayer)           [(None, None)]       0                                            \n",
      "__________________________________________________________________________________________________\n",
      "lstm_17 (LSTM)                  [(None, 42, 320), (N 820480      lstm_16[0][0]                    \n",
      "__________________________________________________________________________________________________\n",
      "embedding_9 (Embedding)         (None, None, 160)    1060160     input_22[0][0]                   \n",
      "__________________________________________________________________________________________________\n",
      "lstm_18 (LSTM)                  [(None, 42, 320), (N 820480      lstm_17[0][0]                    \n",
      "__________________________________________________________________________________________________\n",
      "lstm_19 (LSTM)                  [(None, None, 320),  615680      embedding_9[0][0]                \n",
      "                                                                 lstm_18[0][1]                    \n",
      "                                                                 lstm_18[0][2]                    \n",
      "__________________________________________________________________________________________________\n",
      "attention_layer (AttentionLayer ((None, None, 320),  205120      lstm_18[0][0]                    \n",
      "                                                                 lstm_19[0][0]                    \n",
      "__________________________________________________________________________________________________\n",
      "concat_layer (Concatenate)      (None, None, 640)    0           lstm_19[0][0]                    \n",
      "                                                                 attention_layer[0][0]            \n",
      "__________________________________________________________________________________________________\n",
      "dense_9 (Dense)                 (None, None, 6626)   4247266     concat_layer[0][0]               \n",
      "==================================================================================================\n",
      "Total params: 10,867,106\n",
      "Trainable params: 10,867,106\n",
      "Non-trainable params: 0\n",
      "__________________________________________________________________________________________________\n"
     ]
    }
   ],
   "source": [
    "# 어텐션 층(어텐션 함수)\n",
    "attn_layer = AttentionLayer(name='attention_layer')\n",
    "# 인코더와 디코더의 모든 time step의 hidden state를 어텐션 층에 전달하고 결과를 리턴\n",
    "attn_out, attn_states = attn_layer([encoder_outputs, decoder_outputs])\n",
    "\n",
    "# 어텐션의 결과와 디코더의 hidden state들을 연결\n",
    "decoder_concat_input = Concatenate(axis=-1, name='concat_layer')([decoder_outputs, attn_out])\n",
    "\n",
    "# 디코더의 출력층\n",
    "decoder_softmax_layer = Dense(tar_vocab, activation='softmax')\n",
    "decoder_softmax_outputs = decoder_softmax_layer(decoder_concat_input)\n",
    "\n",
    "# 모델 정의\n",
    "model2 = Model([encoder_inputs, decoder_inputs], decoder_softmax_outputs)\n",
    "model2.summary()"
   ]
  },
  {
   "cell_type": "code",
   "execution_count": 396,
   "id": "explicit-coating",
   "metadata": {},
   "outputs": [
    {
     "name": "stdout",
     "output_type": "stream",
     "text": [
      "Epoch 1/50\n",
      "294/294 [==============================] - 220s 714ms/step - loss: 5.2687 - val_loss: 4.6622\n",
      "Epoch 2/50\n",
      "294/294 [==============================] - 211s 719ms/step - loss: 4.6107 - val_loss: 4.2945\n",
      "Epoch 3/50\n",
      "294/294 [==============================] - 211s 719ms/step - loss: 4.1859 - val_loss: 3.9458\n",
      "Epoch 4/50\n",
      "294/294 [==============================] - 211s 720ms/step - loss: 3.8581 - val_loss: 3.7464\n",
      "Epoch 5/50\n",
      "294/294 [==============================] - 212s 720ms/step - loss: 3.6251 - val_loss: 3.5918\n",
      "Epoch 6/50\n",
      "294/294 [==============================] - 212s 721ms/step - loss: 3.4263 - val_loss: 3.4773\n",
      "Epoch 7/50\n",
      "294/294 [==============================] - 211s 719ms/step - loss: 3.2717 - val_loss: 3.3837\n",
      "Epoch 8/50\n",
      "294/294 [==============================] - 213s 725ms/step - loss: 3.1458 - val_loss: 3.3178\n",
      "Epoch 9/50\n",
      "294/294 [==============================] - 213s 723ms/step - loss: 3.0153 - val_loss: 3.2657\n",
      "Epoch 10/50\n",
      "294/294 [==============================] - 212s 722ms/step - loss: 2.9129 - val_loss: 3.2234\n",
      "Epoch 11/50\n",
      "294/294 [==============================] - 213s 724ms/step - loss: 2.8130 - val_loss: 3.1810\n",
      "Epoch 12/50\n",
      "294/294 [==============================] - 212s 722ms/step - loss: 2.7348 - val_loss: 3.1523\n",
      "Epoch 13/50\n",
      "294/294 [==============================] - 213s 724ms/step - loss: 2.6565 - val_loss: 3.1360\n",
      "Epoch 14/50\n",
      "294/294 [==============================] - 212s 722ms/step - loss: 2.5908 - val_loss: 3.1204\n",
      "Epoch 15/50\n",
      "294/294 [==============================] - 212s 722ms/step - loss: 2.5307 - val_loss: 3.1035\n",
      "Epoch 16/50\n",
      "294/294 [==============================] - 212s 721ms/step - loss: 2.4729 - val_loss: 3.0933\n",
      "Epoch 17/50\n",
      "294/294 [==============================] - 212s 720ms/step - loss: 2.4216 - val_loss: 3.0891\n",
      "Epoch 18/50\n",
      "294/294 [==============================] - 211s 719ms/step - loss: 2.3684 - val_loss: 3.0816\n",
      "Epoch 19/50\n",
      "294/294 [==============================] - 211s 719ms/step - loss: 2.3214 - val_loss: 3.0799\n",
      "Epoch 20/50\n",
      "294/294 [==============================] - 212s 722ms/step - loss: 2.2720 - val_loss: 3.0752\n",
      "Epoch 21/50\n",
      "294/294 [==============================] - 211s 719ms/step - loss: 2.2385 - val_loss: 3.0756\n",
      "Epoch 22/50\n",
      "294/294 [==============================] - 212s 720ms/step - loss: 2.2065 - val_loss: 3.0711\n",
      "Epoch 23/50\n",
      "294/294 [==============================] - 212s 721ms/step - loss: 2.1612 - val_loss: 3.0766\n",
      "Epoch 24/50\n",
      "294/294 [==============================] - 211s 719ms/step - loss: 2.1313 - val_loss: 3.0730\n",
      "Epoch 00024: early stopping\n"
     ]
    }
   ],
   "source": [
    "model2.compile(optimizer='rmsprop', loss='sparse_categorical_crossentropy')\n",
    "es = EarlyStopping(monitor='val_loss', patience=2, verbose=1)\n",
    "history = model2.fit(x=[encoder_input_train, decoder_input_train], y=decoder_target_train, \\\n",
    "          validation_data=([encoder_input_test, decoder_input_test], decoder_target_test), \\\n",
    "          batch_size=256, callbacks=[es], epochs=50)"
   ]
  },
  {
   "cell_type": "code",
   "execution_count": 402,
   "id": "ranking-sampling",
   "metadata": {},
   "outputs": [],
   "source": [
    "model2.save_weights('news_summarizer_weights_4')"
   ]
  },
  {
   "cell_type": "code",
   "execution_count": 401,
   "id": "impaired-development",
   "metadata": {},
   "outputs": [
    {
     "data": {
      "image/png": "[encoded data removed]",
      "text/plain": [
       "<Figure size 432x288 with 1 Axes>"
      ]
     },
     "metadata": {
      "needs_background": "light"
     },
     "output_type": "display_data"
    }
   ],
   "source": [
    "plt.plot(history.history['loss'], label='train')\n",
    "plt.plot(history.history['val_loss'], label='test')\n",
    "plt.legend()\n",
    "plt.show()"
   ]
  },
  {
   "cell_type": "code",
   "execution_count": 397,
   "id": "comparable-pencil",
   "metadata": {},
   "outputs": [],
   "source": [
    "src_index_to_word = src_tokenizer.index_word # 원문 단어 집합에서 정수 -> 단어를 얻음\n",
    "tar_word_to_index = tar_tokenizer.word_index # 요약 단어 집합에서 단어 -> 정수를 얻음\n",
    "tar_index_to_word = tar_tokenizer.index_word # 요약 단어 집합에서 정수 -> 단어를 얻음"
   ]
  },
  {
   "cell_type": "code",
   "execution_count": 398,
   "id": "tough-qualification",
   "metadata": {},
   "outputs": [],
   "source": [
    "# 인코더 설계\n",
    "encoder_model = Model(inputs=encoder_inputs, outputs=[encoder_outputs, state_h, state_c])\n",
    "\n",
    "# 이전 시점의 상태들을 저장하는 텐서\n",
    "decoder_state_input_h = Input(shape=(hidden_size,))\n",
    "decoder_state_input_c = Input(shape=(hidden_size,))\n",
    "\n",
    "dec_emb2 = dec_emb_layer(decoder_inputs)\n",
    "\n",
    "# 문장의 다음 단어를 예측하기 위해서 초기 상태(initial_state)를 이전 시점의 상태로 사용. 이는 뒤의 함수 decode_sequence()에 구현\n",
    "# 훈련 과정에서와 달리 LSTM의 리턴하는 은닉 상태와 셀 상태인 state_h와 state_c를 버리지 않음.\n",
    "decoder_outputs2, state_h2, state_c2 = decoder_lstm(dec_emb2, initial_state=[decoder_state_input_h, decoder_state_input_c])"
   ]
  },
  {
   "cell_type": "code",
   "execution_count": 399,
   "id": "foreign-lease",
   "metadata": {},
   "outputs": [],
   "source": [
    "# 어텐션 함수\n",
    "decoder_hidden_state_input = Input(shape=(text_max_len, hidden_size))\n",
    "attn_out_inf, attn_states_inf = attn_layer([decoder_hidden_state_input, decoder_outputs2])\n",
    "decoder_inf_concat = Concatenate(axis=-1, name='concat')([decoder_outputs2, attn_out_inf])\n",
    "\n",
    "# 디코더의 출력층\n",
    "decoder_outputs2 = decoder_softmax_layer(decoder_inf_concat) \n",
    "\n",
    "# 최종 디코더 모델\n",
    "decoder_model = Model(\n",
    "    [decoder_inputs] + [decoder_hidden_state_input,decoder_state_input_h, decoder_state_input_c],\n",
    "    [decoder_outputs2] + [state_h2, state_c2])"
   ]
  },
  {
   "cell_type": "code",
   "execution_count": 419,
   "id": "hindu-acceptance",
   "metadata": {
    "scrolled": true
   },
   "outputs": [
    {
     "name": "stdout",
     "output_type": "stream",
     "text": [
      "id: 1680\n",
      "원문 : sc today warned amrapali group delaying projects saying try play smart sell every property homeless group asked valuation report properties directors managing directors days court also sought details companies responsible maintenance amrapali projects \n",
      "실제 요약 : do not play smart will you homeless sc to amrapali group \n",
      "예측 요약 :  amrapali denies being sold for selling\n",
      "\n",
      "\n",
      "id: 1681\n",
      "원문 : indian compound archery team deb chanu india silver medal world archery championships mexico city saturday silver fifth india world event first country compound team archery section world championships \n",
      "실제 요약 : indian team claims th world ship silver \n",
      "예측 요약 :  indian navy to be world record for the world ships\n",
      "\n",
      "\n",
      "id: 1682\n",
      "원문 : mumbai sessions court acquitted year old man rape charges after complainant admitted filed case fit anger woman said upset man boyfriend not talked week informed court sorted differences got married \n",
      "실제 요약 : man acquitted after woman admits filing rape case in anger \n",
      "예측 요약 :  court man gets bail in case against rape victim\n",
      "\n",
      "\n",
      "id: 1683\n",
      "원문 : days after paradise papers leak finance minister arun jaitley said every case listed documents would considered individual merit added procedure followed panama papers leak would undertaken probe one paradise papers leaked sunday listed offshore holdings indian individuals entities \n",
      "실제 요약 : will consider paradise papers cases on individual merit fm \n",
      "예측 요약 :  no one of money to be breach of upa fm\n",
      "\n",
      "\n",
      "id: 1684\n",
      "원문 : india not awarded five runs despite sri lankan captain dinesh chandimal breaking fake fielding law india innings first test saturday chandimal pretended throw ball even though nowhere near but umpires not signal penalty virat kohli seen gesturing five run penalty dressing room \n",
      "실제 요약 : india denied runs after sri lanka fake fields in test \n",
      "예측 요약 :  india sl sl sl sl sl players get sl for sl\n",
      "\n",
      "\n",
      "id: 1685\n",
      "원문 : japanese journalist held hostage syria islamist militants released after three years japan foreign minister said believed held hostage al qaeda affiliated al gone missing june after travelling turkey syria report civil war country \n",
      "실제 요약 : japanese journalist held hostage in syria freed after yrs \n",
      "예측 요약 :  japan journalist killed in syria after attack on syria\n",
      "\n",
      "\n",
      "id: 1686\n",
      "원문 : former india captain sunil gavaskar said suspension hardik pandya kl rahul drama caused taken huge achievement india first ever test series victory australia instead indian team glory efforts pushed background added \n",
      "실제 요약 : pandya rahul india test series victory gavaskar \n",
      "예측 요약 :  gavaskar hardik pandya to be india\n",
      "\n",
      "\n",
      "id: 1687\n",
      "원문 : year old oxford student uganda got married mock wedding ceremony get rid continuous pressure parents settle revealed wedding cost only got married nd birthday one person certain take care wrote \n",
      "실제 요약 : oxford student marries herself to get of pressure \n",
      "예측 요약 :  yr old girl marries at wedding ceremony\n",
      "\n",
      "\n",
      "id: 1688\n",
      "원문 : survey conducted unicef among indian children revealed children wanted amitabh bachchan attend birthday party while respondents named prime minister narendra modi preference survey further showed children believed opinions appreciated families children believed teachers appreciated opinions \n",
      "실제 요약 : amitabh bachchan more popular than pm modi among kids study \n",
      "예측 요약 :  kids in india was born on day of srk\n",
      "\n",
      "\n",
      "id: 1689\n",
      "원문 : shah rukh khan tweeted picture while posing poster featuring katrina kaif captioned tweet also wrote not eat ice cream real worked hard reminds katrina srk starring together aanand rai directorial zero \n",
      "실제 요약 : love you srk on scene from \n",
      "예측 요약 :  you are not my tweets user on katrina pic\n",
      "\n",
      "\n",
      "id: 1690\n",
      "원문 : three year old girl only survivor plane crash killed six people russia wednesday girl survived non life threatening injuries including fractures aircraft belonged regional carrier airlines crashed while trying land small airport near village \n",
      "실제 요약 : year old girl survives plane crash that killed in russia \n",
      "예측 요약 :  year old killed as plane hits her plane in china\n",
      "\n",
      "\n",
      "id: 1691\n",
      "원문 : wwe wrestler triple congratulated mumbai indians ipl win tweeting surprise store past wwe sent custom title belts sportspersons wins sending one serena williams australian open victory former chelsea captain john terry premier league triumph year \n",
      "실제 요약 : triple hints at surprise for mumbai indians post ipl win \n",
      "예측 요약 :  wwe yuvraj singh yadav win with wwe\n",
      "\n",
      "\n",
      "id: 1692\n",
      "원문 : apple reportedly working headset support augmented reality virtual reality technologies headset feature displays eye would not need computer smartphone work reports claimed project internally codenamed still early stages expected release \n",
      "실제 요약 : apple vr ar to release in report \n",
      "예측 요약 :  apple working on ios to let users report\n",
      "\n",
      "\n",
      "id: 1693\n",
      "원문 : first researchers uk newcastle university printed human layer eye significant shortage million people worldwide requiring prevent blindness said researchers donor stem cells mixed create solution could provide unlimited supply \n",
      "실제 요약 : first human printed in the uk for cure \n",
      "예측 요약 :  uk researchers develop world first ever\n",
      "\n",
      "\n",
      "id: 1694\n",
      "원문 : switzerland born jacques jointly nobel prize chemistry mentions cv conceived parents no longer scared dark age four scientist work electron involves observing high resolution rapid freezing shape \n",
      "실제 요약 : nobel laureate has no longer scared of dark on his \n",
      "예측 요약 :  why is the of the nobel prize ??\n",
      "\n",
      "\n",
      "id: 1695\n",
      "원문 : speaking breakup home alone actor said horrible breakup first admit added further said got single said genuinely need know \n",
      "실제 요약 : up on with home alone actor \n",
      "예측 요약 :  my first choice to be held for the same time\n",
      "\n",
      "\n",
      "id: 1696\n",
      "원문 : army chief general bipin rawat wednesday said kartarpur corridor initiative seen isolation not linked anybody else unilateral decision no links things added earlier day external affairs minister sushma swaraj ruled dialogue pakistan unless stopped terrorism \n",
      "실제 요약 : kartarpur should be seen in general rawat \n",
      "예측 요약 :  no proposal to draft banking system army chief\n",
      "\n",
      "\n",
      "id: 1697\n",
      "원문 : responding larry co founder cto oracle dig amazon web services amazon monday said sounds like larry larry further said statements no facts wild claims lots sunday while announcing oracle automated database said amazon cloud not \n",
      "실제 요약 : no facts wild claims takes dig on oracle co founder \n",
      "예측 요약 :  amazon is not amazon amazon co founder\n",
      "\n",
      "\n",
      "id: 1698\n",
      "원문 : congress candidate sunil elections punjab gurdaspur constituency defeating bjp rival margin lakh votes seat earlier held bjp fell vacant april following mp vinod khanna death while bjp candidate second aap candidate major general suresh came third \n",
      "실제 요약 : congress sunil wins by polls by votes \n",
      "예측 요약 :  cong candidate to contest seats in himachal pradesh\n",
      "\n",
      "\n",
      "id: 1699\n",
      "원문 : russia ready relations cooperate major global issues us russian foreign minister sergei lavrov told us state secretary rex tillerson phone call friday lavrov further said russia decision cut us diplomatic staff country prompted number hostile steps us nn \n",
      "실제 요약 : we are ready to ties with us russia \n",
      "예측 요약 :  russia is no longer us russia to us state secy\n",
      "\n",
      "\n",
      "id: 1700\n",
      "원문 : us president donald trump ordered country authorities extreme foreign nationals combat terrorism after uzbekistan national rammed truck people killing eight injuring others new york tuesday must not allow isis return country after defeating middle east trump tweeted \n",
      "실제 요약 : trump asks for of immigrants after ny attack \n",
      "예측 요약 :  trump blames us for military attacks on military\n",
      "\n",
      "\n",
      "id: 1701\n",
      "원문 : world number one rafael nadal sued former french sports minister lakh alleging rafael nadal seven month injury break due failed drug test spanish world number one time grand slam champion never failed drug test career far \n",
      "실제 요약 : nadal sues ex french minister for over doping claims \n",
      "예측 요약 :  world oldest nadal nadal to be nadal in nadal\n",
      "\n",
      "\n",
      "id: 1702\n",
      "원문 : china messaging service wechat rival bullet messenger removed ios app store due copyright complaint bullet owner beijing based technology claimed app taken complaint related image content provided partner company not specify part app subject complaint \n",
      "실제 요약 : rival bullet removed from ios over copyright issue \n",
      "예측 요약 :  china launches bullet app for app report\n",
      "\n",
      "\n",
      "id: 1703\n",
      "원문 : production house nadiadwala grandson entertainment took twitter announce upcoming film baaghi star tiger shroff while makers yet announce female lead film directed choreographer turned director ahmed khan ahmed also directing film franchise second film baaghi \n",
      "실제 요약 : tiger to star in baaghi actress yet to be announced \n",
      "예측 요약 :  new promo of tiger released\n",
      "\n",
      "\n",
      "id: 1704\n",
      "원문 : delhi metro rail corporation announced first coach moving direction trains except red line reserved women january aimed bring across network earlier first last coach trains reserved women depending line \n",
      "실제 요약 : reserves st coach in all lines red for women \n",
      "예측 요약 :  delhi metro to train for mins\n",
      "\n",
      "\n",
      "id: 1705\n",
      "원문 : year old constable nagaland voluntarily collects garbage old maruti van keep town located nearly km clean deposits pile garbage dumping site located several kilometres outside town reportedly took trips rid entire town garbage first day \n",
      "실제 요약 : constable garbage in his old van to clean town \n",
      "예측 요약 :  naxals in assam village to be used to\n",
      "\n",
      "\n",
      "id: 1706\n",
      "원문 : lalu yadav sentenced years jail fodder scam case said sending open jail would create law order problems many people would come meet adding entire police force would required control crowd yadav said situation mass killings could take place \n",
      "실제 요약 : sending me to open jail will create problems lalu yadav \n",
      "예측 요약 :  lalu gandhi to be jailed for women in jail\n",
      "\n",
      "\n",
      "id: 1707\n",
      "원문 : no incumbent government elected karnataka since janata dal secured majority hegde became chief minister karnataka assembly elections voting began today candidates nearly five crore people polling stations set electoral constituencies \n",
      "실제 요약 : no govt in taka has been re elected since \n",
      "예측 요약 :  bjp wins seats in taka assembly by taka polls\n",
      "\n",
      "\n",
      "id: 1708\n",
      "원문 : bruhat bengaluru mahanagara palike pushed deadline church street makeover project september according reports project started february expected completed august civic body cited leaking water pipes commercial buildings releasing sewage open instead reasons delay \n",
      "실제 요약 : luru church street makeover deadline extended to september \n",
      "예측 요약 :  luru residents to get cctvs cameras for\n",
      "\n",
      "\n",
      "id: 1709\n",
      "원문 : per reports sonam kapoor marrying businessman anand ahuja mumbai april earlier reports getting married switzerland may sonam family reportedly could not host wedding choice resort pre booked saudi princess dates \n",
      "실제 요약 : sonam to marry anand in mumbai on april reports \n",
      "예측 요약 :  sonam to marry rumoured anand anand in mumbai reports\n",
      "\n",
      "\n"
     ]
    }
   ],
   "source": [
    "for i in range(1680, 1710):\n",
    "    print('id:', i)\n",
    "    print(\"원문 :\", seq2text(encoder_input_test[i]))\n",
    "    print(\"실제 요약 :\", seq2summary(decoder_input_test[i]))\n",
    "    print(\"예측 요약 :\", decode_sequence(encoder_input_test[i].reshape(1, text_max_len)))\n",
    "    print(\"\\n\")"
   ]
  },
  {
   "cell_type": "markdown",
   "id": "auburn-field",
   "metadata": {},
   "source": [
    "### 결과 분석: 어느 정도 의미가 있는 문장도 나오지만, 주어와 목적어가 동일한 문장이 매우 많고, 같은 구절이 계속 반복되는 것을 알 수 있습니다. \n",
    "이러한 현상이 발생하는 이유는 추론은 전 단계의 토큰을 입력으로 받았을 때, 다음 토큰으로 올 가능성이 가장 높은 것을 선택하기 때문으로, 한번 순환에 빠지면 의미없이 같은 단어를 나열하고, 평균 길이를 넘어설 때에야 멈추게 됩니다.\n",
    "\n",
    "현재의 목표는 기사를 요약하는 것이므로, 한 단어가 여러번 나온 문장이 그럴듯 한 문장이기 힘듭니다. 단 한번이라도 나온 토큰에 대해서는 페널티를 주도록 합니다"
   ]
  },
  {
   "cell_type": "code",
   "execution_count": 420,
   "id": "noted-michigan",
   "metadata": {},
   "outputs": [],
   "source": [
    "def decode_sequence_penalty(input_seq):\n",
    "    # 입력으로부터 인코더의 상태를 얻음\n",
    "    e_out, e_h, e_c = encoder_model.predict(input_seq)\n",
    "\n",
    "     # <SOS>에 해당하는 토큰 생성\n",
    "    target_seq = np.zeros((1,1))\n",
    "    target_seq[0, 0] = tar_word_to_index['sostoken']\n",
    "\n",
    "    #### 이미 나온 단어를 기록하는 set을 만듭니다.\n",
    "    token_bag = set()\n",
    "    ####\n",
    "    stop_condition = False\n",
    "    decoded_sentence = ''\n",
    "    while not stop_condition: # stop_condition이 True가 될 때까지 루프 반복\n",
    "\n",
    "        output_tokens, h, c = decoder_model.predict([target_seq] + [e_out, e_h, e_c])\n",
    "        sampled_token_index = np.argmax(output_tokens[0, -1, :])\n",
    "        \n",
    "        #### 만일 예측된 단어가 이미 나온 단어라면, 그 예측치를 15%로 삭감해 다른 토큰이 선택될 수 있도록 합니다\n",
    "        if sampled_token_index in token_bag:\n",
    "            output_tokens[0, -1, sampled_token_index] *= 0.15\n",
    "            sampled_token_index = np.argmax(output_tokens[0, -1, :])\n",
    "        ####\n",
    "        \n",
    "        sampled_token = tar_index_to_word[sampled_token_index]\n",
    "        \n",
    "        #### 현재까지 나온 단어를 기록합니다.\n",
    "        token_bag.add(sampled_token_index)\n",
    "        ####\n",
    "\n",
    "        if (sampled_token!='eostoken'):\n",
    "            decoded_sentence += ' '+sampled_token\n",
    "\n",
    "        #  <eos>에 도달하거나 최대 길이를 넘으면 중단.\n",
    "        if (sampled_token == 'eostoken'  or len(decoded_sentence.split()) >= (summary_max_len-1)):\n",
    "            stop_condition = True\n",
    "\n",
    "        # 길이가 1인 타겟 시퀀스를 업데이트\n",
    "        target_seq = np.zeros((1,1))\n",
    "        target_seq[0, 0] = sampled_token_index\n",
    "\n",
    "        # 상태를 업데이트 합니다.\n",
    "        e_h, e_c = h, c\n",
    "\n",
    "    return decoded_sentence"
   ]
  },
  {
   "cell_type": "code",
   "execution_count": 441,
   "id": "voluntary-basic",
   "metadata": {},
   "outputs": [
    {
     "name": "stdout",
     "output_type": "stream",
     "text": [
      "id: 1680\n",
      "원문 : sc today warned amrapali group delaying projects saying try play smart sell every property homeless group asked valuation report properties directors managing directors days court also sought details companies responsible maintenance amrapali projects \n",
      "실제 요약 : do not play smart will you homeless sc to amrapali group \n",
      "예측 요약 :  amrapali denies being sold for selling\n",
      "\n",
      "\n",
      "id: 1681\n",
      "원문 : indian compound archery team deb chanu india silver medal world archery championships mexico city saturday silver fifth india world event first country compound team archery section world championships \n",
      "실제 요약 : indian team claims th world ship silver \n",
      "예측 요약 :  indian navy to be world record for the first time\n",
      "\n",
      "\n",
      "id: 1682\n",
      "원문 : mumbai sessions court acquitted year old man rape charges after complainant admitted filed case fit anger woman said upset man boyfriend not talked week informed court sorted differences got married \n",
      "실제 요약 : man acquitted after woman admits filing rape case in anger \n",
      "예측 요약 :  court man gets bail in case against rape victim\n",
      "\n",
      "\n",
      "id: 1683\n",
      "원문 : days after paradise papers leak finance minister arun jaitley said every case listed documents would considered individual merit added procedure followed panama papers leak would undertaken probe one paradise papers leaked sunday listed offshore holdings indian individuals entities \n",
      "실제 요약 : will consider paradise papers cases on individual merit fm \n",
      "예측 요약 :  no one of money to be breach of upa fm\n",
      "\n",
      "\n",
      "id: 1684\n",
      "원문 : india not awarded five runs despite sri lankan captain dinesh chandimal breaking fake fielding law india innings first test saturday chandimal pretended throw ball even though nowhere near but umpires not signal penalty virat kohli seen gesturing five run penalty dressing room \n",
      "실제 요약 : india denied runs after sri lanka fake fields in test \n",
      "예측 요약 :  india sl captain asks sri lanka to help sl\n",
      "\n",
      "\n",
      "id: 1685\n",
      "원문 : japanese journalist held hostage syria islamist militants released after three years japan foreign minister said believed held hostage al qaeda affiliated al gone missing june after travelling turkey syria report civil war country \n",
      "실제 요약 : japanese journalist held hostage in syria freed after yrs \n",
      "예측 요약 :  japan journalist killed in syria after attack on isis\n",
      "\n",
      "\n",
      "id: 1686\n",
      "원문 : former india captain sunil gavaskar said suspension hardik pandya kl rahul drama caused taken huge achievement india first ever test series victory australia instead indian team glory efforts pushed background added \n",
      "실제 요약 : pandya rahul india test series victory gavaskar \n",
      "예측 요약 :  gavaskar hardik pandya to be india\n",
      "\n",
      "\n",
      "id: 1687\n",
      "원문 : year old oxford student uganda got married mock wedding ceremony get rid continuous pressure parents settle revealed wedding cost only got married nd birthday one person certain take care wrote \n",
      "실제 요약 : oxford student marries herself to get of pressure \n",
      "예측 요약 :  yr old girl marries at wedding ceremony\n",
      "\n",
      "\n",
      "id: 1688\n",
      "원문 : survey conducted unicef among indian children revealed children wanted amitabh bachchan attend birthday party while respondents named prime minister narendra modi preference survey further showed children believed opinions appreciated families children believed teachers appreciated opinions \n",
      "실제 요약 : amitabh bachchan more popular than pm modi among kids study \n",
      "예측 요약 :  kids in india was born on day of srk\n",
      "\n",
      "\n",
      "id: 1689\n",
      "원문 : shah rukh khan tweeted picture while posing poster featuring katrina kaif captioned tweet also wrote not eat ice cream real worked hard reminds katrina srk starring together aanand rai directorial zero \n",
      "실제 요약 : love you srk on scene from \n",
      "예측 요약 :  you are not my tweets user on katrina pic\n",
      "\n",
      "\n",
      "id: 1690\n",
      "원문 : three year old girl only survivor plane crash killed six people russia wednesday girl survived non life threatening injuries including fractures aircraft belonged regional carrier airlines crashed while trying land small airport near village \n",
      "실제 요약 : year old girl survives plane crash that killed in russia \n",
      "예측 요약 :  year old killed as plane hits her mother in china\n",
      "\n",
      "\n",
      "id: 1691\n",
      "원문 : wwe wrestler triple congratulated mumbai indians ipl win tweeting surprise store past wwe sent custom title belts sportspersons wins sending one serena williams australian open victory former chelsea captain john terry premier league triumph year \n",
      "실제 요약 : triple hints at surprise for mumbai indians post ipl win \n",
      "예측 요약 :  wwe yuvraj singh yadav win with his\n",
      "\n",
      "\n",
      "id: 1692\n",
      "원문 : apple reportedly working headset support augmented reality virtual reality technologies headset feature displays eye would not need computer smartphone work reports claimed project internally codenamed still early stages expected release \n",
      "실제 요약 : apple vr ar to release in report \n",
      "예측 요약 :  apple working on ios to let users report\n",
      "\n",
      "\n",
      "id: 1693\n",
      "원문 : first researchers uk newcastle university printed human layer eye significant shortage million people worldwide requiring prevent blindness said researchers donor stem cells mixed create solution could provide unlimited supply \n",
      "실제 요약 : first human printed in the uk for cure \n",
      "예측 요약 :  uk researchers develop world first ever\n",
      "\n",
      "\n",
      "id: 1694\n",
      "원문 : switzerland born jacques jointly nobel prize chemistry mentions cv conceived parents no longer scared dark age four scientist work electron involves observing high resolution rapid freezing shape \n",
      "실제 요약 : nobel laureate has no longer scared of dark on his \n",
      "예측 요약 :  why is the of the nobel prize ??\n",
      "\n",
      "\n",
      "id: 1695\n",
      "원문 : speaking breakup home alone actor said horrible breakup first admit added further said got single said genuinely need know \n",
      "실제 요약 : up on with home alone actor \n",
      "예측 요약 :  my first choice to be held for the same time\n",
      "\n",
      "\n",
      "id: 1696\n",
      "원문 : army chief general bipin rawat wednesday said kartarpur corridor initiative seen isolation not linked anybody else unilateral decision no links things added earlier day external affairs minister sushma swaraj ruled dialogue pakistan unless stopped terrorism \n",
      "실제 요약 : kartarpur should be seen in general rawat \n",
      "예측 요약 :  no proposal to draft banking system army chief\n",
      "\n",
      "\n",
      "id: 1697\n",
      "원문 : responding larry co founder cto oracle dig amazon web services amazon monday said sounds like larry larry further said statements no facts wild claims lots sunday while announcing oracle automated database said amazon cloud not \n",
      "실제 요약 : no facts wild claims takes dig on oracle co founder \n",
      "예측 요약 :  amazon is not offensive amazon co founder\n",
      "\n",
      "\n",
      "id: 1698\n",
      "원문 : congress candidate sunil elections punjab gurdaspur constituency defeating bjp rival margin lakh votes seat earlier held bjp fell vacant april following mp vinod khanna death while bjp candidate second aap candidate major general suresh came third \n",
      "실제 요약 : congress sunil wins by polls by votes \n",
      "예측 요약 :  cong candidate to contest seats in himachal pradesh\n",
      "\n",
      "\n",
      "id: 1699\n",
      "원문 : russia ready relations cooperate major global issues us russian foreign minister sergei lavrov told us state secretary rex tillerson phone call friday lavrov further said russia decision cut us diplomatic staff country prompted number hostile steps us nn \n",
      "실제 요약 : we are ready to ties with us russia \n",
      "예측 요약 :  russia is no longer us state us senator\n",
      "\n",
      "\n",
      "id: 1700\n",
      "원문 : us president donald trump ordered country authorities extreme foreign nationals combat terrorism after uzbekistan national rammed truck people killing eight injuring others new york tuesday must not allow isis return country after defeating middle east trump tweeted \n",
      "실제 요약 : trump asks for of immigrants after ny attack \n",
      "예측 요약 :  trump blames us for military attacks on attacks\n",
      "\n",
      "\n",
      "id: 1701\n",
      "원문 : world number one rafael nadal sued former french sports minister lakh alleging rafael nadal seven month injury break due failed drug test spanish world number one time grand slam champion never failed drug test career far \n",
      "실제 요약 : nadal sues ex french minister for over doping claims \n",
      "예측 요약 :  world oldest nadal to be held for the israel\n",
      "\n",
      "\n",
      "id: 1702\n",
      "원문 : china messaging service wechat rival bullet messenger removed ios app store due copyright complaint bullet owner beijing based technology claimed app taken complaint related image content provided partner company not specify part app subject complaint \n",
      "실제 요약 : rival bullet removed from ios over copyright issue \n",
      "예측 요약 :  china launches bullet app for trains\n",
      "\n",
      "\n",
      "id: 1703\n",
      "원문 : production house nadiadwala grandson entertainment took twitter announce upcoming film baaghi star tiger shroff while makers yet announce female lead film directed choreographer turned director ahmed khan ahmed also directing film franchise second film baaghi \n",
      "실제 요약 : tiger to star in baaghi actress yet to be announced \n",
      "예측 요약 :  new promo of tiger released\n",
      "\n",
      "\n",
      "id: 1704\n",
      "원문 : delhi metro rail corporation announced first coach moving direction trains except red line reserved women january aimed bring across network earlier first last coach trains reserved women depending line \n",
      "실제 요약 : reserves st coach in all lines red for women \n",
      "예측 요약 :  delhi metro to train for mins\n",
      "\n",
      "\n",
      "id: 1705\n",
      "원문 : year old constable nagaland voluntarily collects garbage old maruti van keep town located nearly km clean deposits pile garbage dumping site located several kilometres outside town reportedly took trips rid entire town garbage first day \n",
      "실제 요약 : constable garbage in his old van to clean town \n",
      "예측 요약 :  naxals in assam village to be used by km\n",
      "\n",
      "\n",
      "id: 1706\n",
      "원문 : lalu yadav sentenced years jail fodder scam case said sending open jail would create law order problems many people would come meet adding entire police force would required control crowd yadav said situation mass killings could take place \n",
      "실제 요약 : sending me to open jail will create problems lalu yadav \n",
      "예측 요약 :  lalu gandhi to be jailed for women in jail\n",
      "\n",
      "\n",
      "id: 1707\n",
      "원문 : no incumbent government elected karnataka since janata dal secured majority hegde became chief minister karnataka assembly elections voting began today candidates nearly five crore people polling stations set electoral constituencies \n",
      "실제 요약 : no govt in taka has been re elected since \n",
      "예측 요약 :  bjp wins seats in taka assembly by seats\n",
      "\n",
      "\n",
      "id: 1708\n",
      "원문 : bruhat bengaluru mahanagara palike pushed deadline church street makeover project september according reports project started february expected completed august civic body cited leaking water pipes commercial buildings releasing sewage open instead reasons delay \n",
      "실제 요약 : luru church street makeover deadline extended to september \n",
      "예측 요약 :  luru residents to get cctvs cameras for\n",
      "\n",
      "\n",
      "id: 1709\n",
      "원문 : per reports sonam kapoor marrying businessman anand ahuja mumbai april earlier reports getting married switzerland may sonam family reportedly could not host wedding choice resort pre booked saudi princess dates \n",
      "실제 요약 : sonam to marry anand in mumbai on april reports \n",
      "예측 요약 :  sonam to marry rumoured anand in mumbai reports\n",
      "\n",
      "\n"
     ]
    }
   ],
   "source": [
    "for i in range(1680, 1710):\n",
    "    print('id:', i)\n",
    "    print(\"원문 :\", seq2text(encoder_input_test[i]))\n",
    "    print(\"실제 요약 :\", seq2summary(decoder_input_test[i]))\n",
    "    print(\"예측 요약 :\", decode_sequence_penalty(encoder_input_test[i].reshape(1, text_max_len)))\n",
    "    print(\"\\n\")"
   ]
  },
  {
   "cell_type": "markdown",
   "id": "otherwise-visit",
   "metadata": {},
   "source": [
    "동어반복을 해결했습니다. 1684번 문장을 확인해보면, 확연한 차이를 알 수 있습니다. "
   ]
  },
  {
   "cell_type": "code",
   "execution_count": 423,
   "id": "thick-consultation",
   "metadata": {},
   "outputs": [
    {
     "name": "stdout",
     "output_type": "stream",
     "text": [
      "id: 1684\n",
      "예측 요약(현행) :  india sl sl sl sl sl players get sl for sl\n",
      "예측 요약(개선) :  india sl captain asks sri lanka to help sl\n"
     ]
    }
   ],
   "source": [
    "i = 1684\n",
    "\n",
    "print('id:', i)\n",
    "print(\"예측 요약(현행) :\", decode_sequence(encoder_input_test[i].reshape(1, text_max_len)))\n",
    "print(\"예측 요약(개선) :\", decode_sequence_penalty(encoder_input_test[i].reshape(1, text_max_len)))\n"
   ]
  },
  {
   "cell_type": "markdown",
   "id": "central-washer",
   "metadata": {},
   "source": [
    "많은 고유명사는 남아있고 (유명 정치인 등) 그와 관련된 단어는 사라지는 경우도 있었습니다. ex) 유명인의 비서가 스스로 목숨을 끊었다 ~~~ (원문) -> 유명인이 극단적인 선택을 했다 (요약)\n",
    "\n",
    "뉴스를 보고 비슷한 사건에 대해 그럴듯한 요약은 할 수 있으나, 새로운 사건에 대해서는 결과가 완벽히 들어맞지는 않는 것을 확인했습니다. 유사한 요약은 다음과 같습니다."
   ]
  },
  {
   "cell_type": "code",
   "execution_count": 427,
   "id": "motivated-student",
   "metadata": {},
   "outputs": [],
   "source": [
    "def show_better_expectation(idx):\n",
    "    print(\"원문 :\", seq2text(encoder_input_test[idx]))\n",
    "    print(\"실제 요약 :\", seq2summary(decoder_input_test[idx]))\n",
    "    print(\"예측 요약(현행) :\", decode_sequence(encoder_input_test[idx].reshape(1, text_max_len)))\n",
    "    print(\"예측 요약(개선) :\", decode_sequence_penalty(encoder_input_test[idx].reshape(1, text_max_len)))\n",
    "    print(\"\\n\")"
   ]
  },
  {
   "cell_type": "code",
   "execution_count": 428,
   "id": "laughing-april",
   "metadata": {
    "scrolled": true
   },
   "outputs": [
    {
     "name": "stdout",
     "output_type": "stream",
     "text": [
      "원문 : per reports sonam kapoor marrying businessman anand ahuja mumbai april earlier reports getting married switzerland may sonam family reportedly could not host wedding choice resort pre booked saudi princess dates \n",
      "실제 요약 : sonam to marry anand in mumbai on april reports \n",
      "예측 요약(현행) :  sonam to marry rumoured anand anand in mumbai reports\n",
      "예측 요약(개선) :  sonam to marry rumoured anand in mumbai reports\n",
      "\n",
      "\n"
     ]
    }
   ],
   "source": [
    "show_better_expectation(1709)"
   ]
  },
  {
   "cell_type": "code",
   "execution_count": 431,
   "id": "automotive-collapse",
   "metadata": {},
   "outputs": [
    {
     "name": "stdout",
     "output_type": "stream",
     "text": [
      "원문 : facebook shares rose thursday after company ceo mark zuckerberg said recent data scandal not meaningful impact company facebook share sunk wiping billion market value since data scandal reported data million facebook users exploited influence us elections \n",
      "실제 요약 : fb shares rise as zuckerberg dismissed affect of data row \n",
      "예측 요약(현행) :  fb shares surge on facebook amid data scandal\n",
      "예측 요약(개선) :  fb shares surge on facebook amid data scandal\n",
      "\n",
      "\n"
     ]
    }
   ],
   "source": [
    "show_better_expectation(5283)"
   ]
  },
  {
   "cell_type": "code",
   "execution_count": 438,
   "id": "returning-belfast",
   "metadata": {},
   "outputs": [
    {
     "name": "stdout",
     "output_type": "stream",
     "text": [
      "원문 : facebook co founder ceo mark zuckerberg not sell single share fourth quarter company stock fell first quarter two years zuckerberg according bloomberg since september year old sold million shares worth around billion fund \n",
      "실제 요약 : zuckerberg did not sell single share in when facebook fell \n",
      "예측 요약(현행) :  zuckerberg loses bn in day stock market\n",
      "예측 요약(개선) :  zuckerberg loses bn in day stock market\n",
      "\n",
      "\n"
     ]
    }
   ],
   "source": [
    "show_better_expectation(5847)"
   ]
  },
  {
   "cell_type": "code",
   "execution_count": 440,
   "id": "inappropriate-humor",
   "metadata": {},
   "outputs": [
    {
     "name": "stdout",
     "output_type": "stream",
     "text": [
      "원문 : commerce giant amazon held early talks may submit offer buy indian rival flipkart according reports comes amid reports suggesting walmart advanced talks buy stake flipkart walmart flipkart deal value flipkart billion tiger global investors expected sell shares \n",
      "실제 요약 : amazon may offer to buy flipkart reports \n",
      "예측 요약(현행) :  amazon may buy flipkart stake in flipkart reports\n",
      "예측 요약(개선) :  amazon may buy flipkart stake in reports\n",
      "\n",
      "\n"
     ]
    }
   ],
   "source": [
    "show_better_expectation(5889)"
   ]
  },
  {
   "cell_type": "markdown",
   "id": "atmospheric-briefs",
   "metadata": {},
   "source": [
    "# 추출적 요약 해보기"
   ]
  },
  {
   "cell_type": "code",
   "execution_count": 307,
   "id": "sudden-administrator",
   "metadata": {},
   "outputs": [],
   "source": [
    "data4 = pd.read_csv('news_summary_more.csv', encoding='iso-8859-1')"
   ]
  },
  {
   "cell_type": "code",
   "execution_count": 308,
   "id": "thick-dodge",
   "metadata": {},
   "outputs": [],
   "source": [
    "data4 = data4[['text', 'headlines']]\n",
    "data4.rename(columns = {'text': 'Text', 'headlines': 'Summary'}, inplace = True)"
   ]
  },
  {
   "cell_type": "code",
   "execution_count": 328,
   "id": "normal-accessory",
   "metadata": {},
   "outputs": [],
   "source": [
    "import requests\n",
    "from summa.summarizer import summarize"
   ]
  },
  {
   "cell_type": "code",
   "execution_count": 329,
   "id": "motivated-arcade",
   "metadata": {},
   "outputs": [
    {
     "name": "stdout",
     "output_type": "stream",
     "text": [
      "Summary:\n",
      "Users get one CRED coin per rupee of bill paid, which can be used to avail rewards from brands like Ixigo, BookMyShow, UberEats, Cult.Fit and more.\n"
     ]
    }
   ],
   "source": [
    "print('Summary:')\n",
    "print(summarize(data4['Text'].apply(str).iloc[1], ratio=0.4))"
   ]
  },
  {
   "cell_type": "code",
   "execution_count": 335,
   "id": "artistic-catch",
   "metadata": {},
   "outputs": [
    {
     "data": {
      "text/plain": [
       "\"Kunal Shah's credit card bill payment platform, CRED, gave users a chance to win free food from Swiggy for one year. Pranav Kaushik, a Delhi techie, bagged this reward after spending 2000 CRED coins. Users get one CRED coin per rupee of bill paid, which can be used to avail rewards from brands like Ixigo, BookMyShow, UberEats, Cult.Fit and more.\""
      ]
     },
     "execution_count": 335,
     "metadata": {},
     "output_type": "execute_result"
    }
   ],
   "source": [
    "data4['Text'].apply(str).iloc[1]"
   ]
  },
  {
   "cell_type": "code",
   "execution_count": 343,
   "id": "accessory-granny",
   "metadata": {},
   "outputs": [],
   "source": [
    "def summarize_news(idx):\n",
    "    for i in idx:\n",
    "        print('원문\\n',data4['Text'].apply(str).iloc[i], '\\n')\n",
    "        print('요약\\n',summarize(data4['Text'].apply(str).iloc[i], ratio=0.4),'\\n\\n')\n",
    "        print('======================================================================================')"
   ]
  },
  {
   "cell_type": "code",
   "execution_count": 344,
   "id": "formed-hindu",
   "metadata": {
    "scrolled": true
   },
   "outputs": [
    {
     "name": "stdout",
     "output_type": "stream",
     "text": [
      "원문\n",
      " Italian third division football side Lucchese's head coach Giancarlo Favarin has been banned for five months for headbutting Alessandria's assistant coach Gaetano Mancino during a brawl following the teams' 2-2 draw on Sunday. Mancino was caught off-balance and knocked to the ground after the headbutt. Earlier in the match, Favarin had told his own player to break an opponent's legs. \n",
      "\n",
      "요약\n",
      " Italian third division football side Lucchese's head coach Giancarlo Favarin has been banned for five months for headbutting Alessandria's assistant coach Gaetano Mancino during a brawl following the teams' 2-2 draw on Sunday. \n",
      "\n",
      "\n",
      "======================================================================================\n",
      "원문\n",
      " The death toll from the mine dam collapse in Brazil last week has risen to 58 and more than 300 others are still missing, authorities said. The dam break caused a sea of muddy sludge to bury the cafeteria at the iron-ore mine where workers were eating lunch, before engulfing nearby houses, vehicles and roads. \n",
      "\n",
      "요약\n",
      "  \n",
      "\n",
      "\n",
      "======================================================================================\n",
      "원문\n",
      " Road Transport Minister Nitin Gadkari on Saturday said the leadership should have the tendency to own up to defeat and failures, adding that loyalty towards the organisation is not proved until one takes responsibility for defeat. \"Success has many fathers but failure is an orphan,\" he added. Gadkari's remarks come days after BJP lost Assembly elections in three states. \n",
      "\n",
      "요약\n",
      " Road Transport Minister Nitin Gadkari on Saturday said the leadership should have the tendency to own up to defeat and failures, adding that loyalty towards the organisation is not proved until one takes responsibility for defeat. \n",
      "\n",
      "\n",
      "======================================================================================\n",
      "원문\n",
      " Indian cricket team coach Ravi Shastri hoisted the Indian tricolour alongside captain Virat Kohli and the rest of the squad in a London hotel on the occasion of the 72nd Indian Independence Day. The team was seen standing in a formation around the flag, while Shastri and Kohli were seen standing together beside the hoisted tricolour. \n",
      "\n",
      "요약\n",
      "  \n",
      "\n",
      "\n",
      "======================================================================================\n",
      "원문\n",
      " Rohit Sharma became the first cricketer in ODI history to score three double hundreds after slamming 208*(153) against Sri Lanka today. Sharma slammed 12 sixes during his knock, taking his tally to 45 sixes in 2017, most for an Indian batsman in a calendar year. With his fifth 150+ score, Sharma also equalled record of most 150+ scores in ODIs.   \n",
      "\n",
      "요약\n",
      " Rohit Sharma became the first cricketer in ODI history to score three double hundreds after slamming 208*(153) against Sri Lanka today. \n",
      "\n",
      "\n",
      "======================================================================================\n"
     ]
    }
   ],
   "source": [
    "summarize_news([30, 400, 5060, 21454, 56645])"
   ]
  },
  {
   "cell_type": "markdown",
   "id": "developmental-quick",
   "metadata": {},
   "source": [
    "# 회고 "
   ]
  },
  {
   "cell_type": "markdown",
   "id": "magnetic-freight",
   "metadata": {},
   "source": [
    "1️⃣ 잘한 점:\n",
    "\n",
    "불용어에서 의미를 추출해 낼 수 있는 단어는 제외하고, 여러 전처리 방법을 통해 추출적 요약에서 의미있는 결과를 얻었다.\n",
    "inference mode를 수정하여 동어반복을 해결헀다\n",
    "\n",
    "2️⃣ 어려웠던 점:\n",
    "\n",
    "학습이 오래 걸려서 다양한 모델을 시도해 볼 수 없었다.\n",
    "\n",
    "\n",
    "3️⃣ 느낀 점:\n",
    "\n",
    "LSTM의 inference부분에 대해 글을 써 봐야 이해가 될 것 같다.\n",
    "이 방식으로 제대로 된 요약을 하려면, 임베딩이 잘 되어있는 것이 매우 중요하고,  특히 뉴스의 경우, 빈도수가 작은 단어도 포함시켜야 할 것 같다."
   ]
  }
 ],
 "metadata": {
  "kernelspec": {
   "display_name": "Python 3",
   "language": "python",
   "name": "python3"
  },
  "language_info": {
   "codemirror_mode": {
    "name": "ipython",
    "version": 3
   },
   "file_extension": ".py",
   "mimetype": "text/x-python",
   "name": "python",
   "nbconvert_exporter": "python",
   "pygments_lexer": "ipython3",
   "version": "3.7.9"
  }
 },
 "nbformat": 4,
 "nbformat_minor": 5
}
