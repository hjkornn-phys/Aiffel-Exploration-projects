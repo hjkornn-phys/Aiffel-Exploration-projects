{
 "cells": [
  {
   "cell_type": "markdown",
   "id": "damaged-remainder",
   "metadata": {},
   "source": [
    "# Project"
   ]
  },
  {
   "cell_type": "markdown",
   "id": "frozen-memory",
   "metadata": {},
   "source": [
    "# load data"
   ]
  },
  {
   "cell_type": "code",
   "execution_count": 2,
   "id": "surface-dubai",
   "metadata": {},
   "outputs": [
    {
     "data": {
      "text/html": [
       "<div>\n",
       "<style scoped>\n",
       "    .dataframe tbody tr th:only-of-type {\n",
       "        vertical-align: middle;\n",
       "    }\n",
       "\n",
       "    .dataframe tbody tr th {\n",
       "        vertical-align: top;\n",
       "    }\n",
       "\n",
       "    .dataframe thead th {\n",
       "        text-align: right;\n",
       "    }\n",
       "</style>\n",
       "<table border=\"1\" class=\"dataframe\">\n",
       "  <thead>\n",
       "    <tr style=\"text-align: right;\">\n",
       "      <th></th>\n",
       "      <th>user_id</th>\n",
       "      <th>movie_id</th>\n",
       "      <th>rating</th>\n",
       "    </tr>\n",
       "  </thead>\n",
       "  <tbody>\n",
       "    <tr>\n",
       "      <th>0</th>\n",
       "      <td>1</td>\n",
       "      <td>1193</td>\n",
       "      <td>5</td>\n",
       "    </tr>\n",
       "    <tr>\n",
       "      <th>1</th>\n",
       "      <td>1</td>\n",
       "      <td>661</td>\n",
       "      <td>3</td>\n",
       "    </tr>\n",
       "    <tr>\n",
       "      <th>2</th>\n",
       "      <td>1</td>\n",
       "      <td>914</td>\n",
       "      <td>3</td>\n",
       "    </tr>\n",
       "    <tr>\n",
       "      <th>3</th>\n",
       "      <td>1</td>\n",
       "      <td>3408</td>\n",
       "      <td>4</td>\n",
       "    </tr>\n",
       "    <tr>\n",
       "      <th>4</th>\n",
       "      <td>1</td>\n",
       "      <td>2355</td>\n",
       "      <td>5</td>\n",
       "    </tr>\n",
       "  </tbody>\n",
       "</table>\n",
       "</div>"
      ],
      "text/plain": [
       "   user_id  movie_id  rating\n",
       "0        1      1193       5\n",
       "1        1       661       3\n",
       "2        1       914       3\n",
       "3        1      3408       4\n",
       "4        1      2355       5"
      ]
     },
     "execution_count": 2,
     "metadata": {},
     "output_type": "execute_result"
    }
   ],
   "source": [
    "import pandas as pd\n",
    "import os\n",
    "\n",
    "\n",
    "rating_file_path=os.getenv('HOME') + '/aiffel/recommendata_iu/data/ml-1m/ratings.dat'\n",
    "ratings_cols = ['user_id', 'movie_id', 'rating', 'timestamp']\n",
    "ratings = pd.read_csv(rating_file_path, sep='::', names=ratings_cols, engine='python', encoding = \"ISO-8859-1\")\n",
    "orginal_data_size = len(ratings)\n",
    "ratings = ratings[['user_id', 'movie_id', 'rating']]\n",
    "ratings.head()"
   ]
  },
  {
   "cell_type": "code",
   "execution_count": 3,
   "id": "bored-management",
   "metadata": {},
   "outputs": [
    {
     "name": "stdout",
     "output_type": "stream",
     "text": [
      "orginal_data_size: 1000209, filtered_data_size: 836478\n",
      "Ratio of Remaining Data is 83.63%\n"
     ]
    }
   ],
   "source": [
    "# 3점 이상만 남깁니다.\n",
    "ratings = ratings[ratings['rating']>=3]\n",
    "filtered_data_size = len(ratings)\n",
    "\n",
    "print(f'orginal_data_size: {orginal_data_size}, filtered_data_size: {filtered_data_size}')\n",
    "print(f'Ratio of Remaining Data is {filtered_data_size / orginal_data_size:.2%}')"
   ]
  },
  {
   "cell_type": "code",
   "execution_count": 4,
   "id": "identified-lunch",
   "metadata": {},
   "outputs": [],
   "source": [
    "# rating 컬럼의 이름을 count로 바꿉니다.\n",
    "ratings.rename(columns={'rating':'count'}, inplace=True)"
   ]
  },
  {
   "cell_type": "code",
   "execution_count": 5,
   "id": "straight-jersey",
   "metadata": {},
   "outputs": [
    {
     "data": {
      "text/plain": [
       "0          5\n",
       "1          3\n",
       "2          3\n",
       "3          4\n",
       "4          5\n",
       "          ..\n",
       "1000203    3\n",
       "1000205    5\n",
       "1000206    5\n",
       "1000207    4\n",
       "1000208    4\n",
       "Name: count, Length: 836478, dtype: int64"
      ]
     },
     "execution_count": 5,
     "metadata": {},
     "output_type": "execute_result"
    }
   ],
   "source": [
    "ratings['count']"
   ]
  },
  {
   "cell_type": "code",
   "execution_count": 6,
   "id": "outdoor-atmosphere",
   "metadata": {},
   "outputs": [
    {
     "data": {
      "text/html": [
       "<div>\n",
       "<style scoped>\n",
       "    .dataframe tbody tr th:only-of-type {\n",
       "        vertical-align: middle;\n",
       "    }\n",
       "\n",
       "    .dataframe tbody tr th {\n",
       "        vertical-align: top;\n",
       "    }\n",
       "\n",
       "    .dataframe thead th {\n",
       "        text-align: right;\n",
       "    }\n",
       "</style>\n",
       "<table border=\"1\" class=\"dataframe\">\n",
       "  <thead>\n",
       "    <tr style=\"text-align: right;\">\n",
       "      <th></th>\n",
       "      <th>movie_id</th>\n",
       "      <th>title</th>\n",
       "      <th>genre</th>\n",
       "    </tr>\n",
       "  </thead>\n",
       "  <tbody>\n",
       "    <tr>\n",
       "      <th>0</th>\n",
       "      <td>1</td>\n",
       "      <td>Toy Story (1995)</td>\n",
       "      <td>Animation|Children's|Comedy</td>\n",
       "    </tr>\n",
       "    <tr>\n",
       "      <th>1</th>\n",
       "      <td>2</td>\n",
       "      <td>Jumanji (1995)</td>\n",
       "      <td>Adventure|Children's|Fantasy</td>\n",
       "    </tr>\n",
       "    <tr>\n",
       "      <th>2</th>\n",
       "      <td>3</td>\n",
       "      <td>Grumpier Old Men (1995)</td>\n",
       "      <td>Comedy|Romance</td>\n",
       "    </tr>\n",
       "    <tr>\n",
       "      <th>3</th>\n",
       "      <td>4</td>\n",
       "      <td>Waiting to Exhale (1995)</td>\n",
       "      <td>Comedy|Drama</td>\n",
       "    </tr>\n",
       "    <tr>\n",
       "      <th>4</th>\n",
       "      <td>5</td>\n",
       "      <td>Father of the Bride Part II (1995)</td>\n",
       "      <td>Comedy</td>\n",
       "    </tr>\n",
       "  </tbody>\n",
       "</table>\n",
       "</div>"
      ],
      "text/plain": [
       "   movie_id                               title                         genre\n",
       "0         1                    Toy Story (1995)   Animation|Children's|Comedy\n",
       "1         2                      Jumanji (1995)  Adventure|Children's|Fantasy\n",
       "2         3             Grumpier Old Men (1995)                Comedy|Romance\n",
       "3         4            Waiting to Exhale (1995)                  Comedy|Drama\n",
       "4         5  Father of the Bride Part II (1995)                        Comedy"
      ]
     },
     "execution_count": 6,
     "metadata": {},
     "output_type": "execute_result"
    }
   ],
   "source": [
    "# 영화 제목을 보기 위해 메타 데이터를 읽어옵니다.\n",
    "movie_file_path=os.getenv('HOME') + '/aiffel/recommendata_iu/data/ml-1m/movies.dat'\n",
    "cols = ['movie_id', 'title', 'genre'] \n",
    "movies = pd.read_csv(movie_file_path, sep='::', names=cols, engine='python', encoding='ISO-8859-1')\n",
    "movies.head()"
   ]
  },
  {
   "cell_type": "markdown",
   "id": "technical-arcade",
   "metadata": {},
   "source": [
    "제목과 id를 대응시키는 딕셔너리를 생성합니다. Series 객체로 만든 후, to_dict() 메소드를 이용합니다. index로 설정한 열이 key가 됩니다"
   ]
  },
  {
   "cell_type": "code",
   "execution_count": 7,
   "id": "narrative-navigator",
   "metadata": {},
   "outputs": [],
   "source": [
    "# mpvie_id 와 title을 연결합니다\n",
    "id_to_title = pd.Series(movies.title.values,index=movies.movie_id).to_dict()\n",
    "title_to_id = {v:k for k,v in id_to_title.items()}"
   ]
  },
  {
   "cell_type": "markdown",
   "id": "imposed-tamil",
   "metadata": {},
   "source": [
    "평점이 매겨진 서로 다른 영화가 몇 종류인지, 사용자는 몇 명인지 확인해 봅니다"
   ]
  },
  {
   "cell_type": "code",
   "execution_count": 8,
   "id": "pharmaceutical-nigeria",
   "metadata": {},
   "outputs": [
    {
     "data": {
      "text/plain": [
       "6039"
      ]
     },
     "execution_count": 8,
     "metadata": {},
     "output_type": "execute_result"
    }
   ],
   "source": [
    "# 유저 수\n",
    "ratings['user_id'].nunique()"
   ]
  },
  {
   "cell_type": "code",
   "execution_count": 9,
   "id": "gothic-repeat",
   "metadata": {},
   "outputs": [
    {
     "data": {
      "text/plain": [
       "3628"
      ]
     },
     "execution_count": 9,
     "metadata": {},
     "output_type": "execute_result"
    }
   ],
   "source": [
    "# 영화 수\n",
    "ratings['movie_id'].nunique()"
   ]
  },
  {
   "cell_type": "markdown",
   "id": "golden-auckland",
   "metadata": {},
   "source": [
    "6000명이 평가한 3600개의 영화에 대한 데이터임을 알 수 있습니다."
   ]
  },
  {
   "cell_type": "markdown",
   "id": "compound-going",
   "metadata": {},
   "source": [
    "### Exploration"
   ]
  },
  {
   "cell_type": "markdown",
   "id": "developed-discipline",
   "metadata": {},
   "source": [
    "평점이 높은 영화 30개를 확인해 봅니다"
   ]
  },
  {
   "cell_type": "code",
   "execution_count": 10,
   "id": "announced-henry",
   "metadata": {},
   "outputs": [],
   "source": [
    "# 평점이 높은 영화\n",
    "u = pd.DataFrame(ratings.groupby('movie_id')['count'].mean()).sort_values(by='count', ascending=False)"
   ]
  },
  {
   "cell_type": "code",
   "execution_count": 11,
   "id": "annoying-peter",
   "metadata": {},
   "outputs": [
    {
     "data": {
      "text/html": [
       "<div>\n",
       "<style scoped>\n",
       "    .dataframe tbody tr th:only-of-type {\n",
       "        vertical-align: middle;\n",
       "    }\n",
       "\n",
       "    .dataframe tbody tr th {\n",
       "        vertical-align: top;\n",
       "    }\n",
       "\n",
       "    .dataframe thead th {\n",
       "        text-align: right;\n",
       "    }\n",
       "</style>\n",
       "<table border=\"1\" class=\"dataframe\">\n",
       "  <thead>\n",
       "    <tr style=\"text-align: right;\">\n",
       "      <th></th>\n",
       "      <th>count</th>\n",
       "    </tr>\n",
       "    <tr>\n",
       "      <th>movie_id</th>\n",
       "      <th></th>\n",
       "    </tr>\n",
       "  </thead>\n",
       "  <tbody>\n",
       "    <tr>\n",
       "      <th>1830</th>\n",
       "      <td>5.0</td>\n",
       "    </tr>\n",
       "    <tr>\n",
       "      <th>3607</th>\n",
       "      <td>5.0</td>\n",
       "    </tr>\n",
       "    <tr>\n",
       "      <th>3800</th>\n",
       "      <td>5.0</td>\n",
       "    </tr>\n",
       "    <tr>\n",
       "      <th>3280</th>\n",
       "      <td>5.0</td>\n",
       "    </tr>\n",
       "    <tr>\n",
       "      <th>989</th>\n",
       "      <td>5.0</td>\n",
       "    </tr>\n",
       "    <tr>\n",
       "      <th>...</th>\n",
       "      <td>...</td>\n",
       "    </tr>\n",
       "    <tr>\n",
       "      <th>821</th>\n",
       "      <td>3.0</td>\n",
       "    </tr>\n",
       "    <tr>\n",
       "      <th>3876</th>\n",
       "      <td>3.0</td>\n",
       "    </tr>\n",
       "    <tr>\n",
       "      <th>2214</th>\n",
       "      <td>3.0</td>\n",
       "    </tr>\n",
       "    <tr>\n",
       "      <th>1532</th>\n",
       "      <td>3.0</td>\n",
       "    </tr>\n",
       "    <tr>\n",
       "      <th>3373</th>\n",
       "      <td>3.0</td>\n",
       "    </tr>\n",
       "  </tbody>\n",
       "</table>\n",
       "<p>3628 rows × 1 columns</p>\n",
       "</div>"
      ],
      "text/plain": [
       "          count\n",
       "movie_id       \n",
       "1830        5.0\n",
       "3607        5.0\n",
       "3800        5.0\n",
       "3280        5.0\n",
       "989         5.0\n",
       "...         ...\n",
       "821         3.0\n",
       "3876        3.0\n",
       "2214        3.0\n",
       "1532        3.0\n",
       "3373        3.0\n",
       "\n",
       "[3628 rows x 1 columns]"
      ]
     },
     "execution_count": 11,
     "metadata": {},
     "output_type": "execute_result"
    }
   ],
   "source": [
    "u"
   ]
  },
  {
   "cell_type": "code",
   "execution_count": 12,
   "id": "growing-birth",
   "metadata": {},
   "outputs": [],
   "source": [
    "top30_list = u[:30].index.to_list()"
   ]
  },
  {
   "cell_type": "code",
   "execution_count": 13,
   "id": "impaired-education",
   "metadata": {},
   "outputs": [
    {
     "data": {
      "text/plain": [
       "['Follow the Bitch (1998)',\n",
       " 'One Little Indian (1973)',\n",
       " 'Criminal Lovers (Les Amants Criminels) (1999)',\n",
       " 'Baby, The (1973)',\n",
       " 'Schlafes Bruder (Brother of Sleep) (1995)',\n",
       " 'Identification of a Woman (Identificazione di una donna) (1982)',\n",
       " 'Lured (1947)',\n",
       " 'Country Life (1994)',\n",
       " 'Bittersweet Motel (2000)',\n",
       " 'Gate of Heavenly Peace, The (1995)',\n",
       " 'Message to Love: The Isle of Wight Festival (1996)',\n",
       " 'Paralyzing Fear: The Story of Polio in America, A (1998)',\n",
       " 'Late Bloomers (1996)',\n",
       " 'Song of Freedom (1936)',\n",
       " 'Black Sunday (La Maschera Del Demonio) (1960)',\n",
       " 'Zachariah (1971)',\n",
       " 'Foreign Student (1994)',\n",
       " 'Ulysses (Ulisse) (1954)',\n",
       " 'Smashing Time (1967)',\n",
       " 'I Am Cuba (Soy Cuba/Ya Kuba) (1964)',\n",
       " 'Lamerica (1994)',\n",
       " 'Seven Chances (1925)',\n",
       " 'Apple, The (Sib) (1998)',\n",
       " 'Firelight (1997)',\n",
       " 'Sunset Strip (2000)',\n",
       " 'Sanjuro (1962)',\n",
       " 'Seven Samurai (The Magnificent Seven) (Shichinin no samurai) (1954)',\n",
       " 'World of Apu, The (Apur Sansar) (1959)',\n",
       " 'Godfather, The (1972)',\n",
       " 'Shawshank Redemption, The (1994)']"
      ]
     },
     "execution_count": 13,
     "metadata": {},
     "output_type": "execute_result"
    }
   ],
   "source": [
    "list(map(lambda x: id_to_title[x], top30_list))"
   ]
  },
  {
   "cell_type": "markdown",
   "id": "alleged-employee",
   "metadata": {},
   "source": [
    "# 내가 선호하는 영화 입력하기"
   ]
  },
  {
   "cell_type": "markdown",
   "id": "aggressive-credit",
   "metadata": {},
   "source": [
    "입력하기 위해서는, 영화 제목을 찾아야 할 것 같습니다"
   ]
  },
  {
   "cell_type": "code",
   "execution_count": 14,
   "id": "usual-refund",
   "metadata": {},
   "outputs": [],
   "source": [
    "def search_movie(title):\n",
    "    return movies[movies['title'].str.contains(title)]['title']"
   ]
  },
  {
   "cell_type": "code",
   "execution_count": 15,
   "id": "antique-perth",
   "metadata": {},
   "outputs": [
    {
     "data": {
      "text/plain": [
       "360    Lion King, The (1994)\n",
       "Name: title, dtype: object"
      ]
     },
     "execution_count": 15,
     "metadata": {},
     "output_type": "execute_result"
    }
   ],
   "source": [
    "search_movie('Lion')"
   ]
  },
  {
   "cell_type": "code",
   "execution_count": 16,
   "id": "supported-horse",
   "metadata": {
    "scrolled": true
   },
   "outputs": [
    {
     "data": {
      "text/plain": [
       "122        Star Maker, The (Uomo delle stelle, L') (1995)\n",
       "129                              Frankie Starlight (1995)\n",
       "195                   Stars Fell on Henrietta, The (1995)\n",
       "257             Star Wars: Episode IV - A New Hope (1977)\n",
       "313                                       Stargate (1994)\n",
       "325                         Star Trek: Generations (1994)\n",
       "790                                      Lone Star (1996)\n",
       "1025                              Unhook the Stars (1996)\n",
       "1178    Star Wars: Episode V - The Empire Strikes Back...\n",
       "1192    Star Wars: Episode VI - Return of the Jedi (1983)\n",
       "1335                      Star Trek: First Contact (1996)\n",
       "1350                 Star Trek: The Motion Picture (1979)\n",
       "1351        Star Trek VI: The Undiscovered Country (1991)\n",
       "1352               Star Trek V: The Final Frontier (1989)\n",
       "1353                  Star Trek: The Wrath of Khan (1982)\n",
       "1354           Star Trek III: The Search for Spock (1984)\n",
       "1355                 Star Trek IV: The Voyage Home (1986)\n",
       "1387                             Evening Star, The (1996)\n",
       "1571                                     Star Maps (1997)\n",
       "1630                             Starship Troopers (1997)\n",
       "1698                                      Star Kid (1997)\n",
       "2177                                Stars and Bars (1988)\n",
       "2221                             Stardust Memories (1980)\n",
       "2324                       Star Trek: Insurrection (1998)\n",
       "2559     Star Wars: Episode I - The Phantom Menace (1999)\n",
       "3097                                  Brenda Starr (1989)\n",
       "3133    Even Dwarfs Started Small (Auch Zwerge haben k...\n",
       "3148                               Star Is Born, A (1937)\n",
       "3630                                       Starman (1984)\n",
       "Name: title, dtype: object"
      ]
     },
     "execution_count": 16,
     "metadata": {},
     "output_type": "execute_result"
    }
   ],
   "source": [
    "search_movie('Star')"
   ]
  },
  {
   "cell_type": "code",
   "execution_count": 17,
   "id": "arabic-dragon",
   "metadata": {},
   "outputs": [
    {
     "data": {
      "text/plain": [
       "461                                 Heaven & Earth (1993)\n",
       "1233                Day the Earth Stood Still, The (1951)\n",
       "1259                                Night on Earth (1991)\n",
       "1874                   Greatest Show on Earth, The (1952)\n",
       "2466                                    Earthquake (1974)\n",
       "2596                  Earth Vs. the Flying Saucers (1956)\n",
       "2844    Mating Habits of the Earthbound Human, The (1998)\n",
       "3378                               Good Earth, The (1937)\n",
       "3384                                 Here on Earth (2000)\n",
       "3524                             Battlefield Earth (2000)\n",
       "3849                 Hellraiser III: Hell on Earth (1992)\n",
       "Name: title, dtype: object"
      ]
     },
     "execution_count": 17,
     "metadata": {},
     "output_type": "execute_result"
    }
   ],
   "source": [
    "search_movie('Earth')"
   ]
  },
  {
   "cell_type": "code",
   "execution_count": 18,
   "id": "recorded-probe",
   "metadata": {},
   "outputs": [
    {
     "data": {
      "text/plain": [
       "607             Hellraiser: Bloodline (1996)\n",
       "1919    Hello Mary Lou: Prom Night II (1987)\n",
       "2809                       Hell Night (1981)\n",
       "3074              Hell in the Pacific (1968)\n",
       "3157           Hellhounds on My Trail (1999)\n",
       "3847                       Hellraiser (1987)\n",
       "3848         Hellbound: Hellraiser II (1988)\n",
       "3849    Hellraiser III: Hell on Earth (1992)\n",
       "Name: title, dtype: object"
      ]
     },
     "execution_count": 18,
     "metadata": {},
     "output_type": "execute_result"
    }
   ],
   "source": [
    "search_movie('Hell')"
   ]
  },
  {
   "cell_type": "code",
   "execution_count": 19,
   "id": "progressive-master",
   "metadata": {},
   "outputs": [
    {
     "data": {
      "text/html": [
       "<div>\n",
       "<style scoped>\n",
       "    .dataframe tbody tr th:only-of-type {\n",
       "        vertical-align: middle;\n",
       "    }\n",
       "\n",
       "    .dataframe tbody tr th {\n",
       "        vertical-align: top;\n",
       "    }\n",
       "\n",
       "    .dataframe thead th {\n",
       "        text-align: right;\n",
       "    }\n",
       "</style>\n",
       "<table border=\"1\" class=\"dataframe\">\n",
       "  <thead>\n",
       "    <tr style=\"text-align: right;\">\n",
       "      <th></th>\n",
       "      <th>user_id</th>\n",
       "      <th>movie_id</th>\n",
       "      <th>count</th>\n",
       "    </tr>\n",
       "  </thead>\n",
       "  <tbody>\n",
       "    <tr>\n",
       "      <th>1000203</th>\n",
       "      <td>6040</td>\n",
       "      <td>1090</td>\n",
       "      <td>3</td>\n",
       "    </tr>\n",
       "    <tr>\n",
       "      <th>1000205</th>\n",
       "      <td>6040</td>\n",
       "      <td>1094</td>\n",
       "      <td>5</td>\n",
       "    </tr>\n",
       "    <tr>\n",
       "      <th>1000206</th>\n",
       "      <td>6040</td>\n",
       "      <td>562</td>\n",
       "      <td>5</td>\n",
       "    </tr>\n",
       "    <tr>\n",
       "      <th>1000207</th>\n",
       "      <td>6040</td>\n",
       "      <td>1096</td>\n",
       "      <td>4</td>\n",
       "    </tr>\n",
       "    <tr>\n",
       "      <th>1000208</th>\n",
       "      <td>6040</td>\n",
       "      <td>1097</td>\n",
       "      <td>4</td>\n",
       "    </tr>\n",
       "    <tr>\n",
       "      <th>0</th>\n",
       "      <td>hjahn</td>\n",
       "      <td>858</td>\n",
       "      <td>5</td>\n",
       "    </tr>\n",
       "    <tr>\n",
       "      <th>1</th>\n",
       "      <td>hjahn</td>\n",
       "      <td>611</td>\n",
       "      <td>5</td>\n",
       "    </tr>\n",
       "    <tr>\n",
       "      <th>2</th>\n",
       "      <td>hjahn</td>\n",
       "      <td>3447</td>\n",
       "      <td>5</td>\n",
       "    </tr>\n",
       "    <tr>\n",
       "      <th>3</th>\n",
       "      <td>hjahn</td>\n",
       "      <td>260</td>\n",
       "      <td>5</td>\n",
       "    </tr>\n",
       "    <tr>\n",
       "      <th>4</th>\n",
       "      <td>hjahn</td>\n",
       "      <td>364</td>\n",
       "      <td>5</td>\n",
       "    </tr>\n",
       "  </tbody>\n",
       "</table>\n",
       "</div>"
      ],
      "text/plain": [
       "        user_id  movie_id  count\n",
       "1000203    6040      1090      3\n",
       "1000205    6040      1094      5\n",
       "1000206    6040       562      5\n",
       "1000207    6040      1096      4\n",
       "1000208    6040      1097      4\n",
       "0         hjahn       858      5\n",
       "1         hjahn       611      5\n",
       "2         hjahn      3447      5\n",
       "3         hjahn       260      5\n",
       "4         hjahn       364      5"
      ]
     },
     "execution_count": 19,
     "metadata": {},
     "output_type": "execute_result"
    }
   ],
   "source": [
    "my_favorite_title = ['Godfather, The (1972)' , 'Hellraiser: Bloodline (1996)' ,'Good Earth, The (1937)' ,\\\n",
    "               'Star Wars: Episode IV - A New Hope (1977)' ,'Lion King, The (1994)']\n",
    "\n",
    "my_favorite = list(map(lambda x: title_to_id[x], my_favorite_title))\n",
    "\n",
    "# 'hjahn'이라는 user_id가 위 영화의 평점을 5점을 주었다고 가정하겠습니다.\n",
    "my_playlist = pd.DataFrame({'user_id': ['hjahn']*5, 'movie_id': my_favorite, 'count':[5]*5})\n",
    "\n",
    "if not ratings.isin({'user_id':['hjahn']})['user_id'].any():  # user_id에 'hjahn'이라는 데이터가 없다면\n",
    "    ratings = ratings.append(my_playlist)                           # 위에 임의로 만든 my_favorite 데이터를 추가해 줍니다. \n",
    "\n",
    "ratings.tail(10)       # 잘 추가되었는지 확인해 봅시다."
   ]
  },
  {
   "cell_type": "markdown",
   "id": "subject-furniture",
   "metadata": {},
   "source": [
    "# Data Preprocessing"
   ]
  },
  {
   "cell_type": "markdown",
   "id": "rough-opera",
   "metadata": {},
   "source": [
    "csr 형태로 만들기 위해 unique 값들을 정수 인코딩하는 처리를 거칩니다"
   ]
  },
  {
   "cell_type": "code",
   "execution_count": 20,
   "id": "separated-sitting",
   "metadata": {},
   "outputs": [],
   "source": [
    "# 고유한 유저, 아티스트를 찾아내는 코드\n",
    "user_uniq = ratings['user_id'].unique()\n",
    "movie_uniq = ratings['movie_id'].unique()\n",
    "\n",
    "# 유저, 아티스트 indexing 하는 코드 idx는 index의 약자입니다.\n",
    "usr_to_idx = {v:k for k,v in enumerate(user_uniq)}\n",
    "movie_to_idx = {v:k for k,v in enumerate(movie_uniq)}"
   ]
  },
  {
   "cell_type": "code",
   "execution_count": 21,
   "id": "pregnant-tribe",
   "metadata": {},
   "outputs": [
    {
     "name": "stdout",
     "output_type": "stream",
     "text": [
      "user_id column indexing OK!!\n",
      "movie_id column indexing OK!!\n"
     ]
    },
    {
     "data": {
      "text/html": [
       "<div>\n",
       "<style scoped>\n",
       "    .dataframe tbody tr th:only-of-type {\n",
       "        vertical-align: middle;\n",
       "    }\n",
       "\n",
       "    .dataframe tbody tr th {\n",
       "        vertical-align: top;\n",
       "    }\n",
       "\n",
       "    .dataframe thead th {\n",
       "        text-align: right;\n",
       "    }\n",
       "</style>\n",
       "<table border=\"1\" class=\"dataframe\">\n",
       "  <thead>\n",
       "    <tr style=\"text-align: right;\">\n",
       "      <th></th>\n",
       "      <th>user_id</th>\n",
       "      <th>movie_id</th>\n",
       "      <th>count</th>\n",
       "    </tr>\n",
       "  </thead>\n",
       "  <tbody>\n",
       "    <tr>\n",
       "      <th>0</th>\n",
       "      <td>0</td>\n",
       "      <td>0</td>\n",
       "      <td>5</td>\n",
       "    </tr>\n",
       "    <tr>\n",
       "      <th>1</th>\n",
       "      <td>0</td>\n",
       "      <td>1</td>\n",
       "      <td>3</td>\n",
       "    </tr>\n",
       "    <tr>\n",
       "      <th>2</th>\n",
       "      <td>0</td>\n",
       "      <td>2</td>\n",
       "      <td>3</td>\n",
       "    </tr>\n",
       "    <tr>\n",
       "      <th>3</th>\n",
       "      <td>0</td>\n",
       "      <td>3</td>\n",
       "      <td>4</td>\n",
       "    </tr>\n",
       "    <tr>\n",
       "      <th>4</th>\n",
       "      <td>0</td>\n",
       "      <td>4</td>\n",
       "      <td>5</td>\n",
       "    </tr>\n",
       "    <tr>\n",
       "      <th>...</th>\n",
       "      <td>...</td>\n",
       "      <td>...</td>\n",
       "      <td>...</td>\n",
       "    </tr>\n",
       "    <tr>\n",
       "      <th>0</th>\n",
       "      <td>6039</td>\n",
       "      <td>607</td>\n",
       "      <td>5</td>\n",
       "    </tr>\n",
       "    <tr>\n",
       "      <th>1</th>\n",
       "      <td>6039</td>\n",
       "      <td>1827</td>\n",
       "      <td>5</td>\n",
       "    </tr>\n",
       "    <tr>\n",
       "      <th>2</th>\n",
       "      <td>6039</td>\n",
       "      <td>529</td>\n",
       "      <td>5</td>\n",
       "    </tr>\n",
       "    <tr>\n",
       "      <th>3</th>\n",
       "      <td>6039</td>\n",
       "      <td>44</td>\n",
       "      <td>5</td>\n",
       "    </tr>\n",
       "    <tr>\n",
       "      <th>4</th>\n",
       "      <td>6039</td>\n",
       "      <td>330</td>\n",
       "      <td>5</td>\n",
       "    </tr>\n",
       "  </tbody>\n",
       "</table>\n",
       "<p>836483 rows × 3 columns</p>\n",
       "</div>"
      ],
      "text/plain": [
       "    user_id  movie_id  count\n",
       "0         0         0      5\n",
       "1         0         1      3\n",
       "2         0         2      3\n",
       "3         0         3      4\n",
       "4         0         4      5\n",
       "..      ...       ...    ...\n",
       "0      6039       607      5\n",
       "1      6039      1827      5\n",
       "2      6039       529      5\n",
       "3      6039        44      5\n",
       "4      6039       330      5\n",
       "\n",
       "[836483 rows x 3 columns]"
      ]
     },
     "execution_count": 21,
     "metadata": {},
     "output_type": "execute_result"
    }
   ],
   "source": [
    "# indexing을 통해 데이터 컬럼 내 값을 바꾸는 코드\n",
    "# dictionary 자료형의 get 함수는 https://wikidocs.net/16 을 참고하세요.\n",
    "ratings_copy = ratings.copy()\n",
    "# user_to_idx.get을 통해 user_id 컬럼의 모든 값을 인덱싱한 Series를 구해 봅시다. \n",
    "# 혹시 정상적으로 인덱싱되지 않은 row가 있다면 인덱스가 NaN이 될 테니 dropna()로 제거합니다. \n",
    "temp_user_data = ratings['user_id'].map(usr_to_idx.get).dropna()\n",
    "if len(temp_user_data) == len(ratings):   # 모든 row가 정상적으로 인덱싱되었다면\n",
    "    print('user_id column indexing OK!!')\n",
    "    ratings['user_id'] = temp_user_data\n",
    "else:\n",
    "    print('user_id column indexing Fail!!')\n",
    "\n",
    "# artist_to_idx을 통해 artist 컬럼도 동일한 방식으로 인덱싱해 줍니다. \n",
    "temp_artist_data = ratings['movie_id'].map(movie_to_idx.get).dropna()\n",
    "if len(temp_artist_data) == len(ratings):\n",
    "    print('movie_id column indexing OK!!')\n",
    "    ratings['movie_id'] = temp_artist_data\n",
    "else:\n",
    "    print('artist column indexing Fail!!')\n",
    "\n",
    "ratings"
   ]
  },
  {
   "cell_type": "code",
   "execution_count": 22,
   "id": "interpreted-fisher",
   "metadata": {},
   "outputs": [
    {
     "name": "stdout",
     "output_type": "stream",
     "text": [
      "6040\n",
      "3628\n"
     ]
    },
    {
     "data": {
      "text/plain": [
       "<6040x3628 sparse matrix of type '<class 'numpy.longlong'>'\n",
       "\twith 836483 stored elements in Compressed Sparse Row format>"
      ]
     },
     "execution_count": 22,
     "metadata": {},
     "output_type": "execute_result"
    }
   ],
   "source": [
    "# 실습 위에 설명보고 이해해서 만들어보기\n",
    "from scipy.sparse import csr_matrix\n",
    "\n",
    "num_user = ratings['user_id'].nunique()\n",
    "print(num_user)\n",
    "num_movie = ratings['movie_id'].nunique()\n",
    "print(num_movie)\n",
    "csr_data = csr_matrix((ratings['count'], (ratings.user_id, ratings.movie_id)), shape= (num_user, num_movie))\n",
    "csr_data"
   ]
  },
  {
   "cell_type": "markdown",
   "id": "starting-canyon",
   "metadata": {},
   "source": [
    "# Train  Model"
   ]
  },
  {
   "cell_type": "code",
   "execution_count": 23,
   "id": "apparent-petite",
   "metadata": {},
   "outputs": [],
   "source": [
    "from implicit.als import AlternatingLeastSquares\n",
    "import os\n",
    "import numpy as np\n",
    "\n",
    "# implicit 라이브러리에서 권장하고 있는 부분입니다. 학습 내용과는 무관합니다.\n",
    "os.environ['OPENBLAS_NUM_THREADS']='1'\n",
    "os.environ['KMP_DUPLICATE_LIB_OK']='True'\n",
    "os.environ['MKL_NUM_THREADS']='1'"
   ]
  },
  {
   "cell_type": "code",
   "execution_count": 24,
   "id": "limited-address",
   "metadata": {},
   "outputs": [],
   "source": [
    "# Implicit AlternatingLeastSquares 모델의 선언\n",
    "als_model = AlternatingLeastSquares(factors=196, regularization=0.01, use_gpu=False, iterations=45, dtype=np.float32)"
   ]
  },
  {
   "cell_type": "code",
   "execution_count": 25,
   "id": "refined-interview",
   "metadata": {},
   "outputs": [
    {
     "data": {
      "text/plain": [
       "<3628x6040 sparse matrix of type '<class 'numpy.longlong'>'\n",
       "\twith 836483 stored elements in Compressed Sparse Column format>"
      ]
     },
     "execution_count": 25,
     "metadata": {},
     "output_type": "execute_result"
    }
   ],
   "source": [
    "# als 모델은 input으로 (item X user 꼴의 matrix를 받기 때문에 Transpose해줍니다.)\n",
    "csr_data_transpose = csr_data.T\n",
    "csr_data_transpose"
   ]
  },
  {
   "cell_type": "code",
   "execution_count": 26,
   "id": "colonial-aviation",
   "metadata": {},
   "outputs": [
    {
     "data": {
      "application/vnd.jupyter.widget-view+json": {
       "model_id": "87b02ecdc9ab4fceab4537a9eed9bebc",
       "version_major": 2,
       "version_minor": 0
      },
      "text/plain": [
       "  0%|          | 0/45 [00:00<?, ?it/s]"
      ]
     },
     "metadata": {},
     "output_type": "display_data"
    }
   ],
   "source": [
    "# 모델 훈련\n",
    "als_model.fit(csr_data_transpose)"
   ]
  },
  {
   "cell_type": "markdown",
   "id": "innocent-blowing",
   "metadata": {},
   "source": [
    "# 결과 분석 "
   ]
  },
  {
   "cell_type": "code",
   "execution_count": 27,
   "id": "casual-davis",
   "metadata": {},
   "outputs": [],
   "source": [
    "hjahn, hellraiser = usr_to_idx['hjahn'], movie_to_idx[title_to_id['Hellraiser: Bloodline (1996)']]\n",
    "hjahn_vector, hellraiser_vector = als_model.user_factors[hjahn], als_model.item_factors[hellraiser]"
   ]
  },
  {
   "cell_type": "code",
   "execution_count": 28,
   "id": "finnish-tenant",
   "metadata": {},
   "outputs": [
    {
     "data": {
      "text/plain": [
       "0.17275421"
      ]
     },
     "execution_count": 28,
     "metadata": {},
     "output_type": "execute_result"
    }
   ],
   "source": [
    "np.dot(hjahn_vector, hellraiser_vector)"
   ]
  },
  {
   "cell_type": "markdown",
   "id": "adaptive-youth",
   "metadata": {},
   "source": [
    "영화 제목을 주고 제 선호도를 맞춰 봅니다"
   ]
  },
  {
   "cell_type": "code",
   "execution_count": 29,
   "id": "unexpected-potential",
   "metadata": {},
   "outputs": [],
   "source": [
    "def predict_movie_preferences(movie_list):\n",
    "    movie_prefs=[]\n",
    "    for movie in movie_list:\n",
    "        movie_temp = movie_to_idx[title_to_id[movie]]\n",
    "        movie_pref = np.dot(hjahn_vector, als_model.item_factors[movie_temp])\n",
    "        movie_prefs.append((movie, movie_pref))\n",
    "    return movie_prefs"
   ]
  },
  {
   "cell_type": "code",
   "execution_count": 30,
   "id": "mounted-wallpaper",
   "metadata": {},
   "outputs": [
    {
     "data": {
      "text/plain": [
       "[('Godfather, The (1972)', 0.791988),\n",
       " ('Hellraiser: Bloodline (1996)', 0.17275421),\n",
       " ('Good Earth, The (1937)', 0.14107114),\n",
       " ('Star Wars: Episode IV - A New Hope (1977)', 0.72605187),\n",
       " ('Lion King, The (1994)', 0.47356385)]"
      ]
     },
     "execution_count": 30,
     "metadata": {},
     "output_type": "execute_result"
    }
   ],
   "source": [
    "predict_movie_preferences(my_favorite_title)"
   ]
  },
  {
   "cell_type": "markdown",
   "id": "perceived-monitor",
   "metadata": {},
   "source": [
    "비슷한 영화를 나열해 봅니다"
   ]
  },
  {
   "cell_type": "code",
   "execution_count": 31,
   "id": "blessed-senior",
   "metadata": {},
   "outputs": [],
   "source": [
    "idx_to_movie = {v:k for k,v in movie_to_idx.items()}"
   ]
  },
  {
   "cell_type": "code",
   "execution_count": 32,
   "id": "empirical-conjunction",
   "metadata": {},
   "outputs": [
    {
     "name": "stdout",
     "output_type": "stream",
     "text": [
      "슝=3\n"
     ]
    }
   ],
   "source": [
    "def get_similar_movies(movie_title: str):\n",
    "    movie_idx = movie_to_idx[title_to_id[movie_title]]\n",
    "    similar_movies = als_model.similar_items(movie_idx)\n",
    "    similar_movies = [id_to_title[idx_to_movie[i[0]]] for i in similar_movies]\n",
    "    return similar_movies\n",
    "\n",
    "print(\"슝=3\")"
   ]
  },
  {
   "cell_type": "code",
   "execution_count": 33,
   "id": "appropriate-specific",
   "metadata": {},
   "outputs": [
    {
     "data": {
      "text/plain": [
       "['Hellraiser: Bloodline (1996)',\n",
       " 'Hellbound: Hellraiser II (1988)',\n",
       " 'Hellraiser III: Hell on Earth (1992)',\n",
       " 'Candyman: Farewell to the Flesh (1995)',\n",
       " 'Halloween: The Curse of Michael Myers (1995)',\n",
       " 'Halloween 5: The Revenge of Michael Myers (1989)',\n",
       " 'Species II (1998)',\n",
       " 'Phantasm III: Lord of the Dead (1994)',\n",
       " 'Graveyard Shift (1990)',\n",
       " 'Puppet Master 5: The Final Chapter (1994)']"
      ]
     },
     "execution_count": 33,
     "metadata": {},
     "output_type": "execute_result"
    }
   ],
   "source": [
    "get_similar_movies('Hellraiser: Bloodline (1996)')"
   ]
  },
  {
   "cell_type": "markdown",
   "id": "bright-favorite",
   "metadata": {},
   "source": [
    "영화를 추천받아 봅니다"
   ]
  },
  {
   "cell_type": "code",
   "execution_count": 34,
   "id": "opening-romantic",
   "metadata": {},
   "outputs": [
    {
     "data": {
      "text/plain": [
       "['Godfather: Part II, The (1974)',\n",
       " 'Star Wars: Episode V - The Empire Strikes Back (1980)',\n",
       " 'Beauty and the Beast (1991)',\n",
       " 'Aladdin (1992)',\n",
       " 'Raiders of the Lost Ark (1981)',\n",
       " 'Star Wars: Episode VI - Return of the Jedi (1983)',\n",
       " 'Wizard of Oz, The (1939)',\n",
       " 'Forrest Gump (1994)',\n",
       " 'Star Wars: Episode I - The Phantom Menace (1999)',\n",
       " 'Mulan (1998)',\n",
       " 'Toy Story (1995)',\n",
       " 'Tarzan (1999)',\n",
       " 'Antz (1998)',\n",
       " 'Nightmare Before Christmas, The (1993)',\n",
       " 'Little Mermaid, The (1989)',\n",
       " 'Jurassic Park (1993)',\n",
       " 'Snow White and the Seven Dwarfs (1937)',\n",
       " 'Game, The (1997)',\n",
       " 'African Queen, The (1951)',\n",
       " 'Alien (1979)']"
      ]
     },
     "execution_count": 34,
     "metadata": {},
     "output_type": "execute_result"
    }
   ],
   "source": [
    "movie_recommended = als_model.recommend(hjahn, csr_data, N=20, filter_already_liked_items=True)\n",
    "[id_to_title[idx_to_movie[i[0]]] for i in movie_recommended]"
   ]
  },
  {
   "cell_type": "markdown",
   "id": "veterinary-ladder",
   "metadata": {},
   "source": [
    "# 회고 "
   ]
  },
  {
   "cell_type": "markdown",
   "id": "exempt-climb",
   "metadata": {},
   "source": [
    "1️⃣ 잘한 점:\n",
    "\n",
    "미리미리 완성했다.\n",
    "\n",
    "추천 시스템의 결과가 충분히 의미있다.\n",
    "\n",
    "2️⃣ 어려웠던 점:\n",
    "\n",
    "CSR 행렬을 구현할 때, 노드를 베끼지 않고 바로 짜보려고 했으나, 반복적인 오류로 포기했다. \n",
    "\n",
    "노드 방식을 따라가면서, movie_id와 title을 한번 딕셔너리로 만들고, 또 다시 movie_idx와 movie_id를 딕셔너리로 만들어, 코드의 가독성이 떨어진다.\n",
    "\n",
    "\n",
    "3️⃣ 느낀 점:\n",
    "\n",
    "지금까지 한 Exploration 중 가장 노드를 충실히 따라갔다. 채점 기준 역시 노드에서 진행한 것 위주였다. 그러나 조금이라도 다른 태스크가 주어진다면 성공하기 힘들 것 같다는 마음이 강하게 든 프로젝트였다. \n",
    "\n",
    "추천 시스템을 발전시킬 수 있는 방법이 많을 것 같다. 추가적인 자료조사가 필요하다."
   ]
  },
  {
   "cell_type": "markdown",
   "id": "fixed-webcam",
   "metadata": {},
   "source": [
    "### 참고한 것 - 유현지 님의 회고"
   ]
  }
 ],
 "metadata": {
  "kernelspec": {
   "display_name": "Python 3",
   "language": "python",
   "name": "python3"
  },
  "language_info": {
   "codemirror_mode": {
    "name": "ipython",
    "version": 3
   },
   "file_extension": ".py",
   "mimetype": "text/x-python",
   "name": "python",
   "nbconvert_exporter": "python",
   "pygments_lexer": "ipython3",
   "version": "3.7.9"
  }
 },
 "nbformat": 4,
 "nbformat_minor": 5
}
