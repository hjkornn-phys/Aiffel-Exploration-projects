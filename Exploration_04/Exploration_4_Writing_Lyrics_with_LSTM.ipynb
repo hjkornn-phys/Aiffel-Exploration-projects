{
 "cells": [
  {
   "cell_type": "markdown",
   "id": "productive-amazon",
   "metadata": {},
   "source": [
    "# Project"
   ]
  },
  {
   "cell_type": "markdown",
   "id": "rough-dodge",
   "metadata": {},
   "source": [
    "## 전처리"
   ]
  },
  {
   "cell_type": "code",
   "execution_count": 188,
   "id": "affecting-chorus",
   "metadata": {},
   "outputs": [
    {
     "name": "stdout",
     "output_type": "stream",
     "text": [
      "데이터 크기: 187088\n"
     ]
    }
   ],
   "source": [
    "import glob\n",
    "import os, re \n",
    "import numpy as np\n",
    "import tensorflow as tf\n",
    "\n",
    "txt_file_path = os.getenv('HOME')+'/aiffel/lyricist/data/lyrics/*'\n",
    "\n",
    "txt_list = glob.glob(txt_file_path)\n",
    "\n",
    "raw_corpus = []\n",
    "\n",
    "# 여러개의 txt 파일을 모두 읽어서 raw_corpus 에 담습니다.\n",
    "for txt_file in txt_list:\n",
    "    with open(txt_file, \"r\") as f:\n",
    "        raw = f.read().splitlines()\n",
    "        raw_corpus.extend(raw)\n",
    "\n",
    "print(\"데이터 크기:\", len(raw_corpus))\n",
    "# print(\"Examples:\\n\", raw_corpus[500:1000])"
   ]
  },
  {
   "cell_type": "markdown",
   "id": "chemical-flavor",
   "metadata": {},
   "source": [
    "괄호 안에 있는 내용을 삭제하고 싶다. 또한 어퍼스트로피는 살리는 방향으로 전처리를 진행한다."
   ]
  },
  {
   "cell_type": "code",
   "execution_count": 206,
   "id": "injured-company",
   "metadata": {},
   "outputs": [
    {
     "name": "stdout",
     "output_type": "stream",
     "text": [
      "<start> why don' t you go out and play <end>\n"
     ]
    }
   ],
   "source": [
    "# 입력된 문장을\n",
    "#     0. 괄호 안에 있는 내용을 없앱니다\n",
    "#     1. 소문자로 바꾸고, 양쪽 공백을 지웁니다\n",
    "#     2. 특수문자 양쪽에 공백을 넣고\n",
    "#     2-1. '뒤에 공백 하나를 넣습니다\n",
    "#     3. 여러개의 공백은 하나의 공백으로 바꿉니다\n",
    "#     4. a-zA-Z?.!,¿,'가 아닌 모든 문자를 하나의 공백으로 바꿉니다\n",
    "#     5. 다시 양쪽 공백을 지웁니다\n",
    "#     6. (' )로 시작하는 경우 지웁니다\n",
    "#     7. '앞에 공백이 있는 경우 함께 지웁니다.\n",
    "#     8. 문장 시작에는 <start>, 끝에는 <end>를 추가합니다\n",
    "# 이 순서로 처리해주면 문제가 되는 상황을 방지할 수 있겠네요!\n",
    "def preprocess_lyrics(sentence):\n",
    "    sentence = re.sub(r'\\([^)]*\\)',r'',sentence)\n",
    "    sentence = re.sub(r'\\[[^)]*\\]',r'',sentence )\n",
    "    sentence = sentence.lower().strip() # 1\n",
    "    sentence = re.sub(r\"([?.!,¿])\", r\" \\1 \", sentence) # 2\n",
    "    sentence = re.sub(r\"([\\'])\", r\"\\1 \", sentence)  # 2-1\n",
    "    sentence = re.sub(r'[\" \"]+', \" \", sentence) # 3\n",
    "    sentence = re.sub(r\"[^a-zA-Z?.!,¿\\']+\", \" \", sentence) # 4\n",
    "    sentence = sentence.strip() # 5\n",
    "    sentence = re.sub(r\"^\\' \", r'', sentence)  # 6\n",
    "    sentence = re.sub(r\" \\'\", r\"\", sentence)  # 7\n",
    "    if sentence:\n",
    "        sentence = '<start> ' + sentence + ' <end>' # 8\n",
    "        return sentence\n",
    "\n",
    "# 이 문장이 어떻게 필터링되는지 확인해 보세요.\n",
    "print(preprocess_lyrics(\"why don' t you go ' ' ' out  and play\"))"
   ]
  },
  {
   "cell_type": "code",
   "execution_count": 207,
   "id": "ultimate-retro",
   "metadata": {},
   "outputs": [
    {
     "data": {
      "text/plain": [
       "[\"<start> i' m talking about happy people <end>\",\n",
       " '<start> they keep the world dancing , dancing , dancing <end>',\n",
       " '<start> happy people <end>',\n",
       " '<start> keep the world stepping , stepping , stepping <end>',\n",
       " '<start> nothing but happy people <end>',\n",
       " '<start> keeps the world grooving , grooving uh uh uh , alright , uh huh <end>',\n",
       " '<start> now if you want to step <end>',\n",
       " '<start> you gotta play it by the rules <end>',\n",
       " '<start> you gotta do what i do <end>',\n",
       " '<start> when i do , what i do <end>',\n",
       " '<start> if you want to step <end>',\n",
       " '<start> you gotta play it by the rules <end>',\n",
       " '<start> you gotta do what i do <end>',\n",
       " '<start> when i do , what i do <end>',\n",
       " '<start> now step to the left , step to the right <end>',\n",
       " '<start> spin around and bring it down tonight <end>',\n",
       " '<start> bring it on up , move in close <end>',\n",
       " '<start> let me see you and your partner stroll step to the left , step to the right <end>',\n",
       " '<start> spin around and bring it down tonight <end>',\n",
       " '<start> bring it on up , move in close <end>']"
      ]
     },
     "execution_count": 207,
     "metadata": {},
     "output_type": "execute_result"
    }
   ],
   "source": [
    "# 여기에 정제된 문장을 모을겁니다\n",
    "lyric_corpus = []\n",
    "\n",
    "for lyric in raw_corpus:\n",
    "    # 정제를 합니다\n",
    "    preprocessed_lyric = preprocess_lyrics(lyric)\n",
    "    # 우리가 원하지 않는 문장은 건너뜁니다\n",
    "    if not preprocessed_lyric: continue\n",
    "    lyric_corpus.append(preprocessed_lyric)    \n",
    "# 정제된 결과를 20개만 확인해보죠\n",
    "lyric_corpus[1000:1020]"
   ]
  },
  {
   "cell_type": "code",
   "execution_count": 7,
   "id": "activated-signature",
   "metadata": {},
   "outputs": [
    {
     "data": {
      "text/plain": [
       "172709"
      ]
     },
     "execution_count": 7,
     "metadata": {},
     "output_type": "execute_result"
    }
   ],
   "source": [
    "len(lyric_corpus)"
   ]
  },
  {
   "cell_type": "markdown",
   "id": "awful-drama",
   "metadata": {},
   "source": [
    "20000 사이즈의 단어장을 만든다. 대부분의 모델은 이 단어장을 기반으로 학습을 진행했다.\n",
    "truncating='post'로 설정한 이유는 15보다 긴 문장을 걸러내기 위해서이다."
   ]
  },
  {
   "cell_type": "code",
   "execution_count": 8,
   "id": "blessed-affect",
   "metadata": {
    "scrolled": true
   },
   "outputs": [
    {
     "name": "stdout",
     "output_type": "stream",
     "text": [
      "[[  2   6 190 ...   0   0   0]\n",
      " [  2   9 542 ...   0   0   0]\n",
      " [  2  50  38 ...   0   0   0]\n",
      " ...\n",
      " [  2 310 153 ...   0   0   0]\n",
      " [  2  10 163 ...   0   0   0]\n",
      " [  2 177  15 ...   0   0   0]] <keras_preprocessing.text.Tokenizer object at 0x7f1596041090>\n"
     ]
    }
   ],
   "source": [
    "# 토큰화 할 때 텐서플로우의 Tokenizer와 pad_sequences를 사용합니다\n",
    "# 더 잘 알기 위해 아래 문서들을 참고하면 좋습니다\n",
    "# https://www.tensorflow.org/api_docs/python/tf/keras/preprocessing/text/Tokenizer\n",
    "# https://www.tensorflow.org/api_docs/python/tf/keras/preprocessing/sequence/pad_sequences\n",
    "def tokenize(corpus):\n",
    "    # 20000단어를 기억할 수 있는 tokenizer를 만들겁니다\n",
    "    # 우리는 이미 문장을 정제했으니 filters가 필요없어요\n",
    "    # 20000단어에 포함되지 못한 단어는 '<unk>'로 바꿀거에요\n",
    "    tokenizer = tf.keras.preprocessing.text.Tokenizer(\n",
    "        num_words=20000, \n",
    "        filters=' ',\n",
    "        oov_token=\"<unk>\"\n",
    "    )\n",
    "    # corpus를 이용해 tokenizer 내부의 단어장을 완성합니다\n",
    "    tokenizer.fit_on_texts(corpus)\n",
    "    # 준비한 tokenizer를 이용해 corpus를 Tensor로 변환합니다\n",
    "    tensor = tokenizer.texts_to_sequences(corpus)   \n",
    "    # 입력 데이터의 시퀀스 길이를 일정하게 맞춰줍니다\n",
    "    # 만약 시퀀스가 짧다면 문장 뒤에 패딩을 붙여 길이를 맞춰줍니다.\n",
    "    # 문장 앞에 패딩을 붙여 길이를 맞추고 싶다면 padding='pre'를 사용합니다\n",
    "    tensor = tf.keras.preprocessing.sequence.pad_sequences(tensor, padding='post', maxlen=15, truncating='post')  \n",
    "    \n",
    "    print(tensor,tokenizer)\n",
    "    return tensor, tokenizer\n",
    "\n",
    "tensor, tokenizer = tokenize(lyric_corpus)"
   ]
  },
  {
   "cell_type": "code",
   "execution_count": 208,
   "id": "parliamentary-commerce",
   "metadata": {},
   "outputs": [
    {
     "name": "stdout",
     "output_type": "stream",
     "text": [
      "1 : <unk>\n",
      "2 : <start>\n",
      "3 : <end>\n",
      "4 : ,\n",
      "5 : the\n"
     ]
    }
   ],
   "source": [
    "for idx in tokenizer.index_word:\n",
    "    print(idx, \":\", tokenizer.index_word[idx])\n",
    "\n",
    "    if idx >= 5: break"
   ]
  },
  {
   "cell_type": "code",
   "execution_count": 209,
   "id": "minor-recorder",
   "metadata": {},
   "outputs": [
    {
     "name": "stdout",
     "output_type": "stream",
     "text": [
      "[  2   6 190   7 899   4 101   6  72  50   3   0   0   0]\n",
      "[  2   9 542   7   4  43  43   3   0   0   0   0   0   0]\n",
      "[   2   50   38  100 9732    3    0    0    0    0    0    0    0    0]\n",
      "[   2  142  274   77  104 3381    9  318    7   50    3    0    0    0]\n",
      "[   2    8   49   18   59   94   72  145    4    9 2377   13   12   87]\n",
      "[   2    7  177   15 1634   13   50    4    8    7 1689  177   15  443]\n",
      "[    2    58    17 11556    79    21  1298    17   709    28    11     3\n",
      "     0     0]\n",
      "[   2    6   51   35  190   13  899  899   28   11   12 1298   17  899]\n",
      "[   2   12 1298   17  899   28    7    3    0    0    0    0    0    0]\n",
      "[   2   12 1298   17  899   28    7    3    0    0    0    0    0    0]\n",
      "[   2   12 1298   17  899   28    7   96   11    4  369   17   21 1252]\n",
      "[  2  50  21 273  26  12 989  43 250  13  26  50   3   0]\n"
     ]
    }
   ],
   "source": [
    "for i, x in enumerate(tensor):\n",
    "    print(x)\n",
    "    if i>10: break"
   ]
  },
  {
   "cell_type": "markdown",
   "id": "private-decimal",
   "metadata": {},
   "source": [
    "마지막 토큰이 end나 pad가 아니라면 긴 문장이므로, 제거한다."
   ]
  },
  {
   "cell_type": "code",
   "execution_count": 9,
   "id": "blank-corrections",
   "metadata": {},
   "outputs": [
    {
     "name": "stdout",
     "output_type": "stream",
     "text": [
      "(154437, 15)\n",
      "[  2   6 190   7 899   4 101   6  72  50   3   0   0   0]\n",
      "[  6 190   7 899   4 101   6  72  50   3   0   0   0   0]\n"
     ]
    }
   ],
   "source": [
    "# tensor에서 마지막 토큰을 잘라내서 소스 문장을 생성합니다\n",
    "# 마지막 토큰은 <end>가 아니라 <pad>일 가능성이 높습니다.\n",
    "# 마지막 토큰이 0이나 3이 아니라면 maxlen보다 긴 것입니다. (truncating = 'post')\n",
    "# 따라서 마지막 토큰이 0이거나 3인것만 선택합니다.\n",
    "short_tensor = np.array([x for i, x in  enumerate(tensor) if x[-1]==0 or x[-1]==3])\n",
    "print(short_tensor.shape)\n",
    "src_input = short_tensor[:,:-1]  \n",
    "# tensor에서 <start>를 잘라내서 타겟 문장을 생성합니다.\n",
    "tgt_input = short_tensor[:,1:]    \n",
    "\n",
    "print(src_input[0])\n",
    "print(tgt_input[0])"
   ]
  },
  {
   "cell_type": "code",
   "execution_count": 10,
   "id": "specified-australia",
   "metadata": {},
   "outputs": [
    {
     "name": "stdout",
     "output_type": "stream",
     "text": [
      "123549 30888\n"
     ]
    }
   ],
   "source": [
    "from sklearn.model_selection import train_test_split\n",
    "\n",
    "\n",
    "enc_train, enc_val, dec_train, dec_val = train_test_split(src_input, tgt_input, test_size=0.2, random_state=36)\n",
    "print(len(enc_train), len(enc_val))"
   ]
  },
  {
   "cell_type": "code",
   "execution_count": 16,
   "id": "compatible-welsh",
   "metadata": {},
   "outputs": [
    {
     "data": {
      "text/plain": [
       "<BatchDataset shapes: ((256, 14), (256, 14)), types: (tf.int32, tf.int32)>"
      ]
     },
     "execution_count": 16,
     "metadata": {},
     "output_type": "execute_result"
    }
   ],
   "source": [
    "BUFFER_SIZE = len(enc_train)\n",
    "BATCH_SIZE = 256\n",
    "steps_per_epoch = len(enc_train) // BATCH_SIZE\n",
    "\n",
    " # tokenizer가 구축한 단어사전 내 20000개와, 여기 포함되지 않은 0:<pad>를 포함하여 20001개\n",
    "VOCAB_SIZE = tokenizer.num_words + 1   \n",
    "\n",
    "# 준비한 데이터 소스로부터 데이터셋을 만듭니다\n",
    "# 데이터셋에 대해서는 아래 문서를 참고하세요\n",
    "# 자세히 알아둘수록 도움이 많이 되는 중요한 문서입니다\n",
    "# https://www.tensorflow.org/api_docs/python/tf/data/Dataset\n",
    "dataset = tf.data.Dataset.from_tensor_slices((enc_train, dec_train))\n",
    "dataset = dataset.shuffle(BUFFER_SIZE)\n",
    "dataset = dataset.batch(BATCH_SIZE, drop_remainder=True)\n",
    "dataset"
   ]
  },
  {
   "cell_type": "code",
   "execution_count": 17,
   "id": "allied-bumper",
   "metadata": {},
   "outputs": [],
   "source": [
    "class TextGenerator(tf.keras.Model):\n",
    "    def __init__(self, vocab_size, embedding_size, hidden_size):\n",
    "        super().__init__()\n",
    "        \n",
    "        self.embedding = tf.keras.layers.Embedding(vocab_size, embedding_size)\n",
    "        self.rnn_1 = tf.keras.layers.LSTM(hidden_size, return_sequences=True)\n",
    "        self.rnn_2 = tf.keras.layers.LSTM(hidden_size, return_sequences=True)\n",
    "        self.linear = tf.keras.layers.Dense(vocab_size)\n",
    "        \n",
    "    def call(self, x):\n",
    "        out = self.embedding(x)\n",
    "        out = self.rnn_1(out)\n",
    "        out = self.rnn_2(out)\n",
    "        out = self.linear(out)\n",
    "        \n",
    "        return out"
   ]
  },
  {
   "cell_type": "markdown",
   "id": "responsible-standing",
   "metadata": {},
   "source": [
    "학습을 진행한다. validation data와 metric를 지정하지 않아서 logging이 제대로 되지 않았다."
   ]
  },
  {
   "cell_type": "code",
   "execution_count": 214,
   "id": "operating-institute",
   "metadata": {},
   "outputs": [],
   "source": [
    "# optimizer와 loss등은 차차 배웁니다\n",
    "# 혹시 미리 알고 싶다면 아래 문서를 참고하세요\n",
    "# https://www.tensorflow.org/api_docs/python/tf/keras/optimizers\n",
    "# https://www.tensorflow.org/api_docs/python/tf/keras/losses\n",
    "# 양이 상당히 많은 편이니 지금 보는 것은 추천하지 않습니다\n",
    "\n",
    "embedding_size = 256\n",
    "hidden_size = 1024\n",
    "model = TextGenerator(tokenizer.num_words + 1, embedding_size , hidden_size)\n",
    "\n",
    "optimizer = tf.keras.optimizers.Adam()\n",
    "loss = tf.keras.losses.SparseCategoricalCrossentropy(\n",
    "    from_logits=True,\n",
    "    reduction='none'\n",
    ")\n",
    "\n",
    "model.compile(loss=loss, optimizer=optimizer)"
   ]
  },
  {
   "cell_type": "code",
   "execution_count": 120,
   "id": "appointed-panel",
   "metadata": {},
   "outputs": [
    {
     "name": "stdout",
     "output_type": "stream",
     "text": [
      "Epoch 1/10\n",
      "482/482 [==============================] - 203s 411ms/step - loss: 4.2561\n",
      "Epoch 2/10\n",
      "482/482 [==============================] - 199s 412ms/step - loss: 3.1333\n",
      "Epoch 3/10\n",
      "482/482 [==============================] - 200s 415ms/step - loss: 2.9649\n",
      "Epoch 4/10\n",
      "482/482 [==============================] - 202s 418ms/step - loss: 2.8370\n",
      "Epoch 5/10\n",
      "482/482 [==============================] - 202s 418ms/step - loss: 2.7317\n",
      "Epoch 6/10\n",
      "482/482 [==============================] - 201s 417ms/step - loss: 2.6301\n",
      "Epoch 7/10\n",
      "482/482 [==============================] - 201s 417ms/step - loss: 2.5398\n",
      "Epoch 8/10\n",
      "482/482 [==============================] - 201s 416ms/step - loss: 2.4646\n",
      "Epoch 9/10\n",
      "482/482 [==============================] - 201s 416ms/step - loss: 2.3819\n",
      "Epoch 10/10\n",
      "482/482 [==============================] - 201s 416ms/step - loss: 2.3097\n"
     ]
    },
    {
     "data": {
      "text/plain": [
       "<tensorflow.python.keras.callbacks.History at 0x7f0500044350>"
      ]
     },
     "execution_count": 120,
     "metadata": {},
     "output_type": "execute_result"
    }
   ],
   "source": [
    "model.fit(dataset, epochs=10)"
   ]
  },
  {
   "cell_type": "code",
   "execution_count": 12,
   "id": "funny-lotus",
   "metadata": {},
   "outputs": [
    {
     "data": {
      "text/plain": [
       "<BatchDataset shapes: ((128, 14), (128, 14)), types: (tf.int32, tf.int32)>"
      ]
     },
     "execution_count": 12,
     "metadata": {},
     "output_type": "execute_result"
    }
   ],
   "source": [
    "BUFFER_SIZE = len(enc_train)\n",
    "BATCH_SIZE = 128\n",
    "steps_per_epoch = len(enc_train) // BATCH_SIZE\n",
    "\n",
    " # tokenizer가 구축한 단어사전 내 20000개와, 여기 포함되지 않은 0:<pad>를 포함하여 20001개\n",
    "VOCAB_SIZE = tokenizer.num_words + 1   \n",
    "\n",
    "# 준비한 데이터 소스로부터 데이터셋을 만듭니다\n",
    "# 데이터셋에 대해서는 아래 문서를 참고하세요\n",
    "# 자세히 알아둘수록 도움이 많이 되는 중요한 문서입니다\n",
    "# https://www.tensorflow.org/api_docs/python/tf/data/Dataset\n",
    "dataset_128 = tf.data.Dataset.from_tensor_slices((enc_train, dec_train))\n",
    "dataset_128 = dataset_128.shuffle(BUFFER_SIZE)\n",
    "dataset_128 = dataset_128.batch(BATCH_SIZE, drop_remainder=True)\n",
    "dataset_128"
   ]
  },
  {
   "cell_type": "code",
   "execution_count": 13,
   "id": "marine-pottery",
   "metadata": {},
   "outputs": [],
   "source": [
    "embedding_size = 256 + 128\n",
    "hidden_size = 1024\n",
    "model = TextGenerator(tokenizer.num_words + 1, embedding_size , hidden_size)"
   ]
  },
  {
   "cell_type": "code",
   "execution_count": 149,
   "id": "configured-accuracy",
   "metadata": {},
   "outputs": [
    {
     "name": "stdout",
     "output_type": "stream",
     "text": [
      "Epoch 1/10\n",
      "965/965 [==============================] - 236s 240ms/step - loss: 3.6370\n",
      "Epoch 2/10\n",
      "965/965 [==============================] - 235s 244ms/step - loss: 2.7836\n",
      "Epoch 3/10\n",
      "965/965 [==============================] - 237s 245ms/step - loss: 2.5102\n",
      "Epoch 4/10\n",
      "965/965 [==============================] - 237s 245ms/step - loss: 2.2566\n",
      "Epoch 5/10\n",
      "965/965 [==============================] - 237s 245ms/step - loss: 2.0428\n",
      "Epoch 6/10\n",
      "965/965 [==============================] - 237s 245ms/step - loss: 1.8585\n",
      "Epoch 7/10\n",
      "965/965 [==============================] - 237s 245ms/step - loss: 1.7056\n",
      "Epoch 8/10\n",
      "965/965 [==============================] - 237s 245ms/step - loss: 1.5683\n",
      "Epoch 9/10\n",
      "965/965 [==============================] - 236s 245ms/step - loss: 1.4466\n",
      "Epoch 10/10\n",
      "965/965 [==============================] - 236s 244ms/step - loss: 1.3430\n"
     ]
    },
    {
     "data": {
      "text/plain": [
       "<tensorflow.python.keras.callbacks.History at 0x7f048426f050>"
      ]
     },
     "execution_count": 149,
     "metadata": {},
     "output_type": "execute_result"
    }
   ],
   "source": [
    "model.compile(loss=loss, optimizer=optimizer)\n",
    "model.fit(dataset_128, epochs=10)"
   ]
  },
  {
   "cell_type": "markdown",
   "id": "discrete-dispatch",
   "metadata": {},
   "source": [
    "학습이 잘 되었다. 가중치를 저장한다."
   ]
  },
  {
   "cell_type": "code",
   "execution_count": 152,
   "id": "domestic-nickel",
   "metadata": {},
   "outputs": [],
   "source": [
    "# model.save_weights(os.getenv('HOME') + '/aiffel/lyricist/my_checkpoint')"
   ]
  },
  {
   "cell_type": "code",
   "execution_count": 191,
   "id": "japanese-finnish",
   "metadata": {},
   "outputs": [
    {
     "data": {
      "text/plain": [
       "<tensorflow.python.training.tracking.util.CheckpointLoadStatus at 0x7f215ab0cf50>"
      ]
     },
     "execution_count": 191,
     "metadata": {},
     "output_type": "execute_result"
    }
   ],
   "source": [
    "embedding_size = 256 + 128\n",
    "hidden_size = 1024\n",
    "model = TextGenerator(tokenizer.num_words + 1, embedding_size , hidden_size)\n",
    "model.load_weights(os.getenv('HOME') + '/aiffel/lyricist/my_checkpoint')"
   ]
  },
  {
   "cell_type": "code",
   "execution_count": 193,
   "id": "after-challenge",
   "metadata": {},
   "outputs": [],
   "source": [
    "lyricist = model"
   ]
  },
  {
   "cell_type": "code",
   "execution_count": 216,
   "id": "speaking-jonathan",
   "metadata": {},
   "outputs": [
    {
     "name": "stdout",
     "output_type": "stream",
     "text": [
      "232/232 [==============================] - 18s 73ms/step - loss: 1.6236\n"
     ]
    },
    {
     "data": {
      "text/plain": [
       "1.6247577667236328"
      ]
     },
     "execution_count": 216,
     "metadata": {},
     "output_type": "execute_result"
    }
   ],
   "source": [
    "lyricist.compile(loss=loss, optimizer=optimizer)\n",
    "lyricist.evaluate(val_set)"
   ]
  },
  {
   "cell_type": "markdown",
   "id": "capable-button",
   "metadata": {},
   "source": [
    "## 1.62의 loss를 얻었다. 모델을 시험해보자"
   ]
  },
  {
   "cell_type": "code",
   "execution_count": 194,
   "id": "progressive-honor",
   "metadata": {},
   "outputs": [
    {
     "data": {
      "text/plain": [
       "'<start> i love you <end> '"
      ]
     },
     "execution_count": 194,
     "metadata": {},
     "output_type": "execute_result"
    }
   ],
   "source": [
    "generate_text(lyricist, tokenizer, init_sentence=\"<start> i love\", max_len=20)"
   ]
  },
  {
   "cell_type": "code",
   "execution_count": 195,
   "id": "double-folks",
   "metadata": {},
   "outputs": [
    {
     "data": {
      "text/plain": [
       "'<start> what can i do for you ? <end> '"
      ]
     },
     "execution_count": 195,
     "metadata": {},
     "output_type": "execute_result"
    }
   ],
   "source": [
    "generate_text(lyricist, tokenizer, init_sentence=\"<start> what can i do\", max_len=20)"
   ]
  },
  {
   "cell_type": "code",
   "execution_count": 222,
   "id": "valuable-giant",
   "metadata": {},
   "outputs": [
    {
     "data": {
      "text/plain": [
       "'<start> golden tone <end> '"
      ]
     },
     "execution_count": 222,
     "metadata": {},
     "output_type": "execute_result"
    }
   ],
   "source": [
    "generate_text(lyricist, tokenizer, init_sentence=\"<start> golden\", max_len=20)"
   ]
  },
  {
   "cell_type": "code",
   "execution_count": 197,
   "id": "handy-proceeding",
   "metadata": {},
   "outputs": [
    {
     "data": {
      "text/plain": [
       "'<start> kiss you taste you all night <end> '"
      ]
     },
     "execution_count": 197,
     "metadata": {},
     "output_type": "execute_result"
    }
   ],
   "source": [
    "generate_text(lyricist, tokenizer, init_sentence=\"<start> kiss you\", max_len=20)"
   ]
  },
  {
   "cell_type": "code",
   "execution_count": 221,
   "id": "frozen-series",
   "metadata": {},
   "outputs": [
    {
     "data": {
      "text/plain": [
       "'<start> satisfy the world <end> '"
      ]
     },
     "execution_count": 221,
     "metadata": {},
     "output_type": "execute_result"
    }
   ],
   "source": [
    "generate_text(lyricist, tokenizer, init_sentence=\"<start> satisfy\", max_len=20)"
   ]
  },
  {
   "cell_type": "code",
   "execution_count": 199,
   "id": "metallic-footage",
   "metadata": {},
   "outputs": [
    {
     "data": {
      "text/plain": [
       "\"<start> don' t you know that you' re toxic ? <end> \""
      ]
     },
     "execution_count": 199,
     "metadata": {},
     "output_type": "execute_result"
    }
   ],
   "source": [
    "generate_text(lyricist, tokenizer, init_sentence=\"<start> don'\", max_len=20)"
   ]
  },
  {
   "cell_type": "code",
   "execution_count": 173,
   "id": "embedded-academy",
   "metadata": {},
   "outputs": [
    {
     "data": {
      "text/plain": [
       "\"<start> when we' re kissing <end> \""
      ]
     },
     "execution_count": 173,
     "metadata": {},
     "output_type": "execute_result"
    }
   ],
   "source": [
    "generate_text(lyricist, tokenizer, init_sentence=\"<start> when we' re \", max_len=20)"
   ]
  },
  {
   "cell_type": "code",
   "execution_count": 230,
   "id": "opposed-drawing",
   "metadata": {},
   "outputs": [
    {
     "data": {
      "text/plain": [
       "'<start> apple rolls everywhere <end> '"
      ]
     },
     "execution_count": 230,
     "metadata": {},
     "output_type": "execute_result"
    }
   ],
   "source": [
    "generate_text(lyricist, tokenizer, init_sentence=\"<start> apple rolls \", max_len=20)"
   ]
  },
  {
   "cell_type": "code",
   "execution_count": 218,
   "id": "fatal-france",
   "metadata": {},
   "outputs": [
    {
     "data": {
      "text/plain": [
       "'<start> sweet revenge <end> '"
      ]
     },
     "execution_count": 218,
     "metadata": {},
     "output_type": "execute_result"
    }
   ],
   "source": [
    "generate_text(lyricist, tokenizer, init_sentence=\"<start> sweet\", max_len=20)"
   ]
  },
  {
   "cell_type": "code",
   "execution_count": 219,
   "id": "assumed-consciousness",
   "metadata": {},
   "outputs": [
    {
     "data": {
      "text/plain": [
       "'<start> await the night , <end> '"
      ]
     },
     "execution_count": 219,
     "metadata": {},
     "output_type": "execute_result"
    }
   ],
   "source": [
    "generate_text(lyricist, tokenizer, init_sentence=\"<start> await\", max_len=20)"
   ]
  },
  {
   "cell_type": "code",
   "execution_count": 224,
   "id": "tired-impact",
   "metadata": {},
   "outputs": [
    {
     "data": {
      "text/plain": [
       "'<start> be crazy , oh <end> '"
      ]
     },
     "execution_count": 224,
     "metadata": {},
     "output_type": "execute_result"
    }
   ],
   "source": [
    "generate_text(lyricist, tokenizer, init_sentence=\"<start> be crazy\", max_len=20)"
   ]
  },
  {
   "cell_type": "code",
   "execution_count": 225,
   "id": "finished-companion",
   "metadata": {},
   "outputs": [
    {
     "data": {
      "text/plain": [
       "'<start> steal your heart to me <end> '"
      ]
     },
     "execution_count": 225,
     "metadata": {},
     "output_type": "execute_result"
    }
   ],
   "source": [
    "generate_text(lyricist, tokenizer, init_sentence=\"<start> steal your heart \", max_len=20)"
   ]
  },
  {
   "cell_type": "code",
   "execution_count": 226,
   "id": "medieval-lloyd",
   "metadata": {},
   "outputs": [
    {
     "data": {
      "text/plain": [
       "'<start> in the forest of the night <end> '"
      ]
     },
     "execution_count": 226,
     "metadata": {},
     "output_type": "execute_result"
    }
   ],
   "source": [
    "generate_text(lyricist, tokenizer, init_sentence=\"<start> in the forest \", max_len=20)"
   ]
  },
  {
   "cell_type": "code",
   "execution_count": 231,
   "id": "communist-decision",
   "metadata": {},
   "outputs": [
    {
     "data": {
      "text/plain": [
       "\"<start> fallin' , fallin' , fallin' in love <end> \""
      ]
     },
     "execution_count": 231,
     "metadata": {},
     "output_type": "execute_result"
    }
   ],
   "source": [
    "generate_text(lyricist, tokenizer, init_sentence=\"<start> fallin'\", max_len=20)"
   ]
  },
  {
   "cell_type": "markdown",
   "id": "unlimited-bahamas",
   "metadata": {},
   "source": [
    "# 다른 모델 탐색 (실패의 기록)"
   ]
  },
  {
   "cell_type": "markdown",
   "id": "wireless-least",
   "metadata": {},
   "source": [
    "가사가 좀 밋밋한 것 같다. 수동으로 하이퍼파라미터를 조정해본다"
   ]
  },
  {
   "cell_type": "code",
   "execution_count": 19,
   "id": "illegal-merchant",
   "metadata": {},
   "outputs": [
    {
     "data": {
      "text/plain": [
       "<BatchDataset shapes: ((128, 14), (128, 14)), types: (tf.int32, tf.int32)>"
      ]
     },
     "execution_count": 19,
     "metadata": {},
     "output_type": "execute_result"
    }
   ],
   "source": [
    "# 중복이 있는 train set\n",
    "BUFFER_SIZE = len(enc_train)\n",
    "BATCH_SIZE = 128\n",
    "steps_per_epoch = len(enc_train) // BATCH_SIZE\n",
    "\n",
    " # tokenizer가 구축한 단어사전 내 20000개와, 여기 포함되지 않은 0:<pad>를 포함하여 20001개\n",
    "VOCAB_SIZE = tokenizer.num_words + 1   \n",
    "\n",
    "# 준비한 데이터 소스로부터 데이터셋을 만듭니다\n",
    "# 데이터셋에 대해서는 아래 문서를 참고하세요\n",
    "# 자세히 알아둘수록 도움이 많이 되는 중요한 문서입니다\n",
    "# https://www.tensorflow.org/api_docs/python/tf/data/Dataset\n",
    "dataset_128 = tf.data.Dataset.from_tensor_slices((enc_train, dec_train))\n",
    "dataset_128 = dataset_128.shuffle(BUFFER_SIZE)\n",
    "dataset_128 = dataset_128.batch(BATCH_SIZE, drop_remainder=True)\n",
    "dataset_128"
   ]
  },
  {
   "cell_type": "code",
   "execution_count": 22,
   "id": "irish-cocktail",
   "metadata": {},
   "outputs": [
    {
     "data": {
      "text/plain": [
       "<BatchDataset shapes: ((128, 14), (128, 14)), types: (tf.int32, tf.int32)>"
      ]
     },
     "execution_count": 22,
     "metadata": {},
     "output_type": "execute_result"
    }
   ],
   "source": [
    "# 중복이 있는 validation set\n",
    "BUFFER_SIZE = len(enc_val)\n",
    "BATCH_SIZE = 128\n",
    "steps_per_epoch = len(enc_val) // BATCH_SIZE\n",
    "\n",
    " # tokenizer가 구축한 단어사전 내 20000개와, 여기 포함되지 않은 0:<pad>를 포함하여 20001개\n",
    "VOCAB_SIZE = tokenizer.num_words + 1   \n",
    "\n",
    "# 준비한 데이터 소스로부터 데이터셋을 만듭니다\n",
    "# 데이터셋에 대해서는 아래 문서를 참고하세요\n",
    "# 자세히 알아둘수록 도움이 많이 되는 중요한 문서입니다\n",
    "# https://www.tensorflow.org/api_docs/python/tf/data/Dataset\n",
    "dataset_val = tf.data.Dataset.from_tensor_slices((enc_val, dec_val))\n",
    "dataset_val = dataset_val.shuffle(BUFFER_SIZE)\n",
    "dataset_val = dataset_val.batch(BATCH_SIZE, drop_remainder=True)\n",
    "dataset_val"
   ]
  },
  {
   "cell_type": "markdown",
   "id": "consecutive-lewis",
   "metadata": {},
   "source": [
    "이때부터 val_loss를 모니터하고 Early stopping을 시작했다"
   ]
  },
  {
   "cell_type": "code",
   "execution_count": 22,
   "id": "flexible-microphone",
   "metadata": {},
   "outputs": [],
   "source": [
    "callbacks = [tf.keras.callbacks.EarlyStopping(monitor='val_loss', mode='min'),\n",
    "             tf.keras.callbacks.ModelCheckpoint(filepath='best_model.h5',\n",
    "                                             monitor='val_loss',\n",
    "                                             save_best_only=True)]"
   ]
  },
  {
   "cell_type": "code",
   "execution_count": 65,
   "id": "inappropriate-scottish",
   "metadata": {},
   "outputs": [],
   "source": [
    "embedding_size = 64\n",
    "hidden_size = 96 \n",
    "model = TextGenerator(tokenizer.num_words + 1, embedding_size , hidden_size)"
   ]
  },
  {
   "cell_type": "code",
   "execution_count": 66,
   "id": "attempted-launch",
   "metadata": {},
   "outputs": [
    {
     "name": "stdout",
     "output_type": "stream",
     "text": [
      "Epoch 1/10\n",
      "965/965 [==============================] - 47s 47ms/step - loss: 5.3092 - val_loss: 3.6969\n",
      "Epoch 2/10\n",
      "965/965 [==============================] - 45s 46ms/step - loss: 3.6281 - val_loss: 3.5064\n",
      "Epoch 3/10\n",
      "965/965 [==============================] - 45s 46ms/step - loss: 3.4790 - val_loss: 3.4183\n",
      "Epoch 4/10\n",
      "965/965 [==============================] - 45s 46ms/step - loss: 3.3804 - val_loss: 3.3485\n",
      "Epoch 5/10\n",
      "965/965 [==============================] - 45s 46ms/step - loss: 3.3094 - val_loss: 3.2877\n",
      "Epoch 6/10\n",
      "965/965 [==============================] - 45s 46ms/step - loss: 3.2520 - val_loss: 3.2419\n",
      "Epoch 7/10\n",
      "965/965 [==============================] - 45s 46ms/step - loss: 3.1951 - val_loss: 3.1953\n",
      "Epoch 8/10\n",
      "965/965 [==============================] - 45s 46ms/step - loss: 3.1381 - val_loss: 3.1542\n",
      "Epoch 9/10\n",
      "965/965 [==============================] - 45s 46ms/step - loss: 3.1043 - val_loss: 3.1154\n",
      "Epoch 10/10\n",
      "965/965 [==============================] - 45s 46ms/step - loss: 3.0527 - val_loss: 3.0805\n"
     ]
    },
    {
     "data": {
      "text/plain": [
       "<tensorflow.python.keras.callbacks.History at 0x7f9851163050>"
      ]
     },
     "execution_count": 66,
     "metadata": {},
     "output_type": "execute_result"
    }
   ],
   "source": [
    "optimizer = tf.keras.optimizers.Adam(lr=0.0006)\n",
    "loss = tf.keras.losses.SparseCategoricalCrossentropy(\n",
    "    from_logits=True,\n",
    "    reduction='none'\n",
    ")\n",
    "\n",
    "\n",
    "model.compile(loss=loss, optimizer=optimizer)\n",
    "model.fit(dataset_128, validation_data=dataset_val, epochs=10, callbacks=callbacks)"
   ]
  },
  {
   "cell_type": "markdown",
   "id": "meaning-navigation",
   "metadata": {},
   "source": [
    "과적합은 해소되었다. 데이터를 추가할 수 없으므로 모델이 표현할 수 있는 규모를 조금만 늘려보자"
   ]
  },
  {
   "cell_type": "code",
   "execution_count": 67,
   "id": "fuzzy-wrong",
   "metadata": {},
   "outputs": [],
   "source": [
    "callbacks = [tf.keras.callbacks.EarlyStopping(monitor='val_loss', mode='min'),\n",
    "             tf.keras.callbacks.ModelCheckpoint(filepath='best_model_80_120.h5',\n",
    "                                             monitor='val_loss',\n",
    "                                             save_best_only=True)]"
   ]
  },
  {
   "cell_type": "code",
   "execution_count": 70,
   "id": "surgical-navigation",
   "metadata": {},
   "outputs": [
    {
     "name": "stdout",
     "output_type": "stream",
     "text": [
      "Epoch 1/10\n",
      "965/965 [==============================] - 52s 51ms/step - loss: 4.4529 - val_loss: 3.4989\n",
      "Epoch 2/10\n",
      "965/965 [==============================] - 49s 51ms/step - loss: 3.4455 - val_loss: 3.3248\n",
      "Epoch 3/10\n",
      "965/965 [==============================] - 49s 51ms/step - loss: 3.2575 - val_loss: 3.1439\n",
      "Epoch 4/10\n",
      "965/965 [==============================] - 49s 51ms/step - loss: 3.0777 - val_loss: 3.0289\n",
      "Epoch 5/10\n",
      "965/965 [==============================] - 50s 51ms/step - loss: 2.9535 - val_loss: 2.9528\n",
      "Epoch 6/10\n",
      "965/965 [==============================] - 49s 51ms/step - loss: 2.8602 - val_loss: 2.8880\n",
      "Epoch 7/10\n",
      "965/965 [==============================] - 49s 51ms/step - loss: 2.7780 - val_loss: 2.8398\n",
      "Epoch 8/10\n",
      "965/965 [==============================] - 49s 51ms/step - loss: 2.6948 - val_loss: 2.7998\n",
      "Epoch 9/10\n",
      "965/965 [==============================] - 49s 51ms/step - loss: 2.6215 - val_loss: 2.7683\n",
      "Epoch 10/10\n",
      "965/965 [==============================] - 49s 51ms/step - loss: 2.5646 - val_loss: 2.7440\n"
     ]
    },
    {
     "data": {
      "text/plain": [
       "<tensorflow.python.keras.callbacks.History at 0x7f97d8241890>"
      ]
     },
     "execution_count": 70,
     "metadata": {},
     "output_type": "execute_result"
    }
   ],
   "source": [
    "embedding_size = 80\n",
    "hidden_size = 120\n",
    "model = TextGenerator(tokenizer.num_words + 1, embedding_size , hidden_size)\n",
    "optimizer = tf.keras.optimizers.Adam(lr=0.0024)\n",
    "loss = tf.keras.losses.SparseCategoricalCrossentropy(\n",
    "    from_logits=True,\n",
    "    reduction='none'\n",
    ")\n",
    "\n",
    "\n",
    "model.compile(loss=loss, optimizer=optimizer)\n",
    "model.fit(dataset_128, validation_data=dataset_val, epochs=10, callbacks=callbacks)"
   ]
  },
  {
   "cell_type": "code",
   "execution_count": 71,
   "id": "twenty-integer",
   "metadata": {},
   "outputs": [
    {
     "name": "stdout",
     "output_type": "stream",
     "text": [
      "Epoch 1/10\n",
      "965/965 [==============================] - 63s 63ms/step - loss: 4.3710 - val_loss: 3.4930\n",
      "Epoch 2/10\n",
      "965/965 [==============================] - 61s 63ms/step - loss: 3.4257 - val_loss: 3.2751\n",
      "Epoch 3/10\n",
      "965/965 [==============================] - 61s 63ms/step - loss: 3.2091 - val_loss: 3.0994\n",
      "Epoch 4/10\n",
      "965/965 [==============================] - 61s 63ms/step - loss: 3.0307 - val_loss: 2.9856\n",
      "Epoch 5/10\n",
      "965/965 [==============================] - 61s 63ms/step - loss: 2.9016 - val_loss: 2.9067\n",
      "Epoch 6/10\n",
      "965/965 [==============================] - 61s 63ms/step - loss: 2.8047 - val_loss: 2.8494\n",
      "Epoch 7/10\n",
      "965/965 [==============================] - 61s 63ms/step - loss: 2.7163 - val_loss: 2.8005\n",
      "Epoch 8/10\n",
      "965/965 [==============================] - 61s 63ms/step - loss: 2.6371 - val_loss: 2.7647\n",
      "Epoch 9/10\n",
      "965/965 [==============================] - 61s 63ms/step - loss: 2.5559 - val_loss: 2.7322\n",
      "Epoch 10/10\n",
      "965/965 [==============================] - 61s 63ms/step - loss: 2.4784 - val_loss: 2.7087\n"
     ]
    },
    {
     "data": {
      "text/plain": [
       "<tensorflow.python.keras.callbacks.History at 0x7f97c81534d0>"
      ]
     },
     "execution_count": 71,
     "metadata": {},
     "output_type": "execute_result"
    }
   ],
   "source": [
    "callbacks = [tf.keras.callbacks.EarlyStopping(monitor='val_loss', mode='min'),\n",
    "             tf.keras.callbacks.ModelCheckpoint(filepath='best_model_100_150.h5',\n",
    "                                             monitor='val_loss',\n",
    "                                             save_best_only=True)]\n",
    "embedding_size = 100\n",
    "hidden_size = 150\n",
    "model = TextGenerator(tokenizer.num_words + 1, embedding_size , hidden_size)\n",
    "optimizer = tf.keras.optimizers.Adam(lr=0.0024)\n",
    "loss = tf.keras.losses.SparseCategoricalCrossentropy(\n",
    "    from_logits=True,\n",
    "    reduction='none'\n",
    ")\n",
    "\n",
    "\n",
    "model.compile(loss=loss, optimizer=optimizer)\n",
    "model.fit(dataset_128, validation_data=dataset_val, epochs=10, callbacks=callbacks)"
   ]
  },
  {
   "cell_type": "code",
   "execution_count": 74,
   "id": "greatest-prior",
   "metadata": {},
   "outputs": [
    {
     "name": "stdout",
     "output_type": "stream",
     "text": [
      "Epoch 1/10\n",
      "965/965 [==============================] - 113s 115ms/step - loss: 3.6884 - val_loss: 2.9519\n",
      "Epoch 2/10\n",
      "965/965 [==============================] - 111s 115ms/step - loss: 2.8534 - val_loss: 2.8140\n",
      "Epoch 3/10\n",
      "965/965 [==============================] - 111s 115ms/step - loss: 2.6506 - val_loss: 2.7357\n",
      "Epoch 4/10\n",
      "965/965 [==============================] - 111s 115ms/step - loss: 2.5014 - val_loss: 2.6888\n",
      "Epoch 5/10\n",
      "965/965 [==============================] - 111s 115ms/step - loss: 2.3753 - val_loss: 2.6614\n",
      "Epoch 6/10\n",
      "965/965 [==============================] - 111s 115ms/step - loss: 2.2660 - val_loss: 2.6407\n",
      "Epoch 7/10\n",
      "965/965 [==============================] - 111s 115ms/step - loss: 2.1689 - val_loss: 2.6423\n"
     ]
    },
    {
     "data": {
      "text/plain": [
       "<tensorflow.python.keras.callbacks.History at 0x7f97c04ae490>"
      ]
     },
     "execution_count": 74,
     "metadata": {},
     "output_type": "execute_result"
    }
   ],
   "source": [
    "callbacks = [tf.keras.callbacks.EarlyStopping(monitor='val_loss', mode='min'),\n",
    "             tf.keras.callbacks.ModelCheckpoint(filepath='best_model_200_400.h5',\n",
    "                                             monitor='val_loss',\n",
    "                                             save_best_only=True)]\n",
    "embedding_size = 200\n",
    "hidden_size = 400\n",
    "model = TextGenerator(tokenizer.num_words + 1, embedding_size , hidden_size)\n",
    "optimizer = tf.keras.optimizers.Adam(lr=0.0072)\n",
    "loss = tf.keras.losses.SparseCategoricalCrossentropy(\n",
    "    from_logits=True,\n",
    "    reduction='none'\n",
    ")\n",
    "\n",
    "\n",
    "model.compile(loss=loss, optimizer=optimizer)\n",
    "model.fit(dataset_128, validation_data=dataset_val, epochs=10, callbacks=callbacks)"
   ]
  },
  {
   "cell_type": "code",
   "execution_count": 109,
   "id": "expired-software",
   "metadata": {
    "scrolled": true
   },
   "outputs": [
    {
     "name": "stdout",
     "output_type": "stream",
     "text": [
      "Epoch 1/10\n",
      "965/965 [==============================] - 154s 157ms/step - loss: 4.0236 - val_loss: 3.0613\n",
      "Epoch 2/10\n",
      "965/965 [==============================] - 152s 158ms/step - loss: 2.9867 - val_loss: 2.9665\n",
      "Epoch 3/10\n",
      "965/965 [==============================] - 153s 158ms/step - loss: 2.8567 - val_loss: 2.9198\n",
      "Epoch 4/10\n",
      "262/965 [=======>......................] - ETA: 1:42 - loss: 2.7690"
     ]
    },
    {
     "ename": "KeyboardInterrupt",
     "evalue": "",
     "output_type": "error",
     "traceback": [
      "\u001b[0;31m---------------------------------------------------------------------------\u001b[0m",
      "\u001b[0;31mKeyboardInterrupt\u001b[0m                         Traceback (most recent call last)",
      "\u001b[0;32m<ipython-input-109-b7789b1e0466>\u001b[0m in \u001b[0;36m<module>\u001b[0;34m\u001b[0m\n\u001b[1;32m     14\u001b[0m \u001b[0;34m\u001b[0m\u001b[0m\n\u001b[1;32m     15\u001b[0m \u001b[0mmodel\u001b[0m\u001b[0;34m.\u001b[0m\u001b[0mcompile\u001b[0m\u001b[0;34m(\u001b[0m\u001b[0mloss\u001b[0m\u001b[0;34m=\u001b[0m\u001b[0mloss\u001b[0m\u001b[0;34m,\u001b[0m \u001b[0moptimizer\u001b[0m\u001b[0;34m=\u001b[0m\u001b[0moptimizer\u001b[0m\u001b[0;34m)\u001b[0m\u001b[0;34m\u001b[0m\u001b[0;34m\u001b[0m\u001b[0m\n\u001b[0;32m---> 16\u001b[0;31m \u001b[0mmodel\u001b[0m\u001b[0;34m.\u001b[0m\u001b[0mfit\u001b[0m\u001b[0;34m(\u001b[0m\u001b[0mdataset_128\u001b[0m\u001b[0;34m,\u001b[0m \u001b[0mvalidation_data\u001b[0m\u001b[0;34m=\u001b[0m\u001b[0mdataset_val\u001b[0m\u001b[0;34m,\u001b[0m \u001b[0mepochs\u001b[0m\u001b[0;34m=\u001b[0m\u001b[0;36m10\u001b[0m\u001b[0;34m,\u001b[0m \u001b[0mcallbacks\u001b[0m\u001b[0;34m=\u001b[0m\u001b[0mcallbacks\u001b[0m\u001b[0;34m)\u001b[0m\u001b[0;34m\u001b[0m\u001b[0;34m\u001b[0m\u001b[0m\n\u001b[0m",
      "\u001b[0;32m/opt/conda/lib/python3.7/site-packages/tensorflow/python/keras/engine/training.py\u001b[0m in \u001b[0;36mfit\u001b[0;34m(self, x, y, batch_size, epochs, verbose, callbacks, validation_split, validation_data, shuffle, class_weight, sample_weight, initial_epoch, steps_per_epoch, validation_steps, validation_batch_size, validation_freq, max_queue_size, workers, use_multiprocessing)\u001b[0m\n\u001b[1;32m   1098\u001b[0m                 _r=1):\n\u001b[1;32m   1099\u001b[0m               \u001b[0mcallbacks\u001b[0m\u001b[0;34m.\u001b[0m\u001b[0mon_train_batch_begin\u001b[0m\u001b[0;34m(\u001b[0m\u001b[0mstep\u001b[0m\u001b[0;34m)\u001b[0m\u001b[0;34m\u001b[0m\u001b[0;34m\u001b[0m\u001b[0m\n\u001b[0;32m-> 1100\u001b[0;31m               \u001b[0mtmp_logs\u001b[0m \u001b[0;34m=\u001b[0m \u001b[0mself\u001b[0m\u001b[0;34m.\u001b[0m\u001b[0mtrain_function\u001b[0m\u001b[0;34m(\u001b[0m\u001b[0miterator\u001b[0m\u001b[0;34m)\u001b[0m\u001b[0;34m\u001b[0m\u001b[0;34m\u001b[0m\u001b[0m\n\u001b[0m\u001b[1;32m   1101\u001b[0m               \u001b[0;32mif\u001b[0m \u001b[0mdata_handler\u001b[0m\u001b[0;34m.\u001b[0m\u001b[0mshould_sync\u001b[0m\u001b[0;34m:\u001b[0m\u001b[0;34m\u001b[0m\u001b[0;34m\u001b[0m\u001b[0m\n\u001b[1;32m   1102\u001b[0m                 \u001b[0mcontext\u001b[0m\u001b[0;34m.\u001b[0m\u001b[0masync_wait\u001b[0m\u001b[0;34m(\u001b[0m\u001b[0;34m)\u001b[0m\u001b[0;34m\u001b[0m\u001b[0;34m\u001b[0m\u001b[0m\n",
      "\u001b[0;32m/opt/conda/lib/python3.7/site-packages/tensorflow/python/eager/def_function.py\u001b[0m in \u001b[0;36m__call__\u001b[0;34m(self, *args, **kwds)\u001b[0m\n\u001b[1;32m    826\u001b[0m     \u001b[0mtracing_count\u001b[0m \u001b[0;34m=\u001b[0m \u001b[0mself\u001b[0m\u001b[0;34m.\u001b[0m\u001b[0mexperimental_get_tracing_count\u001b[0m\u001b[0;34m(\u001b[0m\u001b[0;34m)\u001b[0m\u001b[0;34m\u001b[0m\u001b[0;34m\u001b[0m\u001b[0m\n\u001b[1;32m    827\u001b[0m     \u001b[0;32mwith\u001b[0m \u001b[0mtrace\u001b[0m\u001b[0;34m.\u001b[0m\u001b[0mTrace\u001b[0m\u001b[0;34m(\u001b[0m\u001b[0mself\u001b[0m\u001b[0;34m.\u001b[0m\u001b[0m_name\u001b[0m\u001b[0;34m)\u001b[0m \u001b[0;32mas\u001b[0m \u001b[0mtm\u001b[0m\u001b[0;34m:\u001b[0m\u001b[0;34m\u001b[0m\u001b[0;34m\u001b[0m\u001b[0m\n\u001b[0;32m--> 828\u001b[0;31m       \u001b[0mresult\u001b[0m \u001b[0;34m=\u001b[0m \u001b[0mself\u001b[0m\u001b[0;34m.\u001b[0m\u001b[0m_call\u001b[0m\u001b[0;34m(\u001b[0m\u001b[0;34m*\u001b[0m\u001b[0margs\u001b[0m\u001b[0;34m,\u001b[0m \u001b[0;34m**\u001b[0m\u001b[0mkwds\u001b[0m\u001b[0;34m)\u001b[0m\u001b[0;34m\u001b[0m\u001b[0;34m\u001b[0m\u001b[0m\n\u001b[0m\u001b[1;32m    829\u001b[0m       \u001b[0mcompiler\u001b[0m \u001b[0;34m=\u001b[0m \u001b[0;34m\"xla\"\u001b[0m \u001b[0;32mif\u001b[0m \u001b[0mself\u001b[0m\u001b[0;34m.\u001b[0m\u001b[0m_experimental_compile\u001b[0m \u001b[0;32melse\u001b[0m \u001b[0;34m\"nonXla\"\u001b[0m\u001b[0;34m\u001b[0m\u001b[0;34m\u001b[0m\u001b[0m\n\u001b[1;32m    830\u001b[0m       \u001b[0mnew_tracing_count\u001b[0m \u001b[0;34m=\u001b[0m \u001b[0mself\u001b[0m\u001b[0;34m.\u001b[0m\u001b[0mexperimental_get_tracing_count\u001b[0m\u001b[0;34m(\u001b[0m\u001b[0;34m)\u001b[0m\u001b[0;34m\u001b[0m\u001b[0;34m\u001b[0m\u001b[0m\n",
      "\u001b[0;32m/opt/conda/lib/python3.7/site-packages/tensorflow/python/eager/def_function.py\u001b[0m in \u001b[0;36m_call\u001b[0;34m(self, *args, **kwds)\u001b[0m\n\u001b[1;32m    853\u001b[0m       \u001b[0;31m# In this case we have created variables on the first call, so we run the\u001b[0m\u001b[0;34m\u001b[0m\u001b[0;34m\u001b[0m\u001b[0;34m\u001b[0m\u001b[0m\n\u001b[1;32m    854\u001b[0m       \u001b[0;31m# defunned version which is guaranteed to never create variables.\u001b[0m\u001b[0;34m\u001b[0m\u001b[0;34m\u001b[0m\u001b[0;34m\u001b[0m\u001b[0m\n\u001b[0;32m--> 855\u001b[0;31m       \u001b[0;32mreturn\u001b[0m \u001b[0mself\u001b[0m\u001b[0;34m.\u001b[0m\u001b[0m_stateless_fn\u001b[0m\u001b[0;34m(\u001b[0m\u001b[0;34m*\u001b[0m\u001b[0margs\u001b[0m\u001b[0;34m,\u001b[0m \u001b[0;34m**\u001b[0m\u001b[0mkwds\u001b[0m\u001b[0;34m)\u001b[0m  \u001b[0;31m# pylint: disable=not-callable\u001b[0m\u001b[0;34m\u001b[0m\u001b[0;34m\u001b[0m\u001b[0m\n\u001b[0m\u001b[1;32m    856\u001b[0m     \u001b[0;32melif\u001b[0m \u001b[0mself\u001b[0m\u001b[0;34m.\u001b[0m\u001b[0m_stateful_fn\u001b[0m \u001b[0;32mis\u001b[0m \u001b[0;32mnot\u001b[0m \u001b[0;32mNone\u001b[0m\u001b[0;34m:\u001b[0m\u001b[0;34m\u001b[0m\u001b[0;34m\u001b[0m\u001b[0m\n\u001b[1;32m    857\u001b[0m       \u001b[0;31m# Release the lock early so that multiple threads can perform the call\u001b[0m\u001b[0;34m\u001b[0m\u001b[0;34m\u001b[0m\u001b[0;34m\u001b[0m\u001b[0m\n",
      "\u001b[0;32m/opt/conda/lib/python3.7/site-packages/tensorflow/python/eager/function.py\u001b[0m in \u001b[0;36m__call__\u001b[0;34m(self, *args, **kwargs)\u001b[0m\n\u001b[1;32m   2941\u001b[0m        filtered_flat_args) = self._maybe_define_function(args, kwargs)\n\u001b[1;32m   2942\u001b[0m     return graph_function._call_flat(\n\u001b[0;32m-> 2943\u001b[0;31m         filtered_flat_args, captured_inputs=graph_function.captured_inputs)  # pylint: disable=protected-access\n\u001b[0m\u001b[1;32m   2944\u001b[0m \u001b[0;34m\u001b[0m\u001b[0m\n\u001b[1;32m   2945\u001b[0m   \u001b[0;34m@\u001b[0m\u001b[0mproperty\u001b[0m\u001b[0;34m\u001b[0m\u001b[0;34m\u001b[0m\u001b[0m\n",
      "\u001b[0;32m/opt/conda/lib/python3.7/site-packages/tensorflow/python/eager/function.py\u001b[0m in \u001b[0;36m_call_flat\u001b[0;34m(self, args, captured_inputs, cancellation_manager)\u001b[0m\n\u001b[1;32m   1917\u001b[0m       \u001b[0;31m# No tape is watching; skip to running the function.\u001b[0m\u001b[0;34m\u001b[0m\u001b[0;34m\u001b[0m\u001b[0;34m\u001b[0m\u001b[0m\n\u001b[1;32m   1918\u001b[0m       return self._build_call_outputs(self._inference_function.call(\n\u001b[0;32m-> 1919\u001b[0;31m           ctx, args, cancellation_manager=cancellation_manager))\n\u001b[0m\u001b[1;32m   1920\u001b[0m     forward_backward = self._select_forward_and_backward_functions(\n\u001b[1;32m   1921\u001b[0m         \u001b[0margs\u001b[0m\u001b[0;34m,\u001b[0m\u001b[0;34m\u001b[0m\u001b[0;34m\u001b[0m\u001b[0m\n",
      "\u001b[0;32m/opt/conda/lib/python3.7/site-packages/tensorflow/python/eager/function.py\u001b[0m in \u001b[0;36mcall\u001b[0;34m(self, ctx, args, cancellation_manager)\u001b[0m\n\u001b[1;32m    558\u001b[0m               \u001b[0minputs\u001b[0m\u001b[0;34m=\u001b[0m\u001b[0margs\u001b[0m\u001b[0;34m,\u001b[0m\u001b[0;34m\u001b[0m\u001b[0;34m\u001b[0m\u001b[0m\n\u001b[1;32m    559\u001b[0m               \u001b[0mattrs\u001b[0m\u001b[0;34m=\u001b[0m\u001b[0mattrs\u001b[0m\u001b[0;34m,\u001b[0m\u001b[0;34m\u001b[0m\u001b[0;34m\u001b[0m\u001b[0m\n\u001b[0;32m--> 560\u001b[0;31m               ctx=ctx)\n\u001b[0m\u001b[1;32m    561\u001b[0m         \u001b[0;32melse\u001b[0m\u001b[0;34m:\u001b[0m\u001b[0;34m\u001b[0m\u001b[0;34m\u001b[0m\u001b[0m\n\u001b[1;32m    562\u001b[0m           outputs = execute.execute_with_cancellation(\n",
      "\u001b[0;32m/opt/conda/lib/python3.7/site-packages/tensorflow/python/eager/execute.py\u001b[0m in \u001b[0;36mquick_execute\u001b[0;34m(op_name, num_outputs, inputs, attrs, ctx, name)\u001b[0m\n\u001b[1;32m     58\u001b[0m     \u001b[0mctx\u001b[0m\u001b[0;34m.\u001b[0m\u001b[0mensure_initialized\u001b[0m\u001b[0;34m(\u001b[0m\u001b[0;34m)\u001b[0m\u001b[0;34m\u001b[0m\u001b[0;34m\u001b[0m\u001b[0m\n\u001b[1;32m     59\u001b[0m     tensors = pywrap_tfe.TFE_Py_Execute(ctx._handle, device_name, op_name,\n\u001b[0;32m---> 60\u001b[0;31m                                         inputs, attrs, num_outputs)\n\u001b[0m\u001b[1;32m     61\u001b[0m   \u001b[0;32mexcept\u001b[0m \u001b[0mcore\u001b[0m\u001b[0;34m.\u001b[0m\u001b[0m_NotOkStatusException\u001b[0m \u001b[0;32mas\u001b[0m \u001b[0me\u001b[0m\u001b[0;34m:\u001b[0m\u001b[0;34m\u001b[0m\u001b[0;34m\u001b[0m\u001b[0m\n\u001b[1;32m     62\u001b[0m     \u001b[0;32mif\u001b[0m \u001b[0mname\u001b[0m \u001b[0;32mis\u001b[0m \u001b[0;32mnot\u001b[0m \u001b[0;32mNone\u001b[0m\u001b[0;34m:\u001b[0m\u001b[0;34m\u001b[0m\u001b[0;34m\u001b[0m\u001b[0m\n",
      "\u001b[0;31mKeyboardInterrupt\u001b[0m: "
     ]
    }
   ],
   "source": [
    "callbacks = [tf.keras.callbacks.EarlyStopping(monitor='val_loss', mode='min'),\n",
    "             tf.keras.callbacks.ModelCheckpoint(filepath='best_model_200_600.h5',\n",
    "                                             monitor='val_loss',\n",
    "                                             save_best_only=True)]\n",
    "embedding_size = 200\n",
    "hidden_size = 600\n",
    "model = TextGenerator(tokenizer.num_words + 1, embedding_size , hidden_size)\n",
    "optimizer = tf.keras.optimizers.Adam(lr=0.0144)\n",
    "loss = tf.keras.losses.SparseCategoricalCrossentropy(\n",
    "    from_logits=True,\n",
    "    reduction='none'\n",
    ")\n",
    "\n",
    "\n",
    "model.compile(loss=loss, optimizer=optimizer)\n",
    "model.fit(dataset_128, validation_data=dataset_val, epochs=10, callbacks=callbacks)"
   ]
  },
  {
   "cell_type": "code",
   "execution_count": 78,
   "id": "fourth-corrections",
   "metadata": {},
   "outputs": [],
   "source": [
    "lyricist2 = model"
   ]
  },
  {
   "cell_type": "code",
   "execution_count": 100,
   "id": "painful-translation",
   "metadata": {},
   "outputs": [
    {
     "data": {
      "text/plain": [
       "'<start> blood on the collar , the night is beginning to come <end> '"
      ]
     },
     "execution_count": 100,
     "metadata": {},
     "output_type": "execute_result"
    }
   ],
   "source": [
    "generate_text(lyricist2, tokenizer, init_sentence=\"<start> blood on\", max_len=20)"
   ]
  },
  {
   "cell_type": "code",
   "execution_count": 101,
   "id": "hearing-optics",
   "metadata": {},
   "outputs": [
    {
     "name": "stdout",
     "output_type": "stream",
     "text": [
      "Epoch 1/10\n",
      "965/965 [==============================] - 155s 158ms/step - loss: 3.9500 - val_loss: 3.1063\n",
      "Epoch 2/10\n",
      "965/965 [==============================] - 153s 158ms/step - loss: 3.0137 - val_loss: 2.9290\n",
      "Epoch 3/10\n",
      "965/965 [==============================] - 153s 158ms/step - loss: 2.8005 - val_loss: 2.8084\n",
      "Epoch 4/10\n",
      "965/965 [==============================] - 153s 159ms/step - loss: 2.6278 - val_loss: 2.7219\n",
      "Epoch 5/10\n",
      "965/965 [==============================] - 153s 159ms/step - loss: 2.4618 - val_loss: 2.6535\n",
      "Epoch 6/10\n",
      "965/965 [==============================] - 153s 158ms/step - loss: 2.3137 - val_loss: 2.6031\n",
      "Epoch 7/10\n",
      "965/965 [==============================] - 153s 158ms/step - loss: 2.1821 - val_loss: 2.5699\n",
      "Epoch 8/10\n",
      "965/965 [==============================] - 153s 159ms/step - loss: 2.0673 - val_loss: 2.5536\n",
      "Epoch 9/10\n",
      "965/965 [==============================] - 153s 158ms/step - loss: 1.9644 - val_loss: 2.5394\n",
      "Epoch 10/10\n",
      "965/965 [==============================] - 153s 158ms/step - loss: 1.8713 - val_loss: 2.5369\n"
     ]
    },
    {
     "data": {
      "text/plain": [
       "<tensorflow.python.keras.callbacks.History at 0x7f97c0544c90>"
      ]
     },
     "execution_count": 101,
     "metadata": {},
     "output_type": "execute_result"
    }
   ],
   "source": [
    "callbacks = [tf.keras.callbacks.EarlyStopping(monitor='val_loss', mode='min'),\n",
    "             tf.keras.callbacks.ModelCheckpoint(filepath='best_model_200_600.h5',\n",
    "                                             monitor='val_loss',\n",
    "                                             save_best_only=True)]\n",
    "embedding_size = 200\n",
    "hidden_size = 600\n",
    "model = TextGenerator(tokenizer.num_words + 1, embedding_size , hidden_size)\n",
    "optimizer = tf.keras.optimizers.Adam(lr=0.00216)\n",
    "loss = tf.keras.losses.SparseCategoricalCrossentropy(\n",
    "    from_logits=True,\n",
    "    reduction='none'\n",
    ")\n",
    "\n",
    "\n",
    "model.compile(loss=loss, optimizer=optimizer)\n",
    "model.fit(dataset_128, validation_data=dataset_val, epochs=10, callbacks=callbacks)"
   ]
  },
  {
   "cell_type": "code",
   "execution_count": 102,
   "id": "combined-logic",
   "metadata": {},
   "outputs": [],
   "source": [
    "lyricist3 = model"
   ]
  },
  {
   "cell_type": "code",
   "execution_count": 107,
   "id": "every-palestinian",
   "metadata": {},
   "outputs": [
    {
     "data": {
      "text/plain": [
       "'<start> kill the same time i had it <end> '"
      ]
     },
     "execution_count": 107,
     "metadata": {},
     "output_type": "execute_result"
    }
   ],
   "source": [
    "generate_text(lyricist3, tokenizer, init_sentence=\"<start> kill\", max_len=20)"
   ]
  },
  {
   "cell_type": "markdown",
   "id": "gross-setting",
   "metadata": {},
   "source": [
    "overfitting이다"
   ]
  },
  {
   "cell_type": "code",
   "execution_count": 110,
   "id": "downtown-remove",
   "metadata": {},
   "outputs": [
    {
     "name": "stdout",
     "output_type": "stream",
     "text": [
      "Epoch 1/10\n",
      "965/965 [==============================] - 133s 135ms/step - loss: 4.3528 - val_loss: 3.4319\n",
      "Epoch 2/10\n",
      "965/965 [==============================] - 131s 136ms/step - loss: 3.3587 - val_loss: 3.1843\n",
      "Epoch 3/10\n",
      "965/965 [==============================] - 131s 136ms/step - loss: 3.1172 - val_loss: 3.0351\n",
      "Epoch 4/10\n",
      "965/965 [==============================] - 131s 136ms/step - loss: 2.9625 - val_loss: 2.9361\n",
      "Epoch 5/10\n",
      "965/965 [==============================] - 131s 136ms/step - loss: 2.8421 - val_loss: 2.8610\n",
      "Epoch 6/10\n",
      "965/965 [==============================] - 131s 136ms/step - loss: 2.7422 - val_loss: 2.7971\n",
      "Epoch 7/10\n",
      "965/965 [==============================] - 131s 136ms/step - loss: 2.6494 - val_loss: 2.7472\n",
      "Epoch 8/10\n",
      "965/965 [==============================] - 131s 136ms/step - loss: 2.5490 - val_loss: 2.7016\n",
      "Epoch 9/10\n",
      "965/965 [==============================] - 131s 136ms/step - loss: 2.4582 - val_loss: 2.6662\n",
      "Epoch 10/10\n",
      "965/965 [==============================] - 131s 136ms/step - loss: 2.3798 - val_loss: 2.6380\n"
     ]
    },
    {
     "data": {
      "text/plain": [
       "<tensorflow.python.keras.callbacks.History at 0x7f9866b8a650>"
      ]
     },
     "execution_count": 110,
     "metadata": {},
     "output_type": "execute_result"
    }
   ],
   "source": [
    "callbacks = [tf.keras.callbacks.EarlyStopping(monitor='val_loss', mode='min'),\n",
    "             tf.keras.callbacks.ModelCheckpoint(filepath='best_model_350_450.h5',\n",
    "                                             monitor='val_loss',\n",
    "                                             save_best_only=True)]\n",
    "embedding_size = 350\n",
    "hidden_size = 450\n",
    "model = TextGenerator(tokenizer.num_words + 1, embedding_size , hidden_size)\n",
    "optimizer = tf.keras.optimizers.Adam(lr=0.00072)\n",
    "loss = tf.keras.losses.SparseCategoricalCrossentropy(\n",
    "    from_logits=True,\n",
    "    reduction='none'\n",
    ")\n",
    "\n",
    "\n",
    "model.compile(loss=loss, optimizer=optimizer)\n",
    "model.fit(dataset_128, validation_data=dataset_val, epochs=10, callbacks=callbacks)"
   ]
  },
  {
   "cell_type": "code",
   "execution_count": 111,
   "id": "endless-curtis",
   "metadata": {},
   "outputs": [
    {
     "name": "stdout",
     "output_type": "stream",
     "text": [
      "Epoch 1/10\n",
      "965/965 [==============================] - 134s 135ms/step - loss: 3.8903 - val_loss: 3.0706\n",
      "Epoch 2/10\n",
      "965/965 [==============================] - 131s 135ms/step - loss: 2.9793 - val_loss: 2.9120\n",
      "Epoch 3/10\n",
      "965/965 [==============================] - 131s 135ms/step - loss: 2.7956 - val_loss: 2.8228\n",
      "Epoch 4/10\n",
      "965/965 [==============================] - 131s 135ms/step - loss: 2.6568 - val_loss: 2.7577\n",
      "Epoch 5/10\n",
      "965/965 [==============================] - 131s 135ms/step - loss: 2.5250 - val_loss: 2.7035\n",
      "Epoch 6/10\n",
      "965/965 [==============================] - 131s 135ms/step - loss: 2.4090 - val_loss: 2.6657\n",
      "Epoch 7/10\n",
      "965/965 [==============================] - 130s 135ms/step - loss: 2.2994 - val_loss: 2.6421\n",
      "Epoch 8/10\n",
      "965/965 [==============================] - 131s 135ms/step - loss: 2.2030 - val_loss: 2.6264\n",
      "Epoch 9/10\n",
      "965/965 [==============================] - 131s 135ms/step - loss: 2.1236 - val_loss: 2.6191\n",
      "Epoch 10/10\n",
      "965/965 [==============================] - 131s 135ms/step - loss: 2.0514 - val_loss: 2.6219\n"
     ]
    },
    {
     "data": {
      "text/plain": [
       "<tensorflow.python.keras.callbacks.History at 0x7f97b82855d0>"
      ]
     },
     "execution_count": 111,
     "metadata": {},
     "output_type": "execute_result"
    }
   ],
   "source": [
    "callbacks = [tf.keras.callbacks.EarlyStopping(monitor='val_loss', mode='min'),\n",
    "             tf.keras.callbacks.ModelCheckpoint(filepath='best_model_350_450.h5',\n",
    "                                             monitor='val_loss',\n",
    "                                             save_best_only=True)]\n",
    "embedding_size = 350\n",
    "hidden_size = 450\n",
    "model = TextGenerator(tokenizer.num_words + 1, embedding_size , hidden_size)\n",
    "optimizer = tf.keras.optimizers.Adam(lr=0.00288)\n",
    "loss = tf.keras.losses.SparseCategoricalCrossentropy(\n",
    "    from_logits=True,\n",
    "    reduction='none'\n",
    ")\n",
    "\n",
    "\n",
    "model.compile(loss=loss, optimizer=optimizer)\n",
    "model.fit(dataset_128, validation_data=dataset_val, epochs=10, callbacks=callbacks)"
   ]
  },
  {
   "cell_type": "code",
   "execution_count": 25,
   "id": "individual-dover",
   "metadata": {},
   "outputs": [
    {
     "name": "stdout",
     "output_type": "stream",
     "text": [
      "Epoch 1/10\n",
      "965/965 [==============================] - 251s 255ms/step - loss: 3.7840 - val_loss: 3.0046\n",
      "Epoch 2/10\n",
      "965/965 [==============================] - 251s 260ms/step - loss: 2.8879 - val_loss: 2.7914\n",
      "Epoch 3/10\n",
      "965/965 [==============================] - 252s 261ms/step - loss: 2.6087 - val_loss: 2.6600\n",
      "Epoch 4/10\n",
      "965/965 [==============================] - 251s 260ms/step - loss: 2.3582 - val_loss: 2.5694\n",
      "Epoch 5/10\n",
      "965/965 [==============================] - 251s 260ms/step - loss: 2.1468 - val_loss: 2.5093\n",
      "Epoch 6/10\n",
      "965/965 [==============================] - 251s 260ms/step - loss: 1.9620 - val_loss: 2.4807\n",
      "Epoch 7/10\n",
      "965/965 [==============================] - 251s 260ms/step - loss: 1.8089 - val_loss: 2.4631\n",
      "Epoch 8/10\n",
      "965/965 [==============================] - 251s 260ms/step - loss: 1.6720 - val_loss: 2.4606\n",
      "Epoch 9/10\n",
      "965/965 [==============================] - 250s 259ms/step - loss: 1.5505 - val_loss: 2.4632\n"
     ]
    },
    {
     "data": {
      "text/plain": [
       "<tensorflow.python.keras.callbacks.History at 0x7f3a0fd57850>"
      ]
     },
     "execution_count": 25,
     "metadata": {},
     "output_type": "execute_result"
    }
   ],
   "source": [
    "callbacks = [tf.keras.callbacks.EarlyStopping(monitor='val_loss', mode='min'),\n",
    "             tf.keras.callbacks.ModelCheckpoint(filepath='best_model_350_900.h5',\n",
    "                                             monitor='val_loss',\n",
    "                                             save_best_only=True)]\n",
    "embedding_size = 350\n",
    "hidden_size = 900\n",
    "model = TextGenerator(tokenizer.num_words + 1, embedding_size , hidden_size)\n",
    "optimizer = tf.keras.optimizers.Adam(lr=0.00288)\n",
    "loss = tf.keras.losses.SparseCategoricalCrossentropy(\n",
    "    from_logits=True,\n",
    "    reduction='none'\n",
    ")\n",
    "\n",
    "\n",
    "model.compile(loss=loss, optimizer=optimizer)\n",
    "model.fit(dataset_128, validation_data=dataset_val, epochs=10, callbacks=callbacks)"
   ]
  },
  {
   "cell_type": "markdown",
   "id": "controversial-singapore",
   "metadata": {},
   "source": [
    "여러 하이퍼파라미터를 시도했지만 2.2의 val_loss를 얻을 수 없었다."
   ]
  },
  {
   "cell_type": "markdown",
   "id": "curious-nitrogen",
   "metadata": {},
   "source": [
    "# Project with Ray"
   ]
  },
  {
   "cell_type": "markdown",
   "id": "broadband-blond",
   "metadata": {},
   "source": [
    "모델 생성을 체계화하고 하이퍼파라미터 튜닝을 도와주는 모듈 ray를 이용한다."
   ]
  },
  {
   "cell_type": "code",
   "execution_count": 232,
   "id": "seventh-beginning",
   "metadata": {},
   "outputs": [
    {
     "name": "stdout",
     "output_type": "stream",
     "text": [
      "데이터 크기: 187088\n"
     ]
    }
   ],
   "source": [
    "import glob\n",
    "import os, re \n",
    "import numpy as np\n",
    "import tensorflow as tf\n",
    "\n",
    "txt_file_path = os.getenv('HOME')+'/aiffel/lyricist/data/lyrics/*'\n",
    "\n",
    "txt_list = glob.glob(txt_file_path)\n",
    "\n",
    "raw_corpus = []\n",
    "\n",
    "# 여러개의 txt 파일을 모두 읽어서 raw_corpus 에 담습니다.\n",
    "for txt_file in txt_list:\n",
    "    with open(txt_file, \"r\") as f:\n",
    "        raw = f.read().splitlines()\n",
    "        raw_corpus.extend(raw)\n",
    "\n",
    "print(\"데이터 크기:\", len(raw_corpus))\n",
    "# print(\"Examples:\\n\", raw_corpus[500:1000])"
   ]
  },
  {
   "cell_type": "code",
   "execution_count": 8,
   "id": "impaired-wallace",
   "metadata": {},
   "outputs": [
    {
     "name": "stdout",
     "output_type": "stream",
     "text": [
      "None\n"
     ]
    }
   ],
   "source": [
    "# 입력된 문장을\n",
    "#     0. 괄호 안에 있는 내용을 없앱니다\n",
    "#     1. 소문자로 바꾸고, 양쪽 공백을 지웁니다\n",
    "#     2. 특수문자 양쪽에 공백을 넣고\n",
    "#     2-1. '뒤에 공백 하나를 넣습니다\n",
    "#     3. 여러개의 공백은 하나의 공백으로 바꿉니다\n",
    "#     4. a-zA-Z?.!,¿,'가 아닌 모든 문자를 하나의 공백으로 바꿉니다\n",
    "#     5. 다시 양쪽 공백을 지웁니다\n",
    "#     6. (' )로 시작하는 경우 지웁니다\n",
    "#     7. '앞에 공백이 있는 경우 함께 지웁니다.\n",
    "#     8. 문장 시작에는 <start>, 끝에는 <end>를 추가합니다\n",
    "# 이 순서로 처리해주면 문제가 되는 상황을 방지할 수 있겠네요!\n",
    "def preprocess_lyrics(sentence):\n",
    "    sentence = re.sub(r'\\([^)]*\\)',r'',sentence)\n",
    "    sentence = re.sub(r'\\[[^)]*\\]',r'',sentence )\n",
    "    sentence = sentence.lower().strip() # 1\n",
    "    sentence = re.sub(r\"([?.!,¿])\", r\" \\1 \", sentence) # 2\n",
    "    sentence = re.sub(r\"([\\'])\", r\"\\1 \", sentence)  # 2-1\n",
    "    sentence = re.sub(r'[\" \"]+', \" \", sentence) # 3\n",
    "    sentence = re.sub(r\"[^a-zA-Z?.!,¿\\']+\", \" \", sentence) # 4\n",
    "    sentence = sentence.strip() # 5\n",
    "    sentence = re.sub(r\"^\\' \", r'', sentence)  # 6\n",
    "    sentence = re.sub(r\" \\'\", r\"\", sentence)  # 7\n",
    "    if sentence:\n",
    "        sentence = '<start> ' + sentence + ' <end>' # 8\n",
    "        return sentence\n",
    "\n",
    "# 이 문장이 어떻게 필터링되는지 확인해 보세요.\n",
    "print(preprocess_lyrics(\"\"))"
   ]
  },
  {
   "cell_type": "code",
   "execution_count": 9,
   "id": "figured-harassment",
   "metadata": {},
   "outputs": [],
   "source": [
    "# 여기에 정제된 문장을 모을겁니다\n",
    "lyric_corpus = []\n",
    "\n",
    "for lyric in raw_corpus:\n",
    "    # 정제를 합니다\n",
    "    preprocessed_lyric = preprocess_lyrics(lyric)\n",
    "    # 우리가 원하지 않는 문장은 건너뜁니다\n",
    "    if not preprocessed_lyric: continue\n",
    "    lyric_corpus.append(preprocessed_lyric) "
   ]
  },
  {
   "cell_type": "code",
   "execution_count": 54,
   "id": "inside-values",
   "metadata": {},
   "outputs": [
    {
     "name": "stdout",
     "output_type": "stream",
     "text": [
      "[[  2   6 190 ...   0   0   0]\n",
      " [  2   9 542 ...   0   0   0]\n",
      " [  2  50  38 ...   0   0   0]\n",
      " ...\n",
      " [  2 310 153 ...   0   0   0]\n",
      " [  2  10 163 ...   3   0   0]\n",
      " [  2 177  15 ...   0   0   0]] <keras_preprocessing.text.Tokenizer object at 0x7f2190ec24d0>\n"
     ]
    }
   ],
   "source": [
    "# 토큰화 할 때 텐서플로우의 Tokenizer와 pad_sequences를 사용합니다\n",
    "# 더 잘 알기 위해 아래 문서들을 참고하면 좋습니다\n",
    "# https://www.tensorflow.org/api_docs/python/tf/keras/preprocessing/text/Tokenizer\n",
    "# https://www.tensorflow.org/api_docs/python/tf/keras/preprocessing/sequence/pad_sequences\n",
    "def tokenize(corpus):\n",
    "    # 20000단어를 기억할 수 있는 tokenizer를 만들겁니다\n",
    "    # 우리는 이미 문장을 정제했으니 filters가 필요없어요\n",
    "    # 20000단어에 포함되지 못한 단어는 '<unk>'로 바꿀거에요\n",
    "    tokenizer = tf.keras.preprocessing.text.Tokenizer(\n",
    "        num_words=20000, \n",
    "        filters=' ',\n",
    "        oov_token=\"<unk>\"\n",
    "    )\n",
    "    # corpus를 이용해 tokenizer 내부의 단어장을 완성합니다\n",
    "    tokenizer.fit_on_texts(corpus)\n",
    "    # 준비한 tokenizer를 이용해 corpus를 Tensor로 변환합니다\n",
    "    tensor = tokenizer.texts_to_sequences(corpus)   \n",
    "    # 입력 데이터의 시퀀스 길이를 일정하게 맞춰줍니다\n",
    "    # 만약 시퀀스가 짧다면 문장 뒤에 패딩을 붙여 길이를 맞춰줍니다.\n",
    "    # 문장 앞에 패딩을 붙여 길이를 맞추고 싶다면 padding='pre'를 사용합니다\n",
    "    tensor = tf.keras.preprocessing.sequence.pad_sequences(tensor, padding='post', maxlen=14, truncating='post')  \n",
    "    \n",
    "    print(tensor,tokenizer)\n",
    "    return tensor, tokenizer\n",
    "\n",
    "tensor, tokenizer = tokenize(lyric_corpus)"
   ]
  },
  {
   "cell_type": "code",
   "execution_count": 34,
   "id": "elect-headline",
   "metadata": {},
   "outputs": [
    {
     "name": "stdout",
     "output_type": "stream",
     "text": [
      "(148652, 14)\n",
      "[  2   6 190   7 899   4 101   6  72  50   3   0   0]\n",
      "[  6 190   7 899   4 101   6  72  50   3   0   0   0]\n"
     ]
    }
   ],
   "source": [
    "# tensor에서 마지막 토큰을 잘라내서 소스 문장을 생성합니다\n",
    "# 마지막 토큰은 <end>가 아니라 <pad>일 가능성이 높습니다.\n",
    "# 마지막 토큰이 0이나 3이 아니라면 maxlen보다 긴 것입니다. (truncating = 'post')\n",
    "# 따라서 마지막 토큰이 0이거나 3인것만 선택합니다.\n",
    "short_tensor = np.array([x for i, x in  enumerate(tensor) if x[-1]==0 or x[-1]==3])\n",
    "print(short_tensor.shape)\n",
    "src_input = short_tensor[:,:-1]  \n",
    "# tensor에서 <start>를 잘라내서 타겟 문장을 생성합니다.\n",
    "tgt_input = short_tensor[:,1:]    \n",
    "\n",
    "print(src_input[0])\n",
    "print(tgt_input[0])"
   ]
  },
  {
   "cell_type": "code",
   "execution_count": 37,
   "id": "structured-leeds",
   "metadata": {},
   "outputs": [
    {
     "name": "stdout",
     "output_type": "stream",
     "text": [
      "118921 29731\n"
     ]
    }
   ],
   "source": [
    "from sklearn.model_selection import train_test_split\n",
    "\n",
    "\n",
    "enc_train, enc_val, dec_train, dec_val = train_test_split(src_input, tgt_input, test_size=0.2, random_state=36)\n",
    "print(len(enc_train), len(enc_val))"
   ]
  },
  {
   "cell_type": "code",
   "execution_count": 57,
   "id": "friendly-update",
   "metadata": {},
   "outputs": [],
   "source": [
    "class TextGenerator(tf.keras.Model):\n",
    "    def __init__(self, vocab_size, embedding_size, hidden_size):\n",
    "        super().__init__()\n",
    "        \n",
    "        self.embedding = tf.keras.layers.Embedding(vocab_size, embedding_size)\n",
    "        self.rnn_1 = tf.keras.layers.LSTM(hidden_size, return_sequences=True)\n",
    "        self.rnn_2 = tf.keras.layers.LSTM(hidden_size, return_sequences=True)\n",
    "        self.linear = tf.keras.layers.Dense(vocab_size)\n",
    "        \n",
    "    def call(self, x):\n",
    "        out = self.embedding(x)\n",
    "        out = self.rnn_1(out)\n",
    "        out = self.rnn_2(out)\n",
    "        out = self.linear(out)\n",
    "        \n",
    "        return out"
   ]
  },
  {
   "cell_type": "markdown",
   "id": "trying-medium",
   "metadata": {},
   "source": [
    "model과 dataset을 생성하는 함수를 제작한다"
   ]
  },
  {
   "cell_type": "code",
   "execution_count": 55,
   "id": "verified-justice",
   "metadata": {},
   "outputs": [],
   "source": [
    "def create_model(*, embedding_size, hidden_size, lr, vocab_size=tokenizer.num_words+1):\n",
    "    '''This is a model generating function so that we can search over neural net \n",
    "    parameters and architecture'''\n",
    "    \n",
    "    optimizer = tf.keras.optimizers.Adam(lr)\n",
    "    loss = tf.keras.losses.SparseCategoricalCrossentropy(\n",
    "        from_logits=True,\n",
    "    reduction='none'\n",
    "    )\n",
    "    \n",
    "    model = TextGenerator(vocab_size, embedding_size, hidden_size)\n",
    "    model.compile(loss=loss, optimizer=optimizer, metrics=['accuracy'])\n",
    "    return model"
   ]
  },
  {
   "cell_type": "code",
   "execution_count": 32,
   "id": "charitable-robert",
   "metadata": {},
   "outputs": [],
   "source": [
    "def create_dataset(enc, dec, *, batch_size=128, seed=36):\n",
    "    buffer_size = len(enc)\n",
    "    steps_per_epoch = len(enc) // batch_size\n",
    "\n",
    "    # 준비한 데이터 소스로부터 데이터셋을 만듭니다\n",
    "    # 데이터셋에 대해서는 아래 문서를 참고하세요\n",
    "    # 자세히 알아둘수록 도움이 많이 되는 중요한 문서입니다\n",
    "    # https://www.tensorflow.org/api_docs/python/tf/data/Dataset\n",
    "    dataset = tf.data.Dataset.from_tensor_slices((enc, dec))\n",
    "    dataset = dataset.shuffle(buffer_size, seed=seed)\n",
    "    dataset = dataset.batch(batch_size, drop_remainder=True)\n",
    "    return dataset"
   ]
  },
  {
   "cell_type": "markdown",
   "id": "brief-trading",
   "metadata": {},
   "source": [
    "## Ray를 사용해보자"
   ]
  },
  {
   "cell_type": "code",
   "execution_count": 13,
   "id": "regulation-resolution",
   "metadata": {},
   "outputs": [
    {
     "name": "stdout",
     "output_type": "stream",
     "text": [
      "Requirement already satisfied: Ray[tune] in /opt/conda/lib/python3.7/site-packages (1.1.0)\n",
      "Requirement already satisfied: jsonschema in /opt/conda/lib/python3.7/site-packages (from Ray[tune]) (3.2.0)\n",
      "Requirement already satisfied: colorful in /opt/conda/lib/python3.7/site-packages (from Ray[tune]) (0.5.4)\n",
      "Requirement already satisfied: aiohttp in /opt/conda/lib/python3.7/site-packages (from Ray[tune]) (3.7.3)\n",
      "Requirement already satisfied: numpy>=1.16 in /opt/conda/lib/python3.7/site-packages (from Ray[tune]) (1.19.5)\n",
      "Requirement already satisfied: aiohttp-cors in /opt/conda/lib/python3.7/site-packages (from Ray[tune]) (0.7.0)\n",
      "Requirement already satisfied: grpcio>=1.28.1 in /opt/conda/lib/python3.7/site-packages (from Ray[tune]) (1.32.0)\n",
      "Requirement already satisfied: prometheus-client>=0.7.1 in /opt/conda/lib/python3.7/site-packages (from Ray[tune]) (0.9.0)\n",
      "Requirement already satisfied: colorama in /opt/conda/lib/python3.7/site-packages (from Ray[tune]) (0.4.4)\n",
      "Requirement already satisfied: gpustat in /opt/conda/lib/python3.7/site-packages (from Ray[tune]) (0.6.0)\n",
      "Requirement already satisfied: filelock in /opt/conda/lib/python3.7/site-packages (from Ray[tune]) (3.0.12)\n",
      "Requirement already satisfied: click>=7.0 in /opt/conda/lib/python3.7/site-packages (from Ray[tune]) (7.1.2)\n",
      "Requirement already satisfied: redis>=3.5.0 in /opt/conda/lib/python3.7/site-packages (from Ray[tune]) (3.5.3)\n",
      "Requirement already satisfied: opencensus in /opt/conda/lib/python3.7/site-packages (from Ray[tune]) (0.7.12)\n",
      "Requirement already satisfied: msgpack<2.0.0,>=1.0.0 in /opt/conda/lib/python3.7/site-packages (from Ray[tune]) (1.0.2)\n",
      "Requirement already satisfied: requests in /opt/conda/lib/python3.7/site-packages (from Ray[tune]) (2.25.1)\n",
      "Requirement already satisfied: py-spy>=0.2.0 in /opt/conda/lib/python3.7/site-packages (from Ray[tune]) (0.3.4)\n",
      "Requirement already satisfied: aioredis in /opt/conda/lib/python3.7/site-packages (from Ray[tune]) (1.3.1)\n",
      "Requirement already satisfied: pyyaml in /opt/conda/lib/python3.7/site-packages (from Ray[tune]) (5.3.1)\n",
      "Requirement already satisfied: protobuf>=3.8.0 in /opt/conda/lib/python3.7/site-packages (from Ray[tune]) (3.14.0)\n",
      "Requirement already satisfied: pandas in /opt/conda/lib/python3.7/site-packages (from Ray[tune]) (1.2.0)\n",
      "Requirement already satisfied: six>=1.5.2 in /opt/conda/lib/python3.7/site-packages (from grpcio>=1.28.1->Ray[tune]) (1.15.0)\n",
      "Requirement already satisfied: chardet<4.0,>=2.0 in /opt/conda/lib/python3.7/site-packages (from aiohttp->Ray[tune]) (3.0.4)\n",
      "Requirement already satisfied: attrs>=17.3.0 in /opt/conda/lib/python3.7/site-packages (from aiohttp->Ray[tune]) (20.3.0)\n",
      "Requirement already satisfied: typing-extensions>=3.6.5 in /opt/conda/lib/python3.7/site-packages (from aiohttp->Ray[tune]) (3.7.4.3)\n",
      "Requirement already satisfied: async-timeout<4.0,>=3.0 in /opt/conda/lib/python3.7/site-packages (from aiohttp->Ray[tune]) (3.0.1)\n",
      "Requirement already satisfied: yarl<2.0,>=1.0 in /opt/conda/lib/python3.7/site-packages (from aiohttp->Ray[tune]) (1.6.3)\n",
      "Requirement already satisfied: multidict<7.0,>=4.5 in /opt/conda/lib/python3.7/site-packages (from aiohttp->Ray[tune]) (5.1.0)\n",
      "Requirement already satisfied: idna>=2.0 in /opt/conda/lib/python3.7/site-packages (from yarl<2.0,>=1.0->aiohttp->Ray[tune]) (2.10)\n",
      "Requirement already satisfied: hiredis in /opt/conda/lib/python3.7/site-packages (from aioredis->Ray[tune]) (1.1.0)\n",
      "Requirement already satisfied: nvidia-ml-py3>=7.352.0 in /opt/conda/lib/python3.7/site-packages (from gpustat->Ray[tune]) (7.352.0)\n",
      "Requirement already satisfied: blessings>=1.6 in /opt/conda/lib/python3.7/site-packages (from gpustat->Ray[tune]) (1.7)\n",
      "Requirement already satisfied: psutil in /opt/conda/lib/python3.7/site-packages (from gpustat->Ray[tune]) (5.8.0)\n",
      "Requirement already satisfied: setuptools in /opt/conda/lib/python3.7/site-packages (from jsonschema->Ray[tune]) (49.6.0.post20210108)\n",
      "Requirement already satisfied: pyrsistent>=0.14.0 in /opt/conda/lib/python3.7/site-packages (from jsonschema->Ray[tune]) (0.17.3)\n",
      "Requirement already satisfied: importlib-metadata in /opt/conda/lib/python3.7/site-packages (from jsonschema->Ray[tune]) (3.4.0)\n",
      "Requirement already satisfied: zipp>=0.5 in /opt/conda/lib/python3.7/site-packages (from importlib-metadata->jsonschema->Ray[tune]) (3.4.0)\n",
      "Requirement already satisfied: google-api-core<2.0.0,>=1.0.0 in /opt/conda/lib/python3.7/site-packages (from opencensus->Ray[tune]) (1.25.0)\n",
      "Requirement already satisfied: opencensus-context==0.1.2 in /opt/conda/lib/python3.7/site-packages (from opencensus->Ray[tune]) (0.1.2)\n",
      "Requirement already satisfied: googleapis-common-protos<2.0dev,>=1.6.0 in /opt/conda/lib/python3.7/site-packages (from google-api-core<2.0.0,>=1.0.0->opencensus->Ray[tune]) (1.52.0)\n",
      "Requirement already satisfied: google-auth<2.0dev,>=1.21.1 in /opt/conda/lib/python3.7/site-packages (from google-api-core<2.0.0,>=1.0.0->opencensus->Ray[tune]) (1.24.0)\n",
      "Requirement already satisfied: pytz in /opt/conda/lib/python3.7/site-packages (from google-api-core<2.0.0,>=1.0.0->opencensus->Ray[tune]) (2020.5)\n",
      "Requirement already satisfied: rsa<5,>=3.1.4 in /opt/conda/lib/python3.7/site-packages (from google-auth<2.0dev,>=1.21.1->google-api-core<2.0.0,>=1.0.0->opencensus->Ray[tune]) (4.7)\n",
      "Requirement already satisfied: cachetools<5.0,>=2.0.0 in /opt/conda/lib/python3.7/site-packages (from google-auth<2.0dev,>=1.21.1->google-api-core<2.0.0,>=1.0.0->opencensus->Ray[tune]) (4.2.0)\n",
      "Requirement already satisfied: pyasn1-modules>=0.2.1 in /opt/conda/lib/python3.7/site-packages (from google-auth<2.0dev,>=1.21.1->google-api-core<2.0.0,>=1.0.0->opencensus->Ray[tune]) (0.2.8)\n",
      "Requirement already satisfied: pyasn1<0.5.0,>=0.4.6 in /opt/conda/lib/python3.7/site-packages (from pyasn1-modules>=0.2.1->google-auth<2.0dev,>=1.21.1->google-api-core<2.0.0,>=1.0.0->opencensus->Ray[tune]) (0.4.8)\n",
      "Requirement already satisfied: certifi>=2017.4.17 in /opt/conda/lib/python3.7/site-packages (from requests->Ray[tune]) (2020.12.5)\n",
      "Requirement already satisfied: urllib3<1.27,>=1.21.1 in /opt/conda/lib/python3.7/site-packages (from requests->Ray[tune]) (1.26.2)\n",
      "Requirement already satisfied: python-dateutil>=2.7.3 in /opt/conda/lib/python3.7/site-packages (from pandas->Ray[tune]) (2.8.1)\n",
      "Collecting tabulate\n",
      "  Downloading tabulate-0.8.9-py3-none-any.whl (25 kB)\n",
      "Collecting tensorboardX\n",
      "  Downloading tensorboardX-2.4-py2.py3-none-any.whl (124 kB)\n",
      "\u001b[K     |████████████████████████████████| 124 kB 10.3 MB/s eta 0:00:01\n",
      "\u001b[?25hInstalling collected packages: tensorboardX, tabulate\n",
      "Successfully installed tabulate-0.8.9 tensorboardX-2.4\n",
      "\u001b[33mWARNING: You are using pip version 20.3.3; however, version 21.1.3 is available.\n",
      "You should consider upgrading via the '/opt/conda/bin/python3.7 -m pip install --upgrade pip' command.\u001b[0m\n"
     ]
    }
   ],
   "source": [
    "!pip install 'Ray[tune]'"
   ]
  },
  {
   "cell_type": "markdown",
   "id": "flexible-climate",
   "metadata": {},
   "source": [
    "tune.report에 추적을 원하는 평가 항목을 넣어 주어야 추후 metric으로 사용할 수 있으므로 val_loss를 추가한다."
   ]
  },
  {
   "cell_type": "code",
   "execution_count": 13,
   "id": "floppy-techno",
   "metadata": {},
   "outputs": [],
   "source": [
    "class TuneReporterCallback(tf.keras.callbacks.Callback):\n",
    "    \"\"\"Tune Callback for Keras.\n",
    "    \n",
    "    The callback is invoked every epoch.\n",
    "    \"\"\"\n",
    "\n",
    "    def __init__(self, logs={}):\n",
    "        self.iteration = 0\n",
    "        super(TuneReporterCallback, self).__init__()\n",
    "\n",
    "    def on_epoch_end(self, batch, logs={}):\n",
    "        self.iteration += 1\n",
    "        tune.report(keras_info=logs, mean_accuracy=logs.get(\"accuracy\"), mean_loss=logs.get(\"loss\"), val_loss=logs.get(\"val_loss\"))"
   ]
  },
  {
   "cell_type": "markdown",
   "id": "amateur-shuttle",
   "metadata": {},
   "source": [
    "config에는 하이퍼파라미터를 찾을 범위인 search space를 지정한다"
   ]
  },
  {
   "cell_type": "code",
   "execution_count": 19,
   "id": "formal-irish",
   "metadata": {},
   "outputs": [],
   "source": [
    "from ray import tune\n",
    "\n",
    "\n",
    "\n",
    "hyperparameter_space = {\n",
    "    \"lr\": tune.loguniform(0.00027, 0.0027),  \n",
    "    \"embedding_size\": tune.randint(128, 512),\n",
    "    \"hidden_size\": tune.randint(192, 1536),\n",
    "    \"num_gpus\": 1\n",
    "}"
   ]
  },
  {
   "cell_type": "markdown",
   "id": "daily-blogger",
   "metadata": {},
   "source": [
    "tune_model()은 model, dataset을 생성 후 model.fit을 실행하는 함수이다. 이때 config를 인자로 받는다.\n",
    "또한 디버깅을 위해, 작은 데이터셋을 이용하는 tune_exp_model()을 정의한다."
   ]
  },
  {
   "cell_type": "code",
   "execution_count": 16,
   "id": "historic-sucking",
   "metadata": {},
   "outputs": [],
   "source": [
    "import pandas as pd\n",
    "\n",
    "\n",
    "def tune_model(config):\n",
    "    dataset_128 = create_dataset(enc_train, dec_train)\n",
    "    dataset_val = create_dataset(enc_val, dec_val)\n",
    "    # Hyperparameters\n",
    "    embedding_size, hidden_size, lr = config[\"embedding_size\"], config[\"hidden_size\"], config[\"lr\"]\n",
    "    model = create_model(embedding_size=embedding_size, hidden_size=hidden_size, lr=lr)\n",
    "    \n",
    "    # Enable Tune to make intermediate decisions by using a Tune Callback hook. This is Keras specific.\n",
    "    callbacks = [tf.keras.callbacks.ModelCheckpoint(filepath='best_model_ray.h5',\n",
    "                                             monitor='val_loss',\n",
    "                                             save_best_only=True),\n",
    "                TuneReporterCallback()]\n",
    "    \n",
    "    # Train the model\n",
    "    model.fit(dataset_128, validation_data=dataset_val, epochs=10, callbacks=callbacks)"
   ]
  },
  {
   "cell_type": "code",
   "execution_count": 23,
   "id": "tender-choir",
   "metadata": {},
   "outputs": [],
   "source": [
    "def tune_exp_model(config):\n",
    "    dataset_exp_5 = create_dataset(enc_train[:1000], dec_train[:1000], batch_size=20)\n",
    "    dataset_exp_val = create_dataset(enc_val[:250], dec_val[:250], batch_size=250)\n",
    "    # Hyperparameters\n",
    "    embedding_size, hidden_size, lr = config[\"embedding_size\"], config[\"hidden_size\"], config[\"lr\"]\n",
    "    model = create_model(embedding_size=embedding_size, hidden_size=hidden_size, lr=lr)\n",
    "    \n",
    "    # Enable Tune to make intermediate decisions by using a Tune Callback hook. This is Keras specific.\n",
    "    callbacks = [tf.keras.callbacks.ModelCheckpoint(filepath='best_model_ray.h5',\n",
    "                                             monitor='val_loss',\n",
    "                                             save_best_only=True),\n",
    "                TuneReporterCallback()]\n",
    "    \n",
    "    # Train the model\n",
    "    model.fit(dataset_exp_5, validation_data=dataset_exp_val, epochs=10, callbacks=callbacks)\n"
   ]
  },
  {
   "cell_type": "code",
   "execution_count": 20,
   "id": "pharmaceutical-bridges",
   "metadata": {},
   "outputs": [],
   "source": [
    "num_samples = 30"
   ]
  },
  {
   "cell_type": "code",
   "execution_count": 21,
   "id": "consecutive-indicator",
   "metadata": {},
   "outputs": [
    {
     "data": {
      "text/plain": [
       "'1.1.0'"
      ]
     },
     "execution_count": 21,
     "metadata": {},
     "output_type": "execute_result"
    }
   ],
   "source": [
    "import ray\n",
    "\n",
    "\n",
    "ray.__version__"
   ]
  },
  {
   "cell_type": "markdown",
   "id": "liberal-annex",
   "metadata": {},
   "source": [
    "val_loss를 최소로 만드는 하이퍼파라미터를 찾는다. reporter에 'val_loss' 열도 보여주도록 add_metric_column()을 활용한다. 실제 모델로 돌릴 경우 샘플링 1번당 50~60분이 걸렸고, 14번의 샘플링 후 결과를 확인했을 때 2.4x의 결과가 최소로, 도달하지 못했다."
   ]
  },
  {
   "attachments": {
    "image.png": {
     "image/png": "[encoded data removed]"
    }
   },
   "cell_type": "markdown",
   "id": "foster-technique",
   "metadata": {},
   "source": [
    "![image.png](attachment:image.png)"
   ]
  },
  {
   "cell_type": "markdown",
   "id": "cordless-tracker",
   "metadata": {},
   "source": [
    "각각 1000개, 250개의 데이터 포인트를 가지는 train_set(dataset_exp_5)과 val_set(dataset_exp_val)으로도 시도해본다. 이 때, 실험용 데이터셋이 원래의 데이터셋을 잘 대표할 가능성은 낮다."
   ]
  },
  {
   "cell_type": "code",
   "execution_count": 24,
   "id": "handled-share",
   "metadata": {
    "scrolled": false
   },
   "outputs": [
    {
     "data": {
      "text/html": [
       "== Status ==<br>Memory usage on this node: 5.1/54.9 GiB<br>Using FIFO scheduling algorithm.<br>Resources requested: 0/4 CPUs, 0/1 GPUs, 0.0/25.93 GiB heap, 0.0/8.94 GiB objects (0/1.0 accelerator_type:K80)<br>Result logdir: /aiffel/aiffel/000Projects/EX4_data/ray_results_exp/tune_exp_model_2021-07-24_14-43-23<br>Number of trials: 30/30 (30 TERMINATED)<br><table>\n",
       "<thead>\n",
       "<tr><th>Trial name                </th><th>status    </th><th>loc  </th><th style=\"text-align: right;\">  embedding_size</th><th style=\"text-align: right;\">  hidden_size</th><th style=\"text-align: right;\">         lr</th><th style=\"text-align: right;\">     acc</th><th style=\"text-align: right;\">   loss</th><th style=\"text-align: right;\">  iter</th><th style=\"text-align: right;\">  total time (s)</th><th style=\"text-align: right;\">  val_loss</th></tr>\n",
       "</thead>\n",
       "<tbody>\n",
       "<tr><td>tune_exp_model_7fa8e_00000</td><td>TERMINATED</td><td>     </td><td style=\"text-align: right;\">             317</td><td style=\"text-align: right;\">         1190</td><td style=\"text-align: right;\">0.0067376  </td><td style=\"text-align: right;\">0.505357</td><td style=\"text-align: right;\">2.7978 </td><td style=\"text-align: right;\">    10</td><td style=\"text-align: right;\">         66.8278</td><td style=\"text-align: right;\">   4.12692</td></tr>\n",
       "<tr><td>tune_exp_model_7fa8e_00001</td><td>TERMINATED</td><td>     </td><td style=\"text-align: right;\">             201</td><td style=\"text-align: right;\">         1224</td><td style=\"text-align: right;\">0.0109757  </td><td style=\"text-align: right;\">0.424071</td><td style=\"text-align: right;\">4.10096</td><td style=\"text-align: right;\">    10</td><td style=\"text-align: right;\">         64.5281</td><td style=\"text-align: right;\">   5.06323</td></tr>\n",
       "<tr><td>tune_exp_model_7fa8e_00002</td><td>TERMINATED</td><td>     </td><td style=\"text-align: right;\">             240</td><td style=\"text-align: right;\">          862</td><td style=\"text-align: right;\">0.00278565 </td><td style=\"text-align: right;\">0.507286</td><td style=\"text-align: right;\">2.84579</td><td style=\"text-align: right;\">    10</td><td style=\"text-align: right;\">         49.4152</td><td style=\"text-align: right;\">   3.97472</td></tr>\n",
       "<tr><td>tune_exp_model_7fa8e_00003</td><td>TERMINATED</td><td>     </td><td style=\"text-align: right;\">             332</td><td style=\"text-align: right;\">         1329</td><td style=\"text-align: right;\">0.0146505  </td><td style=\"text-align: right;\">0.494143</td><td style=\"text-align: right;\">3.22371</td><td style=\"text-align: right;\">    10</td><td style=\"text-align: right;\">         75.7609</td><td style=\"text-align: right;\">   4.32958</td></tr>\n",
       "<tr><td>tune_exp_model_7fa8e_00004</td><td>TERMINATED</td><td>     </td><td style=\"text-align: right;\">             208</td><td style=\"text-align: right;\">          219</td><td style=\"text-align: right;\">0.00251416 </td><td style=\"text-align: right;\">0.497   </td><td style=\"text-align: right;\">3.34002</td><td style=\"text-align: right;\">    10</td><td style=\"text-align: right;\">         25.1071</td><td style=\"text-align: right;\">   4.13086</td></tr>\n",
       "<tr><td>tune_exp_model_7fa8e_00005</td><td>TERMINATED</td><td>     </td><td style=\"text-align: right;\">             331</td><td style=\"text-align: right;\">         1281</td><td style=\"text-align: right;\">0.0132951  </td><td style=\"text-align: right;\">0.495929</td><td style=\"text-align: right;\">3.32775</td><td style=\"text-align: right;\">    10</td><td style=\"text-align: right;\">         75.137 </td><td style=\"text-align: right;\">   4.30462</td></tr>\n",
       "<tr><td>tune_exp_model_7fa8e_00006</td><td>TERMINATED</td><td>     </td><td style=\"text-align: right;\">             214</td><td style=\"text-align: right;\">          338</td><td style=\"text-align: right;\">0.0264101  </td><td style=\"text-align: right;\">0.496214</td><td style=\"text-align: right;\">3.23905</td><td style=\"text-align: right;\">    10</td><td style=\"text-align: right;\">         31.1345</td><td style=\"text-align: right;\">   4.24375</td></tr>\n",
       "<tr><td>tune_exp_model_7fa8e_00007</td><td>TERMINATED</td><td>     </td><td style=\"text-align: right;\">             265</td><td style=\"text-align: right;\">          233</td><td style=\"text-align: right;\">0.00895279 </td><td style=\"text-align: right;\">0.522429</td><td style=\"text-align: right;\">2.69982</td><td style=\"text-align: right;\">    10</td><td style=\"text-align: right;\">         25.3547</td><td style=\"text-align: right;\">   3.97058</td></tr>\n",
       "<tr><td>tune_exp_model_7fa8e_00008</td><td>TERMINATED</td><td>     </td><td style=\"text-align: right;\">             338</td><td style=\"text-align: right;\">          295</td><td style=\"text-align: right;\">0.0148149  </td><td style=\"text-align: right;\">0.516643</td><td style=\"text-align: right;\">2.74659</td><td style=\"text-align: right;\">    10</td><td style=\"text-align: right;\">         29.175 </td><td style=\"text-align: right;\">   3.98812</td></tr>\n",
       "<tr><td>tune_exp_model_7fa8e_00009</td><td>TERMINATED</td><td>     </td><td style=\"text-align: right;\">             133</td><td style=\"text-align: right;\">          960</td><td style=\"text-align: right;\">0.00861211 </td><td style=\"text-align: right;\">0.519857</td><td style=\"text-align: right;\">2.65132</td><td style=\"text-align: right;\">    10</td><td style=\"text-align: right;\">         47.6605</td><td style=\"text-align: right;\">   4.06254</td></tr>\n",
       "<tr><td>tune_exp_model_7fa8e_00010</td><td>TERMINATED</td><td>     </td><td style=\"text-align: right;\">             238</td><td style=\"text-align: right;\">          868</td><td style=\"text-align: right;\">0.0250214  </td><td style=\"text-align: right;\">0.487857</td><td style=\"text-align: right;\">3.44145</td><td style=\"text-align: right;\">    10</td><td style=\"text-align: right;\">         51.2068</td><td style=\"text-align: right;\">   4.44682</td></tr>\n",
       "<tr><td>tune_exp_model_7fa8e_00011</td><td>TERMINATED</td><td>     </td><td style=\"text-align: right;\">             155</td><td style=\"text-align: right;\">          991</td><td style=\"text-align: right;\">0.0287446  </td><td style=\"text-align: right;\">0.418929</td><td style=\"text-align: right;\">5.48916</td><td style=\"text-align: right;\">    10</td><td style=\"text-align: right;\">         51.9934</td><td style=\"text-align: right;\">   6.93684</td></tr>\n",
       "<tr><td>tune_exp_model_7fa8e_00012</td><td>TERMINATED</td><td>     </td><td style=\"text-align: right;\">             422</td><td style=\"text-align: right;\">         1321</td><td style=\"text-align: right;\">0.00280741 </td><td style=\"text-align: right;\">0.533429</td><td style=\"text-align: right;\">2.41555</td><td style=\"text-align: right;\">    10</td><td style=\"text-align: right;\">         84.6023</td><td style=\"text-align: right;\">   4.03127</td></tr>\n",
       "<tr><td>tune_exp_model_7fa8e_00013</td><td>TERMINATED</td><td>     </td><td style=\"text-align: right;\">             402</td><td style=\"text-align: right;\">         1073</td><td style=\"text-align: right;\">0.0143743  </td><td style=\"text-align: right;\">0.492357</td><td style=\"text-align: right;\">3.4774 </td><td style=\"text-align: right;\">    10</td><td style=\"text-align: right;\">         65.2671</td><td style=\"text-align: right;\">   4.45235</td></tr>\n",
       "<tr><td>tune_exp_model_7fa8e_00014</td><td>TERMINATED</td><td>     </td><td style=\"text-align: right;\">             484</td><td style=\"text-align: right;\">          556</td><td style=\"text-align: right;\">0.0253169  </td><td style=\"text-align: right;\">0.501071</td><td style=\"text-align: right;\">3.09626</td><td style=\"text-align: right;\">    10</td><td style=\"text-align: right;\">         47.5836</td><td style=\"text-align: right;\">   4.12627</td></tr>\n",
       "<tr><td>tune_exp_model_7fa8e_00015</td><td>TERMINATED</td><td>     </td><td style=\"text-align: right;\">             318</td><td style=\"text-align: right;\">         1027</td><td style=\"text-align: right;\">0.0169393  </td><td style=\"text-align: right;\">0.496714</td><td style=\"text-align: right;\">3.22063</td><td style=\"text-align: right;\">    10</td><td style=\"text-align: right;\">         58.4884</td><td style=\"text-align: right;\">   4.28415</td></tr>\n",
       "<tr><td>tune_exp_model_7fa8e_00016</td><td>TERMINATED</td><td>     </td><td style=\"text-align: right;\">             311</td><td style=\"text-align: right;\">          579</td><td style=\"text-align: right;\">0.0245034  </td><td style=\"text-align: right;\">0.496929</td><td style=\"text-align: right;\">3.30535</td><td style=\"text-align: right;\">    10</td><td style=\"text-align: right;\">         37.3751</td><td style=\"text-align: right;\">   4.24794</td></tr>\n",
       "<tr><td>tune_exp_model_7fa8e_00017</td><td>TERMINATED</td><td>     </td><td style=\"text-align: right;\">             417</td><td style=\"text-align: right;\">          921</td><td style=\"text-align: right;\">0.000271478</td><td style=\"text-align: right;\">0.4975  </td><td style=\"text-align: right;\">3.17384</td><td style=\"text-align: right;\">    10</td><td style=\"text-align: right;\">         64.6868</td><td style=\"text-align: right;\">   3.86062</td></tr>\n",
       "<tr><td>tune_exp_model_7fa8e_00018</td><td>TERMINATED</td><td>     </td><td style=\"text-align: right;\">             144</td><td style=\"text-align: right;\">         1310</td><td style=\"text-align: right;\">0.00607299 </td><td style=\"text-align: right;\">0.473286</td><td style=\"text-align: right;\">3.58975</td><td style=\"text-align: right;\">    10</td><td style=\"text-align: right;\">         72.6388</td><td style=\"text-align: right;\">   3.98853</td></tr>\n",
       "<tr><td>tune_exp_model_7fa8e_00019</td><td>TERMINATED</td><td>     </td><td style=\"text-align: right;\">             415</td><td style=\"text-align: right;\">          457</td><td style=\"text-align: right;\">0.0173049  </td><td style=\"text-align: right;\">0.494571</td><td style=\"text-align: right;\">3.05551</td><td style=\"text-align: right;\">    10</td><td style=\"text-align: right;\">         36.0098</td><td style=\"text-align: right;\">   4.11198</td></tr>\n",
       "<tr><td>tune_exp_model_7fa8e_00020</td><td>TERMINATED</td><td>     </td><td style=\"text-align: right;\">             272</td><td style=\"text-align: right;\">          610</td><td style=\"text-align: right;\">0.00202876 </td><td style=\"text-align: right;\">0.508   </td><td style=\"text-align: right;\">2.84249</td><td style=\"text-align: right;\">    10</td><td style=\"text-align: right;\">         39.2385</td><td style=\"text-align: right;\">   3.95994</td></tr>\n",
       "<tr><td>tune_exp_model_7fa8e_00021</td><td>TERMINATED</td><td>     </td><td style=\"text-align: right;\">             502</td><td style=\"text-align: right;\">         1451</td><td style=\"text-align: right;\">0.016439   </td><td style=\"text-align: right;\">0.410929</td><td style=\"text-align: right;\">4.28321</td><td style=\"text-align: right;\">    10</td><td style=\"text-align: right;\">         94.6113</td><td style=\"text-align: right;\">   5.07508</td></tr>\n",
       "<tr><td>tune_exp_model_7fa8e_00022</td><td>TERMINATED</td><td>     </td><td style=\"text-align: right;\">             160</td><td style=\"text-align: right;\">          524</td><td style=\"text-align: right;\">0.000970436</td><td style=\"text-align: right;\">0.498786</td><td style=\"text-align: right;\">3.23083</td><td style=\"text-align: right;\">    10</td><td style=\"text-align: right;\">         35.3138</td><td style=\"text-align: right;\">   3.94901</td></tr>\n",
       "<tr><td>tune_exp_model_7fa8e_00023</td><td>TERMINATED</td><td>     </td><td style=\"text-align: right;\">             303</td><td style=\"text-align: right;\">          286</td><td style=\"text-align: right;\">0.00343247 </td><td style=\"text-align: right;\">0.500929</td><td style=\"text-align: right;\">3.09765</td><td style=\"text-align: right;\">    10</td><td style=\"text-align: right;\">         30.2647</td><td style=\"text-align: right;\">   3.96443</td></tr>\n",
       "<tr><td>tune_exp_model_7fa8e_00024</td><td>TERMINATED</td><td>     </td><td style=\"text-align: right;\">             263</td><td style=\"text-align: right;\">         1430</td><td style=\"text-align: right;\">0.00833279 </td><td style=\"text-align: right;\">0.491786</td><td style=\"text-align: right;\">3.13459</td><td style=\"text-align: right;\">    10</td><td style=\"text-align: right;\">         84.1289</td><td style=\"text-align: right;\">   4.25653</td></tr>\n",
       "<tr><td>tune_exp_model_7fa8e_00025</td><td>TERMINATED</td><td>     </td><td style=\"text-align: right;\">             192</td><td style=\"text-align: right;\">          456</td><td style=\"text-align: right;\">0.0170259  </td><td style=\"text-align: right;\">0.510571</td><td style=\"text-align: right;\">2.81611</td><td style=\"text-align: right;\">    10</td><td style=\"text-align: right;\">         32.0344</td><td style=\"text-align: right;\">   3.99746</td></tr>\n",
       "<tr><td>tune_exp_model_7fa8e_00026</td><td>TERMINATED</td><td>     </td><td style=\"text-align: right;\">             254</td><td style=\"text-align: right;\">          869</td><td style=\"text-align: right;\">0.0243759  </td><td style=\"text-align: right;\">0.491857</td><td style=\"text-align: right;\">3.39025</td><td style=\"text-align: right;\">    10</td><td style=\"text-align: right;\">         49.9457</td><td style=\"text-align: right;\">   4.30016</td></tr>\n",
       "<tr><td>tune_exp_model_7fa8e_00027</td><td>TERMINATED</td><td>     </td><td style=\"text-align: right;\">             361</td><td style=\"text-align: right;\">         1110</td><td style=\"text-align: right;\">0.0273875  </td><td style=\"text-align: right;\">0.491   </td><td style=\"text-align: right;\">3.19061</td><td style=\"text-align: right;\">    10</td><td style=\"text-align: right;\">         67.1489</td><td style=\"text-align: right;\">   4.42269</td></tr>\n",
       "<tr><td>tune_exp_model_7fa8e_00028</td><td>TERMINATED</td><td>     </td><td style=\"text-align: right;\">             338</td><td style=\"text-align: right;\">         1245</td><td style=\"text-align: right;\">0.0205586  </td><td style=\"text-align: right;\">0.491571</td><td style=\"text-align: right;\">3.50829</td><td style=\"text-align: right;\">    10</td><td style=\"text-align: right;\">         72.1357</td><td style=\"text-align: right;\">   4.25686</td></tr>\n",
       "<tr><td>tune_exp_model_7fa8e_00029</td><td>TERMINATED</td><td>     </td><td style=\"text-align: right;\">             353</td><td style=\"text-align: right;\">          668</td><td style=\"text-align: right;\">0.00652788 </td><td style=\"text-align: right;\">0.527643</td><td style=\"text-align: right;\">2.56607</td><td style=\"text-align: right;\">    10</td><td style=\"text-align: right;\">         40.7127</td><td style=\"text-align: right;\">   3.90082</td></tr>\n",
       "</tbody>\n",
       "</table><br><br>"
      ],
      "text/plain": [
       "<IPython.core.display.HTML object>"
      ]
     },
     "metadata": {},
     "output_type": "display_data"
    },
    {
     "name": "stderr",
     "output_type": "stream",
     "text": [
      "2021-07-24 15:11:16,419\tINFO tune.py:448 -- Total run time: 1672.49 seconds (1671.40 seconds for the tuning loop).\n"
     ]
    }
   ],
   "source": [
    "import numpy as np; np.random.seed(5)\n",
    "from ray.tune import JupyterNotebookReporter\n",
    "from ray.tune.suggest.basic_variant import BasicVariantGenerator\n",
    "\n",
    "\n",
    "RAY_USE_MULTIPROCESSING_CPU_COUNT=4\n",
    "reporter = JupyterNotebookReporter(overwrite=True)\n",
    "reporter.add_metric_column(\"val_loss\")\n",
    "\n",
    "\n",
    "ray.shutdown()  # Restart Ray defensively in case the ray connection is lost. \n",
    "ray.init(log_to_driver=False)\n",
    "# We clean out the logs before running for a clean visualization later.\n",
    "#! rm -rf ~/aiffel/000Projects/EX4_data/ray_results\n",
    "\n",
    "\n",
    "analysis = ray.tune.run(\n",
    "    tune_exp_model,\n",
    "    metric=\"val_loss\",\n",
    "    verbose=2, \n",
    "    config=hyperparameter_space,\n",
    "    num_samples=num_samples,\n",
    "    resources_per_trial={\"cpu\": 4, \"gpu\": 1},\n",
    "    progress_reporter=reporter,\n",
    "    local_dir=\"~/aiffel/000Projects/EX4_data/ray_results_exp\"\n",
    "    )\n",
    "\n",
    "assert len(analysis.trials) == 30, \"Did you set the correct number of samples?\""
   ]
  },
  {
   "cell_type": "code",
   "execution_count": 26,
   "id": "toxic-crown",
   "metadata": {},
   "outputs": [
    {
     "name": "stdout",
     "output_type": "stream",
     "text": [
      "Best config: {'lr': 0.00027147819062335767, 'embedding_size': 417, 'hidden_size': 921, 'num_gpus': 1}\n"
     ]
    }
   ],
   "source": [
    "best_config = analysis.get_best_config(metric=\"val_loss\", mode='min')\n",
    "print(f'Best config: {best_config}')"
   ]
  },
  {
   "cell_type": "markdown",
   "id": "utility-florist",
   "metadata": {},
   "source": [
    "작은 search space에서도 시도해본다."
   ]
  },
  {
   "cell_type": "code",
   "execution_count": 27,
   "id": "concrete-recipient",
   "metadata": {},
   "outputs": [],
   "source": [
    "hyperparameter_space_1 = {\n",
    "    \"lr\": tune.loguniform(0.00027, 0.0027),  \n",
    "    \"embedding_size\": tune.randint(400, 450),\n",
    "    \"hidden_size\": tune.randint(900, 1100),\n",
    "    \"num_gpus\": 1\n",
    "}"
   ]
  },
  {
   "cell_type": "code",
   "execution_count": 28,
   "id": "color-breathing",
   "metadata": {},
   "outputs": [
    {
     "data": {
      "text/html": [
       "== Status ==<br>Memory usage on this node: 5.1/54.9 GiB<br>Using FIFO scheduling algorithm.<br>Resources requested: 0/4 CPUs, 0/1 GPUs, 0.0/25.1 GiB heap, 0.0/8.64 GiB objects (0/1.0 accelerator_type:K80)<br>Result logdir: /aiffel/aiffel/000Projects/EX4_data/ray_results_exp/tune_exp_model_2021-07-24_15-46-12<br>Number of trials: 30/30 (30 TERMINATED)<br><table>\n",
       "<thead>\n",
       "<tr><th>Trial name                </th><th>status    </th><th>loc  </th><th style=\"text-align: right;\">  embedding_size</th><th style=\"text-align: right;\">  hidden_size</th><th style=\"text-align: right;\">         lr</th><th style=\"text-align: right;\">     acc</th><th style=\"text-align: right;\">   loss</th><th style=\"text-align: right;\">  iter</th><th style=\"text-align: right;\">  total time (s)</th><th style=\"text-align: right;\">  val_loss</th></tr>\n",
       "</thead>\n",
       "<tbody>\n",
       "<tr><td>tune_exp_model_45c75_00000</td><td>TERMINATED</td><td>     </td><td style=\"text-align: right;\">             447</td><td style=\"text-align: right;\">         1089</td><td style=\"text-align: right;\">0.00045015 </td><td style=\"text-align: right;\">0.4985  </td><td style=\"text-align: right;\">3.05787</td><td style=\"text-align: right;\">    10</td><td style=\"text-align: right;\">         73.4484</td><td style=\"text-align: right;\">   3.94819</td></tr>\n",
       "<tr><td>tune_exp_model_45c75_00001</td><td>TERMINATED</td><td>     </td><td style=\"text-align: right;\">             416</td><td style=\"text-align: right;\">          973</td><td style=\"text-align: right;\">0.000434593</td><td style=\"text-align: right;\">0.497286</td><td style=\"text-align: right;\">3.0679 </td><td style=\"text-align: right;\">    10</td><td style=\"text-align: right;\">         61.5479</td><td style=\"text-align: right;\">   3.93399</td></tr>\n",
       "<tr><td>tune_exp_model_45c75_00002</td><td>TERMINATED</td><td>     </td><td style=\"text-align: right;\">             439</td><td style=\"text-align: right;\">         1090</td><td style=\"text-align: right;\">0.000831333</td><td style=\"text-align: right;\">0.503571</td><td style=\"text-align: right;\">2.94157</td><td style=\"text-align: right;\">    10</td><td style=\"text-align: right;\">         70.871 </td><td style=\"text-align: right;\">   3.98165</td></tr>\n",
       "<tr><td>tune_exp_model_45c75_00003</td><td>TERMINATED</td><td>     </td><td style=\"text-align: right;\">             430</td><td style=\"text-align: right;\">          907</td><td style=\"text-align: right;\">0.00157497 </td><td style=\"text-align: right;\">0.508643</td><td style=\"text-align: right;\">2.87399</td><td style=\"text-align: right;\">    10</td><td style=\"text-align: right;\">         65.1031</td><td style=\"text-align: right;\">   4.03837</td></tr>\n",
       "<tr><td>tune_exp_model_45c75_00004</td><td>TERMINATED</td><td>     </td><td style=\"text-align: right;\">             449</td><td style=\"text-align: right;\">         1081</td><td style=\"text-align: right;\">0.00264353 </td><td style=\"text-align: right;\">0.515429</td><td style=\"text-align: right;\">2.67702</td><td style=\"text-align: right;\">    10</td><td style=\"text-align: right;\">         69.3109</td><td style=\"text-align: right;\">   4.0766 </td></tr>\n",
       "<tr><td>tune_exp_model_45c75_00005</td><td>TERMINATED</td><td>     </td><td style=\"text-align: right;\">             427</td><td style=\"text-align: right;\">          944</td><td style=\"text-align: right;\">0.00120454 </td><td style=\"text-align: right;\">0.504286</td><td style=\"text-align: right;\">2.91904</td><td style=\"text-align: right;\">    10</td><td style=\"text-align: right;\">         65.3673</td><td style=\"text-align: right;\">   3.98989</td></tr>\n",
       "<tr><td>tune_exp_model_45c75_00006</td><td>TERMINATED</td><td>     </td><td style=\"text-align: right;\">             401</td><td style=\"text-align: right;\">         1075</td><td style=\"text-align: right;\">0.000471959</td><td style=\"text-align: right;\">0.497071</td><td style=\"text-align: right;\">3.05442</td><td style=\"text-align: right;\">    10</td><td style=\"text-align: right;\">         66.3917</td><td style=\"text-align: right;\">   3.94899</td></tr>\n",
       "<tr><td>tune_exp_model_45c75_00007</td><td>TERMINATED</td><td>     </td><td style=\"text-align: right;\">             422</td><td style=\"text-align: right;\">         1025</td><td style=\"text-align: right;\">0.00034855 </td><td style=\"text-align: right;\">0.496214</td><td style=\"text-align: right;\">3.10726</td><td style=\"text-align: right;\">    10</td><td style=\"text-align: right;\">         71.0487</td><td style=\"text-align: right;\">   3.90915</td></tr>\n",
       "<tr><td>tune_exp_model_45c75_00008</td><td>TERMINATED</td><td>     </td><td style=\"text-align: right;\">             409</td><td style=\"text-align: right;\">         1006</td><td style=\"text-align: right;\">0.000355189</td><td style=\"text-align: right;\">0.496429</td><td style=\"text-align: right;\">3.10416</td><td style=\"text-align: right;\">    10</td><td style=\"text-align: right;\">         64.1679</td><td style=\"text-align: right;\">   3.90604</td></tr>\n",
       "<tr><td>tune_exp_model_45c75_00009</td><td>TERMINATED</td><td>     </td><td style=\"text-align: right;\">             401</td><td style=\"text-align: right;\">         1003</td><td style=\"text-align: right;\">0.00102613 </td><td style=\"text-align: right;\">0.504643</td><td style=\"text-align: right;\">2.93424</td><td style=\"text-align: right;\">    10</td><td style=\"text-align: right;\">         60.4627</td><td style=\"text-align: right;\">   3.99642</td></tr>\n",
       "<tr><td>tune_exp_model_45c75_00010</td><td>TERMINATED</td><td>     </td><td style=\"text-align: right;\">             405</td><td style=\"text-align: right;\">          958</td><td style=\"text-align: right;\">0.000520055</td><td style=\"text-align: right;\">0.497   </td><td style=\"text-align: right;\">3.05418</td><td style=\"text-align: right;\">    10</td><td style=\"text-align: right;\">         61.5912</td><td style=\"text-align: right;\">   3.94502</td></tr>\n",
       "<tr><td>tune_exp_model_45c75_00011</td><td>TERMINATED</td><td>     </td><td style=\"text-align: right;\">             404</td><td style=\"text-align: right;\">         1010</td><td style=\"text-align: right;\">0.000574021</td><td style=\"text-align: right;\">0.497071</td><td style=\"text-align: right;\">3.03248</td><td style=\"text-align: right;\">    10</td><td style=\"text-align: right;\">         61.9392</td><td style=\"text-align: right;\">   3.97182</td></tr>\n",
       "<tr><td>tune_exp_model_45c75_00012</td><td>TERMINATED</td><td>     </td><td style=\"text-align: right;\">             427</td><td style=\"text-align: right;\">          931</td><td style=\"text-align: right;\">0.000395345</td><td style=\"text-align: right;\">0.496214</td><td style=\"text-align: right;\">3.09838</td><td style=\"text-align: right;\">    10</td><td style=\"text-align: right;\">         65.0907</td><td style=\"text-align: right;\">   3.91252</td></tr>\n",
       "<tr><td>tune_exp_model_45c75_00013</td><td>TERMINATED</td><td>     </td><td style=\"text-align: right;\">             438</td><td style=\"text-align: right;\">         1005</td><td style=\"text-align: right;\">0.000332593</td><td style=\"text-align: right;\">0.496357</td><td style=\"text-align: right;\">3.11313</td><td style=\"text-align: right;\">    10</td><td style=\"text-align: right;\">         69.5867</td><td style=\"text-align: right;\">   3.89848</td></tr>\n",
       "<tr><td>tune_exp_model_45c75_00014</td><td>TERMINATED</td><td>     </td><td style=\"text-align: right;\">             418</td><td style=\"text-align: right;\">         1013</td><td style=\"text-align: right;\">0.000810523</td><td style=\"text-align: right;\">0.501429</td><td style=\"text-align: right;\">2.95127</td><td style=\"text-align: right;\">    10</td><td style=\"text-align: right;\">         61.4964</td><td style=\"text-align: right;\">   4.01313</td></tr>\n",
       "<tr><td>tune_exp_model_45c75_00015</td><td>TERMINATED</td><td>     </td><td style=\"text-align: right;\">             436</td><td style=\"text-align: right;\">         1008</td><td style=\"text-align: right;\">0.00188252 </td><td style=\"text-align: right;\">0.507571</td><td style=\"text-align: right;\">2.87961</td><td style=\"text-align: right;\">    10</td><td style=\"text-align: right;\">         64.3403</td><td style=\"text-align: right;\">   3.9846 </td></tr>\n",
       "<tr><td>tune_exp_model_45c75_00016</td><td>TERMINATED</td><td>     </td><td style=\"text-align: right;\">             411</td><td style=\"text-align: right;\">          967</td><td style=\"text-align: right;\">0.000987532</td><td style=\"text-align: right;\">0.502714</td><td style=\"text-align: right;\">2.93634</td><td style=\"text-align: right;\">    10</td><td style=\"text-align: right;\">         60.7204</td><td style=\"text-align: right;\">   4.00764</td></tr>\n",
       "<tr><td>tune_exp_model_45c75_00017</td><td>TERMINATED</td><td>     </td><td style=\"text-align: right;\">             403</td><td style=\"text-align: right;\">          991</td><td style=\"text-align: right;\">0.0017682  </td><td style=\"text-align: right;\">0.504143</td><td style=\"text-align: right;\">2.9204 </td><td style=\"text-align: right;\">    10</td><td style=\"text-align: right;\">         61.5313</td><td style=\"text-align: right;\">   3.97035</td></tr>\n",
       "<tr><td>tune_exp_model_45c75_00018</td><td>TERMINATED</td><td>     </td><td style=\"text-align: right;\">             429</td><td style=\"text-align: right;\">          933</td><td style=\"text-align: right;\">0.000490299</td><td style=\"text-align: right;\">0.495857</td><td style=\"text-align: right;\">3.06116</td><td style=\"text-align: right;\">    10</td><td style=\"text-align: right;\">         66.2697</td><td style=\"text-align: right;\">   3.9449 </td></tr>\n",
       "<tr><td>tune_exp_model_45c75_00019</td><td>TERMINATED</td><td>     </td><td style=\"text-align: right;\">             407</td><td style=\"text-align: right;\">          916</td><td style=\"text-align: right;\">0.00200377 </td><td style=\"text-align: right;\">0.505286</td><td style=\"text-align: right;\">2.89096</td><td style=\"text-align: right;\">    10</td><td style=\"text-align: right;\">         58.3503</td><td style=\"text-align: right;\">   4.0283 </td></tr>\n",
       "<tr><td>tune_exp_model_45c75_00020</td><td>TERMINATED</td><td>     </td><td style=\"text-align: right;\">             426</td><td style=\"text-align: right;\">          931</td><td style=\"text-align: right;\">0.00027138 </td><td style=\"text-align: right;\">0.496929</td><td style=\"text-align: right;\">3.1689 </td><td style=\"text-align: right;\">    10</td><td style=\"text-align: right;\">         69.8   </td><td style=\"text-align: right;\">   3.86545</td></tr>\n",
       "<tr><td>tune_exp_model_45c75_00021</td><td>TERMINATED</td><td>     </td><td style=\"text-align: right;\">             447</td><td style=\"text-align: right;\">         1044</td><td style=\"text-align: right;\">0.00258721 </td><td style=\"text-align: right;\">0.512571</td><td style=\"text-align: right;\">2.82298</td><td style=\"text-align: right;\">    10</td><td style=\"text-align: right;\">         66.8096</td><td style=\"text-align: right;\">   3.9989 </td></tr>\n",
       "<tr><td>tune_exp_model_45c75_00022</td><td>TERMINATED</td><td>     </td><td style=\"text-align: right;\">             445</td><td style=\"text-align: right;\">         1087</td><td style=\"text-align: right;\">0.00175831 </td><td style=\"text-align: right;\">0.507071</td><td style=\"text-align: right;\">2.88118</td><td style=\"text-align: right;\">    10</td><td style=\"text-align: right;\">         70.3211</td><td style=\"text-align: right;\">   3.9595 </td></tr>\n",
       "<tr><td>tune_exp_model_45c75_00023</td><td>TERMINATED</td><td>     </td><td style=\"text-align: right;\">             443</td><td style=\"text-align: right;\">          931</td><td style=\"text-align: right;\">0.00159301 </td><td style=\"text-align: right;\">0.507071</td><td style=\"text-align: right;\">2.87372</td><td style=\"text-align: right;\">    10</td><td style=\"text-align: right;\">         64.0315</td><td style=\"text-align: right;\">   3.94719</td></tr>\n",
       "<tr><td>tune_exp_model_45c75_00024</td><td>TERMINATED</td><td>     </td><td style=\"text-align: right;\">             444</td><td style=\"text-align: right;\">         1033</td><td style=\"text-align: right;\">0.000329526</td><td style=\"text-align: right;\">0.496357</td><td style=\"text-align: right;\">3.11067</td><td style=\"text-align: right;\">    10</td><td style=\"text-align: right;\">         69.5522</td><td style=\"text-align: right;\">   3.90308</td></tr>\n",
       "<tr><td>tune_exp_model_45c75_00025</td><td>TERMINATED</td><td>     </td><td style=\"text-align: right;\">             430</td><td style=\"text-align: right;\">          982</td><td style=\"text-align: right;\">0.000481514</td><td style=\"text-align: right;\">0.497429</td><td style=\"text-align: right;\">3.05669</td><td style=\"text-align: right;\">    10</td><td style=\"text-align: right;\">         66.617 </td><td style=\"text-align: right;\">   3.93954</td></tr>\n",
       "<tr><td>tune_exp_model_45c75_00026</td><td>TERMINATED</td><td>     </td><td style=\"text-align: right;\">             407</td><td style=\"text-align: right;\">          916</td><td style=\"text-align: right;\">0.00115646 </td><td style=\"text-align: right;\">0.504643</td><td style=\"text-align: right;\">2.92216</td><td style=\"text-align: right;\">    10</td><td style=\"text-align: right;\">         56.6143</td><td style=\"text-align: right;\">   4.01255</td></tr>\n",
       "<tr><td>tune_exp_model_45c75_00027</td><td>TERMINATED</td><td>     </td><td style=\"text-align: right;\">             426</td><td style=\"text-align: right;\">          944</td><td style=\"text-align: right;\">0.00116606 </td><td style=\"text-align: right;\">0.503286</td><td style=\"text-align: right;\">2.9391 </td><td style=\"text-align: right;\">    10</td><td style=\"text-align: right;\">         64.134 </td><td style=\"text-align: right;\">   3.99092</td></tr>\n",
       "<tr><td>tune_exp_model_45c75_00028</td><td>TERMINATED</td><td>     </td><td style=\"text-align: right;\">             430</td><td style=\"text-align: right;\">         1033</td><td style=\"text-align: right;\">0.00228059 </td><td style=\"text-align: right;\">0.518286</td><td style=\"text-align: right;\">2.70404</td><td style=\"text-align: right;\">    10</td><td style=\"text-align: right;\">         66.1466</td><td style=\"text-align: right;\">   3.94037</td></tr>\n",
       "<tr><td>tune_exp_model_45c75_00029</td><td>TERMINATED</td><td>     </td><td style=\"text-align: right;\">             405</td><td style=\"text-align: right;\">         1088</td><td style=\"text-align: right;\">0.00228384 </td><td style=\"text-align: right;\">0.516929</td><td style=\"text-align: right;\">2.7019 </td><td style=\"text-align: right;\">    10</td><td style=\"text-align: right;\">         63.4346</td><td style=\"text-align: right;\">   3.91675</td></tr>\n",
       "</tbody>\n",
       "</table><br><br>"
      ],
      "text/plain": [
       "<IPython.core.display.HTML object>"
      ]
     },
     "metadata": {},
     "output_type": "display_data"
    },
    {
     "name": "stderr",
     "output_type": "stream",
     "text": [
      "2021-07-24 16:19:54,985\tINFO tune.py:448 -- Total run time: 2022.59 seconds (2022.48 seconds for the tuning loop).\n"
     ]
    }
   ],
   "source": [
    "import numpy as np; np.random.seed(5)\n",
    "from ray.tune import JupyterNotebookReporter\n",
    "from ray.tune.suggest.basic_variant import BasicVariantGenerator\n",
    "\n",
    "\n",
    "RAY_USE_MULTIPROCESSING_CPU_COUNT=4\n",
    "reporter = JupyterNotebookReporter(overwrite=True)\n",
    "reporter.add_metric_column(\"val_loss\")\n",
    "\n",
    "\n",
    "ray.shutdown()  # Restart Ray defensively in case the ray connection is lost. \n",
    "ray.init(log_to_driver=False)\n",
    "# We clean out the logs before running for a clean visualization later.\n",
    "#! rm -rf ~/aiffel/000Projects/EX4_data/ray_results\n",
    "\n",
    "\n",
    "analysis = ray.tune.run(\n",
    "    tune_exp_model,\n",
    "    metric=\"val_loss\",\n",
    "    verbose=2, \n",
    "    config=hyperparameter_space_1,\n",
    "    num_samples=num_samples,\n",
    "    resources_per_trial={\"cpu\": 4, \"gpu\": 1},\n",
    "    progress_reporter=reporter,\n",
    "    local_dir=\"~/aiffel/000Projects/EX4_data/ray_results_exp\"\n",
    "    )\n",
    "\n",
    "assert len(analysis.trials) == 30, \"Did you set the correct number of samples?\""
   ]
  },
  {
   "cell_type": "code",
   "execution_count": 35,
   "id": "overall-silly",
   "metadata": {
    "collapsed": true
   },
   "outputs": [
    {
     "ename": "NameError",
     "evalue": "name 'create_model' is not defined",
     "output_type": "error",
     "traceback": [
      "\u001b[0;31m---------------------------------------------------------------------------\u001b[0m",
      "\u001b[0;31mNameError\u001b[0m                                 Traceback (most recent call last)",
      "\u001b[0;32m<ipython-input-35-c8b3ed83d80f>\u001b[0m in \u001b[0;36m<module>\u001b[0;34m\u001b[0m\n\u001b[0;32m----> 1\u001b[0;31m \u001b[0msearched_model\u001b[0m \u001b[0;34m=\u001b[0m \u001b[0mcreate_model\u001b[0m\u001b[0;34m(\u001b[0m\u001b[0membedding_size\u001b[0m\u001b[0;34m=\u001b[0m\u001b[0;36m426\u001b[0m\u001b[0;34m,\u001b[0m \u001b[0mhidden_size\u001b[0m\u001b[0;34m=\u001b[0m\u001b[0;36m931\u001b[0m\u001b[0;34m,\u001b[0m \u001b[0mlr\u001b[0m\u001b[0;34m=\u001b[0m\u001b[0;36m0.00027138\u001b[0m\u001b[0;34m)\u001b[0m\u001b[0;34m\u001b[0m\u001b[0;34m\u001b[0m\u001b[0m\n\u001b[0m\u001b[1;32m      2\u001b[0m \u001b[0mtrain_set\u001b[0m \u001b[0;34m=\u001b[0m \u001b[0mcreate_dataset\u001b[0m\u001b[0;34m(\u001b[0m\u001b[0menc_train\u001b[0m\u001b[0;34m,\u001b[0m \u001b[0mdec_train\u001b[0m\u001b[0;34m)\u001b[0m\u001b[0;34m\u001b[0m\u001b[0;34m\u001b[0m\u001b[0m\n\u001b[1;32m      3\u001b[0m \u001b[0mval_set\u001b[0m \u001b[0;34m=\u001b[0m \u001b[0mcreate_dataset\u001b[0m\u001b[0;34m(\u001b[0m\u001b[0menc_val\u001b[0m\u001b[0;34m,\u001b[0m \u001b[0mdec_val\u001b[0m\u001b[0;34m)\u001b[0m\u001b[0;34m\u001b[0m\u001b[0;34m\u001b[0m\u001b[0m\n\u001b[1;32m      4\u001b[0m \u001b[0;34m\u001b[0m\u001b[0m\n\u001b[1;32m      5\u001b[0m \u001b[0;31m# callbacks = [tf.keras.callbacks.EarlyStopping(monitor='val_loss', mode='min'),\u001b[0m\u001b[0;34m\u001b[0m\u001b[0;34m\u001b[0m\u001b[0;34m\u001b[0m\u001b[0m\n",
      "\u001b[0;31mNameError\u001b[0m: name 'create_model' is not defined"
     ]
    }
   ],
   "source": [
    "searched_model = create_model(embedding_size=426, hidden_size=931, lr=0.00027138)\n",
    "train_set = create_dataset(enc_train, dec_train)\n",
    "val_set = create_dataset(enc_val, dec_val)\n",
    "\n",
    "callbacks = [tf.keras.callbacks.EarlyStopping(monitor='val_loss', mode='min'),\n",
    "             tf.keras.callbacks.ModelCheckpoint(filepath='best_model_426_931.h5',\n",
    "                                             monitor='val_loss',\n",
    "                                             save_best_only=True)]\n",
    "\n",
    "searched_model.fit(train_set, validation_data=val_set, epochs=10, callbacks=callbacks)"
   ]
  },
  {
   "cell_type": "markdown",
   "id": "modified-jacket",
   "metadata": {},
   "source": [
    "10 epoch 안에 2.2의 val_loss에 도달하지 못한다. 모델의 변화를 줘 본다"
   ]
  },
  {
   "cell_type": "markdown",
   "id": "respective-crest",
   "metadata": {},
   "source": [
    "## Bidirection and dropout"
   ]
  },
  {
   "cell_type": "code",
   "execution_count": 2,
   "id": "approximate-white",
   "metadata": {},
   "outputs": [],
   "source": [
    "import tensorflow as tf"
   ]
  },
  {
   "cell_type": "code",
   "execution_count": 233,
   "id": "fantastic-deployment",
   "metadata": {},
   "outputs": [],
   "source": [
    "import tensorflow.keras.layers\n",
    "\n",
    "\n",
    "class TextGeneratorLN(tf.keras.Model):\n",
    "    def __init__(self, vocab_size, embedding_size, hidden_size):\n",
    "        super().__init__()\n",
    "        \n",
    "        self.embedding = tf.keras.layers.Embedding(vocab_size, embedding_size)\n",
    "        self.bid_rnn_1 = tf.keras.layers.Bidirectional(tensorflow.keras.layers.LSTM(hidden_size, return_sequences=True, dropout=0.1, recurrent_dropout=0.05), merge_mode=\"concat\")\n",
    "        self.bid_rnn_2 = tf.keras.layers.Bidirectional(tensorflow.keras.layers.LSTM(hidden_size, return_sequences=True, dropout=0.1, recurrent_dropout=0.05), merge_mode=\"concat\")\n",
    "        self.linear = tf.keras.layers.Dense(vocab_size)\n",
    "        \n",
    "    def call(self, x):\n",
    "        out = self.embedding(x)\n",
    "        out = self.bid_rnn_1(out)\n",
    "        out = self.bid_rnn_2(out)\n",
    "        out = self.linear(out)\n",
    "        \n",
    "        return out"
   ]
  },
  {
   "cell_type": "code",
   "execution_count": 240,
   "id": "canadian-sweet",
   "metadata": {},
   "outputs": [
    {
     "data": {
      "text/plain": [
       "20000"
      ]
     },
     "execution_count": 240,
     "metadata": {},
     "output_type": "execute_result"
    }
   ],
   "source": [
    "tokenizer.num_words"
   ]
  },
  {
   "cell_type": "code",
   "execution_count": 234,
   "id": "hindu-mechanism",
   "metadata": {},
   "outputs": [],
   "source": [
    "def create_model_ln(*, embedding_size, hidden_size, lr, vocab_size=tokenizer.num_words+1):\n",
    "    '''This is a model generating function so that we can search over neural net \n",
    "    parameters and architecture'''\n",
    "    \n",
    "    optimizer = tf.keras.optimizers.Adam(lr)\n",
    "    loss = tf.keras.losses.SparseCategoricalCrossentropy(\n",
    "        from_logits=True,\n",
    "    reduction='none'\n",
    "    )\n",
    "    \n",
    "    model = TextGeneratorLN(vocab_size, embedding_size, hidden_size)\n",
    "    model.compile(loss=loss, optimizer=optimizer, metrics=['accuracy'])\n",
    "    return model"
   ]
  },
  {
   "cell_type": "code",
   "execution_count": 235,
   "id": "aging-toronto",
   "metadata": {},
   "outputs": [],
   "source": [
    "train_set = create_dataset(enc_train, dec_train)\n",
    "val_set = create_dataset(enc_val, dec_val)"
   ]
  },
  {
   "cell_type": "code",
   "execution_count": 236,
   "id": "second-shadow",
   "metadata": {},
   "outputs": [
    {
     "name": "stdout",
     "output_type": "stream",
     "text": [
      "WARNING:tensorflow:Layer lstm_28 will not use cuDNN kernel since it doesn't meet the cuDNN kernel criteria. It will use generic GPU kernel as fallback when running on GPU\n",
      "WARNING:tensorflow:Layer lstm_28 will not use cuDNN kernel since it doesn't meet the cuDNN kernel criteria. It will use generic GPU kernel as fallback when running on GPU\n",
      "WARNING:tensorflow:Layer lstm_28 will not use cuDNN kernel since it doesn't meet the cuDNN kernel criteria. It will use generic GPU kernel as fallback when running on GPU\n",
      "WARNING:tensorflow:Layer lstm_29 will not use cuDNN kernel since it doesn't meet the cuDNN kernel criteria. It will use generic GPU kernel as fallback when running on GPU\n",
      "WARNING:tensorflow:Layer lstm_29 will not use cuDNN kernel since it doesn't meet the cuDNN kernel criteria. It will use generic GPU kernel as fallback when running on GPU\n",
      "WARNING:tensorflow:Layer lstm_29 will not use cuDNN kernel since it doesn't meet the cuDNN kernel criteria. It will use generic GPU kernel as fallback when running on GPU\n",
      "Epoch 1/10\n",
      "929/929 [==============================] - 375s 397ms/step - loss: 2.6509 - accuracy: 0.6156 - val_loss: 0.5010 - val_accuracy: 0.9268\n",
      "Epoch 2/10\n",
      "929/929 [==============================] - 368s 396ms/step - loss: 0.3543 - accuracy: 0.9454 - val_loss: 0.1620 - val_accuracy: 0.9754\n",
      "Epoch 3/10\n",
      "929/929 [==============================] - 368s 396ms/step - loss: 0.0850 - accuracy: 0.9852 - val_loss: 0.0871 - val_accuracy: 0.9865\n",
      "Epoch 4/10\n",
      "929/929 [==============================] - 368s 396ms/step - loss: 0.0226 - accuracy: 0.9963 - val_loss: 0.0666 - val_accuracy: 0.9897\n",
      "Epoch 5/10\n",
      "929/929 [==============================] - 368s 396ms/step - loss: 0.0080 - accuracy: 0.9989 - val_loss: 0.0569 - val_accuracy: 0.9913\n",
      "Epoch 6/10\n",
      "929/929 [==============================] - 368s 396ms/step - loss: 0.0046 - accuracy: 0.9994 - val_loss: 0.0559 - val_accuracy: 0.9914\n",
      "Epoch 7/10\n",
      "929/929 [==============================] - 368s 396ms/step - loss: 0.0073 - accuracy: 0.9987 - val_loss: 0.0664 - val_accuracy: 0.9896\n"
     ]
    },
    {
     "data": {
      "text/plain": [
       "<tensorflow.python.keras.callbacks.History at 0x7f220060ff10>"
      ]
     },
     "execution_count": 236,
     "metadata": {},
     "output_type": "execute_result"
    }
   ],
   "source": [
    "bid_model = create_model_ln(embedding_size=320, hidden_size=512, lr=0.0035)\n",
    "train_set = create_dataset(enc_train, dec_train)\n",
    "val_set = create_dataset(enc_val, dec_val)\n",
    "\n",
    "callbacks = [tf.keras.callbacks.EarlyStopping(monitor='val_loss', mode='min'),\n",
    "             tf.keras.callbacks.ModelCheckpoint(filepath='bid_model.h5',\n",
    "                                             monitor='val_loss',\n",
    "                                             save_best_only=True)]\n",
    "bid_model.fit(train_set, validation_data=val_set, epochs=10, callbacks=callbacks)"
   ]
  },
  {
   "cell_type": "markdown",
   "id": "viral-effects",
   "metadata": {},
   "source": [
    "bidirectional model의 경우, lr=0.07의 경우 val_loss가 낮게 나왔는데, 거의 대부분의 경우 생성을 포기하고 전부 padding으로 예측하였다. 따라서 작사가로서의 기능을 하지 못했다.\n",
    "lr=0.0035로 진행할 시 역시 마찬가지였다."
   ]
  },
  {
   "cell_type": "code",
   "execution_count": 285,
   "id": "solar-pennsylvania",
   "metadata": {},
   "outputs": [
    {
     "data": {
      "text/plain": [
       "'<start> falling <end> '"
      ]
     },
     "execution_count": 285,
     "metadata": {},
     "output_type": "execute_result"
    }
   ],
   "source": [
    "generate_text(bid_model, init_sentence=\"<start> falling\", max_len=20)"
   ]
  },
  {
   "cell_type": "code",
   "execution_count": 286,
   "id": "specified-hollywood",
   "metadata": {},
   "outputs": [
    {
     "data": {
      "text/plain": [
       "'<start> hey <end> '"
      ]
     },
     "execution_count": 286,
     "metadata": {},
     "output_type": "execute_result"
    }
   ],
   "source": [
    "generate_text(bid_model, init_sentence=\"<start> hey\", max_len=20)"
   ]
  },
  {
   "cell_type": "markdown",
   "id": "racial-prevention",
   "metadata": {},
   "source": [
    "# 모델 두 가지의 생성 결과 비교"
   ]
  },
  {
   "cell_type": "markdown",
   "id": "legendary-fireplace",
   "metadata": {},
   "source": [
    "### 두 번째로 성능이 좋았던 모델(embedding_size=350, hidden_size=900)을 new_model로 불러와 원래의 모델 lyricist와 생성을 비교한다."
   ]
  },
  {
   "cell_type": "code",
   "execution_count": 58,
   "id": "sorted-transition",
   "metadata": {},
   "outputs": [],
   "source": [
    "new_model = create_model(embedding_size=350, hidden_size=900, lr=0.00288)\n",
    "new_model.build((128,14))"
   ]
  },
  {
   "cell_type": "code",
   "execution_count": 60,
   "id": "casual-johnson",
   "metadata": {},
   "outputs": [
    {
     "name": "stdout",
     "output_type": "stream",
     "text": [
      "Model: \"text_generator\"\n",
      "_________________________________________________________________\n",
      "Layer (type)                 Output Shape              Param #   \n",
      "=================================================================\n",
      "embedding_11 (Embedding)     multiple                  7000350   \n",
      "_________________________________________________________________\n",
      "lstm_22 (LSTM)               multiple                  4503600   \n",
      "_________________________________________________________________\n",
      "lstm_23 (LSTM)               multiple                  6483600   \n",
      "_________________________________________________________________\n",
      "dense_11 (Dense)             multiple                  18020901  \n",
      "=================================================================\n",
      "Total params: 36,008,451\n",
      "Trainable params: 36,008,451\n",
      "Non-trainable params: 0\n",
      "_________________________________________________________________\n"
     ]
    }
   ],
   "source": [
    "new_model.summary()\n",
    "new_model.load_weights(\"EX4_data/best_model_350_900.h5\")"
   ]
  },
  {
   "cell_type": "code",
   "execution_count": 253,
   "id": "divine-heating",
   "metadata": {},
   "outputs": [],
   "source": [
    "def generate_text(model, tokenizer=tokenizer, init_sentence=\"<start>\", max_len=20):\n",
    "    # 테스트를 위해서 입력받은 init_sentence도 텐서로 변환합니다\n",
    "    test_input = tokenizer.texts_to_sequences([init_sentence])\n",
    "    test_tensor = tf.convert_to_tensor(test_input, dtype=tf.int64)\n",
    "    end_token = tokenizer.word_index[\"<end>\"]\n",
    "\n",
    "    # 단어 하나씩 예측해 문장을 만듭니다\n",
    "    #    1. 입력받은 문장의 텐서를 입력합니다\n",
    "    #    2. 예측된 값 중 가장 높은 확률인 word index를 뽑아냅니다\n",
    "    #    3. 2에서 예측된 word index를 문장 뒤에 붙입니다\n",
    "    #    4. 모델이 <end>를 예측했거나, max_len에 도달했다면 문장 생성을 마칩니다\n",
    "    while True:\n",
    "        # 1\n",
    "        predict = model.predict(test_tensor) \n",
    "        # 2\n",
    "        predict_word = tf.argmax(tf.nn.softmax(predict, axis=-1), axis=-1)[:, -1] \n",
    "        # 3 \n",
    "        test_tensor = tf.concat([test_tensor, tf.expand_dims(predict_word, axis=0)], axis=-1)\n",
    "        # 4\n",
    "        if predict_word.numpy()[0] == end_token: break\n",
    "        if test_tensor.shape[1] >= max_len: break\n",
    "\n",
    "    generated = \"\"\n",
    "    # tokenizer를 이용해 word index를 단어로 하나씩 변환합니다 \n",
    "    for word_index in test_tensor[0].numpy():\n",
    "        generated += tokenizer.index_word[word_index] + \" \"\n",
    "\n",
    "    return generated"
   ]
  },
  {
   "cell_type": "code",
   "execution_count": 254,
   "id": "piano-princeton",
   "metadata": {},
   "outputs": [
    {
     "data": {
      "text/plain": [
       "\"<start> i like the way how you' re lovin' me <end> \""
      ]
     },
     "execution_count": 254,
     "metadata": {},
     "output_type": "execute_result"
    }
   ],
   "source": [
    "generate_text(new_model, init_sentence=\"<start> i like\", max_len=20)"
   ]
  },
  {
   "cell_type": "code",
   "execution_count": 76,
   "id": "geological-carpet",
   "metadata": {},
   "outputs": [
    {
     "data": {
      "text/plain": [
       "\"<start> i don' t know what to do <end> \""
      ]
     },
     "execution_count": 76,
     "metadata": {},
     "output_type": "execute_result"
    }
   ],
   "source": [
    "generate_text(new_model, init_sentence=\"<start> i don'\", max_len=20)"
   ]
  },
  {
   "cell_type": "code",
   "execution_count": 77,
   "id": "comprehensive-writing",
   "metadata": {},
   "outputs": [
    {
     "data": {
      "text/plain": [
       "'<start> you know what it is when you make me believe <end> '"
      ]
     },
     "execution_count": 77,
     "metadata": {},
     "output_type": "execute_result"
    }
   ],
   "source": [
    "generate_text(new_model, init_sentence=\"<start> you know what\", max_len=20)"
   ]
  },
  {
   "cell_type": "code",
   "execution_count": 78,
   "id": "later-enterprise",
   "metadata": {},
   "outputs": [
    {
     "data": {
      "text/plain": [
       "'<start> i believe i can fly <end> '"
      ]
     },
     "execution_count": 78,
     "metadata": {},
     "output_type": "execute_result"
    }
   ],
   "source": [
    "generate_text(new_model, init_sentence=\"<start> i believe\", max_len=20)"
   ]
  },
  {
   "cell_type": "code",
   "execution_count": 81,
   "id": "false-bundle",
   "metadata": {},
   "outputs": [
    {
     "data": {
      "text/plain": [
       "\"<start> i think i' m crazy <end> \""
      ]
     },
     "execution_count": 81,
     "metadata": {},
     "output_type": "execute_result"
    }
   ],
   "source": [
    "generate_text(new_model, init_sentence=\"<start> i think\", max_len=20)"
   ]
  },
  {
   "cell_type": "code",
   "execution_count": 84,
   "id": "surprised-private",
   "metadata": {},
   "outputs": [
    {
     "data": {
      "text/plain": [
       "'<start> i can see the colour of your kids <end> '"
      ]
     },
     "execution_count": 84,
     "metadata": {},
     "output_type": "execute_result"
    }
   ],
   "source": [
    "generate_text(new_model, init_sentence=\"<start> i can see\", max_len=20)"
   ]
  },
  {
   "cell_type": "code",
   "execution_count": 85,
   "id": "lesbian-polls",
   "metadata": {},
   "outputs": [
    {
     "data": {
      "text/plain": [
       "\"<start> my son , i can' t see <end> \""
      ]
     },
     "execution_count": 85,
     "metadata": {},
     "output_type": "execute_result"
    }
   ],
   "source": [
    "generate_text(new_model, init_sentence=\"<start> my son\", max_len=20)"
   ]
  },
  {
   "cell_type": "code",
   "execution_count": 89,
   "id": "dense-piece",
   "metadata": {},
   "outputs": [
    {
     "data": {
      "text/plain": [
       "'<start> kiss you taste you all night <end> '"
      ]
     },
     "execution_count": 89,
     "metadata": {},
     "output_type": "execute_result"
    }
   ],
   "source": [
    "generate_text(new_model, init_sentence=\"<start> kiss you\", max_len=20)"
   ]
  },
  {
   "cell_type": "code",
   "execution_count": 91,
   "id": "rolled-surprise",
   "metadata": {},
   "outputs": [
    {
     "data": {
      "text/plain": [
       "'<start> be crazy , wrong and warm <end> '"
      ]
     },
     "execution_count": 91,
     "metadata": {},
     "output_type": "execute_result"
    }
   ],
   "source": [
    "generate_text(new_model, init_sentence=\"<start> be crazy \", max_len=20)"
   ]
  },
  {
   "cell_type": "code",
   "execution_count": 93,
   "id": "consolidated-joseph",
   "metadata": {},
   "outputs": [
    {
     "data": {
      "text/plain": [
       "'<start> steal your heart to the top <end> '"
      ]
     },
     "execution_count": 93,
     "metadata": {},
     "output_type": "execute_result"
    }
   ],
   "source": [
    "generate_text(new_model, init_sentence=\"<start> steal your heart\", max_len=20)"
   ]
  },
  {
   "cell_type": "code",
   "execution_count": 95,
   "id": "executive-transcription",
   "metadata": {},
   "outputs": [
    {
     "data": {
      "text/plain": [
       "'<start> besides the world that i had to share <end> '"
      ]
     },
     "execution_count": 95,
     "metadata": {},
     "output_type": "execute_result"
    }
   ],
   "source": [
    "generate_text(new_model, init_sentence=\"<start> besides\", max_len=20)"
   ]
  },
  {
   "cell_type": "code",
   "execution_count": 102,
   "id": "favorite-mauritius",
   "metadata": {},
   "outputs": [
    {
     "data": {
      "text/plain": [
       "'<start> wonderful time for us to die <end> '"
      ]
     },
     "execution_count": 102,
     "metadata": {},
     "output_type": "execute_result"
    }
   ],
   "source": [
    "generate_text(new_model, init_sentence=\"<start> wonderful\", max_len=20)"
   ]
  },
  {
   "cell_type": "code",
   "execution_count": 104,
   "id": "unusual-criterion",
   "metadata": {},
   "outputs": [
    {
     "data": {
      "text/plain": [
       "'<start> every day create your history <end> '"
      ]
     },
     "execution_count": 104,
     "metadata": {},
     "output_type": "execute_result"
    }
   ],
   "source": [
    "generate_text(new_model, init_sentence=\"<start> every day\", max_len=20)"
   ]
  },
  {
   "cell_type": "code",
   "execution_count": 106,
   "id": "professional-tackle",
   "metadata": {},
   "outputs": [
    {
     "data": {
      "text/plain": [
       "\"<start> one day i' ll know <end> \""
      ]
     },
     "execution_count": 106,
     "metadata": {},
     "output_type": "execute_result"
    }
   ],
   "source": [
    "generate_text(new_model, init_sentence=\"<start> one day\", max_len=20)"
   ]
  },
  {
   "cell_type": "code",
   "execution_count": 123,
   "id": "ready-sample",
   "metadata": {},
   "outputs": [
    {
     "data": {
      "text/plain": [
       "'<start> try to get the screenshot and get some space <end> '"
      ]
     },
     "execution_count": 123,
     "metadata": {},
     "output_type": "execute_result"
    }
   ],
   "source": [
    "generate_text(new_model, init_sentence=\"<start> try to \", max_len=20)"
   ]
  },
  {
   "cell_type": "code",
   "execution_count": 118,
   "id": "hidden-shirt",
   "metadata": {},
   "outputs": [
    {
     "data": {
      "text/plain": [
       "'<start> sing a song for me applejack , applejack <end> '"
      ]
     },
     "execution_count": 118,
     "metadata": {},
     "output_type": "execute_result"
    }
   ],
   "source": [
    "generate_text(new_model, init_sentence=\"<start> sing a song\", max_len=20)"
   ]
  },
  {
   "cell_type": "code",
   "execution_count": 114,
   "id": "subsequent-newspaper",
   "metadata": {},
   "outputs": [
    {
     "data": {
      "text/plain": [
       "'<start> falling for your love <end> '"
      ]
     },
     "execution_count": 114,
     "metadata": {},
     "output_type": "execute_result"
    }
   ],
   "source": [
    "generate_text(new_model, init_sentence=\"<start> falling\", max_len=20)"
   ]
  },
  {
   "cell_type": "code",
   "execution_count": 135,
   "id": "prerequisite-classics",
   "metadata": {},
   "outputs": [
    {
     "data": {
      "text/plain": [
       "'<start> fly me to the moon <end> '"
      ]
     },
     "execution_count": 135,
     "metadata": {},
     "output_type": "execute_result"
    }
   ],
   "source": [
    "generate_text(new_model, init_sentence=\"<start> fly me\", max_len=20)"
   ]
  },
  {
   "cell_type": "code",
   "execution_count": 134,
   "id": "white-husband",
   "metadata": {},
   "outputs": [
    {
     "data": {
      "text/plain": [
       "'<start> get up , stand up <end> '"
      ]
     },
     "execution_count": 134,
     "metadata": {},
     "output_type": "execute_result"
    }
   ],
   "source": [
    "generate_text(new_model, init_sentence=\"<start> get up\", max_len=20)"
   ]
  },
  {
   "cell_type": "code",
   "execution_count": 130,
   "id": "portable-shannon",
   "metadata": {},
   "outputs": [
    {
     "data": {
      "text/plain": [
       "'<start> make a smile take care of the projects <end> '"
      ]
     },
     "execution_count": 130,
     "metadata": {},
     "output_type": "execute_result"
    }
   ],
   "source": [
    "generate_text(new_model, init_sentence=\"<start> make a smile\", max_len=20)"
   ]
  },
  {
   "cell_type": "code",
   "execution_count": 142,
   "id": "secure-motorcycle",
   "metadata": {},
   "outputs": [
    {
     "data": {
      "text/plain": [
       "\"<start> please , don' t you know that you' re gonna have to serve <end> \""
      ]
     },
     "execution_count": 142,
     "metadata": {},
     "output_type": "execute_result"
    }
   ],
   "source": [
    "generate_text(new_model, init_sentence=\"<start> please , don' t\", max_len=20)"
   ]
  },
  {
   "cell_type": "code",
   "execution_count": 144,
   "id": "completed-mechanism",
   "metadata": {},
   "outputs": [
    {
     "data": {
      "text/plain": [
       "\"<start> i' m gonna make you believe <end> \""
      ]
     },
     "execution_count": 144,
     "metadata": {},
     "output_type": "execute_result"
    }
   ],
   "source": [
    "generate_text(new_model, init_sentence=\"<start> i' m gonna\", max_len=20)"
   ]
  },
  {
   "cell_type": "code",
   "execution_count": 147,
   "id": "normal-adapter",
   "metadata": {},
   "outputs": [
    {
     "data": {
      "text/plain": [
       "'<start> nobody knows , nobody knows , nobody knows <end> '"
      ]
     },
     "execution_count": 147,
     "metadata": {},
     "output_type": "execute_result"
    }
   ],
   "source": [
    "generate_text(new_model, init_sentence=\"<start> nobody\", max_len=20)"
   ]
  },
  {
   "cell_type": "code",
   "execution_count": 148,
   "id": "specified-blackberry",
   "metadata": {},
   "outputs": [
    {
     "data": {
      "text/plain": [
       "'<start> apple are jumping up the hill <end> '"
      ]
     },
     "execution_count": 148,
     "metadata": {},
     "output_type": "execute_result"
    }
   ],
   "source": [
    "generate_text(new_model, init_sentence=\"<start> apple\", max_len=20)"
   ]
  },
  {
   "cell_type": "code",
   "execution_count": 149,
   "id": "bigger-timeline",
   "metadata": {},
   "outputs": [
    {
     "data": {
      "text/plain": [
       "'<start> sweet revenge <end> '"
      ]
     },
     "execution_count": 149,
     "metadata": {},
     "output_type": "execute_result"
    }
   ],
   "source": [
    "generate_text(new_model, init_sentence=\"<start> sweet\", max_len=20)"
   ]
  },
  {
   "cell_type": "code",
   "execution_count": 151,
   "id": "bearing-strap",
   "metadata": {},
   "outputs": [
    {
     "data": {
      "text/plain": [
       "\"<start> tired of this lie you' re telling me no more <end> \""
      ]
     },
     "execution_count": 151,
     "metadata": {},
     "output_type": "execute_result"
    }
   ],
   "source": [
    "generate_text(new_model, init_sentence=\"<start> tired\", max_len=20)"
   ]
  },
  {
   "cell_type": "code",
   "execution_count": 157,
   "id": "studied-bloom",
   "metadata": {},
   "outputs": [
    {
     "data": {
      "text/plain": [
       "\"<start> my god , i don' t care <end> \""
      ]
     },
     "execution_count": 157,
     "metadata": {},
     "output_type": "execute_result"
    }
   ],
   "source": [
    "generate_text(new_model, init_sentence=\"<start> my god\", max_len=20)"
   ]
  },
  {
   "cell_type": "code",
   "execution_count": 167,
   "id": "induced-knitting",
   "metadata": {},
   "outputs": [
    {
     "data": {
      "text/plain": [
       "'<start> your place is just like me <end> '"
      ]
     },
     "execution_count": 167,
     "metadata": {},
     "output_type": "execute_result"
    }
   ],
   "source": [
    "generate_text(new_model, init_sentence=\"<start> your place\", max_len=20)"
   ]
  },
  {
   "cell_type": "code",
   "execution_count": 168,
   "id": "alert-issue",
   "metadata": {},
   "outputs": [
    {
     "data": {
      "text/plain": [
       "'<start> await the light of the night <end> '"
      ]
     },
     "execution_count": 168,
     "metadata": {},
     "output_type": "execute_result"
    }
   ],
   "source": [
    "generate_text(new_model, init_sentence=\"<start> await\", max_len=20)"
   ]
  },
  {
   "cell_type": "code",
   "execution_count": 169,
   "id": "horizontal-pattern",
   "metadata": {},
   "outputs": [
    {
     "data": {
      "text/plain": [
       "'<start> vacation to get a little taller <end> '"
      ]
     },
     "execution_count": 169,
     "metadata": {},
     "output_type": "execute_result"
    }
   ],
   "source": [
    "generate_text(new_model, init_sentence=\"<start> vacation\", max_len=20)"
   ]
  },
  {
   "cell_type": "code",
   "execution_count": 172,
   "id": "rising-karen",
   "metadata": {},
   "outputs": [
    {
     "data": {
      "text/plain": [
       "'<start> in the forest , in the pines <end> '"
      ]
     },
     "execution_count": 172,
     "metadata": {},
     "output_type": "execute_result"
    }
   ],
   "source": [
    "generate_text(new_model, init_sentence=\"<start> in the forest , \", max_len=20)"
   ]
  },
  {
   "cell_type": "code",
   "execution_count": 174,
   "id": "empty-works",
   "metadata": {},
   "outputs": [
    {
     "data": {
      "text/plain": [
       "\"<start> look at the world , it' s the way you do <end> \""
      ]
     },
     "execution_count": 174,
     "metadata": {},
     "output_type": "execute_result"
    }
   ],
   "source": [
    "generate_text(new_model, init_sentence=\"<start> look at the\", max_len=20)"
   ]
  },
  {
   "cell_type": "code",
   "execution_count": 175,
   "id": "ideal-fields",
   "metadata": {},
   "outputs": [
    {
     "data": {
      "text/plain": [
       "'<start> i have been so good to you <end> '"
      ]
     },
     "execution_count": 175,
     "metadata": {},
     "output_type": "execute_result"
    }
   ],
   "source": [
    "generate_text(new_model, init_sentence=\"<start> i have\", max_len=20)"
   ]
  },
  {
   "cell_type": "code",
   "execution_count": 176,
   "id": "parliamentary-racing",
   "metadata": {},
   "outputs": [
    {
     "data": {
      "text/plain": [
       "'<start> wounded plans , plans , like a pirate drop <end> '"
      ]
     },
     "execution_count": 176,
     "metadata": {},
     "output_type": "execute_result"
    }
   ],
   "source": [
    "generate_text(new_model, init_sentence=\"<start> wounded\", max_len=20)"
   ]
  },
  {
   "cell_type": "code",
   "execution_count": 184,
   "id": "remarkable-efficiency",
   "metadata": {},
   "outputs": [
    {
     "data": {
      "text/plain": [
       "'<start> your phone is a flood of rubies <end> '"
      ]
     },
     "execution_count": 184,
     "metadata": {},
     "output_type": "execute_result"
    }
   ],
   "source": [
    "generate_text(new_model, init_sentence=\"<start> your phone\", max_len=20)"
   ]
  },
  {
   "cell_type": "code",
   "execution_count": 187,
   "id": "comparable-profit",
   "metadata": {},
   "outputs": [
    {
     "data": {
      "text/plain": [
       "'<start> lucky lefty of a pen <end> '"
      ]
     },
     "execution_count": 187,
     "metadata": {},
     "output_type": "execute_result"
    }
   ],
   "source": [
    "generate_text(new_model, init_sentence=\"<start> lucky\", max_len=20)"
   ]
  },
  {
   "cell_type": "code",
   "execution_count": 200,
   "id": "aging-linux",
   "metadata": {},
   "outputs": [
    {
     "data": {
      "text/plain": [
       "\"<start> my god , i don' t wanna be the one , manning <end> \""
      ]
     },
     "execution_count": 200,
     "metadata": {},
     "output_type": "execute_result"
    }
   ],
   "source": [
    "generate_text(lyricist, init_sentence=\"<start> my god\", max_len=20)"
   ]
  },
  {
   "cell_type": "code",
   "execution_count": 201,
   "id": "preceding-spoke",
   "metadata": {},
   "outputs": [
    {
     "data": {
      "text/plain": [
       "'<start> i have porno stars and spouses <end> '"
      ]
     },
     "execution_count": 201,
     "metadata": {},
     "output_type": "execute_result"
    }
   ],
   "source": [
    "generate_text(lyricist, init_sentence=\"<start> i have\", max_len=20)"
   ]
  },
  {
   "cell_type": "code",
   "execution_count": 202,
   "id": "direct-mobility",
   "metadata": {},
   "outputs": [
    {
     "data": {
      "text/plain": [
       "\"<start> tired of this lie you' re telling i won' t <end> \""
      ]
     },
     "execution_count": 202,
     "metadata": {},
     "output_type": "execute_result"
    }
   ],
   "source": [
    "generate_text(lyricist, init_sentence=\"<start> tired\", max_len=20)"
   ]
  },
  {
   "cell_type": "code",
   "execution_count": 203,
   "id": "republican-mustang",
   "metadata": {},
   "outputs": [
    {
     "data": {
      "text/plain": [
       "\"<start> i' m gonna be good to you <end> \""
      ]
     },
     "execution_count": 203,
     "metadata": {},
     "output_type": "execute_result"
    }
   ],
   "source": [
    "generate_text(lyricist, init_sentence=\"<start> i' m gonna\", max_len=20)"
   ]
  },
  {
   "cell_type": "code",
   "execution_count": 204,
   "id": "comfortable-export",
   "metadata": {},
   "outputs": [
    {
     "data": {
      "text/plain": [
       "'<start> look at the owl on the floor <end> '"
      ]
     },
     "execution_count": 204,
     "metadata": {},
     "output_type": "execute_result"
    }
   ],
   "source": [
    "generate_text(lyricist, init_sentence=\"<start> look at the\", max_len=20)"
   ]
  },
  {
   "cell_type": "markdown",
   "id": "earned-reviewer",
   "metadata": {},
   "source": [
    "# 회고"
   ]
  },
  {
   "cell_type": "markdown",
   "id": "arctic-thing",
   "metadata": {},
   "source": [
    "1. 전처리에서 '를 잘 처리하는 방법을 고심했다. 결과적으로 어퍼스트로피를 잘 표현하는 모델을 갖게 된 것 같아 뿌듯하다.\n",
    "2. 5번 미만의 시도에서 운 좋게 val_loss가 2.2 미만인 모델(lyricist, val_loss=1.6)을 얻었다. 그럼에도 계속 여러 모델을 학습시켜 본 것은, lyricist를 학습할 당시 val_loss를 모니터하지 않아 기준을 성취한 것을 몰라서이며, 이것을 알게 된 것은 많은 수의 수작업 트라이얼과, ray라는 모듈을 새로 배워서 밤새 서치를 돌렸지만 원하는 결과를 얻지 못하고 bidirectional model의 val_loss가 좋게 나왔으나 뒤를 이미 아는 부분만 맞게 예측한 후 end 토큰을 빠르게 반환하는 전략임을 알고 포기하려는 마음을 먹은 후였다.\n",
    "3. 하이퍼파라미터 튜닝은 생각보다 매우 고되었고, bidirectional 모델의 경우 모든 것을 보고 아는 것을 적고 end를 출력하여 제대로 된 문장을 만들지 않는단 것은 놀라웠다. "
   ]
  }
 ],
 "metadata": {
  "kernelspec": {
   "display_name": "Python 3",
   "language": "python",
   "name": "python3"
  },
  "language_info": {
   "codemirror_mode": {
    "name": "ipython",
    "version": 3
   },
   "file_extension": ".py",
   "mimetype": "text/x-python",
   "name": "python",
   "nbconvert_exporter": "python",
   "pygments_lexer": "ipython3",
   "version": "3.7.9"
  }
 },
 "nbformat": 4,
 "nbformat_minor": 5
}
